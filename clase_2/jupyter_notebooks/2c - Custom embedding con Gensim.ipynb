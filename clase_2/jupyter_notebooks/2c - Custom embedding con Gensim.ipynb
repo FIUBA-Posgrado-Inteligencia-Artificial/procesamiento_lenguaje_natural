{
  "cells": [
    {
      "cell_type": "markdown",
      "metadata": {
        "id": "sZd5yLnnHOK0"
      },
      "source": [
        "<img src=\"https://github.com/hernancontigiani/ceia_memorias_especializacion/raw/master/Figures/logoFIUBA.jpg\" width=\"500\" align=\"center\">\n",
        "\n",
        "\n",
        "# Procesamiento de lenguaje natural\n",
        "## Custom embedddings con Gensim\n",
        "\n"
      ]
    },
    {
      "cell_type": "markdown",
      "metadata": {
        "id": "vA7nqkumo9z9"
      },
      "source": [
        "### Objetivo\n",
        "El objetivo es utilizar documentos / corpus para crear embeddings de palabras basado en ese contexto. Se utilizará canciones de bandas para generar los embeddings, es decir, que los vectores tendrán la forma en función de como esa banda haya utilizado las palabras en sus canciones."
      ]
    },
    {
      "cell_type": "code",
      "execution_count": 2,
      "metadata": {
        "id": "lFToQs5FK5uZ",
        "outputId": "30e805ba-ba54-4a24-c65a-1864434a9395",
        "colab": {
          "base_uri": "https://localhost:8080/"
        }
      },
      "outputs": [
        {
          "output_type": "stream",
          "name": "stdout",
          "text": [
            "Collecting gensim\n",
            "  Downloading gensim-4.4.0-cp312-cp312-manylinux_2_24_x86_64.manylinux_2_28_x86_64.whl.metadata (8.4 kB)\n",
            "Requirement already satisfied: numpy>=1.18.5 in /usr/local/lib/python3.12/dist-packages (from gensim) (2.0.2)\n",
            "Requirement already satisfied: scipy>=1.7.0 in /usr/local/lib/python3.12/dist-packages (from gensim) (1.16.2)\n",
            "Requirement already satisfied: smart_open>=1.8.1 in /usr/local/lib/python3.12/dist-packages (from gensim) (7.4.1)\n",
            "Requirement already satisfied: wrapt in /usr/local/lib/python3.12/dist-packages (from smart_open>=1.8.1->gensim) (2.0.0)\n",
            "Downloading gensim-4.4.0-cp312-cp312-manylinux_2_24_x86_64.manylinux_2_28_x86_64.whl (27.9 MB)\n",
            "\u001b[2K   \u001b[90m━━━━━━━━━━━━━━━━━━━━━━━━━━━━━━━━━━━━━━━━\u001b[0m \u001b[32m27.9/27.9 MB\u001b[0m \u001b[31m82.7 MB/s\u001b[0m eta \u001b[36m0:00:00\u001b[0m\n",
            "\u001b[?25hInstalling collected packages: gensim\n",
            "Successfully installed gensim-4.4.0\n"
          ]
        }
      ],
      "source": [
        "import pandas as pd\n",
        "import matplotlib.pyplot as plt\n",
        "import seaborn as sns\n",
        "\n",
        "import multiprocessing\n",
        "try:\n",
        "  from gensim.models import Word2Vec\n",
        "except:\n",
        "  !pip install gensim\n",
        "  from gensim.models import Word2Vec"
      ]
    },
    {
      "cell_type": "markdown",
      "metadata": {
        "id": "g07zJxG7H9vG"
      },
      "source": [
        "### Datos\n",
        "Utilizaremos como dataset canciones de bandas de habla inglesa."
      ]
    },
    {
      "cell_type": "code",
      "execution_count": 3,
      "metadata": {
        "id": "l7z4CSBfpR3X",
        "outputId": "4f8f0440-9e91-4dc1-a948-95b94916085b",
        "colab": {
          "base_uri": "https://localhost:8080/"
        }
      },
      "outputs": [
        {
          "output_type": "stream",
          "name": "stdout",
          "text": [
            "--2025-10-29 21:37:33--  http://songs_dataset.zip/\n",
            "Resolving songs_dataset.zip (songs_dataset.zip)... failed: Name or service not known.\n",
            "wget: unable to resolve host address ‘songs_dataset.zip’\n",
            "--2025-10-29 21:37:33--  https://github.com/FIUBA-Posgrado-Inteligencia-Artificial/procesamiento_lenguaje_natural/raw/main/datasets/songs_dataset.zip\n",
            "Resolving github.com (github.com)... 140.82.113.3\n",
            "Connecting to github.com (github.com)|140.82.113.3|:443... connected.\n",
            "HTTP request sent, awaiting response... 302 Found\n",
            "Location: https://raw.githubusercontent.com/FIUBA-Posgrado-Inteligencia-Artificial/procesamiento_lenguaje_natural/main/datasets/songs_dataset.zip [following]\n",
            "--2025-10-29 21:37:34--  https://raw.githubusercontent.com/FIUBA-Posgrado-Inteligencia-Artificial/procesamiento_lenguaje_natural/main/datasets/songs_dataset.zip\n",
            "Resolving raw.githubusercontent.com (raw.githubusercontent.com)... 185.199.108.133, 185.199.109.133, 185.199.110.133, ...\n",
            "Connecting to raw.githubusercontent.com (raw.githubusercontent.com)|185.199.108.133|:443... connected.\n",
            "HTTP request sent, awaiting response... 200 OK\n",
            "Length: 2075036 (2.0M) [application/zip]\n",
            "Saving to: ‘songs_dataset.zip’\n",
            "\n",
            "songs_dataset.zip   100%[===================>]   1.98M  --.-KB/s    in 0.08s   \n",
            "\n",
            "2025-10-29 21:37:34 (23.4 MB/s) - ‘songs_dataset.zip’ saved [2075036/2075036]\n",
            "\n",
            "FINISHED --2025-10-29 21:37:34--\n",
            "Total wall clock time: 1.0s\n",
            "Downloaded: 1 files, 2.0M in 0.08s (23.4 MB/s)\n"
          ]
        }
      ],
      "source": [
        "# Descargar la carpeta de dataset\n",
        "import os\n",
        "import platform\n",
        "if os.access('./songs_dataset', os.F_OK) is False:\n",
        "    if os.access('songs_dataset.zip', os.F_OK) is False:\n",
        "        if platform.system() == 'Windows':\n",
        "            !curl https://raw.githubusercontent.com/FIUBA-Posgrado-Inteligencia-Artificial/procesamiento_lenguaje_natural/main/datasets/songs_dataset.zip -o songs_dataset.zip\n",
        "        else:\n",
        "            !wget songs_dataset.zip https://github.com/FIUBA-Posgrado-Inteligencia-Artificial/procesamiento_lenguaje_natural/raw/main/datasets/songs_dataset.zip\n",
        "    !unzip -q songs_dataset.zip\n",
        "else:\n",
        "    print(\"El dataset ya se encuentra descargado\")"
      ]
    },
    {
      "cell_type": "code",
      "execution_count": 4,
      "metadata": {
        "id": "mysGrIw9ljC2",
        "outputId": "e54c7725-045d-4e61-c8d9-9e05de7b80e8",
        "colab": {
          "base_uri": "https://localhost:8080/"
        }
      },
      "outputs": [
        {
          "output_type": "execute_result",
          "data": {
            "text/plain": [
              "['dickinson.txt',\n",
              " 'nursery_rhymes.txt',\n",
              " 'lady-gaga.txt',\n",
              " 'alicia-keys.txt',\n",
              " 'blink-182.txt',\n",
              " 'kanye-west.txt',\n",
              " 'beatles.txt',\n",
              " 'dolly-parton.txt',\n",
              " 'dr-seuss.txt',\n",
              " 'drake.txt',\n",
              " 'britney-spears.txt',\n",
              " 'bjork.txt',\n",
              " 'lin-manuel-miranda.txt',\n",
              " 'lil-wayne.txt',\n",
              " 'nicki-minaj.txt',\n",
              " 'joni-mitchell.txt',\n",
              " 'rihanna.txt',\n",
              " 'r-kelly.txt',\n",
              " 'johnny-cash.txt',\n",
              " 'missy-elliott.txt',\n",
              " 'amy-winehouse.txt',\n",
              " 'Kanye_West.txt',\n",
              " 'nirvana.txt',\n",
              " 'bruce-springsteen.txt',\n",
              " 'eminem.txt',\n",
              " 'bob-dylan.txt',\n",
              " 'bob-marley.txt',\n",
              " 'disney.txt',\n",
              " 'bieber.txt',\n",
              " 'notorious-big.txt',\n",
              " 'paul-simon.txt',\n",
              " 'Lil_Wayne.txt',\n",
              " 'nickelback.txt',\n",
              " 'jimi-hendrix.txt',\n",
              " 'michael-jackson.txt',\n",
              " 'lorde.txt',\n",
              " 'prince.txt',\n",
              " 'patti-smith.txt',\n",
              " 'kanye.txt',\n",
              " 'notorious_big.txt',\n",
              " 'adele.txt',\n",
              " 'dj-khaled.txt',\n",
              " 'bruno-mars.txt',\n",
              " 'cake.txt',\n",
              " 'al-green.txt',\n",
              " 'radiohead.txt',\n",
              " 'janisjoplin.txt',\n",
              " 'ludacris.txt',\n",
              " 'leonard-cohen.txt']"
            ]
          },
          "metadata": {},
          "execution_count": 4
        }
      ],
      "source": [
        "# Posibles bandas\n",
        "os.listdir(\"./songs_dataset/\")"
      ]
    },
    {
      "cell_type": "code",
      "execution_count": 5,
      "metadata": {
        "id": "ticoqYD1Z3I7",
        "outputId": "781d982d-dccc-4f27-9753-6cf5bb01a2c3",
        "colab": {
          "base_uri": "https://localhost:8080/",
          "height": 262
        }
      },
      "outputs": [
        {
          "output_type": "stream",
          "name": "stderr",
          "text": [
            "/tmp/ipython-input-3849064916.py:2: ParserWarning: Falling back to the 'python' engine because the 'c' engine does not support regex separators (separators > 1 char and different from '\\s+' are interpreted as regex); you can avoid this warning by specifying engine='python'.\n",
            "  df = pd.read_csv('songs_dataset/beatles.txt', sep='/n', header=None)\n"
          ]
        },
        {
          "output_type": "execute_result",
          "data": {
            "text/plain": [
              "                                                   0\n",
              "0      Yesterday, all my troubles seemed so far away\n",
              "1        Now it looks as though they're here to stay\n",
              "2  Oh, I believe in yesterday Suddenly, I'm not h...\n",
              "3                  There's a shadow hanging over me.\n",
              "4  Oh, yesterday came suddenly Why she had to go ..."
            ],
            "text/html": [
              "\n",
              "  <div id=\"df-4b72eb26-8c6e-4e9f-896e-7b16129f2949\" class=\"colab-df-container\">\n",
              "    <div>\n",
              "<style scoped>\n",
              "    .dataframe tbody tr th:only-of-type {\n",
              "        vertical-align: middle;\n",
              "    }\n",
              "\n",
              "    .dataframe tbody tr th {\n",
              "        vertical-align: top;\n",
              "    }\n",
              "\n",
              "    .dataframe thead th {\n",
              "        text-align: right;\n",
              "    }\n",
              "</style>\n",
              "<table border=\"1\" class=\"dataframe\">\n",
              "  <thead>\n",
              "    <tr style=\"text-align: right;\">\n",
              "      <th></th>\n",
              "      <th>0</th>\n",
              "    </tr>\n",
              "  </thead>\n",
              "  <tbody>\n",
              "    <tr>\n",
              "      <th>0</th>\n",
              "      <td>Yesterday, all my troubles seemed so far away</td>\n",
              "    </tr>\n",
              "    <tr>\n",
              "      <th>1</th>\n",
              "      <td>Now it looks as though they're here to stay</td>\n",
              "    </tr>\n",
              "    <tr>\n",
              "      <th>2</th>\n",
              "      <td>Oh, I believe in yesterday Suddenly, I'm not h...</td>\n",
              "    </tr>\n",
              "    <tr>\n",
              "      <th>3</th>\n",
              "      <td>There's a shadow hanging over me.</td>\n",
              "    </tr>\n",
              "    <tr>\n",
              "      <th>4</th>\n",
              "      <td>Oh, yesterday came suddenly Why she had to go ...</td>\n",
              "    </tr>\n",
              "  </tbody>\n",
              "</table>\n",
              "</div>\n",
              "    <div class=\"colab-df-buttons\">\n",
              "\n",
              "  <div class=\"colab-df-container\">\n",
              "    <button class=\"colab-df-convert\" onclick=\"convertToInteractive('df-4b72eb26-8c6e-4e9f-896e-7b16129f2949')\"\n",
              "            title=\"Convert this dataframe to an interactive table.\"\n",
              "            style=\"display:none;\">\n",
              "\n",
              "  <svg xmlns=\"http://www.w3.org/2000/svg\" height=\"24px\" viewBox=\"0 -960 960 960\">\n",
              "    <path d=\"M120-120v-720h720v720H120Zm60-500h600v-160H180v160Zm220 220h160v-160H400v160Zm0 220h160v-160H400v160ZM180-400h160v-160H180v160Zm440 0h160v-160H620v160ZM180-180h160v-160H180v160Zm440 0h160v-160H620v160Z\"/>\n",
              "  </svg>\n",
              "    </button>\n",
              "\n",
              "  <style>\n",
              "    .colab-df-container {\n",
              "      display:flex;\n",
              "      gap: 12px;\n",
              "    }\n",
              "\n",
              "    .colab-df-convert {\n",
              "      background-color: #E8F0FE;\n",
              "      border: none;\n",
              "      border-radius: 50%;\n",
              "      cursor: pointer;\n",
              "      display: none;\n",
              "      fill: #1967D2;\n",
              "      height: 32px;\n",
              "      padding: 0 0 0 0;\n",
              "      width: 32px;\n",
              "    }\n",
              "\n",
              "    .colab-df-convert:hover {\n",
              "      background-color: #E2EBFA;\n",
              "      box-shadow: 0px 1px 2px rgba(60, 64, 67, 0.3), 0px 1px 3px 1px rgba(60, 64, 67, 0.15);\n",
              "      fill: #174EA6;\n",
              "    }\n",
              "\n",
              "    .colab-df-buttons div {\n",
              "      margin-bottom: 4px;\n",
              "    }\n",
              "\n",
              "    [theme=dark] .colab-df-convert {\n",
              "      background-color: #3B4455;\n",
              "      fill: #D2E3FC;\n",
              "    }\n",
              "\n",
              "    [theme=dark] .colab-df-convert:hover {\n",
              "      background-color: #434B5C;\n",
              "      box-shadow: 0px 1px 3px 1px rgba(0, 0, 0, 0.15);\n",
              "      filter: drop-shadow(0px 1px 2px rgba(0, 0, 0, 0.3));\n",
              "      fill: #FFFFFF;\n",
              "    }\n",
              "  </style>\n",
              "\n",
              "    <script>\n",
              "      const buttonEl =\n",
              "        document.querySelector('#df-4b72eb26-8c6e-4e9f-896e-7b16129f2949 button.colab-df-convert');\n",
              "      buttonEl.style.display =\n",
              "        google.colab.kernel.accessAllowed ? 'block' : 'none';\n",
              "\n",
              "      async function convertToInteractive(key) {\n",
              "        const element = document.querySelector('#df-4b72eb26-8c6e-4e9f-896e-7b16129f2949');\n",
              "        const dataTable =\n",
              "          await google.colab.kernel.invokeFunction('convertToInteractive',\n",
              "                                                    [key], {});\n",
              "        if (!dataTable) return;\n",
              "\n",
              "        const docLinkHtml = 'Like what you see? Visit the ' +\n",
              "          '<a target=\"_blank\" href=https://colab.research.google.com/notebooks/data_table.ipynb>data table notebook</a>'\n",
              "          + ' to learn more about interactive tables.';\n",
              "        element.innerHTML = '';\n",
              "        dataTable['output_type'] = 'display_data';\n",
              "        await google.colab.output.renderOutput(dataTable, element);\n",
              "        const docLink = document.createElement('div');\n",
              "        docLink.innerHTML = docLinkHtml;\n",
              "        element.appendChild(docLink);\n",
              "      }\n",
              "    </script>\n",
              "  </div>\n",
              "\n",
              "\n",
              "    <div id=\"df-83b4eafe-093b-4b6b-bed8-9b7ef44c2b72\">\n",
              "      <button class=\"colab-df-quickchart\" onclick=\"quickchart('df-83b4eafe-093b-4b6b-bed8-9b7ef44c2b72')\"\n",
              "                title=\"Suggest charts\"\n",
              "                style=\"display:none;\">\n",
              "\n",
              "<svg xmlns=\"http://www.w3.org/2000/svg\" height=\"24px\"viewBox=\"0 0 24 24\"\n",
              "     width=\"24px\">\n",
              "    <g>\n",
              "        <path d=\"M19 3H5c-1.1 0-2 .9-2 2v14c0 1.1.9 2 2 2h14c1.1 0 2-.9 2-2V5c0-1.1-.9-2-2-2zM9 17H7v-7h2v7zm4 0h-2V7h2v10zm4 0h-2v-4h2v4z\"/>\n",
              "    </g>\n",
              "</svg>\n",
              "      </button>\n",
              "\n",
              "<style>\n",
              "  .colab-df-quickchart {\n",
              "      --bg-color: #E8F0FE;\n",
              "      --fill-color: #1967D2;\n",
              "      --hover-bg-color: #E2EBFA;\n",
              "      --hover-fill-color: #174EA6;\n",
              "      --disabled-fill-color: #AAA;\n",
              "      --disabled-bg-color: #DDD;\n",
              "  }\n",
              "\n",
              "  [theme=dark] .colab-df-quickchart {\n",
              "      --bg-color: #3B4455;\n",
              "      --fill-color: #D2E3FC;\n",
              "      --hover-bg-color: #434B5C;\n",
              "      --hover-fill-color: #FFFFFF;\n",
              "      --disabled-bg-color: #3B4455;\n",
              "      --disabled-fill-color: #666;\n",
              "  }\n",
              "\n",
              "  .colab-df-quickchart {\n",
              "    background-color: var(--bg-color);\n",
              "    border: none;\n",
              "    border-radius: 50%;\n",
              "    cursor: pointer;\n",
              "    display: none;\n",
              "    fill: var(--fill-color);\n",
              "    height: 32px;\n",
              "    padding: 0;\n",
              "    width: 32px;\n",
              "  }\n",
              "\n",
              "  .colab-df-quickchart:hover {\n",
              "    background-color: var(--hover-bg-color);\n",
              "    box-shadow: 0 1px 2px rgba(60, 64, 67, 0.3), 0 1px 3px 1px rgba(60, 64, 67, 0.15);\n",
              "    fill: var(--button-hover-fill-color);\n",
              "  }\n",
              "\n",
              "  .colab-df-quickchart-complete:disabled,\n",
              "  .colab-df-quickchart-complete:disabled:hover {\n",
              "    background-color: var(--disabled-bg-color);\n",
              "    fill: var(--disabled-fill-color);\n",
              "    box-shadow: none;\n",
              "  }\n",
              "\n",
              "  .colab-df-spinner {\n",
              "    border: 2px solid var(--fill-color);\n",
              "    border-color: transparent;\n",
              "    border-bottom-color: var(--fill-color);\n",
              "    animation:\n",
              "      spin 1s steps(1) infinite;\n",
              "  }\n",
              "\n",
              "  @keyframes spin {\n",
              "    0% {\n",
              "      border-color: transparent;\n",
              "      border-bottom-color: var(--fill-color);\n",
              "      border-left-color: var(--fill-color);\n",
              "    }\n",
              "    20% {\n",
              "      border-color: transparent;\n",
              "      border-left-color: var(--fill-color);\n",
              "      border-top-color: var(--fill-color);\n",
              "    }\n",
              "    30% {\n",
              "      border-color: transparent;\n",
              "      border-left-color: var(--fill-color);\n",
              "      border-top-color: var(--fill-color);\n",
              "      border-right-color: var(--fill-color);\n",
              "    }\n",
              "    40% {\n",
              "      border-color: transparent;\n",
              "      border-right-color: var(--fill-color);\n",
              "      border-top-color: var(--fill-color);\n",
              "    }\n",
              "    60% {\n",
              "      border-color: transparent;\n",
              "      border-right-color: var(--fill-color);\n",
              "    }\n",
              "    80% {\n",
              "      border-color: transparent;\n",
              "      border-right-color: var(--fill-color);\n",
              "      border-bottom-color: var(--fill-color);\n",
              "    }\n",
              "    90% {\n",
              "      border-color: transparent;\n",
              "      border-bottom-color: var(--fill-color);\n",
              "    }\n",
              "  }\n",
              "</style>\n",
              "\n",
              "      <script>\n",
              "        async function quickchart(key) {\n",
              "          const quickchartButtonEl =\n",
              "            document.querySelector('#' + key + ' button');\n",
              "          quickchartButtonEl.disabled = true;  // To prevent multiple clicks.\n",
              "          quickchartButtonEl.classList.add('colab-df-spinner');\n",
              "          try {\n",
              "            const charts = await google.colab.kernel.invokeFunction(\n",
              "                'suggestCharts', [key], {});\n",
              "          } catch (error) {\n",
              "            console.error('Error during call to suggestCharts:', error);\n",
              "          }\n",
              "          quickchartButtonEl.classList.remove('colab-df-spinner');\n",
              "          quickchartButtonEl.classList.add('colab-df-quickchart-complete');\n",
              "        }\n",
              "        (() => {\n",
              "          let quickchartButtonEl =\n",
              "            document.querySelector('#df-83b4eafe-093b-4b6b-bed8-9b7ef44c2b72 button');\n",
              "          quickchartButtonEl.style.display =\n",
              "            google.colab.kernel.accessAllowed ? 'block' : 'none';\n",
              "        })();\n",
              "      </script>\n",
              "    </div>\n",
              "\n",
              "    </div>\n",
              "  </div>\n"
            ],
            "application/vnd.google.colaboratory.intrinsic+json": {
              "type": "dataframe",
              "variable_name": "df",
              "summary": "{\n  \"name\": \"df\",\n  \"rows\": 1846,\n  \"fields\": [\n    {\n      \"column\": 0,\n      \"properties\": {\n        \"dtype\": \"string\",\n        \"num_unique_values\": 1380,\n        \"samples\": [\n          \"I just need someone to love\",\n          \"Well it's my birthday too--yeah\",\n          \"Yes, you can radiate everything you are\"\n        ],\n        \"semantic_type\": \"\",\n        \"description\": \"\"\n      }\n    }\n  ]\n}"
            }
          },
          "metadata": {},
          "execution_count": 5
        }
      ],
      "source": [
        "# Armar el dataset utilizando salto de línea para separar las oraciones/docs\n",
        "df = pd.read_csv('songs_dataset/beatles.txt', sep='/n', header=None)\n",
        "df.head()"
      ]
    },
    {
      "cell_type": "code",
      "execution_count": 6,
      "metadata": {
        "id": "LEpKubK9XzXN",
        "outputId": "9e9b3484-8793-4438-ffdd-06f0cfb5f6bb",
        "colab": {
          "base_uri": "https://localhost:8080/"
        }
      },
      "outputs": [
        {
          "output_type": "stream",
          "name": "stdout",
          "text": [
            "Cantidad de documentos: 1846\n"
          ]
        }
      ],
      "source": [
        "print(\"Cantidad de documentos:\", df.shape[0])"
      ]
    },
    {
      "cell_type": "markdown",
      "metadata": {
        "id": "ab94qaFlrA1G"
      },
      "source": [
        "### 1 - Preprocesamiento"
      ]
    },
    {
      "cell_type": "code",
      "execution_count": 7,
      "metadata": {
        "id": "rIsmMWmjrDHd"
      },
      "outputs": [],
      "source": [
        "from tensorflow.keras.preprocessing.text import text_to_word_sequence\n",
        "\n",
        "sentence_tokens = []\n",
        "# Recorrer todas las filas y transformar las oraciones\n",
        "# en una secuencia de palabras (esto podría realizarse con NLTK o spaCy también)\n",
        "for _, row in df[:None].iterrows():\n",
        "    sentence_tokens.append(text_to_word_sequence(row[0]))"
      ]
    },
    {
      "cell_type": "code",
      "execution_count": 8,
      "metadata": {
        "id": "CHepi_DGrbhq",
        "outputId": "f1dcbe71-48d6-4104-cf95-22d20bccbbed",
        "colab": {
          "base_uri": "https://localhost:8080/"
        }
      },
      "outputs": [
        {
          "output_type": "execute_result",
          "data": {
            "text/plain": [
              "[['yesterday', 'all', 'my', 'troubles', 'seemed', 'so', 'far', 'away'],\n",
              " ['now', 'it', 'looks', 'as', 'though', \"they're\", 'here', 'to', 'stay']]"
            ]
          },
          "metadata": {},
          "execution_count": 8
        }
      ],
      "source": [
        "# Demos un vistazo\n",
        "sentence_tokens[:2]"
      ]
    },
    {
      "cell_type": "markdown",
      "metadata": {
        "id": "BaXV6nlHr5Aa"
      },
      "source": [
        "### 2 - Crear los vectores (word2vec)"
      ]
    },
    {
      "cell_type": "code",
      "execution_count": 9,
      "metadata": {
        "id": "OSb0v7h8r7hK"
      },
      "outputs": [],
      "source": [
        "from gensim.models.callbacks import CallbackAny2Vec\n",
        "# Durante el entrenamiento gensim por defecto no informa el \"loss\" en cada época\n",
        "# Sobrecargamos el callback para poder tener esta información\n",
        "class callback(CallbackAny2Vec):\n",
        "    \"\"\"\n",
        "    Callback to print loss after each epoch\n",
        "    \"\"\"\n",
        "    def __init__(self):\n",
        "        self.epoch = 0\n",
        "\n",
        "    def on_epoch_end(self, model):\n",
        "        loss = model.get_latest_training_loss()\n",
        "        if self.epoch == 0:\n",
        "            print('Loss after epoch {}: {}'.format(self.epoch, loss))\n",
        "        else:\n",
        "            print('Loss after epoch {}: {}'.format(self.epoch, loss- self.loss_previous_step))\n",
        "        self.epoch += 1\n",
        "        self.loss_previous_step = loss"
      ]
    },
    {
      "cell_type": "code",
      "execution_count": 11,
      "metadata": {
        "id": "i0wnDdv9sJ47"
      },
      "outputs": [],
      "source": [
        "# Crearmos el modelo generador de vectores\n",
        "# En este caso utilizaremos la estructura modelo Skipgram\n",
        "w2v_model = Word2Vec(min_count=5,    # frecuencia mínima de palabra para incluirla en el vocabulario\n",
        "                     window=2,       # cant de palabras antes y desp de la predicha\n",
        "                     vector_size=300,       # dimensionalidad de los vectores\n",
        "                     negative=20,    # cantidad de negative samples... 0 es no se usa\n",
        "                     workers=1,      # si tienen más cores pueden cambiar este valor\n",
        "                     sg=1)           # modelo 0:CBOW  1:skipgram"
      ]
    },
    {
      "cell_type": "code",
      "execution_count": 12,
      "metadata": {
        "id": "5lTt8wErsf17"
      },
      "outputs": [],
      "source": [
        "# Obtener el vocabulario con los tokens\n",
        "w2v_model.build_vocab(sentence_tokens)"
      ]
    },
    {
      "cell_type": "code",
      "execution_count": 13,
      "metadata": {
        "id": "TNc9qt4os5AT",
        "outputId": "ebeee5db-aa86-4b51-80ae-150ac992767a",
        "colab": {
          "base_uri": "https://localhost:8080/"
        }
      },
      "outputs": [
        {
          "output_type": "stream",
          "name": "stdout",
          "text": [
            "Cantidad de docs en el corpus: 1846\n"
          ]
        }
      ],
      "source": [
        "# Cantidad de filas/docs encontradas en el corpus\n",
        "print(\"Cantidad de docs en el corpus:\", w2v_model.corpus_count)"
      ]
    },
    {
      "cell_type": "code",
      "execution_count": 14,
      "metadata": {
        "id": "idw9cHF3tSMl",
        "outputId": "946a5059-b412-4d90-ebaa-5cd17ca530f3",
        "colab": {
          "base_uri": "https://localhost:8080/"
        }
      },
      "outputs": [
        {
          "output_type": "stream",
          "name": "stdout",
          "text": [
            "Cantidad de words distintas en el corpus: 445\n"
          ]
        }
      ],
      "source": [
        "# Cantidad de words encontradas en el corpus\n",
        "print(\"Cantidad de words distintas en el corpus:\", len(w2v_model.wv.index_to_key))"
      ]
    },
    {
      "cell_type": "markdown",
      "metadata": {
        "id": "fC9mZ8DPk-UC"
      },
      "source": [
        "### 3 - Entrenar embeddings"
      ]
    },
    {
      "cell_type": "code",
      "execution_count": 15,
      "metadata": {
        "id": "QSp-x0PAsq56",
        "outputId": "8e5f8a9a-2365-448a-8354-c78e043bf9a5",
        "colab": {
          "base_uri": "https://localhost:8080/"
        }
      },
      "outputs": [
        {
          "output_type": "stream",
          "name": "stdout",
          "text": [
            "Loss after epoch 0: 113045.25\n",
            "Loss after epoch 1: 65966.59375\n",
            "Loss after epoch 2: 65934.984375\n",
            "Loss after epoch 3: 65718.390625\n",
            "Loss after epoch 4: 63875.09375\n",
            "Loss after epoch 5: 64160.65625\n",
            "Loss after epoch 6: 64080.21875\n",
            "Loss after epoch 7: 64814.875\n",
            "Loss after epoch 8: 62632.75\n",
            "Loss after epoch 9: 60452.875\n",
            "Loss after epoch 10: 59839.875\n",
            "Loss after epoch 11: 58884.375\n",
            "Loss after epoch 12: 57715.75\n",
            "Loss after epoch 13: 56494.3125\n",
            "Loss after epoch 14: 55817.5\n",
            "Loss after epoch 15: 55842.9375\n",
            "Loss after epoch 16: 51722.4375\n",
            "Loss after epoch 17: 49858.0\n",
            "Loss after epoch 18: 49592.25\n",
            "Loss after epoch 19: 48960.125\n"
          ]
        },
        {
          "output_type": "execute_result",
          "data": {
            "text/plain": [
              "(156986, 287740)"
            ]
          },
          "metadata": {},
          "execution_count": 15
        }
      ],
      "source": [
        "# Entrenamos el modelo generador de vectores\n",
        "# Utilizamos nuestro callback\n",
        "w2v_model.train(sentence_tokens,\n",
        "                 total_examples=w2v_model.corpus_count,\n",
        "                 epochs=20,\n",
        "                 compute_loss = True,\n",
        "                 callbacks=[callback()]\n",
        "                 )"
      ]
    },
    {
      "cell_type": "markdown",
      "metadata": {
        "id": "ddT9NVuNlCAe"
      },
      "source": [
        "### 4 - Ensayar"
      ]
    },
    {
      "cell_type": "code",
      "execution_count": 16,
      "metadata": {
        "id": "6cHN9xGLuPEm",
        "outputId": "7ea6e4d9-6602-4cee-b9ff-45ea9f10adf7",
        "colab": {
          "base_uri": "https://localhost:8080/"
        }
      },
      "outputs": [
        {
          "output_type": "execute_result",
          "data": {
            "text/plain": [
              "[('pretty', 0.8954247832298279),\n",
              " ('sleep', 0.8665655851364136),\n",
              " ('help', 0.8439376354217529),\n",
              " ('cry', 0.8351269960403442),\n",
              " ('not', 0.8309612274169922),\n",
              " ('try', 0.8276943564414978),\n",
              " ('peace', 0.8144856691360474),\n",
              " ('little', 0.8140572309494019),\n",
              " ('twist', 0.8123919367790222),\n",
              " ('seems', 0.8079564571380615)]"
            ]
          },
          "metadata": {},
          "execution_count": 16
        }
      ],
      "source": [
        "# Palabras que MÁS se relacionan con...:\n",
        "w2v_model.wv.most_similar(positive=[\"darling\"], topn=10)"
      ]
    },
    {
      "cell_type": "code",
      "execution_count": 17,
      "metadata": {
        "id": "47HiU5gdkdMq",
        "outputId": "188f30a5-e410-4529-ae48-2b69b237758c",
        "colab": {
          "base_uri": "https://localhost:8080/"
        }
      },
      "outputs": [
        {
          "output_type": "execute_result",
          "data": {
            "text/plain": [
              "[('shake', -0.22873197495937347),\n",
              " ('four', -0.2330218255519867),\n",
              " ('five', -0.23746445775032043),\n",
              " ('six', -0.23784494400024414),\n",
              " ('bang', -0.24832050502300262),\n",
              " ('our', -0.25539135932922363),\n",
              " ('day', -0.2689811885356903),\n",
              " ('going', -0.2692062556743622),\n",
              " ('here', -0.26990723609924316),\n",
              " ('three', -0.2838989198207855)]"
            ]
          },
          "metadata": {},
          "execution_count": 17
        }
      ],
      "source": [
        "# Palabras que MENOS se relacionan con...:\n",
        "w2v_model.wv.most_similar(negative=[\"love\"], topn=10)"
      ]
    },
    {
      "cell_type": "code",
      "execution_count": 18,
      "metadata": {
        "id": "DT4Rvno2mD65",
        "outputId": "3e999406-c06d-4824-b12a-52015f7415ad",
        "colab": {
          "base_uri": "https://localhost:8080/"
        }
      },
      "outputs": [
        {
          "output_type": "execute_result",
          "data": {
            "text/plain": [
              "[('five', 0.9813723564147949),\n",
              " ('three', 0.9745770692825317),\n",
              " ('six', 0.9710808992385864),\n",
              " ('seven', 0.9584357738494873),\n",
              " ('two', 0.9517216682434082),\n",
              " ('sixty', 0.8990395665168762),\n",
              " ('one', 0.7951181530952454),\n",
              " ('crying', 0.7946289777755737),\n",
              " ('us', 0.7740051746368408),\n",
              " (\"i'm\", 0.7508383393287659)]"
            ]
          },
          "metadata": {},
          "execution_count": 18
        }
      ],
      "source": [
        "# Palabras que MÁS se relacionan con...:\n",
        "w2v_model.wv.most_similar(positive=[\"four\"], topn=10)"
      ]
    },
    {
      "cell_type": "code",
      "execution_count": 19,
      "metadata": {
        "id": "XPLDPgzBmQXt",
        "outputId": "2aacd028-3f12-4643-91a4-5f7e28c7e6f8",
        "colab": {
          "base_uri": "https://localhost:8080/"
        }
      },
      "outputs": [
        {
          "output_type": "execute_result",
          "data": {
            "text/plain": [
              "[(\"can't\", 0.9434017539024353),\n",
              " ('buy', 0.9396998882293701),\n",
              " ('much', 0.9033146500587463),\n",
              " ('just', 0.8509082198143005),\n",
              " ('hide', 0.835538387298584)]"
            ]
          },
          "metadata": {},
          "execution_count": 19
        }
      ],
      "source": [
        "# Palabras que MÁS se relacionan con...:\n",
        "w2v_model.wv.most_similar(positive=[\"money\"], topn=5)"
      ]
    },
    {
      "cell_type": "code",
      "execution_count": 20,
      "metadata": {
        "id": "L_UvHPMMklOr",
        "outputId": "d8a18acc-1e0a-457f-eab7-cd957f4b5e76",
        "colab": {
          "base_uri": "https://localhost:8080/",
          "height": 332
        }
      },
      "outputs": [
        {
          "output_type": "error",
          "ename": "KeyError",
          "evalue": "\"Key 'diedaa' not present in vocabulary\"",
          "traceback": [
            "\u001b[0;31m---------------------------------------------------------------------------\u001b[0m",
            "\u001b[0;31mKeyError\u001b[0m                                  Traceback (most recent call last)",
            "\u001b[0;32m/tmp/ipython-input-2157908128.py\u001b[0m in \u001b[0;36m<cell line: 0>\u001b[0;34m()\u001b[0m\n\u001b[1;32m      1\u001b[0m \u001b[0;31m# Ensayar con una palabra que no está en el vocabulario:\u001b[0m\u001b[0;34m\u001b[0m\u001b[0;34m\u001b[0m\u001b[0m\n\u001b[0;32m----> 2\u001b[0;31m \u001b[0mw2v_model\u001b[0m\u001b[0;34m.\u001b[0m\u001b[0mwv\u001b[0m\u001b[0;34m.\u001b[0m\u001b[0mmost_similar\u001b[0m\u001b[0;34m(\u001b[0m\u001b[0mnegative\u001b[0m\u001b[0;34m=\u001b[0m\u001b[0;34m[\u001b[0m\u001b[0;34m\"diedaa\"\u001b[0m\u001b[0;34m]\u001b[0m\u001b[0;34m)\u001b[0m\u001b[0;34m\u001b[0m\u001b[0;34m\u001b[0m\u001b[0m\n\u001b[0m",
            "\u001b[0;32m/usr/local/lib/python3.12/dist-packages/gensim/models/keyedvectors.py\u001b[0m in \u001b[0;36mmost_similar\u001b[0;34m(self, positive, negative, topn, clip_start, clip_end, restrict_vocab, indexer)\u001b[0m\n\u001b[1;32m    841\u001b[0m \u001b[0;34m\u001b[0m\u001b[0m\n\u001b[1;32m    842\u001b[0m         \u001b[0;31m# compute the weighted average of all keys\u001b[0m\u001b[0;34m\u001b[0m\u001b[0;34m\u001b[0m\u001b[0m\n\u001b[0;32m--> 843\u001b[0;31m         \u001b[0mmean\u001b[0m \u001b[0;34m=\u001b[0m \u001b[0mself\u001b[0m\u001b[0;34m.\u001b[0m\u001b[0mget_mean_vector\u001b[0m\u001b[0;34m(\u001b[0m\u001b[0mkeys\u001b[0m\u001b[0;34m,\u001b[0m \u001b[0mweight\u001b[0m\u001b[0;34m,\u001b[0m \u001b[0mpre_normalize\u001b[0m\u001b[0;34m=\u001b[0m\u001b[0;32mTrue\u001b[0m\u001b[0;34m,\u001b[0m \u001b[0mpost_normalize\u001b[0m\u001b[0;34m=\u001b[0m\u001b[0;32mTrue\u001b[0m\u001b[0;34m,\u001b[0m \u001b[0mignore_missing\u001b[0m\u001b[0;34m=\u001b[0m\u001b[0;32mFalse\u001b[0m\u001b[0;34m)\u001b[0m\u001b[0;34m\u001b[0m\u001b[0;34m\u001b[0m\u001b[0m\n\u001b[0m\u001b[1;32m    844\u001b[0m         all_keys = [\n\u001b[1;32m    845\u001b[0m             \u001b[0mself\u001b[0m\u001b[0;34m.\u001b[0m\u001b[0mget_index\u001b[0m\u001b[0;34m(\u001b[0m\u001b[0mkey\u001b[0m\u001b[0;34m)\u001b[0m \u001b[0;32mfor\u001b[0m \u001b[0mkey\u001b[0m \u001b[0;32min\u001b[0m \u001b[0mkeys\u001b[0m \u001b[0;32mif\u001b[0m \u001b[0misinstance\u001b[0m\u001b[0;34m(\u001b[0m\u001b[0mkey\u001b[0m\u001b[0;34m,\u001b[0m \u001b[0m_KEY_TYPES\u001b[0m\u001b[0;34m)\u001b[0m \u001b[0;32mand\u001b[0m \u001b[0mself\u001b[0m\u001b[0;34m.\u001b[0m\u001b[0mhas_index_for\u001b[0m\u001b[0;34m(\u001b[0m\u001b[0mkey\u001b[0m\u001b[0;34m)\u001b[0m\u001b[0;34m\u001b[0m\u001b[0;34m\u001b[0m\u001b[0m\n",
            "\u001b[0;32m/usr/local/lib/python3.12/dist-packages/gensim/models/keyedvectors.py\u001b[0m in \u001b[0;36mget_mean_vector\u001b[0;34m(self, keys, weights, pre_normalize, post_normalize, ignore_missing)\u001b[0m\n\u001b[1;32m    516\u001b[0m                 \u001b[0mtotal_weight\u001b[0m \u001b[0;34m+=\u001b[0m \u001b[0mabs\u001b[0m\u001b[0;34m(\u001b[0m\u001b[0mweights\u001b[0m\u001b[0;34m[\u001b[0m\u001b[0midx\u001b[0m\u001b[0;34m]\u001b[0m\u001b[0;34m)\u001b[0m\u001b[0;34m\u001b[0m\u001b[0;34m\u001b[0m\u001b[0m\n\u001b[1;32m    517\u001b[0m             \u001b[0;32melif\u001b[0m \u001b[0;32mnot\u001b[0m \u001b[0mignore_missing\u001b[0m\u001b[0;34m:\u001b[0m\u001b[0;34m\u001b[0m\u001b[0;34m\u001b[0m\u001b[0m\n\u001b[0;32m--> 518\u001b[0;31m                 \u001b[0;32mraise\u001b[0m \u001b[0mKeyError\u001b[0m\u001b[0;34m(\u001b[0m\u001b[0;34mf\"Key '{key}' not present in vocabulary\"\u001b[0m\u001b[0;34m)\u001b[0m\u001b[0;34m\u001b[0m\u001b[0;34m\u001b[0m\u001b[0m\n\u001b[0m\u001b[1;32m    519\u001b[0m \u001b[0;34m\u001b[0m\u001b[0m\n\u001b[1;32m    520\u001b[0m         \u001b[0;32mif\u001b[0m \u001b[0mtotal_weight\u001b[0m \u001b[0;34m>\u001b[0m \u001b[0;36m0\u001b[0m\u001b[0;34m:\u001b[0m\u001b[0;34m\u001b[0m\u001b[0;34m\u001b[0m\u001b[0m\n",
            "\u001b[0;31mKeyError\u001b[0m: \"Key 'diedaa' not present in vocabulary\""
          ]
        }
      ],
      "source": [
        "# Ensayar con una palabra que no está en el vocabulario:\n",
        "w2v_model.wv.most_similar(negative=[\"diedaa\"])"
      ]
    },
    {
      "cell_type": "code",
      "execution_count": 21,
      "metadata": {
        "id": "XFav6Js45g9H",
        "outputId": "f411c896-8925-448b-b261-44fbf2b21235",
        "colab": {
          "base_uri": "https://localhost:8080/"
        }
      },
      "outputs": [
        {
          "output_type": "stream",
          "name": "stdout",
          "text": [
            "[ 0.06138203  0.05881222 -0.06370417  0.02444947 -0.20152196 -0.18612292\n",
            " -0.15284595  0.4548753  -0.04217871  0.03536078  0.13657516 -0.18520005\n",
            " -0.1812647   0.22149836 -0.3038084  -0.23970386  0.07094695 -0.05679139\n",
            " -0.05166207 -0.23843557 -0.08530281  0.19564727 -0.07678778  0.03797247\n",
            "  0.07517307 -0.04826551  0.07379535  0.10396848  0.00738022 -0.22764729\n",
            " -0.0456724   0.12937619  0.27785638  0.19387618 -0.13509148  0.20857106\n",
            "  0.40917322 -0.00387122 -0.1063128  -0.09056759  0.02400028 -0.0800491\n",
            "  0.13400665  0.08833536 -0.01894405  0.08592905 -0.15905626  0.10259357\n",
            "  0.14459287 -0.12092585 -0.27919102 -0.04061577  0.11382084  0.31365854\n",
            " -0.07409792  0.13976744  0.22791271  0.13209458 -0.01811365  0.09772275\n",
            "  0.09249583 -0.14871688 -0.16348091 -0.13203284 -0.09834065  0.02714608\n",
            "  0.16531324  0.26051944 -0.0325964  -0.02894551  0.11621328 -0.06974234\n",
            "  0.09563565 -0.15276384  0.22071053  0.15996666  0.1589048  -0.04711676\n",
            " -0.12555045 -0.03993924 -0.10795183  0.01878959  0.07942124  0.34879833\n",
            " -0.02214415  0.3233076   0.04057807 -0.24566343  0.14890729  0.13488415\n",
            "  0.11821875 -0.13103335 -0.28112024 -0.31304023  0.05580726  0.08006555\n",
            "  0.11109675  0.02327608  0.05351056  0.20765461 -0.08124643 -0.19147407\n",
            " -0.01793355  0.048907    0.2308668  -0.00614561  0.01953678  0.11098135\n",
            " -0.06142262 -0.22987115 -0.17600276 -0.20556891 -0.11861356  0.09333313\n",
            " -0.23517595  0.25359598 -0.16117361  0.0602599   0.09887169 -0.5829901\n",
            "  0.00724348  0.23316741  0.22045265  0.0342337  -0.04971193  0.1515798\n",
            "  0.0832576  -0.13682415 -0.06825238  0.19666238  0.27748665 -0.02523657\n",
            " -0.03128975 -0.1599314   0.02471448  0.22209439  0.05201944  0.10530993\n",
            " -0.23909403 -0.25145733  0.01131646 -0.14372851 -0.32099256  0.27135515\n",
            "  0.14667301  0.18313828 -0.11153784 -0.0851578   0.08826719 -0.04482884\n",
            "  0.16649827 -0.5295468   0.07143056  0.1253675   0.21447077  0.30574638\n",
            "  0.06148923  0.288944   -0.17223027  0.3990634   0.0334916   0.08092905\n",
            " -0.24866794  0.16260874  0.0290168  -0.1172182  -0.10034036  0.25069234\n",
            "  0.23967442  0.23137286  0.1232954   0.04290587  0.32442677  0.01233311\n",
            "  0.14497776 -0.43953001  0.08378442 -0.28836527  0.2919967   0.07216381\n",
            " -0.12379702 -0.11698695 -0.19497444 -0.1810102  -0.4433448  -0.02280738\n",
            " -0.04473806  0.16967884 -0.0665075  -0.1419308   0.3488471   0.13514732\n",
            "  0.00061413  0.01460616  0.00322914  0.05395991 -0.2145357  -0.09381361\n",
            " -0.11262733 -0.09260465 -0.12894332  0.19303942  0.20023058 -0.08468139\n",
            "  0.20608144  0.16128154  0.05043991 -0.04781725 -0.21619092 -0.02468748\n",
            " -0.06857809 -0.52142227  0.01152639 -0.05882997  0.37418032 -0.17563051\n",
            " -0.23861562 -0.02913571  0.0823677  -0.3074315   0.03371374  0.15768106\n",
            " -0.07156099 -0.07646704  0.1813672   0.06460498 -0.03272477 -0.09002725\n",
            "  0.01040716  0.05568448  0.02747962  0.06353188 -0.20424627 -0.18004414\n",
            " -0.3857168   0.10417798 -0.25270224 -0.00165783  0.06606911 -0.49537712\n",
            "  0.1386918  -0.1155794  -0.04047472  0.0692965   0.27618504 -0.06394669\n",
            " -0.01398115 -0.19348331 -0.03739303 -0.07599343 -0.00319585  0.0709094\n",
            " -0.12851958 -0.21719669 -0.03141374 -0.18974316  0.31657553  0.18178432\n",
            " -0.13626866 -0.09996306  0.04660111 -0.23132615  0.1674877  -0.06614177\n",
            " -0.12573849  0.21799514  0.16387579  0.12377816  0.05298126  0.04266703\n",
            "  0.08375931  0.21581979  0.14439566  0.34071818  0.12332153 -0.01364148\n",
            "  0.24051629  0.32695204 -0.04625446  0.05636312 -0.00718155  0.01655099\n",
            "  0.10987958 -0.12641309  0.18945263  0.2682195   0.14855182  0.12106213\n",
            "  0.25917947  0.06298868 -0.14909424  0.12387699  0.37040105 -0.04566706\n",
            "  0.12952782  0.2969631  -0.1309211  -0.13825272 -0.01772066 -0.2070959 ]\n"
          ]
        }
      ],
      "source": [
        "# el método `get_vector` permite obtener los vectores:\n",
        "vector_love = w2v_model.wv.get_vector(\"love\")\n",
        "print(vector_love)"
      ]
    },
    {
      "cell_type": "code",
      "execution_count": 22,
      "metadata": {
        "id": "vBM3Ee4U5g9H",
        "outputId": "c332b198-2a5b-454d-a855-8eeb304284e5",
        "colab": {
          "base_uri": "https://localhost:8080/"
        }
      },
      "outputs": [
        {
          "output_type": "execute_result",
          "data": {
            "text/plain": [
              "[('love', 0.9999999403953552),\n",
              " ('babe', 0.9085132479667664),\n",
              " ('someone', 0.8886148929595947),\n",
              " ('need', 0.8827974200248718),\n",
              " ('nothing', 0.8740269541740417),\n",
              " (\"didn't\", 0.8638361096382141),\n",
              " (\"there's\", 0.8526672720909119),\n",
              " ('you', 0.8456704616546631),\n",
              " ('feed', 0.8445017337799072),\n",
              " ('somebody', 0.8362804651260376)]"
            ]
          },
          "metadata": {},
          "execution_count": 22
        }
      ],
      "source": [
        "# el método `most_similar` también permite comparar a partir de vectores\n",
        "w2v_model.wv.most_similar(vector_love)"
      ]
    },
    {
      "cell_type": "code",
      "execution_count": 23,
      "metadata": {
        "id": "9B6tIQNC5g9H",
        "outputId": "37685049-b640-4834-fc89-f9a4a3d67a11",
        "colab": {
          "base_uri": "https://localhost:8080/"
        }
      },
      "outputs": [
        {
          "output_type": "execute_result",
          "data": {
            "text/plain": [
              "[('babe', 0.9085132479667664),\n",
              " ('someone', 0.8886148929595947),\n",
              " ('need', 0.8827974200248718),\n",
              " ('nothing', 0.8740269541740417),\n",
              " (\"didn't\", 0.8638360500335693),\n",
              " (\"there's\", 0.8526672720909119),\n",
              " ('you', 0.8456703424453735),\n",
              " ('feed', 0.8445016741752625),\n",
              " ('somebody', 0.8362804651260376),\n",
              " ('buy', 0.8351694941520691)]"
            ]
          },
          "metadata": {},
          "execution_count": 23
        }
      ],
      "source": [
        "# Palabras que MÁS se relacionan con...:\n",
        "w2v_model.wv.most_similar(positive=[\"love\"], topn=10)"
      ]
    },
    {
      "cell_type": "markdown",
      "metadata": {
        "id": "_g8UVWe6lFmh"
      },
      "source": [
        "### 5 - Visualizar agrupación de vectores"
      ]
    },
    {
      "cell_type": "code",
      "execution_count": 24,
      "metadata": {
        "id": "pDxEVXAivjr9"
      },
      "outputs": [],
      "source": [
        "from sklearn.decomposition import IncrementalPCA\n",
        "from sklearn.manifold import TSNE\n",
        "import numpy as np\n",
        "\n",
        "def reduce_dimensions(model, num_dimensions = 2 ):\n",
        "\n",
        "    vectors = np.asarray(model.wv.vectors)\n",
        "    labels = np.asarray(model.wv.index_to_key)\n",
        "\n",
        "    tsne = TSNE(n_components=num_dimensions, random_state=0)\n",
        "    vectors = tsne.fit_transform(vectors)\n",
        "\n",
        "    return vectors, labels"
      ]
    },
    {
      "cell_type": "code",
      "execution_count": 25,
      "metadata": {
        "id": "NCCXtDpcugmd",
        "outputId": "2a6e9b2e-fc3b-46e6-9f9c-f4a872632ed0",
        "colab": {
          "base_uri": "https://localhost:8080/",
          "height": 542
        }
      },
      "outputs": [
        {
          "output_type": "display_data",
          "data": {
            "text/html": [
              "<html>\n",
              "<head><meta charset=\"utf-8\" /></head>\n",
              "<body>\n",
              "    <div>            <script src=\"https://cdnjs.cloudflare.com/ajax/libs/mathjax/2.7.5/MathJax.js?config=TeX-AMS-MML_SVG\"></script><script type=\"text/javascript\">if (window.MathJax && window.MathJax.Hub && window.MathJax.Hub.Config) {window.MathJax.Hub.Config({SVG: {font: \"STIX-Web\"}});}</script>                <script type=\"text/javascript\">window.PlotlyConfig = {MathJaxConfig: 'local'};</script>\n",
              "        <script charset=\"utf-8\" src=\"https://cdn.plot.ly/plotly-2.35.2.min.js\"></script>                <div id=\"2a59445e-5632-4f70-9879-6ba65449defb\" class=\"plotly-graph-div\" style=\"height:525px; width:100%;\"></div>            <script type=\"text/javascript\">                                    window.PLOTLYENV=window.PLOTLYENV || {};                                    if (document.getElementById(\"2a59445e-5632-4f70-9879-6ba65449defb\")) {                    Plotly.newPlot(                        \"2a59445e-5632-4f70-9879-6ba65449defb\",                        [{\"hovertemplate\":\"x=%{x}\\u003cbr\\u003ey=%{y}\\u003cbr\\u003etext=%{text}\\u003cextra\\u003e\\u003c\\u002fextra\\u003e\",\"legendgroup\":\"\",\"marker\":{\"color\":\"#636efa\",\"symbol\":\"circle\"},\"mode\":\"markers+text\",\"name\":\"\",\"orientation\":\"v\",\"showlegend\":false,\"text\":[\"you\",\"i\",\"the\",\"to\",\"and\",\"love\",\"a\",\"me\",\"in\",\"all\",\"nah\",\"my\",\"it\",\"know\",\"that\",\"be\",\"on\",\"of\",\"she\",\"is\",\"say\",\"now\",\"oh\",\"your\",\"yeah\",\"get\",\"don't\",\"back\",\"with\",\"let\",\"can\",\"her\",\"it's\",\"do\",\"come\",\"when\",\"i'm\",\"will\",\"he\",\"but\",\"for\",\"so\",\"there\",\"need\",\"together\",\"no\",\"like\",\"i'll\",\"see\",\"we\",\"never\",\"was\",\"down\",\"want\",\"if\",\"way\",\"hey\",\"out\",\"one\",\"got\",\"good\",\"girl\",\"can't\",\"well\",\"go\",\"sun\",\"his\",\"hello\",\"home\",\"they\",\"day\",\"are\",\"ah\",\"from\",\"at\",\"little\",\"right\",\"man\",\"help\",\"here\",\"have\",\"gonna\",\"world\",\"not\",\"what\",\"going\",\"please\",\"too\",\"how\",\"still\",\"time\",\"just\",\"you're\",\"as\",\"make\",\"yellow\",\"yes\",\"long\",\"life\",\"sky\",\"tell\",\"once\",\"been\",\"only\",\"think\",\"why\",\"she's\",\"where\",\"eyes\",\"people\",\"submarine\",\"take\",\"jude\",\"up\",\"goodbye\",\"look\",\"hold\",\"nowhere\",\"give\",\"sing\",\"should\",\"goo\",\"am\",\"we're\",\"hand\",\"always\",\"nothing\",\"boy\",\"lonely\",\"darling\",\"friends\",\"away\",\"could\",\"some\",\"feel\",\"night\",\"comes\",\"head\",\"would\",\"them\",\"better\",\"had\",\"buy\",\"four\",\"more\",\"i've\",\"two\",\"everything\",\"la\",\"this\",\"carry\",\"mind\",\"sunshine\",\"lucy\",\"our\",\"us\",\"weight\",\"by\",\"change\",\"true\",\"diamonds\",\"every\",\"three\",\"i'd\",\"birthday\",\"pretty\",\"these\",\"you'll\",\"before\",\"words\",\"an\",\"believe\",\"bom\",\"work\",\"told\",\"money\",\"leave\",\"round\",\"nobody\",\"mine\",\"dear\",\"forever\",\"were\",\"mm\",\"said\",\"there's\",\"loves\",\"try\",\"didn't\",\"saw\",\"children\",\"'cause\",\"about\",\"waiting\",\"who\",\"then\",\"standing\",\"hide\",\"something\",\"bang\"],\"x\":[-21.105314,-21.050179,0.0926959,15.027166,-3.03931,-21.87092,10.801985,-17.211246,-1.77587,18.800411,-9.287391,7.1676893,13.54845,-18.901636,6.89503,11.064886,15.998227,-1.4626361,-5.3146553,2.3077018,-21.133308,18.719715,-21.431452,7.8635244,-6.4203653,19.636684,-18.603325,19.220436,-2.5260305,10.974351,-13.956367,7.4166956,-9.169836,-22.010614,16.296675,-20.733639,-8.107522,-19.92239,-9.775891,-12.127292,8.440119,-19.049593,21.396217,-21.143814,18.96615,-21.497463,-15.34209,-15.79209,-14.958552,-7.5639925,-19.975681,21.15381,10.252407,6.9070983,-16.722574,18.56499,-9.065534,14.758107,7.165964,-10.531449,25.65638,-3.7160516,13.206778,5.4326344,23.043072,17.32846,2.0766487,-22.011494,18.694946,9.098426,26.253866,-3.3607514,-1.2465187,16.742928,-0.89861083,16.204105,19.734451,1.053094,17.473349,17.300999,-4.426301,0.5695226,1.6155066,-12.468677,-20.05757,11.623299,-15.965664,7.0424366,-13.941736,-20.287502,7.8599067,-10.139451,-0.6710343,-6.0920057,-11.471252,-7.3698964,-17.522154,8.96345,7.3956027,-3.5409102,-19.527634,20.847143,6.277342,7.9390955,-18.774143,-20.556293,-7.36029,20.178312,-1.1396762,-7.9180846,-7.372357,8.884808,-9.049509,13.827903,-21.844616,-0.93968546,7.8377852,2.04735,-12.223603,-19.743254,-16.342934,13.921899,-17.063784,13.342088,7.7466736,6.514484,-17.502737,-0.94541836,-8.316606,14.571265,17.117035,-11.565156,-17.869638,-3.0838897,-15.390852,-1.305213,17.319183,1.3194702,-14.516786,-4.79137,-11.134041,0.76804787,13.180697,6.294885,-8.699531,-3.1826253,6.6726327,-11.792947,0.3305497,8.07644,-0.4598784,7.104432,26.035265,-2.9604244,18.122133,7.6734176,-0.7115057,12.011679,1.0978384,6.9310985,-2.878005,9.165406,6.393224,-1.3347911,-12.296208,14.327234,5.854228,-16.561302,6.356944,9.157846,10.697259,-19.466043,22.516624,14.701413,-19.721365,13.387721,-10.55073,4.46326,-2.784401,2.0700655,12.306592,-11.56227,-0.55315727,12.672311,-4.325727,-17.442411,-5.9943223,12.516382,-18.776575,-9.7286625,23.88447,-8.017515,-4.6291857,8.257809,1.2182736,18.059336,9.884986,-10.869006,-0.9490098,-1.4570985],\"xaxis\":\"x\",\"y\":[-7.892872,0.16911313,11.856538,4.283654,2.5315685,-9.593601,-4.082133,-11.35505,14.53329,-5.829201,-18.430782,-15.385629,-7.0459657,1.5088652,19.937077,-9.589052,-2.3604817,11.64316,-9.933142,-18.031107,2.1963618,-5.5008917,-3.57962,-24.45093,-10.90706,8.754921,2.2447748,8.572664,16.871634,-11.152639,-7.1242537,-3.6828504,4.2150455,-4.873995,-2.6365829,-6.3674855,-6.533543,-11.512152,0.39487037,-7.115961,18.159807,-4.932744,4.8765287,-10.228467,-4.8613477,-1.8925269,-12.03617,2.8856287,-8.7764225,18.937775,-2.3668258,5.2366796,-11.159834,-25.104961,-4.846718,5.636648,-17.52008,-4.361399,27.176573,-11.589848,-0.11570369,10.39557,-21.087742,-6.1657567,-0.33603084,-11.872526,14.325304,3.3286521,8.168298,-2.4154446,-0.017189588,4.8278112,-13.327425,15.075679,-14.577299,14.766646,-5.299455,17.630804,14.716575,-11.842014,5.9255724,-24.085577,-22.24391,3.6196384,-1.388403,13.3520975,-13.119347,21.123308,-0.5621577,-10.98015,19.804379,-9.934344,-22.854277,4.927267,-15.3440275,20.712643,6.80725,19.20446,-17.863392,16.664097,-8.18981,6.465735,12.849657,15.917866,-1.9457854,2.57705,7.9847865,7.1012406,13.966101,13.825302,20.722246,-10.400268,-17.450315,0.021649556,3.1900046,-14.435627,-25.686407,16.257278,-10.631212,-14.731166,0.6060866,23.590425,7.184533,1.7944874,-24.68034,-10.0365,-9.342588,-22.665583,14.127595,12.516585,15.043776,-4.2817016,-0.33332407,6.692087,-2.7857666,9.627655,-11.861965,13.185053,-6.5634613,2.7933571,-15.621282,-5.8955636,-21.112019,29.211288,-12.841397,-3.5277514,28.004978,-9.195969,-10.450764,15.091606,-24.167767,-16.551369,-0.057994153,16.381771,5.0127726,7.3278975,-24.523188,10.445604,-22.677313,-9.746787,16.674248,5.742296,28.526178,-3.0278344,-3.5879083,11.664125,10.688759,-1.6853974,19.18318,-7.374389,-6.8394866,-5.5676503,-10.739999,-4.5415645,-6.4129953,-20.854527,-5.5816593,-19.22381,-0.7911093,-7.691242,-1.8349621,6.4361844,6.2266784,16.90353,4.366644,-6.163239,-10.511772,10.093187,-8.410044,2.1471443,-0.26417688,-5.589646,-2.76555,14.236508,17.139996,1.8363854,8.254767,-10.466569,2.3301842,21.380596],\"yaxis\":\"y\",\"type\":\"scatter\"}],                        {\"template\":{\"data\":{\"histogram2dcontour\":[{\"type\":\"histogram2dcontour\",\"colorbar\":{\"outlinewidth\":0,\"ticks\":\"\"},\"colorscale\":[[0.0,\"#0d0887\"],[0.1111111111111111,\"#46039f\"],[0.2222222222222222,\"#7201a8\"],[0.3333333333333333,\"#9c179e\"],[0.4444444444444444,\"#bd3786\"],[0.5555555555555556,\"#d8576b\"],[0.6666666666666666,\"#ed7953\"],[0.7777777777777778,\"#fb9f3a\"],[0.8888888888888888,\"#fdca26\"],[1.0,\"#f0f921\"]]}],\"choropleth\":[{\"type\":\"choropleth\",\"colorbar\":{\"outlinewidth\":0,\"ticks\":\"\"}}],\"histogram2d\":[{\"type\":\"histogram2d\",\"colorbar\":{\"outlinewidth\":0,\"ticks\":\"\"},\"colorscale\":[[0.0,\"#0d0887\"],[0.1111111111111111,\"#46039f\"],[0.2222222222222222,\"#7201a8\"],[0.3333333333333333,\"#9c179e\"],[0.4444444444444444,\"#bd3786\"],[0.5555555555555556,\"#d8576b\"],[0.6666666666666666,\"#ed7953\"],[0.7777777777777778,\"#fb9f3a\"],[0.8888888888888888,\"#fdca26\"],[1.0,\"#f0f921\"]]}],\"heatmap\":[{\"type\":\"heatmap\",\"colorbar\":{\"outlinewidth\":0,\"ticks\":\"\"},\"colorscale\":[[0.0,\"#0d0887\"],[0.1111111111111111,\"#46039f\"],[0.2222222222222222,\"#7201a8\"],[0.3333333333333333,\"#9c179e\"],[0.4444444444444444,\"#bd3786\"],[0.5555555555555556,\"#d8576b\"],[0.6666666666666666,\"#ed7953\"],[0.7777777777777778,\"#fb9f3a\"],[0.8888888888888888,\"#fdca26\"],[1.0,\"#f0f921\"]]}],\"heatmapgl\":[{\"type\":\"heatmapgl\",\"colorbar\":{\"outlinewidth\":0,\"ticks\":\"\"},\"colorscale\":[[0.0,\"#0d0887\"],[0.1111111111111111,\"#46039f\"],[0.2222222222222222,\"#7201a8\"],[0.3333333333333333,\"#9c179e\"],[0.4444444444444444,\"#bd3786\"],[0.5555555555555556,\"#d8576b\"],[0.6666666666666666,\"#ed7953\"],[0.7777777777777778,\"#fb9f3a\"],[0.8888888888888888,\"#fdca26\"],[1.0,\"#f0f921\"]]}],\"contourcarpet\":[{\"type\":\"contourcarpet\",\"colorbar\":{\"outlinewidth\":0,\"ticks\":\"\"}}],\"contour\":[{\"type\":\"contour\",\"colorbar\":{\"outlinewidth\":0,\"ticks\":\"\"},\"colorscale\":[[0.0,\"#0d0887\"],[0.1111111111111111,\"#46039f\"],[0.2222222222222222,\"#7201a8\"],[0.3333333333333333,\"#9c179e\"],[0.4444444444444444,\"#bd3786\"],[0.5555555555555556,\"#d8576b\"],[0.6666666666666666,\"#ed7953\"],[0.7777777777777778,\"#fb9f3a\"],[0.8888888888888888,\"#fdca26\"],[1.0,\"#f0f921\"]]}],\"surface\":[{\"type\":\"surface\",\"colorbar\":{\"outlinewidth\":0,\"ticks\":\"\"},\"colorscale\":[[0.0,\"#0d0887\"],[0.1111111111111111,\"#46039f\"],[0.2222222222222222,\"#7201a8\"],[0.3333333333333333,\"#9c179e\"],[0.4444444444444444,\"#bd3786\"],[0.5555555555555556,\"#d8576b\"],[0.6666666666666666,\"#ed7953\"],[0.7777777777777778,\"#fb9f3a\"],[0.8888888888888888,\"#fdca26\"],[1.0,\"#f0f921\"]]}],\"mesh3d\":[{\"type\":\"mesh3d\",\"colorbar\":{\"outlinewidth\":0,\"ticks\":\"\"}}],\"scatter\":[{\"fillpattern\":{\"fillmode\":\"overlay\",\"size\":10,\"solidity\":0.2},\"type\":\"scatter\"}],\"parcoords\":[{\"type\":\"parcoords\",\"line\":{\"colorbar\":{\"outlinewidth\":0,\"ticks\":\"\"}}}],\"scatterpolargl\":[{\"type\":\"scatterpolargl\",\"marker\":{\"colorbar\":{\"outlinewidth\":0,\"ticks\":\"\"}}}],\"bar\":[{\"error_x\":{\"color\":\"#2a3f5f\"},\"error_y\":{\"color\":\"#2a3f5f\"},\"marker\":{\"line\":{\"color\":\"#E5ECF6\",\"width\":0.5},\"pattern\":{\"fillmode\":\"overlay\",\"size\":10,\"solidity\":0.2}},\"type\":\"bar\"}],\"scattergeo\":[{\"type\":\"scattergeo\",\"marker\":{\"colorbar\":{\"outlinewidth\":0,\"ticks\":\"\"}}}],\"scatterpolar\":[{\"type\":\"scatterpolar\",\"marker\":{\"colorbar\":{\"outlinewidth\":0,\"ticks\":\"\"}}}],\"histogram\":[{\"marker\":{\"pattern\":{\"fillmode\":\"overlay\",\"size\":10,\"solidity\":0.2}},\"type\":\"histogram\"}],\"scattergl\":[{\"type\":\"scattergl\",\"marker\":{\"colorbar\":{\"outlinewidth\":0,\"ticks\":\"\"}}}],\"scatter3d\":[{\"type\":\"scatter3d\",\"line\":{\"colorbar\":{\"outlinewidth\":0,\"ticks\":\"\"}},\"marker\":{\"colorbar\":{\"outlinewidth\":0,\"ticks\":\"\"}}}],\"scattermapbox\":[{\"type\":\"scattermapbox\",\"marker\":{\"colorbar\":{\"outlinewidth\":0,\"ticks\":\"\"}}}],\"scatterternary\":[{\"type\":\"scatterternary\",\"marker\":{\"colorbar\":{\"outlinewidth\":0,\"ticks\":\"\"}}}],\"scattercarpet\":[{\"type\":\"scattercarpet\",\"marker\":{\"colorbar\":{\"outlinewidth\":0,\"ticks\":\"\"}}}],\"carpet\":[{\"aaxis\":{\"endlinecolor\":\"#2a3f5f\",\"gridcolor\":\"white\",\"linecolor\":\"white\",\"minorgridcolor\":\"white\",\"startlinecolor\":\"#2a3f5f\"},\"baxis\":{\"endlinecolor\":\"#2a3f5f\",\"gridcolor\":\"white\",\"linecolor\":\"white\",\"minorgridcolor\":\"white\",\"startlinecolor\":\"#2a3f5f\"},\"type\":\"carpet\"}],\"table\":[{\"cells\":{\"fill\":{\"color\":\"#EBF0F8\"},\"line\":{\"color\":\"white\"}},\"header\":{\"fill\":{\"color\":\"#C8D4E3\"},\"line\":{\"color\":\"white\"}},\"type\":\"table\"}],\"barpolar\":[{\"marker\":{\"line\":{\"color\":\"#E5ECF6\",\"width\":0.5},\"pattern\":{\"fillmode\":\"overlay\",\"size\":10,\"solidity\":0.2}},\"type\":\"barpolar\"}],\"pie\":[{\"automargin\":true,\"type\":\"pie\"}]},\"layout\":{\"autotypenumbers\":\"strict\",\"colorway\":[\"#636efa\",\"#EF553B\",\"#00cc96\",\"#ab63fa\",\"#FFA15A\",\"#19d3f3\",\"#FF6692\",\"#B6E880\",\"#FF97FF\",\"#FECB52\"],\"font\":{\"color\":\"#2a3f5f\"},\"hovermode\":\"closest\",\"hoverlabel\":{\"align\":\"left\"},\"paper_bgcolor\":\"white\",\"plot_bgcolor\":\"#E5ECF6\",\"polar\":{\"bgcolor\":\"#E5ECF6\",\"angularaxis\":{\"gridcolor\":\"white\",\"linecolor\":\"white\",\"ticks\":\"\"},\"radialaxis\":{\"gridcolor\":\"white\",\"linecolor\":\"white\",\"ticks\":\"\"}},\"ternary\":{\"bgcolor\":\"#E5ECF6\",\"aaxis\":{\"gridcolor\":\"white\",\"linecolor\":\"white\",\"ticks\":\"\"},\"baxis\":{\"gridcolor\":\"white\",\"linecolor\":\"white\",\"ticks\":\"\"},\"caxis\":{\"gridcolor\":\"white\",\"linecolor\":\"white\",\"ticks\":\"\"}},\"coloraxis\":{\"colorbar\":{\"outlinewidth\":0,\"ticks\":\"\"}},\"colorscale\":{\"sequential\":[[0.0,\"#0d0887\"],[0.1111111111111111,\"#46039f\"],[0.2222222222222222,\"#7201a8\"],[0.3333333333333333,\"#9c179e\"],[0.4444444444444444,\"#bd3786\"],[0.5555555555555556,\"#d8576b\"],[0.6666666666666666,\"#ed7953\"],[0.7777777777777778,\"#fb9f3a\"],[0.8888888888888888,\"#fdca26\"],[1.0,\"#f0f921\"]],\"sequentialminus\":[[0.0,\"#0d0887\"],[0.1111111111111111,\"#46039f\"],[0.2222222222222222,\"#7201a8\"],[0.3333333333333333,\"#9c179e\"],[0.4444444444444444,\"#bd3786\"],[0.5555555555555556,\"#d8576b\"],[0.6666666666666666,\"#ed7953\"],[0.7777777777777778,\"#fb9f3a\"],[0.8888888888888888,\"#fdca26\"],[1.0,\"#f0f921\"]],\"diverging\":[[0,\"#8e0152\"],[0.1,\"#c51b7d\"],[0.2,\"#de77ae\"],[0.3,\"#f1b6da\"],[0.4,\"#fde0ef\"],[0.5,\"#f7f7f7\"],[0.6,\"#e6f5d0\"],[0.7,\"#b8e186\"],[0.8,\"#7fbc41\"],[0.9,\"#4d9221\"],[1,\"#276419\"]]},\"xaxis\":{\"gridcolor\":\"white\",\"linecolor\":\"white\",\"ticks\":\"\",\"title\":{\"standoff\":15},\"zerolinecolor\":\"white\",\"automargin\":true,\"zerolinewidth\":2},\"yaxis\":{\"gridcolor\":\"white\",\"linecolor\":\"white\",\"ticks\":\"\",\"title\":{\"standoff\":15},\"zerolinecolor\":\"white\",\"automargin\":true,\"zerolinewidth\":2},\"scene\":{\"xaxis\":{\"backgroundcolor\":\"#E5ECF6\",\"gridcolor\":\"white\",\"linecolor\":\"white\",\"showbackground\":true,\"ticks\":\"\",\"zerolinecolor\":\"white\",\"gridwidth\":2},\"yaxis\":{\"backgroundcolor\":\"#E5ECF6\",\"gridcolor\":\"white\",\"linecolor\":\"white\",\"showbackground\":true,\"ticks\":\"\",\"zerolinecolor\":\"white\",\"gridwidth\":2},\"zaxis\":{\"backgroundcolor\":\"#E5ECF6\",\"gridcolor\":\"white\",\"linecolor\":\"white\",\"showbackground\":true,\"ticks\":\"\",\"zerolinecolor\":\"white\",\"gridwidth\":2}},\"shapedefaults\":{\"line\":{\"color\":\"#2a3f5f\"}},\"annotationdefaults\":{\"arrowcolor\":\"#2a3f5f\",\"arrowhead\":0,\"arrowwidth\":1},\"geo\":{\"bgcolor\":\"white\",\"landcolor\":\"#E5ECF6\",\"subunitcolor\":\"white\",\"showland\":true,\"showlakes\":true,\"lakecolor\":\"white\"},\"title\":{\"x\":0.05},\"mapbox\":{\"style\":\"light\"}}},\"xaxis\":{\"anchor\":\"y\",\"domain\":[0.0,1.0],\"title\":{\"text\":\"x\"}},\"yaxis\":{\"anchor\":\"x\",\"domain\":[0.0,1.0],\"title\":{\"text\":\"y\"}},\"legend\":{\"tracegroupgap\":0},\"margin\":{\"t\":60}},                        {\"responsive\": true}                    ).then(function(){\n",
              "                            \n",
              "var gd = document.getElementById('2a59445e-5632-4f70-9879-6ba65449defb');\n",
              "var x = new MutationObserver(function (mutations, observer) {{\n",
              "        var display = window.getComputedStyle(gd).display;\n",
              "        if (!display || display === 'none') {{\n",
              "            console.log([gd, 'removed!']);\n",
              "            Plotly.purge(gd);\n",
              "            observer.disconnect();\n",
              "        }}\n",
              "}});\n",
              "\n",
              "// Listen for the removal of the full notebook cells\n",
              "var notebookContainer = gd.closest('#notebook-container');\n",
              "if (notebookContainer) {{\n",
              "    x.observe(notebookContainer, {childList: true});\n",
              "}}\n",
              "\n",
              "// Listen for the clearing of the current output cell\n",
              "var outputEl = gd.closest('.output');\n",
              "if (outputEl) {{\n",
              "    x.observe(outputEl, {childList: true});\n",
              "}}\n",
              "\n",
              "                        })                };                            </script>        </div>\n",
              "</body>\n",
              "</html>"
            ]
          },
          "metadata": {}
        }
      ],
      "source": [
        "# Graficar los embedddings en 2D\n",
        "import plotly.graph_objects as go\n",
        "import plotly.express as px\n",
        "\n",
        "vecs, labels = reduce_dimensions(w2v_model)\n",
        "\n",
        "MAX_WORDS=200\n",
        "fig = px.scatter(x=vecs[:MAX_WORDS,0], y=vecs[:MAX_WORDS,1], text=labels[:MAX_WORDS])\n",
        "fig.show(renderer=\"colab\") # esto para plotly en colab"
      ]
    },
    {
      "cell_type": "code",
      "execution_count": 26,
      "metadata": {
        "id": "ZxhJvjui5g9I",
        "outputId": "89f8926a-87b2-4632-84ac-f3e6baca9c21",
        "colab": {
          "base_uri": "https://localhost:8080/",
          "height": 542
        }
      },
      "outputs": [
        {
          "output_type": "display_data",
          "data": {
            "text/html": [
              "<html>\n",
              "<head><meta charset=\"utf-8\" /></head>\n",
              "<body>\n",
              "    <div>            <script src=\"https://cdnjs.cloudflare.com/ajax/libs/mathjax/2.7.5/MathJax.js?config=TeX-AMS-MML_SVG\"></script><script type=\"text/javascript\">if (window.MathJax && window.MathJax.Hub && window.MathJax.Hub.Config) {window.MathJax.Hub.Config({SVG: {font: \"STIX-Web\"}});}</script>                <script type=\"text/javascript\">window.PlotlyConfig = {MathJaxConfig: 'local'};</script>\n",
              "        <script charset=\"utf-8\" src=\"https://cdn.plot.ly/plotly-2.35.2.min.js\"></script>                <div id=\"5a749f7a-e7eb-4f0c-986c-528160bd2092\" class=\"plotly-graph-div\" style=\"height:525px; width:100%;\"></div>            <script type=\"text/javascript\">                                    window.PLOTLYENV=window.PLOTLYENV || {};                                    if (document.getElementById(\"5a749f7a-e7eb-4f0c-986c-528160bd2092\")) {                    Plotly.newPlot(                        \"5a749f7a-e7eb-4f0c-986c-528160bd2092\",                        [{\"hovertemplate\":\"x=%{x}\\u003cbr\\u003ey=%{y}\\u003cbr\\u003ez=%{z}\\u003cbr\\u003etext=%{text}\\u003cextra\\u003e\\u003c\\u002fextra\\u003e\",\"legendgroup\":\"\",\"marker\":{\"color\":\"#636efa\",\"symbol\":\"circle\",\"size\":2},\"mode\":\"markers+text\",\"name\":\"\",\"scene\":\"scene\",\"showlegend\":false,\"text\":[\"you\",\"i\",\"the\",\"to\",\"and\",\"love\",\"a\",\"me\",\"in\",\"all\",\"nah\",\"my\",\"it\",\"know\",\"that\",\"be\",\"on\",\"of\",\"she\",\"is\",\"say\",\"now\",\"oh\",\"your\",\"yeah\",\"get\",\"don't\",\"back\",\"with\",\"let\",\"can\",\"her\",\"it's\",\"do\",\"come\",\"when\",\"i'm\",\"will\",\"he\",\"but\",\"for\",\"so\",\"there\",\"need\",\"together\",\"no\",\"like\",\"i'll\",\"see\",\"we\",\"never\",\"was\",\"down\",\"want\",\"if\",\"way\",\"hey\",\"out\",\"one\",\"got\",\"good\",\"girl\",\"can't\",\"well\",\"go\",\"sun\",\"his\",\"hello\",\"home\",\"they\",\"day\",\"are\",\"ah\",\"from\",\"at\",\"little\",\"right\",\"man\",\"help\",\"here\",\"have\",\"gonna\",\"world\",\"not\",\"what\",\"going\",\"please\",\"too\",\"how\",\"still\",\"time\",\"just\",\"you're\",\"as\",\"make\",\"yellow\",\"yes\",\"long\",\"life\",\"sky\",\"tell\",\"once\",\"been\",\"only\",\"think\",\"why\",\"she's\",\"where\",\"eyes\",\"people\",\"submarine\",\"take\",\"jude\",\"up\",\"goodbye\",\"look\",\"hold\",\"nowhere\",\"give\",\"sing\",\"should\",\"goo\",\"am\",\"we're\",\"hand\",\"always\",\"nothing\",\"boy\",\"lonely\",\"darling\",\"friends\",\"away\",\"could\",\"some\",\"feel\",\"night\",\"comes\",\"head\",\"would\",\"them\",\"better\",\"had\",\"buy\",\"four\",\"more\",\"i've\",\"two\",\"everything\",\"la\",\"this\",\"carry\",\"mind\",\"sunshine\",\"lucy\",\"our\",\"us\",\"weight\",\"by\",\"change\",\"true\",\"diamonds\",\"every\",\"three\",\"i'd\",\"birthday\",\"pretty\",\"these\",\"you'll\",\"before\",\"words\",\"an\",\"believe\",\"bom\",\"work\",\"told\",\"money\",\"leave\",\"round\",\"nobody\",\"mine\",\"dear\",\"forever\",\"were\",\"mm\",\"said\",\"there's\",\"loves\",\"try\",\"didn't\",\"saw\",\"children\",\"'cause\",\"about\",\"waiting\",\"who\",\"then\",\"standing\",\"hide\",\"something\",\"bang\"],\"x\":[-41.190907,-34.27227,14.138945,-10.369673,-7.430452,-40.286694,2.7538097,-35.79787,18.902061,1.42058,3.1922646,-5.536092,1.5625998,-29.154285,-19.32326,-7.50555,15.054994,11.785551,3.6606827,-9.413781,-33.17241,3.624241,-31.579191,-24.211552,-0.3131855,29.342083,-31.375395,33.421986,7.7362967,-9.690552,-23.077717,-17.46846,-24.628227,-38.459385,13.245004,-43.09107,-0.7974684,-33.653522,4.035795,-20.328772,-14.742036,-28.527235,37.811596,-40.608562,2.9948938,-39.33197,-29.575968,-31.625065,-24.571287,37.28661,-33.923725,35.42554,-12.265322,-30.450563,-29.93882,30.423964,-2.6011662,9.654003,3.1491635,-13.511974,25.676357,6.8150725,-25.744553,-0.34353632,15.2217245,-7.9520874,25.925558,-40.232815,29.080372,-14.545914,27.137058,7.967623,19.747051,0.8852909,21.868074,0.5729571,-1.3749607,26.755947,-4.8752184,-8.592757,16.844187,-17.104637,10.556916,-13.61323,-32.360195,5.3940187,-34.864723,-25.030172,-16.092028,-38.237946,-20.62318,-17.513094,-11.955359,0.7383348,-8.314227,34.52652,-35.85627,-17.021023,5.8152175,11.33327,-38.34341,36.958076,0.32230043,-11.628308,-34.13679,-32.578953,-15.858412,32.13382,20.807875,27.40308,37.22799,-13.633398,-1.7908825,10.920512,-37.526947,20.121561,-31.692766,27.430182,-17.951567,-27.64784,-23.98354,36.709053,-35.50795,18.81449,-27.143557,-8.4252615,-35.868034,-14.884625,32.00914,-6.5624976,-2.9498692,-18.757689,-23.94205,15.465329,-23.514486,8.060237,-4.9536805,20.61723,-22.70544,23.477833,-5.981931,18.970554,-25.597334,8.1715765,-10.052256,9.945878,4.8138742,-13.234303,20.771246,-9.630222,-12.608213,0.5325578,26.70816,12.91299,29.81523,11.698849,-16.368996,5.0397477,6.8506837,-7.349091,8.9674,15.495044,2.949367,-15.655424,-20.667646,-1.9768949,15.009977,-25.694252,-17.578064,1.395207,18.868345,-33.17903,32.588596,7.8794727,-37.676064,-21.7733,-18.27469,-9.169527,-0.65719295,11.942129,2.8292673,-3.9751625,-1.391184,12.698167,-2.8983395,-30.784527,1.4078474,5.9438963,-35.873615,-17.83178,19.820118,-0.23068611,-13.497596,-8.563902,25.479149,37.01701,-10.827482,-19.019028,-2.7272556,30.729404],\"y\":[-10.933227,1.860551,31.706348,-14.050095,-4.6499124,-5.9087787,31.262089,-17.92568,34.87301,-11.397829,-33.858486,20.299707,-29.269302,-2.5430884,16.875164,-33.13579,-17.301016,24.26908,-19.634548,23.797607,5.2854867,-13.948546,-20.865398,-22.155813,-19.80385,7.56618,-3.4796681,10.11321,37.10034,-37.678574,-9.514344,17.282555,4.6214294,-16.830368,-18.989765,-9.917241,-6.0657043,4.338303,-24.584318,-17.204922,23.178371,-13.229691,3.9887428,-1.1772096,-18.667362,-8.671465,-20.531965,-17.183113,-15.181058,12.770287,-12.489842,6.0899553,-34.855873,-18.05702,-3.3618543,12.174186,-33.587776,-20.647596,15.939202,-27.622314,-13.79607,27.700829,-33.387043,-20.148203,-17.725168,-2.1596823,24.234789,4.066656,12.752428,-4.702873,-9.038255,9.195292,-24.269604,30.363823,-19.182676,32.842247,-16.630156,9.114299,32.572525,-6.7890024,6.3728685,23.18326,-40.110126,3.5272398,-6.9733124,0.19248004,-23.720661,16.337675,-6.153623,3.4768438,20.69911,-25.137619,18.395721,10.636349,-29.332813,21.018835,11.756291,25.252253,18.715977,38.390835,-3.7144773,4.478975,20.412785,16.132996,-4.758987,2.8959954,9.213109,2.7284358,31.689945,14.070425,18.797974,-28.05352,-34.418846,-9.056476,6.1620455,-21.187344,-23.553215,15.690509,-22.304157,9.542625,-5.9790106,-15.575171,13.716549,-9.549252,-22.200436,-24.043531,-11.402334,15.7306,11.980009,37.402527,28.160389,-6.8500986,-1.7832582,6.433641,-16.730394,17.43252,-5.146321,26.119356,-8.715901,-8.87855,-30.847952,-13.315569,-32.88262,16.81785,-21.566597,-15.5053005,15.058868,-20.729351,1.827085,20.679775,24.657896,21.268358,-12.886995,39.33218,16.40889,11.543642,24.525084,33.429607,-40.792435,-25.616848,41.19042,3.207661,17.152147,-17.48537,-8.130776,37.397003,18.5661,-10.180219,15.422553,-31.39103,20.218222,-11.3230505,-14.97358,-24.164776,-9.962531,-35.071186,-24.628412,14.644661,-7.6451077,-16.928686,-14.360992,4.9332438,10.627061,-0.93197095,2.5742276,-3.188278,-19.83212,38.07548,-7.1436243,6.536649,-14.955327,-4.3826704,-9.221612,25.826403,12.903995,-0.9886429,24.67785,-25.932512,4.0008326,-6.4124155],\"z\":[-6.261689,7.6549745,-10.052554,-20.688452,-28.854712,-12.909389,-9.468351,-3.5275738,-0.44787055,-39.04004,17.543034,-31.24415,-18.016718,21.261053,17.641012,-15.782923,-29.052715,0.8925983,17.977398,-17.0428,16.411263,-36.658554,10.653806,-18.844872,26.873844,23.155003,26.051718,21.044117,-2.2766564,-10.825993,-16.26102,-9.908994,-16.842323,7.9473696,-33.134205,3.43504,28.475935,-5.634367,8.221513,2.8857353,9.525434,2.8818412,6.5537496,-9.959689,-37.00558,13.948632,-2.7500544,20.00558,-8.398567,-4.9755797,15.380521,9.596818,-7.3007517,-16.674587,2.3602903,12.640488,18.439867,-24.669096,18.581964,13.800362,28.50046,10.021088,8.558899,-11.218829,31.46833,39.253387,-3.7043324,17.898342,19.778557,-21.436111,26.271626,-30.676184,-6.118538,-30.19894,-13.287181,-25.884758,-39.718437,1.5931222,-28.94997,38.927162,-31.29307,26.953661,0.18403022,17.742338,17.61507,25.937477,1.6917706,13.691763,20.576706,-7.540681,12.526285,6.41348,23.373987,9.547524,3.0774837,0.79240507,9.698295,14.74311,-26.05175,3.1726105,0.029356662,15.04008,6.041207,4.2746744,10.61932,21.245766,2.8392458,18.000347,-4.5295177,-24.414078,2.7988167,-7.4394817,14.243347,-32.67944,20.283077,-10.580421,-13.780008,-5.119883,17.754663,-5.3506994,23.327032,10.848806,4.725631,-25.922516,-16.21246,-18.075571,-11.770957,24.930628,-23.728031,-20.196543,-29.802498,-4.0712285,14.179598,-25.041971,13.413618,4.285434,40.796967,-5.877925,-11.115723,-14.093976,6.9701037,3.2591727,4.2694716,28.039324,21.207348,-2.832057,23.127575,12.317185,29.627754,3.8343847,22.743761,-29.46574,24.245956,-1.8869796,10.563123,10.08305,20.07163,-15.789327,3.113553,-14.028404,-0.4816302,8.460199,26.976635,-13.346363,1.4983333,-17.634672,-21.26278,15.7940645,12.521769,-7.386309,7.3901167,3.0483925,-6.290366,-25.576382,1.6621867,6.4288316,-6.416041,-21.211765,5.26262,6.007541,-21.099323,17.11079,-11.661612,35.442406,9.054844,-12.850406,22.472641,-16.358557,-3.603748,-5.843186,29.228168,23.241621,-11.35309,5.899241,-0.585419,-3.8970075,-6.416604,11.701234,-8.880317,6.7920423],\"type\":\"scatter3d\"}],                        {\"template\":{\"data\":{\"histogram2dcontour\":[{\"type\":\"histogram2dcontour\",\"colorbar\":{\"outlinewidth\":0,\"ticks\":\"\"},\"colorscale\":[[0.0,\"#0d0887\"],[0.1111111111111111,\"#46039f\"],[0.2222222222222222,\"#7201a8\"],[0.3333333333333333,\"#9c179e\"],[0.4444444444444444,\"#bd3786\"],[0.5555555555555556,\"#d8576b\"],[0.6666666666666666,\"#ed7953\"],[0.7777777777777778,\"#fb9f3a\"],[0.8888888888888888,\"#fdca26\"],[1.0,\"#f0f921\"]]}],\"choropleth\":[{\"type\":\"choropleth\",\"colorbar\":{\"outlinewidth\":0,\"ticks\":\"\"}}],\"histogram2d\":[{\"type\":\"histogram2d\",\"colorbar\":{\"outlinewidth\":0,\"ticks\":\"\"},\"colorscale\":[[0.0,\"#0d0887\"],[0.1111111111111111,\"#46039f\"],[0.2222222222222222,\"#7201a8\"],[0.3333333333333333,\"#9c179e\"],[0.4444444444444444,\"#bd3786\"],[0.5555555555555556,\"#d8576b\"],[0.6666666666666666,\"#ed7953\"],[0.7777777777777778,\"#fb9f3a\"],[0.8888888888888888,\"#fdca26\"],[1.0,\"#f0f921\"]]}],\"heatmap\":[{\"type\":\"heatmap\",\"colorbar\":{\"outlinewidth\":0,\"ticks\":\"\"},\"colorscale\":[[0.0,\"#0d0887\"],[0.1111111111111111,\"#46039f\"],[0.2222222222222222,\"#7201a8\"],[0.3333333333333333,\"#9c179e\"],[0.4444444444444444,\"#bd3786\"],[0.5555555555555556,\"#d8576b\"],[0.6666666666666666,\"#ed7953\"],[0.7777777777777778,\"#fb9f3a\"],[0.8888888888888888,\"#fdca26\"],[1.0,\"#f0f921\"]]}],\"heatmapgl\":[{\"type\":\"heatmapgl\",\"colorbar\":{\"outlinewidth\":0,\"ticks\":\"\"},\"colorscale\":[[0.0,\"#0d0887\"],[0.1111111111111111,\"#46039f\"],[0.2222222222222222,\"#7201a8\"],[0.3333333333333333,\"#9c179e\"],[0.4444444444444444,\"#bd3786\"],[0.5555555555555556,\"#d8576b\"],[0.6666666666666666,\"#ed7953\"],[0.7777777777777778,\"#fb9f3a\"],[0.8888888888888888,\"#fdca26\"],[1.0,\"#f0f921\"]]}],\"contourcarpet\":[{\"type\":\"contourcarpet\",\"colorbar\":{\"outlinewidth\":0,\"ticks\":\"\"}}],\"contour\":[{\"type\":\"contour\",\"colorbar\":{\"outlinewidth\":0,\"ticks\":\"\"},\"colorscale\":[[0.0,\"#0d0887\"],[0.1111111111111111,\"#46039f\"],[0.2222222222222222,\"#7201a8\"],[0.3333333333333333,\"#9c179e\"],[0.4444444444444444,\"#bd3786\"],[0.5555555555555556,\"#d8576b\"],[0.6666666666666666,\"#ed7953\"],[0.7777777777777778,\"#fb9f3a\"],[0.8888888888888888,\"#fdca26\"],[1.0,\"#f0f921\"]]}],\"surface\":[{\"type\":\"surface\",\"colorbar\":{\"outlinewidth\":0,\"ticks\":\"\"},\"colorscale\":[[0.0,\"#0d0887\"],[0.1111111111111111,\"#46039f\"],[0.2222222222222222,\"#7201a8\"],[0.3333333333333333,\"#9c179e\"],[0.4444444444444444,\"#bd3786\"],[0.5555555555555556,\"#d8576b\"],[0.6666666666666666,\"#ed7953\"],[0.7777777777777778,\"#fb9f3a\"],[0.8888888888888888,\"#fdca26\"],[1.0,\"#f0f921\"]]}],\"mesh3d\":[{\"type\":\"mesh3d\",\"colorbar\":{\"outlinewidth\":0,\"ticks\":\"\"}}],\"scatter\":[{\"fillpattern\":{\"fillmode\":\"overlay\",\"size\":10,\"solidity\":0.2},\"type\":\"scatter\"}],\"parcoords\":[{\"type\":\"parcoords\",\"line\":{\"colorbar\":{\"outlinewidth\":0,\"ticks\":\"\"}}}],\"scatterpolargl\":[{\"type\":\"scatterpolargl\",\"marker\":{\"colorbar\":{\"outlinewidth\":0,\"ticks\":\"\"}}}],\"bar\":[{\"error_x\":{\"color\":\"#2a3f5f\"},\"error_y\":{\"color\":\"#2a3f5f\"},\"marker\":{\"line\":{\"color\":\"#E5ECF6\",\"width\":0.5},\"pattern\":{\"fillmode\":\"overlay\",\"size\":10,\"solidity\":0.2}},\"type\":\"bar\"}],\"scattergeo\":[{\"type\":\"scattergeo\",\"marker\":{\"colorbar\":{\"outlinewidth\":0,\"ticks\":\"\"}}}],\"scatterpolar\":[{\"type\":\"scatterpolar\",\"marker\":{\"colorbar\":{\"outlinewidth\":0,\"ticks\":\"\"}}}],\"histogram\":[{\"marker\":{\"pattern\":{\"fillmode\":\"overlay\",\"size\":10,\"solidity\":0.2}},\"type\":\"histogram\"}],\"scattergl\":[{\"type\":\"scattergl\",\"marker\":{\"colorbar\":{\"outlinewidth\":0,\"ticks\":\"\"}}}],\"scatter3d\":[{\"type\":\"scatter3d\",\"line\":{\"colorbar\":{\"outlinewidth\":0,\"ticks\":\"\"}},\"marker\":{\"colorbar\":{\"outlinewidth\":0,\"ticks\":\"\"}}}],\"scattermapbox\":[{\"type\":\"scattermapbox\",\"marker\":{\"colorbar\":{\"outlinewidth\":0,\"ticks\":\"\"}}}],\"scatterternary\":[{\"type\":\"scatterternary\",\"marker\":{\"colorbar\":{\"outlinewidth\":0,\"ticks\":\"\"}}}],\"scattercarpet\":[{\"type\":\"scattercarpet\",\"marker\":{\"colorbar\":{\"outlinewidth\":0,\"ticks\":\"\"}}}],\"carpet\":[{\"aaxis\":{\"endlinecolor\":\"#2a3f5f\",\"gridcolor\":\"white\",\"linecolor\":\"white\",\"minorgridcolor\":\"white\",\"startlinecolor\":\"#2a3f5f\"},\"baxis\":{\"endlinecolor\":\"#2a3f5f\",\"gridcolor\":\"white\",\"linecolor\":\"white\",\"minorgridcolor\":\"white\",\"startlinecolor\":\"#2a3f5f\"},\"type\":\"carpet\"}],\"table\":[{\"cells\":{\"fill\":{\"color\":\"#EBF0F8\"},\"line\":{\"color\":\"white\"}},\"header\":{\"fill\":{\"color\":\"#C8D4E3\"},\"line\":{\"color\":\"white\"}},\"type\":\"table\"}],\"barpolar\":[{\"marker\":{\"line\":{\"color\":\"#E5ECF6\",\"width\":0.5},\"pattern\":{\"fillmode\":\"overlay\",\"size\":10,\"solidity\":0.2}},\"type\":\"barpolar\"}],\"pie\":[{\"automargin\":true,\"type\":\"pie\"}]},\"layout\":{\"autotypenumbers\":\"strict\",\"colorway\":[\"#636efa\",\"#EF553B\",\"#00cc96\",\"#ab63fa\",\"#FFA15A\",\"#19d3f3\",\"#FF6692\",\"#B6E880\",\"#FF97FF\",\"#FECB52\"],\"font\":{\"color\":\"#2a3f5f\"},\"hovermode\":\"closest\",\"hoverlabel\":{\"align\":\"left\"},\"paper_bgcolor\":\"white\",\"plot_bgcolor\":\"#E5ECF6\",\"polar\":{\"bgcolor\":\"#E5ECF6\",\"angularaxis\":{\"gridcolor\":\"white\",\"linecolor\":\"white\",\"ticks\":\"\"},\"radialaxis\":{\"gridcolor\":\"white\",\"linecolor\":\"white\",\"ticks\":\"\"}},\"ternary\":{\"bgcolor\":\"#E5ECF6\",\"aaxis\":{\"gridcolor\":\"white\",\"linecolor\":\"white\",\"ticks\":\"\"},\"baxis\":{\"gridcolor\":\"white\",\"linecolor\":\"white\",\"ticks\":\"\"},\"caxis\":{\"gridcolor\":\"white\",\"linecolor\":\"white\",\"ticks\":\"\"}},\"coloraxis\":{\"colorbar\":{\"outlinewidth\":0,\"ticks\":\"\"}},\"colorscale\":{\"sequential\":[[0.0,\"#0d0887\"],[0.1111111111111111,\"#46039f\"],[0.2222222222222222,\"#7201a8\"],[0.3333333333333333,\"#9c179e\"],[0.4444444444444444,\"#bd3786\"],[0.5555555555555556,\"#d8576b\"],[0.6666666666666666,\"#ed7953\"],[0.7777777777777778,\"#fb9f3a\"],[0.8888888888888888,\"#fdca26\"],[1.0,\"#f0f921\"]],\"sequentialminus\":[[0.0,\"#0d0887\"],[0.1111111111111111,\"#46039f\"],[0.2222222222222222,\"#7201a8\"],[0.3333333333333333,\"#9c179e\"],[0.4444444444444444,\"#bd3786\"],[0.5555555555555556,\"#d8576b\"],[0.6666666666666666,\"#ed7953\"],[0.7777777777777778,\"#fb9f3a\"],[0.8888888888888888,\"#fdca26\"],[1.0,\"#f0f921\"]],\"diverging\":[[0,\"#8e0152\"],[0.1,\"#c51b7d\"],[0.2,\"#de77ae\"],[0.3,\"#f1b6da\"],[0.4,\"#fde0ef\"],[0.5,\"#f7f7f7\"],[0.6,\"#e6f5d0\"],[0.7,\"#b8e186\"],[0.8,\"#7fbc41\"],[0.9,\"#4d9221\"],[1,\"#276419\"]]},\"xaxis\":{\"gridcolor\":\"white\",\"linecolor\":\"white\",\"ticks\":\"\",\"title\":{\"standoff\":15},\"zerolinecolor\":\"white\",\"automargin\":true,\"zerolinewidth\":2},\"yaxis\":{\"gridcolor\":\"white\",\"linecolor\":\"white\",\"ticks\":\"\",\"title\":{\"standoff\":15},\"zerolinecolor\":\"white\",\"automargin\":true,\"zerolinewidth\":2},\"scene\":{\"xaxis\":{\"backgroundcolor\":\"#E5ECF6\",\"gridcolor\":\"white\",\"linecolor\":\"white\",\"showbackground\":true,\"ticks\":\"\",\"zerolinecolor\":\"white\",\"gridwidth\":2},\"yaxis\":{\"backgroundcolor\":\"#E5ECF6\",\"gridcolor\":\"white\",\"linecolor\":\"white\",\"showbackground\":true,\"ticks\":\"\",\"zerolinecolor\":\"white\",\"gridwidth\":2},\"zaxis\":{\"backgroundcolor\":\"#E5ECF6\",\"gridcolor\":\"white\",\"linecolor\":\"white\",\"showbackground\":true,\"ticks\":\"\",\"zerolinecolor\":\"white\",\"gridwidth\":2}},\"shapedefaults\":{\"line\":{\"color\":\"#2a3f5f\"}},\"annotationdefaults\":{\"arrowcolor\":\"#2a3f5f\",\"arrowhead\":0,\"arrowwidth\":1},\"geo\":{\"bgcolor\":\"white\",\"landcolor\":\"#E5ECF6\",\"subunitcolor\":\"white\",\"showland\":true,\"showlakes\":true,\"lakecolor\":\"white\"},\"title\":{\"x\":0.05},\"mapbox\":{\"style\":\"light\"}}},\"scene\":{\"domain\":{\"x\":[0.0,1.0],\"y\":[0.0,1.0]},\"xaxis\":{\"title\":{\"text\":\"x\"}},\"yaxis\":{\"title\":{\"text\":\"y\"}},\"zaxis\":{\"title\":{\"text\":\"z\"}}},\"legend\":{\"tracegroupgap\":0},\"margin\":{\"t\":60}},                        {\"responsive\": true}                    ).then(function(){\n",
              "                            \n",
              "var gd = document.getElementById('5a749f7a-e7eb-4f0c-986c-528160bd2092');\n",
              "var x = new MutationObserver(function (mutations, observer) {{\n",
              "        var display = window.getComputedStyle(gd).display;\n",
              "        if (!display || display === 'none') {{\n",
              "            console.log([gd, 'removed!']);\n",
              "            Plotly.purge(gd);\n",
              "            observer.disconnect();\n",
              "        }}\n",
              "}});\n",
              "\n",
              "// Listen for the removal of the full notebook cells\n",
              "var notebookContainer = gd.closest('#notebook-container');\n",
              "if (notebookContainer) {{\n",
              "    x.observe(notebookContainer, {childList: true});\n",
              "}}\n",
              "\n",
              "// Listen for the clearing of the current output cell\n",
              "var outputEl = gd.closest('.output');\n",
              "if (outputEl) {{\n",
              "    x.observe(outputEl, {childList: true});\n",
              "}}\n",
              "\n",
              "                        })                };                            </script>        </div>\n",
              "</body>\n",
              "</html>"
            ]
          },
          "metadata": {}
        }
      ],
      "source": [
        "# Graficar los embedddings en 3D\n",
        "\n",
        "vecs, labels = reduce_dimensions(w2v_model,3)\n",
        "\n",
        "fig = px.scatter_3d(x=vecs[:MAX_WORDS,0], y=vecs[:MAX_WORDS,1], z=vecs[:MAX_WORDS,2],text=labels[:MAX_WORDS])\n",
        "fig.update_traces(marker_size = 2)\n",
        "fig.show(renderer=\"colab\") # esto para plotly en colab"
      ]
    },
    {
      "cell_type": "code",
      "execution_count": 27,
      "metadata": {
        "id": "v2jqgjmb5g9I"
      },
      "outputs": [],
      "source": [
        "# También se pueden guardar los vectores y labels como tsv para graficar en\n",
        "# http://projector.tensorflow.org/\n",
        "\n",
        "\n",
        "vectors = np.asarray(w2v_model.wv.vectors)\n",
        "labels = list(w2v_model.wv.index_to_key)\n",
        "\n",
        "np.savetxt(\"vectors.tsv\", vectors, delimiter=\"\\t\")\n",
        "\n",
        "with open(\"labels.tsv\", \"w\") as fp:\n",
        "    for item in labels:\n",
        "        fp.write(\"%s\\n\" % item)"
      ]
    },
    {
      "cell_type": "markdown",
      "metadata": {
        "id": "yMM_SHSaZ9N-"
      },
      "source": [
        "### Consigna del desafío 2\n",
        "\n",
        "**Cada experimento realizado debe estar acompañado de una explicación o interpretación de lo observado**\n",
        "\n",
        "Recuerden que su notebook de entrega debe poder correrse de inicio a fin sin la aparición de errores."
      ]
    },
    {
      "cell_type": "markdown",
      "metadata": {
        "id": "WivQZ3ZCZ9N_"
      },
      "source": [
        "- Crear sus propios vectores con Gensim basado en lo visto en clase con otro artista del dataset Songs.\n",
        "- Elegir términos de interés y buscar términos más similares y menos similares.\n",
        "- Realizar una reduccion de dimensionalidad a los embeddings, llevándolos a 2 dimensiones. Graficar los embeddings proyectados y seleccionar una cantidad de términos (variable MAX_WORDS) de forma tal que la visualización sea adecuada.\n",
        "- Inspeccionar el grafico y buscar pequeños grupos de palabras que puedan formarse. Interpretarlos e intentar obtener conclusiones. En lo posible, acompañar los grupos de palabras con capturas (y pegarlas en celdas de texto)"
      ]
    }
  ],
  "metadata": {
    "colab": {
      "provenance": []
    },
    "kernelspec": {
      "display_name": "Python 3 (ipykernel)",
      "language": "python",
      "name": "python3"
    },
    "language_info": {
      "codemirror_mode": {
        "name": "ipython",
        "version": 3
      },
      "file_extension": ".py",
      "mimetype": "text/x-python",
      "name": "python",
      "nbconvert_exporter": "python",
      "pygments_lexer": "ipython3",
      "version": "3.10.6"
    }
  },
  "nbformat": 4,
  "nbformat_minor": 0
}