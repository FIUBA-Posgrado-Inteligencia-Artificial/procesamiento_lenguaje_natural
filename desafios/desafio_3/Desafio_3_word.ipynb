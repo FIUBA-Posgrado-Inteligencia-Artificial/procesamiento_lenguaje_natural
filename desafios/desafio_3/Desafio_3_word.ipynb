{
  "cells": [
    {
      "cell_type": "markdown",
      "metadata": {
        "id": "g3yeJGnCYxuF"
      },
      "source": [
        "<img src=\"https://github.com/hernancontigiani/ceia_memorias_especializacion/raw/master/Figures/logoFIUBA.jpg\" width=\"500\" align=\"center\">\n",
        "\n",
        "\n",
        "# Procesamiento de lenguaje natural\n",
        "## Modelo de lenguaje con tokenización por palabras"
      ]
    },
    {
      "cell_type": "markdown",
      "metadata": {
        "id": "Iv5PEwGzZA9-"
      },
      "source": [
        "### Consigna\n",
        "- Seleccionar un corpus de texto sobre el cual entrenar el modelo de lenguaje.\n",
        "- Realizar el pre-procesamiento adecuado para tokenizar el corpus, estructurar el dataset y separar entre datos de entrenamiento y validación.\n",
        "- Proponer arquitecturas de redes neuronales basadas en unidades recurrentes para implementar un modelo de lenguaje.\n",
        "- Con el o los modelos que consideren adecuados, generar nuevas secuencias a partir de secuencias de contexto con las estrategias de greedy search y beam search determístico y estocástico. En este último caso observar el efecto de la temperatura en la generación de secuencias.\n",
        "\n",
        "\n",
        "### Sugerencias\n",
        "- Durante el entrenamiento, guiarse por el descenso de la perplejidad en los datos de validación para finalizar el entrenamiento. Para ello se provee un callback.\n",
        "- Explorar utilizar SimpleRNN (celda de Elman), LSTM y GRU.\n",
        "- rmsprop es el optimizador recomendado para la buena convergencia. No obstante se pueden explorar otros.\n"
      ]
    },
    {
      "cell_type": "code",
      "execution_count": 62,
      "metadata": {
        "id": "Y-QdFbHZYj7C"
      },
      "outputs": [],
      "source": [
        "import io\n",
        "import math\n",
        "import pickle\n",
        "import random\n",
        "\n",
        "import gradio as gr\n",
        "import matplotlib.pyplot as plt\n",
        "import numpy as np\n",
        "import pandas as pd\n",
        "import tensorflow as tf\n",
        "from keras.layers import LSTM, Bidirectional, Dense, Dropout, Embedding\n",
        "from keras.models import Sequential\n",
        "from keras.utils import to_categorical\n",
        "from scipy.special import softmax\n",
        "from sklearn.model_selection import train_test_split\n",
        "from tensorflow import keras\n",
        "from tensorflow.keras import layers\n",
        "from tensorflow.keras.losses import SparseCategoricalCrossentropy\n",
        "# Usaremos las utilidades de procesamiento de textos y secuencias de Keras\n",
        "from tensorflow.keras.preprocessing.text import \\\n",
        "    Tokenizer  # equivalente a ltokenizer de nltk\n",
        "from tensorflow.keras.preprocessing.text import \\\n",
        "    text_to_word_sequence  # equivalente a word_tokenize de nltk\n",
        "from tensorflow.keras.utils import pad_sequences  # se utilizará para padding"
      ]
    },
    {
      "cell_type": "markdown",
      "metadata": {
        "id": "xTvXlEKQZdqx"
      },
      "source": [
        "### Datos\n",
        "Se utilizará un dataset ligero de spam de emails: https://www.kaggle.com/datasets/tapakah68/email-spam-classification\n",
        "\n",
        "Primero descomprimimos el fichero y leemos los datos"
      ]
    },
    {
      "cell_type": "code",
      "execution_count": 7,
      "metadata": {
        "id": "IkdPfrQJZdB5"
      },
      "outputs": [
        {
          "name": "stderr",
          "output_type": "stream",
          "text": [
            "\"unzip\" no se reconoce como un comando interno o externo,\n",
            "programa o archivo por lotes ejecutable.\n"
          ]
        }
      ],
      "source": [
        "!unzip -q email_spam.zip"
      ]
    },
    {
      "cell_type": "code",
      "execution_count": 8,
      "metadata": {
        "id": "6j-3nQ4lZjfb"
      },
      "outputs": [
        {
          "data": {
            "text/html": [
              "<div>\n",
              "<style scoped>\n",
              "    .dataframe tbody tr th:only-of-type {\n",
              "        vertical-align: middle;\n",
              "    }\n",
              "\n",
              "    .dataframe tbody tr th {\n",
              "        vertical-align: top;\n",
              "    }\n",
              "\n",
              "    .dataframe thead th {\n",
              "        text-align: right;\n",
              "    }\n",
              "</style>\n",
              "<table border=\"1\" class=\"dataframe\">\n",
              "  <thead>\n",
              "    <tr style=\"text-align: right;\">\n",
              "      <th></th>\n",
              "      <th>title</th>\n",
              "      <th>text</th>\n",
              "      <th>type</th>\n",
              "    </tr>\n",
              "  </thead>\n",
              "  <tbody>\n",
              "    <tr>\n",
              "      <th>0</th>\n",
              "      <td>the secrets to SUCCESS</td>\n",
              "      <td>Hi James,  Have you claim your complimentary g...</td>\n",
              "      <td>spam</td>\n",
              "    </tr>\n",
              "    <tr>\n",
              "      <th>1</th>\n",
              "      <td>You Earned 500 GCLoot Points</td>\n",
              "      <td>alt_text Congratulations, you just earned 500...</td>\n",
              "      <td>not spam</td>\n",
              "    </tr>\n",
              "    <tr>\n",
              "      <th>2</th>\n",
              "      <td>Your GitHub launch code</td>\n",
              "      <td>Here's your GitHub launch code, @Mortyj420!   ...</td>\n",
              "      <td>not spam</td>\n",
              "    </tr>\n",
              "    <tr>\n",
              "      <th>3</th>\n",
              "      <td>[The Virtual Reward Center] Re: ** Clarifications</td>\n",
              "      <td>Hello,   Thank you for contacting the Virtual ...</td>\n",
              "      <td>not spam</td>\n",
              "    </tr>\n",
              "    <tr>\n",
              "      <th>4</th>\n",
              "      <td>10-1 MLB Expert Inside, Plus Everything You Ne...</td>\n",
              "      <td>Hey Prachanda Rawal,  Today's newsletter is Ja...</td>\n",
              "      <td>spam</td>\n",
              "    </tr>\n",
              "    <tr>\n",
              "      <th>...</th>\n",
              "      <td>...</td>\n",
              "      <td>...</td>\n",
              "      <td>...</td>\n",
              "    </tr>\n",
              "    <tr>\n",
              "      <th>79</th>\n",
              "      <td>Your application for the position of  Child Pr...</td>\n",
              "      <td>Dear Maryam,      I would like to thank you fo...</td>\n",
              "      <td>not spam</td>\n",
              "    </tr>\n",
              "    <tr>\n",
              "      <th>80</th>\n",
              "      <td>Your Kilimall Account is Ready - Shopping Now!</td>\n",
              "      <td>Dear Customer,  Welcome to Kilimall, Thanks so...</td>\n",
              "      <td>not spam</td>\n",
              "    </tr>\n",
              "    <tr>\n",
              "      <th>81</th>\n",
              "      <td>Your Steam account: Access from new web or mob...</td>\n",
              "      <td>Dear vladis163rus, Here is the Steam Guard cod...</td>\n",
              "      <td>not spam</td>\n",
              "    </tr>\n",
              "    <tr>\n",
              "      <th>82</th>\n",
              "      <td>Your uploaded document is rejected</td>\n",
              "      <td>View In Browser | Log in      Skrill logo Mone...</td>\n",
              "      <td>not spam</td>\n",
              "    </tr>\n",
              "    <tr>\n",
              "      <th>83</th>\n",
              "      <td>You've Earned a Reward from Bard Explorers India</td>\n",
              "      <td>You've received a gift! Sign in to your Bard E...</td>\n",
              "      <td>not spam</td>\n",
              "    </tr>\n",
              "  </tbody>\n",
              "</table>\n",
              "<p>84 rows × 3 columns</p>\n",
              "</div>"
            ],
            "text/plain": [
              "                                                title  \\\n",
              "0                              the secrets to SUCCESS   \n",
              "1                        You Earned 500 GCLoot Points   \n",
              "2                             Your GitHub launch code   \n",
              "3   [The Virtual Reward Center] Re: ** Clarifications   \n",
              "4   10-1 MLB Expert Inside, Plus Everything You Ne...   \n",
              "..                                                ...   \n",
              "79  Your application for the position of  Child Pr...   \n",
              "80     Your Kilimall Account is Ready - Shopping Now!   \n",
              "81  Your Steam account: Access from new web or mob...   \n",
              "82                 Your uploaded document is rejected   \n",
              "83   You've Earned a Reward from Bard Explorers India   \n",
              "\n",
              "                                                 text      type  \n",
              "0   Hi James,  Have you claim your complimentary g...      spam  \n",
              "1    alt_text Congratulations, you just earned 500...  not spam  \n",
              "2   Here's your GitHub launch code, @Mortyj420!   ...  not spam  \n",
              "3   Hello,   Thank you for contacting the Virtual ...  not spam  \n",
              "4   Hey Prachanda Rawal,  Today's newsletter is Ja...      spam  \n",
              "..                                                ...       ...  \n",
              "79  Dear Maryam,      I would like to thank you fo...  not spam  \n",
              "80  Dear Customer,  Welcome to Kilimall, Thanks so...  not spam  \n",
              "81  Dear vladis163rus, Here is the Steam Guard cod...  not spam  \n",
              "82  View In Browser | Log in      Skrill logo Mone...  not spam  \n",
              "83  You've received a gift! Sign in to your Bard E...  not spam  \n",
              "\n",
              "[84 rows x 3 columns]"
            ]
          },
          "execution_count": 8,
          "metadata": {},
          "output_type": "execute_result"
        }
      ],
      "source": [
        "dataframe_spam = pd.read_csv(\"email_spam.csv\", encoding='latin-1')\n",
        "# Reemplazar '\\r' por un string vacío en todas las columnas\n",
        "dataframe_spam = dataframe_spam.replace({'\\r': ' ', '\\n': ' ', \"\\?\\?\": ''}, regex=True)\n",
        "dataframe_spam.head(300)"
      ]
    },
    {
      "cell_type": "markdown",
      "metadata": {},
      "source": [
        "Obtenemos el texto de interés. En este caso, el contenido de los tweets."
      ]
    },
    {
      "cell_type": "code",
      "execution_count": 9,
      "metadata": {
        "id": "Gb39v3PaZmRH"
      },
      "outputs": [
        {
          "data": {
            "text/html": [
              "<div>\n",
              "<style scoped>\n",
              "    .dataframe tbody tr th:only-of-type {\n",
              "        vertical-align: middle;\n",
              "    }\n",
              "\n",
              "    .dataframe tbody tr th {\n",
              "        vertical-align: top;\n",
              "    }\n",
              "\n",
              "    .dataframe thead th {\n",
              "        text-align: right;\n",
              "    }\n",
              "</style>\n",
              "<table border=\"1\" class=\"dataframe\">\n",
              "  <thead>\n",
              "    <tr style=\"text-align: right;\">\n",
              "      <th></th>\n",
              "      <th>Text</th>\n",
              "    </tr>\n",
              "  </thead>\n",
              "  <tbody>\n",
              "    <tr>\n",
              "      <th>0</th>\n",
              "      <td>the secrets to SUCCESS Hi James,  Have you cl...</td>\n",
              "    </tr>\n",
              "    <tr>\n",
              "      <th>1</th>\n",
              "      <td>You Earned 500 GCLoot Points  alt_text Congra...</td>\n",
              "    </tr>\n",
              "    <tr>\n",
              "      <th>2</th>\n",
              "      <td>Your GitHub launch code Here's your GitHub la...</td>\n",
              "    </tr>\n",
              "    <tr>\n",
              "      <th>3</th>\n",
              "      <td>[The Virtual Reward Center] Re: ** Clarificati...</td>\n",
              "    </tr>\n",
              "    <tr>\n",
              "      <th>4</th>\n",
              "      <td>10-1 MLB Expert Inside, Plus Everything You Ne...</td>\n",
              "    </tr>\n",
              "    <tr>\n",
              "      <th>...</th>\n",
              "      <td>...</td>\n",
              "    </tr>\n",
              "    <tr>\n",
              "      <th>79</th>\n",
              "      <td>Your application for the position of  Child Pr...</td>\n",
              "    </tr>\n",
              "    <tr>\n",
              "      <th>80</th>\n",
              "      <td>Your Kilimall Account is Ready - Shopping Now!...</td>\n",
              "    </tr>\n",
              "    <tr>\n",
              "      <th>81</th>\n",
              "      <td>Your Steam account: Access from new web or mob...</td>\n",
              "    </tr>\n",
              "    <tr>\n",
              "      <th>82</th>\n",
              "      <td>Your uploaded document is rejected View In Bro...</td>\n",
              "    </tr>\n",
              "    <tr>\n",
              "      <th>83</th>\n",
              "      <td>You've Earned a Reward from Bard Explorers Ind...</td>\n",
              "    </tr>\n",
              "  </tbody>\n",
              "</table>\n",
              "<p>84 rows × 1 columns</p>\n",
              "</div>"
            ],
            "text/plain": [
              "                                                 Text\n",
              "0    the secrets to SUCCESS Hi James,  Have you cl...\n",
              "1    You Earned 500 GCLoot Points  alt_text Congra...\n",
              "2    Your GitHub launch code Here's your GitHub la...\n",
              "3   [The Virtual Reward Center] Re: ** Clarificati...\n",
              "4   10-1 MLB Expert Inside, Plus Everything You Ne...\n",
              "..                                                ...\n",
              "79  Your application for the position of  Child Pr...\n",
              "80  Your Kilimall Account is Ready - Shopping Now!...\n",
              "81  Your Steam account: Access from new web or mob...\n",
              "82  Your uploaded document is rejected View In Bro...\n",
              "83  You've Earned a Reward from Bard Explorers Ind...\n",
              "\n",
              "[84 rows x 1 columns]"
            ]
          },
          "execution_count": 9,
          "metadata": {},
          "output_type": "execute_result"
        }
      ],
      "source": [
        "dataframe_spam_title = dataframe_spam[\"title\"]\n",
        "dataframe_spam_text = dataframe_spam[\"text\"]\n",
        "dataframe_spam = pd.DataFrame({'Text': dataframe_spam_title + ' ' + dataframe_spam_text})\n",
        "dataframe_spam.head(300)"
      ]
    },
    {
      "cell_type": "markdown",
      "metadata": {
        "id": "VeMpWpiyG5Ya"
      },
      "source": [
        "Una de las primeras decisiones que hay que tomar es el tamaño de contexto de tokens máximo que puede consumir el modelo. Este podría ser un hiperparámetro del problema.\n",
        "\n",
        "Para elegir el tamaño de contexto máximo para este problema se puede explorar el dataset, para ello:\n",
        "- se consideran las palabras como términos.\n",
        "- se segmentará el texto de todos los tweets del dataset y ses explorará la cantidad de términos presentes.\n",
        "\n"
      ]
    },
    {
      "cell_type": "code",
      "execution_count": 10,
      "metadata": {
        "id": "riT898QlZnmF"
      },
      "outputs": [
        {
          "name": "stdout",
          "output_type": "stream",
          "text": [
            "Cantidad de documentos: 84\n"
          ]
        }
      ],
      "source": [
        "print(\"Cantidad de documentos:\", dataframe_spam.shape[0])"
      ]
    },
    {
      "cell_type": "markdown",
      "metadata": {
        "id": "cP1JdiOIKQWi"
      },
      "source": [
        "### Elegir el tamaño del contexto"
      ]
    },
    {
      "cell_type": "code",
      "execution_count": 11,
      "metadata": {
        "id": "jveeyMVKHn9J"
      },
      "outputs": [
        {
          "data": {
            "text/plain": [
              "[\" the secrets to SUCCESS Hi James,  Have you claim your complimentary gift yet?  I've compiled in here a special astrology gift that predicts everything about you in the future?  This is your enabler to take the correct actions now.  >> Click here to claim your copy now >>  Claim yours now, and thank me later.   Love, Heather\",\n",
              " ' You Earned 500 GCLoot Points  alt_text Congratulations, you just earned 500   You completed the following offer:  View Points History To stop recieving notifications when you earn points, please visit your profile and click \"Preferences\" to change your setting.  Room 1203, 12th Floor, Tower 3  China Hong Kong City, 33 Canton Road  Tsim Sha Tsui, Kowloon, Hong Kong  Unsubscribe',\n",
              " \" Your GitHub launch code Here's your GitHub launch code, @Mortyj420!   an octocat standing next to a rocket  Continue signing up for GitHub by entering the code below:  63024610   Open GitHub\",\n",
              " '[The Virtual Reward Center] Re: ** Clarifications Hello,   Thank you for contacting the Virtual Reward Center. We here at the Virtual Reward Center do not dictate what Rewards get sent out to recipients. Please contact your program sponsor, (the company from which you originally received your Reward) at helpdesk@cspace.com for this inquiry.   We apologize for any inconvenience.     Thank You,  The Virtual Reward Center Customer Support Team Lead',\n",
              " '10-1 MLB Expert Inside, Plus Everything You Need To Have A BLOCKBUSTER Saturday Hey Prachanda Rawal,  Today\\'s newsletter is Jam-Packed with everything you need to have a BLOCKBUSTER day, including an Insider Play, video picks, two Spotlight games, and Special Insider Deals. Just our way of saying thanks for being an Insider, so strap in, and let\\'s have a GREAT Saturday.    ____________________________________________ Expert Of The Day - Andre\\' IFill  Andre \"The Tower\" Ifill is on another Strong MLB and he will keep it rolling today. Andre comes in off a perfect 5-0 day on the MLB Diamond and he is now 10-1 in his last 11. Now that is one heck of a run. Today, Andre has zeroed in of a HUGE MLB play that he is calling his Saturday Sizzler. Best Of All, This play is your\\'s for just $14.00.    CLICK HERE To Get Andre\\'s Saturday Sizzler For Just $14.00  CLICK HERE To Get A Week Of Andre\\'s MLB Plays For Just $59.00            Special Offer From Ceasars   Ready to go Full Caesar? Place your first bet of $10 or more. If it doesn\\'t win, Caesars will refund your bet up to $1250. And now they\\'ve sweetened the pot! Win OR lose you will get 1,000 reward credits AND 1,000 Tier credits! Now, THAT\\'S Full Caesar! Use promo code WINNERSFULL and sign up today! CLICK HERE   Disclaimer: 21+. Terms and conditions apply Today\\'s Top Spotlight Game Braves vs Reds by James Boutros              The Atlanta Braves will be on the road as they take on the Cincinnati Reds. Jared Shuster will take the mound for the Braves. Granot spam Ashcraft is expected to be the starting pitcher for the Reds. Jared Shuster is expected to start for the Braves. He went 5.2 innings and gave up five hits, three walks, one earned run, and struck out two in a win in his last start against the Colorado Rockies. On the season, he has a record of 4-2 with a 4.57 ERA, 1.38 WHIP, and a 23/22 K/BB ratio in eight starts. Opposing batters are hitting .233 against Shuster.  The Braves have been very good on offense this season. They are top 10 in the league in runs, hits, home runs, RBIs, batting average, OBP, SLG, and OPS. Matt Olson leads the team in home runs. Ronald Acuna leads the team in runs, hits, and stolen bases. Acuna is top five in the MLB in runs, hits, and stolen bases... CLICK HERE to finish reading and see our PREDICTION on this contest.    CLICK HERE to see our PREDICTIONS on all of Today\\'s MLB Action.     Looking To Bet This Game? Check Out These Incredible Sportsbook Offers - CLICK HERE     Will Rogers wants to tell you a secret. Ready? Here it is. CFL LINES PROVIDE THE MOST EXPLOITABLE ADVANTAGES OF ANY SPORT! Will has done exactly that so far this year, going a strong 6-1 on the CFL season so far. If youâ\\x80\\x99re jonesing for football and you like soft lines, this  100% GUARANTEED CANADIAN CRUSHER is for you. Just $30.00. CLICK HERE     ***JOIN Our Discord Community***  We know these cappers are hot, but donâ\\x80\\x99t let the fun end here! Click the links below to follow us on Twitter and join our Discord Community, as we aim to take down the books. Weâ\\x80\\x99re cashing in on  Picks, Parlays, contests, and more! This is your chance to talk to our experts and show off your skills. If you like next-level sports betting conversations, this is the place for you.  CLICK HERE To Join The Community Our Expert Video Picks Everyday our Expert Handicappers prepare a daily Pick video for you! Each is just a few minutes long and covers their analysis on the game.  CLICK HERE to watch Today\\'s Videos on YouTube. Today\\'s Spotlight Game #2 Astros vs Dodgers by Andre\\' IFill          For anyone with chores on Saturday, take out the trash early. The Houston Astros (41-34) and Los Angeles Dodgers (41-33) are set to bang on Saturday night as they continue their weekend series. Dodger Stadium is hosting, and there won\\'t be a shortage of cameras catching every angle. The first pitch on Saturday is scheduled for 7:15 p.m. EDT and FOX will have the broadcast as they did for their infamous 2017 World Series battle. These two dugouts will do whatever it takes for a win right now, as they are both barely clinging to playoff spots. Let\\'s see the lengths they\\'re willing to go.     There isn\\'t a club in the majors with a lower ERA than the Houston Astros. The bullpen is impressive, with top 10 marks in ERA, FIP, and WAR. However, the starting rotation is how the Astros won it all last season, and they\\'ve also been stellar in 2023. Unfortunately, injuries have taken their toll, thrusting Ronel Blanco into the rotation temporarily. As a starter this season, he\\'s thrown 17.0 innings. In that time, he\\'s allowed 17 hits, nine walks, five homers, and nine earned runs. His road ERA is 6.30, mostly due to one disastrous relief appearance in April... CLICK HERE to finish reading and see our PREDICTION on this contest.   Another day, another solid 2-1 performance from Mike â\\x80\\x9cBig Gameâ\\x80\\x9d Briggs, running his major league heater to 14-4 in his last 18 Premium Plays. No one has spent more time atop the leaderboard than Briggs and if you havenâ\\x80\\x99t given him a shot, todayâ\\x80\\x99s 100% GUARANTEED MLB MAX UNIT MONSTER is the perfect opportunity to do just that. This game goes at 1:10 ET and it is just $24.00. CLICK HERE Insider\\'s Exclusive Pick We Got Back On Track Yesterday Our Freebie yesterday was on the Under 9 in the Minnesota/ Detroit game and it was an easy winner as just five runs were scored in the contest. We will look to Keep It Rolling today with a FREE play from Caleb Davis.    Free Pick: Angels/ Rockies Over 12            The Angels have been able to hit the long ball well all season, and during night games they\\'ve managed to do so even more. Colorado is sitting right around the top 10 in overall batting average and appears to have found their swing of late, racking up 13 runs in their last three games and hitting 21 homers in 20 June contests. Colorado isn\\'t foreign to giving up runs either and with the Angels\\' ability to drive runners in they should do so. Canning has had ball control issues at times this season and if the Rockies are able to make him work on the mound, they should like their chances to continue their hot hitting. Take the over. ',\n",
              " 'AFE Model Casting Call  Model Casting Call Thank you for taking the time to register for the Anambra Fashion Expo 2023 Model Call. We are thrilled to have received your information and are excited to review your submission.  Our team will be carefully reviewing all of the applications we receive over the next few weeks  Have you followed us on our social media handles?  Remember, one of the prerequisites for qualification is to follow all our social media accounts and share all our content using the hashtag #AFE2023  You can follow us on Facebook, Instagram, and Twitter.  Facebook: https://facebook.com/AnambraFashionExpo2023 Instagram: https://instagram.com/anambrafashionexpo Twitter: https://twitter.com/anambrafashion  In the meantime, we encourage you to stay connected and keep an eye out for updates about the event. We will be posting!  Note: Create your personalized profile picture (DP) for the Model Casting of the Anambra Fashion Expo 2023  You can create your DP using the following link: https://getdp.co/afe2023  Best Regards,  Anambra Fashion Expo 2023 Team ',\n",
              " 'AFE Model Casting Call  Model Casting Call Thank you for taking the time to register for the Anambra Fashion Expo 2023 Model Call. We are thrilled to have received your information and are excited to review your submission.  Our team will be carefully reviewing all of the applications we receive over the next few weeks  Have you followed us on our social media handles?  Remember, one of the prerequisites for qualification is to follow all our social media accounts and share all our content using the hashtag #AFE2023  You can follow us on Facebook, Instagram, and Twitter.  Facebook: https://facebook.com/AnambraFashionExpo2023 Instagram: https://instagram.com/anambrafashionexpo Twitter: https://twitter.com/anambrafashion  In the meantime, we encourage you to stay connected and keep an eye out for updates about the event. We will be posting!  Note: Create your personalized profile picture (DP) for the Model Casting of the Anambra Fashion Expo 2023  You can create your DP using the following link: https://getdp.co/afe2023  Best Regards,  Anambra Fashion Expo 2023 Team ',\n",
              " \"Affordable American MBA degree ($180month) Today more than ever you need to upskill and reskill as the global job market gets increasingly competitive. We hope these payment options will bring down any barriers standing in your way. Nexford prides itself on being the most affordable American university in the world.  The Nexford academic model allows you to finish as fast as you want, and the faster you finish, the less you pay. Our tuition fees are calculated monthly ($180/month for an MBA), so the faster you complete your degree the less the degree will cost you. Most students complete our MBA in an average of 18 months (average total cost $3,240). Some completed in 12 to 14 months.  Specialize in the world's hottest sectors like AI, Data Science, Cybersecurity, E-Commerce, etc. Upon graduation, you'll walk away with a specialization certificate on top of your Master's in Business Administration (MBA) degree.    To find out more about applying to Nexford University, or anything else, sign up and we will be in touch with you.  Nexford University is accredited by the Distance Education Accrediting Commission (DEAC). The DEAC is listed by the U.S. Department of Education as a recognized accrediting agency and is recognized by the Council for Higher Education Accreditation (CHEA)  So what are you waiting for? Join a next-generation university today.\",\n",
              " 'amazon.com.tr, action needed: Sign-in  Logo Image Senol Yildirim,  Someone signed-in to your account.  When: Jul 06, 2023 07:34 PM Turkey Time Device: Amazon Shopping App for Android Near: Manisa, Turkey If this was you, you can disregard this message. Otherwise, please let us know.',\n",
              " \"Appen 9 Project Invite - A5655?Request detail 27?Asia Image Collection Project Hi,     Thank you for your interest in joining Appen! This email is to officially invite you to a NEW Project on Appen 9 Platform A5655?Request detail 27?Asia Image Collection Project.     To apply for this project, click here to log on Appen Connect, then click here (project link) to opt in to China platform by still using your Appen Connect email address and password.  Your payment will be processed through Appen Connect to your Payoneer account after your work is accepted.     Project Overview:  You are invited to participate in a new image collection and annotation project. We are actively seeking participants who are interested in being the image subjects.  The project seeks to build a large set of annotated images to help machine learning (ML) and artificial intelligence (AI) systems perform more fairly and ethically across a diverse range of people. By participating in this project, your image, demographics, and related annotations (â\\x80\\x9cYour Dataâ\\x80\\x9d) may be shared publicly so that the broader AI community may develop, train, and evaluate ML and AI software, algorithms, and other technologies. This means that your images would be individually viewable among several thousand other images in the dataset. In addition, your data and images could be published in various media in connection with promotions or publications related to the image dataset. For example, your image could be used as a sample image in an academic paper related to the image dataset or in a blog post or presentation promoting the dataset. Your name and email address will not be shared publicly, and individuals accessing the image set will be contractually. restricted from attempting to re-identify you, along with other reasonable use restrictions.  To participate as an image subject, you must:  ? Provide 10 different images of yourself in different poses and attire with a minimum of 1  day between each image  ? Provide self-reported demographics (e.g., ancestry, pronoun, nationality, country of  residence, age)  ? Provide images taken with a smartphone, DSLR camera, or compact camera with at  least 8-megapixels, manufactured after 2011.  ? Read and agree to the projectâ\\x80\\x99s informed consent form  ? Be at least the age of majority where you reside.  We are looking to pay a range of 3 ($)/row.  Kindly wait for the Project team email as they will reach out to those who will be considered to work on their project.  Note: Sharing photos and other information online is fairly commonplace, however, itâ\\x80\\x99s important to remember the risks when allowing Your Data to be shared online. Once Your Data is made public, it could possibly be used for unauthorized or unintended purposes, such as catfishing or deep fakes or sold to third parties for various purposes, such as targeted advertising or other commercial or political activities. It's important to carefully consider the potential risks before participating in this project.     Project Opt In Guidelines: https://connect.appen.com/qrp/public-files/emails/2023/06/A5655_Image_Collection_NEW_v2.pdf     To find out more about this project or if you have any questions/issues, please contact the project support - yuyang@appen.com with email subject: â\\x80\\x9cA5655?Request detail 27?Asia Image Collection Projectâ\\x80\\x9d.     We are extremely excited to have you join the Appen 9 Crowd and participate in the Project!     Kind regards,  Appen 9 Support Team  If you have any questions or concerns about this message, please contact support.\",\n",
              " \"APPLICATION PROCESS  GOOD DAY SIR/MADAM    In 2020 I applied to the institution but I didn't know I was accepted for the 2021 Arcademic Year. As I was trying to apply for this year for the past few months but with no success, I noticed that I owe the institution R3280. I kindly please ask for your assistance as I wish to enroll in this Institution for this Academic year 2022.  YOURS SINCERELY  RESHOKETSWE SEKHUKHUNE\",\n",
              " \"Are you a luxury traveller or know someone who is View in browser  Are you a luxury traveller or know someone who is? We have a task for you on our platform. Don't miss out on your last chance to complete this task!   $10  12.July.23  10 mins You may interview a friend/contact from the US, France, South Korea, UAE and Japan who is a luxury traveller with a salary higher than $150,000 or the equivalent, or you may cold call luxury travel companies and interview their affluent customers.   Think you're a good match? Complete the survey today!  Go to task  ? Available on   Great   based on 342 reviews       Copyright Â© 2023 GrapeData. All rights reserved.  Privacy Policy | Terms of use | Contact  Want to change how you receive these emails?  Unsubscribe from this list   GrapeData Limited (â\\x80\\x9cGrapeDataâ\\x80\\x9d) is incorporated in England and Wales under company number 11187265. GrapeDataâ\\x80\\x99s registered address is 1 Waterhouse Square, London, EC1N 2ST     \",\n",
              " 'Celebrate 15 years of the Bible App! How has God used the Bible App to impact your life? Maybe itâ\\x80\\x99s a Verse of the Day that spoke to you in a difficult season, or a prayer that you read at just the right time.  The Bible App has become the worldâ\\x80\\x99s most widely used and trusted digital Bible reading tool.  Today, weâ\\x80\\x99re celebrating the Bible Appâ\\x80\\x99s 15-year anniversary! What started as an idea in an airport security line has become a global movement thatâ\\x80\\x99s reaching people everywhereâ\\x80\\x94including you.  Celebrate what God is doing through His Word by reflecting on this special Daily Refresh.',\n",
              " 'Changes to our Terms and Conditions and Privacy Notice Changes to our Terms and Conditions and Privacy Notice Today we updated TIDALâ\\x80\\x99s Terms and Conditions of Use (â\\x80\\x9cTermsâ\\x80\\x9d) to provide information about some of our new product features. In particular, we added the most up-to-date information about Live (Section 5), including relevant limitations. In addition, we removed language related to our Direct Artist Payouts program, which is being discontinued. See here for more information about that. In addition, we want to give you advance notice of some additional, upcoming changes to our Terms that will go into effect on April 22, 2023: â\\x80¢ We are updating language related to how TIDAL and you may resolve disputes, including procedures related to how you may opt-out of binding arbitration; â\\x80¢ We are clarifying our rights with respect to information or feedback you provide to us about our products, including via our Early Access Program; â\\x80¢ We are adding clearer language about restrictions on access to our service in countries where we do not formally operate. You can see the Terms and Conditions that will go into effect on April 22 here. By continuing to use TIDAL after April 22, you agree to the updated Terms. We also updated TIDALâ\\x80\\x99s Privacy Notice to reflect how we process your personal information if you use our new product features. For example, you can now upload a profile picture, which will be part of your public profile and publicly visible on TIDAL (Section 6.1). If you use our Live feature, some of your data will be visible to other TIDAL users and audiences outside of TIDAL (Section 6.3). 0',\n",
              " 'Combating scams in the Discogs Marketplace Discogs has recently detected an increase in scammers in the Marketplace, and weâ\\x80\\x99re taking action to address the issue. New sellers on Discogs will undergo a waiting period to reduce fraud attempts.  We are committed to maintaining a safe and trustworthy marketplace for independent buyers and sellers. If you see suspicious activity, please report it immediately to Discogs Support through this form.  Learn more about how to recognize fraud in our guide to best practices for buying safely on Discogs:  Safe Buying Tips',\n",
              " 'Combating scams in the Discogs Marketplace ondiekijohn254, Discogs has recently detected an increase in scammers in the Marketplace, and weâ\\x80\\x99re taking action to address the issue. New sellers on Discogs will undergo a waiting period to reduce fraud attempts.  We are committed to maintaining a safe and trustworthy marketplace for independent buyers and sellers. If you see suspicious activity, please report it immediately to Discogs Support through this form.  Learn more about how to recognize fraud in our guide to best practices for buying safely on Discogs:  Safe Buying Tips  Sincerely, Discogs',\n",
              " \"Come back and keep earning with Quick Pay Survey Quick Pay SurveyÂ®             Hello Anggraeni ,  Remember, we can't hang onto inactive accounts forever! To keep the balance of $3.28 in your Quick Pay SurveyÂ® account, you need to visit your account. Logging in today will save your balance from being cleared.   Login Now   Thanks! - The Quick Pay SurveyÂ® Team         You have received this email because you signed up to be a member of Quick Pay SurveyÂ® on January 16, 2023 from 103.144.18.94  We respect your privacy. If you would like to stop receiving messages from Quick Pay SurveyÂ®, please Unsubscribe.        Â© 2009 - Present Quick Pay SurveyÂ® | Kvieciu g. 4 - 23, Vilnius LT-08438     \",\n",
              " \"Congratulations! You have been selected for a special scholarship from Unicaf  Dear Joseph Alex Eze   We are pleased to inform you that as part of Unicafâ\\x80\\x99s 10-year anniversary, you have been selected for a special scholarship which will allow you to study towards a British Masterâ\\x80\\x99s degree of your choice for only ?1,950.   We are excited to have you join us and believe that this program will provide you with the skills and knowledge you need to succeed in your chosen field. More than 90% of our graduates are in employment or have earned a higher salary.   We believe that this opportunity will allow you to pursue your educational goals without the financial burden that accompanies a Master's degree programme. We encourage you to take advantage of this offer and join us in the pursuit of knowledge and academic excellence by replying to this email.   To take advantage of this offer please quote to your Adviser the code NG1950.     Sincerely, Olusegun Onyinyechi Your Scholarship Adviser \",\n",
              " \"Customer Service Officer + 19 new jobs - Job Alert from JobStreet.com Jobstreet.com  Hi ANGGRAENI, we've got new job recommendations for you. Jobstreet.com Customer Service Officer PT Intisumber Hasil Sempurna Global Multiple work locations company logo Sales Promotor / Merchandiser - Penempatan Surabaya / Bali PT Niagamas Lestari Gemilang (Tools, Machinery and Industrial Equipment) Multiple work locations IDR 4,000,000 - 4,600,000 company logo Customer Service (Branch Tarakan) PT Bank JTrust Indonesia, Tbk Tarakan Supportive working environment Competitive remuneration package Career opportunities company logo FRONT OFFICE REPRESENTATIVE Ungasan Medical Care Badung Customer Service PT Bali Utama Cakrawala Bali Competitive Salary (Negotiable depend on qualifications) Festive Allowance (THR) Training & Development company logo Formalities Officer (Customer Service) PT LPS Indonesia Jakarta Raya IDR 5,500,000 - 7,500,000 Good and friendly working environment Passionate & Energetic Work Culture Enjoy a fair work-life balance company logo KURIR Eterli Acrylic Lampung company logo Customer Service Officer oma elly kitchen Jakarta Raya IDR 4,600,000 - 5,750,000 Career development in Prestigeous Company which is Oma Elly --- --- company logo Customer Service - Operations (Jogja, Contract-based) Shopee Internasional Indonesia Yogyakarta company logo Customer Service Sinar Mas Land Jakarta Raya company logo Sales Office Administration (Manado) PT Asuransi Jiwa Sinarmas MSIG Tbk. Manado company logo Penjahit Balqis Humaira Surabaya ADMIN PENJUALAN DAN PERPAJAKAN PT Berkat Energi Sinar Timur Surabaya Customer Service PT Bank Ina Perdana Tbk Jakarta Raya company logo ADMIN AYURA CLINIC Jawa Timur Front office Leader Hotel Quirin Semarang company logo Admin Sales PT Conbloc Indonesia Persada Surabaya company logo CUSTOMER SERVICE Ti-e-nette Dressing Room Yogyakarta company logo FRONTLINER JAYA UTAMA CELLULAR Madiun Customer service Cengkareng Rezeki Abadi Banten IDR 4,000,000 - 4,500,000 company logo View more jobs Edit this alert    Unsubscribe    Help Connect with JobStreet        Privacy Statement   Terms and Conditions This email was sent to you as a registered user of www.jobstreet.com   Copyright Â© 1998-2023, JobStreet. All rights reserved. \",\n",
              " \"denis : Your Amazon Prime Membership Cancellation Your Amazon Prime free trial has been cancelled.    Amazon.com   Your Amazon    |  Today's Deals    |  Gift Cards     Hello denis,  When you sign up for an Amazon Prime free trial, we require a valid card to ensure that your membership can upgrade to a paid plan at the end of the trial period. There is an outstanding issue with the credit card you provided and we cannot charge you for the annual membership fee. As a result, your Amazon Prime free trial has been canceled.  If you'd like to join Amazon Prime again, start a paid membership by signing-up during checkout or visiting the Amazon Prime page.  Thank you,  Amazon.com Customer Service      Start a New Prime Membership        Â© Amazon.com, Inc. or its affiliates. All rights reserved. Amazon, Amazon.com, Prime, the Amazon.com logo and 1-Click are registered trademarks of Amazon.com, Inc. or its affiliates. Amazon.com, 410 Terry Avenue N., Seattle, WA 98109-5210.  This message was sent to: denis.supermen888@gmail.com   \",\n",
              " \"Do you have $7 Walid? Hello Walid,  Do you have $7?  I ask because I'm about to do something STUPID.  The thing is, what I'm about to offer you isn't just amazing, it's totally CRAZY.  Here's the deal:  Pay $7 and I'll give you $177 back.  Seriously, as if that wasn't good enough value, the products you'll get have the potential to create you a $7000 a month income!  See exactly what you get for you $7 HERE.  Regards,  Charlie\",\n",
              " 'English Just wanted to make',\n",
              " 'English RTD to iiiiiiuiiiiiiiiiiiii',\n",
              " 'English Sfhdg to iiiiiiuiiiiiiiiiiiii to',\n",
              " \"Feedback Request: How are we doing? Share your Respondent feedback Your feedback means the world to us. If you don't mind, please take a minute to tell us how we're doing. Thank you!  How likely are you to recommend Respondent to a friend or colleague? 0 ? 1 ? 2 ? 3 ? 4 ? 5 ? 6 ? 7 ? 8 ? 9 ? 10 0: Not at all likely 10: Extremely likely  Respondent, Inc.   PO Box 4668 #57891    New York,  New York   10163     Update your email preferences to choose the types of emails you receive.  \",\n",
              " \"Flowing with the markets Welcome to our second weekly newsletter.     This weekâ\\x80\\x99s edition:  The featured instruments are Indices  ? Traders pop quiz  ? Latest podcast episodes    Free classes sign up   Links to even more online resources  This week's featured instruments - Indices     This week we focus on Index instruments that have blown the charts in the last couple of months. Traders usually diversify their holdings on currency instruments with commodities, stocks and Index instruments. Index instruments include a basket of stocks picked based on the sector, capitalization, or regions. Major Indices from renowned global markets offered at FXPesa include Nasdaq (UT100), Standards and Poor 500 (US500) and Dow Jones (US30) traded at NYSE.     S&P500 has been rising since the beginning of the year with more than 15%, as well as Nasdaq pumping to above 30%. The two indices prove the adage that time in the market surpasses timing the market. Recent moves will show fluctuations, but long-term trend shows consistent gains in indices.\",\n",
              " 'Get ready for Test [Co-Deo] Hello Sathya,  You have been invited to participate in a video discussion for Co-Deo community. Below are the details of the event.  Discussion name: Test  Date and time: Jun 30 2023, 15:18 - Jun 30 2023, 19:18 (Atlantic/St_Helena)  Video Discussion Link: Join Meeting   We look forward to your participation in the discussion.  Thank you,  Co-Deo',\n",
              " \"Get the Competitive Edge:  Project-Winning Strategies Revealed Hi Taiwo  We're just over halfway through the year and we thought we'd check in on how things are going for you.  Have you been successful in winning projects and earning more compared to last year? Or are you still working towards that first big win?     No matter where you are in your journey, we've got something exciting for you. We're bringing you three new videos from our top freelancer, Matt Starky. These videos are packed with valuable tips and tricks that will benefit both beginners and those who already have 50 projects under their belts. Matt shares his proven strategies to win projects, even if you lack certain skills.     By incorporating some of these methods into your own routine for winning projects, you'll be on the fast track to becoming your own boss as a freelancer\",\n",
              " \"Get the Competitive Edge:  Project-Winning Strategies Revealed Hi rehan     We're just over halfway through the year and we thought we'd check in on how things are going for you.     Have you been successful in winning projects and earning more compared to last year? Or are you still working towards that first big win?     No matter where you are in your journey, we've got something exciting for you. We're bringing you three new videos from our top freelancer, Matt Starky. These videos are packed with valuable tips and tricks that will benefit both beginners and those who already have 50 projects under their belts. Matt shares his proven strategies to win projects, even if you lack certain skills.     By incorporating some of these methods into your own routine for winning projects, you'll be on the fast track to becoming your own boss as a freelancer.\",\n",
              " 'Gut Health & Weight Loss Plan - Role of Supplement Hi Maryam,,  Please find the information on the role of the supplements we take during the program.  The Supplements are high quality nutritional support assisting to Heal & Repair our Gut. The three key reasons we have the supplements are:  - The primary reason is to balance your hormones â\\x80\\x93 particularly your insulin levels. (Insulin being responsible for fat uptake in the cells â\\x80\\x93 especially your liver cells). Once your hormones are balanced your body can in fact learn to lose weight and efficiently, and keep it off. As well as with the weight loss you will find your moods become much more stable, anxiety levels decrease, your skin becomes clearer, your head and your thoughts become clearer, and your energy levels will soar (no more naps in the afternoon â\\x80\\x93 itâ\\x80\\x99s very liberating).  - Secondly the nutrition is responsible for cleaning your Gut. The vast majority of illnesses today stem from poor gut flora. Our program will clean up your Gut, allow your villae (finger-like protrusions on the inner wall of your intestine responsible for increasing the surface area for absorption of nutrients into your bloodstream) to stand up and work to their full potential.  - Thirdly, the nutrition is responsible for keeping your skinâ\\x80\\x99s elasticity after the weight loss. (This does depend on how much weight you need to lose, we have had some people lose 60-80kg, and as a result they may need further assistance and treatment for their skin)  This is why supplements are important. The nutrition in the supplements is responsible for supporting your gut. Our program will support your gut, allow your villae (finger-like protrusions on the inner wall of your intestine responsible for increasing the surface area for absorption of nutrients into your blood stream) to stand up and work to their full potential.  The supplements we use for the program are manufactured by M?dere which is well known for using superior products. Their stringent testing is commendable. M?dere products also have a massive absorption rate, up to 90%. Their products work in synergy with each other, which is the reason they are so effective. And theyâ\\x80\\x99re all toxin and chemical free, plant based and most importantly they are not weight loss medicines.  This program is a gut-healing program that is extremely successful in such a short time frame due to the synergy between the high absorption quality supplements & the alkaline meal plan. They work hand in hand so that you donâ\\x80\\x99t cause long-term damage & nutritional deficiencies. The awesome results you achieve are because the incredible nutrition works so well with our Alkaline meal plan.  Let me know if youâ\\x80\\x99ve got any questions!  Thanks & Regards',\n",
              " \"Hello lun New message from PhebeHotHoney Adult Dating  Discover the best site for singles looking for love!   I hope you're the right person I'm looking for, because since I've become single I miss the company of a man in my bed. \",\n",
              " \"Hi lun Message from TuPussycat Come on, message me i don't want to sleep alone... SEXALERT  Text me back and we can meet. I would like to receive a lot of kisses! My sensitive skin is in need of touching. All that I need is love and sex. Iâ\\x80\\x99m waiting for your answer.\",\n",
              " 'HOW TO CANCEL UIF REGISTRATION  Dear Sir/ Madam  I would like to enquire about the cancellation of the UIF for employees. I worked at a retail shop in 2020 to 2021 as a casual and I have found out I have been registered without my knowledge.  I have been unemployed since February 2021 and now I want to cancel the UIF.   I would really appreciate your assistance in this regard.  Yours sincerely Reshoketswe Sekhukhune ',\n",
              " \"If coding in C++ is so extremely hard, why do we have so many PlayStation and Nintend...? TOP STORIES FOR VIRA  Quora ? If coding in C++ is so extremely hard, why do we have so many PlayStation and Nintendo video games and many computer programs that are coded in C++ if it is so hard for our brains to learn? Andrew McGregor, Performance Measurement Lead at Fastly (2019-present) â\\x80¢ Answered January 9, 2021  C++ is moderately hard, it is true. But making a high-end game is really, really hard. Much harder than any programming language. With any large application, the problem is t... Read more Â» Upvote  1.6K  Comment  55  ? They say C is an unsafe language. As a beginner in C programming (say I only have experience in Python), what are some things I should avoid when using C, such as bad habits or dangerous code/syntax? Asked in C Programmers â\\x80¢ Answered by Manuel Mateo â\\x80¢ April 2  Always set pointers to null after freeing them Always check if pointers are null Prefer the number-capped versions of functions (strncpy vs strcpy and others) Never trust user... Read more Â» Upvote  37  Comment  12   ? How do I solve x^2 = 16^x? Philip Lloyd, Specialist Calculus Teacher, Motivator and Baroque Trumpet Soloist. â\\x80¢ Answered May 19  There is no basic algebra to make â\\x80\\x9cxâ\\x80\\x9d the subject of equations like this. I recommend drawing the graphs of y = x^2 and y = 16^x and find where they cross! Clearly there is o... Read more Â» Upvote  65  Comment  17  ? Is Robert Downey Jr. a jerk in real life? Gretchen Bohnam â\\x80¢ Updated March 14, 2020  I was behind him in line once at a coffee shop in L.A. Iâ\\x80\\x99m a huge fan but I didnâ\\x80\\x99t want to bother him so I didnâ\\x80\\x99t say anything to him. He was very friendly/polite to the st... Read more Â» Upvote  27.8K  Comment  416  ? What zodiac sign is most manipulative? Nidhi Astro | Top Vedic Astrologer, Vedic Astrologer, Healer, & Spiritualist â\\x80¢ Answered March 8  5 rising signs - manipulators: how to identify people who play a double game in the horoscope There are planets in the natal chart that are responsible for the ability to ma... Read more Â» Upvote  775  ? If P ? NP, then what problems can be solved in polynomial time? Alon Amit, CS degree and a Ph.D. in mathematics. â\\x80¢ Answered June 9  All problems in P can be solved in polynomial time. This is true whether or not P=NP. If P[math]\\\\ne[/math]NP, itâ\\x80\\x99s still true that all problems in P can be solved in polynomial time. The... Read more Â» Upvote  118  Comment  13  ? Was Elvis Presley racist? Jonathan Peck, A.S Interdisciplinary Studies, Athens Technical College (2022) â\\x80¢ Answered March 30, 2018  My dad once told me a story about Elvis Presley. It was that one day, Elvis was at a market or shopping center and saw an old black woman struggling to carry groceries. Elv... Read more Â» Upvote  20.9K  Comment  2.5K  ? How should I prepare Gs for SSC CGL 2023? Shiv Singh, Divisional Accountant (2023-present) â\\x80¢ Answered June 27  Do only two things 1. PYQ since 2018 (all topics from all ssc exams) 2.Speedy/ other monthly magazines for Current affairs(last 1 year) if you are good at it you will be getti... Read more Â» Upvote  23  Comment  2  ? What is proof for you that karma exists? Asked in One place-1 â\\x80¢ Answered by Gaurav Gupta â\\x80¢ June 29  The suicide bomber who died alone. In 2016, Abdullahi Abdisalam Borleh was a suicide bomber with a laptop full of explosives who boarded a plane from Somalia, Daallo Airline... Read more Â» Upvote  7.4K  Comment  161  ? Why do truckers hate Swift so much? Jim Lee, Long-haul Truck Driver (2009-present) â\\x80¢ Answered September 6, 2018  Oh, thereâ\\x80\\x99s a few reasons. But one that a lot of veteran drivers will focus on doesnâ\\x80\\x99t involve only Swift: What a lot of people donâ\\x80\\x99t realize about truck driving is that itâ\\x80\\x99... Read more Â» Upvote  4.9K  Comment  327  ? What is one example of honesty that you will remember for years to come? Asked in World of experiences â\\x80¢ Answered by Himanshu Tiwari â\\x80¢ June 29  Ritesh Saxena, a business leader, came home from work to find his younger daughter waiting to show him her exam assessment results. She ran to her father and showed him her... Read more Â» Upvote  548  Comment  18  ? Is learning C++ easy if I know C? Kurt Guntheroth, Software Engineer and Writer â\\x80¢ Answered May 1  C++ is whatâ\\x80\\x99s called a multi-paradigm language. Those paradigms are (currently) imperative, generic, functional, and object-oriented. If you know C, you can tick â\\x80\\x9cimperativ... Read more Â» Upvote  93  Comment  14  Read more in your feed Never miss a story. Designed for readers on the go. ? Download on the App StoreGet it on Google Play ? Missing out on Quora emails? Be sure to add us to your primary inbox. This email was sent by Quora (605 Castro Street, Mountain View, CA 94041). If you don't want to receive this type of email in the future, please unsubscribe. https://www.quora.com \",\n",
              " 'Job Opportunities that pay ?600,000+ and up in Nigeria To cushion the effect of subsidy removal and general increase in prices of goods and services, Nigerians have now been approved to work and earn in US Dollars, whatever you earn is paid directly to your account.  Our partners earn as much as $3500-$5000 monthly and even more. The current exchange rate is about 850, $4000 is over ?3 Million naira.  Click here to start  Requirements: A smartphone/laptop Fast internet connection Simple guide from account managers No training fee required The Opportunity  Our client a major player in the premium domain business is giving opportunities to anyone interested in working independently. The goal is to help our clients earn strictly in US Dollars, you simply participate in the premium domain business and have your earnings sent in Dollars.',\n",
              " 'John, hereâ\\x80\\x99s a discount for your next safe rides  Bolt rides are not only affordable, but they also come with a number of safety features.      Here are some of the things we do to ensure your safety:  We train our drivers and verify their identity; Our app has â\\x80\\x98Share your ETAâ\\x80\\x99 and emergency assist buttons; We use rider feedback to improve future journeys. Learn all about Boltâ\\x80\\x99s safety measures here.  OPEN THE APP  Safe travels!   The Bolt team  N.B. This is a limited-time offer that you can use from 2023-07-18 until 2023-07-24 in Nairobi, Kenya. More information in the app. Discount is valid for up to 250 KES per trip.',\n",
              " 'June 2023 Account Statement  Dear Mr. UZOCHUKWU JOSEPH EZE,  Your statement of account for June 2023 is now available (see attached).  Please note that the password required to access your account statement(s) is your default (main) account number.   For any feedback or enquiries, please call our multilingual Contact Center on 01-2712005-7 or send an email to contactcenter@accessbankplc.com  Thank you for choosing Access Bank   You can still register for your Bank Verification Number (BVN) at all our branches in Lagos, Abuja, Port Harcourt and other Access Bank Branches across the country. Please visit our website www.accessbankplc.com for a full list of our enrolment centers  Click here to unsubscribe  ',\n",
              " \"Junior Admin Assistant  RE: Junior Admin Assistant  Dear Hiring Professional  I am contacting you to express my interest in the Admin Assistant opportunity with your company. After reviewing the position requirements, I believe that my education and experience are a great match for this position.  I am a great communicator, motivated by any opportunity where I can learn new things or engage with people. I have respect for those in management positions and I'm always willing to take on greater responsibilities to help out. You can be sure that I will bring these qualities to this position with your company, in addition to my other strengths, which include customer service, conducting outbound sales calls and product sales. I am also a hard worker who is skilled in problem-solving and time management. I take initiative and get things done on my own as well as with others. I catch on quickly and work hard to continuously learn new skills. Just a few of my abilities include: Organizational skills Data capturing Office Administration I am certain that I will be a great addition to the company.  I would gladly appreciate your review of my enclosed CV and outlined credentials. I believe that I can be a valuable addition to the company and its business goals. At your convenience, I am available for an interview or further discussion. I look forward to your response.  Sincerely, Zandi Tamane  0659927404     -- Zandi Tamane Good day  Thank you for the response. I will honour the invitation for an interview.  Warm Regards, Zandi Tamane Show quoted text \",\n",
              " 'Limited offer. Hurry up!  Less than $1 for any of our 214 million amazing stock photos and illustrations. Now thatâ\\x80\\x99s a deal you canâ\\x80\\x99t refuse.  Prices are in USD.',\n",
              " 'Linton, take the next step on your Windows device by confirming your Google Account settings Thanks for signing into Google on your Windows device. Please confirm your Google Account settings are still right for you.  Complete the Privacy Checkup This step-by-step guide helps you choose the privacy settings that are right for you. Complete  Complete the Security Checkup The Security Checkup gives you personalised recommendations to secure your account.',\n",
              " 'Live has arrived on TIDAL  Where Live Happens  The Live party is just getting started. Get HiFi or HiFi Plus to join your fave DJs, celebs, music fans, and our TIDAL music experts on Live.',\n",
              " 'Meeting with Walid TOMORROW Hello Walid,  Our Zoom call meeting is tomorrow - Thursday, July 20th at 3pm EST (New York time).  Register for your free space here  It\\'s called \"Money While You Sleep\".  You\\'ll learn how it\\'s possible to earn an income, automatically, 24 hours a day (yes, even while you sleep!).  The host will reveal this little-known, almost secret, side hustle income which is enabling ordinary people - just like you and me - to make $5000+ per month from working just 3-4 hours per week.  The host will explain, step-by-step, how you can easily \"clone\" this simple yet highly profitable side hustle for yourself.  - No experience or special skills needed - Quick and easy to get up and running - All you need is internet access  Due to technical limitations, only a certain number of participants can attend. So if you\\'d like to attend this special Zoom call (it\\'s FREE), then click the link below.  Register for your free space here  Regards,  Alex',\n",
              " 'Microsoft Outlook Test Message This is an email message sent automatically by Microsoft Outlook while testing the settings for your account.',\n",
              " 'New jobs posted from Plan International You are receiving this email because you joined the Plan International Talent Community on 10/07/20. You will receive these messages every 2 day(s).  The following jobs matched your search criteria at Plan International and can be found at jobs.plan-international.org.  Your Agent/Keywords: Volunteer Click to edit',\n",
              " \"New login to Instagram from Threads on Infinix X690B  We noticed a new login, alexxuzy   We noticed a login from a device you don't usually use.        Infinix X690B Â· Threads Â· Lagos, Nigeria   July 6 at 10:18 AM (PDT)       If this was you, you wonâ\\x80\\x99t be able to access certain security and account settings for a few days. You can still access these settings from a device youâ\\x80\\x99ve logged in with in the past.   If this wasnâ\\x80\\x99t you, you can secure your account from a device youâ\\x80\\x99ve logged in with in the past. Learn more           Â© Instagram. Meta Platforms, Inc., 1601 Willow Road, Menlo Park, CA 94025 This message was sent to ezejosephfor2018@gmail.com and intended for alexxuzy. Not your account? Remove your email from this account. \",\n",
              " \"Not Satisfied with the Reward Hi,  I have gave so many contributions for the development of BARD. But I haven't received 1000 INR itself. I got only 200 INR. So please reward me atleast 1000 INR. BECAUSE I contributed many good stuffs for developing bard.  If you have any kind of doubts, just recheck my Bard usage details.  Thanks :)\",\n",
              " 'Notification  Sir, this is to notify you that our shipment has arrived the office ',\n",
              " \"Order Confirmation for Maliek from Chanello's Pizza DoorDash Neighborhood of Good THANKS FOR YOUR ORDER, MALIEK   The estimated delivery time for your order is 9:19 PM - 9:31 PM. Track your order in the DoorDash app or website.  Track Your Order Paid with Visa Ending in 8680 and/or credits Chanello's Pizza Total: $32.13  YOUR RECEIPT 940 Gates Ave, Norfolk, VA 23517, USA  Estimated Total  $32.13  View Full Receipt Get Order Help REVIEW THIS STORE  Share your thoughts on your order with fellow customers and Chanello's Pizza.  11 22 33 44 55 DoorDash Download the app Download  the app Shop Gift Cards Shop  Gift Cards Refer and Earn Credit Refer and  Earn Credit Deliver with DoorDash Deliver with  DoorDash Â©2023 DoorDash Inc.  303 2nd Street, South Tower, Suite 800  San Francisco, CA 94107 Privacy Policy fb tw ig blog Help Center | View email in browser Prop 65 Restaurant WARNING  Prop 65 Alcohol WARNING. Drinking distilled spirits, beer, coolers, wine, and other alcoholic beverages may increase cancer risk, and, during pregnancy, can cause birth defects.  For more information go to www.P65Warnings.ca.gov/alcohol.  Prop 65 BPA WARNING \",\n",
              " \"Q2 Markets and Products Updates Kenya's macroeconomic condition still remains challenging due to ongoing inflationary pressures and the shilling's continuous depreciation.  Join Our analysts, Samuel Ochieng and Kevin Wekesa, on Monday, July 10, 2023 from 10am to 11am, for a discussion on the current state and outlook of the economy, market performance, and various products offered by Cytonn Investments that address various investment needs.  Link: cytonn.com/onlinetraining  Should you have any questions kindly email clientservices@cytonn.com or call us 24/7 on 0709101200.  Kind Regards,  Cytonn Asset Managers      Best Regards,   Cytonn Client Services Team\",\n",
              " 'Quotation for a tombstone  Good day  I would like to request for a quotation for a tombstone. I have attached a screenshot of the tombstones I like. I would like separate quotations for SI43 and SI44, including transportation from Bloemfontein to Aliwal North.   I also wanted to ask whether you guys do the full ledger tombstones that look like houses, with aluminium windows.  Warm Regards, Zandi Tamane',\n",
              " 'Re: KPMG 2023 Graduate Recruitment - Aptitude Test Feedback Dear John,     Thank you for expressing interest and exploring a career opportunity in KPMG.  You recently applied for our 2023 Graduate Recruitment and proceeded to participate in the Aptitude Test.  The Aptitude Test was highly competitive, and we regret to inform you that you did not make it to proceed to the next level.  While we recognize that this might be a disappointment to you, we commend you for having participated. We encourage you to continually visit our careers website to apply for any future positions that align with your credentials and skills.  We appreciate your interest and the time you have invested and wish you the best in your career aspirations.     Regards  Talent Acquisition Team     *********************************************************************** The information in this e-mail is confidential and may be legally privileged. It is intended solely for the addressee. Access to this e-mail by anyone else is unauthorized. If you have received this communication in error, please address with the subject heading \"Received in error,\" send to the original sender , then delete the e-mail and destroy any copies of it. If you are not the intended recipient, any disclosure, copying, distribution or any action taken or omitted to be taken in reliance on it, is prohibited and may be unlawful. Any opinions or advice contained in this e-mail are subject to the terms and conditions expressed in the governing KPMG client engagement letter. Opinions, conclusions and other information in this e-mail and any attachments that do not relate to the official business of the member firm are neither given nor endorsed by it.  KPMG cannot guarantee that e-mail communications are secure or error-free, as information could be intercepted, corrupted, amended, lost, destroyed, arrive late or incomplete, or contain viruses.  This email is being sent out by KPMG International on behalf of the local KPMG member firm providing services to you. KPMG International Limited is a private English company limited by guarantee. KPMG International Limited and its related entities do not provide services to clients. Each KPMG firm is a legally distinct and separate entity and describes itself as such. Each KPMG member firm is responsible for its own obligations and liabilities. For more detail about our structure please visit home.kpmg/governance.  This footnote also confirms that this e-mail message has been swept by AntiVirus software. ***********************************************************************',\n",
              " 'Re: New Job Openings at International Livestock Research Institute (ILRI) Hi John NEW JOB OPENINGS Here are the latest job openings at International Livestock Research Institute (ILRI): Job Title Research Officer I - Socio-Economics - Internal/External Location Addis Ababa, Ethiopia',\n",
              " 'Reply to your CPX Research Ticket!238212 Hello Sathya Narayanan,  Our Team reply to your Ticket from 2023-06-17 07:05:04. To see the reply please click here:  https://offers.cpx-research.com/ticket.php?tid=238212&hash=SHMykfq0usB8LLuAp635Y67LR1yIGCSIqwn8BUT5GcoZNQn69QQUaBrgpbmrcblui34exLAzIlz6ks4ebBXPdYyOIZNXnHipRSlU2wCTVp8AcVAQaYVm0ul0yCCAGA3QjJw7rbrMhQyU0uPL2XdmQ  Your CPX Research Customer Happiness Team PS: Always read and answer surveys careful, there might be hidden test questions checking if you pay attention. Also if youre replying too fast, some partners will not pay your reward. tickethash=SHMykfq0usB8LLuAp635Y67LR1yIGCSIqwn8BUT5GcoZNQn69QQUaBrgpbmrcblui34exLAzIlz6ks4ebBXPdYyOIZNXnHipRSlU2wCTVp8AcVAQaYVm0ul0yCCAGA3QjJw7rbrMhQyU0uPL2XdmQ=tickethash ',\n",
              " \"Sales executive  RE: Sales Executive  Dear Hiring Professional  I am contacting you to express my interest in the Sales Executive position. After reviewing the position requirements, I believe that my education and experience are a great match for this position.  I am an energetic and decisive negotiator with skills in goal-setting, sales and recommending products. I have a natural talent for building immediate rapport with people and cultivating productive connections. Likewise, I am fully capable of working with strong personalities and navigating through high-pressure situations.  For more details, please review my attached resume. I believe that I can be the Sales Executive you're looking for and welcome the opportunity to speak with you at your earliest convenience.  Sincerely,  Zandi Tamane\",\n",
              " \"Sathya!, welcome to Snapchat+! As a Snapchat+ subscriber, you now have access to exclusive features that'll allow you to experience Snapchat in a whole new way.  Your monthly Snapchat+ plan is set to renew on July 6, 2023 UTC. Payment will automatically be charged to your Play Store account every 1 month unless you cancel before the renewal date.  You can cancel or change your subscription anytime by going to your Play Store settings.  Snapchat+ Subscription Terms apply https://www.snap.com/terms/snapchatplus. If the cost of your plan changes in the future, you'll be notified in advance.  Start making the most of your Snapchat+ subscription today!\",\n",
              " \"SFI Weekly News (July 17, 2023) Greetings from SFI...let's keep building something great!  IMPORTANT! If you haven't checked out our MAJOR re-shaping of the SFI Affiliate Program, read Gery's detailed announcement now:  https://www.sfimg.com/forum/thread?id=240777  ------------------------------------------------------------------------------------------------------------   NEW GENEALOGY FEATURES  1. To make doing mailings to your PSAs and CSAs super easy, we've added small envelope icons to the Genealogy Summary panel.  â\\x80¢ To send a group mailing to your PSAs, just click the envelope icon beside your PSAs.  â\\x80¢ To send a group mailing to your CSAs, click the envelope icon beside your CSAs. NOTE: Minimum rank of Gold Builder required to use the CSA Mailer.  2. With the new system, focus should primarily be on those currently IN the Share-Techâ\\x84¢ network. Hence, effective shortly, when you go to the Genealogy, it will, by default, display the CONDENSED version. The Condensed version will now display ONLY EAs (from previous month and current month) + affiliates who are still in their free 30-day trial window (i.e. those in the Share-Techâ\\x84¢ network). If you wish to see ALL your affiliatesâ\\x80\\x94including those who've forfeited their Share-Techâ\\x84¢ position,â\\x80\\x94just click on the FULL version Genealogy link.  3. If you had any POAs, they are now being converted to PSAs.  Even more features and modifications to make the Genealogy as easy to use as possible are coming soon.\",\n",
              " 'SIR15112294- Your request for content review on Microsoft This is an automated message to let you know we have received your request to investigate content on Microsoft services .     Sincerely,     Microsoft Customer Protection',\n",
              " 'Style with Denim Comfortable & Durable Love, Bonito NEW IN  BESTSELLERS  Just the thing for every kind of personality there is. Time to shine in this wardrobe classic. SHOP DENIM Hereâ\\x80\\x99s How to Style Denim Model-off-duty look: Denim Jeans + White Top Elevate your look instantly by layering on a blazer or matching the outfit to a pair of heels.    GET THE LOOK Fuss-free pairing: Denim + different fabric Denim works with just about any fabric, pattern or texture.   PICK YOUR PAIRING Contrast with colour: Denim + pop of colour Think electric blue, vibrant red, sunny yellow, hot pink, or emerald green.   ADD TO CART Or go full on denim Complete with sneakers or heels, depending on the occasion.   MAKE YOUR STATEMENT ABOUT US STORES PROMOTIONS FAQ fb  ig  yt Love, Bonito is a registered trademark of LOVEBONITO HOLDINGS PTE LTD. You are receiving this email because you subscribed or opted in at our website. Weâ\\x80\\x99d hate to see you go, but you can unsubscribe at anytime here.  Have trouble viewing this email? Click here.  ',\n",
              " \"Telemarketing + 19 new jobs - Job Alert from JobStreet.com Jobstreet.com  Hi ANGGRAENI, we've got new job recommendations for you. Jobstreet.com Telemarketing PT. Master Mat Indonesia Surabaya Insentif --- --- company logo Team Leader Telemarketing PT Telmark Integrasi Indonesia (Recruitment Firm) Sleman IDR 3,500,000 - 4,000,000 Asuransi Jenjang Karir --- company logo MOBILE SERVICE - LAMONGAN & SIDOARJO PT Exa Mitra Solusi (Recruitment Firm) Jawa Timur company logo (Work from home) Quality Assurance (QA) Analyst Alpha Iota Multiple work locations company logo PARTMAN (PIAGGIO VESPA CABANG MADIUN) Super Sukses Group Jawa Timur company logo Customer Service Officer PT Intisumber Hasil Sempurna Global Multiple work locations company logo Sales Promotor / Merchandiser - Penempatan Surabaya / Bali PT Niagamas Lestari Gemilang (Tools, Machinery and Industrial Equipment) Multiple work locations IDR 4,000,000 - 4,600,000 company logo Customer Service (Branch Tarakan) PT Bank JTrust Indonesia, Tbk Tarakan Supportive working environment Competitive remuneration package Career opportunities company logo FRONT OFFICE REPRESENTATIVE Ungasan Medical Care Badung Customer Service PT Bali Utama Cakrawala Bali Competitive Salary (Negotiable depend on qualifications) Festive Allowance (THR) Training & Development company logo Formalities Officer (Customer Service) PT LPS Indonesia Jakarta Raya IDR 5,500,000 - 7,500,000 Good and friendly working environment Passionate & Energetic Work Culture Enjoy a fair work-life balance company logo KURIR Eterli Acrylic Lampung company logo Customer Service Officer oma elly kitchen Jakarta Raya IDR 4,600,000 - 5,750,000 Career development in Prestigeous Company which is Oma Elly --- --- company logo Customer Service - Operations (Jogja, Contract-based) Shopee Internasional Indonesia Yogyakarta company logo Customer Service Sinar Mas Land Jakarta Raya company logo Sales Office Administration (Manado) PT Asuransi Jiwa Sinarmas MSIG Tbk. Manado company logo Penjahit Balqis Humaira Surabaya ADMIN PENJUALAN DAN PERPAJAKAN PT Berkat Energi Sinar Timur Surabaya Customer Service PT Bank Ina Perdana Tbk Jakarta Raya company logo ADMIN AYURA CLINIC Jawa Timur View more jobs Edit this alert    Unsubscribe    Help Connect with JobStreet        Privacy Statement   Terms and Conditions This email was sent to you as a registered user of www.jobstreet.com   Copyright Â© 1998-2023, JobStreet. All rights reserved. \",\n",
              " \"Thank you for creating a Netflix account!  Netflix Learn more about your new account Hey there, Weâ\\x80\\x99re excited to have you! Below, youâ\\x80\\x99ll find all the information you requested about Netflix. Plans start at ?1,200/month. Continue Still have a few questions about how Netflix works?  Unlimited Entertainment. Watch all you want for one low price.  Cancel anytime. No contracts or commitments.  Recommendations just for you. Always find the right TV show or movie based on what you like. We're here to help if you need it. Visit the Help Center for more info or contact us. The Netflix team We're sending this email because you requested information about Netflix. This is a one-time email.\",\n",
              " 'The Last Call! Dear Customer,  As the tax season comes to a close, this is the final call to file your 2022 tax returns.  There are only a few hours left.  Take immediate action and file now before the deadline expires.  Log on to itax.kra.go.ke NOW! Kumbuka kufile returns ni rahisi kuliko kufanya project za CBC.  Deadline to file is today, 30th June 2023.  We are here to serve you, call us on: 020 4 999 999 or 0711 099 999 or email: callcentre@kra.go.ke  If you have filed your returns, kindly ignore this message.  Thank you for your attention and cooperation. We wish you a successful completion of your tax filing obligation.',\n",
              " \"Time is of the Essence! Dear Customer,  The 2022 filing season is almost coming to an end.  As of today, you only have 8 DAYS left to file your income tax returns.  If you have not yet started the filing process, now is the time to begin.  Log on to itax.kra.go.ke today! Kumbuka kufile returns ni rahisi kuliko kucommute kukinyesha!  Deadline to file is 30th June 2023  For any specific questions or concerns, don't hesitate to reach us on:  020 4 999 999 or 0711 099 999 or email: callcentre@kra.go.ke  If you have filed your returns, kindly ignore this message.\",\n",
              " 'Toloka has sent you $8,32 USD.   Hello, Vira Jessica PayPal Toloka has sent you $8,32 USD.  Transaction ID 64980345S32777037 Transaction date 10 July 2023 Money received $8,32 USD Please note it may take a little while for this payment to appear in the Activity section of your account.  Get Details  PayPal Help & Contact | Security | Apps Twitter Instagram Facebook LinkedIn PayPal is committed to preventing fraudulent emails. Emails from PayPal will always contain your full name. Learn to identify phishing  Not sure why you received this email? Learn more  Copyright Â© 1999-2023 PayPal. All rights reserved.  PayPal Pte. Ltd. (\"3PL\") has applied for a license under the Singapore Payment Services Act (\"PS Act\") with the Monetary Authority of Singapore. During this statutory transitional period, 3PL is operating under an exemption from holding a license and is allowed to continue to provide specific payment services. PayPal RT000231:en_US(en-ID):1.0.0:735d85cc67b89',\n",
              " \"try out our high-quality rides for less! ? Hereâ\\x80\\x99s 10% OFF your next 10 Bolt rides  You can now try out our high-quality rides for an even better price!  And we donâ\\x80\\x99t use the words high-quality lightly. At Bolt, we train our drivers and measure their performance to ensure mutually positive experiences between passengers and drivers. If a driver's average rating drops below the threshold, they may be stopped from accepting additional rides.     How can you help out? Ratings help us keep the best drivers and provide you with a safe, high-quality service. So after every ride, please make sure to rate your trip. ?  OPEN THE APP\",\n",
              " \"TV LISENCE  Dear Sir/ Madam  I have been receiving sms from the TV licence saying I am owing. I don't remember registering for TV lisence and also I don't own a TV. Neither am I working.  Please fix the issue. I don't really know what is going on.  Yours sincerely Shocky  \",\n",
              " 'UPDATE ON STOCK  Dear sir, Please, I would like to inform you that stock of one of our main products is at a critical level. There is therefore the need for a restocking Warmest regards Thanks',\n",
              " 'Update on your application at Lemon Recruiting. Dear John Ondieki Motachwa,  Thank you for your application as Image Labeler / Data Annotator, 60-100%, Kenya (Remote).  Unfortunately, your profile does not optimally match the advertised position. We wish you all the best and every success in your job search!  Best regards  Alain Mazenauer Lemon Recruiting',\n",
              " 'Update: New Twitch Account Linked Dear denis:  Your Amazon account: denis.supermen888@gmail.com has been linked to the Twitch account: fanat_papicha_nomer_1.  If you did not initiate the link to a Twitch account, someone else may be trying to access your account.  If you suspect someone else may be attempting to access your account, please:  Go to Amazon.com and change your password as soon as possible. To remove the link between Amazon and Twitch accounts, visit Manage Twitch Account Settings. Thanks for helping us maintain the security of your account. Amazon Support  Note: this email address cannot accept incoming email. Please do not reply to this message, contact us here.  Support | Privacy Policy Copyright Â© 2016 Amazon.com. All rights reserved.',\n",
              " 'Updates to Google Play Terms of Service On March 15, 2023, weâ\\x80\\x99re making some changes to our Google Play Terms of Service. These changes make it easier for you to understand what to expect from Google Play as you use our services. You can review the new terms here. At a glance, hereâ\\x80\\x99s what this update means for you: â\\x80¢ Increased clarity and certainty: We changed some language in the Updates section to clarify and make clearer what to expect. â\\x80¢ Improved readability: While our terms remain a legal document, weâ\\x80\\x99ve done our best to make them easier to understand. If you use Family Link to manage a Google Account for someone else, please take some time to talk to them about these changes. Thank you for using Google Play! Â© 2023 Google LLC, 1600 Amphitheatre Parkway, Mountain View, CA, 94043 You have received this mandatory email service announcement to update you about important changes to the Google Play Terms of Service.',\n",
              " 'Updates to our Privacy Policy Tala Mobile  Hi John,  We are implementing updates to Privacy Policy & App Privacy Notice, effective 27 June 2023.   Our updated Privacy Policy and Privacy Notice describes in clearer terms how we process your personal data, particularly in relation to our obligations as a licensed digital credit provider, registered data controller, and registered data processor.      Click these links to read the updated Privacy Policy and App Privacy Notice on our website',\n",
              " \"Venmo primary email address changed venmo Hi Maliek Folks,   The primary email address for your Venmo account was recently changed.   If this wasnâ\\x80\\x99t you or you believe an unauthorized person has accessed your account, please immediately reset your password. Then, contact us by replying to this email so we can confirm your account is secure.   To reset your password tap â\\x80\\x9cForgot your password?â\\x80\\x9d on the sign-in screen in the mobile app or visit www.venmo.com from a computer.   Thanks, Team Venmo Venmo is a service of PayPal, Inc., a licensed provider of money transfer services. All money transmission is provided by PayPal, Inc. pursuant to PayPal, Inc.'s licenses. PayPal is located at 2211 North First Street, San Jose, CA 95131\",\n",
              " 'Verify your Twitch email address Hey fanat_papicha_nomer_1, please verify your e-mail address! Someone (hopefully you) has used this email at Twitch. Please click the button below to verify your ownership of this email for the account, fanat_papicha_nomer_1. You will not be able to receive email notifications until you do so.  Verify your email Or click on this link: https://www.twitch.tv/user/verify_email?email_verification_code=3f4b3e6c4&login=fanat_papicha_nomer_1 Â© 2017 Twitch. All Rights Reserved.',\n",
              " \"Walid, Get Paid to Listen to Music  Hi Walid,  Do you listen to music on Spotify, YouTube, Amazon or Apple?  If you do - you qualify!  You could be making $50 for every song you stream...  All it takes is 3 steps...  Step 1: Create Your Account Create your account here  Step 2: Pick Your Favourite Artist Select from thousands of artists and vibe to the music  Step 3: Get Paid That's it, for every song you stream...  => Click here right now to start instantly  Regards,  Alex  ---  Connect with us on Telegram: https://t.me/moneymakingcentral\",\n",
              " 'What is it like to have a six pack?  ? TOP STORIES FOR VIRA  Quora ? What is it like to have a six pack? Ruban Mathivanan, studied at SRM Easwari Engineering College â\\x80¢ Answered April 24, 2018  SICK!!!!!!!!! No one here seems to be telling the ugly truth of the other side. Oh sure, six pack abs has got its own perks but let me tell you the downside of it. Firstly da... Read more Â» Upvote  1.3K  Comment  461  ? Is learning C++ easy if I know C? Kurt Guntheroth, Software Engineer and Writer â\\x80¢ Answered May 1  C++ is whatâ\\x80\\x99s called a multi-paradigm language. Those paradigms are (currently) imperative, generic, functional, and object-oriented. If you know C, you can tick â\\x80\\x9cimperativ... Read more Â» Upvote  92  Comment  14',\n",
              " 'Yes- it is a numbers game Hey Prachanda,   Today\\'s video... To build your biz - \"It is a numbers game\" ==> Listen in Here     To Your Success    Ryan Gunness  MLM Recruit On Demand ==> \"Spoon Fed Marketing\"  ',\n",
              " 'You applied to job post Translation_ISAAC_Acceptability_tr_TR-en_US Hello there!  You have started the application process for job post Acceptability - Translation Raters needed (Turkish-English) (job ID Translation_ISAAC_Acceptability_tr_TR-en_US ).  You can see the current status of your application on the My Jobs page on our user portal.  Please make sure that you complete all potential additional requirements (such as certifications) that are needed to complete the application process.  Good luck with your application, and all the best! :-)',\n",
              " \"Your Account Was Accessed From a New Device We noticed a new login Hello ondiekijohn254@gmail.com, we noticed an unusual login from a device or location you don't usually use. Was this you?\",\n",
              " \"Your Account Was Accessed From a New Device We noticed a new login Hello ondiekijohn254@gmail.com, we noticed an unusual login from a device or location you don't usually use. Was this you?\",\n",
              " 'Your Amazon.com order of \"Nike Youth Dunk Low Ls GS...\". Amazon  Order Confirmation Hello Maliek,  Thank you for shopping with us. Weâ\\x80\\x99ll send a confirmation when your item ships. Details Order #111-9728320-6549862  Arriving:  Thursday, July 6 -  Monday, July 10  Someone must be present for delivery   View or manage order Ship to:  Maliek  NORFOLK, VA   Order Total: $211.99    Nike Youth Dunk Low Ls GS F...  Qty : 1  We hope to see you again soon.  Amazon.com Keep shopping for Hohem iSteady M6 Kit Smartphone Gimbal Stabilizer 3-Axis with Magnetic Fill Light AI Tracking Sensor for iPhone Android with   Hohem iSteady M6 Kit Smartphone... $209.00 The payment for your invoice is processed by Amazon Payments, Inc. P.O. Box 81226 Seattle, Washington 98108-1226. If you need more information, please contact (866) 216-1075  By placing your order, you agree to Amazon.comâ\\x80\\x99s Privacy Notice and Conditions of Use. Unless otherwise noted, items sold by Amazon.com are subject to sales tax in select states in accordance with the applicable laws of that state. If your order contains one or more items from a seller other than Amazon.com, it may be subject to state and local sales tax, depending upon the seller\\'s business policies and the location of their operations. Learn more about tax and seller information.  This email was sent from a notification-only address that cannot accept incoming email. Please do not reply to this message. ',\n",
              " 'Your application for the position of  Child Protection in Emergencies Specialist, Maiduguri - Nigeria Dear Maryam,      I would like to thank you for your application for the role of Child Protection in Emergencies Specialist, Maiduguri - Nigeria and for your interest in Plan International.     We regret to inform you that on this occasion you have not been successful in your application. However, there may be other positions which are more suitable for your skills. Please feel free to view all of our current vacancies on our we',\n",
              " \"Your Kilimall Account is Ready - Shopping Now! Dear Customer,  Welcome to Kilimall, Thanks so much for joining us.  Kilimall is Africa's largest online shopping mall. We launched in July 2014 and our mission is to become the best E-commerce platform in Africa. We serve a retail customer base that continues to grow exponentially, offering products that span various categories including Phones, Computers, Clothing, Shoes, Home Appliances, Books, healthcare, Baby Products, personal care and much more.  Shop Now\",\n",
              " \"Your Steam account: Access from new web or mobile device Dear vladis163rus, Here is the Steam Guard code you need to login to account vladis163rus:  6VCC5 This email was generated because of a login attempt from a web or mobile device located at 178.69.155.179 (RU). The login attempt included your correct account name and password.  The Steam Guard code is required to complete the login. No one can access your account without also accessing this email.  If you are not attempting to login then please change your Steam password and consider changing your email password as well to ensure your account security.  If you are unable to access your account then you may choose to lock your account. Once locked you must request Steam Support's assistance in recovering and unlocking it. Until the account is unlocked you will be restricted from accessing many of Steam's features including online gameplay in VAC enabled games.  The Steam Support Team https://help.steampowered.com/ VALVE Â© Valve Corporation. All rights reserved. All trademarks are property of their respective owners in the US and other countries. \",\n",
              " 'Your uploaded document is rejected View In Browser | Log in      Skrill logo Money movers & makers     Hi Anggraeni Dyah We couldnâ\\x80\\x99t verify your address Skrill Document doesnâ\\x80\\x99t meet criteria   Problem: We couldnâ\\x80\\x99t verify your address because your document doesnâ\\x80\\x99t meet the required criteria. Solution: Send a proof of address that meets the requirements listed below or try sharing your location in the Skrill app.      Send document     Itâ\\x80\\x99s easier to verify your address with the Skrill mobile app. Just share your location to get confirmation right away.    play store   app store    We accept the following proof of address documents: ? utility bill (for heating, electricity, water, cable, landline telephone, sewer, gas, etc.) ? statement from your financial institution - bank, credit or debit card, mortgage, insurance, investments. We donâ\\x80\\x99t accept statements from purely online financial institutions. ? a signed and stamped letter from your financial institution confirming your account with them, your residential address, and your full name; ? any government correspondence, including tax documents, court documents; ? your valid identity document if it contains the address registered in your Skrill account;  To complete your verification quickly, make sure that the address in your account is full and accurate and: ? the document has been issued within the past 90 days; ? the document is clear and readable and includes all 4 corners and 4 edges of the page; ? the document contains your full name, current residential address, issue date and the issuerâ\\x80\\x99s name and logo/insignia; ? the document is in .jpg, .jpeg, .bmp, .gif, .png, or .pdf format;  Check other reasons why your verification document might be rejected. Thank you for choosing Skrill Copyright Â© 2021 Skrill Limited. Skrill is a registered trademark of Skrill Ltd. All rights reserved.  Skrill Limited is registered in England and Wales with company number 04260907 and its registered office is at 2 Gresnot spam Street, London EC2V 7AD. Authorised and regulated by the Financial Conduct Authority under the Electronic Money Regulations 2011 (FRN: 900001) for the issuance of electronic money.  We use cookies and similar technology in some of our emails which contain hyperlinks, each of which has a unique tag. They help us to understand a little bit about how you interact with our emails, and are used to improve our future email communications to you. If you click on links contained in this email it will allow us to track your use of our website. For more information about our use of cookies and similar technology please see our Cookies Notice.  In accordance with relevant Data Protection and Privacy laws, Paysafe is committed to protecting your privacy. If you wish to know more, please access our Privacy Policy.  The Skrill prepaid MastercardÂ© is issued by Paysafe Financial Services Ltd in selected countries pursuant to a license from Mastercard International. MastercardÂ© is the registered trademark of Mastercard International.  To ensure that Skrill emails reach your inbox, please add no-reply@email.skrill.com to your email safe list.  Box-D About | Support | Security | Privacy | Terms ',\n",
              " \"You've Earned a Reward from Bard Explorers India You've received a gift! Sign in to your Bard Explorers India community Click the member icon at the top of any page to visit your Member Profile Page Your earned gift will appear on that page Follow the instructions provided in the community to redeem Please act quickly to redeem. For your protection, gift links expire after 90 days.  See you online!  Go to Bard Explorers India If you have questions about your gift, please reach out to our fulfillment company at support@virtualrewardcenter.com \"]"
            ]
          },
          "execution_count": 11,
          "metadata": {},
          "output_type": "execute_result"
        }
      ],
      "source": [
        "# cada tweet lo guardamos en una lista\n",
        "text = list(dataframe_spam['Text'])\n",
        "text"
      ]
    },
    {
      "cell_type": "code",
      "execution_count": 12,
      "metadata": {
        "id": "CMu9CX34J8RQ"
      },
      "outputs": [],
      "source": [
        "# segmentamos el texto con la utilidad de Keras\n",
        "segmented_sentences = [text_to_word_sequence(sentence) for sentence in text]"
      ]
    },
    {
      "cell_type": "code",
      "execution_count": 13,
      "metadata": {
        "id": "neCJEVNvkkjE"
      },
      "outputs": [
        {
          "data": {
            "text/plain": [
              "\" the secrets to SUCCESS Hi James,  Have you claim your complimentary gift yet?  I've compiled in here a special astrology gift that predicts everything about you in the future?  This is your enabler to take the correct actions now.  >> Click here to claim your copy now >>  Claim yours now, and thank me later.   Love, Heather\""
            ]
          },
          "execution_count": 13,
          "metadata": {},
          "output_type": "execute_result"
        }
      ],
      "source": [
        "text[0]"
      ]
    },
    {
      "cell_type": "code",
      "execution_count": 14,
      "metadata": {
        "id": "duxuc-DVkcpP"
      },
      "outputs": [
        {
          "data": {
            "text/plain": [
              "['the',\n",
              " 'secrets',\n",
              " 'to',\n",
              " 'success',\n",
              " 'hi',\n",
              " 'james',\n",
              " 'have',\n",
              " 'you',\n",
              " 'claim',\n",
              " 'your',\n",
              " 'complimentary',\n",
              " 'gift',\n",
              " 'yet',\n",
              " \"i've\",\n",
              " 'compiled',\n",
              " 'in',\n",
              " 'here',\n",
              " 'a',\n",
              " 'special',\n",
              " 'astrology',\n",
              " 'gift',\n",
              " 'that',\n",
              " 'predicts',\n",
              " 'everything',\n",
              " 'about',\n",
              " 'you',\n",
              " 'in',\n",
              " 'the',\n",
              " 'future',\n",
              " 'this',\n",
              " 'is',\n",
              " 'your',\n",
              " 'enabler',\n",
              " 'to',\n",
              " 'take',\n",
              " 'the',\n",
              " 'correct',\n",
              " 'actions',\n",
              " 'now',\n",
              " 'click',\n",
              " 'here',\n",
              " 'to',\n",
              " 'claim',\n",
              " 'your',\n",
              " 'copy',\n",
              " 'now',\n",
              " 'claim',\n",
              " 'yours',\n",
              " 'now',\n",
              " 'and',\n",
              " 'thank',\n",
              " 'me',\n",
              " 'later',\n",
              " 'love',\n",
              " 'heather']"
            ]
          },
          "execution_count": 14,
          "metadata": {},
          "output_type": "execute_result"
        }
      ],
      "source": [
        "segmented_sentences[0]"
      ]
    },
    {
      "cell_type": "code",
      "execution_count": 15,
      "metadata": {
        "id": "x35rV7QZH49n"
      },
      "outputs": [],
      "source": [
        "# calculamos la longitud de cada secuencia\n",
        "length_sentences = [len(sentence) for sentence in segmented_sentences]"
      ]
    },
    {
      "cell_type": "code",
      "execution_count": 16,
      "metadata": {
        "id": "R8P8vDXRII4c"
      },
      "outputs": [
        {
          "data": {
            "text/plain": [
              "(array([23., 26., 18.,  5.,  4.,  1.,  1.,  1.,  2.,  0.,  1.,  0.,  0.,\n",
              "         0.,  0.,  1.,  0.,  0.,  0.,  1.]),\n",
              " array([   4. ,   60.1,  116.2,  172.3,  228.4,  284.5,  340.6,  396.7,\n",
              "         452.8,  508.9,  565. ,  621.1,  677.2,  733.3,  789.4,  845.5,\n",
              "         901.6,  957.7, 1013.8, 1069.9, 1126. ]),\n",
              " <BarContainer object of 20 artists>)"
            ]
          },
          "execution_count": 16,
          "metadata": {},
          "output_type": "execute_result"
        },
        {
          "data": {
            "image/png": "[encoded data removed]",
            "text/plain": [
              "<Figure size 640x480 with 1 Axes>"
            ]
          },
          "metadata": {},
          "output_type": "display_data"
        }
      ],
      "source": [
        "# podemos ver su distribución\n",
        "plt.hist(length_sentences,bins=20)"
      ]
    },
    {
      "cell_type": "markdown",
      "metadata": {},
      "source": [
        "Por la naturaleza de los emails, es muy probable que no se utilicen signos de puntuacion a menudo, por lo que hay que elegir un tamaño a mano. 50 palabras parece razonable"
      ]
    },
    {
      "cell_type": "code",
      "execution_count": 17,
      "metadata": {
        "id": "wumBNwdjJM3j"
      },
      "outputs": [
        {
          "name": "stdout",
          "output_type": "stream",
          "text": [
            "max_context_size: 50\n"
          ]
        }
      ],
      "source": [
        "# a partir de la distribución de longitudes de secuencias elegimos algún criterio\n",
        "# para determinar el máximo tamaño de contexto. En este caso es un percentil, pero\n",
        "# otros criterios también pueden ser válidos con la justificación adecuada.\n",
        "# También puede ser una selección \"a mano\"\n",
        "\n",
        "# el -1 es porque el último token será el target\n",
        "# max_context_size = int(np.percentile(length_sentences, 95)-1)\n",
        "\n",
        "# max_context_size = int(np.ceil(np.mean(length_sentences))) # criterio de media\n",
        "max_context_size = 50 # criterio a mano\n",
        "print(f'max_context_size: {max_context_size}')"
      ]
    },
    {
      "cell_type": "markdown",
      "metadata": {
        "id": "2oIUjVU0LB0r"
      },
      "source": [
        "###  Tokenizar"
      ]
    },
    {
      "cell_type": "code",
      "execution_count": 18,
      "metadata": {
        "id": "_XKQIpRiLNbg"
      },
      "outputs": [],
      "source": [
        "# instanciamos el tokenizador\n",
        "tok = Tokenizer()\n",
        "\n",
        "# El tokenizer \"aprende\" las palabras que se usaran\n",
        "# Se construye (fit) una vez por proyecto, se aplica N veces (tal cual un encoder)\n",
        "# El token 0 es reservado y no es asignado. Se utiliza para designar a palabras\n",
        "# fuera del vocabulario aprendido\n",
        "tok.fit_on_texts(segmented_sentences)\n",
        "\n",
        "# Convertimos las palabras a números\n",
        "# entran palabras -> salen números\n",
        "tokenized_sentences = tok.texts_to_sequences(segmented_sentences)"
      ]
    },
    {
      "cell_type": "code",
      "execution_count": 19,
      "metadata": {
        "id": "AK2wfHyslrTz"
      },
      "outputs": [
        {
          "data": {
            "text/plain": [
              "[1,\n",
              " 1482,\n",
              " 2,\n",
              " 493,\n",
              " 99,\n",
              " 862,\n",
              " 20,\n",
              " 3,\n",
              " 621,\n",
              " 5,\n",
              " 1483,\n",
              " 182,\n",
              " 622,\n",
              " 863,\n",
              " 1484,\n",
              " 6,\n",
              " 32,\n",
              " 7,\n",
              " 208,\n",
              " 1485,\n",
              " 182,\n",
              " 19,\n",
              " 1486,\n",
              " 623,\n",
              " 41,\n",
              " 3,\n",
              " 6,\n",
              " 1,\n",
              " 321,\n",
              " 11,\n",
              " 9,\n",
              " 5,\n",
              " 1487,\n",
              " 2,\n",
              " 86,\n",
              " 1,\n",
              " 864,\n",
              " 1488,\n",
              " 50,\n",
              " 43,\n",
              " 32,\n",
              " 2,\n",
              " 621,\n",
              " 5,\n",
              " 1489,\n",
              " 50,\n",
              " 621,\n",
              " 494,\n",
              " 50,\n",
              " 4,\n",
              " 76,\n",
              " 183,\n",
              " 1490,\n",
              " 394,\n",
              " 1491]"
            ]
          },
          "execution_count": 19,
          "metadata": {},
          "output_type": "execute_result"
        }
      ],
      "source": [
        "tokenized_sentences[0]"
      ]
    },
    {
      "cell_type": "code",
      "execution_count": 20,
      "metadata": {
        "id": "s-93u9lxlwlP"
      },
      "outputs": [
        {
          "data": {
            "text/plain": [
              "['the',\n",
              " 'secrets',\n",
              " 'to',\n",
              " 'success',\n",
              " 'hi',\n",
              " 'james',\n",
              " 'have',\n",
              " 'you',\n",
              " 'claim',\n",
              " 'your',\n",
              " 'complimentary',\n",
              " 'gift',\n",
              " 'yet',\n",
              " \"i've\",\n",
              " 'compiled',\n",
              " 'in',\n",
              " 'here',\n",
              " 'a',\n",
              " 'special',\n",
              " 'astrology',\n",
              " 'gift',\n",
              " 'that',\n",
              " 'predicts',\n",
              " 'everything',\n",
              " 'about',\n",
              " 'you',\n",
              " 'in',\n",
              " 'the',\n",
              " 'future',\n",
              " 'this',\n",
              " 'is',\n",
              " 'your',\n",
              " 'enabler',\n",
              " 'to',\n",
              " 'take',\n",
              " 'the',\n",
              " 'correct',\n",
              " 'actions',\n",
              " 'now',\n",
              " 'click',\n",
              " 'here',\n",
              " 'to',\n",
              " 'claim',\n",
              " 'your',\n",
              " 'copy',\n",
              " 'now',\n",
              " 'claim',\n",
              " 'yours',\n",
              " 'now',\n",
              " 'and',\n",
              " 'thank',\n",
              " 'me',\n",
              " 'later',\n",
              " 'love',\n",
              " 'heather']"
            ]
          },
          "execution_count": 20,
          "metadata": {},
          "output_type": "execute_result"
        }
      ],
      "source": [
        "segmented_sentences[0]"
      ]
    },
    {
      "cell_type": "markdown",
      "metadata": {
        "id": "pfpYcaypKcI9"
      },
      "source": [
        "### Organizando y estructurando el dataset"
      ]
    },
    {
      "cell_type": "markdown",
      "metadata": {
        "id": "l3iPTx-UJl6r"
      },
      "source": [
        "En este punto tenemos en la variable `tokenized_sentences` los versos tokenizados. Vamos a quedarnos con un conjunto de validación que utilizaremos para medir la calidad de la generación de secuencias con la métrica de Perplejidad."
      ]
    },
    {
      "cell_type": "code",
      "execution_count": 21,
      "metadata": {
        "id": "cSeqVGyV_wz5"
      },
      "outputs": [],
      "source": [
        "tokenized_sentences_train, tokenized_sentences_val, _, _ = train_test_split(tokenized_sentences, tokenized_sentences, test_size=0.2, random_state=42)"
      ]
    },
    {
      "cell_type": "markdown",
      "metadata": {
        "id": "gmsoPbV6LxcW"
      },
      "source": [
        "Vamos a splitear las oraciones que tienen tamaño mayor al contexto máximo, para generarnos más secuencias de entrenamiento. Este paso puede obviarse si el tamaño de contexto máximo es muy grande."
      ]
    },
    {
      "cell_type": "code",
      "execution_count": 22,
      "metadata": {
        "id": "E5BPO4qPPnNR"
      },
      "outputs": [],
      "source": [
        "tok_sent = []\n",
        "\n",
        "for sent in tokenized_sentences_train:\n",
        "\n",
        "  # si la secuencia tiene más términos que el tamaño de contexto máximo,\n",
        "  # armo varias sub-secuencias de tamaño máximo\n",
        "  if len(sent) > (max_context_size+1):\n",
        "    extra = len(sent)-(max_context_size+1) + 1\n",
        "    for i in range(extra):\n",
        "      tok_sent.append(sent[i:i+max_context_size+1])\n",
        "  else: # si la secuencia tiene menos términos el tamaño de contexto máximo, dejo la secuencia como está\n",
        "    tok_sent.append(sent)\n"
      ]
    },
    {
      "cell_type": "code",
      "execution_count": 23,
      "metadata": {
        "id": "RiEt0AAz_64v"
      },
      "outputs": [
        {
          "name": "stdout",
          "output_type": "stream",
          "text": [
            "Aumentado el numero de tokens de 67 a 5188\n"
          ]
        }
      ],
      "source": [
        "print(f\"Aumentado el numero de tokens de {len(tokenized_sentences_train)} a {len(tok_sent)}\")"
      ]
    },
    {
      "cell_type": "markdown",
      "metadata": {
        "id": "QnwSC7A_LWfd"
      },
      "source": [
        "Ahora aumentamos los datos aprovechando que de una secuencia grande se pueden generar varias más pequeñas:"
      ]
    },
    {
      "cell_type": "code",
      "execution_count": 24,
      "metadata": {
        "id": "lWdhVV04htki"
      },
      "outputs": [],
      "source": [
        "tok_sent_augm = []\n",
        "\n",
        "for sent in tok_sent:\n",
        "\n",
        "  # generamos todas las sub-secuencias\n",
        "  subseq = [sent[:i+2] for i in range(len(sent)-1)]\n",
        "  # en esta línea paddeamos al tamaño de contexto máximo\n",
        "  tok_sent_augm.append(pad_sequences(subseq, maxlen=max_context_size+1, padding='pre'))\n"
      ]
    },
    {
      "cell_type": "code",
      "execution_count": 25,
      "metadata": {
        "id": "THXXBya1tnZ8"
      },
      "outputs": [],
      "source": [
        "# finalmente concatenamos todas las secuencias en un único array de numpy\n",
        "train_seqs = np.concatenate(tok_sent_augm, axis=0)"
      ]
    },
    {
      "cell_type": "code",
      "execution_count": 26,
      "metadata": {
        "id": "o5Uiflnwt10J"
      },
      "outputs": [
        {
          "data": {
            "text/plain": [
              "(259105, 51)"
            ]
          },
          "execution_count": 26,
          "metadata": {},
          "output_type": "execute_result"
        }
      ],
      "source": [
        "train_seqs.shape"
      ]
    },
    {
      "cell_type": "code",
      "execution_count": 27,
      "metadata": {
        "id": "yprwJHiMBQIS"
      },
      "outputs": [],
      "source": [
        "# y de aquí sacamos las entradas y los targets que consumirá nuestro sistema en\n",
        "# tiempo de entrenamiento\n",
        "X = train_seqs[:,:-1]\n",
        "y = train_seqs[:,1:]"
      ]
    },
    {
      "cell_type": "markdown",
      "metadata": {
        "id": "YxuKNI05Ttct"
      },
      "source": [
        "Nótese que estamos estructurando el problema de aprendizaje como *many-to-many*:\n",
        "\n",
        "Entrada: secuencia de tokens [$x_0$, $x_1$, ..., $x_N$]\n",
        "\n",
        "Target: secuencia de tokens [$x_1$, $x_2$, ..., $x_{N+1}$]\n",
        "\n",
        "De manera que la red tiene que aprender que su salida deben ser los tokens desplazados en una posición y un nuevo token predicho (el N+1).\n",
        "\n",
        "La ventaja de estructurar el aprendizaje de esta manera es que para cada token de target se propaga una señal de gradiente por el grafo de cómputo recurrente, que es mejor que estructurar el problema como *many-to-one* en donde sólo una señal de gradiente se propaga."
      ]
    },
    {
      "cell_type": "code",
      "execution_count": 28,
      "metadata": {
        "id": "KFAyA4zCWE-5"
      },
      "outputs": [
        {
          "data": {
            "text/plain": [
              "(259105, 50)"
            ]
          },
          "execution_count": 28,
          "metadata": {},
          "output_type": "execute_result"
        }
      ],
      "source": [
        "y.shape"
      ]
    },
    {
      "cell_type": "code",
      "execution_count": 29,
      "metadata": {
        "id": "1D9ESMGyB_QD"
      },
      "outputs": [
        {
          "data": {
            "text/plain": [
              "{1: 'the',\n",
              " 2: 'to',\n",
              " 3: 'you',\n",
              " 4: 'and',\n",
              " 5: 'your',\n",
              " 6: 'in',\n",
              " 7: 'a',\n",
              " 8: 'for',\n",
              " 9: 'is',\n",
              " 10: 'of',\n",
              " 11: 'this',\n",
              " 12: 'on',\n",
              " 13: 'our',\n",
              " 14: 'we',\n",
              " 15: 'are',\n",
              " 16: 'or',\n",
              " 17: 'i',\n",
              " 18: 'with',\n",
              " 19: 'that',\n",
              " 20: 'have',\n",
              " 21: 'if',\n",
              " 22: 'from',\n",
              " 23: 'will',\n",
              " 24: 'be',\n",
              " 25: 'more',\n",
              " 26: 'as',\n",
              " 27: 'account',\n",
              " 28: 'com',\n",
              " 29: 'email',\n",
              " 30: 'company',\n",
              " 31: 'please',\n",
              " 32: 'here',\n",
              " 33: 'by',\n",
              " 34: 'all',\n",
              " 35: 'at',\n",
              " 36: 'it',\n",
              " 37: 'new',\n",
              " 38: '2023',\n",
              " 39: 'can',\n",
              " 40: 'logo',\n",
              " 41: 'about',\n",
              " 42: 'us',\n",
              " 43: 'click',\n",
              " 44: '1',\n",
              " 45: 'an',\n",
              " 46: 'amazon',\n",
              " 47: 'service',\n",
              " 48: 'customer',\n",
              " 49: 'has',\n",
              " 50: 'now',\n",
              " 51: 'just',\n",
              " 52: 'so',\n",
              " 53: 'how',\n",
              " 54: 'was',\n",
              " 55: 'any',\n",
              " 56: '000',\n",
              " 57: 'their',\n",
              " 58: 'â\\x80¢',\n",
              " 59: 'do',\n",
              " 60: 'not',\n",
              " 61: 'privacy',\n",
              " 62: 'use',\n",
              " 63: 'like',\n",
              " 64: 'time',\n",
              " 65: 'address',\n",
              " 66: 'up',\n",
              " 67: 'out',\n",
              " 68: '10',\n",
              " 69: 'terms',\n",
              " 70: '4',\n",
              " 71: 'work',\n",
              " 72: 'project',\n",
              " 73: 'may',\n",
              " 74: 'read',\n",
              " 75: 'pt',\n",
              " 76: 'thank',\n",
              " 77: 'what',\n",
              " 78: 'team',\n",
              " 79: 'been',\n",
              " 80: 'information',\n",
              " 81: 'get',\n",
              " 82: 'they',\n",
              " 83: 'app',\n",
              " 84: 'see',\n",
              " 85: 'other',\n",
              " 86: 'take',\n",
              " 87: 'one',\n",
              " 88: 'go',\n",
              " 89: 'https',\n",
              " 90: 'image',\n",
              " 91: 'access',\n",
              " 92: 'c',\n",
              " 93: 'today',\n",
              " 94: '2',\n",
              " 95: 'these',\n",
              " 96: 'message',\n",
              " 97: 'dear',\n",
              " 98: 'my',\n",
              " 99: 'hi',\n",
              " 100: 'need',\n",
              " 101: 'play',\n",
              " 102: 'best',\n",
              " 103: 'full',\n",
              " 104: 'free',\n",
              " 105: 'make',\n",
              " 106: 'call',\n",
              " 107: 'regards',\n",
              " 108: 'job',\n",
              " 109: 'some',\n",
              " 110: 'help',\n",
              " 111: 'login',\n",
              " 112: 'sales',\n",
              " 113: 'â»',\n",
              " 114: 'upvote',\n",
              " 115: 'order',\n",
              " 116: '3',\n",
              " 117: 'hello',\n",
              " 118: 'which',\n",
              " 119: 'support',\n",
              " 120: 'day',\n",
              " 121: 'top',\n",
              " 122: 'know',\n",
              " 123: 'there',\n",
              " 124: 'pay',\n",
              " 125: 'e',\n",
              " 126: 'registered',\n",
              " 127: 'learn',\n",
              " 128: 'answered',\n",
              " 129: 'comment',\n",
              " 130: 'skrill',\n",
              " 131: 'sent',\n",
              " 132: 'received',\n",
              " 133: 'good',\n",
              " 134: 'year',\n",
              " 135: 'no',\n",
              " 136: 'complete',\n",
              " 137: 'device',\n",
              " 138: 'who',\n",
              " 139: 'â©',\n",
              " 140: 'jobstreet',\n",
              " 141: 'international',\n",
              " 142: 'view',\n",
              " 143: 'contact',\n",
              " 144: 'program',\n",
              " 145: 'last',\n",
              " 146: 'join',\n",
              " 147: 'but',\n",
              " 148: '7',\n",
              " 149: 'link',\n",
              " 150: 'data',\n",
              " 151: 'application',\n",
              " 152: \"don't\",\n",
              " 153: 'products',\n",
              " 154: 'discogs',\n",
              " 155: 'only',\n",
              " 156: 'plan',\n",
              " 157: 'google',\n",
              " 158: 'am',\n",
              " 159: 'kpmg',\n",
              " 160: 'paypal',\n",
              " 161: 'document',\n",
              " 162: 'reward',\n",
              " 163: 'thanks',\n",
              " 164: 'keep',\n",
              " 165: 'his',\n",
              " 166: 'game',\n",
              " 167: 'season',\n",
              " 168: 'provide',\n",
              " 169: 'skills',\n",
              " 170: 'also',\n",
              " 171: '9',\n",
              " 172: 'june',\n",
              " 173: 'model',\n",
              " 174: 'appen',\n",
              " 175: 'still',\n",
              " 176: 'would',\n",
              " 177: 'july',\n",
              " 178: 'rights',\n",
              " 179: 'because',\n",
              " 180: 'working',\n",
              " 181: 'services',\n",
              " 182: 'gift',\n",
              " 183: 'me',\n",
              " 184: '500',\n",
              " 185: 'visit',\n",
              " 186: 'code',\n",
              " 187: 'next',\n",
              " 188: '5',\n",
              " 189: 'conditions',\n",
              " 190: 'runs',\n",
              " 191: '6',\n",
              " 192: 'few',\n",
              " 193: 'right',\n",
              " 194: 'than',\n",
              " 195: 'instagram',\n",
              " 196: 'password',\n",
              " 197: 'after',\n",
              " 198: 'those',\n",
              " 199: 'emails',\n",
              " 200: 'reserved',\n",
              " 201: 'notice',\n",
              " 202: 'indonesia',\n",
              " 203: 'www',\n",
              " 204: 'inc',\n",
              " 205: 'verify',\n",
              " 206: 'position',\n",
              " 207: 'twitch',\n",
              " 208: 'special',\n",
              " 209: 'earn',\n",
              " 210: 'unsubscribe',\n",
              " 211: 'below',\n",
              " 212: 'center',\n",
              " 213: 'mlb',\n",
              " 214: 'including',\n",
              " 215: 'being',\n",
              " 216: 'win',\n",
              " 217: 'sign',\n",
              " 218: 'start',\n",
              " 219: 'most',\n",
              " 220: 'community',\n",
              " 221: 'twitter',\n",
              " 222: 'every',\n",
              " 223: 'into',\n",
              " 224: '18',\n",
              " 225: 'got',\n",
              " 226: 'even',\n",
              " 227: 'receive',\n",
              " 228: 'share',\n",
              " 229: 'using',\n",
              " 230: 'competitive',\n",
              " 231: 'want',\n",
              " 232: 'find',\n",
              " 233: 'someone',\n",
              " 234: 'request',\n",
              " 235: 'people',\n",
              " 236: 'questions',\n",
              " 237: 'sincerely',\n",
              " 238: 'policy',\n",
              " 239: 'limited',\n",
              " 240: 'security',\n",
              " 241: 'changes',\n",
              " 242: 'language',\n",
              " 243: 'safe',\n",
              " 244: 'quick',\n",
              " 245: 'officer',\n",
              " 246: 'jobs',\n",
              " 247: 'surabaya',\n",
              " 248: 'idr',\n",
              " 249: 'bank',\n",
              " 250: 'office',\n",
              " 251: 'jakarta',\n",
              " 252: 'raya',\n",
              " 253: 'admin',\n",
              " 254: 'prime',\n",
              " 255: 'projects',\n",
              " 256: 'own',\n",
              " 257: 'gut',\n",
              " 258: 'high',\n",
              " 259: 'responsible',\n",
              " 260: 'step',\n",
              " 261: 'settings',\n",
              " 262: 'mail',\n",
              " 263: 'denim',\n",
              " 264: 'tax',\n",
              " 265: 'earned',\n",
              " 266: 'offer',\n",
              " 267: 'when',\n",
              " 268: 'profile',\n",
              " 269: 're',\n",
              " 270: 'saturday',\n",
              " 271: \"today's\",\n",
              " 272: 'video',\n",
              " 273: 'great',\n",
              " 274: '0',\n",
              " 275: '14',\n",
              " 276: '30',\n",
              " 277: 'p',\n",
              " 278: 'him',\n",
              " 279: 'opportunity',\n",
              " 280: 'under',\n",
              " 281: 'look',\n",
              " 282: 'over',\n",
              " 283: 'well',\n",
              " 284: 'review',\n",
              " 285: 'facebook',\n",
              " 286: 'updates',\n",
              " 287: 'note',\n",
              " 288: 'create',\n",
              " 289: 'degree',\n",
              " 290: 'payment',\n",
              " 291: 'month',\n",
              " 292: 'business',\n",
              " 293: 'connect',\n",
              " 294: 'then',\n",
              " 295: 'through',\n",
              " 296: 'related',\n",
              " 297: 'name',\n",
              " 298: 'subject',\n",
              " 299: '8',\n",
              " 300: 'where',\n",
              " 301: 'online',\n",
              " 302: 'noticed',\n",
              " 303: 'number',\n",
              " 304: 'features',\n",
              " 305: 'tidal',\n",
              " 306: 'feedback',\n",
              " 307: 'believe',\n",
              " 308: 'statement',\n",
              " 309: 'its',\n",
              " 310: \"we're\",\n",
              " 311: 'test',\n",
              " 312: 'things',\n",
              " 313: 'supplements',\n",
              " 314: 'quality',\n",
              " 315: 'much',\n",
              " 316: 'hard',\n",
              " 317: 'current',\n",
              " 318: 'sure',\n",
              " 319: 'send',\n",
              " 320: 'money',\n",
              " 321: 'future',\n",
              " 322: 'he',\n",
              " 323: '00',\n",
              " 324: 'home',\n",
              " 325: 'action',\n",
              " 326: 'follow',\n",
              " 327: 'weâ\\x80\\x99re',\n",
              " 328: 'each',\n",
              " 329: '15',\n",
              " 330: 'april',\n",
              " 331: 'track',\n",
              " 332: 'easy',\n",
              " 333: 'should',\n",
              " 334: 'casting',\n",
              " 335: 'anambra',\n",
              " 336: 'fashion',\n",
              " 337: 'expo',\n",
              " 338: 'remember',\n",
              " 339: \"you'll\",\n",
              " 340: 'shopping',\n",
              " 341: '27',\n",
              " 342: 'interest',\n",
              " 343: 'participate',\n",
              " 344: 'images',\n",
              " 345: 'addition',\n",
              " 346: 'used',\n",
              " 347: 'such',\n",
              " 348: 'process',\n",
              " 349: 'wish',\n",
              " 350: 'based',\n",
              " 351: 'copyright',\n",
              " 352: 'become',\n",
              " 353: 'updated',\n",
              " 354: 'live',\n",
              " 355: 'marketplace',\n",
              " 356: 'surveyâ®',\n",
              " 357: 'member',\n",
              " 358: 'allow',\n",
              " 359: 'financial',\n",
              " 360: 'bali',\n",
              " 361: 'tbk',\n",
              " 362: 'career',\n",
              " 363: 'timur',\n",
              " 364: 'paid',\n",
              " 365: 'page',\n",
              " 366: 'walid',\n",
              " 367: 'update',\n",
              " 368: 'instruments',\n",
              " 369: 'discussion',\n",
              " 370: 'winning',\n",
              " 371: 'weight',\n",
              " 372: 'why',\n",
              " 373: 'shop',\n",
              " 374: 'many',\n",
              " 375: 'always',\n",
              " 376: 'ca',\n",
              " 377: 'rides',\n",
              " 378: 'website',\n",
              " 379: 'while',\n",
              " 380: 'bard',\n",
              " 381: 'doordash',\n",
              " 382: 'firm',\n",
              " 383: 'research',\n",
              " 384: 'location',\n",
              " 385: 'reply',\n",
              " 386: 'snapchat',\n",
              " 387: 'mobile',\n",
              " 388: 'netflix',\n",
              " 389: 'tv',\n",
              " 390: 'returns',\n",
              " 391: '999',\n",
              " 392: 'venmo',\n",
              " 393: 'steam',\n",
              " 394: 'love',\n",
              " 395: 'following',\n",
              " 396: 'change',\n",
              " 397: 'continue',\n",
              " 398: 'two',\n",
              " 399: 'games',\n",
              " 400: 'off',\n",
              " 401: 'first',\n",
              " 402: 'apply',\n",
              " 403: 'braves',\n",
              " 404: 'hits',\n",
              " 405: 'three',\n",
              " 406: '22',\n",
              " 407: 'average',\n",
              " 408: 'matt',\n",
              " 409: 'looking',\n",
              " 410: 'check',\n",
              " 411: 'going',\n",
              " 412: 'donâ\\x80\\x99t',\n",
              " 413: 'let',\n",
              " 414: 'links',\n",
              " 415: 'show',\n",
              " 416: 'pick',\n",
              " 417: 'long',\n",
              " 418: 'videos',\n",
              " 419: 'set',\n",
              " 420: '17',\n",
              " 421: '24',\n",
              " 422: 'during',\n",
              " 423: 'register',\n",
              " 424: 'excited',\n",
              " 425: 'media',\n",
              " 426: 'co',\n",
              " 427: 'global',\n",
              " 428: 'market',\n",
              " 429: 'fast',\n",
              " 430: 'ai',\n",
              " 431: 'else',\n",
              " 432: 'education',\n",
              " 433: 's',\n",
              " 434: 'waiting',\n",
              " 435: 'tr',\n",
              " 436: '07',\n",
              " 437: 'collection',\n",
              " 438: 'could',\n",
              " 439: 'various',\n",
              " 440: 'kindly',\n",
              " 441: 'itâ\\x80\\x99s',\n",
              " 442: 'important',\n",
              " 443: 'once',\n",
              " 444: \"it's\",\n",
              " 445: 'potential',\n",
              " 446: 'extremely',\n",
              " 447: 'sir',\n",
              " 448: 'institution',\n",
              " 449: '2021',\n",
              " 450: 'bible',\n",
              " 451: 'date',\n",
              " 452: 'section',\n",
              " 453: 'clearer',\n",
              " 454: 'issue',\n",
              " 455: 'balance',\n",
              " 456: 'present',\n",
              " 457: '19',\n",
              " 458: \"we've\",\n",
              " 459: 'multiple',\n",
              " 460: 'locations',\n",
              " 461: '600',\n",
              " 462: 'development',\n",
              " 463: 'user',\n",
              " 464: 'denis',\n",
              " 465: 'membership',\n",
              " 466: 'trial',\n",
              " 467: 'ensure',\n",
              " 468: 'credit',\n",
              " 469: 'gmail',\n",
              " 470: 'english',\n",
              " 471: 'indices',\n",
              " 472: 'details',\n",
              " 473: 'successful',\n",
              " 474: 'certain',\n",
              " 475: 'cancel',\n",
              " 476: 'quora',\n",
              " 477: 'experience',\n",
              " 478: 'drivers',\n",
              " 479: 'requirements',\n",
              " 480: 'required',\n",
              " 481: 'john',\n",
              " 482: 'zandi',\n",
              " 483: 'tamane',\n",
              " 484: 'music',\n",
              " 485: 'microsoft',\n",
              " 486: 'maliek',\n",
              " 487: '32',\n",
              " 488: 'store',\n",
              " 489: 'cytonn',\n",
              " 490: 'genealogy',\n",
              " 491: 'protection',\n",
              " 492: 'file',\n",
              " 493: 'success',\n",
              " 494: 'yours',\n",
              " 495: 'road',\n",
              " 496: 'github',\n",
              " 497: 'virtual',\n",
              " 498: 'expert',\n",
              " 499: 'hey',\n",
              " 500: 'ready',\n",
              " 501: 'lose',\n",
              " 502: 'five',\n",
              " 503: 'era',\n",
              " 504: '23',\n",
              " 505: 'finish',\n",
              " 506: 'end',\n",
              " 507: 'astros',\n",
              " 508: 'world',\n",
              " 509: 'taken',\n",
              " 510: 'due',\n",
              " 511: 'performance',\n",
              " 512: 'major',\n",
              " 513: 'back',\n",
              " 514: '12',\n",
              " 515: 'able',\n",
              " 516: '13',\n",
              " 517: 'taking',\n",
              " 518: 'reviewing',\n",
              " 519: 'social',\n",
              " 520: 'accounts',\n",
              " 521: 'content',\n",
              " 522: 'afe2023',\n",
              " 523: 'encourage',\n",
              " 524: 'dp',\n",
              " 525: 'mba',\n",
              " 526: 'nexford',\n",
              " 527: 'university',\n",
              " 528: 'academic',\n",
              " 529: 'less',\n",
              " 530: 'monthly',\n",
              " 531: 'months',\n",
              " 532: 'total',\n",
              " 533: 'administration',\n",
              " 534: 'needed',\n",
              " 535: 'detail',\n",
              " 536: 'platform',\n",
              " 537: 'log',\n",
              " 538: 'software',\n",
              " 539: 'dataset',\n",
              " 540: 'between',\n",
              " 541: 'smartphone',\n",
              " 542: 'reach',\n",
              " 543: 'kind',\n",
              " 544: 'applied',\n",
              " 545: 'past',\n",
              " 546: 'assistance',\n",
              " 547: '2022',\n",
              " 548: 'luxury',\n",
              " 549: 'interview',\n",
              " 550: 'salary',\n",
              " 551: 'match',\n",
              " 552: 'life',\n",
              " 553: 'started',\n",
              " 554: 'doing',\n",
              " 555: 'recently',\n",
              " 556: 'increase',\n",
              " 557: 'sellers',\n",
              " 558: 'period',\n",
              " 559: 'fraud',\n",
              " 560: 'committed',\n",
              " 561: 'guide',\n",
              " 562: 'buying',\n",
              " 563: 'tips',\n",
              " 564: 'come',\n",
              " 565: 'anggraeni',\n",
              " 566: 'receiving',\n",
              " 567: 'inform',\n",
              " 568: '90',\n",
              " 569: 'alert',\n",
              " 570: 'recommendations',\n",
              " 571: 'tarakan',\n",
              " 572: 'environment',\n",
              " 573: 'opportunities',\n",
              " 574: 'oma',\n",
              " 575: 'elly',\n",
              " 576: 'sinar',\n",
              " 577: 'manado',\n",
              " 578: 'jawa',\n",
              " 579: 'cannot',\n",
              " 580: \"i'm\",\n",
              " 581: 'something',\n",
              " 582: 'income',\n",
              " 583: 'welcome',\n",
              " 584: 'usually',\n",
              " 585: 'include',\n",
              " 586: 'since',\n",
              " 587: 'strategies',\n",
              " 588: 'freelancer',\n",
              " 589: 'loss',\n",
              " 590: 'primary',\n",
              " 591: 'nutrition',\n",
              " 592: 'absorption',\n",
              " 593: 'really',\n",
              " 594: 'making',\n",
              " 595: 'them',\n",
              " 596: 'x',\n",
              " 597: '65',\n",
              " 598: 'march',\n",
              " 599: '2018',\n",
              " 600: 'street',\n",
              " 601: 'nigeria',\n",
              " 602: 'hereâ\\x80\\x99s',\n",
              " 603: 'bolt',\n",
              " 604: 'verification',\n",
              " 605: 'usd',\n",
              " 606: 'secure',\n",
              " 607: 'days',\n",
              " 608: 'confirmation',\n",
              " 609: 'recruitment',\n",
              " 610: 'executive',\n",
              " 611: 'id',\n",
              " 612: 'psas',\n",
              " 613: 'ltd',\n",
              " 614: 'kra',\n",
              " 615: 'ke',\n",
              " 616: 'en',\n",
              " 617: 'fanat',\n",
              " 618: 'papicha',\n",
              " 619: 'nomer',\n",
              " 620: 'accept',\n",
              " 621: 'claim',\n",
              " 622: 'yet',\n",
              " 623: 'everything',\n",
              " 624: 'points',\n",
              " 625: 'text',\n",
              " 626: 'tower',\n",
              " 627: '33',\n",
              " 628: 'signing',\n",
              " 629: 'open',\n",
              " 630: 'contacting',\n",
              " 631: 'packed',\n",
              " 632: 'insider',\n",
              " 633: 'picks',\n",
              " 634: 'spotlight',\n",
              " 635: 'way',\n",
              " 636: \"let's\",\n",
              " 637: 'ifill',\n",
              " 638: 'andre',\n",
              " 639: 'another',\n",
              " 640: 'strong',\n",
              " 641: 'week',\n",
              " 642: 'place',\n",
              " 643: 'bet',\n",
              " 644: \"they've\",\n",
              " 645: 'credits',\n",
              " 646: 'vs',\n",
              " 647: 'reds',\n",
              " 648: 'shuster',\n",
              " 649: 'colorado',\n",
              " 650: 'rockies',\n",
              " 651: 'hitting',\n",
              " 652: 'very',\n",
              " 653: 'reading',\n",
              " 654: 'contest',\n",
              " 655: 'tell',\n",
              " 656: 'done',\n",
              " 657: '100',\n",
              " 658: 'hot',\n",
              " 659: 'level',\n",
              " 660: 'anyone',\n",
              " 661: 'm',\n",
              " 662: 'did',\n",
              " 663: 'both',\n",
              " 664: \"isn't\",\n",
              " 665: 'however',\n",
              " 666: 'premium',\n",
              " 667: 'found',\n",
              " 668: '20',\n",
              " 669: 'had',\n",
              " 670: 'carefully',\n",
              " 671: 'event',\n",
              " 672: 'picture',\n",
              " 673: 'affordable',\n",
              " 674: 'hope',\n",
              " 675: 'itself',\n",
              " 676: 'cost',\n",
              " 677: 'higher',\n",
              " 678: 'signed',\n",
              " 679: '06',\n",
              " 680: 'pm',\n",
              " 681: 'a5655',\n",
              " 682: 'asia',\n",
              " 683: 'opt',\n",
              " 684: 'learning',\n",
              " 685: 'shared',\n",
              " 686: 'publicly',\n",
              " 687: 'train',\n",
              " 688: 'means',\n",
              " 689: 'example',\n",
              " 690: 'post',\n",
              " 691: 'accessing',\n",
              " 692: 'attempting',\n",
              " 693: 'identify',\n",
              " 694: 'must',\n",
              " 695: 'different',\n",
              " 696: 'agree',\n",
              " 697: 'form',\n",
              " 698: 'public',\n",
              " 699: 'unauthorized',\n",
              " 700: 'before',\n",
              " 701: 'madam',\n",
              " 702: '2020',\n",
              " 703: 'ask',\n",
              " 704: 'traveller',\n",
              " 705: 'browser',\n",
              " 706: 'task',\n",
              " 707: 'miss',\n",
              " 708: \"you're\",\n",
              " 709: 'available',\n",
              " 710: 'list',\n",
              " 711: 'product',\n",
              " 712: 'additional',\n",
              " 713: 'effect',\n",
              " 714: 'respect',\n",
              " 715: 'countries',\n",
              " 716: 'personal',\n",
              " 717: 'activity',\n",
              " 718: 'immediately',\n",
              " 719: 'recognize',\n",
              " 720: 'ondiekijohn254',\n",
              " 721: 'earning',\n",
              " 722: '16',\n",
              " 723: 'selected',\n",
              " 724: 'scholarship',\n",
              " 725: 'alex',\n",
              " 726: 'towards',\n",
              " 727: 'knowledge',\n",
              " 728: 'without',\n",
              " 729: 'replying',\n",
              " 730: 'front',\n",
              " 731: 'care',\n",
              " 732: 'utama',\n",
              " 733: 'depend',\n",
              " 734: 'training',\n",
              " 735: 'friendly',\n",
              " 736: 'energetic',\n",
              " 737: 'operations',\n",
              " 738: 'yogyakarta',\n",
              " 739: 'asuransi',\n",
              " 740: 'leader',\n",
              " 741: 'edit',\n",
              " 742: 'cards',\n",
              " 743: 'valid',\n",
              " 744: 'card',\n",
              " 745: 'provided',\n",
              " 746: 'affiliates',\n",
              " 747: 'respondent',\n",
              " 748: 'likely',\n",
              " 749: 'box',\n",
              " 750: 'york',\n",
              " 751: 'choose',\n",
              " 752: 'markets',\n",
              " 753: 'focus',\n",
              " 754: 'index',\n",
              " 755: 'deo',\n",
              " 756: 'sathya',\n",
              " 757: 'meeting',\n",
              " 758: 'valuable',\n",
              " 759: '50',\n",
              " 760: 'role',\n",
              " 761: 'reasons',\n",
              " 762: 'â\\x80\\x93',\n",
              " 763: 'levels',\n",
              " 764: 'skin',\n",
              " 765: 'stream',\n",
              " 766: 'rate',\n",
              " 767: 'effective',\n",
              " 768: 'works',\n",
              " 769: 'youâ\\x80\\x99ve',\n",
              " 770: 'sleep',\n",
              " 771: 'meet',\n",
              " 772: 'lot',\n",
              " 773: 'uif',\n",
              " 774: 'appreciate',\n",
              " 775: 'vira',\n",
              " 776: 'true',\n",
              " 777: 'problem',\n",
              " 778: 'say',\n",
              " 779: 'asked',\n",
              " 780: 'specialist',\n",
              " 781: 'np',\n",
              " 782: 'problems',\n",
              " 783: 'solved',\n",
              " 784: 'polynomial',\n",
              " 785: 'elvis',\n",
              " 786: 'gs',\n",
              " 787: 'proof',\n",
              " 788: 'doesnâ\\x80\\x99t',\n",
              " 789: 'her',\n",
              " 790: 'called',\n",
              " 791: 'currently',\n",
              " 792: 'download',\n",
              " 793: 'add',\n",
              " 794: 'dollars',\n",
              " 795: 'client',\n",
              " 796: 'safety',\n",
              " 797: 'until',\n",
              " 798: 'per',\n",
              " 799: 'attached',\n",
              " 800: 'assistant',\n",
              " 801: 'positions',\n",
              " 802: 'quickly',\n",
              " 803: 'stock',\n",
              " 804: 'windows',\n",
              " 805: 'checkup',\n",
              " 806: 'possible',\n",
              " 807: 'automatically',\n",
              " 808: 'hours',\n",
              " 809: 'little',\n",
              " 810: 'side',\n",
              " 811: 'outlook',\n",
              " 812: 'talent',\n",
              " 813: 'criteria',\n",
              " 814: 'intended',\n",
              " 815: 'inr',\n",
              " 816: \"chanello's\",\n",
              " 817: 'pizza',\n",
              " 818: 'prop',\n",
              " 819: 'warning',\n",
              " 820: 'state',\n",
              " 821: 'aptitude',\n",
              " 822: 'might',\n",
              " 823: 'error',\n",
              " 824: 'contain',\n",
              " 825: 'openings',\n",
              " 826: 'cpx',\n",
              " 827: 'ticket',\n",
              " 828: 'subscription',\n",
              " 829: 'anytime',\n",
              " 830: 'sfi',\n",
              " 831: 'csas',\n",
              " 832: 'envelope',\n",
              " 833: 'group',\n",
              " 834: 'icon',\n",
              " 835: 'techâ\\x84¢',\n",
              " 836: 'version',\n",
              " 837: 'soon',\n",
              " 838: 'trademark',\n",
              " 839: 'telemarketing',\n",
              " 840: 'low',\n",
              " 841: 'deadline',\n",
              " 842: 'filing',\n",
              " 843: 'license',\n",
              " 844: 'act',\n",
              " 845: 'try',\n",
              " 846: 'manage',\n",
              " 847: 'easier',\n",
              " 848: 'understand',\n",
              " 849: 'changed',\n",
              " 850: 'accessed',\n",
              " 851: 'listen',\n",
              " 852: 'six',\n",
              " 853: 'pack',\n",
              " 854: 'translation',\n",
              " 855: 'acceptability',\n",
              " 856: 'contains',\n",
              " 857: 'kilimall',\n",
              " 858: 'documents',\n",
              " 859: 'cookies',\n",
              " 860: 'explorers',\n",
              " 861: 'india',\n",
              " 862: 'james',\n",
              " 863: \"i've\",\n",
              " 864: 'correct',\n",
              " 865: 'congratulations',\n",
              " 866: 'completed',\n",
              " 867: 'stop',\n",
              " 868: 'notifications',\n",
              " 869: 'preferences',\n",
              " 870: 'setting',\n",
              " 871: 'room',\n",
              " 872: 'china',\n",
              " 873: 'hong',\n",
              " 874: 'kong',\n",
              " 875: 'launch',\n",
              " 876: \"here's\",\n",
              " 877: 'standing',\n",
              " 878: 'lead',\n",
              " 879: 'plus',\n",
              " 880: 'blockbuster',\n",
              " 881: 'prachanda',\n",
              " 882: 'newsletter',\n",
              " 883: 'deals',\n",
              " 884: 'saying',\n",
              " 885: \"andre'\",\n",
              " 886: 'rolling',\n",
              " 887: 'comes',\n",
              " 888: 'perfect',\n",
              " 889: '11',\n",
              " 890: 'run',\n",
              " 891: 'huge',\n",
              " 892: 'sizzler',\n",
              " 893: \"andre's\",\n",
              " 894: 'plays',\n",
              " 895: 'caesar',\n",
              " 896: \"that's\",\n",
              " 897: '21',\n",
              " 898: 'jared',\n",
              " 899: 'mound',\n",
              " 900: 'spam',\n",
              " 901: 'expected',\n",
              " 902: 'starting',\n",
              " 903: 'innings',\n",
              " 904: 'gave',\n",
              " 905: 'walks',\n",
              " 906: 'against',\n",
              " 907: 'league',\n",
              " 908: 'batting',\n",
              " 909: 'leads',\n",
              " 910: 'acuna',\n",
              " 911: 'stolen',\n",
              " 912: 'bases',\n",
              " 913: 'prediction',\n",
              " 914: 'incredible',\n",
              " 915: 'offers',\n",
              " 916: 'secret',\n",
              " 917: 'cfl',\n",
              " 918: 'lines',\n",
              " 919: 'exactly',\n",
              " 920: 'far',\n",
              " 921: 'guaranteed',\n",
              " 922: 'discord',\n",
              " 923: 'down',\n",
              " 924: 'books',\n",
              " 925: 'contests',\n",
              " 926: 'chance',\n",
              " 927: 'talk',\n",
              " 928: 'experts',\n",
              " 929: 'prepare',\n",
              " 930: 'daily',\n",
              " 931: 'watch',\n",
              " 932: 'youtube',\n",
              " 933: 'dodgers',\n",
              " 934: 'early',\n",
              " 935: 'houston',\n",
              " 936: '41',\n",
              " 937: '34',\n",
              " 938: 'night',\n",
              " 939: 'series',\n",
              " 940: '2017',\n",
              " 941: 'whatever',\n",
              " 942: 'takes',\n",
              " 943: 'willing',\n",
              " 944: 'rotation',\n",
              " 945: 'unfortunately',\n",
              " 946: \"he's\",\n",
              " 947: 'allowed',\n",
              " 948: 'nine',\n",
              " 949: 'homers',\n",
              " 950: 'briggs',\n",
              " 951: 'running',\n",
              " 952: 'given',\n",
              " 953: 'exclusive',\n",
              " 954: 'yesterday',\n",
              " 955: 'angels',\n",
              " 956: 'ball',\n",
              " 957: 'late',\n",
              " 958: 'giving',\n",
              " 959: 'ability',\n",
              " 960: 'issues',\n",
              " 961: 'afe',\n",
              " 962: 'thrilled',\n",
              " 963: 'submission',\n",
              " 964: 'applications',\n",
              " 965: 'weeks',\n",
              " 966: 'followed',\n",
              " 967: 'handles',\n",
              " 968: 'prerequisites',\n",
              " 969: 'qualification',\n",
              " 970: 'hashtag',\n",
              " 971: 'anambrafashionexpo2023',\n",
              " 972: 'anambrafashionexpo',\n",
              " 973: 'anambrafashion',\n",
              " 974: 'meantime',\n",
              " 975: 'stay',\n",
              " 976: 'connected',\n",
              " 977: 'eye',\n",
              " 978: 'posting',\n",
              " 979: 'personalized',\n",
              " 980: 'getdp',\n",
              " 981: 'american',\n",
              " 982: 'bring',\n",
              " 983: 'faster',\n",
              " 984: 'commerce',\n",
              " 985: 'etc',\n",
              " 986: 'upon',\n",
              " 987: 'away',\n",
              " 988: \"master's\",\n",
              " 989: 'anything',\n",
              " 990: 'accrediting',\n",
              " 991: 'deac',\n",
              " 992: 'listed',\n",
              " 993: 'recognized',\n",
              " 994: 'turkey',\n",
              " 995: 'android',\n",
              " 996: 'otherwise',\n",
              " 997: 'invite',\n",
              " 998: 'joining',\n",
              " 999: 'processed',\n",
              " 1000: 'accepted',\n",
              " ...}"
            ]
          },
          "execution_count": 29,
          "metadata": {},
          "output_type": "execute_result"
        }
      ],
      "source": [
        "# Palabras del vocabulario\n",
        "tok.index_word"
      ]
    },
    {
      "cell_type": "code",
      "execution_count": 30,
      "metadata": {
        "id": "WtzINYjWCMf1"
      },
      "outputs": [
        {
          "data": {
            "text/plain": [
              "2998"
            ]
          },
          "execution_count": 30,
          "metadata": {},
          "output_type": "execute_result"
        }
      ],
      "source": [
        "# Cantidad de palabras en el vocabulario\n",
        "vocab_size = len(tok.word_counts)\n",
        "vocab_size"
      ]
    },
    {
      "cell_type": "code",
      "execution_count": 31,
      "metadata": {
        "id": "spTBxmFQc6h8"
      },
      "outputs": [
        {
          "name": "stdout",
          "output_type": "stream",
          "text": [
            "{'the': 1, 'to': 2, 'you': 3, 'and': 4, 'your': 5, 'in': 6, 'a': 7, 'for': 8, 'is': 9, 'of': 10, 'this': 11, 'on': 12, 'our': 13, 'we': 14, 'are': 15, 'or': 16, 'i': 17, 'with': 18, 'that': 19, 'have': 20, 'if': 21, 'from': 22, 'will': 23, 'be': 24, 'more': 25, 'as': 26, 'account': 27, 'com': 28, 'email': 29, 'company': 30, 'please': 31, 'here': 32, 'by': 33, 'all': 34, 'at': 35, 'it': 36, 'new': 37, '2023': 38, 'can': 39, 'logo': 40, 'about': 41, 'us': 42, 'click': 43, '1': 44, 'an': 45, 'amazon': 46, 'service': 47, 'customer': 48, 'has': 49, 'now': 50, 'just': 51, 'so': 52, 'how': 53, 'was': 54, 'any': 55, '000': 56, 'their': 57, 'â\\x80¢': 58, 'do': 59, 'not': 60, 'privacy': 61, 'use': 62, 'like': 63, 'time': 64, 'address': 65, 'up': 66, 'out': 67, '10': 68, 'terms': 69, '4': 70, 'work': 71, 'project': 72, 'may': 73, 'read': 74, 'pt': 75, 'thank': 76, 'what': 77, 'team': 78, 'been': 79, 'information': 80, 'get': 81, 'they': 82, 'app': 83, 'see': 84, 'other': 85, 'take': 86, 'one': 87, 'go': 88, 'https': 89, 'image': 90, 'access': 91, 'c': 92, 'today': 93, '2': 94, 'these': 95, 'message': 96, 'dear': 97, 'my': 98, 'hi': 99, 'need': 100, 'play': 101, 'best': 102, 'full': 103, 'free': 104, 'make': 105, 'call': 106, 'regards': 107, 'job': 108, 'some': 109, 'help': 110, 'login': 111, 'sales': 112, 'â»': 113, 'upvote': 114, 'order': 115, '3': 116, 'hello': 117, 'which': 118, 'support': 119, 'day': 120, 'top': 121, 'know': 122, 'there': 123, 'pay': 124, 'e': 125, 'registered': 126, 'learn': 127, 'answered': 128, 'comment': 129, 'skrill': 130, 'sent': 131, 'received': 132, 'good': 133, 'year': 134, 'no': 135, 'complete': 136, 'device': 137, 'who': 138, 'â©': 139, 'jobstreet': 140, 'international': 141, 'view': 142, 'contact': 143, 'program': 144, 'last': 145, 'join': 146, 'but': 147, '7': 148, 'link': 149, 'data': 150, 'application': 151, \"don't\": 152, 'products': 153, 'discogs': 154, 'only': 155, 'plan': 156, 'google': 157, 'am': 158, 'kpmg': 159, 'paypal': 160, 'document': 161, 'reward': 162, 'thanks': 163, 'keep': 164, 'his': 165, 'game': 166, 'season': 167, 'provide': 168, 'skills': 169, 'also': 170, '9': 171, 'june': 172, 'model': 173, 'appen': 174, 'still': 175, 'would': 176, 'july': 177, 'rights': 178, 'because': 179, 'working': 180, 'services': 181, 'gift': 182, 'me': 183, '500': 184, 'visit': 185, 'code': 186, 'next': 187, '5': 188, 'conditions': 189, 'runs': 190, '6': 191, 'few': 192, 'right': 193, 'than': 194, 'instagram': 195, 'password': 196, 'after': 197, 'those': 198, 'emails': 199, 'reserved': 200, 'notice': 201, 'indonesia': 202, 'www': 203, 'inc': 204, 'verify': 205, 'position': 206, 'twitch': 207, 'special': 208, 'earn': 209, 'unsubscribe': 210, 'below': 211, 'center': 212, 'mlb': 213, 'including': 214, 'being': 215, 'win': 216, 'sign': 217, 'start': 218, 'most': 219, 'community': 220, 'twitter': 221, 'every': 222, 'into': 223, '18': 224, 'got': 225, 'even': 226, 'receive': 227, 'share': 228, 'using': 229, 'competitive': 230, 'want': 231, 'find': 232, 'someone': 233, 'request': 234, 'people': 235, 'questions': 236, 'sincerely': 237, 'policy': 238, 'limited': 239, 'security': 240, 'changes': 241, 'language': 242, 'safe': 243, 'quick': 244, 'officer': 245, 'jobs': 246, 'surabaya': 247, 'idr': 248, 'bank': 249, 'office': 250, 'jakarta': 251, 'raya': 252, 'admin': 253, 'prime': 254, 'projects': 255, 'own': 256, 'gut': 257, 'high': 258, 'responsible': 259, 'step': 260, 'settings': 261, 'mail': 262, 'denim': 263, 'tax': 264, 'earned': 265, 'offer': 266, 'when': 267, 'profile': 268, 're': 269, 'saturday': 270, \"today's\": 271, 'video': 272, 'great': 273, '0': 274, '14': 275, '30': 276, 'p': 277, 'him': 278, 'opportunity': 279, 'under': 280, 'look': 281, 'over': 282, 'well': 283, 'review': 284, 'facebook': 285, 'updates': 286, 'note': 287, 'create': 288, 'degree': 289, 'payment': 290, 'month': 291, 'business': 292, 'connect': 293, 'then': 294, 'through': 295, 'related': 296, 'name': 297, 'subject': 298, '8': 299, 'where': 300, 'online': 301, 'noticed': 302, 'number': 303, 'features': 304, 'tidal': 305, 'feedback': 306, 'believe': 307, 'statement': 308, 'its': 309, \"we're\": 310, 'test': 311, 'things': 312, 'supplements': 313, 'quality': 314, 'much': 315, 'hard': 316, 'current': 317, 'sure': 318, 'send': 319, 'money': 320, 'future': 321, 'he': 322, '00': 323, 'home': 324, 'action': 325, 'follow': 326, 'weâ\\x80\\x99re': 327, 'each': 328, '15': 329, 'april': 330, 'track': 331, 'easy': 332, 'should': 333, 'casting': 334, 'anambra': 335, 'fashion': 336, 'expo': 337, 'remember': 338, \"you'll\": 339, 'shopping': 340, '27': 341, 'interest': 342, 'participate': 343, 'images': 344, 'addition': 345, 'used': 346, 'such': 347, 'process': 348, 'wish': 349, 'based': 350, 'copyright': 351, 'become': 352, 'updated': 353, 'live': 354, 'marketplace': 355, 'surveyâ®': 356, 'member': 357, 'allow': 358, 'financial': 359, 'bali': 360, 'tbk': 361, 'career': 362, 'timur': 363, 'paid': 364, 'page': 365, 'walid': 366, 'update': 367, 'instruments': 368, 'discussion': 369, 'winning': 370, 'weight': 371, 'why': 372, 'shop': 373, 'many': 374, 'always': 375, 'ca': 376, 'rides': 377, 'website': 378, 'while': 379, 'bard': 380, 'doordash': 381, 'firm': 382, 'research': 383, 'location': 384, 'reply': 385, 'snapchat': 386, 'mobile': 387, 'netflix': 388, 'tv': 389, 'returns': 390, '999': 391, 'venmo': 392, 'steam': 393, 'love': 394, 'following': 395, 'change': 396, 'continue': 397, 'two': 398, 'games': 399, 'off': 400, 'first': 401, 'apply': 402, 'braves': 403, 'hits': 404, 'three': 405, '22': 406, 'average': 407, 'matt': 408, 'looking': 409, 'check': 410, 'going': 411, 'donâ\\x80\\x99t': 412, 'let': 413, 'links': 414, 'show': 415, 'pick': 416, 'long': 417, 'videos': 418, 'set': 419, '17': 420, '24': 421, 'during': 422, 'register': 423, 'excited': 424, 'media': 425, 'co': 426, 'global': 427, 'market': 428, 'fast': 429, 'ai': 430, 'else': 431, 'education': 432, 's': 433, 'waiting': 434, 'tr': 435, '07': 436, 'collection': 437, 'could': 438, 'various': 439, 'kindly': 440, 'itâ\\x80\\x99s': 441, 'important': 442, 'once': 443, \"it's\": 444, 'potential': 445, 'extremely': 446, 'sir': 447, 'institution': 448, '2021': 449, 'bible': 450, 'date': 451, 'section': 452, 'clearer': 453, 'issue': 454, 'balance': 455, 'present': 456, '19': 457, \"we've\": 458, 'multiple': 459, 'locations': 460, '600': 461, 'development': 462, 'user': 463, 'denis': 464, 'membership': 465, 'trial': 466, 'ensure': 467, 'credit': 468, 'gmail': 469, 'english': 470, 'indices': 471, 'details': 472, 'successful': 473, 'certain': 474, 'cancel': 475, 'quora': 476, 'experience': 477, 'drivers': 478, 'requirements': 479, 'required': 480, 'john': 481, 'zandi': 482, 'tamane': 483, 'music': 484, 'microsoft': 485, 'maliek': 486, '32': 487, 'store': 488, 'cytonn': 489, 'genealogy': 490, 'protection': 491, 'file': 492, 'success': 493, 'yours': 494, 'road': 495, 'github': 496, 'virtual': 497, 'expert': 498, 'hey': 499, 'ready': 500, 'lose': 501, 'five': 502, 'era': 503, '23': 504, 'finish': 505, 'end': 506, 'astros': 507, 'world': 508, 'taken': 509, 'due': 510, 'performance': 511, 'major': 512, 'back': 513, '12': 514, 'able': 515, '13': 516, 'taking': 517, 'reviewing': 518, 'social': 519, 'accounts': 520, 'content': 521, 'afe2023': 522, 'encourage': 523, 'dp': 524, 'mba': 525, 'nexford': 526, 'university': 527, 'academic': 528, 'less': 529, 'monthly': 530, 'months': 531, 'total': 532, 'administration': 533, 'needed': 534, 'detail': 535, 'platform': 536, 'log': 537, 'software': 538, 'dataset': 539, 'between': 540, 'smartphone': 541, 'reach': 542, 'kind': 543, 'applied': 544, 'past': 545, 'assistance': 546, '2022': 547, 'luxury': 548, 'interview': 549, 'salary': 550, 'match': 551, 'life': 552, 'started': 553, 'doing': 554, 'recently': 555, 'increase': 556, 'sellers': 557, 'period': 558, 'fraud': 559, 'committed': 560, 'guide': 561, 'buying': 562, 'tips': 563, 'come': 564, 'anggraeni': 565, 'receiving': 566, 'inform': 567, '90': 568, 'alert': 569, 'recommendations': 570, 'tarakan': 571, 'environment': 572, 'opportunities': 573, 'oma': 574, 'elly': 575, 'sinar': 576, 'manado': 577, 'jawa': 578, 'cannot': 579, \"i'm\": 580, 'something': 581, 'income': 582, 'welcome': 583, 'usually': 584, 'include': 585, 'since': 586, 'strategies': 587, 'freelancer': 588, 'loss': 589, 'primary': 590, 'nutrition': 591, 'absorption': 592, 'really': 593, 'making': 594, 'them': 595, 'x': 596, '65': 597, 'march': 598, '2018': 599, 'street': 600, 'nigeria': 601, 'hereâ\\x80\\x99s': 602, 'bolt': 603, 'verification': 604, 'usd': 605, 'secure': 606, 'days': 607, 'confirmation': 608, 'recruitment': 609, 'executive': 610, 'id': 611, 'psas': 612, 'ltd': 613, 'kra': 614, 'ke': 615, 'en': 616, 'fanat': 617, 'papicha': 618, 'nomer': 619, 'accept': 620, 'claim': 621, 'yet': 622, 'everything': 623, 'points': 624, 'text': 625, 'tower': 626, '33': 627, 'signing': 628, 'open': 629, 'contacting': 630, 'packed': 631, 'insider': 632, 'picks': 633, 'spotlight': 634, 'way': 635, \"let's\": 636, 'ifill': 637, 'andre': 638, 'another': 639, 'strong': 640, 'week': 641, 'place': 642, 'bet': 643, \"they've\": 644, 'credits': 645, 'vs': 646, 'reds': 647, 'shuster': 648, 'colorado': 649, 'rockies': 650, 'hitting': 651, 'very': 652, 'reading': 653, 'contest': 654, 'tell': 655, 'done': 656, '100': 657, 'hot': 658, 'level': 659, 'anyone': 660, 'm': 661, 'did': 662, 'both': 663, \"isn't\": 664, 'however': 665, 'premium': 666, 'found': 667, '20': 668, 'had': 669, 'carefully': 670, 'event': 671, 'picture': 672, 'affordable': 673, 'hope': 674, 'itself': 675, 'cost': 676, 'higher': 677, 'signed': 678, '06': 679, 'pm': 680, 'a5655': 681, 'asia': 682, 'opt': 683, 'learning': 684, 'shared': 685, 'publicly': 686, 'train': 687, 'means': 688, 'example': 689, 'post': 690, 'accessing': 691, 'attempting': 692, 'identify': 693, 'must': 694, 'different': 695, 'agree': 696, 'form': 697, 'public': 698, 'unauthorized': 699, 'before': 700, 'madam': 701, '2020': 702, 'ask': 703, 'traveller': 704, 'browser': 705, 'task': 706, 'miss': 707, \"you're\": 708, 'available': 709, 'list': 710, 'product': 711, 'additional': 712, 'effect': 713, 'respect': 714, 'countries': 715, 'personal': 716, 'activity': 717, 'immediately': 718, 'recognize': 719, 'ondiekijohn254': 720, 'earning': 721, '16': 722, 'selected': 723, 'scholarship': 724, 'alex': 725, 'towards': 726, 'knowledge': 727, 'without': 728, 'replying': 729, 'front': 730, 'care': 731, 'utama': 732, 'depend': 733, 'training': 734, 'friendly': 735, 'energetic': 736, 'operations': 737, 'yogyakarta': 738, 'asuransi': 739, 'leader': 740, 'edit': 741, 'cards': 742, 'valid': 743, 'card': 744, 'provided': 745, 'affiliates': 746, 'respondent': 747, 'likely': 748, 'box': 749, 'york': 750, 'choose': 751, 'markets': 752, 'focus': 753, 'index': 754, 'deo': 755, 'sathya': 756, 'meeting': 757, 'valuable': 758, '50': 759, 'role': 760, 'reasons': 761, 'â\\x80\\x93': 762, 'levels': 763, 'skin': 764, 'stream': 765, 'rate': 766, 'effective': 767, 'works': 768, 'youâ\\x80\\x99ve': 769, 'sleep': 770, 'meet': 771, 'lot': 772, 'uif': 773, 'appreciate': 774, 'vira': 775, 'true': 776, 'problem': 777, 'say': 778, 'asked': 779, 'specialist': 780, 'np': 781, 'problems': 782, 'solved': 783, 'polynomial': 784, 'elvis': 785, 'gs': 786, 'proof': 787, 'doesnâ\\x80\\x99t': 788, 'her': 789, 'called': 790, 'currently': 791, 'download': 792, 'add': 793, 'dollars': 794, 'client': 795, 'safety': 796, 'until': 797, 'per': 798, 'attached': 799, 'assistant': 800, 'positions': 801, 'quickly': 802, 'stock': 803, 'windows': 804, 'checkup': 805, 'possible': 806, 'automatically': 807, 'hours': 808, 'little': 809, 'side': 810, 'outlook': 811, 'talent': 812, 'criteria': 813, 'intended': 814, 'inr': 815, \"chanello's\": 816, 'pizza': 817, 'prop': 818, 'warning': 819, 'state': 820, 'aptitude': 821, 'might': 822, 'error': 823, 'contain': 824, 'openings': 825, 'cpx': 826, 'ticket': 827, 'subscription': 828, 'anytime': 829, 'sfi': 830, 'csas': 831, 'envelope': 832, 'group': 833, 'icon': 834, 'techâ\\x84¢': 835, 'version': 836, 'soon': 837, 'trademark': 838, 'telemarketing': 839, 'low': 840, 'deadline': 841, 'filing': 842, 'license': 843, 'act': 844, 'try': 845, 'manage': 846, 'easier': 847, 'understand': 848, 'changed': 849, 'accessed': 850, 'listen': 851, 'six': 852, 'pack': 853, 'translation': 854, 'acceptability': 855, 'contains': 856, 'kilimall': 857, 'documents': 858, 'cookies': 859, 'explorers': 860, 'india': 861, 'james': 862, \"i've\": 863, 'correct': 864, 'congratulations': 865, 'completed': 866, 'stop': 867, 'notifications': 868, 'preferences': 869, 'setting': 870, 'room': 871, 'china': 872, 'hong': 873, 'kong': 874, 'launch': 875, \"here's\": 876, 'standing': 877, 'lead': 878, 'plus': 879, 'blockbuster': 880, 'prachanda': 881, 'newsletter': 882, 'deals': 883, 'saying': 884, \"andre'\": 885, 'rolling': 886, 'comes': 887, 'perfect': 888, '11': 889, 'run': 890, 'huge': 891, 'sizzler': 892, \"andre's\": 893, 'plays': 894, 'caesar': 895, \"that's\": 896, '21': 897, 'jared': 898, 'mound': 899, 'spam': 900, 'expected': 901, 'starting': 902, 'innings': 903, 'gave': 904, 'walks': 905, 'against': 906, 'league': 907, 'batting': 908, 'leads': 909, 'acuna': 910, 'stolen': 911, 'bases': 912, 'prediction': 913, 'incredible': 914, 'offers': 915, 'secret': 916, 'cfl': 917, 'lines': 918, 'exactly': 919, 'far': 920, 'guaranteed': 921, 'discord': 922, 'down': 923, 'books': 924, 'contests': 925, 'chance': 926, 'talk': 927, 'experts': 928, 'prepare': 929, 'daily': 930, 'watch': 931, 'youtube': 932, 'dodgers': 933, 'early': 934, 'houston': 935, '41': 936, '34': 937, 'night': 938, 'series': 939, '2017': 940, 'whatever': 941, 'takes': 942, 'willing': 943, 'rotation': 944, 'unfortunately': 945, \"he's\": 946, 'allowed': 947, 'nine': 948, 'homers': 949, 'briggs': 950, 'running': 951, 'given': 952, 'exclusive': 953, 'yesterday': 954, 'angels': 955, 'ball': 956, 'late': 957, 'giving': 958, 'ability': 959, 'issues': 960, 'afe': 961, 'thrilled': 962, 'submission': 963, 'applications': 964, 'weeks': 965, 'followed': 966, 'handles': 967, 'prerequisites': 968, 'qualification': 969, 'hashtag': 970, 'anambrafashionexpo2023': 971, 'anambrafashionexpo': 972, 'anambrafashion': 973, 'meantime': 974, 'stay': 975, 'connected': 976, 'eye': 977, 'posting': 978, 'personalized': 979, 'getdp': 980, 'american': 981, 'bring': 982, 'faster': 983, 'commerce': 984, 'etc': 985, 'upon': 986, 'away': 987, \"master's\": 988, 'anything': 989, 'accrediting': 990, 'deac': 991, 'listed': 992, 'recognized': 993, 'turkey': 994, 'android': 995, 'otherwise': 996, 'invite': 997, 'joining': 998, 'processed': 999, 'accepted': 1000, 'invited': 1001, 'participants': 1002, 'interested': 1003, 'build': 1004, 'large': 1005, 'ml': 1006, 'fairly': 1007, 'across': 1008, 'range': 1009, 'participating': 1010, 'demographics': 1011, 'connection': 1012, 'promotions': 1013, 'blog': 1014, 'restricted': 1015, 'restrictions': 1016, 'yourself': 1017, 'minimum': 1018, 'g': 1019, 'country': 1020, 'age': 1021, 'camera': 1022, 'least': 1023, 'manufactured': 1024, '2011': 1025, 'majority': 1026, 'sharing': 1027, 'photos': 1028, 'risks': 1029, 'purposes': 1030, 'sold': 1031, 'consider': 1032, 'pdf': 1033, 'concerns': 1034, 'trying': 1035, 'reshoketswe': 1036, 'sekhukhune': 1037, 'friend': 1038, 'south': 1039, 'customers': 1040, 'think': 1041, 'survey': 1042, 'grapedata': 1043, 'england': 1044, 'wales': 1045, 'london': 1046, 'celebrate': 1047, 'years': 1048, 'god': 1049, 'digital': 1050, 'anniversary': 1051, 'line': 1052, 'thatâ\\x80\\x99s': 1053, 'tidalâ\\x80\\x99s': 1054, 'added': 1055, 'relevant': 1056, 'limitations': 1057, 'artist': 1058, 'give': 1059, 'advance': 1060, 'part': 1061, 'visible': 1062, 'combating': 1063, 'scams': 1064, 'detected': 1065, 'scammers': 1066, 'undergo': 1067, 'reduce': 1068, 'attempts': 1069, 'maintaining': 1070, 'trustworthy': 1071, 'independent': 1072, 'buyers': 1073, 'suspicious': 1074, 'report': 1075, 'practices': 1076, 'safely': 1077, 'january': 1078, 'messages': 1079, '2009': 1080, 'joseph': 1081, 'eze': 1082, 'goals': 1083, 'advantage': 1084, 'adviser': 1085, 'intisumber': 1086, 'hasil': 1087, 'sempurna': 1088, 'promotor': 1089, 'merchandiser': 1090, 'penempatan': 1091, 'niagamas': 1092, 'lestari': 1093, 'gemilang': 1094, 'tools': 1095, 'machinery': 1096, 'industrial': 1097, 'equipment': 1098, 'branch': 1099, 'jtrust': 1100, 'supportive': 1101, 'remuneration': 1102, 'package': 1103, 'representative': 1104, 'ungasan': 1105, 'medical': 1106, 'badung': 1107, 'cakrawala': 1108, 'negotiable': 1109, 'qualifications': 1110, 'festive': 1111, 'allowance': 1112, 'thr': 1113, 'formalities': 1114, 'lps': 1115, 'passionate': 1116, 'culture': 1117, 'enjoy': 1118, 'fair': 1119, 'kurir': 1120, 'eterli': 1121, 'acrylic': 1122, 'lampung': 1123, 'kitchen': 1124, '750': 1125, 'prestigeous': 1126, 'jogja': 1127, 'contract': 1128, 'shopee': 1129, 'internasional': 1130, 'mas': 1131, 'land': 1132, 'jiwa': 1133, 'sinarmas': 1134, 'msig': 1135, 'penjahit': 1136, 'balqis': 1137, 'humaira': 1138, 'penjualan': 1139, 'dan': 1140, 'perpajakan': 1141, 'berkat': 1142, 'energi': 1143, 'ina': 1144, 'perdana': 1145, 'ayura': 1146, 'clinic': 1147, 'madiun': 1148, '1998': 1149, 'cancellation': 1150, 'fee': 1151, 'result': 1152, \"you'd\": 1153, 'again': 1154, 'trademarks': 1155, 'n': 1156, 'seattle': 1157, 'supermen888': 1158, 'thing': 1159, 'amazing': 1160, 'deal': 1161, 'wanted': 1162, 'iiiiiiuiiiiiiiiiiiii': 1163, 'recommend': 1164, 'weekly': 1165, 'featured': 1166, 'traders': 1167, 'pop': 1168, 'latest': 1169, 'holdings': 1170, 'stocks': 1171, 'offered': 1172, 'nasdaq': 1173, 'poor': 1174, 'rising': 1175, 'term': 1176, 'jun': 1177, 'st': 1178, 'forward': 1179, 'edge': 1180, 'revealed': 1181, 'halfway': 1182, 'thought': 1183, \"we'd\": 1184, 'compared': 1185, 'big': 1186, 'matter': 1187, 'journey': 1188, 'exciting': 1189, 'bringing': 1190, 'starky': 1191, 'tricks': 1192, 'benefit': 1193, 'beginners': 1194, 'already': 1195, 'belts': 1196, 'shares': 1197, 'proven': 1198, 'lack': 1199, 'incorporating': 1200, 'methods': 1201, 'routine': 1202, 'becoming': 1203, 'boss': 1204, 'maryam': 1205, 'nutritional': 1206, 'reason': 1207, 'hormones': 1208, 'particularly': 1209, 'insulin': 1210, 'cells': 1211, 'thoughts': 1212, 'villae': 1213, 'finger': 1214, 'protrusions': 1215, 'inner': 1216, 'wall': 1217, 'intestine': 1218, 'increasing': 1219, 'surface': 1220, 'area': 1221, 'nutrients': 1222, 'stand': 1223, 'does': 1224, '60': 1225, 'further': 1226, 'dere': 1227, 'known': 1228, 'testing': 1229, 'synergy': 1230, 'alkaline': 1231, 'meal': 1232, 'hand': 1233, 'cause': 1234, 'results': 1235, 'lun': 1236, 'person': 1237, 'alone': 1238, 'iâ\\x80\\x99m': 1239, 'answer': 1240, 'retail': 1241, 'coding': 1242, 'playstation': 1243, 'stories': 1244, 'computer': 1245, 'programming': 1246, 't': 1247, '55': 1248, 'pointers': 1249, 'null': 1250, 'others': 1251, 'never': 1252, 'y': 1253, 'o': 1254, 'didnâ\\x80\\x99t': 1255, 'vedic': 1256, 'astrologer': 1257, 'd': 1258, 'whether': 1259, 'math': 1260, 'presley': 1261, 'technical': 1262, 'college': 1263, 'story': 1264, '9k': 1265, 'ssc': 1266, '29': 1267, 'suicide': 1268, 'bomber': 1269, '2016': 1270, 'laptop': 1271, 'hate': 1272, 'swift': 1273, 'truck': 1274, 'oh': 1275, 'experiences': 1276, 'kurt': 1277, 'guntheroth': 1278, 'engineer': 1279, 'writer': 1280, 'whatâ\\x80\\x99s': 1281, 'multi': 1282, 'paradigm': 1283, 'paradigms': 1284, 'imperative': 1285, 'generic': 1286, 'functional': 1287, 'object': 1288, 'oriented': 1289, 'tick': 1290, 'â\\x80\\x9cimperativ': 1291, 'inbox': 1292, 'mountain': 1293, 'prices': 1294, 'partners': 1295, '5000': 1296, 'million': 1297, 'internet': 1298, 'simple': 1299, 'managers': 1300, 'domain': 1301, 'goal': 1302, 'clients': 1303, 'discount': 1304, 'identity': 1305, 'improve': 1306, 'kenya': 1307, 'trip': 1308, 'default': 1309, 'main': 1310, 'accessbankplc': 1311, 'choosing': 1312, 'branches': 1313, 'lagos': 1314, 'junior': 1315, 'hiring': 1316, 'professional': 1317, 'express': 1318, 'management': 1319, 'credentials': 1320, 'convenience': 1321, 'response': 1322, 'warm': 1323, 'confirming': 1324, 'confirm': 1325, 'arrived': 1326, 'hifi': 1327, 'tomorrow': 1328, 'zoom': 1329, 'thursday': 1330, 'space': 1331, 'yes': 1332, 'host': 1333, 'almost': 1334, 'hustle': 1335, 'highly': 1336, 'attend': 1337, 'search': 1338, 'threads': 1339, 'infinix': 1340, 'x690b': 1341, 'alexxuzy': 1342, 'â·': 1343, 'logged': 1344, 'wasnâ\\x80\\x99t': 1345, 'remove': 1346, \"haven't\": 1347, '1000': 1348, '200': 1349, 'notification': 1350, 'estimated': 1351, 'delivery': 1352, 'receipt': 1353, 'norfolk': 1354, 'va': 1355, 'refer': 1356, 'deliver': 1357, 'san': 1358, 'fb': 1359, 'ig': 1360, 'alcohol': 1361, 'monday': 1362, 'investments': 1363, 'quotation': 1364, 'tombstone': 1365, 'tombstones': 1366, 'separate': 1367, 'north': 1368, 'graduate': 1369, 'regret': 1370, 'legally': 1371, 'opinions': 1372, 'contained': 1373, 'letter': 1374, 'neither': 1375, 'guarantee': 1376, 'communications': 1377, 'local': 1378, 'describes': 1379, 'obligations': 1380, 'livestock': 1381, 'institute': 1382, 'ilri': 1383, '238212': 1384, 'shmykfq0usb8lluap635y67lr1yigcsiqwn8but5gcoznqn69qquabrgpbmrcblui34exlazilz6ks4ebbxpdyyoiznxnhiprslu2wctvp8acvaqayvm0ul0yccaga3qjjw7rbrmhqyu0upl2xdmq': 1385, 'ps': 1386, 'attention': 1387, 'tickethash': 1388, 'building': 1389, 'immediate': 1390, 'unless': 1391, 'announcement': 1392, 'super': 1393, 'mailing': 1394, 'beside': 1395, 'network': 1396, 'display': 1397, 'condensed': 1398, 'coming': 1399, 'style': 1400, 'bonito': 1401, 'instantly': 1402, 'heels': 1403, 'pairing': 1404, 'fabric': 1405, 'colour': 1406, 'depending': 1407, 'occasion': 1408, 'pte': 1409, 'requested': 1410, 'price': 1411, 'left': 1412, 'itax': 1413, 'kumbuka': 1414, 'kufile': 1415, 'ni': 1416, 'rahisi': 1417, 'kuliko': 1418, '30th': 1419, 'serve': 1420, '020': 1421, '0711': 1422, '099': 1423, 'callcentre': 1424, 'filed': 1425, 'ignore': 1426, 'specific': 1427, 'toloka': 1428, 'transaction': 1429, 'appear': 1430, '3pl': 1431, 'singapore': 1432, 'authority': 1433, 'lisence': 1434, 'lemon': 1435, 'recruiting': 1436, 'linked': 1437, 'incoming': 1438, 'expect': 1439, 'licensed': 1440, 'provider': 1441, 'reset': 1442, 'pursuant': 1443, 'located': 1444, 'song': 1445, 'select': 1446, 'numbers': 1447, 'isaac': 1448, 'unusual': 1449, 'nike': 1450, 'youth': 1451, 'dunk': 1452, 'ls': 1453, 'hohem': 1454, 'isteady': 1455, 'm6': 1456, 'kit': 1457, 'items': 1458, 'accordance': 1459, 'laws': 1460, 'seller': 1461, 'child': 1462, 'emergencies': 1463, 'maiduguri': 1464, 'web': 1465, 'vladis163rus': 1466, 'guard': 1467, 'attempt': 1468, 'valve': 1469, 'rejected': 1470, 'couldnâ\\x80\\x99t': 1471, 'residential': 1472, 'issued': 1473, 'electronic': 1474, 'similar': 1475, 'technology': 1476, 'paysafe': 1477, 'mastercardâ©': 1478, 'mastercard': 1479, \"you've\": 1480, 'redeem': 1481, 'secrets': 1482, 'complimentary': 1483, 'compiled': 1484, 'astrology': 1485, 'predicts': 1486, 'enabler': 1487, 'actions': 1488, 'copy': 1489, 'later': 1490, 'heather': 1491, 'gcloot': 1492, 'alt': 1493, 'history': 1494, 'recieving': 1495, '1203': 1496, '12th': 1497, 'floor': 1498, 'city': 1499, 'canton': 1500, 'tsim': 1501, 'sha': 1502, 'tsui': 1503, 'kowloon': 1504, 'mortyj420': 1505, 'octocat': 1506, 'rocket': 1507, 'entering': 1508, '63024610': 1509, 'clarifications': 1510, 'dictate': 1511, 'rewards': 1512, 'recipients': 1513, 'sponsor': 1514, 'originally': 1515, 'helpdesk': 1516, 'cspace': 1517, 'inquiry': 1518, 'apologize': 1519, 'inconvenience': 1520, 'inside': 1521, 'rawal': 1522, 'jam': 1523, 'strap': 1524, 'diamond': 1525, 'heck': 1526, 'zeroed': 1527, 'calling': 1528, \"your's\": 1529, '59': 1530, 'ceasars': 1531, \"doesn't\": 1532, 'caesars': 1533, 'refund': 1534, '1250': 1535, 'sweetened': 1536, 'pot': 1537, 'tier': 1538, 'promo': 1539, 'winnersfull': 1540, 'disclaimer': 1541, 'boutros': 1542, 'atlanta': 1543, 'cincinnati': 1544, 'granot': 1545, 'ashcraft': 1546, 'pitcher': 1547, 'went': 1548, 'struck': 1549, 'record': 1550, '57': 1551, '38': 1552, 'whip': 1553, 'k': 1554, 'bb': 1555, 'ratio': 1556, 'eight': 1557, 'starts': 1558, 'opposing': 1559, 'batters': 1560, '233': 1561, 'offense': 1562, 'rbis': 1563, 'obp': 1564, 'slg': 1565, 'ops': 1566, 'olson': 1567, 'ronald': 1568, 'predictions': 1569, 'sportsbook': 1570, 'rogers': 1571, 'wants': 1572, 'exploitable': 1573, 'advantages': 1574, 'sport': 1575, 'youâ\\x80\\x99re': 1576, 'jonesing': 1577, 'football': 1578, 'soft': 1579, 'canadian': 1580, 'crusher': 1581, 'cappers': 1582, 'fun': 1583, 'aim': 1584, 'cashing': 1585, 'parlays': 1586, 'sports': 1587, 'betting': 1588, 'conversations': 1589, 'everyday': 1590, 'handicappers': 1591, 'minutes': 1592, 'covers': 1593, 'analysis': 1594, 'chores': 1595, 'trash': 1596, 'los': 1597, 'angeles': 1598, 'bang': 1599, 'weekend': 1600, 'dodger': 1601, 'stadium': 1602, 'hosting': 1603, \"won't\": 1604, 'shortage': 1605, 'cameras': 1606, 'catching': 1607, 'angle': 1608, 'pitch': 1609, 'scheduled': 1610, 'edt': 1611, 'fox': 1612, 'broadcast': 1613, 'infamous': 1614, 'battle': 1615, 'dugouts': 1616, 'barely': 1617, 'clinging': 1618, 'playoff': 1619, 'spots': 1620, 'lengths': 1621, \"they're\": 1622, 'club': 1623, 'majors': 1624, 'lower': 1625, 'bullpen': 1626, 'impressive': 1627, 'marks': 1628, 'fip': 1629, 'war': 1630, 'won': 1631, 'stellar': 1632, 'injuries': 1633, 'toll': 1634, 'thrusting': 1635, 'ronel': 1636, 'blanco': 1637, 'temporarily': 1638, 'starter': 1639, 'thrown': 1640, 'mostly': 1641, 'disastrous': 1642, 'relief': 1643, 'appearance': 1644, 'solid': 1645, 'mike': 1646, 'â\\x80\\x9cbig': 1647, 'gameâ\\x80\\x9d': 1648, 'heater': 1649, 'spent': 1650, 'atop': 1651, 'leaderboard': 1652, 'havenâ\\x80\\x99t': 1653, 'shot': 1654, 'todayâ\\x80\\x99s': 1655, 'max': 1656, 'unit': 1657, 'monster': 1658, 'goes': 1659, 'et': 1660, \"insider's\": 1661, 'freebie': 1662, 'minnesota': 1663, 'detroit': 1664, 'winner': 1665, 'were': 1666, 'scored': 1667, 'caleb': 1668, 'davis': 1669, 'hit': 1670, 'managed': 1671, 'sitting': 1672, 'around': 1673, 'overall': 1674, 'appears': 1675, 'swing': 1676, 'racking': 1677, 'foreign': 1678, 'either': 1679, \"angels'\": 1680, 'drive': 1681, 'runners': 1682, 'canning': 1683, 'control': 1684, 'times': 1685, 'chances': 1686, '180month': 1687, 'ever': 1688, 'upskill': 1689, 'reskill': 1690, 'gets': 1691, 'increasingly': 1692, 'options': 1693, 'barriers': 1694, 'prides': 1695, 'allows': 1696, 'tuition': 1697, 'fees': 1698, 'calculated': 1699, '180': 1700, 'students': 1701, '240': 1702, 'specialize': 1703, \"world's\": 1704, 'hottest': 1705, 'sectors': 1706, 'science': 1707, 'cybersecurity': 1708, 'graduation': 1709, 'walk': 1710, 'specialization': 1711, 'certificate': 1712, 'applying': 1713, 'touch': 1714, 'accredited': 1715, 'distance': 1716, 'commission': 1717, 'u': 1718, 'department': 1719, 'agency': 1720, 'council': 1721, 'accreditation': 1722, 'chea': 1723, 'generation': 1724, 'senol': 1725, 'yildirim': 1726, 'jul': 1727, 'near': 1728, 'manisa': 1729, 'disregard': 1730, 'officially': 1731, 'payoneer': 1732, 'overview': 1733, 'annotation': 1734, 'actively': 1735, 'seeking': 1736, 'subjects': 1737, 'seeks': 1738, 'annotated': 1739, 'machine': 1740, 'artificial': 1741, 'intelligence': 1742, 'systems': 1743, 'perform': 1744, 'ethically': 1745, 'diverse': 1746, 'annotations': 1747, 'â\\x80\\x9cyour': 1748, 'dataâ\\x80\\x9d': 1749, 'broader': 1750, 'develop': 1751, 'evaluate': 1752, 'algorithms': 1753, 'technologies': 1754, 'individually': 1755, 'viewable': 1756, 'among': 1757, 'several': 1758, 'thousand': 1759, 'published': 1760, 'publications': 1761, 'sample': 1762, 'paper': 1763, 'presentation': 1764, 'promoting': 1765, 'individuals': 1766, 'contractually': 1767, 'along': 1768, 'reasonable': 1769, 'poses': 1770, 'attire': 1771, 'self': 1772, 'reported': 1773, 'ancestry': 1774, 'pronoun': 1775, 'nationality': 1776, 'residence': 1777, 'dslr': 1778, 'compact': 1779, 'megapixels': 1780, 'projectâ\\x80\\x99s': 1781, 'informed': 1782, 'consent': 1783, 'reside': 1784, 'row': 1785, 'wait': 1786, 'considered': 1787, 'commonplace': 1788, 'allowing': 1789, 'made': 1790, 'possibly': 1791, 'unintended': 1792, 'catfishing': 1793, 'deep': 1794, 'fakes': 1795, 'third': 1796, 'parties': 1797, 'targeted': 1798, 'advertising': 1799, 'commercial': 1800, 'political': 1801, 'activities': 1802, 'guidelines': 1803, 'qrp': 1804, 'files': 1805, 'v2': 1806, 'yuyang': 1807, 'â\\x80\\x9ca5655': 1808, 'projectâ\\x80\\x9d': 1809, 'crowd': 1810, \"didn't\": 1811, 'arcademic': 1812, 'owe': 1813, 'r3280': 1814, 'enroll': 1815, 'mins': 1816, 'france': 1817, 'korea': 1818, 'uae': 1819, 'japan': 1820, '150': 1821, 'equivalent': 1822, 'cold': 1823, 'travel': 1824, 'companies': 1825, 'affluent': 1826, '342': 1827, 'reviews': 1828, 'â\\x80\\x9cgrapedataâ\\x80\\x9d': 1829, 'incorporated': 1830, '11187265': 1831, 'grapedataâ\\x80\\x99s': 1832, 'waterhouse': 1833, 'square': 1834, 'ec1n': 1835, '2st': 1836, 'impact': 1837, 'maybe': 1838, 'verse': 1839, 'spoke': 1840, 'difficult': 1841, 'prayer': 1842, 'worldâ\\x80\\x99s': 1843, 'widely': 1844, 'trusted': 1845, 'tool': 1846, 'celebrating': 1847, 'appâ\\x80\\x99s': 1848, 'idea': 1849, 'airport': 1850, 'movement': 1851, 'reaching': 1852, 'everywhereâ\\x80\\x94including': 1853, 'word': 1854, 'reflecting': 1855, 'refresh': 1856, 'â\\x80\\x9ctermsâ\\x80\\x9d': 1857, 'particular': 1858, 'removed': 1859, 'direct': 1860, 'payouts': 1861, 'discontinued': 1862, 'upcoming': 1863, 'updating': 1864, 'resolve': 1865, 'disputes': 1866, 'procedures': 1867, 'binding': 1868, 'arbitration': 1869, 'clarifying': 1870, 'via': 1871, 'adding': 1872, 'formally': 1873, 'operate': 1874, 'continuing': 1875, 'reflect': 1876, 'upload': 1877, 'feature': 1878, 'users': 1879, 'audiences': 1880, 'outside': 1881, \"can't\": 1882, 'hang': 1883, 'onto': 1884, 'inactive': 1885, 'forever': 1886, '28': 1887, 'logging': 1888, 'save': 1889, 'cleared': 1890, '103': 1891, '144': 1892, '94': 1893, 'kvieciu': 1894, 'vilnius': 1895, 'lt': 1896, '08438': 1897, 'unicaf': 1898, 'pleased': 1899, 'unicafâ\\x80\\x99s': 1900, 'study': 1901, 'british': 1902, 'masterâ\\x80\\x99s': 1903, 'choice': 1904, '950': 1905, 'succeed': 1906, 'chosen': 1907, 'field': 1908, 'graduates': 1909, 'employment': 1910, 'pursue': 1911, 'educational': 1912, 'burden': 1913, 'accompanies': 1914, 'programme': 1915, 'pursuit': 1916, 'excellence': 1917, 'quote': 1918, 'ng1950': 1919, 'olusegun': 1920, 'onyinyechi': 1921, 'hotel': 1922, 'quirin': 1923, 'semarang': 1924, 'conbloc': 1925, 'persada': 1926, 'ti': 1927, 'nette': 1928, 'dressing': 1929, 'frontliner': 1930, 'jaya': 1931, 'cellular': 1932, 'cengkareng': 1933, 'rezeki': 1934, 'abadi': 1935, 'banten': 1936, 'cancelled': 1937, 'require': 1938, 'upgrade': 1939, 'outstanding': 1940, 'charge': 1941, 'annual': 1942, 'canceled': 1943, 'checkout': 1944, 'visiting': 1945, '410': 1946, 'terry': 1947, 'avenue': 1948, 'wa': 1949, '98109': 1950, '5210': 1951, 'stupid': 1952, 'totally': 1953, 'crazy': 1954, \"i'll\": 1955, '177': 1956, 'seriously': 1957, \"wasn't\": 1958, 'enough': 1959, 'value': 1960, '7000': 1961, 'charlie': 1962, 'rtd': 1963, 'sfhdg': 1964, 'mind': 1965, 'minute': 1966, 'colleague': 1967, 'po': 1968, '4668': 1969, '57891': 1970, '10163': 1971, 'types': 1972, 'flowing': 1973, 'second': 1974, 'weekâ\\x80\\x99s': 1975, 'edition': 1976, 'quiz': 1977, 'podcast': 1978, 'episodes': 1979, 'classes': 1980, 'resources': 1981, \"week's\": 1982, 'blown': 1983, 'charts': 1984, 'couple': 1985, 'diversify': 1986, 'currency': 1987, 'commodities': 1988, 'basket': 1989, 'picked': 1990, 'sector': 1991, 'capitalization': 1992, 'regions': 1993, 'renowned': 1994, 'fxpesa': 1995, 'ut100': 1996, 'standards': 1997, 'us500': 1998, 'dow': 1999, 'jones': 2000, 'us30': 2001, 'traded': 2002, 'nyse': 2003, 'p500': 2004, 'beginning': 2005, 'pumping': 2006, 'above': 2007, 'prove': 2008, 'adage': 2009, 'surpasses': 2010, 'timing': 2011, 'recent': 2012, 'moves': 2013, 'fluctuations': 2014, 'trend': 2015, 'shows': 2016, 'consistent': 2017, 'gains': 2018, 'atlantic': 2019, 'helena': 2020, 'participation': 2021, 'taiwo': 2022, 'rehan': 2023, 'health': 2024, 'supplement': 2025, 'assisting': 2026, 'heal': 2027, 'repair': 2028, 'key': 2029, 'fat': 2030, 'uptake': 2031, 'especially': 2032, 'liver': 2033, 'balanced': 2034, 'body': 2035, 'fact': 2036, 'efficiently': 2037, 'moods': 2038, 'stable': 2039, 'anxiety': 2040, 'decrease': 2041, 'becomes': 2042, 'head': 2043, 'energy': 2044, 'soar': 2045, 'naps': 2046, 'afternoon': 2047, 'liberating': 2048, 'secondly': 2049, 'cleaning': 2050, 'vast': 2051, 'illnesses': 2052, 'stem': 2053, 'flora': 2054, 'clean': 2055, 'bloodstream': 2056, 'thirdly': 2057, 'keeping': 2058, 'skinâ\\x80\\x99s': 2059, 'elasticity': 2060, '80kg': 2061, 'treatment': 2062, 'supporting': 2063, 'blood': 2064, 'superior': 2065, 'stringent': 2066, 'commendable': 2067, 'massive': 2068, 'theyâ\\x80\\x99re': 2069, 'toxin': 2070, 'chemical': 2071, 'plant': 2072, 'importantly': 2073, 'medicines': 2074, 'healing': 2075, 'short': 2076, 'frame': 2077, 'damage': 2078, 'deficiencies': 2079, 'awesome': 2080, 'achieve': 2081, 'phebehothoney': 2082, 'adult': 2083, 'dating': 2084, 'discover': 2085, 'site': 2086, 'singles': 2087, 'single': 2088, 'man': 2089, 'bed': 2090, 'tupussycat': 2091, 'sexalert': 2092, 'kisses': 2093, 'sensitive': 2094, 'touching': 2095, 'sex': 2096, 'registration': 2097, 'enquire': 2098, 'employees': 2099, 'worked': 2100, 'casual': 2101, 'unemployed': 2102, 'february': 2103, 'regard': 2104, 'nintend': 2105, 'nintendo': 2106, 'programs': 2107, 'coded': 2108, 'brains': 2109, 'andrew': 2110, 'mcgregor': 2111, 'measurement': 2112, 'fastly': 2113, '2019': 2114, 'moderately': 2115, 'harder': 2116, '6k': 2117, 'unsafe': 2118, 'beginner': 2119, 'python': 2120, 'avoid': 2121, 'bad': 2122, 'habits': 2123, 'dangerous': 2124, 'syntax': 2125, 'programmers': 2126, 'manuel': 2127, 'mateo': 2128, 'freeing': 2129, 'prefer': 2130, 'capped': 2131, 'versions': 2132, 'functions': 2133, 'strncpy': 2134, 'strcpy': 2135, 'trust': 2136, '37': 2137, 'solve': 2138, 'philip': 2139, 'lloyd': 2140, 'calculus': 2141, 'teacher': 2142, 'motivator': 2143, 'baroque': 2144, 'trumpet': 2145, 'soloist': 2146, 'basic': 2147, 'algebra': 2148, 'â\\x80\\x9cxâ\\x80\\x9d': 2149, 'equations': 2150, 'drawing': 2151, 'graphs': 2152, 'cross': 2153, 'clearly': 2154, 'robert': 2155, 'downey': 2156, 'jr': 2157, 'jerk': 2158, 'real': 2159, 'gretchen': 2160, 'bohnam': 2161, 'behind': 2162, 'coffee': 2163, 'l': 2164, 'fan': 2165, 'bother': 2166, 'polite': 2167, '8k': 2168, '416': 2169, 'zodiac': 2170, 'manipulative': 2171, 'nidhi': 2172, 'astro': 2173, 'healer': 2174, 'spiritualist': 2175, 'signs': 2176, 'manipulators': 2177, 'double': 2178, 'horoscope': 2179, 'planets': 2180, 'natal': 2181, 'chart': 2182, 'ma': 2183, '775': 2184, 'alon': 2185, 'amit': 2186, 'cs': 2187, 'ph': 2188, 'mathematics': 2189, 'ne': 2190, '118': 2191, 'racist': 2192, 'jonathan': 2193, 'peck': 2194, 'interdisciplinary': 2195, 'studies': 2196, 'athens': 2197, 'dad': 2198, 'told': 2199, 'saw': 2200, 'old': 2201, 'black': 2202, 'woman': 2203, 'struggling': 2204, 'carry': 2205, 'groceries': 2206, 'elv': 2207, '5k': 2208, 'cgl': 2209, 'shiv': 2210, 'singh': 2211, 'divisional': 2212, 'accountant': 2213, 'pyq': 2214, 'topics': 2215, 'exams': 2216, 'speedy': 2217, 'magazines': 2218, 'affairs': 2219, 'getti': 2220, 'karma': 2221, 'exists': 2222, 'gaurav': 2223, 'gupta': 2224, 'died': 2225, 'abdullahi': 2226, 'abdisalam': 2227, 'borleh': 2228, 'explosives': 2229, 'boarded': 2230, 'plane': 2231, 'somalia': 2232, 'daallo': 2233, 'airline': 2234, '4k': 2235, '161': 2236, 'truckers': 2237, 'jim': 2238, 'lee': 2239, 'haul': 2240, 'driver': 2241, 'september': 2242, 'thereâ\\x80\\x99s': 2243, 'veteran': 2244, 'involve': 2245, 'realize': 2246, 'driving': 2247, 'itâ\\x80\\x99': 2248, '327': 2249, 'honesty': 2250, 'himanshu': 2251, 'tiwari': 2252, 'ritesh': 2253, 'saxena': 2254, 'came': 2255, 'younger': 2256, 'daughter': 2257, 'exam': 2258, 'assessment': 2259, 'she': 2260, 'ran': 2261, 'father': 2262, 'showed': 2263, '548': 2264, '93': 2265, 'feed': 2266, 'designed': 2267, 'readers': 2268, 'storeget': 2269, 'missing': 2270, '605': 2271, 'castro': 2272, '94041': 2273, 'type': 2274, 'cushion': 2275, 'subsidy': 2276, 'removal': 2277, 'general': 2278, 'goods': 2279, 'nigerians': 2280, 'approved': 2281, 'directly': 2282, '3500': 2283, 'exchange': 2284, '850': 2285, '4000': 2286, 'naira': 2287, 'player': 2288, 'independently': 2289, 'strictly': 2290, 'simply': 2291, 'earnings': 2292, 'â\\x80\\x98share': 2293, 'etaâ\\x80\\x99': 2294, 'emergency': 2295, 'assist': 2296, 'buttons': 2297, 'rider': 2298, 'journeys': 2299, 'boltâ\\x80\\x99s': 2300, 'measures': 2301, 'travels': 2302, 'b': 2303, 'nairobi': 2304, '250': 2305, 'kes': 2306, 'mr': 2307, 'uzochukwu': 2308, 'enquiries': 2309, 'multilingual': 2310, '01': 2311, '2712005': 2312, 'contactcenter': 2313, 'bvn': 2314, 'abuja': 2315, 'port': 2316, 'harcourt': 2317, 'enrolment': 2318, 'centers': 2319, 'communicator': 2320, 'motivated': 2321, 'engage': 2322, 'greater': 2323, 'responsibilities': 2324, 'qualities': 2325, 'strengths': 2326, 'conducting': 2327, 'outbound': 2328, 'calls': 2329, 'worker': 2330, 'skilled': 2331, 'solving': 2332, 'initiative': 2333, 'catch': 2334, 'continuously': 2335, 'abilities': 2336, 'organizational': 2337, 'capturing': 2338, 'gladly': 2339, 'enclosed': 2340, 'cv': 2341, 'outlined': 2342, '0659927404': 2343, 'honour': 2344, 'invitation': 2345, 'quoted': 2346, 'hurry': 2347, '214': 2348, 'illustrations': 2349, 'canâ\\x80\\x99t': 2350, 'refuse': 2351, 'linton': 2352, 'helps': 2353, 'gives': 2354, 'personalised': 2355, 'happens': 2356, 'party': 2357, 'getting': 2358, 'fave': 2359, 'djs': 2360, 'celebs': 2361, 'fans': 2362, '20th': 2363, '3pm': 2364, 'est': 2365, 'reveal': 2366, 'enabling': 2367, 'ordinary': 2368, 'explain': 2369, 'easily': 2370, 'clone': 2371, 'profitable': 2372, 'posted': 2373, 'joined': 2374, 'matched': 2375, 'org': 2376, 'agent': 2377, 'keywords': 2378, 'volunteer': 2379, 'pdt': 2380, 'wonâ\\x80\\x99t': 2381, 'meta': 2382, 'platforms': 2383, '1601': 2384, 'willow': 2385, 'menlo': 2386, 'park': 2387, '94025': 2388, 'ezejosephfor2018': 2389, 'satisfied': 2390, 'contributions': 2391, 'atleast': 2392, 'contributed': 2393, 'stuffs': 2394, 'developing': 2395, 'doubts': 2396, 'recheck': 2397, 'usage': 2398, 'notify': 2399, 'shipment': 2400, 'neighborhood': 2401, '31': 2402, 'visa': 2403, 'ending': 2404, '8680': 2405, '940': 2406, 'gates': 2407, 'ave': 2408, '23517': 2409, 'usa': 2410, 'fellow': 2411, '44': 2412, 'â©2023': 2413, '303': 2414, '2nd': 2415, 'suite': 2416, '800': 2417, 'francisco': 2418, '94107': 2419, 'tw': 2420, 'restaurant': 2421, 'drinking': 2422, 'distilled': 2423, 'spirits': 2424, 'beer': 2425, 'coolers': 2426, 'wine': 2427, 'alcoholic': 2428, 'beverages': 2429, 'cancer': 2430, 'risk': 2431, 'pregnancy': 2432, 'birth': 2433, 'defects': 2434, 'p65warnings': 2435, 'gov': 2436, 'bpa': 2437, 'q2': 2438, \"kenya's\": 2439, 'macroeconomic': 2440, 'condition': 2441, 'remains': 2442, 'challenging': 2443, 'ongoing': 2444, 'inflationary': 2445, 'pressures': 2446, \"shilling's\": 2447, 'continuous': 2448, 'depreciation': 2449, 'analysts': 2450, 'samuel': 2451, 'ochieng': 2452, 'kevin': 2453, 'wekesa': 2454, '10am': 2455, '11am': 2456, 'economy': 2457, 'investment': 2458, 'needs': 2459, 'onlinetraining': 2460, 'clientservices': 2461, '0709101200': 2462, 'asset': 2463, 'screenshot': 2464, 'quotations': 2465, 'si43': 2466, 'si44': 2467, 'transportation': 2468, 'bloemfontein': 2469, 'aliwal': 2470, 'guys': 2471, 'ledger': 2472, 'houses': 2473, 'aluminium': 2474, 'expressing': 2475, 'exploring': 2476, 'proceeded': 2477, 'proceed': 2478, 'disappointment': 2479, 'commend': 2480, 'having': 2481, 'participated': 2482, 'continually': 2483, 'careers': 2484, 'align': 2485, 'invested': 2486, 'aspirations': 2487, 'acquisition': 2488, 'confidential': 2489, 'privileged': 2490, 'solely': 2491, 'addressee': 2492, 'communication': 2493, 'heading': 2494, 'original': 2495, 'sender': 2496, 'delete': 2497, 'destroy': 2498, 'copies': 2499, 'recipient': 2500, 'disclosure': 2501, 'copying': 2502, 'distribution': 2503, 'omitted': 2504, 'reliance': 2505, 'prohibited': 2506, 'unlawful': 2507, 'advice': 2508, 'expressed': 2509, 'governing': 2510, 'engagement': 2511, 'conclusions': 2512, 'attachments': 2513, 'relate': 2514, 'official': 2515, 'nor': 2516, 'endorsed': 2517, 'intercepted': 2518, 'corrupted': 2519, 'amended': 2520, 'lost': 2521, 'destroyed': 2522, 'arrive': 2523, 'incomplete': 2524, 'viruses': 2525, 'behalf': 2526, 'providing': 2527, 'private': 2528, 'entities': 2529, 'distinct': 2530, 'entity': 2531, 'liabilities': 2532, 'structure': 2533, 'governance': 2534, 'footnote': 2535, 'confirms': 2536, 'swept': 2537, 'antivirus': 2538, 'title': 2539, 'socio': 2540, 'economics': 2541, 'internal': 2542, 'external': 2543, 'addis': 2544, 'ababa': 2545, 'ethiopia': 2546, 'narayanan': 2547, '05': 2548, '04': 2549, 'php': 2550, 'tid': 2551, 'hash': 2552, 'happiness': 2553, 'surveys': 2554, 'careful': 2555, 'hidden': 2556, 'checking': 2557, 'youre': 2558, 'too': 2559, 'decisive': 2560, 'negotiator': 2561, 'recommending': 2562, 'natural': 2563, 'rapport': 2564, 'cultivating': 2565, 'productive': 2566, 'connections': 2567, 'likewise': 2568, 'fully': 2569, 'capable': 2570, 'personalities': 2571, 'navigating': 2572, 'pressure': 2573, 'situations': 2574, 'resume': 2575, 'speak': 2576, 'earliest': 2577, 'subscriber': 2578, \"that'll\": 2579, 'whole': 2580, 'renew': 2581, 'utc': 2582, 'charged': 2583, 'renewal': 2584, 'snap': 2585, 'snapchatplus': 2586, 'notified': 2587, 'news': 2588, 'greetings': 2589, 'checked': 2590, 'shaping': 2591, 'affiliate': 2592, \"gery's\": 2593, 'detailed': 2594, 'sfimg': 2595, 'forum': 2596, 'thread': 2597, '240777': 2598, 'mailings': 2599, 'small': 2600, 'icons': 2601, 'summary': 2602, 'panel': 2603, 'rank': 2604, 'gold': 2605, 'builder': 2606, 'csa': 2607, 'mailer': 2608, 'system': 2609, 'primarily': 2610, 'hence': 2611, 'shortly': 2612, 'eas': 2613, 'previous': 2614, 'window': 2615, 'affiliatesâ\\x80\\x94including': 2616, \"who've\": 2617, 'forfeited': 2618, 'â\\x80\\x94just': 2619, 'poas': 2620, 'converted': 2621, 'modifications': 2622, 'sir15112294': 2623, 'automated': 2624, 'investigate': 2625, 'comfortable': 2626, 'durable': 2627, 'bestsellers': 2628, 'personality': 2629, 'shine': 2630, 'wardrobe': 2631, 'classic': 2632, 'duty': 2633, 'jeans': 2634, 'white': 2635, 'elevate': 2636, 'layering': 2637, 'blazer': 2638, 'matching': 2639, 'outfit': 2640, 'pair': 2641, 'fuss': 2642, 'pattern': 2643, 'texture': 2644, 'contrast': 2645, 'electric': 2646, 'blue': 2647, 'vibrant': 2648, 'red': 2649, 'sunny': 2650, 'yellow': 2651, 'pink': 2652, 'emerald': 2653, 'green': 2654, 'cart': 2655, 'sneakers': 2656, 'stores': 2657, 'faq': 2658, 'yt': 2659, 'lovebonito': 2660, 'subscribed': 2661, 'opted': 2662, 'weâ\\x80\\x99d': 2663, 'trouble': 2664, 'viewing': 2665, 'master': 2666, 'mat': 2667, 'insentif': 2668, 'telmark': 2669, 'integrasi': 2670, 'sleman': 2671, 'jenjang': 2672, 'karir': 2673, 'lamongan': 2674, 'sidoarjo': 2675, 'exa': 2676, 'mitra': 2677, 'solusi': 2678, 'assurance': 2679, 'qa': 2680, 'analyst': 2681, 'alpha': 2682, 'iota': 2683, 'partman': 2684, 'piaggio': 2685, 'vespa': 2686, 'cabang': 2687, 'sukses': 2688, 'creating': 2689, 'youâ\\x80\\x99ll': 2690, 'plans': 2691, 'unlimited': 2692, 'entertainment': 2693, 'contracts': 2694, 'commitments': 2695, 'movie': 2696, 'info': 2697, 'sending': 2698, 'close': 2699, 'final': 2700, 'expires': 2701, 'kufanya': 2702, 'za': 2703, 'cbc': 2704, 'cooperation': 2705, 'completion': 2706, 'obligation': 2707, 'essence': 2708, 'begin': 2709, 'kucommute': 2710, 'kukinyesha': 2711, 'hesitate': 2712, 'jessica': 2713, '64980345s32777037': 2714, 'apps': 2715, 'linkedin': 2716, 'preventing': 2717, 'fraudulent': 2718, 'phishing': 2719, '1999': 2720, 'monetary': 2721, 'statutory': 2722, 'transitional': 2723, 'operating': 2724, 'exemption': 2725, 'holding': 2726, 'rt000231': 2727, '735d85cc67b89': 2728, 'better': 2729, 'words': 2730, 'lightly': 2731, 'measure': 2732, 'mutually': 2733, 'positive': 2734, 'passengers': 2735, \"driver's\": 2736, 'rating': 2737, 'drops': 2738, 'threshold': 2739, 'stopped': 2740, 'accepting': 2741, 'ratings': 2742, 'ride': 2743, 'sms': 2744, 'licence': 2745, 'owing': 2746, 'registering': 2747, 'fix': 2748, 'shocky': 2749, 'critical': 2750, 'therefore': 2751, 'restocking': 2752, 'warmest': 2753, 'ondieki': 2754, 'motachwa': 2755, 'labeler': 2756, 'annotator': 2757, 'remote': 2758, 'optimally': 2759, 'advertised': 2760, 'alain': 2761, 'mazenauer': 2762, 'initiate': 2763, 'suspect': 2764, 'helping': 2765, 'maintain': 2766, 'glance': 2767, 'increased': 2768, 'clarity': 2769, 'certainty': 2770, 'clarify': 2771, 'improved': 2772, 'readability': 2773, 'remain': 2774, 'legal': 2775, 'weâ\\x80\\x99ve': 2776, 'family': 2777, 'llc': 2778, '1600': 2779, 'amphitheatre': 2780, 'parkway': 2781, '94043': 2782, 'mandatory': 2783, 'tala': 2784, 'implementing': 2785, 'relation': 2786, 'controller': 2787, 'processor': 2788, 'folks': 2789, 'tap': 2790, 'â\\x80\\x9cforgot': 2791, 'â\\x80\\x9d': 2792, 'screen': 2793, 'transfer': 2794, 'transmission': 2795, \"'s\": 2796, 'licenses': 2797, '2211': 2798, 'jose': 2799, '95131': 2800, 'hopefully': 2801, 'button': 2802, 'ownership': 2803, '3f4b3e6c4': 2804, 'spotify': 2805, 'apple': 2806, 'qualify': 2807, 'steps': 2808, 'favourite': 2809, 'thousands': 2810, 'artists': 2811, 'vibe': 2812, 'telegram': 2813, 'moneymakingcentral': 2814, 'ruban': 2815, 'mathivanan': 2816, 'studied': 2817, 'srm': 2818, 'easwari': 2819, 'engineering': 2820, 'sick': 2821, 'seems': 2822, 'telling': 2823, 'ugly': 2824, 'truth': 2825, 'abs': 2826, 'perks': 2827, 'downside': 2828, 'firstly': 2829, 'da': 2830, '3k': 2831, '461': 2832, '92': 2833, 'biz': 2834, 'ryan': 2835, 'gunness': 2836, 'mlm': 2837, 'recruit': 2838, 'demand': 2839, 'spoon': 2840, 'fed': 2841, 'marketing': 2842, 'raters': 2843, 'turkish': 2844, 'status': 2845, 'portal': 2846, 'certifications': 2847, 'luck': 2848, 'weâ\\x80\\x99ll': 2849, 'item': 2850, 'ships': 2851, '111': 2852, '9728320': 2853, '6549862': 2854, 'arriving': 2855, 'ship': 2856, '211': 2857, '99': 2858, 'f': 2859, 'qty': 2860, 'gimbal': 2861, 'stabilizer': 2862, 'axis': 2863, 'magnetic': 2864, 'fill': 2865, 'light': 2866, 'tracking': 2867, 'sensor': 2868, 'iphone': 2869, '209': 2870, 'invoice': 2871, 'payments': 2872, '81226': 2873, 'washington': 2874, '98108': 2875, '1226': 2876, '866': 2877, '216': 2878, '1075': 2879, 'placing': 2880, 'comâ\\x80\\x99s': 2881, 'noted': 2882, 'states': 2883, 'applicable': 2884, \"seller's\": 2885, 'policies': 2886, 'suitable': 2887, 'feel': 2888, 'vacancies': 2889, \"africa's\": 2890, 'largest': 2891, 'mall': 2892, 'launched': 2893, '2014': 2894, 'mission': 2895, 'africa': 2896, 'base': 2897, 'continues': 2898, 'grow': 2899, 'exponentially': 2900, 'offering': 2901, 'span': 2902, 'categories': 2903, 'phones': 2904, 'computers': 2905, 'clothing': 2906, 'shoes': 2907, 'appliances': 2908, 'healthcare': 2909, 'baby': 2910, '6vcc5': 2911, 'generated': 2912, '178': 2913, '69': 2914, '155': 2915, '179': 2916, 'ru': 2917, 'included': 2918, 'changing': 2919, 'unable': 2920, 'lock': 2921, 'locked': 2922, \"support's\": 2923, 'recovering': 2924, 'unlocking': 2925, 'unlocked': 2926, \"steam's\": 2927, 'gameplay': 2928, 'vac': 2929, 'enabled': 2930, 'steampowered': 2931, 'corporation': 2932, 'property': 2933, 'respective': 2934, 'owners': 2935, 'uploaded': 2936, 'movers': 2937, 'makers': 2938, 'dyah': 2939, 'solution': 2940, 'meets': 2941, 'utility': 2942, 'bill': 2943, 'heating': 2944, 'electricity': 2945, 'water': 2946, 'cable': 2947, 'landline': 2948, 'telephone': 2949, 'sewer': 2950, 'gas': 2951, 'debit': 2952, 'mortgage': 2953, 'insurance': 2954, 'statements': 2955, 'purely': 2956, 'institutions': 2957, 'stamped': 2958, 'government': 2959, 'correspondence': 2960, 'court': 2961, 'accurate': 2962, 'within': 2963, 'clear': 2964, 'readable': 2965, 'includes': 2966, 'corners': 2967, 'edges': 2968, 'issuerâ\\x80\\x99s': 2969, 'insignia': 2970, 'jpg': 2971, 'jpeg': 2972, 'bmp': 2973, 'gif': 2974, 'png': 2975, 'format': 2976, '04260907': 2977, 'gresnot': 2978, 'ec2v': 2979, '7ad': 2980, 'authorised': 2981, 'regulated': 2982, 'conduct': 2983, 'regulations': 2984, 'frn': 2985, '900001': 2986, 'issuance': 2987, 'hyperlinks': 2988, 'unique': 2989, 'tag': 2990, 'bit': 2991, 'interact': 2992, 'protecting': 2993, 'prepaid': 2994, 'instructions': 2995, 'expire': 2996, 'fulfillment': 2997, 'virtualrewardcenter': 2998}\n"
          ]
        }
      ],
      "source": [
        "# El índice para cada palabra\n",
        "# El sistema las ordena de las más populares a las menos populares\n",
        "print(tok.word_index)"
      ]
    },
    {
      "cell_type": "code",
      "execution_count": 32,
      "metadata": {
        "id": "nUDkjy80c77h"
      },
      "outputs": [
        {
          "name": "stdout",
          "output_type": "stream",
          "text": [
            "defaultdict(<class 'int'>, {'thank': 18, 'this': 46, 'a': 59, 'actions': 1, 'to': 75, 'hi': 14, 'the': 72, 'astrology': 1, 'is': 43, 'correct': 2, 'you': 67, 'click': 17, 'complimentary': 1, 'yet': 3, 'special': 5, 'now': 15, 'in': 50, 'here': 21, 'secrets': 1, 'everything': 2, 'future': 6, 'copy': 1, 'yours': 4, 'compiled': 1, 'about': 20, 'love': 4, 'heather': 1, 'take': 10, 'predicts': 1, 'that': 32, 'have': 35, 'me': 8, 'your': 64, 'claim': 1, \"i've\": 2, 'gift': 4, 'enabler': 1, 'and': 58, 'later': 1, 'success': 4, 'james': 2, 'tsim': 1, 'city': 1, 'room': 2, 'tsui': 1, 'kowloon': 1, 'unsubscribe': 8, 'please': 32, 'offer': 6, 'road': 3, '3': 12, 'floor': 1, 'sha': 1, 'recieving': 1, 'change': 5, 'canton': 1, 'notifications': 2, 'text': 3, 'history': 1, 'earned': 4, 'completed': 2, 'view': 10, 'preferences': 2, '500': 4, 'kong': 1, 'gcloot': 1, 'tower': 3, 'points': 1, '1203': 1, 'china': 2, 'just': 15, 'visit': 8, 'setting': 2, 'when': 7, 'following': 5, 'alt': 1, 'congratulations': 2, 'profile': 6, '12th': 1, 'hong': 1, '33': 3, 'earn': 4, 'stop': 2, 'an': 23, 'standing': 2, 'continue': 4, 'open': 3, 'next': 9, 'octocat': 1, 'below': 8, 'launch': 1, 'entering': 1, 'github': 1, 'up': 12, \"here's\": 2, 'signing': 3, 'for': 62, 'by': 24, 'rocket': 1, 'code': 6, 'mortyj420': 1, '63024610': 1, 'program': 5, 'com': 23, 'rewards': 1, 'virtual': 1, 'cspace': 1, 'team': 14, 'received': 10, 'inconvenience': 1, 'do': 12, 'apologize': 1, 'out': 15, 'get': 14, 'reward': 5, 'recipients': 1, 'from': 37, 'dictate': 1, 'sponsor': 1, 'center': 5, 'lead': 2, 'clarifications': 1, 're': 7, 'support': 9, 'hello': 13, 'company': 9, 'not': 19, 'originally': 1, 'inquiry': 1, 'at': 28, 'what': 9, 'sent': 11, 'contact': 9, 'which': 10, 'any': 17, 'customer': 10, 'helpdesk': 1, 'contacting': 3, 'we': 37, 'relief': 1, 'mike': 1, 'nine': 1, 'los': 1, 'expected': 1, 'obp': 1, 'spam': 2, 'looking': 4, 'far': 1, '1': 18, 'offense': 1, '000': 5, 'very': 3, 'hey': 4, 'monster': 1, 'betting': 1, 'matt': 3, 'due': 4, 'playoff': 1, 'ability': 2, 'insider': 1, 'heater': 1, '15': 5, 'best': 13, 'go': 11, 'pitch': 1, 'so': 11, 'around': 1, 'able': 3, 'easy': 5, 'willing': 2, 'exploitable': 1, 'make': 11, 'andre': 1, 'of': 54, 'scored': 1, 'saturday': 1, 'join': 8, \"insider's\": 1, 'starts': 1, 'caleb': 1, '22': 3, 'won': 1, 'ball': 1, 'rotation': 1, 'boutros': 1, 'tell': 3, 'picks': 1, 'exactly': 2, 'advantages': 1, 'clinging': 1, 'show': 5, 'major': 4, 'handicappers': 1, 'links': 5, 'runs': 1, 'offers': 2, 'braves': 1, 'few': 9, 'leaderboard': 1, 'stellar': 1, 'bang': 1, 'thrusting': 1, 'unfortunately': 2, 'war': 1, 'donâ\\x80\\x99t': 5, 'havenâ\\x80\\x99t': 1, 'saying': 2, 'lose': 2, 'series': 1, 'wants': 1, 'follow': 4, '38': 1, 'leads': 1, 'went': 1, 'trash': 1, 'angeles': 1, \"your's\": 1, 'late': 2, 'should': 4, \"let's\": 2, 'pot': 1, \"won't\": 1, 'comes': 2, 'briggs': 1, 'reds': 1, 'either': 1, 'rockies': 1, 'home': 5, \"he's\": 1, 'solid': 1, 'three': 4, 'premium': 2, \"angels'\": 1, 'skills': 9, 'vs': 2, 'covers': 1, 'ops': 1, 'prediction': 1, 'appearance': 1, 'broadcast': 1, 'racking': 1, 'inside': 1, 'canning': 1, 'if': 34, 'but': 8, 'detroit': 1, 'innings': 1, 'way': 3, 'ceasars': 1, \"today's\": 3, 'work': 8, '9': 5, 'each': 5, \"andre'\": 1, '100': 2, 'good': 12, 'expert': 1, '34': 2, 'pick': 3, 'found': 3, 'had': 3, 'calling': 1, 'mound': 1, 'injuries': 1, '233': 1, 'sport': 1, 'watch': 2, 'majors': 1, 'books': 2, 'anyone': 3, \"they're\": 1, 'look': 5, 'credits': 2, 'rbis': 1, 'eight': 1, 'two': 3, 'zeroed': 1, 'performance': 4, 'end': 4, 'more': 28, 'provide': 7, 'also': 10, 'win': 3, 'with': 33, 'than': 8, 'hosting': 1, '11': 2, 'davis': 1, 'lower': 1, 'cameras': 1, '7': 8, 'level': 3, 'barely': 1, 'like': 14, 'batters': 1, 'slg': 1, 'week': 3, 'club': 1, 'spent': 1, 'bb': 1, 'great': 5, 'as': 29, 'sports': 1, '21': 1, 'ifill': 1, '00': 2, 'games': 3, 'including': 6, 'gameâ\\x80\\x9d': 1, 'opportunity': 6, 'back': 4, 'our': 35, 'strap': 1, 'bullpen': 1, 'diamond': 1, 'minutes': 1, 'mlb': 1, 'catching': 1, 'lines': 1, 'aim': 1, 'foreign': 1, '59': 1, 'down': 2, 'jonesing': 1, 'football': 1, 'deals': 2, 'shot': 1, 'ashcraft': 1, 'rawal': 1, 'runners': 1, 'granot': 1, '41': 1, 'june': 6, 'canadian': 1, '5': 6, '14': 4, 'against': 1, 'hitting': 1, 'first': 4, 'angels': 1, 'been': 14, 'plus': 2, 'start': 6, 'cfl': 1, 'spots': 1, 'rogers': 1, 'videos': 3, 'era': 1, 'sizzler': 1, 'another': 1, 'unit': 1, 'exclusive': 2, 'walks': 1, 'they': 8, 'one': 9, 'conversations': 1, 'april': 4, 'blockbuster': 1, 'pitcher': 1, 'season': 4, 'whip': 1, 'issues': 2, 'houston': 1, 'night': 1, '24': 5, 'infamous': 1, 'us': 25, 'edt': 1, '18': 7, '12': 4, 'impressive': 1, 'rolling': 1, 'every': 7, 'soft': 1, 'weekend': 1, 'got': 8, 'guaranteed': 1, 'check': 5, 'twitter': 4, 'managed': 1, 'finish': 2, 'long': 4, \"isn't\": 2, 'parlays': 1, 'starting': 1, 'atop': 1, 'being': 8, 'use': 14, 'full': 10, 'most': 7, 'jam': 1, \"that's\": 2, 'game': 3, 'astros': 1, 'ratio': 1, 'on': 48, '6': 7, 'early': 2, 'even': 8, '23': 4, 'cincinnati': 1, '0': 4, 'well': 5, 'yesterday': 1, 'all': 26, 'cappers': 1, 'toll': 1, 'battle': 1, 'mostly': 1, 'weâ\\x80\\x99re': 6, 'are': 36, 'minnesota': 1, 'need': 11, 'bet': 1, 'youtube': 2, 'his': 5, 'however': 3, '17': 4, 'gave': 2, 'perfect': 1, 'discord': 1, 'jared': 1, 'angle': 1, 'heck': 1, '4': 10, 'top': 8, 'control': 1, 'dodger': 1, 'spotlight': 1, 'today': 10, 'thrown': 1, 'acuna': 1, 'conditions': 6, 'going': 5, 'running': 2, \"andre's\": 1, 'temporarily': 1, 'reading': 2, 'batting': 1, 'blanco': 1, 'record': 1, 'experts': 2, 'incredible': 2, 'will': 26, 'time': 18, 'fox': 1, 'no': 12, 'these': 10, 'sweetened': 1, 'refund': 1, 'â\\x80\\x9cbig': 1, 'given': 2, 'or': 33, 'takes': 2, 'whatever': 2, '20': 3, 'bases': 1, \"they've\": 1, 'homers': 1, 'during': 5, 'opposing': 1, 'action': 6, 'be': 27, 'olson': 1, 'terms': 10, 'stolen': 1, 'everyday': 1, 'crusher': 1, 'five': 1, 'let': 5, 'stadium': 1, 'chances': 1, 'run': 1, 'shuster': 1, 'their': 12, 'appears': 1, 'et': 1, 'play': 5, 'keep': 8, 'freebie': 1, 'struck': 1, 'allowed': 2, 'he': 2, 'were': 1, 'm': 2, 'dugouts': 1, 'p': 3, 'know': 10, 'ready': 3, '10': 11, 'daily': 2, 'scheduled': 1, 'off': 4, 'disastrous': 1, 'contests': 1, 'over': 6, '13': 3, 'league': 1, 'times': 1, 'dodgers': 1, 'marks': 1, 'was': 14, 'has': 16, 'predictions': 1, 'caesars': 1, 'taken': 3, 'overall': 1, '2017': 2, 'thanks': 10, 'drive': 1, 'community': 5, 'track': 5, 'strong': 2, 'tier': 1, 'cashing': 1, 'ronald': 1, 'chance': 2, 'shortage': 1, 'starter': 1, '57': 1, 'plays': 1, 'there': 10, 'todayâ\\x80\\x99s': 1, 'winner': 1, 'goes': 1, 'last': 7, 'talk': 2, 'sportsbook': 1, 'how': 18, 'sign': 8, 'him': 2, 'under': 6, 'disclaimer': 1, 'both': 3, 'huge': 2, 'video': 4, '2023': 24, 'prachanda': 2, 'hits': 1, 'done': 3, 'into': 6, 'caesar': 1, 'it': 17, 'newsletter': 2, 'ronel': 1, 'apply': 5, 'youâ\\x80\\x99re': 1, 'right': 7, 'contest': 1, 'year': 8, 'lengths': 1, 'winnersfull': 1, 'did': 3, 'promo': 1, 'max': 1, 'swing': 1, 'analysis': 1, '1250': 1, 'secret': 2, 'k': 1, 'hit': 1, 'place': 2, 'atlanta': 1, 'see': 13, 'sitting': 1, 'average': 3, 'giving': 2, '30': 5, 'colorado': 1, '2': 7, 'day': 10, \"doesn't\": 1, 'fun': 1, 'free': 9, 'prepare': 2, 'set': 4, 'chores': 1, 'packed': 3, 'world': 4, 'fip': 1, 'hot': 2, 'call': 7, 'anambra': 2, 'remember': 6, 'hashtag': 2, 'getdp': 2, 'accounts': 4, 'picture': 3, 'casting': 2, 'anambrafashionexpo2023': 2, 'reviewing': 4, 'updates': 5, 'content': 3, 'anambrafashion': 2, 'regards': 13, 'carefully': 3, 'expo': 2, 'meantime': 2, 'submission': 2, 'taking': 4, 'register': 4, 'connected': 2, 'facebook': 3, 'afe': 2, 'personalized': 2, 'handles': 2, 'can': 24, 'fashion': 2, 'social': 2, 'stay': 2, 'link': 10, 'receive': 8, 'review': 7, 'note': 7, 'weeks': 2, 'afe2023': 2, 'prerequisites': 2, 'co': 3, 'https': 10, 'information': 11, 'posting': 2, 'using': 6, 'share': 6, 'qualification': 2, 'encourage': 4, 'eye': 2, 'anambrafashionexpo': 2, 'excited': 5, 'applications': 2, 'event': 3, 'model': 4, 'instagram': 4, 'thrilled': 2, 'dp': 2, 'followed': 2, 'media': 3, 'create': 4, 'waiting': 5, '180month': 1, 'competitive': 6, 'cost': 2, 'listed': 2, 'upon': 2, 'specialize': 1, 'administration': 4, \"master's\": 2, 'council': 1, 'chea': 1, 'recognized': 1, 'total': 3, 'payment': 5, 'sectors': 1, 'ever': 1, 'months': 3, 'fees': 1, 'global': 5, 'faster': 1, 'certificate': 1, 'mba': 1, 'calculated': 1, 'applying': 1, 'accrediting': 1, 'gets': 1, 'touch': 1, 'accredited': 1, 'academic': 4, 'less': 3, 'cybersecurity': 1, 'generation': 1, 'barriers': 1, 'nexford': 1, 'commerce': 2, 'bring': 2, 'find': 5, 'accreditation': 1, 'e': 7, 'monthly': 4, 'allows': 1, 'deac': 1, 'some': 10, 'u': 1, 'walk': 1, 'increasingly': 1, 'distance': 1, '240': 1, 'itself': 3, 'prides': 1, 'options': 1, 'else': 4, 'complete': 7, 'higher': 3, 'education': 3, 'reskill': 1, 'anything': 2, 'hottest': 1, 'science': 1, 'degree': 3, 'students': 1, '180': 1, 'specialization': 1, 'pay': 6, 'agency': 1, 'university': 1, 'department': 1, 'business': 6, 'etc': 2, 'fast': 5, 'market': 4, 'month': 6, \"world's\": 1, 'hope': 3, 'commission': 1, 'graduation': 1, 'tuition': 1, 'ai': 3, 'american': 1, 'upskill': 1, 'affordable': 2, 'away': 2, 'data': 7, 's': 5, 'job': 7, 'want': 7, \"you'll\": 6, 'account': 21, 'otherwise': 2, 'device': 6, 'shopping': 4, 'needed': 3, 'logo': 5, 'near': 1, '06': 3, 'amazon': 5, 'disregard': 1, 'message': 13, 'jul': 1, 'senol': 1, 'manisa': 1, 'image': 3, 'pm': 2, 'app': 9, '07': 4, 'turkey': 1, 'someone': 6, 'tr': 2, 'yildirim': 1, 'android': 2, 'signed': 3, 'important': 4, 'political': 1, 'considered': 1, 'may': 14, 'range': 1, 'evaluate': 1, 'accessing': 2, 'possibly': 1, 'paper': 1, 'shared': 1, 'payoneer': 1, 'unintended': 1, 'ancestry': 1, 'actively': 1, 'manufactured': 2, 'participate': 4, 'project': 4, 'accepted': 2, 'learning': 3, 'blog': 2, 'age': 1, 'made': 1, 'develop': 1, 'artificial': 1, 'publications': 1, 'â\\x80\\x9cyour': 1, 'dataâ\\x80\\x9d': 1, 'identify': 3, 'concerns': 2, 'published': 1, 'itâ\\x80\\x99s': 5, 'broader': 1, 'could': 3, 'minimum': 2, 'g': 2, 'compact': 1, 'annotations': 1, 'perform': 1, 'restrictions': 2, 'algorithms': 1, 'extremely': 4, 'large': 2, 'sample': 1, '8': 5, 'subjects': 1, 'new': 25, 'form': 3, 'post': 2, 'train': 3, 'annotation': 1, 'ml': 1, 'attire': 1, 'agree': 3, 'risks': 1, 'activities': 1, 'files': 1, \"it's\": 3, 'still': 10, 'different': 2, 'various': 3, 'smartphone': 3, 'officially': 1, 'camera': 1, 'reported': 1, 'opt': 2, 'interest': 5, 'help': 11, 'parties': 1, 'advertising': 1, 'address': 11, 'potential': 4, 'participating': 1, 'reside': 1, 'after': 8, 'password': 5, 'technologies': 1, 'participants': 2, 'means': 3, 'sharing': 2, 'seeks': 1, 'publicly': 2, 'promotions': 2, 'diverse': 1, 'informed': 1, 'where': 7, 'poses': 1, 'fakes': 1, 'request': 5, '27': 3, 'pronoun': 1, 'unauthorized': 3, 'images': 1, 'intelligence': 1, 'photos': 2, 'subject': 4, 'online': 6, 'yourself': 2, 'read': 7, 'commercial': 1, 'megapixels': 1, 'such': 5, 'sold': 2, 'would': 8, 'collection': 1, 'individually': 1, 'once': 4, 'kindly': 5, 'used': 4, 'invite': 1, 'overview': 1, 'joining': 2, 'invited': 2, 'reach': 4, 'interested': 2, 'people': 7, 'yuyang': 1, 'ethically': 1, 'consent': 1, 'catfishing': 1, 'majority': 2, 'between': 4, 'annotated': 1, 'example': 3, '2011': 2, 'restricted': 2, 'along': 1, 'across': 2, 'seeking': 1, 'attempting': 3, 'guidelines': 1, 'wait': 1, 'crowd': 1, 'thousand': 1, 'other': 13, 'addition': 3, 'promoting': 1, 'machine': 1, 'least': 1, 'targeted': 1, 'before': 3, 'nationality': 1, 'v2': 1, 'processed': 2, 'commonplace': 1, 'appen': 1, 'self': 1, 'then': 6, 'fairly': 1, 'public': 2, 'projectâ\\x80\\x9d': 1, 'asia': 1, 'name': 5, 'through': 7, 'related': 3, 'presentation': 1, 'a5655': 1, 'who': 7, 'contractually': 1, 'detail': 2, 'row': 1, 'purposes': 1, 'third': 1, 'â\\x80\\x9ca5655': 1, 'email': 26, 'build': 2, 'must': 3, 'among': 1, 'country': 2, 'qrp': 1, 'viewable': 1, 'pdf': 2, 'individuals': 1, 'emails': 6, 'platform': 3, 'systems': 1, 'dslr': 1, 'log': 4, 'residence': 1, 'kind': 4, 'connect': 4, 'connection': 2, 'deep': 1, 'allowing': 1, 'several': 1, 'projectâ\\x80\\x99s': 1, 'software': 4, 'dataset': 1, 'consider': 2, 'reasonable': 1, 'those': 7, 'demographics': 1, 'questions': 7, 'reshoketswe': 2, 'trying': 2, 'noticed': 4, 'owe': 1, 'applied': 4, 'institution': 2, 'sincerely': 8, 'arcademic': 1, 'r3280': 1, 'wish': 6, 'assistance': 4, 'process': 5, 'enroll': 1, 'past': 3, 'application': 5, 'ask': 3, 'sir': 5, 'sekhukhune': 2, 'i': 16, '2021': 4, '2020': 3, \"didn't\": 1, 'madam': 3, '2022': 4, '11187265': 1, 'based': 6, 'equivalent': 1, 'ec1n': 1, 'companies': 1, 'july': 9, 'japan': 1, 'affluent': 1, \"don't\": 9, 'customers': 2, 'limited': 5, '2st': 1, 'privacy': 11, 'south': 2, '342': 1, 'cold': 1, 'match': 4, 'â\\x80\\x9cgrapedataâ\\x80\\x9d': 1, 'korea': 1, 'registered': 8, 'rights': 10, 'think': 2, 'interview': 2, 'list': 3, 'waterhouse': 1, 'number': 6, 'task': 1, \"you're\": 3, 'incorporated': 1, 'grapedata': 1, 'salary': 4, 'available': 3, 'copyright': 6, 'browser': 3, 'travel': 1, 'wales': 2, 'square': 1, '150': 1, 'luxury': 1, 'grapedataâ\\x80\\x99s': 1, 'friend': 2, 'traveller': 1, 'miss': 3, 'france': 1, 'survey': 2, 'policy': 5, 'â©': 12, 'uae': 1, 'london': 2, 'mins': 1, 'england': 2, 'reviews': 1, 'reserved': 9, 'widely': 1, 'movement': 1, 'airport': 1, 'god': 1, 'celebrate': 1, 'worldâ\\x80\\x99s': 1, 'thatâ\\x80\\x99s': 2, 'trusted': 1, 'anniversary': 2, 'refresh': 1, 'impact': 1, 'digital': 2, 'tool': 1, 'word': 1, 'reflecting': 1, 'celebrating': 1, 'doing': 3, 'maybe': 1, 'life': 4, 'prayer': 1, 'spoke': 1, 'appâ\\x80\\x99s': 1, 'become': 4, 'idea': 1, 'bible': 1, 'difficult': 1, 'years': 2, 'everywhereâ\\x80\\x94including': 1, 'verse': 1, 'reaching': 1, 'started': 4, 'security': 7, 'line': 2, 'feature': 1, 'service': 8, 'â\\x80¢': 5, 'direct': 1, 'arbitration': 1, 'â\\x80\\x9ctermsâ\\x80\\x9d': 1, 'resolve': 1, 'personal': 3, 'discontinued': 1, 'section': 3, 'features': 5, 'procedures': 1, 'effect': 2, 'reflect': 1, 'clarifying': 1, 'language': 4, 'date': 5, 'formally': 1, 'artist': 2, 'product': 2, 'products': 7, 'countries': 3, 'respect': 3, 'changes': 3, 'visible': 1, 'notice': 4, 'part': 2, 'binding': 1, 'live': 2, 'disputes': 1, 'payouts': 1, 'feedback': 5, 'upload': 1, 'updated': 3, 'added': 2, 'outside': 1, 'give': 2, 'tidalâ\\x80\\x99s': 1, 'tidal': 2, 'upcoming': 1, 'updating': 1, 'clearer': 4, 'limitations': 2, 'operate': 1, 'users': 1, 'via': 1, 'particular': 1, 'advance': 2, 'additional': 3, 'relevant': 2, 'continuing': 1, 'access': 9, 'audiences': 1, 'adding': 1, 'removed': 1, 'detected': 2, 'fraud': 2, 'suspicious': 2, 'report': 2, 'activity': 3, 'sellers': 2, 'increase': 4, 'buyers': 2, 'discogs': 2, 'undergo': 2, 'committed': 4, 'recognize': 3, 'safely': 2, 'scams': 2, 'recently': 4, 'combating': 2, 'trustworthy': 2, 'attempts': 2, 'scammers': 2, 'reduce': 2, 'safe': 5, 'maintaining': 2, 'independent': 2, 'immediately': 3, 'buying': 2, 'period': 4, 'tips': 4, 'guide': 4, 'practices': 2, 'issue': 5, 'marketplace': 2, 'learn': 11, 'ondiekijohn254': 3, 'login': 6, '103': 1, 'balance': 4, 'kvieciu': 1, 'present': 3, 'earning': 3, 'vilnius': 1, 'lt': 1, \"can't\": 1, '28': 1, 'surveyâ®': 1, 'logging': 1, 'january': 2, '08438': 1, '2009': 2, '94': 1, 'onto': 1, 'quick': 2, 'inactive': 1, 'save': 1, '16': 2, 'forever': 1, 'hang': 1, 'come': 4, 'member': 3, 'receiving': 4, 'because': 10, 'messages': 2, 'cleared': 1, 'anggraeni': 4, '144': 1, 'replying': 3, 'field': 1, '950': 1, 'pursue': 1, 'joseph': 2, 'excellence': 1, 'believe': 4, 'without': 3, 'onyinyechi': 1, 'selected': 2, 'pleased': 1, 'advantage': 1, 'study': 1, 'masterâ\\x80\\x99s': 1, 'scholarship': 1, 'british': 1, 'quote': 1, 'only': 9, 'olusegun': 1, 'ng1950': 1, 'allow': 4, 'programme': 1, 'employment': 1, 'alex': 3, 'burden': 1, 'succeed': 1, 'knowledge': 2, 'towards': 3, 'adviser': 1, 'financial': 2, 'educational': 1, '90': 4, 'graduates': 1, 'unicafâ\\x80\\x99s': 1, 'chosen': 1, 'accompanies': 1, 'dear': 15, 'eze': 2, 'unicaf': 1, 'choice': 1, 'inform': 4, 'pursuit': 1, 'goals': 2, 'hasil': 2, 'penempatan': 2, 'equipment': 2, 'development': 3, 'care': 3, 'qualifications': 2, 'cellular': 1, 'shopee': 2, 'tarakan': 2, 'passionate': 2, 'sinarmas': 2, 'jaya': 1, '19': 5, 'msig': 2, 'lps': 2, 'locations': 2, 'surabaya': 2, 'idr': 2, 'ina': 2, 'recommendations': 4, 'jobs': 4, 'energetic': 3, 'clinic': 2, 'allowance': 2, 'user': 5, 'utama': 2, 'industrial': 2, 'ayura': 2, 'jtrust': 2, 'lampung': 2, 'frontliner': 1, 'opportunities': 3, 'leader': 3, 'remuneration': 2, 'raya': 2, 'quirin': 1, 'depend': 3, 'kitchen': 2, 'rezeki': 1, 'fair': 2, 'internasional': 2, 'package': 2, 'www': 9, '1998': 2, 'career': 3, 'promotor': 2, 'conbloc': 1, 'semarang': 1, 'intisumber': 2, 'sinar': 2, 'pt': 2, 'cengkareng': 1, 'supportive': 2, 'office': 5, 'berkat': 2, 'hotel': 1, 'eterli': 2, 'jakarta': 2, 'machinery': 2, 'manado': 2, 'jiwa': 2, 'multiple': 2, 'thr': 2, 'lestari': 2, 'indonesia': 2, 'kurir': 2, 'energi': 2, '600': 3, 'sempurna': 2, 'banten': 1, 'nette': 1, 'ti': 1, 'jogja': 2, 'perdana': 2, 'training': 3, 'mas': 2, 'yogyakarta': 2, 'negotiable': 2, 'madiun': 2, 'abadi': 1, 'jawa': 2, 'tools': 2, 'medical': 2, 'asuransi': 2, 'bank': 4, 'front': 2, 'dressing': 1, 'penjualan': 2, 'humaira': 2, 'officer': 3, 'merchandiser': 2, 'operations': 3, 'oma': 2, 'representative': 2, 'acrylic': 2, 'contract': 2, 'dan': 2, 'statement': 5, 'elly': 2, 'land': 2, 'tbk': 2, 'cakrawala': 2, 'formalities': 2, 'alert': 2, 'festive': 2, 'friendly': 3, 'culture': 2, 'admin': 3, 'perpajakan': 2, 'ungasan': 2, 'enjoy': 2, 'niagamas': 2, 'gemilang': 2, 'prestigeous': 2, 'branch': 2, 'sales': 5, '750': 2, 'penjahit': 2, 'badung': 2, \"we've\": 5, 'balqis': 2, 'persada': 1, 'bali': 2, 'jobstreet': 2, 'environment': 2, 'timur': 2, 'edit': 3, 'working': 8, 'visiting': 1, 'cards': 2, 'outstanding': 1, 'wa': 1, '5210': 1, 'inc': 6, 'membership': 1, 'cancelled': 1, 'affiliates': 2, 'result': 2, 'prime': 1, 'supermen888': 2, '410': 1, 'card': 2, 'valid': 3, 'n': 2, 'gmail': 5, 'canceled': 1, 'fee': 2, 'its': 5, 'provided': 3, 'checkout': 1, 'again': 2, 'credit': 4, 'page': 4, 'seattle': 2, 'charge': 1, 'ensure': 5, 'paid': 4, 'trademarks': 2, 'trial': 2, 'require': 1, 'upgrade': 1, \"you'd\": 2, 'cannot': 4, 'denis': 2, 'terry': 1, 'avenue': 1, 'cancellation': 2, 'plan': 5, 'annual': 1, '98109': 1, \"i'm\": 3, 'charlie': 1, 'amazing': 2, 'crazy': 1, 'income': 3, '7000': 1, 'thing': 2, 'deal': 2, 'walid': 3, 'totally': 1, \"wasn't\": 1, 'stupid': 1, 'seriously': 1, 'something': 4, 'value': 1, \"i'll\": 1, 'enough': 1, '177': 1, 'wanted': 2, 'english': 5, 'rtd': 1, 'iiiiiiuiiiiiiiiiiiii': 2, 'sfhdg': 1, 'recommend': 2, 'box': 3, 'respondent': 1, 'minute': 1, 'types': 1, '4668': 1, 'mind': 1, '10163': 1, \"we're\": 4, '57891': 1, 'colleague': 1, 'choose': 3, 'likely': 1, 'po': 1, 'update': 5, 'york': 2, 'us30': 1, 'pop': 2, 'recent': 1, 'renowned': 1, 'currency': 1, 'shows': 1, 'weekâ\\x80\\x99s': 1, 'trend': 1, 'picked': 1, 'charts': 1, 'featured': 1, 'timing': 1, 'sector': 1, 'beginning': 1, 'nasdaq': 1, 'welcome': 4, 'us500': 1, 'commodities': 1, 'usually': 4, 'jones': 1, 'gains': 1, 'second': 1, 'flowing': 1, 'traders': 1, 'stocks': 1, 'latest': 2, 'ut100': 1, 'above': 1, 'prove': 1, 'offered': 2, 'consistent': 1, 'episodes': 1, 'markets': 2, 'pumping': 1, 'diversify': 1, 'poor': 2, 'index': 1, 'fxpesa': 1, 'moves': 1, 'basket': 1, 'blown': 1, \"week's\": 1, 'p500': 1, 'podcast': 1, 'holdings': 2, 'since': 4, 'weekly': 2, 'include': 2, 'traded': 1, 'resources': 1, 'focus': 3, 'instruments': 1, 'dow': 1, 'adage': 1, 'term': 2, 'indices': 1, 'capitalization': 1, 'standards': 1, 'quiz': 1, 'regions': 1, 'rising': 2, 'edition': 1, 'nyse': 1, 'surpasses': 1, 'classes': 1, 'couple': 1, 'fluctuations': 1, 'forward': 2, 'test': 4, 'jun': 1, 'details': 5, 'deo': 1, 'meeting': 2, 'participation': 1, 'atlantic': 1, 'sathya': 3, 'helena': 1, 'discussion': 3, 'st': 2, 'shares': 2, 'winning': 2, 'bringing': 2, 'revealed': 2, 'compared': 2, 'taiwo': 1, 'big': 2, 'routine': 2, 'becoming': 2, \"we'd\": 2, 'valuable': 3, 'tricks': 2, 'thought': 2, 'strategies': 2, 'certain': 5, 'things': 5, 'journey': 2, 'beginners': 2, '50': 3, 'successful': 5, 'exciting': 2, 'edge': 2, 'benefit': 2, 'belts': 2, 'projects': 2, 'starky': 2, 'halfway': 2, 'freelancer': 2, 'methods': 2, 'lack': 2, 'already': 2, 'proven': 2, 'matter': 2, 'own': 6, 'boss': 2, 'incorporating': 2, 'rehan': 1, 'does': 2, 'nutrients': 1, 'theyâ\\x80\\x99re': 1, 'fat': 1, 'villae': 1, 'short': 1, 'naps': 1, 'effective': 3, 'hand': 1, 'decrease': 1, 'area': 1, 'quality': 3, 'energy': 1, 'wall': 1, 'medicines': 1, 'soar': 1, 'nutritional': 1, 'stringent': 1, 'body': 1, 'dere': 1, 'role': 2, 'levels': 1, 'illnesses': 1, 'skin': 2, 'results': 2, 'superior': 1, 'skinâ\\x80\\x99s': 1, 'high': 4, 'weight': 1, 'stream': 2, 'reason': 1, 'finger': 1, 'clean': 1, 'commendable': 1, 'youâ\\x80\\x99ve': 2, 'assisting': 1, 'cause': 2, 'healing': 1, 'further': 2, 'stand': 1, 'keeping': 1, 'maryam': 2, 'health': 1, 'supplement': 1, 'stem': 1, 'uptake': 1, 'fact': 1, 'â\\x80\\x93': 1, 'supplements': 1, 'intestine': 1, 'meal': 1, 'primary': 3, 'balanced': 1, 'supporting': 1, 'cleaning': 1, 'cells': 1, 'heal': 1, 'nutrition': 1, 'testing': 2, 'anxiety': 1, 'absorption': 1, 'importantly': 1, 'plant': 1, 'deficiencies': 1, 'elasticity': 1, 'efficiently': 1, 'loss': 1, 'works': 3, 'chemical': 1, 'synergy': 1, 'particularly': 2, 'thoughts': 2, 'alkaline': 1, 'gut': 1, 'treatment': 1, 'key': 1, 'insulin': 1, 'flora': 1, 'inner': 1, 'increasing': 1, 'toxin': 1, 'responsible': 3, 'damage': 1, 'blood': 1, 'protrusions': 1, 'awesome': 1, '80kg': 1, 'why': 4, 'thirdly': 1, 'achieve': 1, 'rate': 3, 'much': 4, 'stable': 1, 'bloodstream': 1, 'hormones': 1, 'liver': 1, 'surface': 1, 'liberating': 1, 'reasons': 3, 'repair': 1, 'frame': 1, 'moods': 1, 'vast': 1, 'becomes': 1, 'especially': 1, 'known': 2, 'head': 1, 'massive': 1, 'secondly': 1, '60': 2, 'afternoon': 1, 'single': 1, 'my': 8, 'person': 2, 'adult': 1, 'site': 1, 'dating': 1, 'singles': 1, 'man': 1, 'phebehothoney': 1, 'lun': 2, 'discover': 1, 'bed': 1, 'sensitive': 1, 'answer': 2, 'lot': 2, 'meet': 2, 'kisses': 1, 'touching': 1, 'sexalert': 1, 'iâ\\x80\\x99m': 2, 'alone': 2, 'sex': 1, 'sleep': 2, 'tupussycat': 1, 'february': 1, 'casual': 1, 'unemployed': 1, 'regard': 1, 'worked': 1, 'shop': 5, 'uif': 1, 'appreciate': 3, 'employees': 1, 'really': 3, 'enquire': 1, 'retail': 2, 'registration': 1, 'cancel': 3, 'feed': 1, 'driver': 1, 'athens': 1, 'swift': 1, 'paradigm': 2, 'add': 3, '2019': 1, 'never': 1, 'prefer': 1, 'oh': 2, 'boarded': 1, '65': 2, 'racist': 1, 'computer': 2, 'google': 3, 'doesnâ\\x80\\x99t': 2, 'hard': 2, 'spiritualist': 1, 'c': 2, 'always': 5, 'daallo': 1, 'saw': 1, 'karma': 1, 'kurt': 2, 'nintendo': 1, 'sure': 7, 'her': 1, '2018': 2, 'bohnam': 1, 'whether': 2, 'ssc': 1, 'interdisciplinary': 1, 'called': 3, 'signs': 1, '605': 1, 'gupta': 1, 'downey': 1, 'programmers': 1, '548': 1, 'pyq': 1, 'studies': 1, 'multi': 2, 'presley': 1, 'dad': 1, 'struggling': 1, 'polite': 1, '37': 1, 'alon': 1, 'laptop': 2, 'andrew': 1, 'assessment': 1, 'exists': 1, 'she': 1, 'equations': 1, 'cs': 1, 'showed': 1, 'haul': 1, 'father': 1, 'woman': 1, 'nintend': 1, 'readers': 1, 'amit': 1, 'avoid': 1, 'proof': 2, 'street': 4, 'math': 1, 'coding': 1, 'algebra': 1, 'polynomial': 1, 'mathematics': 1, 'np': 1, 'missing': 1, 'basic': 1, 'somalia': 1, 'say': 1, 'abdullahi': 1, 'motivator': 1, 'magazines': 1, 'veteran': 1, 'younger': 1, 'solved': 1, 'capped': 1, 'unsafe': 1, 'solve': 1, 'told': 1, 'playstation': 1, 'stories': 2, 'making': 4, 'exam': 1, 'gs': 2, 'â\\x80\\x9cimperativ': 2, 'brains': 1, 'chart': 1, 'philip': 1, 'trumpet': 1, 'borleh': 1, 'vedic': 1, 'harder': 1, 'truckers': 1, 'ritesh': 1, 'september': 1, 'them': 3, 'lloyd': 1, 'comment': 2, 'jim': 1, 'jr': 1, 'explosives': 1, 'download': 2, 'nidhi': 1, 'problems': 1, 'dangerous': 1, 'quora': 2, '2016': 2, 'soloist': 1, 'ph': 1, 'robert': 1, '4k': 1, 'ma': 1, 'programs': 1, 'saxena': 1, 'accountant': 1, '8k': 1, 'manipulators': 1, 'o': 2, 'ne': 1, 'engineer': 2, 'strncpy': 1, 'specialist': 2, 'march': 2, 'astrologer': 1, 'habits': 1, 'thereâ\\x80\\x99s': 1, 'guntheroth': 2, '118': 1, 'abdisalam': 1, 'driving': 1, 'clearly': 1, 'realize': 1, 'lee': 1, 'divisional': 1, 'storeget': 1, 'involve': 1, 'gretchen': 1, 'experiences': 2, '9k': 1, 'python': 1, 'l': 1, 'speedy': 1, 'real': 1, 'manipulative': 1, 'exams': 1, 'didnâ\\x80\\x99t': 1, 'functions': 1, 'carry': 1, 'x': 1, 'manuel': 1, 'mcgregor': 1, 'drivers': 3, 'programming': 1, 'died': 1, 'coffee': 1, 'zodiac': 1, 'came': 1, 'horoscope': 1, 'problem': 3, 'black': 1, 'gaurav': 1, 'whatâ\\x80\\x99s': 2, 'plane': 1, 'null': 1, 'story': 1, 'itâ\\x80\\x99': 1, '775': 1, 'current': 7, 'astro': 1, 'cgl': 1, 'object': 2, 'many': 3, 'upvote': 2, 't': 2, 'topics': 1, 'bother': 1, 'jerk': 1, 'others': 2, 'tiwari': 1, 'oriented': 2, 'syntax': 1, 'airline': 1, 'answered': 2, 'mateo': 1, 'bad': 1, 'graphs': 1, 'double': 1, 'college': 2, 'jonathan': 1, '55': 2, 'y': 1, 'elvis': 1, 'writer': 2, 'hate': 2, 'old': 1, 'peck': 1, 'paradigms': 2, 'groceries': 1, 'singh': 1, 'drawing': 1, '416': 1, '5k': 1, 'true': 1, 'technical': 2, 'planets': 1, 'beginner': 1, 'honesty': 1, 'tick': 2, '93': 1, 'trust': 1, '161': 1, 'asked': 1, 'currently': 3, 'fastly': 1, 'inbox': 2, 'ran': 1, 'castro': 1, 'mountain': 2, 'â\\x80\\x9cxâ\\x80\\x9d': 1, 'baroque': 1, 'measurement': 1, 'd': 2, 'himanshu': 1, 'behind': 1, 'natal': 1, 'fan': 1, 'daughter': 1, 'healer': 1, 'suicide': 1, 'affairs': 1, 'functional': 2, 'experience': 5, 'moderately': 1, 'coded': 1, 'vira': 3, 'teacher': 1, 'pointers': 1, 'designed': 1, 'freeing': 1, 'shiv': 1, '6k': 1, 'strcpy': 1, '94041': 1, 'imperative': 2, 'versions': 1, 'â»': 2, 'calculus': 1, 'generic': 2, 'type': 1, '327': 1, 'getti': 1, 'truck': 1, 'bomber': 1, 'ca': 5, 'elv': 1, '29': 1, 'cross': 1, 'goods': 1, 'simply': 1, 'client': 3, 'general': 1, 'domain': 1, 'managers': 2, 'naira': 1, 'strictly': 1, 'internet': 2, 'partners': 2, 'million': 2, 'nigeria': 3, 'goal': 2, 'cushion': 1, 'dollars': 1, 'exchange': 1, 'subsidy': 1, 'simple': 2, 'nigerians': 1, 'directly': 1, 'clients': 2, 'requirements': 5, '4000': 1, 'removal': 1, 'approved': 1, '3500': 1, 'required': 5, 'services': 8, '5000': 2, 'independently': 1, 'player': 1, 'earnings': 1, 'prices': 2, '850': 1, 'hereâ\\x80\\x99s': 4, 'b': 1, 'per': 2, '250': 1, 'etaâ\\x80\\x99': 1, 'nairobi': 1, 'improve': 2, 'buttons': 1, 'bolt': 2, 'rides': 2, 'measures': 1, 'discount': 1, 'until': 3, 'journeys': 1, 'kes': 1, 'identity': 2, 'travels': 1, 'emergency': 1, 'john': 5, 'assist': 1, 'rider': 1, 'â\\x80\\x98share': 1, 'trip': 2, 'safety': 1, 'verify': 3, 'kenya': 2, 'boltâ\\x80\\x99s': 1, 'choosing': 2, 'port': 1, 'abuja': 1, '01': 1, 'enrolment': 1, 'attached': 3, 'enquiries': 1, 'multilingual': 1, '2712005': 1, 'send': 5, 'accessbankplc': 1, 'mr': 1, 'centers': 1, 'contactcenter': 1, 'verification': 3, 'bvn': 1, 'branches': 1, 'lagos': 2, 'uzochukwu': 1, 'harcourt': 1, 'default': 2, 'website': 6, 'main': 2, 'outbound': 1, 'warm': 2, 'responsibilities': 1, 'invitation': 1, 'am': 4, 'skilled': 1, 'organizational': 1, 'strengths': 1, 'express': 2, 'initiative': 1, 'cv': 1, 'hiring': 2, 'assistant': 1, 'credentials': 2, 'solving': 1, 'worker': 1, 'motivated': 1, 'outlined': 1, 'convenience': 2, 'conducting': 1, 'response': 1, 'management': 1, 'capturing': 1, 'continuously': 1, 'engage': 1, 'zandi': 3, 'abilities': 1, 'quoted': 1, 'tamane': 3, 'catch': 1, 'calls': 1, 'junior': 1, 'greater': 1, '0659927404': 1, 'communicator': 1, 'quickly': 3, 'honour': 1, 'positions': 3, 'professional': 2, 'position': 5, 'enclosed': 1, 'qualities': 1, 'gladly': 1, 'refuse': 1, '214': 1, 'hurry': 1, 'usd': 2, 'illustrations': 1, 'canâ\\x80\\x99t': 1, 'stock': 2, 'secure': 4, 'checkup': 1, 'personalised': 1, 'confirming': 2, 'gives': 1, 'linton': 1, 'windows': 2, 'step': 3, 'confirm': 2, 'settings': 5, 'helps': 1, 'arrived': 2, 'getting': 1, 'djs': 1, 'fave': 1, 'celebs': 1, 'hifi': 1, 'happens': 1, 'music': 2, 'fans': 1, 'party': 1, 'enabling': 1, 'explain': 1, '20th': 1, 'profitable': 1, 'automatically': 3, 'while': 5, 'thursday': 2, 'ordinary': 1, 'little': 3, 'yes': 2, 'possible': 3, 'highly': 2, 'reveal': 1, 'hustle': 1, 'zoom': 1, 'almost': 2, 'space': 1, 'side': 2, 'hours': 2, 'host': 1, 'easily': 1, 'clone': 1, 'est': 1, 'attend': 1, '3pm': 1, 'tomorrow': 1, 'money': 4, 'microsoft': 2, 'outlook': 2, 'search': 2, 'joined': 1, 'posted': 1, 'agent': 1, 'criteria': 2, 'talent': 3, 'volunteer': 1, 'org': 1, 'matched': 1, 'keywords': 1, 'international': 5, 'ezejosephfor2018': 1, 'menlo': 1, 'intended': 2, 'willow': 1, 'platforms': 1, '1601': 1, 'â·': 1, 'wonâ\\x80\\x99t': 1, 'pdt': 1, 'alexxuzy': 1, 'threads': 1, 'logged': 1, '94025': 1, 'park': 1, 'x690b': 1, 'days': 4, 'remove': 2, 'infinix': 1, 'wasnâ\\x80\\x99t': 2, 'meta': 1, 'developing': 1, 'contributed': 1, 'atleast': 1, 'recheck': 1, 'bard': 2, 'satisfied': 1, 'doubts': 1, \"haven't\": 2, '200': 2, 'usage': 1, 'stuffs': 1, '1000': 1, 'inr': 1, 'contributions': 1, 'notification': 2, 'shipment': 1, 'notify': 1, 'norfolk': 2, 'ig': 2, 'estimated': 1, 'cancer': 1, 'order': 2, 'p65warnings': 1, '303': 1, 'store': 3, 'â©2023': 1, \"chanello's\": 1, 'risk': 1, 'va': 2, 'suite': 1, 'refer': 1, 'restaurant': 1, 'birth': 1, '940': 1, 'ending': 1, 'beer': 1, 'warning': 1, 'deliver': 1, 'alcohol': 1, '94107': 1, 'francisco': 1, 'tw': 1, 'ave': 1, 'coolers': 1, 'alcoholic': 1, 'gates': 1, 'maliek': 3, 'distilled': 1, 'wine': 1, 'delivery': 2, 'receipt': 1, 'bpa': 1, '44': 1, 'spirits': 1, 'pregnancy': 1, '23517': 1, 'neighborhood': 1, 'fb': 2, 'fellow': 1, 'confirmation': 3, 'prop': 1, 'drinking': 1, '2nd': 1, '32': 2, '8680': 1, 'beverages': 1, '31': 1, 'doordash': 1, 'usa': 1, '800': 1, 'visa': 1, 'pizza': 1, 'gov': 1, 'san': 2, 'defects': 1, 'investment': 1, 'pressures': 1, \"shilling's\": 1, 'kevin': 1, 'clientservices': 1, 'wekesa': 1, 'ochieng': 1, 'onlinetraining': 1, 'needs': 1, 'cytonn': 1, 'macroeconomic': 1, \"kenya's\": 1, 'state': 2, 'remains': 1, 'samuel': 1, 'investments': 2, '11am': 1, 'continuous': 1, 'ongoing': 1, '0709101200': 1, '10am': 1, 'condition': 1, 'challenging': 1, 'inflationary': 1, 'q2': 1, 'asset': 1, 'depreciation': 1, 'economy': 1, 'analysts': 1, 'monday': 2, 'separate': 2, 'transportation': 1, 'tombstone': 1, 'north': 2, 'si43': 1, 'tombstones': 1, 'si44': 1, 'aliwal': 1, 'quotation': 1, 'quotations': 1, 'bloemfontein': 1, 'aluminium': 1, 'screenshot': 1, 'guys': 1, 'ledger': 1, 'houses': 1, 'liabilities': 1, 'attachments': 1, 'lost': 1, 'proceeded': 1, 'footnote': 1, 'copying': 1, 'aptitude': 1, 'swept': 1, 'relate': 1, 'regret': 2, 'reliance': 1, 'addressee': 1, 'align': 1, 'expressing': 1, 'letter': 2, 'providing': 1, 'confidential': 1, 'amended': 1, 'arrive': 1, 'incomplete': 1, 'sender': 1, 'viruses': 1, 'legally': 1, 'unlawful': 1, 'original': 1, 'kpmg': 1, 'engagement': 1, 'private': 1, 'participated': 1, 'obligations': 2, 'conclusions': 1, 'entities': 1, 'might': 3, 'contained': 2, 'destroy': 1, 'privileged': 1, 'acquisition': 1, 'governing': 1, 'copies': 1, 'recipient': 1, 'contain': 3, 'aspirations': 1, 'confirms': 1, 'expressed': 1, 'proceed': 1, 'official': 1, 'describes': 2, 'guarantee': 1, 'invested': 1, 'omitted': 1, 'corrupted': 1, 'communications': 2, 'having': 1, 'destroyed': 1, 'disappointment': 1, 'delete': 1, 'opinions': 1, 'solely': 1, 'neither': 2, 'recruitment': 2, 'distribution': 1, 'behalf': 1, 'heading': 1, 'careers': 1, 'error': 1, 'disclosure': 1, 'advice': 1, 'entity': 1, 'local': 2, 'exploring': 1, 'nor': 1, 'structure': 1, 'communication': 1, 'firm': 2, 'endorsed': 1, 'mail': 2, 'commend': 1, 'intercepted': 1, 'distinct': 1, 'graduate': 1, 'prohibited': 1, 'continually': 1, 'antivirus': 1, 'governance': 1, 'research': 2, 'openings': 1, 'ababa': 1, 'economics': 1, 'livestock': 1, 'ethiopia': 1, 'ilri': 1, 'institute': 1, 'title': 1, 'external': 1, 'location': 5, 'socio': 1, 'addis': 1, 'internal': 1, 'tid': 1, 'careful': 1, 'tickethash': 1, 'attention': 2, 'shmykfq0usb8lluap635y67lr1yigcsiqwn8but5gcoznqn69qquabrgpbmrcblui34exlazilz6ks4ebbxpdyyoiznxnhiprslu2wctvp8acvaqayvm0ul0yccaga3qjjw7rbrmhqyu0upl2xdmq': 1, '05': 1, 'hash': 1, 'reply': 4, 'ps': 2, 'cpx': 1, 'narayanan': 1, 'surveys': 1, '238212': 1, '04': 1, 'ticket': 1, 'hidden': 1, 'too': 1, 'php': 1, 'youre': 1, 'happiness': 1, 'checking': 1, 'decisive': 1, 'building': 2, 'connections': 1, 'natural': 1, 'recommending': 1, 'executive': 1, 'personalities': 1, 'capable': 1, 'immediate': 2, 'fully': 1, 'rapport': 1, 'pressure': 1, 'earliest': 1, 'likewise': 1, 'situations': 1, 'cultivating': 1, 'productive': 1, 'speak': 1, 'negotiator': 1, 'navigating': 1, 'resume': 1, 'subscriber': 1, 'subscription': 1, 'snap': 1, 'unless': 2, 'renewal': 1, \"that'll\": 1, 'snapchat': 1, 'charged': 1, 'notified': 1, 'whole': 1, 'utc': 1, 'snapchatplus': 1, 'anytime': 3, 'renew': 1, 'hence': 1, 'summary': 1, 'gold': 1, 'shaping': 1, 'panel': 1, 'icon': 2, 'sfimg': 1, 'csas': 1, 'thread': 1, 'affiliate': 1, 'forum': 1, \"gery's\": 1, 'csa': 1, 'icons': 1, 'â\\x80\\x94just': 1, 'envelope': 1, 'detailed': 1, 'techâ\\x84¢': 1, 'mailer': 1, 'condensed': 1, 'poas': 1, 'mailing': 1, 'system': 1, 'psas': 1, 'previous': 1, 'id': 3, 'network': 1, 'soon': 3, 'converted': 1, 'sfi': 1, 'primarily': 1, 'rank': 1, 'window': 1, 'display': 1, 'version': 1, 'mailings': 1, 'forfeited': 1, '240777': 1, 'beside': 1, 'modifications': 1, 'genealogy': 1, 'eas': 1, \"who've\": 1, 'builder': 1, 'announcement': 2, 'checked': 1, 'news': 1, 'coming': 2, 'super': 2, 'small': 1, 'shortly': 1, 'group': 2, 'affiliatesâ\\x80\\x94including': 1, 'greetings': 1, 'investigate': 1, 'sir15112294': 1, 'automated': 1, 'protection': 4, 'shine': 1, 'trademark': 2, 'yt': 1, 'texture': 1, 'instantly': 2, 'blazer': 1, 'heels': 1, 'stores': 1, 'viewing': 1, 'blue': 1, 'trouble': 1, 'subscribed': 1, 'wardrobe': 1, 'sunny': 1, 'colour': 1, 'faq': 1, 'style': 1, 'classic': 1, 'comfortable': 1, 'bonito': 1, 'contrast': 1, 'white': 1, 'occasion': 2, 'elevate': 1, 'green': 1, 'fuss': 1, 'durable': 1, 'pattern': 1, 'cart': 1, 'matching': 1, 'electric': 1, 'ltd': 3, 'denim': 1, 'outfit': 1, 'fabric': 1, 'pink': 1, 'red': 1, 'pairing': 1, 'lovebonito': 1, 'depending': 2, 'personality': 1, 'pair': 1, 'vibrant': 1, 'layering': 1, 'sneakers': 1, 'jeans': 1, 'yellow': 1, 'opted': 1, 'pte': 2, 'duty': 1, 'weâ\\x80\\x99d': 1, 'emerald': 1, 'bestsellers': 1, 'analyst': 1, 'assurance': 1, 'sukses': 1, 'integrasi': 1, 'sidoarjo': 1, 'lamongan': 1, 'karir': 1, 'partman': 1, 'jenjang': 1, 'alpha': 1, 'telemarketing': 1, 'master': 1, 'mitra': 1, 'sleman': 1, 'exa': 1, 'telmark': 1, 'iota': 1, 'insentif': 1, 'piaggio': 1, 'mat': 1, 'qa': 1, 'solusi': 1, 'cabang': 1, 'mobile': 5, 'vespa': 1, 'price': 2, 'plans': 1, 'commitments': 1, 'requested': 1, 'contracts': 1, 'creating': 1, 'info': 1, 'entertainment': 1, 'netflix': 1, 'low': 2, 'movie': 1, 'unlimited': 1, 'tv': 3, 'sending': 1, 'youâ\\x80\\x99ll': 1, '30th': 2, 'file': 2, 'ke': 2, 'kufile': 2, 'obligation': 1, 'kuliko': 2, 'callcentre': 2, 'ignore': 2, 'kumbuka': 2, '099': 2, '999': 2, 'left': 2, 'kra': 2, '020': 2, 'za': 1, 'cooperation': 1, 'close': 1, 'filed': 2, 'rahisi': 2, 'tax': 4, 'ni': 2, 'completion': 1, 'final': 1, 'deadline': 2, '0711': 2, 'serve': 2, 'cbc': 1, 'filing': 2, 'expires': 1, 'itax': 2, 'returns': 2, 'kufanya': 1, 'kucommute': 1, 'kukinyesha': 1, 'specific': 2, 'essence': 1, 'hesitate': 1, 'begin': 1, '3pl': 1, 'fraudulent': 1, 'preventing': 1, 'holding': 1, 'operating': 1, 'monetary': 1, 'statutory': 1, 'transaction': 1, 'jessica': 1, 'apps': 1, 'appear': 2, '735d85cc67b89': 1, 'exemption': 1, 'en': 2, '1999': 1, 'linkedin': 1, 'paypal': 2, 'transitional': 1, 'phishing': 1, 'act': 2, 'rt000231': 1, 'toloka': 1, 'singapore': 1, '64980345s32777037': 1, 'license': 2, 'authority': 2, 'drops': 1, 'accepting': 1, 'mutually': 1, 'passengers': 1, 'words': 1, \"driver's\": 1, 'positive': 1, 'stopped': 1, 'threshold': 1, 'ride': 1, 'lightly': 1, 'rating': 1, 'measure': 1, 'better': 1, 'try': 2, 'ratings': 1, 'shocky': 1, 'owing': 1, 'sms': 1, 'fix': 1, 'lisence': 1, 'licence': 1, 'registering': 1, 'warmest': 1, 'therefore': 1, 'critical': 1, 'restocking': 1, 'lemon': 1, 'recruiting': 1, 'labeler': 1, 'advertised': 1, 'mazenauer': 1, 'ondieki': 1, 'alain': 1, 'motachwa': 1, 'optimally': 1, 'annotator': 1, 'remote': 1, 'initiate': 1, 'fanat': 2, 'helping': 1, 'manage': 3, 'nomer': 2, 'incoming': 2, 'twitch': 2, 'linked': 1, 'suspect': 1, 'maintain': 1, 'papicha': 2, 'accept': 3, 'mandatory': 1, 'amphitheatre': 1, 'llc': 1, 'improved': 1, 'clarity': 1, 'certainty': 1, '94043': 1, 'weâ\\x80\\x99ve': 1, 'clarify': 1, 'remain': 1, 'changed': 2, 'document': 2, 'readability': 1, '1600': 1, 'increased': 1, 'legal': 1, 'easier': 2, 'understand': 2, 'expect': 1, 'family': 1, 'parkway': 1, 'glance': 1, 'implementing': 1, 'processor': 1, 'relation': 1, 'licensed': 2, 'provider': 2, 'tala': 1, 'controller': 1, 'reset': 1, 'screen': 1, 'folks': 1, 'licenses': 1, '95131': 1, 'located': 2, 'transmission': 1, '2211': 1, 'jose': 1, 'â\\x80\\x9cforgot': 1, 'accessed': 3, 'â\\x80\\x9d': 1, 'venmo': 1, 'pursuant': 2, \"'s\": 1, 'transfer': 1, 'tap': 1, '3f4b3e6c4': 1, 'hopefully': 1, 'button': 1, 'ownership': 1, 'vibe': 1, 'favourite': 1, 'steps': 1, 'apple': 1, 'thousands': 1, 'spotify': 1, 'artists': 1, 'qualify': 1, 'song': 1, 'listen': 2, 'telegram': 1, 'select': 2, 'moneymakingcentral': 1, 'downside': 1, 'perks': 1, 'sick': 1, 'studied': 1, 'da': 1, 'mathivanan': 1, '461': 1, 'engineering': 1, 'pack': 1, '92': 1, 'easwari': 1, 'ruban': 1, 'truth': 1, 'ugly': 1, 'telling': 1, '3k': 1, 'six': 1, 'seems': 1, 'abs': 1, 'firstly': 1, 'srm': 1, 'spoon': 1, 'mlm': 1, 'ryan': 1, 'fed': 1, 'gunness': 1, 'demand': 1, 'marketing': 1, 'recruit': 1, 'numbers': 1, 'biz': 1, 'acceptability': 1, 'turkish': 1, 'translation': 1, 'status': 1, 'portal': 1, 'certifications': 1, 'isaac': 1, 'raters': 1, 'luck': 1, 'unusual': 2, '99': 1, 'axis': 1, '866': 1, '9728320': 1, 'accordance': 2, 'applicable': 1, 'stabilizer': 1, '81226': 1, 'kit': 1, 'ships': 1, 'youth': 1, 'invoice': 1, 'tracking': 1, 'items': 1, 'weâ\\x80\\x99ll': 1, '6549862': 1, \"seller's\": 1, '211': 1, 'iphone': 1, 'dunk': 1, '98108': 1, 'states': 1, 'hohem': 1, 'policies': 1, 'isteady': 1, 'm6': 1, 'arriving': 1, '209': 1, 'contains': 2, 'light': 1, 'item': 1, 'noted': 1, 'fill': 1, 'ship': 1, 'sensor': 1, 'seller': 1, 'payments': 1, 'magnetic': 1, 'washington': 1, 'qty': 1, 'f': 1, 'nike': 1, 'gimbal': 1, '216': 1, 'comâ\\x80\\x99s': 1, 'laws': 2, '111': 1, 'ls': 1, '1075': 1, 'placing': 1, '1226': 1, 'emergencies': 1, 'feel': 1, 'vacancies': 1, 'suitable': 1, 'maiduguri': 1, 'child': 1, 'kilimall': 1, 'exponentially': 1, 'appliances': 1, 'healthcare': 1, 'mission': 1, 'shoes': 1, 'base': 1, 'span': 1, \"africa's\": 1, 'phones': 1, 'offering': 1, 'clothing': 1, 'africa': 1, 'computers': 1, 'continues': 1, 'launched': 1, '2014': 1, 'largest': 1, 'categories': 1, 'baby': 1, 'mall': 1, 'grow': 1, 'included': 1, 'unlocked': 1, 'steam': 1, 'valve': 1, 'recovering': 1, 'ru': 1, 'lock': 1, '69': 1, 'gameplay': 1, 'unable': 1, 'locked': 1, 'enabled': 1, 'vladis163rus': 1, 'property': 1, 'changing': 1, \"support's\": 1, 'owners': 1, 'corporation': 1, 'respective': 1, '179': 1, 'attempt': 1, 'unlocking': 1, 'steampowered': 1, 'generated': 1, '6vcc5': 1, 'web': 1, 'vac': 1, '155': 1, \"steam's\": 1, '178': 1, 'guard': 1, 'regulated': 1, 'dyah': 1, 'hyperlinks': 1, 'protecting': 1, 'institutions': 1, 'unique': 1, 'purely': 1, '7ad': 1, 'clear': 1, 'readable': 1, 'heating': 1, 'corners': 1, 'mastercard': 1, 'skrill': 1, 'issued': 1, 'conduct': 1, 'authorised': 1, 'makers': 1, 'couldnâ\\x80\\x99t': 1, 'meets': 1, 'includes': 1, 'gif': 1, 'gresnot': 1, 'electronic': 1, 'jpg': 1, 'edges': 1, 'format': 1, 'mortgage': 1, '04260907': 1, 'residential': 1, 'regulations': 1, 'utility': 1, 'documents': 1, 'stamped': 1, 'insurance': 1, 'similar': 1, 'ec2v': 1, 'png': 1, 'within': 1, 'frn': 1, '900001': 1, 'jpeg': 1, 'landline': 1, 'statements': 1, 'electricity': 1, 'sewer': 1, 'rejected': 1, 'cable': 1, 'technology': 1, 'issuance': 1, 'interact': 1, 'cookies': 1, 'movers': 1, 'solution': 1, 'insignia': 1, 'debit': 1, 'correspondence': 1, 'government': 1, 'bmp': 1, 'issuerâ\\x80\\x99s': 1, 'prepaid': 1, 'court': 1, 'tag': 1, 'bit': 1, 'telephone': 1, 'paysafe': 1, 'uploaded': 1, 'accurate': 1, 'mastercardâ©': 1, 'gas': 1, 'bill': 1, 'water': 1, 'redeem': 1, 'fulfillment': 1, 'virtualrewardcenter': 1, 'explorers': 1, 'instructions': 1, 'india': 1, 'expire': 1, \"you've\": 1})\n"
          ]
        }
      ],
      "source": [
        "# Cantidad de veces quea aparece cada palabra en cada \"documento\"\n",
        "# (1 documento = 1 caso de entrada)\n",
        "print(tok.word_docs)"
      ]
    },
    {
      "cell_type": "markdown",
      "metadata": {
        "id": "uYfhWVLLzKVO"
      },
      "source": [
        "\n",
        "### Definir el modelo"
      ]
    },
    {
      "cell_type": "code",
      "execution_count": 33,
      "metadata": {
        "id": "5UXA5hQfWVX1"
      },
      "outputs": [
        {
          "name": "stderr",
          "output_type": "stream",
          "text": [
            "c:\\Users\\Lorda\\Source\\Repos\\CEIA\\len-nat\\.env\\lib\\site-packages\\keras\\src\\layers\\core\\embedding.py:93: UserWarning: Do not pass an `input_shape`/`input_dim` argument to a layer. When using Sequential models, prefer using an `Input(shape)` object as the first layer in the model instead.\n",
            "  super().__init__(**kwargs)\n"
          ]
        },
        {
          "data": {
            "text/html": [
              "<pre style=\"white-space:pre;overflow-x:auto;line-height:normal;font-family:Menlo,'DejaVu Sans Mono',consolas,'Courier New',monospace\"><span style=\"font-weight: bold\">Model: \"sequential\"</span>\n",
              "</pre>\n"
            ],
            "text/plain": [
              "\u001b[1mModel: \"sequential\"\u001b[0m\n"
            ]
          },
          "metadata": {},
          "output_type": "display_data"
        },
        {
          "data": {
            "text/html": [
              "<pre style=\"white-space:pre;overflow-x:auto;line-height:normal;font-family:Menlo,'DejaVu Sans Mono',consolas,'Courier New',monospace\">┏━━━━━━━━━━━━━━━━━━━━━━━━━━━━━━━━━┳━━━━━━━━━━━━━━━━━━━━━━━━┳━━━━━━━━━━━━━━━┓\n",
              "┃<span style=\"font-weight: bold\"> Layer (type)                    </span>┃<span style=\"font-weight: bold\"> Output Shape           </span>┃<span style=\"font-weight: bold\">       Param # </span>┃\n",
              "┡━━━━━━━━━━━━━━━━━━━━━━━━━━━━━━━━━╇━━━━━━━━━━━━━━━━━━━━━━━━╇━━━━━━━━━━━━━━━┩\n",
              "│ embedding (<span style=\"color: #0087ff; text-decoration-color: #0087ff\">Embedding</span>)           │ (<span style=\"color: #00d7ff; text-decoration-color: #00d7ff\">None</span>, <span style=\"color: #00d7ff; text-decoration-color: #00d7ff\">None</span>, <span style=\"color: #00af00; text-decoration-color: #00af00\">50</span>)       │       <span style=\"color: #00af00; text-decoration-color: #00af00\">149,950</span> │\n",
              "├─────────────────────────────────┼────────────────────────┼───────────────┤\n",
              "│ lstm (<span style=\"color: #0087ff; text-decoration-color: #0087ff\">LSTM</span>)                     │ (<span style=\"color: #00d7ff; text-decoration-color: #00d7ff\">None</span>, <span style=\"color: #00d7ff; text-decoration-color: #00d7ff\">None</span>, <span style=\"color: #00af00; text-decoration-color: #00af00\">100</span>)      │        <span style=\"color: #00af00; text-decoration-color: #00af00\">60,400</span> │\n",
              "├─────────────────────────────────┼────────────────────────┼───────────────┤\n",
              "│ lstm_1 (<span style=\"color: #0087ff; text-decoration-color: #0087ff\">LSTM</span>)                   │ (<span style=\"color: #00d7ff; text-decoration-color: #00d7ff\">None</span>, <span style=\"color: #00d7ff; text-decoration-color: #00d7ff\">None</span>, <span style=\"color: #00af00; text-decoration-color: #00af00\">100</span>)      │        <span style=\"color: #00af00; text-decoration-color: #00af00\">80,400</span> │\n",
              "├─────────────────────────────────┼────────────────────────┼───────────────┤\n",
              "│ dense (<span style=\"color: #0087ff; text-decoration-color: #0087ff\">Dense</span>)                   │ (<span style=\"color: #00d7ff; text-decoration-color: #00d7ff\">None</span>, <span style=\"color: #00d7ff; text-decoration-color: #00d7ff\">None</span>, <span style=\"color: #00af00; text-decoration-color: #00af00\">2999</span>)     │       <span style=\"color: #00af00; text-decoration-color: #00af00\">302,899</span> │\n",
              "└─────────────────────────────────┴────────────────────────┴───────────────┘\n",
              "</pre>\n"
            ],
            "text/plain": [
              "┏━━━━━━━━━━━━━━━━━━━━━━━━━━━━━━━━━┳━━━━━━━━━━━━━━━━━━━━━━━━┳━━━━━━━━━━━━━━━┓\n",
              "┃\u001b[1m \u001b[0m\u001b[1mLayer (type)                   \u001b[0m\u001b[1m \u001b[0m┃\u001b[1m \u001b[0m\u001b[1mOutput Shape          \u001b[0m\u001b[1m \u001b[0m┃\u001b[1m \u001b[0m\u001b[1m      Param #\u001b[0m\u001b[1m \u001b[0m┃\n",
              "┡━━━━━━━━━━━━━━━━━━━━━━━━━━━━━━━━━╇━━━━━━━━━━━━━━━━━━━━━━━━╇━━━━━━━━━━━━━━━┩\n",
              "│ embedding (\u001b[38;5;33mEmbedding\u001b[0m)           │ (\u001b[38;5;45mNone\u001b[0m, \u001b[38;5;45mNone\u001b[0m, \u001b[38;5;34m50\u001b[0m)       │       \u001b[38;5;34m149,950\u001b[0m │\n",
              "├─────────────────────────────────┼────────────────────────┼───────────────┤\n",
              "│ lstm (\u001b[38;5;33mLSTM\u001b[0m)                     │ (\u001b[38;5;45mNone\u001b[0m, \u001b[38;5;45mNone\u001b[0m, \u001b[38;5;34m100\u001b[0m)      │        \u001b[38;5;34m60,400\u001b[0m │\n",
              "├─────────────────────────────────┼────────────────────────┼───────────────┤\n",
              "│ lstm_1 (\u001b[38;5;33mLSTM\u001b[0m)                   │ (\u001b[38;5;45mNone\u001b[0m, \u001b[38;5;45mNone\u001b[0m, \u001b[38;5;34m100\u001b[0m)      │        \u001b[38;5;34m80,400\u001b[0m │\n",
              "├─────────────────────────────────┼────────────────────────┼───────────────┤\n",
              "│ dense (\u001b[38;5;33mDense\u001b[0m)                   │ (\u001b[38;5;45mNone\u001b[0m, \u001b[38;5;45mNone\u001b[0m, \u001b[38;5;34m2999\u001b[0m)     │       \u001b[38;5;34m302,899\u001b[0m │\n",
              "└─────────────────────────────────┴────────────────────────┴───────────────┘\n"
            ]
          },
          "metadata": {},
          "output_type": "display_data"
        },
        {
          "data": {
            "text/html": [
              "<pre style=\"white-space:pre;overflow-x:auto;line-height:normal;font-family:Menlo,'DejaVu Sans Mono',consolas,'Courier New',monospace\"><span style=\"font-weight: bold\"> Total params: </span><span style=\"color: #00af00; text-decoration-color: #00af00\">593,649</span> (2.26 MB)\n",
              "</pre>\n"
            ],
            "text/plain": [
              "\u001b[1m Total params: \u001b[0m\u001b[38;5;34m593,649\u001b[0m (2.26 MB)\n"
            ]
          },
          "metadata": {},
          "output_type": "display_data"
        },
        {
          "data": {
            "text/html": [
              "<pre style=\"white-space:pre;overflow-x:auto;line-height:normal;font-family:Menlo,'DejaVu Sans Mono',consolas,'Courier New',monospace\"><span style=\"font-weight: bold\"> Trainable params: </span><span style=\"color: #00af00; text-decoration-color: #00af00\">593,649</span> (2.26 MB)\n",
              "</pre>\n"
            ],
            "text/plain": [
              "\u001b[1m Trainable params: \u001b[0m\u001b[38;5;34m593,649\u001b[0m (2.26 MB)\n"
            ]
          },
          "metadata": {},
          "output_type": "display_data"
        },
        {
          "data": {
            "text/html": [
              "<pre style=\"white-space:pre;overflow-x:auto;line-height:normal;font-family:Menlo,'DejaVu Sans Mono',consolas,'Courier New',monospace\"><span style=\"font-weight: bold\"> Non-trainable params: </span><span style=\"color: #00af00; text-decoration-color: #00af00\">0</span> (0.00 B)\n",
              "</pre>\n"
            ],
            "text/plain": [
              "\u001b[1m Non-trainable params: \u001b[0m\u001b[38;5;34m0\u001b[0m (0.00 B)\n"
            ]
          },
          "metadata": {},
          "output_type": "display_data"
        }
      ],
      "source": [
        "model = Sequential()\n",
        "\n",
        "# la primera capa es de embedding entrenable. Recordar que se puede variar el tamaño\n",
        "# del embedding a entrenar\n",
        "model.add(Embedding(input_dim=vocab_size+1, output_dim=50, input_shape=(None,)))\n",
        "\n",
        "model.add(LSTM(100, return_sequences=True))\n",
        "# model.add(Dropout(0.2))\n",
        "\n",
        "model.add(LSTM(100, return_sequences=True))\n",
        "# model.add(Dense(32, activation='relu'))\n",
        "\n",
        "# Predicción de clasificación con softmax\n",
        "# La salida es del tamaño del vocabulario\n",
        "model.add(Dense(vocab_size+1, activation='softmax'))\n",
        "\n",
        "\n",
        "# Clasificación multiple categórica --> loss = categorical_crossentropy\n",
        "# notar que usamos la versión Sparse para utilizar sólo índices en lugar de OHE\n",
        "model.compile(loss=SparseCategoricalCrossentropy(), optimizer='rmsprop')\n",
        "\n",
        "model.summary()"
      ]
    },
    {
      "cell_type": "markdown",
      "metadata": {
        "id": "YWK3z85sQfUe"
      },
      "source": [
        "Dado que por el momento no hay implementaciones adecuadas de la perplejidad que puedan operar en tiempo de entrenamiento, armaremos un Callback *ad-hoc* que la calcule en cada epoch.\n",
        "\n",
        "**Nota**: un Callback es una rutina gatillada por algún evento, son muy útiles para relevar datos en diferentes momentos del desarrollo del modelo. En este caso queremos hacer un cálculo cada vez que termina una epoch de entrenamiento."
      ]
    },
    {
      "cell_type": "code",
      "execution_count": 34,
      "metadata": {
        "id": "zUHX3r5JD-MG"
      },
      "outputs": [],
      "source": [
        "class PplCallback(keras.callbacks.Callback):\n",
        "\n",
        "    '''\n",
        "    Este callback es una solución ad-hoc para calcular al final de cada epoch de\n",
        "    entrenamiento la métrica de Perplejidad sobre un conjunto de datos de validación.\n",
        "    La perplejidad es una métrica cuantitativa para evaluar la calidad de la generación de secuencias.\n",
        "    Además implementa la finalización del entrenamiento (Early Stopping)\n",
        "    si la perplejidad no mejora después de `patience` epochs.\n",
        "    '''\n",
        "\n",
        "    def __init__(self, val_data, history_ppl, patience=5):\n",
        "      # El callback lo inicializamos con secuencias de validación sobre las cuales\n",
        "      # mediremos la perplejidad y la paciencia para detener el entrenamiento.\n",
        "      self.val_data = val_data\n",
        "\n",
        "      self.target = []\n",
        "      self.padded = []\n",
        "\n",
        "      count = 0\n",
        "      self.info = []\n",
        "      self.history_ppl = []\n",
        "      self.min_score = np.inf\n",
        "      self.patience_counter = 0\n",
        "      self.patience = patience\n",
        "\n",
        "      # nos movemos en todas las secuencias de los datos de validación\n",
        "      for seq in self.val_data:\n",
        "\n",
        "        len_seq = len(seq)\n",
        "        # armamos todas las subsecuencias\n",
        "        subseq = [seq[:i] for i in range(len_seq)]\n",
        "        self.target.extend([seq[i] for i in range(len_seq)])\n",
        "\n",
        "        if len(subseq)!=0:\n",
        "\n",
        "          self.padded.append(pad_sequences(subseq, maxlen=max_context_size, padding='pre'))\n",
        "\n",
        "          self.info.append((count,count+len_seq))\n",
        "          count += len_seq\n",
        "\n",
        "      self.padded = np.vstack(self.padded)\n",
        "\n",
        "\n",
        "    def on_epoch_end(self, epoch, logs=None):\n",
        "\n",
        "        # en `scores` iremos guardando la perplejidad de cada secuencia\n",
        "        scores = []\n",
        "\n",
        "        predictions = self.model.predict(self.padded,verbose=0)\n",
        "\n",
        "        # para cada secuencia de validación\n",
        "        for start,end in self.info:\n",
        "\n",
        "          # en `probs` iremos guardando las probabilidades de los términos target\n",
        "          probs = [predictions[idx_seq,-1,idx_vocab] for idx_seq, idx_vocab in zip(range(start,end),self.target[start:end])]\n",
        "\n",
        "          # calculamos la perplejidad por medio de logaritmos\n",
        "          scores.append(np.exp(-np.sum(np.log(probs))/(end-start)))\n",
        "\n",
        "        # promediamos todos los scores e imprimimos el valor promedio\n",
        "        current_score = np.mean(scores)\n",
        "        history_ppl.append(current_score)\n",
        "        print(f'\\n mean perplexity: {current_score} \\n')\n",
        "\n",
        "        # chequeamos si tenemos que detener el entrenamiento\n",
        "        if current_score < self.min_score:\n",
        "          self.min_score = current_score\n",
        "          self.model.save(\"my_model.keras\")\n",
        "          print(\"Saved new model!\")\n",
        "          self.patience_counter = 0\n",
        "        else:\n",
        "          self.patience_counter += 1\n",
        "          if self.patience_counter == self.patience:\n",
        "            print(\"Stopping training...\")\n",
        "            self.model.stop_training = True\n"
      ]
    },
    {
      "cell_type": "markdown",
      "metadata": {
        "id": "8HBZIwR0gruA"
      },
      "source": [
        "### Entrenamiento\n",
        "El entrenamiento del modelo supone un problema ya que el tamaño del dataset es grande y su periodo de entrenamiento bastante extenso. Intento integrar mi tarjeta gráfica al código para acelerar el cómputo pero no me es posible debido a dificultades con la version tensorflow para mi CUDA"
      ]
    },
    {
      "cell_type": "code",
      "execution_count": 35,
      "metadata": {},
      "outputs": [
        {
          "name": "stdout",
          "output_type": "stream",
          "text": [
            "GPUs disponibles:  0\n"
          ]
        }
      ],
      "source": [
        "# Verifica si TensorFlow detecta la GPU\n",
        "physical_devices = tf.config.list_physical_devices('GPU')\n",
        "print(\"GPUs disponibles: \", len(physical_devices))"
      ]
    },
    {
      "cell_type": "code",
      "execution_count": 58,
      "metadata": {
        "id": "oQq1PHDkxDvN"
      },
      "outputs": [
        {
          "name": "stdout",
          "output_type": "stream",
          "text": [
            "Epoch 1/20\n",
            "\u001b[1m4832/4832\u001b[0m \u001b[32m━━━━━━━━━━━━━━━━━━━━\u001b[0m\u001b[37m\u001b[0m \u001b[1m0s\u001b[0m 115ms/step - loss: 2.9730\n",
            " mean perplexity: 94807.42916558543 \n",
            "\n",
            "Saved new model!\n",
            "\u001b[1m4832/4832\u001b[0m \u001b[32m━━━━━━━━━━━━━━━━━━━━\u001b[0m\u001b[37m\u001b[0m \u001b[1m578s\u001b[0m 119ms/step - loss: 2.9728\n",
            "Epoch 2/20\n",
            "\u001b[1m4832/4832\u001b[0m \u001b[32m━━━━━━━━━━━━━━━━━━━━\u001b[0m\u001b[37m\u001b[0m \u001b[1m0s\u001b[0m 114ms/step - loss: 0.7774\n",
            " mean perplexity: 564995.8109351953 \n",
            "\n",
            "\u001b[1m4832/4832\u001b[0m \u001b[32m━━━━━━━━━━━━━━━━━━━━\u001b[0m\u001b[37m\u001b[0m \u001b[1m567s\u001b[0m 117ms/step - loss: 0.7774\n",
            "Epoch 3/20\n",
            "\u001b[1m4832/4832\u001b[0m \u001b[32m━━━━━━━━━━━━━━━━━━━━\u001b[0m\u001b[37m\u001b[0m \u001b[1m0s\u001b[0m 115ms/step - loss: 0.3034\n",
            " mean perplexity: 1002148.9778353301 \n",
            "\n",
            "\u001b[1m4832/4832\u001b[0m \u001b[32m━━━━━━━━━━━━━━━━━━━━\u001b[0m\u001b[37m\u001b[0m \u001b[1m569s\u001b[0m 118ms/step - loss: 0.3034\n",
            "Epoch 4/20\n",
            "\u001b[1m4832/4832\u001b[0m \u001b[32m━━━━━━━━━━━━━━━━━━━━\u001b[0m\u001b[37m\u001b[0m \u001b[1m0s\u001b[0m 114ms/step - loss: 0.2175\n",
            " mean perplexity: 1243631.4194726255 \n",
            "\n",
            "\u001b[1m4832/4832\u001b[0m \u001b[32m━━━━━━━━━━━━━━━━━━━━\u001b[0m\u001b[37m\u001b[0m \u001b[1m566s\u001b[0m 117ms/step - loss: 0.2175\n",
            "Epoch 5/20\n",
            "\u001b[1m4832/4832\u001b[0m \u001b[32m━━━━━━━━━━━━━━━━━━━━\u001b[0m\u001b[37m\u001b[0m \u001b[1m0s\u001b[0m 115ms/step - loss: 0.1873\n",
            " mean perplexity: 1721911.9888649601 \n",
            "\n",
            "\u001b[1m4832/4832\u001b[0m \u001b[32m━━━━━━━━━━━━━━━━━━━━\u001b[0m\u001b[37m\u001b[0m \u001b[1m572s\u001b[0m 118ms/step - loss: 0.1873\n",
            "Epoch 6/20\n",
            "\u001b[1m 168/4832\u001b[0m \u001b[37m━━━━━━━━━━━━━━━━━━━━\u001b[0m \u001b[1m8:51\u001b[0m 114ms/step - loss: 0.1785"
          ]
        },
        {
          "ename": "KeyboardInterrupt",
          "evalue": "",
          "output_type": "error",
          "traceback": [
            "\u001b[1;31m---------------------------------------------------------------------------\u001b[0m",
            "\u001b[1;31mKeyboardInterrupt\u001b[0m                         Traceback (most recent call last)",
            "Cell \u001b[1;32mIn[58], line 5\u001b[0m\n\u001b[0;32m      1\u001b[0m \u001b[38;5;66;03m# fiteamos, nótese el agregado del callback con su inicialización. El batch_size lo podemos seleccionar a mano\u001b[39;00m\n\u001b[0;32m      2\u001b[0m \u001b[38;5;66;03m# en general, lo mejor es escoger el batch más grande posible que minimice el tiempo de cada época.\u001b[39;00m\n\u001b[0;32m      3\u001b[0m \u001b[38;5;66;03m# En la variable `history_ppl` se guardarán los valores de perplejidad para cada época.\u001b[39;00m\n\u001b[0;32m      4\u001b[0m history_ppl \u001b[38;5;241m=\u001b[39m []\n\u001b[1;32m----> 5\u001b[0m hist \u001b[38;5;241m=\u001b[39m \u001b[43mmodel\u001b[49m\u001b[38;5;241;43m.\u001b[39;49m\u001b[43mfit\u001b[49m\u001b[43m(\u001b[49m\u001b[43mX\u001b[49m\u001b[43m,\u001b[49m\u001b[43m \u001b[49m\u001b[43my\u001b[49m\u001b[43m,\u001b[49m\u001b[43m \u001b[49m\u001b[43mepochs\u001b[49m\u001b[38;5;241;43m=\u001b[39;49m\u001b[38;5;241;43m20\u001b[39;49m\u001b[43m,\u001b[49m\u001b[43m \u001b[49m\u001b[43mcallbacks\u001b[49m\u001b[38;5;241;43m=\u001b[39;49m\u001b[43m[\u001b[49m\u001b[43mPplCallback\u001b[49m\u001b[43m(\u001b[49m\u001b[43mtokenized_sentences_val\u001b[49m\u001b[43m,\u001b[49m\u001b[43mhistory_ppl\u001b[49m\u001b[43m)\u001b[49m\u001b[43m]\u001b[49m\u001b[43m,\u001b[49m\u001b[43m \u001b[49m\u001b[43mbatch_size\u001b[49m\u001b[38;5;241;43m=\u001b[39;49m\u001b[38;5;241;43m64\u001b[39;49m\u001b[43m)\u001b[49m\n",
            "File \u001b[1;32mc:\\Users\\Lorda\\Source\\Repos\\CEIA\\len-nat\\.env\\lib\\site-packages\\keras\\src\\utils\\traceback_utils.py:117\u001b[0m, in \u001b[0;36mfilter_traceback.<locals>.error_handler\u001b[1;34m(*args, **kwargs)\u001b[0m\n\u001b[0;32m    115\u001b[0m filtered_tb \u001b[38;5;241m=\u001b[39m \u001b[38;5;28;01mNone\u001b[39;00m\n\u001b[0;32m    116\u001b[0m \u001b[38;5;28;01mtry\u001b[39;00m:\n\u001b[1;32m--> 117\u001b[0m     \u001b[38;5;28;01mreturn\u001b[39;00m fn(\u001b[38;5;241m*\u001b[39margs, \u001b[38;5;241m*\u001b[39m\u001b[38;5;241m*\u001b[39mkwargs)\n\u001b[0;32m    118\u001b[0m \u001b[38;5;28;01mexcept\u001b[39;00m \u001b[38;5;167;01mException\u001b[39;00m \u001b[38;5;28;01mas\u001b[39;00m e:\n\u001b[0;32m    119\u001b[0m     filtered_tb \u001b[38;5;241m=\u001b[39m _process_traceback_frames(e\u001b[38;5;241m.\u001b[39m__traceback__)\n",
            "File \u001b[1;32mc:\\Users\\Lorda\\Source\\Repos\\CEIA\\len-nat\\.env\\lib\\site-packages\\keras\\src\\backend\\tensorflow\\trainer.py:322\u001b[0m, in \u001b[0;36mTensorFlowTrainer.fit\u001b[1;34m(self, x, y, batch_size, epochs, verbose, callbacks, validation_split, validation_data, shuffle, class_weight, sample_weight, initial_epoch, steps_per_epoch, validation_steps, validation_batch_size, validation_freq)\u001b[0m\n\u001b[0;32m    320\u001b[0m logs \u001b[38;5;241m=\u001b[39m \u001b[38;5;28mself\u001b[39m\u001b[38;5;241m.\u001b[39mtrain_function(iterator)\n\u001b[0;32m    321\u001b[0m logs \u001b[38;5;241m=\u001b[39m \u001b[38;5;28mself\u001b[39m\u001b[38;5;241m.\u001b[39m_pythonify_logs(logs)\n\u001b[1;32m--> 322\u001b[0m \u001b[43mcallbacks\u001b[49m\u001b[38;5;241;43m.\u001b[39;49m\u001b[43mon_train_batch_end\u001b[49m\u001b[43m(\u001b[49m\u001b[43mstep\u001b[49m\u001b[43m,\u001b[49m\u001b[43m \u001b[49m\u001b[43mlogs\u001b[49m\u001b[43m)\u001b[49m\n\u001b[0;32m    323\u001b[0m \u001b[38;5;28;01mif\u001b[39;00m \u001b[38;5;28mself\u001b[39m\u001b[38;5;241m.\u001b[39mstop_training:\n\u001b[0;32m    324\u001b[0m     \u001b[38;5;28;01mbreak\u001b[39;00m\n",
            "File \u001b[1;32mc:\\Users\\Lorda\\Source\\Repos\\CEIA\\len-nat\\.env\\lib\\site-packages\\keras\\src\\callbacks\\callback_list.py:106\u001b[0m, in \u001b[0;36mCallbackList.on_train_batch_end\u001b[1;34m(self, batch, logs)\u001b[0m\n\u001b[0;32m    104\u001b[0m logs \u001b[38;5;241m=\u001b[39m logs \u001b[38;5;129;01mor\u001b[39;00m {}\n\u001b[0;32m    105\u001b[0m \u001b[38;5;28;01mfor\u001b[39;00m callback \u001b[38;5;129;01min\u001b[39;00m \u001b[38;5;28mself\u001b[39m\u001b[38;5;241m.\u001b[39mcallbacks:\n\u001b[1;32m--> 106\u001b[0m     \u001b[43mcallback\u001b[49m\u001b[38;5;241;43m.\u001b[39;49m\u001b[43mon_train_batch_end\u001b[49m\u001b[43m(\u001b[49m\u001b[43mbatch\u001b[49m\u001b[43m,\u001b[49m\u001b[43m \u001b[49m\u001b[43mlogs\u001b[49m\u001b[38;5;241;43m=\u001b[39;49m\u001b[43mlogs\u001b[49m\u001b[43m)\u001b[49m\n",
            "File \u001b[1;32mc:\\Users\\Lorda\\Source\\Repos\\CEIA\\len-nat\\.env\\lib\\site-packages\\keras\\src\\callbacks\\progbar_logger.py:58\u001b[0m, in \u001b[0;36mProgbarLogger.on_train_batch_end\u001b[1;34m(self, batch, logs)\u001b[0m\n\u001b[0;32m     57\u001b[0m \u001b[38;5;28;01mdef\u001b[39;00m \u001b[38;5;21mon_train_batch_end\u001b[39m(\u001b[38;5;28mself\u001b[39m, batch, logs\u001b[38;5;241m=\u001b[39m\u001b[38;5;28;01mNone\u001b[39;00m):\n\u001b[1;32m---> 58\u001b[0m     \u001b[38;5;28;43mself\u001b[39;49m\u001b[38;5;241;43m.\u001b[39;49m\u001b[43m_update_progbar\u001b[49m\u001b[43m(\u001b[49m\u001b[43mbatch\u001b[49m\u001b[43m,\u001b[49m\u001b[43m \u001b[49m\u001b[43mlogs\u001b[49m\u001b[43m)\u001b[49m\n",
            "File \u001b[1;32mc:\\Users\\Lorda\\Source\\Repos\\CEIA\\len-nat\\.env\\lib\\site-packages\\keras\\src\\callbacks\\progbar_logger.py:95\u001b[0m, in \u001b[0;36mProgbarLogger._update_progbar\u001b[1;34m(self, batch, logs)\u001b[0m\n\u001b[0;32m     92\u001b[0m \u001b[38;5;28mself\u001b[39m\u001b[38;5;241m.\u001b[39mseen \u001b[38;5;241m=\u001b[39m batch \u001b[38;5;241m+\u001b[39m \u001b[38;5;241m1\u001b[39m  \u001b[38;5;66;03m# One-indexed.\u001b[39;00m\n\u001b[0;32m     94\u001b[0m \u001b[38;5;28;01mif\u001b[39;00m \u001b[38;5;28mself\u001b[39m\u001b[38;5;241m.\u001b[39mverbose \u001b[38;5;241m==\u001b[39m \u001b[38;5;241m1\u001b[39m:\n\u001b[1;32m---> 95\u001b[0m     \u001b[38;5;28;43mself\u001b[39;49m\u001b[38;5;241;43m.\u001b[39;49m\u001b[43mprogbar\u001b[49m\u001b[38;5;241;43m.\u001b[39;49m\u001b[43mupdate\u001b[49m\u001b[43m(\u001b[49m\u001b[38;5;28;43mself\u001b[39;49m\u001b[38;5;241;43m.\u001b[39;49m\u001b[43mseen\u001b[49m\u001b[43m,\u001b[49m\u001b[43m \u001b[49m\u001b[38;5;28;43mlist\u001b[39;49m\u001b[43m(\u001b[49m\u001b[43mlogs\u001b[49m\u001b[38;5;241;43m.\u001b[39;49m\u001b[43mitems\u001b[49m\u001b[43m(\u001b[49m\u001b[43m)\u001b[49m\u001b[43m)\u001b[49m\u001b[43m,\u001b[49m\u001b[43m \u001b[49m\u001b[43mfinalize\u001b[49m\u001b[38;5;241;43m=\u001b[39;49m\u001b[38;5;28;43;01mFalse\u001b[39;49;00m\u001b[43m)\u001b[49m\n",
            "File \u001b[1;32mc:\\Users\\Lorda\\Source\\Repos\\CEIA\\len-nat\\.env\\lib\\site-packages\\keras\\src\\utils\\progbar.py:182\u001b[0m, in \u001b[0;36mProgbar.update\u001b[1;34m(self, current, values, finalize)\u001b[0m\n\u001b[0;32m    179\u001b[0m \u001b[38;5;28;01mif\u001b[39;00m finalize:\n\u001b[0;32m    180\u001b[0m     message \u001b[38;5;241m+\u001b[39m\u001b[38;5;241m=\u001b[39m \u001b[38;5;124m\"\u001b[39m\u001b[38;5;130;01m\\n\u001b[39;00m\u001b[38;5;124m\"\u001b[39m\n\u001b[1;32m--> 182\u001b[0m \u001b[43mio_utils\u001b[49m\u001b[38;5;241;43m.\u001b[39;49m\u001b[43mprint_msg\u001b[49m\u001b[43m(\u001b[49m\u001b[43mmessage\u001b[49m\u001b[43m,\u001b[49m\u001b[43m \u001b[49m\u001b[43mline_break\u001b[49m\u001b[38;5;241;43m=\u001b[39;49m\u001b[38;5;28;43;01mFalse\u001b[39;49;00m\u001b[43m)\u001b[49m\n\u001b[0;32m    183\u001b[0m \u001b[38;5;28mself\u001b[39m\u001b[38;5;241m.\u001b[39m_prev_total_width \u001b[38;5;241m=\u001b[39m total_width\n\u001b[0;32m    184\u001b[0m message \u001b[38;5;241m=\u001b[39m \u001b[38;5;124m\"\u001b[39m\u001b[38;5;124m\"\u001b[39m\n",
            "File \u001b[1;32mc:\\Users\\Lorda\\Source\\Repos\\CEIA\\len-nat\\.env\\lib\\site-packages\\keras\\src\\utils\\io_utils.py:99\u001b[0m, in \u001b[0;36mprint_msg\u001b[1;34m(message, line_break)\u001b[0m\n\u001b[0;32m     97\u001b[0m     \u001b[38;5;28;01melse\u001b[39;00m:\n\u001b[0;32m     98\u001b[0m         sys\u001b[38;5;241m.\u001b[39mstdout\u001b[38;5;241m.\u001b[39mwrite(message)\n\u001b[1;32m---> 99\u001b[0m     \u001b[43msys\u001b[49m\u001b[38;5;241;43m.\u001b[39;49m\u001b[43mstdout\u001b[49m\u001b[38;5;241;43m.\u001b[39;49m\u001b[43mflush\u001b[49m\u001b[43m(\u001b[49m\u001b[43m)\u001b[49m\n\u001b[0;32m    100\u001b[0m \u001b[38;5;28;01melse\u001b[39;00m:\n\u001b[0;32m    101\u001b[0m     logging\u001b[38;5;241m.\u001b[39minfo(message)\n",
            "File \u001b[1;32mc:\\Users\\Lorda\\Source\\Repos\\CEIA\\len-nat\\.env\\lib\\site-packages\\ipykernel\\iostream.py:609\u001b[0m, in \u001b[0;36mOutStream.flush\u001b[1;34m(self)\u001b[0m\n\u001b[0;32m    607\u001b[0m     \u001b[38;5;28mself\u001b[39m\u001b[38;5;241m.\u001b[39mpub_thread\u001b[38;5;241m.\u001b[39mschedule(evt\u001b[38;5;241m.\u001b[39mset)\n\u001b[0;32m    608\u001b[0m     \u001b[38;5;66;03m# and give a timeout to avoid\u001b[39;00m\n\u001b[1;32m--> 609\u001b[0m     \u001b[38;5;28;01mif\u001b[39;00m \u001b[38;5;129;01mnot\u001b[39;00m \u001b[43mevt\u001b[49m\u001b[38;5;241;43m.\u001b[39;49m\u001b[43mwait\u001b[49m\u001b[43m(\u001b[49m\u001b[38;5;28;43mself\u001b[39;49m\u001b[38;5;241;43m.\u001b[39;49m\u001b[43mflush_timeout\u001b[49m\u001b[43m)\u001b[49m:\n\u001b[0;32m    610\u001b[0m         \u001b[38;5;66;03m# write directly to __stderr__ instead of warning because\u001b[39;00m\n\u001b[0;32m    611\u001b[0m         \u001b[38;5;66;03m# if this is happening sys.stderr may be the problem.\u001b[39;00m\n\u001b[0;32m    612\u001b[0m         \u001b[38;5;28mprint\u001b[39m(\u001b[38;5;124m\"\u001b[39m\u001b[38;5;124mIOStream.flush timed out\u001b[39m\u001b[38;5;124m\"\u001b[39m, file\u001b[38;5;241m=\u001b[39msys\u001b[38;5;241m.\u001b[39m__stderr__)\n\u001b[0;32m    613\u001b[0m \u001b[38;5;28;01melse\u001b[39;00m:\n",
            "File \u001b[1;32m~\\AppData\\Local\\Programs\\Python\\Python310\\lib\\threading.py:600\u001b[0m, in \u001b[0;36mEvent.wait\u001b[1;34m(self, timeout)\u001b[0m\n\u001b[0;32m    598\u001b[0m signaled \u001b[38;5;241m=\u001b[39m \u001b[38;5;28mself\u001b[39m\u001b[38;5;241m.\u001b[39m_flag\n\u001b[0;32m    599\u001b[0m \u001b[38;5;28;01mif\u001b[39;00m \u001b[38;5;129;01mnot\u001b[39;00m signaled:\n\u001b[1;32m--> 600\u001b[0m     signaled \u001b[38;5;241m=\u001b[39m \u001b[38;5;28;43mself\u001b[39;49m\u001b[38;5;241;43m.\u001b[39;49m\u001b[43m_cond\u001b[49m\u001b[38;5;241;43m.\u001b[39;49m\u001b[43mwait\u001b[49m\u001b[43m(\u001b[49m\u001b[43mtimeout\u001b[49m\u001b[43m)\u001b[49m\n\u001b[0;32m    601\u001b[0m \u001b[38;5;28;01mreturn\u001b[39;00m signaled\n",
            "File \u001b[1;32m~\\AppData\\Local\\Programs\\Python\\Python310\\lib\\threading.py:324\u001b[0m, in \u001b[0;36mCondition.wait\u001b[1;34m(self, timeout)\u001b[0m\n\u001b[0;32m    322\u001b[0m \u001b[38;5;28;01melse\u001b[39;00m:\n\u001b[0;32m    323\u001b[0m     \u001b[38;5;28;01mif\u001b[39;00m timeout \u001b[38;5;241m>\u001b[39m \u001b[38;5;241m0\u001b[39m:\n\u001b[1;32m--> 324\u001b[0m         gotit \u001b[38;5;241m=\u001b[39m \u001b[43mwaiter\u001b[49m\u001b[38;5;241;43m.\u001b[39;49m\u001b[43macquire\u001b[49m\u001b[43m(\u001b[49m\u001b[38;5;28;43;01mTrue\u001b[39;49;00m\u001b[43m,\u001b[49m\u001b[43m \u001b[49m\u001b[43mtimeout\u001b[49m\u001b[43m)\u001b[49m\n\u001b[0;32m    325\u001b[0m     \u001b[38;5;28;01melse\u001b[39;00m:\n\u001b[0;32m    326\u001b[0m         gotit \u001b[38;5;241m=\u001b[39m waiter\u001b[38;5;241m.\u001b[39macquire(\u001b[38;5;28;01mFalse\u001b[39;00m)\n",
            "\u001b[1;31mKeyboardInterrupt\u001b[0m: "
          ]
        }
      ],
      "source": [
        "# fiteamos, nótese el agregado del callback con su inicialización. El batch_size lo podemos seleccionar a mano\n",
        "# en general, lo mejor es escoger el batch más grande posible que minimice el tiempo de cada época.\n",
        "# En la variable `history_ppl` se guardarán los valores de perplejidad para cada época.\n",
        "history_ppl = []\n",
        "hist = model.fit(X, y, epochs=5, callbacks=[PplCallback(tokenized_sentences_val,history_ppl)], batch_size=64)"
      ]
    },
    {
      "cell_type": "markdown",
      "metadata": {},
      "source": [
        "Tras un periodo de entrenamiento de 50 minutos, se finaliza la quinta época con un modelo con un valor de loss muy bajo, pero perprejidad altísima. Se detiene el entrenamiento en este punto (se modifica el codigo anterior, epochs a 5, pero no se vuelve a ejecutar la celda) y se renombra el fichero a my_model_epoch_5.keras\n",
        "\n",
        "Se procede a entrenar el modelo nuevamente. una única época"
      ]
    },
    {
      "cell_type": "code",
      "execution_count": 60,
      "metadata": {},
      "outputs": [
        {
          "name": "stderr",
          "output_type": "stream",
          "text": [
            "c:\\Users\\Lorda\\Source\\Repos\\CEIA\\len-nat\\.env\\lib\\site-packages\\keras\\src\\layers\\core\\embedding.py:93: UserWarning: Do not pass an `input_shape`/`input_dim` argument to a layer. When using Sequential models, prefer using an `Input(shape)` object as the first layer in the model instead.\n",
            "  super().__init__(**kwargs)\n"
          ]
        }
      ],
      "source": [
        "model2 = Sequential()\n",
        "\n",
        "# la primera capa es de embedding entrenable. Recordar que se puede variar el tamaño\n",
        "# del embedding a entrenar\n",
        "model2.add(Embedding(input_dim=vocab_size+1, output_dim=50, input_shape=(None,)))\n",
        "\n",
        "model2.add(LSTM(100, return_sequences=True))\n",
        "# model.add(Dropout(0.2))\n",
        "\n",
        "model2.add(LSTM(100, return_sequences=True))\n",
        "# model.add(Dense(32, activation='relu'))\n",
        "\n",
        "# Predicción de clasificación con softmax\n",
        "# La salida es del tamaño del vocabulario\n",
        "model2.add(Dense(vocab_size+1, activation='softmax'))\n",
        "\n",
        "\n",
        "# Clasificación multiple categórica --> loss = categorical_crossentropy\n",
        "# notar que usamos la versión Sparse para utilizar sólo índices en lugar de OHE\n",
        "model2.compile(loss=SparseCategoricalCrossentropy(), optimizer='rmsprop')"
      ]
    },
    {
      "cell_type": "code",
      "execution_count": 61,
      "metadata": {},
      "outputs": [
        {
          "name": "stdout",
          "output_type": "stream",
          "text": [
            "\u001b[1m4832/4832\u001b[0m \u001b[32m━━━━━━━━━━━━━━━━━━━━\u001b[0m\u001b[37m\u001b[0m \u001b[1m0s\u001b[0m 122ms/step - loss: 3.0130\n",
            " mean perplexity: 76530.25114724306 \n",
            "\n",
            "Saved new model!\n",
            "\u001b[1m4832/4832\u001b[0m \u001b[32m━━━━━━━━━━━━━━━━━━━━\u001b[0m\u001b[37m\u001b[0m \u001b[1m612s\u001b[0m 126ms/step - loss: 3.0128\n"
          ]
        }
      ],
      "source": [
        "# fiteamos, nótese el agregado del callback con su inicialización. El batch_size lo podemos seleccionar a mano\n",
        "# en general, lo mejor es escoger el batch más grande posible que minimice el tiempo de cada época.\n",
        "# En la variable `history_ppl` se guardarán los valores de perplejidad para cada época.\n",
        "history_ppl = []\n",
        "hist = model2.fit(X, y, epochs=1, callbacks=[PplCallback(tokenized_sentences_val,history_ppl)], batch_size=64)"
      ]
    },
    {
      "cell_type": "code",
      "execution_count": 36,
      "metadata": {
        "id": "Rhy5hZN38qfO"
      },
      "outputs": [],
      "source": [
        "# Recargamos los modelos para hacer inferencia\n",
        "model_5 = keras.models.load_model('my_model_epoch_5.keras')\n",
        "model_1 = keras.models.load_model('my_model.keras')"
      ]
    },
    {
      "cell_type": "markdown",
      "metadata": {
        "id": "KN6Fg_BsxJe6"
      },
      "source": [
        "\n",
        "### Predicción de próxima palabra - modelo con 5 epocas"
      ]
    },
    {
      "cell_type": "code",
      "execution_count": 65,
      "metadata": {
        "id": "HNyBykvhzs7-"
      },
      "outputs": [
        {
          "name": "stdout",
          "output_type": "stream",
          "text": [
            "Running on local URL:  http://127.0.0.1:7860\n",
            "\n",
            "To create a public link, set `share=True` in `launch()`.\n"
          ]
        },
        {
          "data": {
            "text/html": [
              "<div><iframe src=\"http://127.0.0.1:7860/\" width=\"100%\" height=\"500\" allow=\"autoplay; camera; microphone; clipboard-read; clipboard-write;\" frameborder=\"0\" allowfullscreen></iframe></div>"
            ],
            "text/plain": [
              "<IPython.core.display.HTML object>"
            ]
          },
          "metadata": {},
          "output_type": "display_data"
        },
        {
          "name": "stdout",
          "output_type": "stream",
          "text": [
            "\u001b[1m1/1\u001b[0m \u001b[32m━━━━━━━━━━━━━━━━━━━━\u001b[0m\u001b[37m\u001b[0m \u001b[1m0s\u001b[0m 315ms/step\n",
            "\u001b[1m1/1\u001b[0m \u001b[32m━━━━━━━━━━━━━━━━━━━━\u001b[0m\u001b[37m\u001b[0m \u001b[1m0s\u001b[0m 17ms/step\n",
            "\u001b[1m1/1\u001b[0m \u001b[32m━━━━━━━━━━━━━━━━━━━━\u001b[0m\u001b[37m\u001b[0m \u001b[1m0s\u001b[0m 16ms/step\n",
            "\u001b[1m1/1\u001b[0m \u001b[32m━━━━━━━━━━━━━━━━━━━━\u001b[0m\u001b[37m\u001b[0m \u001b[1m0s\u001b[0m 17ms/step\n",
            "Keyboard interruption in main thread... closing server.\n"
          ]
        },
        {
          "data": {
            "text/plain": []
          },
          "execution_count": 65,
          "metadata": {},
          "output_type": "execute_result"
        }
      ],
      "source": [
        "def model_response(human_text):\n",
        "\n",
        "    # Encodeamos\n",
        "    encoded = tok.texts_to_sequences([human_text])[0]\n",
        "    # Si tienen distinto largo\n",
        "    encoded = pad_sequences([encoded], maxlen=max_context_size, padding='pre')\n",
        "\n",
        "    # Predicción softmax\n",
        "    y_hat = np.argmax(model_5.predict(encoded)[0,-1,:])\n",
        "\n",
        "\n",
        "    # Debemos buscar en el vocabulario la palabra\n",
        "    # que corresopnde al indice (y_hat) predicho por le modelo\n",
        "    out_word = ''\n",
        "    for word, index in tok.word_index.items():\n",
        "        if index == y_hat:\n",
        "            out_word = word\n",
        "            break\n",
        "\n",
        "    # Agrego la palabra a la frase predicha\n",
        "    return human_text + ' ' + out_word\n",
        "\n",
        "iface = gr.Interface(\n",
        "    fn=model_response,\n",
        "    inputs=[\"textbox\"],\n",
        "    outputs=\"text\")\n",
        "\n",
        "iface.launch(debug=True)"
      ]
    },
    {
      "cell_type": "markdown",
      "metadata": {},
      "source": [
        "### Predicción de próxima palabra - modelo con 1 epoca"
      ]
    },
    {
      "cell_type": "code",
      "execution_count": 66,
      "metadata": {},
      "outputs": [
        {
          "name": "stdout",
          "output_type": "stream",
          "text": [
            "Running on local URL:  http://127.0.0.1:7860\n",
            "\n",
            "To create a public link, set `share=True` in `launch()`.\n"
          ]
        },
        {
          "data": {
            "text/html": [
              "<div><iframe src=\"http://127.0.0.1:7860/\" width=\"100%\" height=\"500\" allow=\"autoplay; camera; microphone; clipboard-read; clipboard-write;\" frameborder=\"0\" allowfullscreen></iframe></div>"
            ],
            "text/plain": [
              "<IPython.core.display.HTML object>"
            ]
          },
          "metadata": {},
          "output_type": "display_data"
        },
        {
          "name": "stdout",
          "output_type": "stream",
          "text": [
            "\u001b[1m1/1\u001b[0m \u001b[32m━━━━━━━━━━━━━━━━━━━━\u001b[0m\u001b[37m\u001b[0m \u001b[1m0s\u001b[0m 149ms/step\n",
            "\u001b[1m1/1\u001b[0m \u001b[32m━━━━━━━━━━━━━━━━━━━━\u001b[0m\u001b[37m\u001b[0m \u001b[1m0s\u001b[0m 19ms/step\n",
            "\u001b[1m1/1\u001b[0m \u001b[32m━━━━━━━━━━━━━━━━━━━━\u001b[0m\u001b[37m\u001b[0m \u001b[1m0s\u001b[0m 17ms/step\n",
            "\u001b[1m1/1\u001b[0m \u001b[32m━━━━━━━━━━━━━━━━━━━━\u001b[0m\u001b[37m\u001b[0m \u001b[1m0s\u001b[0m 17ms/step\n",
            "\u001b[1m1/1\u001b[0m \u001b[32m━━━━━━━━━━━━━━━━━━━━\u001b[0m\u001b[37m\u001b[0m \u001b[1m0s\u001b[0m 16ms/step\n",
            "\u001b[1m1/1\u001b[0m \u001b[32m━━━━━━━━━━━━━━━━━━━━\u001b[0m\u001b[37m\u001b[0m \u001b[1m0s\u001b[0m 17ms/step\n",
            "Keyboard interruption in main thread... closing server.\n"
          ]
        },
        {
          "data": {
            "text/plain": []
          },
          "execution_count": 66,
          "metadata": {},
          "output_type": "execute_result"
        }
      ],
      "source": [
        "def model_response(human_text):\n",
        "\n",
        "    # Encodeamos\n",
        "    encoded = tok.texts_to_sequences([human_text])[0]\n",
        "    # Si tienen distinto largo\n",
        "    encoded = pad_sequences([encoded], maxlen=max_context_size, padding='pre')\n",
        "\n",
        "    # Predicción softmax\n",
        "    y_hat = np.argmax(model_1.predict(encoded)[0,-1,:])\n",
        "\n",
        "\n",
        "    # Debemos buscar en el vocabulario la palabra\n",
        "    # que corresopnde al indice (y_hat) predicho por le modelo\n",
        "    out_word = ''\n",
        "    for word, index in tok.word_index.items():\n",
        "        if index == y_hat:\n",
        "            out_word = word\n",
        "            break\n",
        "\n",
        "    # Agrego la palabra a la frase predicha\n",
        "    return human_text + ' ' + out_word\n",
        "\n",
        "iface = gr.Interface(\n",
        "    fn=model_response,\n",
        "    inputs=[\"textbox\"],\n",
        "    outputs=\"text\")\n",
        "\n",
        "iface.launch(debug=True)"
      ]
    },
    {
      "cell_type": "markdown",
      "metadata": {},
      "source": [
        "No puedo encontrar ninguna diferencia notable entre ambos modelos, pues ambos devuelven cadenas de texto conexas sintácticamente pero con ningun valor semántico."
      ]
    },
    {
      "cell_type": "markdown",
      "metadata": {
        "id": "mCeMWWupxN1-"
      },
      "source": [
        "### Generación de secuencias"
      ]
    },
    {
      "cell_type": "code",
      "execution_count": 37,
      "metadata": {
        "id": "bwbS_pfhxvB3"
      },
      "outputs": [],
      "source": [
        "def generate_seq(model, tokenizer, seed_text, max_length, n_words):\n",
        "    \"\"\"\n",
        "        Exec model sequence prediction\n",
        "\n",
        "        Args:\n",
        "            model (keras): modelo entrenado\n",
        "            tokenizer (keras tokenizer): tonenizer utilizado en el preprocesamiento\n",
        "            seed_text (string): texto de entrada (input_seq)\n",
        "            max_length (int): máxima longitud de la sequencia de entrada\n",
        "            n_words (int): números de palabras a agregar a la sequencia de entrada\n",
        "        returns:\n",
        "            output_text (string): sentencia con las \"n_words\" agregadas\n",
        "    \"\"\"\n",
        "    output_text = seed_text\n",
        "\t  # generate a fixed number of words\n",
        "    for _ in range(n_words):\n",
        "\t\t  # Tokenizamos\n",
        "      encoded = tokenizer.texts_to_sequences([output_text])[0]\n",
        "\n",
        "\t\t  # Si tienen distinto largo\n",
        "      encoded = pad_sequences([encoded], maxlen=max_length, padding='pre')\n",
        "\n",
        "\t\t  # Predicción softmax\n",
        "      y_hat = np.argmax(model.predict(encoded)[0,-1,:])\n",
        "\n",
        "      # Vamos concatenando las predicciones\n",
        "      out_word = ''\n",
        "\n",
        "      # Debemos buscar en el vocabulario la palabra\n",
        "      # que corresopnde al indice (y_hat) predicho por le modelo\n",
        "      for word, index in tokenizer.word_index.items():\n",
        "        if index == y_hat:\n",
        "          out_word = word\n",
        "          break\n",
        "\n",
        "\t\t  # Agrego las palabras a la frase predicha\n",
        "      output_text += ' ' + out_word\n",
        "\n",
        "    return output_text"
      ]
    },
    {
      "cell_type": "code",
      "execution_count": 38,
      "metadata": {
        "id": "JoFqRC5pxzqS"
      },
      "outputs": [
        {
          "name": "stdout",
          "output_type": "stream",
          "text": [
            "\u001b[1m1/1\u001b[0m \u001b[32m━━━━━━━━━━━━━━━━━━━━\u001b[0m\u001b[37m\u001b[0m \u001b[1m0s\u001b[0m 159ms/step\n",
            "\u001b[1m1/1\u001b[0m \u001b[32m━━━━━━━━━━━━━━━━━━━━\u001b[0m\u001b[37m\u001b[0m \u001b[1m0s\u001b[0m 15ms/step\n",
            "\u001b[1m1/1\u001b[0m \u001b[32m━━━━━━━━━━━━━━━━━━━━\u001b[0m\u001b[37m\u001b[0m \u001b[1m0s\u001b[0m 13ms/step\n",
            "\u001b[1m1/1\u001b[0m \u001b[32m━━━━━━━━━━━━━━━━━━━━\u001b[0m\u001b[37m\u001b[0m \u001b[1m0s\u001b[0m 14ms/step\n",
            "\u001b[1m1/1\u001b[0m \u001b[32m━━━━━━━━━━━━━━━━━━━━\u001b[0m\u001b[37m\u001b[0m \u001b[1m0s\u001b[0m 15ms/step\n",
            "\u001b[1m1/1\u001b[0m \u001b[32m━━━━━━━━━━━━━━━━━━━━\u001b[0m\u001b[37m\u001b[0m \u001b[1m0s\u001b[0m 15ms/step\n",
            "\u001b[1m1/1\u001b[0m \u001b[32m━━━━━━━━━━━━━━━━━━━━\u001b[0m\u001b[37m\u001b[0m \u001b[1m0s\u001b[0m 15ms/step\n",
            "\u001b[1m1/1\u001b[0m \u001b[32m━━━━━━━━━━━━━━━━━━━━\u001b[0m\u001b[37m\u001b[0m \u001b[1m0s\u001b[0m 15ms/step\n",
            "\u001b[1m1/1\u001b[0m \u001b[32m━━━━━━━━━━━━━━━━━━━━\u001b[0m\u001b[37m\u001b[0m \u001b[1m0s\u001b[0m 17ms/step\n",
            "\u001b[1m1/1\u001b[0m \u001b[32m━━━━━━━━━━━━━━━━━━━━\u001b[0m\u001b[37m\u001b[0m \u001b[1m0s\u001b[0m 15ms/step\n",
            "Modelo de 5 épocas: You have received you want in this future in this future and no\n",
            "\u001b[1m1/1\u001b[0m \u001b[32m━━━━━━━━━━━━━━━━━━━━\u001b[0m\u001b[37m\u001b[0m \u001b[1m0s\u001b[0m 141ms/step\n",
            "\u001b[1m1/1\u001b[0m \u001b[32m━━━━━━━━━━━━━━━━━━━━\u001b[0m\u001b[37m\u001b[0m \u001b[1m0s\u001b[0m 15ms/step\n",
            "\u001b[1m1/1\u001b[0m \u001b[32m━━━━━━━━━━━━━━━━━━━━\u001b[0m\u001b[37m\u001b[0m \u001b[1m0s\u001b[0m 14ms/step\n",
            "\u001b[1m1/1\u001b[0m \u001b[32m━━━━━━━━━━━━━━━━━━━━\u001b[0m\u001b[37m\u001b[0m \u001b[1m0s\u001b[0m 16ms/step\n",
            "\u001b[1m1/1\u001b[0m \u001b[32m━━━━━━━━━━━━━━━━━━━━\u001b[0m\u001b[37m\u001b[0m \u001b[1m0s\u001b[0m 13ms/step\n",
            "\u001b[1m1/1\u001b[0m \u001b[32m━━━━━━━━━━━━━━━━━━━━\u001b[0m\u001b[37m\u001b[0m \u001b[1m0s\u001b[0m 14ms/step\n",
            "\u001b[1m1/1\u001b[0m \u001b[32m━━━━━━━━━━━━━━━━━━━━\u001b[0m\u001b[37m\u001b[0m \u001b[1m0s\u001b[0m 21ms/step\n",
            "\u001b[1m1/1\u001b[0m \u001b[32m━━━━━━━━━━━━━━━━━━━━\u001b[0m\u001b[37m\u001b[0m \u001b[1m0s\u001b[0m 15ms/step\n",
            "\u001b[1m1/1\u001b[0m \u001b[32m━━━━━━━━━━━━━━━━━━━━\u001b[0m\u001b[37m\u001b[0m \u001b[1m0s\u001b[0m 16ms/step\n",
            "\u001b[1m1/1\u001b[0m \u001b[32m━━━━━━━━━━━━━━━━━━━━\u001b[0m\u001b[37m\u001b[0m \u001b[1m0s\u001b[0m 15ms/step\n",
            "Modelo de 1 época: You have received you have not on you have you have us and\n"
          ]
        }
      ],
      "source": [
        "input_text='You have received'\n",
        "\n",
        "print(f\"Modelo de 5 épocas: {generate_seq(model_5, tok, input_text, max_length=max_context_size, n_words=10)}\")\n",
        "print(f\"Modelo de 1 época: {generate_seq(model_1, tok, input_text, max_length=max_context_size, n_words=10)}\")"
      ]
    },
    {
      "cell_type": "markdown",
      "metadata": {},
      "source": [
        "En este caso, podemos comprobar que el modelo entrenado con 5 epocas devuelve cadenas con sentido. Posiblemente debido a que habrá \"memorizado\" gran parte de las cadenas que empiezan de esa forma. Se puede comprobar que un modelo con una sola época de entrenamiento no tiene un buen rendimiento."
      ]
    },
    {
      "cell_type": "markdown",
      "metadata": {
        "id": "drJ6xn5qW1Hl"
      },
      "source": [
        "###  Beam search y muestreo aleatorio"
      ]
    },
    {
      "cell_type": "code",
      "execution_count": 39,
      "metadata": {
        "id": "_vovn9XZW1Hl"
      },
      "outputs": [],
      "source": [
        "# funcionalidades para hacer encoding y decoding\n",
        "\n",
        "def encode(text,max_length=max_context_size):\n",
        "\n",
        "    encoded = tok.texts_to_sequences([text])[0]\n",
        "    encoded = pad_sequences([encoded], maxlen=max_length, padding='pre')\n",
        "\n",
        "    return encoded\n",
        "\n",
        "def decode(seq):\n",
        "    return tok.sequences_to_texts([seq])"
      ]
    },
    {
      "cell_type": "code",
      "execution_count": 40,
      "metadata": {
        "id": "I_lZiQwkW1Hl"
      },
      "outputs": [],
      "source": [
        "# función que selecciona candidatos para el beam search\n",
        "def select_candidates(pred,num_beams,vocab_size,history_probs,history_tokens,temp,mode):\n",
        "\n",
        "  # colectar todas las probabilidades para la siguiente búsqueda\n",
        "  pred_large = []\n",
        "\n",
        "  for idx,pp in enumerate(pred):\n",
        "    pred_large.extend(np.log(pp+1E-10)+history_probs[idx])\n",
        "\n",
        "  pred_large = np.array(pred_large)\n",
        "\n",
        "  # criterio de selección\n",
        "  if mode == 'det':\n",
        "    idx_select = np.argsort(pred_large)[::-1][:num_beams] # beam search determinista\n",
        "  elif mode == 'sto':\n",
        "    idx_select = np.random.choice(np.arange(pred_large.shape[0]), num_beams, p=softmax(pred_large/temp)) # beam search con muestreo aleatorio\n",
        "  else:\n",
        "    raise ValueError(f'Wrong selection mode. {mode} was given. det and sto are supported.')\n",
        "\n",
        "  # traducir a índices de token en el vocabulario\n",
        "  new_history_tokens = np.concatenate((np.array(history_tokens)[idx_select//vocab_size],\n",
        "                        np.array([idx_select%vocab_size]).T),\n",
        "                      axis=1)\n",
        "\n",
        "  # devolver el producto de las probabilidades (log) y la secuencia de tokens seleccionados\n",
        "  return pred_large[idx_select.astype(int)], new_history_tokens.astype(int)\n",
        "\n",
        "\n",
        "def beam_search(model,num_beams,num_words,input,temp=1,mode='det'):\n",
        "\n",
        "    # first iteration\n",
        "\n",
        "    # encode\n",
        "    encoded = encode(input)\n",
        "\n",
        "    # first prediction\n",
        "    y_hat = model.predict(encoded,verbose=0)[0,-1,:]\n",
        "\n",
        "    # get vocabulary size\n",
        "    vocab_size = y_hat.shape[0]\n",
        "\n",
        "    # initialize history\n",
        "    history_probs = [0]*num_beams\n",
        "    history_tokens = [encoded[0]]*num_beams\n",
        "\n",
        "    # select num_beams candidates\n",
        "    history_probs, history_tokens = select_candidates([y_hat],\n",
        "                                        num_beams,\n",
        "                                        vocab_size,\n",
        "                                        history_probs,\n",
        "                                        history_tokens,\n",
        "                                        temp,\n",
        "                                        mode)\n",
        "\n",
        "    # beam search loop\n",
        "    for i in range(num_words-1):\n",
        "\n",
        "      preds = []\n",
        "\n",
        "      for hist in history_tokens:\n",
        "\n",
        "        # actualizar secuencia de tokens\n",
        "        input_update = np.array([hist[i+1:]]).copy()\n",
        "\n",
        "        # predicción\n",
        "        y_hat = model.predict(input_update,verbose=0)[0,-1,:]\n",
        "\n",
        "        preds.append(y_hat)\n",
        "\n",
        "      history_probs, history_tokens = select_candidates(preds,\n",
        "                                                        num_beams,\n",
        "                                                        vocab_size,\n",
        "                                                        history_probs,\n",
        "                                                        history_tokens,\n",
        "                                                        temp,\n",
        "                                                        mode)\n",
        "\n",
        "    return history_tokens"
      ]
    },
    {
      "cell_type": "code",
      "execution_count": 61,
      "metadata": {
        "id": "GeLqAoOYW1Hm"
      },
      "outputs": [
        {
          "name": "stdout",
          "output_type": "stream",
          "text": [
            "['dear customer there is a problem levels is your look levels i']\n",
            "['dear customer there is a problem levels is your look levels is']\n",
            "['dear customer there is a problem levels is your supplements is south']\n",
            "['dear customer there is a problem levels is your look levels cards']\n",
            "['dear customer there is a problem levels is your supplements is being']\n",
            "['dear customer there is a problem levels is your supplements is being']\n",
            "['dear customer there is a problem levels is your supplements is liberating']\n",
            "['dear customer there is a problem levels is your location are it']\n",
            "['dear customer there is a problem levels is your look levels listed']\n",
            "['dear customer there is a problem levels is your look levels after']\n"
          ]
        }
      ],
      "source": [
        "# predicción con beam search.\n",
        "# Se pueden camiar los modos entre 'det' (determinista) y\n",
        "# 'sto' (estocástico)\n",
        "# para el caso estocástico también se puede variar la temperatura\n",
        "salidas_5 = beam_search(model_5,num_beams=10,num_words=6,input=\"dear customer there is a problem\",temp=1,mode='sto')\n",
        "for i in range(salidas_5.shape[0]):\n",
        "    print(decode(salidas_5[i]))\n"
      ]
    },
    {
      "cell_type": "code",
      "execution_count": 51,
      "metadata": {
        "id": "2S3_I3S1W1Hm"
      },
      "outputs": [
        {
          "name": "stdout",
          "output_type": "stream",
          "text": [
            "['dear customer there is a problem of the document and as in']\n",
            "['dear customer there is a problem of the document and 4 â\\x80\\x9cyour']\n",
            "['dear customer there is a problem of the document and 4 image']\n",
            "['dear customer there is a problem of the document and 4 address']\n",
            "['dear customer there is a problem of the document and 4 address']\n",
            "['dear customer there is a problem of the document and 4 stem']\n",
            "['dear customer there is a problem of the data and includes to']\n",
            "['dear customer there is a problem of the document and 4 address']\n",
            "['dear customer there is a problem of the document and 4 735d85cc67b89']\n",
            "['dear customer there is a problem of the document and as a']\n"
          ]
        }
      ],
      "source": [
        "salidas_1 = beam_search(model_1,num_beams=10,num_words=6,input=\"dear customer there is a problem\",temp=1,mode='sto')\n",
        "for i in range(salidas_5.shape[0]):\n",
        "    print(decode(salidas_1[i]))"
      ]
    },
    {
      "cell_type": "code",
      "execution_count": 52,
      "metadata": {},
      "outputs": [
        {
          "name": "stdout",
          "output_type": "stream",
          "text": [
            "['dear customer there is a problem match is to this e mail']\n",
            "['dear customer there is a problem match is to this e mail']\n",
            "['dear customer there is a problem match is to this e mail']\n",
            "['dear customer there is a problem match is to this e mail']\n",
            "['dear customer there is a problem match is to this e mail']\n",
            "['dear customer there is a problem match is to this e mail']\n",
            "['dear customer there is a problem match is to this e mail']\n",
            "['dear customer there is a problem match is to this e mail']\n",
            "['dear customer there is a problem match is to this e mail']\n",
            "['dear customer there is a problem match is to this e mail']\n"
          ]
        }
      ],
      "source": [
        "salidas_5 = beam_search(model_5,num_beams=10,num_words=6,input=\"dear customer there is a problem\",temp=0.3,mode='sto')\n",
        "for i in range(salidas_5.shape[0]):\n",
        "    print(decode(salidas_5[i]))"
      ]
    },
    {
      "cell_type": "code",
      "execution_count": 53,
      "metadata": {},
      "outputs": [
        {
          "name": "stdout",
          "output_type": "stream",
          "text": [
            "['dear customer there is a problem of the document and just your']\n",
            "['dear customer there is a problem of the document and just your']\n",
            "['dear customer there is a problem of the document and just your']\n",
            "['dear customer there is a problem of the document and just your']\n",
            "['dear customer there is a problem of the document and just your']\n",
            "['dear customer there is a problem of the document and just your']\n",
            "['dear customer there is a problem of the document and just your']\n",
            "['dear customer there is a problem of the document and just your']\n",
            "['dear customer there is a problem of the document and just your']\n",
            "['dear customer there is a problem of the document and just your']\n"
          ]
        }
      ],
      "source": [
        "salidas_1 = beam_search(model_1,num_beams=10,num_words=6,input=\"dear customer there is a problem\",temp=0.3,mode='sto')\n",
        "for i in range(salidas_5.shape[0]):\n",
        "    print(decode(salidas_1[i]))"
      ]
    },
    {
      "cell_type": "markdown",
      "metadata": {},
      "source": [
        "Se comprueba en estas pruebas que el valor de tempratura influye directamente sobre la variabilidad de la salida generada, haciendo que a tempraturas más frias el modelo tienda a devolver siempre la misma salida"
      ]
    },
    {
      "cell_type": "code",
      "execution_count": 59,
      "metadata": {},
      "outputs": [
        {
          "name": "stdout",
          "output_type": "stream",
          "text": [
            "['dear customer there is a problem match is to this e mail']\n",
            "['dear customer there is a problem match is to problem e mail']\n",
            "['dear customer there is a problem match is to this e e']\n",
            "['dear customer there is a problem reason we are is confidential and']\n",
            "['dear customer there is a problem reason is share by layering you']\n",
            "['dear customer there is a problem levels is your insulin levels insulin']\n",
            "['dear customer there is a problem match we have a position after']\n",
            "['dear customer there is a problem reason we are is experience are']\n",
            "['dear customer there is a problem reason we are is 950 and']\n",
            "['dear customer there is a problem match is to this e media']\n"
          ]
        }
      ],
      "source": [
        "salidas_5 = beam_search(model_5,num_beams=10,num_words=6,input=\"dear customer there is a problem\",temp=1,mode='det')\n",
        "for i in range(salidas_5.shape[0]):\n",
        "    print(decode(salidas_5[i]))"
      ]
    },
    {
      "cell_type": "code",
      "execution_count": 55,
      "metadata": {},
      "outputs": [
        {
          "name": "stdout",
          "output_type": "stream",
          "text": [
            "['dear customer there is a problem of the document and just your']\n",
            "['dear customer there is a problem of the reason and your document']\n",
            "['dear customer there is a problem of the document and related the']\n",
            "['dear customer there is a problem of the reason and the document']\n",
            "['dear customer there is a problem of the location in the skrill']\n",
            "['dear customer there is a problem of the account and responsible your']\n",
            "['dear customer there is a problem of the location in the project']\n",
            "['dear customer there is a problem of the document and related your']\n",
            "['dear customer there is a problem of the account and responsible the']\n",
            "['dear customer there is a problem of the reason and your data']\n"
          ]
        }
      ],
      "source": [
        "salidas_1 = beam_search(model_1,num_beams=10,num_words=6,input=\"dear customer there is a problem\",temp=1,mode='det')\n",
        "for i in range(salidas_5.shape[0]):\n",
        "    print(decode(salidas_1[i]))"
      ]
    },
    {
      "cell_type": "markdown",
      "metadata": {},
      "source": [
        "El modo determinista bloquea parte de la aleatoriedad de la salida, devolviendo siempre el mismo conjunto de resultados sin importar las veces que lo ejecutemos. Esto no ocurre en el modo estocástico, el cual devuelve valores distintos cada vez que se ejecuta el mismo código."
      ]
    },
    {
      "cell_type": "markdown",
      "metadata": {
        "id": "Q_LlqmtEW1Hn"
      },
      "source": [
        "### Conclusiones\n",
        "\n",
        "Entrenar un modelo generador de secuencias es una tarea compleja que abarca diferentes factores: El principal y más limitante de todos recae en la cantidad y calidad de los datos. Sin ir mas lejos, tuve que descartar el dataset del desafio 2 y elegir uno mucho más pequeño porque los tiempos de entrenamiento para una epoca alcanzaban mas de 60 minutos (incluso después de hacer varias reducciones). Los datos asociados al entrenamiento era tan grandes que el kernel fallaba a la hora de guardarlo (probablemente al calcular la perplejidad)\n",
        "\n",
        "Una vez superado el primer obstaculo, la elección de número de épocas influye en gran medida al modelo. Tal y como se ha comprobado en las últimas celdas, dependiendo del grado de entrebnamiento del modelo puede generar secuencias más correctas a nivel tanto sintáctico como semántico. Sin embargo, el resultado final no ha sido muy alentador, pues es dificil obtener resultados consistentes a medida que se aumenta el tamaño de la salida.\n",
        "\n",
        "Como conclusion final, creo que es mucho más interesante realizar entrenamientos(fine-tuning/scripting) a modelos pre entrenados en caso de necesitar generar un producto relacionado con estos modelos de generacion de cadenas."
      ]
    }
  ],
  "metadata": {
    "colab": {
      "provenance": []
    },
    "kernelspec": {
      "display_name": "Python 3",
      "name": "python3"
    },
    "language_info": {
      "codemirror_mode": {
        "name": "ipython",
        "version": 3
      },
      "file_extension": ".py",
      "mimetype": "text/x-python",
      "name": "python",
      "nbconvert_exporter": "python",
      "pygments_lexer": "ipython3",
      "version": "3.10.0"
    }
  },
  "nbformat": 4,
  "nbformat_minor": 0
}
