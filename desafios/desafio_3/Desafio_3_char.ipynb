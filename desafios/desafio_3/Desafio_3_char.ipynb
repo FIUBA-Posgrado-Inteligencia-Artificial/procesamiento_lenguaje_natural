{
  "cells": [
    {
      "cell_type": "markdown",
      "metadata": {
        "id": "g3yeJGnCYxuF"
      },
      "source": [
        "<img src=\"https://github.com/hernancontigiani/ceia_memorias_especializacion/raw/master/Figures/logoFIUBA.jpg\" width=\"500\" align=\"center\">\n",
        "\n",
        "\n",
        "# Procesamiento de lenguaje natural\n",
        "## Modelo de lenguaje con tokenización por caracteres"
      ]
    },
    {
      "cell_type": "markdown",
      "metadata": {
        "id": "Iv5PEwGzZA9-"
      },
      "source": [
        "### Consigna\n",
        "- Seleccionar un corpus de texto sobre el cual entrenar el modelo de lenguaje.\n",
        "- Realizar el pre-procesamiento adecuado para tokenizar el corpus, estructurar el dataset y separar entre datos de entrenamiento y validación.\n",
        "- Proponer arquitecturas de redes neuronales basadas en unidades recurrentes para implementar un modelo de lenguaje.\n",
        "- Con el o los modelos que consideren adecuados, generar nuevas secuencias a partir de secuencias de contexto con las estrategias de greedy search y beam search determístico y estocástico. En este último caso observar el efecto de la temperatura en la generación de secuencias.\n",
        "\n",
        "\n",
        "### Sugerencias\n",
        "- Durante el entrenamiento, guiarse por el descenso de la perplejidad en los datos de validación para finalizar el entrenamiento. Para ello se provee un callback.\n",
        "- Explorar utilizar SimpleRNN (celda de Elman), LSTM y GRU.\n",
        "- rmsprop es el optimizador recomendado para la buena convergencia. No obstante se pueden explorar otros.\n"
      ]
    },
    {
      "cell_type": "code",
      "execution_count": 109,
      "metadata": {
        "id": "Y-QdFbHZYj7C"
      },
      "outputs": [],
      "source": [
        "import io\n",
        "import pickle\n",
        "import random\n",
        "# descargar de textos.info\n",
        "import urllib.request\n",
        "\n",
        "# Para leer y parsear el texto en HTML de wikipedia\n",
        "import bs4 as bs\n",
        "import gradio as gr\n",
        "import matplotlib.pyplot as plt\n",
        "import numpy as np\n",
        "import pandas as pd\n",
        "import seaborn as sns\n",
        "from keras.layers import (LSTM, BatchNormalization, CategoryEncoding, Dense,\n",
        "                          Dropout, Embedding, Input, SimpleRNN,\n",
        "                          TimeDistributed)\n",
        "from keras.models import Model, Sequential\n",
        "from keras.utils import to_categorical\n",
        "from scipy.special import softmax\n",
        "from sklearn.model_selection import train_test_split\n",
        "from tensorflow import keras\n",
        "from tensorflow.keras import layers\n",
        "from tensorflow.keras.losses import SparseCategoricalCrossentropy\n",
        "from tensorflow.keras.utils import pad_sequences  # se utilizará para padding"
      ]
    },
    {
      "cell_type": "markdown",
      "metadata": {
        "id": "xTvXlEKQZdqx"
      },
      "source": [
        "### Datos\n",
        "Se utilizará un dataset ligero de spam de emails: https://www.kaggle.com/datasets/tapakah68/email-spam-classification\n",
        "\n",
        "Primero descomprimimos el fichero y leemos los datos"
      ]
    },
    {
      "cell_type": "code",
      "execution_count": 110,
      "metadata": {
        "id": "7amy6uUaBLVD"
      },
      "outputs": [
        {
          "name": "stderr",
          "output_type": "stream",
          "text": [
            "\"unzip\" no se reconoce como un comando interno o externo,\n",
            "programa o archivo por lotes ejecutable.\n"
          ]
        }
      ],
      "source": [
        "!unzip -q email_spam.zip"
      ]
    },
    {
      "cell_type": "code",
      "execution_count": 111,
      "metadata": {
        "id": "6v_ickFwBJTy"
      },
      "outputs": [
        {
          "data": {
            "text/html": [
              "<div>\n",
              "<style scoped>\n",
              "    .dataframe tbody tr th:only-of-type {\n",
              "        vertical-align: middle;\n",
              "    }\n",
              "\n",
              "    .dataframe tbody tr th {\n",
              "        vertical-align: top;\n",
              "    }\n",
              "\n",
              "    .dataframe thead th {\n",
              "        text-align: right;\n",
              "    }\n",
              "</style>\n",
              "<table border=\"1\" class=\"dataframe\">\n",
              "  <thead>\n",
              "    <tr style=\"text-align: right;\">\n",
              "      <th></th>\n",
              "      <th>title</th>\n",
              "      <th>text</th>\n",
              "      <th>type</th>\n",
              "    </tr>\n",
              "  </thead>\n",
              "  <tbody>\n",
              "    <tr>\n",
              "      <th>0</th>\n",
              "      <td>the secrets to SUCCESS</td>\n",
              "      <td>Hi James,  Have you claim your complimentary g...</td>\n",
              "      <td>spam</td>\n",
              "    </tr>\n",
              "    <tr>\n",
              "      <th>1</th>\n",
              "      <td>You Earned 500 GCLoot Points</td>\n",
              "      <td>alt_text Congratulations, you just earned 500...</td>\n",
              "      <td>not spam</td>\n",
              "    </tr>\n",
              "    <tr>\n",
              "      <th>2</th>\n",
              "      <td>Your GitHub launch code</td>\n",
              "      <td>Here's your GitHub launch code, @Mortyj420!   ...</td>\n",
              "      <td>not spam</td>\n",
              "    </tr>\n",
              "    <tr>\n",
              "      <th>3</th>\n",
              "      <td>[The Virtual Reward Center] Re: ** Clarifications</td>\n",
              "      <td>Hello,   Thank you for contacting the Virtual ...</td>\n",
              "      <td>not spam</td>\n",
              "    </tr>\n",
              "    <tr>\n",
              "      <th>4</th>\n",
              "      <td>10-1 MLB Expert Inside, Plus Everything You Ne...</td>\n",
              "      <td>Hey Prachanda Rawal,  Today's newsletter is Ja...</td>\n",
              "      <td>spam</td>\n",
              "    </tr>\n",
              "    <tr>\n",
              "      <th>...</th>\n",
              "      <td>...</td>\n",
              "      <td>...</td>\n",
              "      <td>...</td>\n",
              "    </tr>\n",
              "    <tr>\n",
              "      <th>79</th>\n",
              "      <td>Your application for the position of  Child Pr...</td>\n",
              "      <td>Dear Maryam,      I would like to thank you fo...</td>\n",
              "      <td>not spam</td>\n",
              "    </tr>\n",
              "    <tr>\n",
              "      <th>80</th>\n",
              "      <td>Your Kilimall Account is Ready - Shopping Now!</td>\n",
              "      <td>Dear Customer,  Welcome to Kilimall, Thanks so...</td>\n",
              "      <td>not spam</td>\n",
              "    </tr>\n",
              "    <tr>\n",
              "      <th>81</th>\n",
              "      <td>Your Steam account: Access from new web or mob...</td>\n",
              "      <td>Dear vladis163rus, Here is the Steam Guard cod...</td>\n",
              "      <td>not spam</td>\n",
              "    </tr>\n",
              "    <tr>\n",
              "      <th>82</th>\n",
              "      <td>Your uploaded document is rejected</td>\n",
              "      <td>View In Browser | Log in      Skrill logo Mone...</td>\n",
              "      <td>not spam</td>\n",
              "    </tr>\n",
              "    <tr>\n",
              "      <th>83</th>\n",
              "      <td>You've Earned a Reward from Bard Explorers India</td>\n",
              "      <td>You've received a gift! Sign in to your Bard E...</td>\n",
              "      <td>not spam</td>\n",
              "    </tr>\n",
              "  </tbody>\n",
              "</table>\n",
              "<p>84 rows × 3 columns</p>\n",
              "</div>"
            ],
            "text/plain": [
              "                                                title  \\\n",
              "0                              the secrets to SUCCESS   \n",
              "1                        You Earned 500 GCLoot Points   \n",
              "2                             Your GitHub launch code   \n",
              "3   [The Virtual Reward Center] Re: ** Clarifications   \n",
              "4   10-1 MLB Expert Inside, Plus Everything You Ne...   \n",
              "..                                                ...   \n",
              "79  Your application for the position of  Child Pr...   \n",
              "80     Your Kilimall Account is Ready - Shopping Now!   \n",
              "81  Your Steam account: Access from new web or mob...   \n",
              "82                 Your uploaded document is rejected   \n",
              "83   You've Earned a Reward from Bard Explorers India   \n",
              "\n",
              "                                                 text      type  \n",
              "0   Hi James,  Have you claim your complimentary g...      spam  \n",
              "1    alt_text Congratulations, you just earned 500...  not spam  \n",
              "2   Here's your GitHub launch code, @Mortyj420!   ...  not spam  \n",
              "3   Hello,   Thank you for contacting the Virtual ...  not spam  \n",
              "4   Hey Prachanda Rawal,  Today's newsletter is Ja...      spam  \n",
              "..                                                ...       ...  \n",
              "79  Dear Maryam,      I would like to thank you fo...  not spam  \n",
              "80  Dear Customer,  Welcome to Kilimall, Thanks so...  not spam  \n",
              "81  Dear vladis163rus, Here is the Steam Guard cod...  not spam  \n",
              "82  View In Browser | Log in      Skrill logo Mone...  not spam  \n",
              "83  You've received a gift! Sign in to your Bard E...  not spam  \n",
              "\n",
              "[84 rows x 3 columns]"
            ]
          },
          "execution_count": 111,
          "metadata": {},
          "output_type": "execute_result"
        }
      ],
      "source": [
        "dataframe_spam = pd.read_csv(\"email_spam.csv\", encoding='latin-1')\n",
        "# Reemplazar '\\r' por un string vacío en todas las columnas\n",
        "dataframe_spam = dataframe_spam.replace({'\\r': ' ', '\\n': ' ', \"\\?\\?\": ''}, regex=True)\n",
        "dataframe_spam.head(300)"
      ]
    },
    {
      "cell_type": "code",
      "execution_count": 112,
      "metadata": {
        "id": "WBE0sSYuB-E6"
      },
      "outputs": [
        {
          "data": {
            "text/html": [
              "<div>\n",
              "<style scoped>\n",
              "    .dataframe tbody tr th:only-of-type {\n",
              "        vertical-align: middle;\n",
              "    }\n",
              "\n",
              "    .dataframe tbody tr th {\n",
              "        vertical-align: top;\n",
              "    }\n",
              "\n",
              "    .dataframe thead th {\n",
              "        text-align: right;\n",
              "    }\n",
              "</style>\n",
              "<table border=\"1\" class=\"dataframe\">\n",
              "  <thead>\n",
              "    <tr style=\"text-align: right;\">\n",
              "      <th></th>\n",
              "      <th>Text</th>\n",
              "    </tr>\n",
              "  </thead>\n",
              "  <tbody>\n",
              "    <tr>\n",
              "      <th>0</th>\n",
              "      <td>the secrets to SUCCESS Hi James,  Have you cl...</td>\n",
              "    </tr>\n",
              "    <tr>\n",
              "      <th>1</th>\n",
              "      <td>You Earned 500 GCLoot Points  alt_text Congra...</td>\n",
              "    </tr>\n",
              "    <tr>\n",
              "      <th>2</th>\n",
              "      <td>Your GitHub launch code Here's your GitHub la...</td>\n",
              "    </tr>\n",
              "    <tr>\n",
              "      <th>3</th>\n",
              "      <td>[The Virtual Reward Center] Re: ** Clarificati...</td>\n",
              "    </tr>\n",
              "    <tr>\n",
              "      <th>4</th>\n",
              "      <td>10-1 MLB Expert Inside, Plus Everything You Ne...</td>\n",
              "    </tr>\n",
              "    <tr>\n",
              "      <th>...</th>\n",
              "      <td>...</td>\n",
              "    </tr>\n",
              "    <tr>\n",
              "      <th>79</th>\n",
              "      <td>Your application for the position of  Child Pr...</td>\n",
              "    </tr>\n",
              "    <tr>\n",
              "      <th>80</th>\n",
              "      <td>Your Kilimall Account is Ready - Shopping Now!...</td>\n",
              "    </tr>\n",
              "    <tr>\n",
              "      <th>81</th>\n",
              "      <td>Your Steam account: Access from new web or mob...</td>\n",
              "    </tr>\n",
              "    <tr>\n",
              "      <th>82</th>\n",
              "      <td>Your uploaded document is rejected View In Bro...</td>\n",
              "    </tr>\n",
              "    <tr>\n",
              "      <th>83</th>\n",
              "      <td>You've Earned a Reward from Bard Explorers Ind...</td>\n",
              "    </tr>\n",
              "  </tbody>\n",
              "</table>\n",
              "<p>84 rows × 1 columns</p>\n",
              "</div>"
            ],
            "text/plain": [
              "                                                 Text\n",
              "0    the secrets to SUCCESS Hi James,  Have you cl...\n",
              "1    You Earned 500 GCLoot Points  alt_text Congra...\n",
              "2    Your GitHub launch code Here's your GitHub la...\n",
              "3   [The Virtual Reward Center] Re: ** Clarificati...\n",
              "4   10-1 MLB Expert Inside, Plus Everything You Ne...\n",
              "..                                                ...\n",
              "79  Your application for the position of  Child Pr...\n",
              "80  Your Kilimall Account is Ready - Shopping Now!...\n",
              "81  Your Steam account: Access from new web or mob...\n",
              "82  Your uploaded document is rejected View In Bro...\n",
              "83  You've Earned a Reward from Bard Explorers Ind...\n",
              "\n",
              "[84 rows x 1 columns]"
            ]
          },
          "execution_count": 112,
          "metadata": {},
          "output_type": "execute_result"
        }
      ],
      "source": [
        "dataframe_spam_title = dataframe_spam[\"title\"]\n",
        "dataframe_spam_text = dataframe_spam[\"text\"]\n",
        "dataframe_spam = pd.DataFrame({'Text': dataframe_spam_title + ' ' + dataframe_spam_text})\n",
        "dataframe_spam.head(300)"
      ]
    },
    {
      "cell_type": "markdown",
      "metadata": {
        "id": "cP1JdiOIKQWi"
      },
      "source": [
        "### Elegir el tamaño del contexto\n",
        "\n",
        "En este caso, como el modelo de lenguaje es por caracteres, todo un gran corpus\n",
        "de texto puede ser considerado un documento en sí mismo y el tamaño de contexto\n",
        "puede ser elegido con más libertad en comparación a un modelo de lenguaje tokenizado por palabras y dividido en documentos más acotados."
      ]
    },
    {
      "cell_type": "code",
      "execution_count": 113,
      "metadata": {
        "id": "wumBNwdjJM3j"
      },
      "outputs": [
        {
          "name": "stdout",
          "output_type": "stream",
          "text": [
            " the secrets to SUCCESS Hi James,  Have you claim your complimentary gift yet?  I've compiled in here a special astrology gift that predicts everything about you in the future?  This is your enabler to take the correct actions now.  >> Click here to claim your copy now >>  Claim yours now, and thank me later.   Love, Heather  You Earned 500 GCLoot Points  alt_text Congratulations, you just earned 500   You completed the following offer:  View Points History To stop recieving notifications when y\n"
          ]
        }
      ],
      "source": [
        "corpus = ' '.join(dataframe_spam['Text'])\n",
        "print(corpus[:500])"
      ]
    },
    {
      "cell_type": "code",
      "execution_count": 114,
      "metadata": {
        "id": "m5FeTaGvbDbw"
      },
      "outputs": [],
      "source": [
        "# seleccionamos el tamaño de contexto\n",
        "max_context_size = 150 # criterio a mano"
      ]
    },
    {
      "cell_type": "code",
      "execution_count": 115,
      "metadata": {
        "id": "573Cg5n7VhWw"
      },
      "outputs": [],
      "source": [
        "# en este caso el vocabulario es el conjunto único de caracteres que existe en todo el texto\n",
        "chars_vocab = set(corpus)"
      ]
    },
    {
      "cell_type": "code",
      "execution_count": 116,
      "metadata": {
        "id": "VwTK6xgLJd8q"
      },
      "outputs": [
        {
          "data": {
            "text/plain": [
              "105"
            ]
          },
          "execution_count": 116,
          "metadata": {},
          "output_type": "execute_result"
        }
      ],
      "source": [
        "# la longitud de vocabulario de caracteres es:\n",
        "len(chars_vocab)"
      ]
    },
    {
      "cell_type": "code",
      "execution_count": 117,
      "metadata": {
        "id": "2W0AeQjXV1Ou"
      },
      "outputs": [],
      "source": [
        "# Construimos los dicionarios que asignan índices a caracteres y viceversa.\n",
        "# El diccionario `char2idx` servirá como tokenizador.\n",
        "char2idx = {k: v for v,k in enumerate(chars_vocab)}\n",
        "idx2char = {v: k for k,v in char2idx.items()}"
      ]
    },
    {
      "cell_type": "markdown",
      "metadata": {
        "id": "2oIUjVU0LB0r"
      },
      "source": [
        "###  Tokenizar"
      ]
    },
    {
      "cell_type": "code",
      "execution_count": 118,
      "metadata": {
        "id": "h07G3srdJppo"
      },
      "outputs": [],
      "source": [
        "# tokenizamos el texto completo\n",
        "tokenized_text = [char2idx[ch] for ch in corpus]"
      ]
    },
    {
      "cell_type": "code",
      "execution_count": 119,
      "metadata": {
        "id": "PwGVSKOiJ5bj"
      },
      "outputs": [
        {
          "data": {
            "text/plain": [
              "[19,\n",
              " 66,\n",
              " 82,\n",
              " 87,\n",
              " 19,\n",
              " 88,\n",
              " 87,\n",
              " 51,\n",
              " 7,\n",
              " 87,\n",
              " 66,\n",
              " 88,\n",
              " 19,\n",
              " 66,\n",
              " 84,\n",
              " 19,\n",
              " 57,\n",
              " 91,\n",
              " 17,\n",
              " 17,\n",
              " 46,\n",
              " 57,\n",
              " 57,\n",
              " 19,\n",
              " 86,\n",
              " 96,\n",
              " 19,\n",
              " 76,\n",
              " 6,\n",
              " 25,\n",
              " 87,\n",
              " 88,\n",
              " 89,\n",
              " 19,\n",
              " 19,\n",
              " 86,\n",
              " 6,\n",
              " 38,\n",
              " 87,\n",
              " 19,\n",
              " 65,\n",
              " 84,\n",
              " 70,\n",
              " 19,\n",
              " 51,\n",
              " 5,\n",
              " 6,\n",
              " 96,\n",
              " 25,\n",
              " 19,\n",
              " 65,\n",
              " 84,\n",
              " 70,\n",
              " 7,\n",
              " 19,\n",
              " 51,\n",
              " 84,\n",
              " 25,\n",
              " 63,\n",
              " 5,\n",
              " 96,\n",
              " 25,\n",
              " 87,\n",
              " 15,\n",
              " 66,\n",
              " 6,\n",
              " 7,\n",
              " 65,\n",
              " 19,\n",
              " 83,\n",
              " 96,\n",
              " 90,\n",
              " 66,\n",
              " 19,\n",
              " 65,\n",
              " 87,\n",
              " 66,\n",
              " 94,\n",
              " 19,\n",
              " 19,\n",
              " 52,\n",
              " 43,\n",
              " 38,\n",
              " 87,\n",
              " 19,\n",
              " 51,\n",
              " 84,\n",
              " 25,\n",
              " 63,\n",
              " 96,\n",
              " 5,\n",
              " 87,\n",
              " 21,\n",
              " 19,\n",
              " 96,\n",
              " 15,\n",
              " 19,\n",
              " 82,\n",
              " 87,\n",
              " 7,\n",
              " 87,\n",
              " 19,\n",
              " 6,\n",
              " 19,\n",
              " 88,\n",
              " 63,\n",
              " 87,\n",
              " 51,\n",
              " 96,\n",
              " 6,\n",
              " 5,\n",
              " 19,\n",
              " 6,\n",
              " 88,\n",
              " 66,\n",
              " 7,\n",
              " 84,\n",
              " 5,\n",
              " 84,\n",
              " 83,\n",
              " 65,\n",
              " 19,\n",
              " 83,\n",
              " 96,\n",
              " 90,\n",
              " 66,\n",
              " 19,\n",
              " 66,\n",
              " 82,\n",
              " 6,\n",
              " 66,\n",
              " 19,\n",
              " 63,\n",
              " 7,\n",
              " 87,\n",
              " 21,\n",
              " 96,\n",
              " 51,\n",
              " 66,\n",
              " 88,\n",
              " 19,\n",
              " 87,\n",
              " 38,\n",
              " 87,\n",
              " 7,\n",
              " 65,\n",
              " 66,\n",
              " 82,\n",
              " 96,\n",
              " 15,\n",
              " 83,\n",
              " 19,\n",
              " 6,\n",
              " 26,\n",
              " 84,\n",
              " 70,\n",
              " 66,\n",
              " 19,\n",
              " 65,\n",
              " 84,\n",
              " 70,\n",
              " 19,\n",
              " 96,\n",
              " 15,\n",
              " 19,\n",
              " 66,\n",
              " 82,\n",
              " 87,\n",
              " 19,\n",
              " 90,\n",
              " 70,\n",
              " 66,\n",
              " 70,\n",
              " 7,\n",
              " 87,\n",
              " 94,\n",
              " 19,\n",
              " 19,\n",
              " 47,\n",
              " 82,\n",
              " 96,\n",
              " 88,\n",
              " 19,\n",
              " 96,\n",
              " 88,\n",
              " 19,\n",
              " 65,\n",
              " 84,\n",
              " 70,\n",
              " 7,\n",
              " 19,\n",
              " 87,\n",
              " 15,\n",
              " 6,\n",
              " 26,\n",
              " 5,\n",
              " 87,\n",
              " 7,\n",
              " 19,\n",
              " 66,\n",
              " 84,\n",
              " 19,\n",
              " 66,\n",
              " 6,\n",
              " 61,\n",
              " 87,\n",
              " 19,\n",
              " 66,\n",
              " 82,\n",
              " 87,\n",
              " 19,\n",
              " 51,\n",
              " 84,\n",
              " 7,\n",
              " 7,\n",
              " 87,\n",
              " 51,\n",
              " 66,\n",
              " 19,\n",
              " 6,\n",
              " 51,\n",
              " 66,\n",
              " 96,\n",
              " 84,\n",
              " 15,\n",
              " 88,\n",
              " 19,\n",
              " 15,\n",
              " 84,\n",
              " 102,\n",
              " 78,\n",
              " 19,\n",
              " 19,\n",
              " 92,\n",
              " 92,\n",
              " 19,\n",
              " 17,\n",
              " 5,\n",
              " 96,\n",
              " 51,\n",
              " 61,\n",
              " 19,\n",
              " 82,\n",
              " 87,\n",
              " 7,\n",
              " 87,\n",
              " 19,\n",
              " 66,\n",
              " 84,\n",
              " 19,\n",
              " 51,\n",
              " 5,\n",
              " 6,\n",
              " 96,\n",
              " 25,\n",
              " 19,\n",
              " 65,\n",
              " 84,\n",
              " 70,\n",
              " 7,\n",
              " 19,\n",
              " 51,\n",
              " 84,\n",
              " 63,\n",
              " 65,\n",
              " 19,\n",
              " 15,\n",
              " 84,\n",
              " 102,\n",
              " 19,\n",
              " 92,\n",
              " 92,\n",
              " 19,\n",
              " 19,\n",
              " 17,\n",
              " 5,\n",
              " 6,\n",
              " 96,\n",
              " 25,\n",
              " 19,\n",
              " 65,\n",
              " 84,\n",
              " 70,\n",
              " 7,\n",
              " 88,\n",
              " 19,\n",
              " 15,\n",
              " 84,\n",
              " 102,\n",
              " 89,\n",
              " 19,\n",
              " 6,\n",
              " 15,\n",
              " 21,\n",
              " 19,\n",
              " 66,\n",
              " 82,\n",
              " 6,\n",
              " 15,\n",
              " 61,\n",
              " 19,\n",
              " 25,\n",
              " 87,\n",
              " 19,\n",
              " 5,\n",
              " 6,\n",
              " 66,\n",
              " 87,\n",
              " 7,\n",
              " 78,\n",
              " 19,\n",
              " 19,\n",
              " 19,\n",
              " 62,\n",
              " 84,\n",
              " 38,\n",
              " 87,\n",
              " 89,\n",
              " 19,\n",
              " 86,\n",
              " 87,\n",
              " 6,\n",
              " 66,\n",
              " 82,\n",
              " 87,\n",
              " 7,\n",
              " 19,\n",
              " 19,\n",
              " 20,\n",
              " 84,\n",
              " 70,\n",
              " 19,\n",
              " 46,\n",
              " 6,\n",
              " 7,\n",
              " 15,\n",
              " 87,\n",
              " 21,\n",
              " 19,\n",
              " 35,\n",
              " 67,\n",
              " 67,\n",
              " 19,\n",
              " 81,\n",
              " 17,\n",
              " 62,\n",
              " 84,\n",
              " 84,\n",
              " 66,\n",
              " 19,\n",
              " 0,\n",
              " 84,\n",
              " 96,\n",
              " 15,\n",
              " 66,\n",
              " 88,\n",
              " 19,\n",
              " 19,\n",
              " 6,\n",
              " 5,\n",
              " 66,\n",
              " 103,\n",
              " 66,\n",
              " 87,\n",
              " 23,\n",
              " 66,\n",
              " 19,\n",
              " 17,\n",
              " 84,\n",
              " 15,\n",
              " 83,\n",
              " 7,\n",
              " 6,\n",
              " 66,\n",
              " 70,\n",
              " 5,\n",
              " 6,\n",
              " 66,\n",
              " 96,\n",
              " 84,\n",
              " 15,\n",
              " 88,\n",
              " 89,\n",
              " 19,\n",
              " 65,\n",
              " 84,\n",
              " 70,\n",
              " 19,\n",
              " 93,\n",
              " 70,\n",
              " 88,\n",
              " 66,\n",
              " 19,\n",
              " 87,\n",
              " 6,\n",
              " 7,\n",
              " 15,\n",
              " 87,\n",
              " 21,\n",
              " 19,\n",
              " 35,\n",
              " 67,\n",
              " 67,\n",
              " 19,\n",
              " 19,\n",
              " 19,\n",
              " 20,\n",
              " 84,\n",
              " 70,\n",
              " 19,\n",
              " 51,\n",
              " 84,\n",
              " 25,\n",
              " 63,\n",
              " 5,\n",
              " 87,\n",
              " 66,\n",
              " 87,\n",
              " 21,\n",
              " 19,\n",
              " 66,\n",
              " 82,\n",
              " 87,\n",
              " 19,\n",
              " 90,\n",
              " 84,\n",
              " 5,\n",
              " 5,\n",
              " 84,\n",
              " 102,\n",
              " 96,\n",
              " 15,\n",
              " 83,\n",
              " 19,\n",
              " 84,\n",
              " 90,\n",
              " 90,\n",
              " 87,\n",
              " 7,\n",
              " 40,\n",
              " 19,\n",
              " 19,\n",
              " 48,\n",
              " 96,\n",
              " 87,\n",
              " 102,\n",
              " 19,\n",
              " 0,\n",
              " 84,\n",
              " 96,\n",
              " 15,\n",
              " 66,\n",
              " 88,\n",
              " 19,\n",
              " 86,\n",
              " 96,\n",
              " 88,\n",
              " 66,\n",
              " 84,\n",
              " 7,\n",
              " 65,\n",
              " 19,\n",
              " 47,\n",
              " 84,\n",
              " 19,\n",
              " 88,\n",
              " 66,\n",
              " 84,\n",
              " 63,\n",
              " 19,\n",
              " 7,\n",
              " 87,\n",
              " 51,\n",
              " 96,\n",
              " 87,\n",
              " 38,\n",
              " 96,\n",
              " 15,\n",
              " 83,\n",
              " 19,\n",
              " 15,\n",
              " 84,\n",
              " 66,\n",
              " 96,\n",
              " 90,\n",
              " 96,\n",
              " 51,\n",
              " 6,\n",
              " 66,\n",
              " 96,\n",
              " 84,\n",
              " 15,\n",
              " 88,\n",
              " 19,\n",
              " 102,\n",
              " 82,\n",
              " 87,\n",
              " 15,\n",
              " 19,\n",
              " 65,\n",
              " 84,\n",
              " 70,\n",
              " 19,\n",
              " 87,\n",
              " 6,\n",
              " 7,\n",
              " 15,\n",
              " 19,\n",
              " 63,\n",
              " 84,\n",
              " 96,\n",
              " 15,\n",
              " 66,\n",
              " 88,\n",
              " 89,\n",
              " 19,\n",
              " 63,\n",
              " 5,\n",
              " 87,\n",
              " 6,\n",
              " 88,\n",
              " 87,\n",
              " 19,\n",
              " 38,\n",
              " 96,\n",
              " 88,\n",
              " 96,\n",
              " 66,\n",
              " 19,\n",
              " 65,\n",
              " 84,\n",
              " 70,\n",
              " 7,\n",
              " 19,\n",
              " 63,\n",
              " 7,\n",
              " 84,\n",
              " 90,\n",
              " 96,\n",
              " 5,\n",
              " 87,\n",
              " 19,\n",
              " 6,\n",
              " 15,\n",
              " 21,\n",
              " 19,\n",
              " 51,\n",
              " 5,\n",
              " 96,\n",
              " 51,\n",
              " 61,\n",
              " 19,\n",
              " 73,\n",
              " 0,\n",
              " 7,\n",
              " 87,\n",
              " 90,\n",
              " 87,\n",
              " 7,\n",
              " 87,\n",
              " 15,\n",
              " 51,\n",
              " 87,\n",
              " 88,\n",
              " 73,\n",
              " 19,\n",
              " 66,\n",
              " 84,\n",
              " 19,\n",
              " 51,\n",
              " 82,\n",
              " 6,\n",
              " 15,\n",
              " 83,\n",
              " 87,\n",
              " 19,\n",
              " 65,\n",
              " 84,\n",
              " 70,\n",
              " 7,\n",
              " 19,\n",
              " 88,\n",
              " 87,\n",
              " 66,\n",
              " 66,\n",
              " 96,\n",
              " 15,\n",
              " 83,\n",
              " 78,\n",
              " 19,\n",
              " 19,\n",
              " 9,\n",
              " 84,\n",
              " 84,\n",
              " 25,\n",
              " 19,\n",
              " 79,\n",
              " 55,\n",
              " 67,\n",
              " 99,\n",
              " 89,\n",
              " 19,\n",
              " 79,\n",
              " 55,\n",
              " 66,\n",
              " 82,\n",
              " 19,\n",
              " 95,\n",
              " 5,\n",
              " 84,\n",
              " 84,\n",
              " 7,\n",
              " 89,\n",
              " 19,\n",
              " 47,\n",
              " 84,\n",
              " 102,\n",
              " 87,\n",
              " 7,\n",
              " 19,\n",
              " 99,\n",
              " 19,\n",
              " 19,\n",
              " 17,\n",
              " 82,\n",
              " 96,\n",
              " 15,\n",
              " 6,\n",
              " 19,\n",
              " 86,\n",
              " 84,\n",
              " 15,\n",
              " 83,\n",
              " 19,\n",
              " 42,\n",
              " 84,\n",
              " 15,\n",
              " 83,\n",
              " 19,\n",
              " 17,\n",
              " 96,\n",
              " 66,\n",
              " 65,\n",
              " 89,\n",
              " 19,\n",
              " 99,\n",
              " 99,\n",
              " 19,\n",
              " 17,\n",
              " 6,\n",
              " 15,\n",
              " 66,\n",
              " 84,\n",
              " 15,\n",
              " 19,\n",
              " 9,\n",
              " 84,\n",
              " 6,\n",
              " 21,\n",
              " 19,\n",
              " 19,\n",
              " 47,\n",
              " 88,\n",
              " 96,\n",
              " 25,\n",
              " 19,\n",
              " 57,\n",
              " 82,\n",
              " 6,\n",
              " 19,\n",
              " 47,\n",
              " 88,\n",
              " 70,\n",
              " 96,\n",
              " 89,\n",
              " 19,\n",
              " 42,\n",
              " 84,\n",
              " 102,\n",
              " 5,\n",
              " 84,\n",
              " 84,\n",
              " 15,\n",
              " 89,\n",
              " 19,\n",
              " 86,\n",
              " 84,\n",
              " 15,\n",
              " 83,\n",
              " 19,\n",
              " 42,\n",
              " 84,\n",
              " 15,\n",
              " 83,\n",
              " 19,\n",
              " 19,\n",
              " 91,\n",
              " 15,\n",
              " 88,\n",
              " 70,\n",
              " 26,\n",
              " 88,\n",
              " 51,\n",
              " 7,\n",
              " 96,\n",
              " 26,\n",
              " 87,\n",
              " 19,\n",
              " 19,\n",
              " 20,\n",
              " 84,\n",
              " 70,\n",
              " 7,\n",
              " 19,\n",
              " 81,\n",
              " 96,\n",
              " 66,\n",
              " 86,\n",
              " 70,\n",
              " 26,\n",
              " 19,\n",
              " 5,\n",
              " 6,\n",
              " 70,\n",
              " 15,\n",
              " 51,\n",
              " 82,\n",
              " 19,\n",
              " 51,\n",
              " 84,\n",
              " 21,\n",
              " 87,\n",
              " 19,\n",
              " 86,\n",
              " 87,\n",
              " 7,\n",
              " 87,\n",
              " 43,\n",
              " 88,\n",
              " 19,\n",
              " 65,\n",
              " 84,\n",
              " 70,\n",
              " 7,\n",
              " 19,\n",
              " 81,\n",
              " 96,\n",
              " 66,\n",
              " 86,\n",
              " 70,\n",
              " 26,\n",
              " 19,\n",
              " 5,\n",
              " 6,\n",
              " 70,\n",
              " 15,\n",
              " 51,\n",
              " 82,\n",
              " 19,\n",
              " 51,\n",
              " 84,\n",
              " 21,\n",
              " 87,\n",
              " 89,\n",
              " 19,\n",
              " 36,\n",
              " 53,\n",
              " 84,\n",
              " 7,\n",
              " 66,\n",
              " 65,\n",
              " 93,\n",
              " 14,\n",
              " 55,\n",
              " 67,\n",
              " 50,\n",
              " 19,\n",
              " 19,\n",
              " 19,\n",
              " 6,\n",
              " 15,\n",
              " 19,\n",
              " 84,\n",
              " 51,\n",
              " 66,\n",
              " 84,\n",
              " 51,\n",
              " 6,\n",
              " 66,\n",
              " 19,\n",
              " 88,\n",
              " 66,\n",
              " 6,\n",
              " 15,\n",
              " 21,\n",
              " 96,\n",
              " 15,\n",
              " 83,\n",
              " 19,\n",
              " 15,\n",
              " 87,\n",
              " 23,\n",
              " 66,\n",
              " 19,\n",
              " 66,\n",
              " 84,\n",
              " 19,\n",
              " 6,\n",
              " 19,\n",
              " 7,\n",
              " 84,\n",
              " 51,\n",
              " 61,\n",
              " 87,\n",
              " 66,\n",
              " 19,\n",
              " 19,\n",
              " 17,\n",
              " 84,\n",
              " 15,\n",
              " 66,\n",
              " 96,\n",
              " 15,\n",
              " 70,\n",
              " 87,\n",
              " 19,\n",
              " 88,\n",
              " 96,\n",
              " 83,\n",
              " 15,\n",
              " 96,\n",
              " 15,\n",
              " 83,\n",
              " 19,\n",
              " 70,\n",
              " 63,\n",
              " 19,\n",
              " 90,\n",
              " 84,\n",
              " 7,\n",
              " 19,\n",
              " 81,\n",
              " 96,\n",
              " 66,\n",
              " 86,\n",
              " 70,\n",
              " 26,\n",
              " 19,\n",
              " 26,\n",
              " 65,\n",
              " 19,\n",
              " 87,\n",
              " 15,\n",
              " 66,\n",
              " 87,\n",
              " 7,\n",
              " 96,\n",
              " 15,\n",
              " 83,\n",
              " 19,\n",
              " 66,\n",
              " 82,\n",
              " 87,\n",
              " 19,\n",
              " 51,\n",
              " 84,\n",
              " 21,\n",
              " 87,\n",
              " 19,\n",
              " 26,\n",
              " 87,\n",
              " 5,\n",
              " 84,\n",
              " 102,\n",
              " 40,\n",
              " 19,\n",
              " 19,\n",
              " 69,\n",
              " 99,\n",
              " 67,\n",
              " 55,\n",
              " 14,\n",
              " 69,\n",
              " 79,\n",
              " 67,\n",
              " 19,\n",
              " 19,\n",
              " 19,\n",
              " 32,\n",
              " 63,\n",
              " 87,\n",
              " 15,\n",
              " 19,\n",
              " 81,\n",
              " 96,\n",
              " 66,\n",
              " 86,\n",
              " 70,\n",
              " 26,\n",
              " 19,\n",
              " 1,\n",
              " 47,\n",
              " 82,\n",
              " 87,\n",
              " 19,\n",
              " 48,\n",
              " 96,\n",
              " 7,\n",
              " 66,\n",
              " 70,\n",
              " 6,\n",
              " 5,\n",
              " 19,\n",
              " 9,\n",
              " 87,\n",
              " 102,\n",
              " 6,\n",
              " 7,\n",
              " 21,\n",
              " 19,\n",
              " 17,\n",
              " 87,\n",
              " 15,\n",
              " 66,\n",
              " 87,\n",
              " 7,\n",
              " 37,\n",
              " 19,\n",
              " 9,\n",
              " 87,\n",
              " 40,\n",
              " 19,\n",
              " 54,\n",
              " 54,\n",
              " 19,\n",
              " 17,\n",
              " 5,\n",
              " 6,\n",
              " 7,\n",
              " 96,\n",
              " 90,\n",
              " 96,\n",
              " 51,\n",
              " 6,\n",
              " 66,\n",
              " 96,\n",
              " 84,\n",
              " 15,\n",
              " 88,\n",
              " 19,\n",
              " 86,\n",
              " 87,\n",
              " 5,\n",
              " 5,\n",
              " 84,\n",
              " 89,\n",
              " 19,\n",
              " 19,\n",
              " 19,\n",
              " 47,\n",
              " 82,\n",
              " 6,\n",
              " 15,\n",
              " 61,\n",
              " 19,\n",
              " 65,\n",
              " 84,\n",
              " 70,\n",
              " 19,\n",
              " 90,\n",
              " 84,\n",
              " 7,\n",
              " 19,\n",
              " 51,\n",
              " 84,\n",
              " 15,\n",
              " 66,\n",
              " 6,\n",
              " 51,\n",
              " 66,\n",
              " 96,\n",
              " 15,\n",
              " 83,\n",
              " 19,\n",
              " 66,\n",
              " 82,\n",
              " 87,\n",
              " 19,\n",
              " 48,\n",
              " 96,\n",
              " 7,\n",
              " 66,\n",
              " 70,\n",
              " 6,\n",
              " 5,\n",
              " 19,\n",
              " 9,\n",
              " 87,\n",
              " 102,\n",
              " 6]"
            ]
          },
          "execution_count": 119,
          "metadata": {},
          "output_type": "execute_result"
        }
      ],
      "source": [
        "tokenized_text[:1000]"
      ]
    },
    {
      "cell_type": "markdown",
      "metadata": {
        "id": "pfpYcaypKcI9"
      },
      "source": [
        "### Organizando y estructurando el dataset"
      ]
    },
    {
      "cell_type": "code",
      "execution_count": 120,
      "metadata": {
        "id": "WSSmg9jtKP0T"
      },
      "outputs": [],
      "source": [
        "# separaremos el dataset entre entrenamiento y validación.\n",
        "# `p_val` será la proporción del corpus que se reservará para validación\n",
        "# `num_val` es la cantidad de secuencias de tamaño `max_context_size` que se usará en validación\n",
        "p_val = 0.2\n",
        "num_val = int(np.ceil(len(tokenized_text)*p_val/max_context_size))"
      ]
    },
    {
      "cell_type": "code",
      "execution_count": 121,
      "metadata": {
        "id": "b7dCpGrdKll0"
      },
      "outputs": [],
      "source": [
        "# separamos la porción de texto utilizada en entrenamiento de la de validación.\n",
        "train_text = tokenized_text[:-num_val*max_context_size]\n",
        "val_text = tokenized_text[-num_val*max_context_size:]"
      ]
    },
    {
      "cell_type": "code",
      "execution_count": 122,
      "metadata": {
        "id": "NmxQdxl8LRCg"
      },
      "outputs": [],
      "source": [
        "tokenized_sentences_val = [val_text[init*max_context_size:init*(max_context_size+1)] for init in range(num_val)]"
      ]
    },
    {
      "cell_type": "code",
      "execution_count": 123,
      "metadata": {
        "id": "_gyFT9koLqDm"
      },
      "outputs": [],
      "source": [
        "tokenized_sentences_train = [train_text[init:init+max_context_size] for init in range(len(train_text)-max_context_size+1)]"
      ]
    },
    {
      "cell_type": "code",
      "execution_count": 124,
      "metadata": {
        "id": "oVNqmmLRodT0"
      },
      "outputs": [],
      "source": [
        "X = np.array(tokenized_sentences_train[:-1])\n",
        "y = np.array(tokenized_sentences_train[1:])"
      ]
    },
    {
      "cell_type": "markdown",
      "metadata": {
        "id": "Vken7O4ETsAJ"
      },
      "source": [
        "Nótese que estamos estructurando el problema de aprendizaje como *many-to-many*:\n",
        "\n",
        "Entrada: secuencia de tokens [$x_0$, $x_1$, ..., $x_N$]\n",
        "\n",
        "Target: secuencia de tokens [$x_1$, $x_2$, ..., $x_{N+1}$]\n",
        "\n",
        "De manera que la red tiene que aprender que su salida deben ser los tokens desplazados en una posición y un nuevo token predicho (el N+1).\n",
        "\n",
        "La ventaja de estructurar el aprendizaje de esta manera es que para cada token de target se propaga una señal de gradiente por el grafo de cómputo recurrente, que es mejor que estructurar el problema como *many-to-one* en donde sólo una señal de gradiente se propaga."
      ]
    },
    {
      "cell_type": "markdown",
      "metadata": {
        "id": "l3iPTx-UJl6r"
      },
      "source": [
        "En este punto tenemos en la variable `tokenized_sentences` los versos tokenizados. Vamos a quedarnos con un conjunto de validación que utilizaremos para medir la calidad de la generación de secuencias con la métrica de Perplejidad."
      ]
    },
    {
      "cell_type": "code",
      "execution_count": 125,
      "metadata": {
        "id": "KFAyA4zCWE-5"
      },
      "outputs": [
        {
          "data": {
            "text/plain": [
              "(59635, 150)"
            ]
          },
          "execution_count": 125,
          "metadata": {},
          "output_type": "execute_result"
        }
      ],
      "source": [
        "X.shape"
      ]
    },
    {
      "cell_type": "code",
      "execution_count": 126,
      "metadata": {
        "id": "qcKRl70HFTzG"
      },
      "outputs": [
        {
          "data": {
            "text/plain": [
              "array([19, 66, 82, 87, 19, 88, 87, 51,  7, 87])"
            ]
          },
          "execution_count": 126,
          "metadata": {},
          "output_type": "execute_result"
        }
      ],
      "source": [
        "X[0,:10]"
      ]
    },
    {
      "cell_type": "code",
      "execution_count": 127,
      "metadata": {
        "id": "TVpLCKSZFXZO"
      },
      "outputs": [
        {
          "data": {
            "text/plain": [
              "array([66, 82, 87, 19, 88, 87, 51,  7, 87, 66])"
            ]
          },
          "execution_count": 127,
          "metadata": {},
          "output_type": "execute_result"
        }
      ],
      "source": [
        "y[0,:10]"
      ]
    },
    {
      "cell_type": "code",
      "execution_count": 128,
      "metadata": {
        "id": "wOFCR-KqbW1N"
      },
      "outputs": [],
      "source": [
        "vocab_size = len(chars_vocab)"
      ]
    },
    {
      "cell_type": "markdown",
      "metadata": {
        "id": "tnnjdAQ5UAEJ"
      },
      "source": [
        "# Definiendo el modelo"
      ]
    },
    {
      "cell_type": "markdown",
      "metadata": {
        "id": "wgz7VKwTUbj6"
      },
      "source": [
        "El modelo que se propone como ejemplo consume los índices de los tokens y los transforma en vectores OHE (en este caso no entrenamos una capa de embedding para caracteres). Esa transformación se logra combinando las capas `CategoryEncoding` que transforma a índices a vectores OHE y `TimeDistributed` que aplica la capa a lo largo de la dimensión \"temporal\" de la secuencia.\n",
        "\n",
        "Para el el desafío, añadimos una capa mas de SimplRNN para ver cómo se comporta"
      ]
    },
    {
      "cell_type": "code",
      "execution_count": 129,
      "metadata": {
        "id": "Zd2OkfQYs2Q7"
      },
      "outputs": [
        {
          "name": "stderr",
          "output_type": "stream",
          "text": [
            "c:\\Users\\Lorda\\Source\\Repos\\CEIA\\len-nat\\.env\\lib\\site-packages\\keras\\src\\layers\\core\\wrapper.py:27: UserWarning: Do not pass an `input_shape`/`input_dim` argument to a layer. When using Sequential models, prefer using an `Input(shape)` object as the first layer in the model instead.\n",
            "  super().__init__(**kwargs)\n"
          ]
        },
        {
          "data": {
            "text/html": [
              "<pre style=\"white-space:pre;overflow-x:auto;line-height:normal;font-family:Menlo,'DejaVu Sans Mono',consolas,'Courier New',monospace\"><span style=\"font-weight: bold\">Model: \"sequential_4\"</span>\n",
              "</pre>\n"
            ],
            "text/plain": [
              "\u001b[1mModel: \"sequential_4\"\u001b[0m\n"
            ]
          },
          "metadata": {},
          "output_type": "display_data"
        },
        {
          "data": {
            "text/html": [
              "<pre style=\"white-space:pre;overflow-x:auto;line-height:normal;font-family:Menlo,'DejaVu Sans Mono',consolas,'Courier New',monospace\">┏━━━━━━━━━━━━━━━━━━━━━━━━━━━━━━━━━┳━━━━━━━━━━━━━━━━━━━━━━━━┳━━━━━━━━━━━━━━━┓\n",
              "┃<span style=\"font-weight: bold\"> Layer (type)                    </span>┃<span style=\"font-weight: bold\"> Output Shape           </span>┃<span style=\"font-weight: bold\">       Param # </span>┃\n",
              "┡━━━━━━━━━━━━━━━━━━━━━━━━━━━━━━━━━╇━━━━━━━━━━━━━━━━━━━━━━━━╇━━━━━━━━━━━━━━━┩\n",
              "│ time_distributed_4              │ (<span style=\"color: #00d7ff; text-decoration-color: #00d7ff\">None</span>, <span style=\"color: #00d7ff; text-decoration-color: #00d7ff\">None</span>, <span style=\"color: #00af00; text-decoration-color: #00af00\">105</span>)      │             <span style=\"color: #00af00; text-decoration-color: #00af00\">0</span> │\n",
              "│ (<span style=\"color: #0087ff; text-decoration-color: #0087ff\">TimeDistributed</span>)               │                        │               │\n",
              "├─────────────────────────────────┼────────────────────────┼───────────────┤\n",
              "│ simple_rnn_7 (<span style=\"color: #0087ff; text-decoration-color: #0087ff\">SimpleRNN</span>)        │ (<span style=\"color: #00d7ff; text-decoration-color: #00d7ff\">None</span>, <span style=\"color: #00d7ff; text-decoration-color: #00d7ff\">None</span>, <span style=\"color: #00af00; text-decoration-color: #00af00\">250</span>)      │        <span style=\"color: #00af00; text-decoration-color: #00af00\">89,000</span> │\n",
              "├─────────────────────────────────┼────────────────────────┼───────────────┤\n",
              "│ simple_rnn_8 (<span style=\"color: #0087ff; text-decoration-color: #0087ff\">SimpleRNN</span>)        │ (<span style=\"color: #00d7ff; text-decoration-color: #00d7ff\">None</span>, <span style=\"color: #00d7ff; text-decoration-color: #00d7ff\">None</span>, <span style=\"color: #00af00; text-decoration-color: #00af00\">250</span>)      │       <span style=\"color: #00af00; text-decoration-color: #00af00\">125,250</span> │\n",
              "├─────────────────────────────────┼────────────────────────┼───────────────┤\n",
              "│ dense_4 (<span style=\"color: #0087ff; text-decoration-color: #0087ff\">Dense</span>)                 │ (<span style=\"color: #00d7ff; text-decoration-color: #00d7ff\">None</span>, <span style=\"color: #00d7ff; text-decoration-color: #00d7ff\">None</span>, <span style=\"color: #00af00; text-decoration-color: #00af00\">105</span>)      │        <span style=\"color: #00af00; text-decoration-color: #00af00\">26,355</span> │\n",
              "└─────────────────────────────────┴────────────────────────┴───────────────┘\n",
              "</pre>\n"
            ],
            "text/plain": [
              "┏━━━━━━━━━━━━━━━━━━━━━━━━━━━━━━━━━┳━━━━━━━━━━━━━━━━━━━━━━━━┳━━━━━━━━━━━━━━━┓\n",
              "┃\u001b[1m \u001b[0m\u001b[1mLayer (type)                   \u001b[0m\u001b[1m \u001b[0m┃\u001b[1m \u001b[0m\u001b[1mOutput Shape          \u001b[0m\u001b[1m \u001b[0m┃\u001b[1m \u001b[0m\u001b[1m      Param #\u001b[0m\u001b[1m \u001b[0m┃\n",
              "┡━━━━━━━━━━━━━━━━━━━━━━━━━━━━━━━━━╇━━━━━━━━━━━━━━━━━━━━━━━━╇━━━━━━━━━━━━━━━┩\n",
              "│ time_distributed_4              │ (\u001b[38;5;45mNone\u001b[0m, \u001b[38;5;45mNone\u001b[0m, \u001b[38;5;34m105\u001b[0m)      │             \u001b[38;5;34m0\u001b[0m │\n",
              "│ (\u001b[38;5;33mTimeDistributed\u001b[0m)               │                        │               │\n",
              "├─────────────────────────────────┼────────────────────────┼───────────────┤\n",
              "│ simple_rnn_7 (\u001b[38;5;33mSimpleRNN\u001b[0m)        │ (\u001b[38;5;45mNone\u001b[0m, \u001b[38;5;45mNone\u001b[0m, \u001b[38;5;34m250\u001b[0m)      │        \u001b[38;5;34m89,000\u001b[0m │\n",
              "├─────────────────────────────────┼────────────────────────┼───────────────┤\n",
              "│ simple_rnn_8 (\u001b[38;5;33mSimpleRNN\u001b[0m)        │ (\u001b[38;5;45mNone\u001b[0m, \u001b[38;5;45mNone\u001b[0m, \u001b[38;5;34m250\u001b[0m)      │       \u001b[38;5;34m125,250\u001b[0m │\n",
              "├─────────────────────────────────┼────────────────────────┼───────────────┤\n",
              "│ dense_4 (\u001b[38;5;33mDense\u001b[0m)                 │ (\u001b[38;5;45mNone\u001b[0m, \u001b[38;5;45mNone\u001b[0m, \u001b[38;5;34m105\u001b[0m)      │        \u001b[38;5;34m26,355\u001b[0m │\n",
              "└─────────────────────────────────┴────────────────────────┴───────────────┘\n"
            ]
          },
          "metadata": {},
          "output_type": "display_data"
        },
        {
          "data": {
            "text/html": [
              "<pre style=\"white-space:pre;overflow-x:auto;line-height:normal;font-family:Menlo,'DejaVu Sans Mono',consolas,'Courier New',monospace\"><span style=\"font-weight: bold\"> Total params: </span><span style=\"color: #00af00; text-decoration-color: #00af00\">240,605</span> (939.86 KB)\n",
              "</pre>\n"
            ],
            "text/plain": [
              "\u001b[1m Total params: \u001b[0m\u001b[38;5;34m240,605\u001b[0m (939.86 KB)\n"
            ]
          },
          "metadata": {},
          "output_type": "display_data"
        },
        {
          "data": {
            "text/html": [
              "<pre style=\"white-space:pre;overflow-x:auto;line-height:normal;font-family:Menlo,'DejaVu Sans Mono',consolas,'Courier New',monospace\"><span style=\"font-weight: bold\"> Trainable params: </span><span style=\"color: #00af00; text-decoration-color: #00af00\">240,605</span> (939.86 KB)\n",
              "</pre>\n"
            ],
            "text/plain": [
              "\u001b[1m Trainable params: \u001b[0m\u001b[38;5;34m240,605\u001b[0m (939.86 KB)\n"
            ]
          },
          "metadata": {},
          "output_type": "display_data"
        },
        {
          "data": {
            "text/html": [
              "<pre style=\"white-space:pre;overflow-x:auto;line-height:normal;font-family:Menlo,'DejaVu Sans Mono',consolas,'Courier New',monospace\"><span style=\"font-weight: bold\"> Non-trainable params: </span><span style=\"color: #00af00; text-decoration-color: #00af00\">0</span> (0.00 B)\n",
              "</pre>\n"
            ],
            "text/plain": [
              "\u001b[1m Non-trainable params: \u001b[0m\u001b[38;5;34m0\u001b[0m (0.00 B)\n"
            ]
          },
          "metadata": {},
          "output_type": "display_data"
        }
      ],
      "source": [
        "model = Sequential()\n",
        "\n",
        "model.add(TimeDistributed(CategoryEncoding(num_tokens=vocab_size, output_mode = \"one_hot\"),input_shape=(None,1)))\n",
        "model.add(SimpleRNN(250, return_sequences=True, dropout=0.1, recurrent_dropout=0.2))\n",
        "model.add(SimpleRNN(250, return_sequences=True, dropout=0.1, recurrent_dropout=0.2))\n",
        "model.add(Dense(vocab_size, activation='softmax'))\n",
        "model.compile(loss='sparse_categorical_crossentropy', optimizer='rmsprop')\n",
        "\n",
        "model.summary()"
      ]
    },
    {
      "cell_type": "markdown",
      "metadata": {
        "id": "GmJWNyxQwfCE"
      },
      "source": [
        "\n",
        "### Definir el modelo"
      ]
    },
    {
      "cell_type": "markdown",
      "metadata": {
        "id": "YWK3z85sQfUe"
      },
      "source": [
        "Dado que por el momento no hay implementaciones adecuadas de la perplejidad que puedan operar en tiempo de entrenamiento, armaremos un Callback *ad-hoc* que la calcule en cada epoch.\n",
        "\n",
        "**Nota**: un Callback es una rutina gatillada por algún evento, son muy útiles para relevar datos en diferentes momentos del desarrollo del modelo. En este caso queremos hacer un cálculo cada vez que termina una epoch de entrenamiento."
      ]
    },
    {
      "cell_type": "code",
      "execution_count": 130,
      "metadata": {
        "id": "zUHX3r5JD-MG"
      },
      "outputs": [],
      "source": [
        "class PplCallback(keras.callbacks.Callback):\n",
        "\n",
        "    '''\n",
        "    Este callback es una solución ad-hoc para calcular al final de cada epoch de\n",
        "    entrenamiento la métrica de Perplejidad sobre un conjunto de datos de validación.\n",
        "    La perplejidad es una métrica cuantitativa para evaluar la calidad de la generación de secuencias.\n",
        "    Además implementa la finalización del entrenamiento (Early Stopping)\n",
        "    si la perplejidad no mejora después de `patience` epochs.\n",
        "    '''\n",
        "\n",
        "    def __init__(self, val_data, history_ppl,patience=5):\n",
        "      # El callback lo inicializamos con secuencias de validación sobre las cuales\n",
        "      # mediremos la perplejidad\n",
        "      self.val_data = val_data\n",
        "\n",
        "      self.target = []\n",
        "      self.padded = []\n",
        "\n",
        "      count = 0\n",
        "      self.info = []\n",
        "      self.min_score = np.inf\n",
        "      self.patience_counter = 0\n",
        "      self.patience = patience\n",
        "\n",
        "      # nos movemos en todas las secuencias de los datos de validación\n",
        "      for seq in self.val_data:\n",
        "\n",
        "        len_seq = len(seq)\n",
        "        # armamos todas las subsecuencias\n",
        "        subseq = [seq[:i] for i in range(1,len_seq)]\n",
        "        self.target.extend([seq[i] for i in range(1,len_seq)])\n",
        "\n",
        "        if len(subseq)!=0:\n",
        "\n",
        "          self.padded.append(pad_sequences(subseq, maxlen=max_context_size, padding='pre'))\n",
        "\n",
        "          self.info.append((count,count+len_seq))\n",
        "          count += len_seq\n",
        "\n",
        "      self.padded = np.vstack(self.padded)\n",
        "\n",
        "\n",
        "    def on_epoch_end(self, epoch, logs=None):\n",
        "\n",
        "        # en `scores` iremos guardando la perplejidad de cada secuencia\n",
        "        scores = []\n",
        "\n",
        "        predictions = self.model.predict(self.padded,verbose=0)\n",
        "\n",
        "        # para cada secuencia de validación\n",
        "        for start,end in self.info:\n",
        "\n",
        "          # en `probs` iremos guardando las probabilidades de los términos target\n",
        "          probs = [predictions[idx_seq,-1,idx_vocab] for idx_seq, idx_vocab in zip(range(start,end),self.target[start:end])]\n",
        "\n",
        "          # calculamos la perplejidad por medio de logaritmos\n",
        "          scores.append(np.exp(-np.sum(np.log(probs))/(end-start)))\n",
        "\n",
        "        # promediamos todos los scores e imprimimos el valor promedio\n",
        "        current_score = np.mean(scores)\n",
        "        history_ppl.append(current_score)\n",
        "        print(f'\\n mean perplexity: {current_score} \\n')\n",
        "\n",
        "        # chequeamos si tenemos que detener el entrenamiento\n",
        "        if current_score < self.min_score:\n",
        "          self.min_score = current_score\n",
        "          self.model.save(\"char_my_model.keras\")\n",
        "          print(\"Saved new model!\")\n",
        "          self.patience_counter = 0\n",
        "        else:\n",
        "          self.patience_counter += 1\n",
        "          if self.patience_counter == self.patience:\n",
        "            print(\"Stopping training...\")\n",
        "            self.model.stop_training = True\n"
      ]
    },
    {
      "cell_type": "markdown",
      "metadata": {
        "id": "8HBZIwR0gruA"
      },
      "source": [
        "### Entrenamiento"
      ]
    },
    {
      "cell_type": "code",
      "execution_count": 131,
      "metadata": {
        "id": "oQq1PHDkxDvN"
      },
      "outputs": [
        {
          "name": "stdout",
          "output_type": "stream",
          "text": [
            "Epoch 1/20\n",
            "\u001b[1m233/233\u001b[0m \u001b[32m━━━━━━━━━━━━━━━━━━━━\u001b[0m\u001b[37m\u001b[0m \u001b[1m0s\u001b[0m 360ms/step - loss: 3.3217\n",
            " mean perplexity: 14.198404226643863 \n",
            "\n",
            "Saved new model!\n",
            "\u001b[1m233/233\u001b[0m \u001b[32m━━━━━━━━━━━━━━━━━━━━\u001b[0m\u001b[37m\u001b[0m \u001b[1m92s\u001b[0m 383ms/step - loss: 3.3203\n",
            "Epoch 2/20\n",
            "\u001b[1m233/233\u001b[0m \u001b[32m━━━━━━━━━━━━━━━━━━━━\u001b[0m\u001b[37m\u001b[0m \u001b[1m0s\u001b[0m 359ms/step - loss: 2.4848\n",
            " mean perplexity: 12.259701969592728 \n",
            "\n",
            "Saved new model!\n",
            "\u001b[1m233/233\u001b[0m \u001b[32m━━━━━━━━━━━━━━━━━━━━\u001b[0m\u001b[37m\u001b[0m \u001b[1m87s\u001b[0m 374ms/step - loss: 2.4845\n",
            "Epoch 3/20\n",
            "\u001b[1m233/233\u001b[0m \u001b[32m━━━━━━━━━━━━━━━━━━━━\u001b[0m\u001b[37m\u001b[0m \u001b[1m0s\u001b[0m 360ms/step - loss: 2.2428\n",
            " mean perplexity: 11.594906192103503 \n",
            "\n",
            "Saved new model!\n",
            "\u001b[1m233/233\u001b[0m \u001b[32m━━━━━━━━━━━━━━━━━━━━\u001b[0m\u001b[37m\u001b[0m \u001b[1m87s\u001b[0m 375ms/step - loss: 2.2426\n",
            "Epoch 4/20\n",
            "\u001b[1m233/233\u001b[0m \u001b[32m━━━━━━━━━━━━━━━━━━━━\u001b[0m\u001b[37m\u001b[0m \u001b[1m0s\u001b[0m 365ms/step - loss: 2.0869\n",
            " mean perplexity: 10.709891157372345 \n",
            "\n",
            "Saved new model!\n",
            "\u001b[1m233/233\u001b[0m \u001b[32m━━━━━━━━━━━━━━━━━━━━\u001b[0m\u001b[37m\u001b[0m \u001b[1m89s\u001b[0m 381ms/step - loss: 2.0868\n",
            "Epoch 5/20\n",
            "\u001b[1m233/233\u001b[0m \u001b[32m━━━━━━━━━━━━━━━━━━━━\u001b[0m\u001b[37m\u001b[0m \u001b[1m0s\u001b[0m 362ms/step - loss: 1.9755\n",
            " mean perplexity: 10.844710796356145 \n",
            "\n",
            "\u001b[1m233/233\u001b[0m \u001b[32m━━━━━━━━━━━━━━━━━━━━\u001b[0m\u001b[37m\u001b[0m \u001b[1m88s\u001b[0m 377ms/step - loss: 1.9754\n",
            "Epoch 6/20\n",
            "\u001b[1m233/233\u001b[0m \u001b[32m━━━━━━━━━━━━━━━━━━━━\u001b[0m\u001b[37m\u001b[0m \u001b[1m0s\u001b[0m 359ms/step - loss: 1.8921\n",
            " mean perplexity: 10.82927217697762 \n",
            "\n",
            "\u001b[1m233/233\u001b[0m \u001b[32m━━━━━━━━━━━━━━━━━━━━\u001b[0m\u001b[37m\u001b[0m \u001b[1m87s\u001b[0m 373ms/step - loss: 1.8920\n",
            "Epoch 7/20\n",
            "\u001b[1m233/233\u001b[0m \u001b[32m━━━━━━━━━━━━━━━━━━━━\u001b[0m\u001b[37m\u001b[0m \u001b[1m0s\u001b[0m 346ms/step - loss: 1.8322\n",
            " mean perplexity: 11.45228448889786 \n",
            "\n",
            "\u001b[1m233/233\u001b[0m \u001b[32m━━━━━━━━━━━━━━━━━━━━\u001b[0m\u001b[37m\u001b[0m \u001b[1m84s\u001b[0m 361ms/step - loss: 1.8322\n",
            "Epoch 8/20\n",
            "\u001b[1m233/233\u001b[0m \u001b[32m━━━━━━━━━━━━━━━━━━━━\u001b[0m\u001b[37m\u001b[0m \u001b[1m0s\u001b[0m 342ms/step - loss: 1.7824\n",
            " mean perplexity: 12.143988732913297 \n",
            "\n",
            "\u001b[1m233/233\u001b[0m \u001b[32m━━━━━━━━━━━━━━━━━━━━\u001b[0m\u001b[37m\u001b[0m \u001b[1m83s\u001b[0m 357ms/step - loss: 1.7823\n",
            "Epoch 9/20\n",
            "\u001b[1m233/233\u001b[0m \u001b[32m━━━━━━━━━━━━━━━━━━━━\u001b[0m\u001b[37m\u001b[0m \u001b[1m0s\u001b[0m 343ms/step - loss: 1.7408\n",
            " mean perplexity: 11.439397896585447 \n",
            "\n",
            "Stopping training...\n",
            "\u001b[1m233/233\u001b[0m \u001b[32m━━━━━━━━━━━━━━━━━━━━\u001b[0m\u001b[37m\u001b[0m \u001b[1m83s\u001b[0m 357ms/step - loss: 1.7408\n"
          ]
        }
      ],
      "source": [
        "# fiteamos, nótese el agregado del callback con su inicialización. El batch_size lo podemos seleccionar a mano\n",
        "# en general, lo mejor es escoger el batch más grande posible que minimice el tiempo de cada época.\n",
        "# En la variable `history_ppl` se guardarán los valores de perplejidad para cada época.\n",
        "history_ppl = []\n",
        "hist = model.fit(X, y, epochs=20, callbacks=[PplCallback(tokenized_sentences_val,history_ppl)], batch_size=256)"
      ]
    },
    {
      "cell_type": "code",
      "execution_count": 132,
      "metadata": {
        "id": "K30JHB3Dv-mx"
      },
      "outputs": [
        {
          "data": {
            "image/png": "[encoded data removed]",
            "text/plain": [
              "<Figure size 640x480 with 1 Axes>"
            ]
          },
          "metadata": {},
          "output_type": "display_data"
        }
      ],
      "source": [
        "# Entrenamiento\n",
        "epoch_count = range(1, len(history_ppl) + 1)\n",
        "sns.lineplot(x=epoch_count,  y=history_ppl)\n",
        "plt.show()"
      ]
    },
    {
      "cell_type": "markdown",
      "metadata": {},
      "source": [
        "Podemos observar que la perplexity del modelo no aumenta demasiado una vez se detiene el entrenamiento, por lo que decidimos quedarnos con la epoca 9 a pesar de que hay otras con mejor perplejidad."
      ]
    },
    {
      "cell_type": "code",
      "execution_count": 133,
      "metadata": {
        "id": "Rhy5hZN38qfO"
      },
      "outputs": [],
      "source": [
        "# Cargamos el mejor modelo guardado del entrenamiento para hacer inferencia\n",
        "model = keras.models.load_model('char_my_model.keras')"
      ]
    },
    {
      "cell_type": "markdown",
      "metadata": {
        "id": "KN6Fg_BsxJe6"
      },
      "source": [
        "\n",
        "### Predicción del próximo caracter"
      ]
    },
    {
      "cell_type": "code",
      "execution_count": null,
      "metadata": {
        "id": "IBvKHFPmzpy2"
      },
      "outputs": [],
      "source": [
        "# Se puede usar gradio para probar el modelo\n",
        "# Gradio es una herramienta muy útil para crear interfaces para ensayar modelos\n",
        "# https://gradio.app/\n",
        "\n",
        "!pip install -q gradio"
      ]
    },
    {
      "cell_type": "code",
      "execution_count": 134,
      "metadata": {
        "id": "HNyBykvhzs7-"
      },
      "outputs": [
        {
          "name": "stdout",
          "output_type": "stream",
          "text": [
            "Running on local URL:  http://127.0.0.1:7860\n",
            "\n",
            "To create a public link, set `share=True` in `launch()`.\n"
          ]
        },
        {
          "data": {
            "text/html": [
              "<div><iframe src=\"http://127.0.0.1:7860/\" width=\"100%\" height=\"500\" allow=\"autoplay; camera; microphone; clipboard-read; clipboard-write;\" frameborder=\"0\" allowfullscreen></iframe></div>"
            ],
            "text/plain": [
              "<IPython.core.display.HTML object>"
            ]
          },
          "metadata": {},
          "output_type": "display_data"
        },
        {
          "name": "stdout",
          "output_type": "stream",
          "text": [
            "\u001b[1m1/1\u001b[0m \u001b[32m━━━━━━━━━━━━━━━━━━━━\u001b[0m\u001b[37m\u001b[0m \u001b[1m1s\u001b[0m 871ms/step\n",
            "\u001b[1m1/1\u001b[0m \u001b[32m━━━━━━━━━━━━━━━━━━━━\u001b[0m\u001b[37m\u001b[0m \u001b[1m0s\u001b[0m 17ms/step\n",
            "\u001b[1m1/1\u001b[0m \u001b[32m━━━━━━━━━━━━━━━━━━━━\u001b[0m\u001b[37m\u001b[0m \u001b[1m0s\u001b[0m 18ms/step\n",
            "\u001b[1m1/1\u001b[0m \u001b[32m━━━━━━━━━━━━━━━━━━━━\u001b[0m\u001b[37m\u001b[0m \u001b[1m0s\u001b[0m 17ms/step\n",
            "\u001b[1m1/1\u001b[0m \u001b[32m━━━━━━━━━━━━━━━━━━━━\u001b[0m\u001b[37m\u001b[0m \u001b[1m0s\u001b[0m 16ms/step\n",
            "\u001b[1m1/1\u001b[0m \u001b[32m━━━━━━━━━━━━━━━━━━━━\u001b[0m\u001b[37m\u001b[0m \u001b[1m0s\u001b[0m 17ms/step\n",
            "\u001b[1m1/1\u001b[0m \u001b[32m━━━━━━━━━━━━━━━━━━━━\u001b[0m\u001b[37m\u001b[0m \u001b[1m0s\u001b[0m 18ms/step\n",
            "\u001b[1m1/1\u001b[0m \u001b[32m━━━━━━━━━━━━━━━━━━━━\u001b[0m\u001b[37m\u001b[0m \u001b[1m0s\u001b[0m 18ms/step\n",
            "\u001b[1m1/1\u001b[0m \u001b[32m━━━━━━━━━━━━━━━━━━━━\u001b[0m\u001b[37m\u001b[0m \u001b[1m0s\u001b[0m 17ms/step\n",
            "\u001b[1m1/1\u001b[0m \u001b[32m━━━━━━━━━━━━━━━━━━━━\u001b[0m\u001b[37m\u001b[0m \u001b[1m0s\u001b[0m 17ms/step\n",
            "\u001b[1m1/1\u001b[0m \u001b[32m━━━━━━━━━━━━━━━━━━━━\u001b[0m\u001b[37m\u001b[0m \u001b[1m0s\u001b[0m 16ms/step\n",
            "\u001b[1m1/1\u001b[0m \u001b[32m━━━━━━━━━━━━━━━━━━━━\u001b[0m\u001b[37m\u001b[0m \u001b[1m0s\u001b[0m 17ms/step\n",
            "\u001b[1m1/1\u001b[0m \u001b[32m━━━━━━━━━━━━━━━━━━━━\u001b[0m\u001b[37m\u001b[0m \u001b[1m0s\u001b[0m 18ms/step\n",
            "\u001b[1m1/1\u001b[0m \u001b[32m━━━━━━━━━━━━━━━━━━━━\u001b[0m\u001b[37m\u001b[0m \u001b[1m0s\u001b[0m 17ms/step\n",
            "\u001b[1m1/1\u001b[0m \u001b[32m━━━━━━━━━━━━━━━━━━━━\u001b[0m\u001b[37m\u001b[0m \u001b[1m0s\u001b[0m 17ms/step\n",
            "\u001b[1m1/1\u001b[0m \u001b[32m━━━━━━━━━━━━━━━━━━━━\u001b[0m\u001b[37m\u001b[0m \u001b[1m0s\u001b[0m 18ms/step\n",
            "\u001b[1m1/1\u001b[0m \u001b[32m━━━━━━━━━━━━━━━━━━━━\u001b[0m\u001b[37m\u001b[0m \u001b[1m0s\u001b[0m 18ms/step\n",
            "\u001b[1m1/1\u001b[0m \u001b[32m━━━━━━━━━━━━━━━━━━━━\u001b[0m\u001b[37m\u001b[0m \u001b[1m0s\u001b[0m 17ms/step\n",
            "\u001b[1m1/1\u001b[0m \u001b[32m━━━━━━━━━━━━━━━━━━━━\u001b[0m\u001b[37m\u001b[0m \u001b[1m0s\u001b[0m 18ms/step\n",
            "\u001b[1m1/1\u001b[0m \u001b[32m━━━━━━━━━━━━━━━━━━━━\u001b[0m\u001b[37m\u001b[0m \u001b[1m0s\u001b[0m 18ms/step\n",
            "\u001b[1m1/1\u001b[0m \u001b[32m━━━━━━━━━━━━━━━━━━━━\u001b[0m\u001b[37m\u001b[0m \u001b[1m0s\u001b[0m 17ms/step\n",
            "\u001b[1m1/1\u001b[0m \u001b[32m━━━━━━━━━━━━━━━━━━━━\u001b[0m\u001b[37m\u001b[0m \u001b[1m0s\u001b[0m 19ms/step\n",
            "\u001b[1m1/1\u001b[0m \u001b[32m━━━━━━━━━━━━━━━━━━━━\u001b[0m\u001b[37m\u001b[0m \u001b[1m0s\u001b[0m 18ms/step\n",
            "\u001b[1m1/1\u001b[0m \u001b[32m━━━━━━━━━━━━━━━━━━━━\u001b[0m\u001b[37m\u001b[0m \u001b[1m0s\u001b[0m 19ms/step\n",
            "\u001b[1m1/1\u001b[0m \u001b[32m━━━━━━━━━━━━━━━━━━━━\u001b[0m\u001b[37m\u001b[0m \u001b[1m0s\u001b[0m 18ms/step\n",
            "Keyboard interruption in main thread... closing server.\n"
          ]
        },
        {
          "data": {
            "text/plain": []
          },
          "execution_count": 134,
          "metadata": {},
          "output_type": "execute_result"
        }
      ],
      "source": [
        "def model_response(human_text):\n",
        "\n",
        "    # Encodeamos\n",
        "    encoded = [char2idx[ch] for ch in human_text.lower() ]\n",
        "    # Si tienen distinto largo\n",
        "    encoded = pad_sequences([encoded], maxlen=max_context_size, padding='pre')\n",
        "\n",
        "    # Predicción softmax\n",
        "    y_hat = np.argmax(model.predict(encoded)[0,-1,:])\n",
        "\n",
        "\n",
        "    # Debemos buscar en el vocabulario el caracter\n",
        "    # que corresopnde al indice (y_hat) predicho por le modelo\n",
        "    out_word = ''\n",
        "    out_word = idx2char[y_hat]\n",
        "\n",
        "    # Agrego la palabra a la frase predicha\n",
        "    return human_text + out_word\n",
        "\n",
        "iface = gr.Interface(\n",
        "    fn=model_response,\n",
        "    inputs=[\"textbox\"],\n",
        "    outputs=\"text\")\n",
        "\n",
        "iface.launch(debug=True)"
      ]
    },
    {
      "cell_type": "markdown",
      "metadata": {},
      "source": [
        "Se puede comprobar en el \"tester\" del modelo su capacidad para completar palabras correctamente, pero una vez pasa a la siguiente palabra tiende a entrar en bucle en poco tiempo"
      ]
    },
    {
      "cell_type": "markdown",
      "metadata": {
        "id": "mCeMWWupxN1-"
      },
      "source": [
        "### Generación de secuencias"
      ]
    },
    {
      "cell_type": "code",
      "execution_count": 135,
      "metadata": {
        "id": "bwbS_pfhxvB3"
      },
      "outputs": [],
      "source": [
        "def generate_seq(model, seed_text, max_length, n_words):\n",
        "    \"\"\"\n",
        "        Exec model sequence prediction\n",
        "\n",
        "        Args:\n",
        "            model (keras): modelo entrenado\n",
        "            seed_text (string): texto de entrada (input_seq)\n",
        "            max_length (int): máxima longitud de la sequencia de entrada\n",
        "            n_words (int): números de caracteres a agregar a la sequencia de entrada\n",
        "        returns:\n",
        "            output_text (string): sentencia con las \"n_words\" agregadas\n",
        "    \"\"\"\n",
        "    output_text = seed_text\n",
        "\t# generate a fixed number of words\n",
        "    for _ in range(n_words):\n",
        "\t\t# Encodeamos\n",
        "        encoded = [char2idx[ch] for ch in output_text.lower() ]\n",
        "\t\t# Si tienen distinto largo\n",
        "        encoded = pad_sequences([encoded], maxlen=max_length, padding='pre')\n",
        "\n",
        "\t\t# Predicción softmax\n",
        "        y_hat = np.argmax(model.predict(encoded,verbose=0)[0,-1,:])\n",
        "\t\t# Vamos concatenando las predicciones\n",
        "        out_word = ''\n",
        "\n",
        "        out_word = idx2char[y_hat]\n",
        "\n",
        "\t\t# Agrego las palabras a la frase predicha\n",
        "        output_text += out_word\n",
        "    return output_text"
      ]
    },
    {
      "cell_type": "code",
      "execution_count": 137,
      "metadata": {
        "id": "JoFqRC5pxzqS"
      },
      "outputs": [
        {
          "data": {
            "text/plain": [
              "'the key to success to the in the surved to re'"
            ]
          },
          "execution_count": 137,
          "metadata": {},
          "output_type": "execute_result"
        }
      ],
      "source": [
        "input_text='the key to succ'\n",
        "\n",
        "generate_seq(model, input_text, max_length=max_context_size, n_words=30)"
      ]
    },
    {
      "cell_type": "markdown",
      "metadata": {
        "id": "drJ6xn5qW1Hl"
      },
      "source": [
        "###  Beam search y muestreo aleatorio"
      ]
    },
    {
      "cell_type": "code",
      "execution_count": 138,
      "metadata": {
        "id": "_vovn9XZW1Hl"
      },
      "outputs": [],
      "source": [
        "# funcionalidades para hacer encoding y decoding\n",
        "\n",
        "def encode(text,max_length=max_context_size):\n",
        "\n",
        "    encoded = [char2idx[ch] for ch in text]\n",
        "    encoded = pad_sequences([encoded], maxlen=max_length, padding='pre')\n",
        "\n",
        "    return encoded\n",
        "\n",
        "def decode(seq):\n",
        "    return ''.join([idx2char[ch] for ch in seq])"
      ]
    },
    {
      "cell_type": "code",
      "execution_count": 139,
      "metadata": {
        "id": "I_lZiQwkW1Hl"
      },
      "outputs": [],
      "source": [
        "# función que selecciona candidatos para el beam search\n",
        "def select_candidates(pred,num_beams,vocab_size,history_probs,history_tokens,temp,mode):\n",
        "\n",
        "  # colectar todas las probabilidades para la siguiente búsqueda\n",
        "  pred_large = []\n",
        "\n",
        "  for idx,pp in enumerate(pred):\n",
        "    pred_large.extend(np.log(pp+1E-10)+history_probs[idx])\n",
        "\n",
        "  pred_large = np.array(pred_large)\n",
        "\n",
        "  # criterio de selección\n",
        "  if mode == 'det':\n",
        "    idx_select = np.argsort(pred_large)[::-1][:num_beams] # beam search determinista\n",
        "  elif mode == 'sto':\n",
        "    idx_select = np.random.choice(np.arange(pred_large.shape[0]), num_beams, p=softmax(pred_large/temp)) # beam search con muestreo aleatorio\n",
        "  else:\n",
        "    raise ValueError(f'Wrong selection mode. {mode} was given. det and sto are supported.')\n",
        "\n",
        "  # traducir a índices de token en el vocabulario\n",
        "  new_history_tokens = np.concatenate((np.array(history_tokens)[idx_select//vocab_size],\n",
        "                        np.array([idx_select%vocab_size]).T),\n",
        "                      axis=1)\n",
        "\n",
        "  # devolver el producto de las probabilidades (log) y la secuencia de tokens seleccionados\n",
        "  return pred_large[idx_select.astype(int)], new_history_tokens.astype(int)\n",
        "\n",
        "\n",
        "def beam_search(model,num_beams,num_words,input,temp=1,mode='det'):\n",
        "\n",
        "    # first iteration\n",
        "\n",
        "    # encode\n",
        "    encoded = encode(input)\n",
        "\n",
        "    # first prediction\n",
        "    y_hat = model.predict(encoded,verbose=0)[0,-1,:]\n",
        "\n",
        "    # get vocabulary size\n",
        "    vocab_size = y_hat.shape[0]\n",
        "\n",
        "    # initialize history\n",
        "    history_probs = [0]*num_beams\n",
        "    history_tokens = [encoded[0]]*num_beams\n",
        "\n",
        "    # select num_beams candidates\n",
        "    history_probs, history_tokens = select_candidates([y_hat],\n",
        "                                        num_beams,\n",
        "                                        vocab_size,\n",
        "                                        history_probs,\n",
        "                                        history_tokens,\n",
        "                                        temp,\n",
        "                                        mode)\n",
        "\n",
        "    # beam search loop\n",
        "    for i in range(num_words-1):\n",
        "\n",
        "      preds = []\n",
        "\n",
        "      for hist in history_tokens:\n",
        "\n",
        "        # actualizar secuencia de tokens\n",
        "        input_update = np.array([hist[i+1:]]).copy()\n",
        "\n",
        "        # predicción\n",
        "        y_hat = model.predict(input_update,verbose=0)[0,-1,:]\n",
        "\n",
        "        preds.append(y_hat)\n",
        "\n",
        "      history_probs, history_tokens = select_candidates(preds,\n",
        "                                                        num_beams,\n",
        "                                                        vocab_size,\n",
        "                                                        history_probs,\n",
        "                                                        history_tokens,\n",
        "                                                        temp,\n",
        "                                                        mode)\n",
        "\n",
        "    return history_tokens[:,-(len(input)+num_words):]"
      ]
    },
    {
      "cell_type": "code",
      "execution_count": 155,
      "metadata": {
        "id": "GeLqAoOYW1Hm"
      },
      "outputs": [
        {
          "name": "stdout",
          "output_type": "stream",
          "text": [
            "you have received your program wit.\n",
            "you have received your program with\n",
            "you have received your program will\n",
            "you have received your program will\n",
            "you have received your program wilk\n",
            "you have received your program with\n",
            "you have received your program with\n",
            "you have received your program will\n",
            "you have received your program will\n",
            "you have received your program will\n"
          ]
        }
      ],
      "source": [
        "# predicción con beam search\n",
        "salidas = beam_search(model,num_beams=10,num_words=20,input=\"you have receiv\",temp=1,mode='sto')\n",
        "for i in range(salidas.shape[0]):\n",
        "    print(decode(salidas[i]))"
      ]
    },
    {
      "cell_type": "code",
      "execution_count": 156,
      "metadata": {},
      "outputs": [
        {
          "name": "stdout",
          "output_type": "stream",
          "text": [
            "you have receive your account for y\n",
            "you have receive your account for a\n",
            "you have receive your account for y\n",
            "you have receive your account for y\n",
            "you have receive your account for y\n",
            "you have receive your account for y\n",
            "you have receive your account for a\n",
            "you have receive your account for y\n",
            "you have receive your account for y\n",
            "you have receive your account for y\n"
          ]
        }
      ],
      "source": [
        "salidas = beam_search(model,num_beams=10,num_words=20,input=\"you have receiv\",temp=0.33,mode='sto')\n",
        "for i in range(salidas.shape[0]):\n",
        "    print(decode(salidas[i]))"
      ]
    },
    {
      "cell_type": "code",
      "execution_count": 161,
      "metadata": {
        "id": "2S3_I3S1W1Hm"
      },
      "outputs": [
        {
          "name": "stdout",
          "output_type": "stream",
          "text": [
            "there are some question with you have to \n",
            "there are some question with you have atu\n",
            "there are some question with you have a m\n",
            "there are some question with you have and\n",
            "there are some question with you have at \n",
            "there are some question with you have and\n",
            "there are some question with you have bal\n",
            "there are some question with you have and\n",
            "there are some question with you have and\n",
            "there are some question with you have ano\n"
          ]
        }
      ],
      "source": [
        "# predicción con beam search\n",
        "salidas = beam_search(model,num_beams=10,num_words=20,input=\"there are some questi\",temp=1,mode='sto')\n",
        "for i in range(salidas.shape[0]):\n",
        "    print(decode(salidas[i]))"
      ]
    },
    {
      "cell_type": "code",
      "execution_count": 158,
      "metadata": {},
      "outputs": [
        {
          "name": "stdout",
          "output_type": "stream",
          "text": [
            "there are some questions to your project \n",
            "there are some questions to your projects\n",
            "there are some questions to your project \n",
            "there are some questions to your projects\n",
            "there are some questions to your projecti\n",
            "there are some questions to your project \n",
            "there are some questions to your project \n",
            "there are some questions to your projects\n",
            "there are some questions to your project \n",
            "there are some questions to your project \n"
          ]
        }
      ],
      "source": [
        "# predicción con beam search\n",
        "salidas = beam_search(model,num_beams=10,num_words=20,input=\"there are some questi\",temp=0.33,mode='sto')\n",
        "for i in range(salidas.shape[0]):\n",
        "    print(decode(salidas[i]))"
      ]
    },
    {
      "cell_type": "markdown",
      "metadata": {},
      "source": [
        "Se comprueba en estas pruebas que el valor de tempratura influye directamente sobre la variabilidad de la salida generada, haciendo que a tempraturas más frias el modelo tienda a devolver siempre la misma salida"
      ]
    },
    {
      "cell_type": "code",
      "execution_count": 160,
      "metadata": {
        "id": "Q_LlqmtEW1Hn"
      },
      "outputs": [
        {
          "name": "stdout",
          "output_type": "stream",
          "text": [
            "Dear colleage company logo Custo\n",
            "Dear colleage.                  \n",
            "Dear colleage company logo Casto\n",
            "Dear colleage company logo Servi\n",
            "Dear colleage company logo Casti\n",
            "Dear colleage company logo Compa\n",
            "Dear colleage company logo Custi\n",
            "Dear colleage company logo Call \n",
            "Dear colleage company logo Caste\n",
            "Dear colleage company logo Conte\n"
          ]
        }
      ],
      "source": [
        "# predicción con beam search\n",
        "salidas = beam_search(model,num_beams=10,num_words=20,input=\"Dear colleag\",temp=1,mode='det')\n",
        "for i in range(salidas.shape[0]):\n",
        "    print(decode(salidas[i]))"
      ]
    },
    {
      "cell_type": "markdown",
      "metadata": {},
      "source": [
        "El modo determinista bloquea parte de la aleatoriedad de la salida, devolviendo siempre el mismo conjunto de resultados sin importar las veces que lo ejecutemos. Esto no ocurre en el modo estocástico, el cual devuelve valores distintos cada vez que se ejecuta el mismo código."
      ]
    },
    {
      "cell_type": "markdown",
      "metadata": {},
      "source": [
        "### Conclusiones\n",
        "En este desafío hemos comprobado la capacidad de los modelos de lenguaje de caracteres para analizar una secuencia dada y ser capaz de completar la palabra incompleta. Sin embargo, se vuelve muy inestable a la hora de predecir la continuación de la frase, por lo que en estos casos conviene el uso de modelos de lenguaje especializados en palabras.\n",
        "\n",
        "Es muy notable la diferencia entre los recursos necesarios para entrenar una modelo centrado en caracteres frente al de palabras. El segundo caso requiere un mayor volumen de datos, hiperparámetros y tiempo de entrenamiento, suponiendo un gran reto para aquellos desarrolladores que no posean suficiente capacidad de hardware"
      ]
    }
  ],
  "metadata": {
    "accelerator": "GPU",
    "colab": {
      "gpuType": "T4",
      "provenance": []
    },
    "kernelspec": {
      "display_name": "Python 3",
      "name": "python3"
    },
    "language_info": {
      "codemirror_mode": {
        "name": "ipython",
        "version": 3
      },
      "file_extension": ".py",
      "mimetype": "text/x-python",
      "name": "python",
      "nbconvert_exporter": "python",
      "pygments_lexer": "ipython3",
      "version": "3.10.0"
    }
  },
  "nbformat": 4,
  "nbformat_minor": 0
}
