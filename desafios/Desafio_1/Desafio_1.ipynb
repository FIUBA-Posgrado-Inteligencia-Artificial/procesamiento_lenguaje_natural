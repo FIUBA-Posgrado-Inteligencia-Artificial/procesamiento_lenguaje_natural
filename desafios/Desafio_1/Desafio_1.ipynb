{
  "cells": [
    {
      "cell_type": "markdown",
      "metadata": {
        "id": "zq6j8LsYq1Dr"
      },
      "source": [
        "### Vectorización de texto y modelo de clasificación Naïve Bayes con el dataset 20 newsgroups"
      ]
    },
    {
      "cell_type": "code",
      "execution_count": 176,
      "metadata": {
        "id": "l7cXR6CI30ry"
      },
      "outputs": [],
      "source": [
        "from sklearn.feature_extraction.text import CountVectorizer, TfidfVectorizer\n",
        "from sklearn.metrics.pairwise import cosine_similarity\n",
        "from sklearn.naive_bayes import MultinomialNB, ComplementNB\n",
        "from sklearn.metrics import f1_score\n",
        "\n",
        "# 20newsgroups por ser un dataset clásico de NLP ya viene incluido y formateado\n",
        "# en sklearn\n",
        "from sklearn.datasets import fetch_20newsgroups\n",
        "import numpy as np"
      ]
    },
    {
      "cell_type": "markdown",
      "metadata": {
        "id": "yD-pVDWV_rQc"
      },
      "source": [
        "## Carga de datos"
      ]
    },
    {
      "cell_type": "code",
      "execution_count": 177,
      "metadata": {
        "id": "Ech9qJaUo9vK"
      },
      "outputs": [],
      "source": [
        "# cargamos los datos (ya separados de forma predeterminada en train y test)\n",
        "newsgroups_train = fetch_20newsgroups(subset='train', remove=('headers', 'footers', 'quotes'))\n",
        "newsgroups_test = fetch_20newsgroups(subset='test', remove=('headers', 'footers', 'quotes'))"
      ]
    },
    {
      "cell_type": "markdown",
      "metadata": {
        "id": "UxjSI7su_uWI"
      },
      "source": [
        "## Vectorización"
      ]
    },
    {
      "cell_type": "code",
      "execution_count": 178,
      "metadata": {
        "id": "-94VP0QYCzDn"
      },
      "outputs": [],
      "source": [
        "# instanciamos un vectorizador\n",
        "# ver diferentes parámetros de instanciación en la documentación de sklearn\n",
        "tfidfvect = TfidfVectorizer()"
      ]
    },
    {
      "cell_type": "code",
      "execution_count": 179,
      "metadata": {
        "colab": {
          "base_uri": "https://localhost:8080/",
          "height": 104
        },
        "id": "ftPlyanuak8n",
        "outputId": "45a94d0e-49e7-4f7c-c806-7d5b66779dd0"
      },
      "outputs": [
        {
          "data": {
            "text/plain": [
              "'I was wondering if anyone out there could enlighten me on this car I saw\\nthe other day. It was a 2-door sports car, looked to be from the late 60s/\\nearly 70s. It was called a Bricklin. The doors were really small. In addition,\\nthe front bumper was separate from the rest of the body. This is \\nall I know. If anyone can tellme a model name, engine specs, years\\nof production, where this car is made, history, or whatever info you\\nhave on this funky looking car, please e-mail.'"
            ]
          },
          "execution_count": 179,
          "metadata": {},
          "output_type": "execute_result"
        }
      ],
      "source": [
        "# en el atributo `data` accedemos al texto\n",
        "newsgroups_train.data[0]"
      ]
    },
    {
      "cell_type": "code",
      "execution_count": 180,
      "metadata": {
        "id": "1zxcXV6aC_oL"
      },
      "outputs": [],
      "source": [
        "# con la interfaz habitual de sklearn podemos fitear el vectorizador\n",
        "# (obtener el vocabulario y calcular el vector IDF)\n",
        "# y transformar directamente los datos\n",
        "X_train = tfidfvect.fit_transform(newsgroups_train.data)\n",
        "# `X_train` la podemos denominar como la matriz documento-término"
      ]
    },
    {
      "cell_type": "code",
      "execution_count": 181,
      "metadata": {
        "colab": {
          "base_uri": "https://localhost:8080/"
        },
        "id": "4Sv7TXbda41-",
        "outputId": "dcca5de6-dac1-4d68-d284-ce7be2ed9e2f"
      },
      "outputs": [
        {
          "name": "stdout",
          "output_type": "stream",
          "text": [
            "<class 'scipy.sparse._csr.csr_matrix'>\n",
            "shape: (11314, 101631)\n",
            "cantidad de documentos: 11314\n",
            "tamaño del vocabulario (dimensionalidad de los vectores): 101631\n"
          ]
        }
      ],
      "source": [
        "# recordar que las vectorizaciones por conteos son esparsas\n",
        "# por ello sklearn convenientemente devuelve los vectores de documentos\n",
        "# como matrices esparsas\n",
        "print(type(X_train))\n",
        "print(f'shape: {X_train.shape}')\n",
        "print(f'cantidad de documentos: {X_train.shape[0]}')\n",
        "print(f'tamaño del vocabulario (dimensionalidad de los vectores): {X_train.shape[1]}')"
      ]
    },
    {
      "cell_type": "code",
      "execution_count": 182,
      "metadata": {
        "colab": {
          "base_uri": "https://localhost:8080/"
        },
        "id": "dgydNTZ2pAgR",
        "outputId": "95111464-e40c-4b57-d154-ede153739a82"
      },
      "outputs": [
        {
          "data": {
            "text/plain": [
              "25775"
            ]
          },
          "execution_count": 182,
          "metadata": {},
          "output_type": "execute_result"
        }
      ],
      "source": [
        "# una vez fiteado el vectorizador, podemos acceder a atributos como el vocabulario\n",
        "# aprendido. Es un diccionario que va de términos a índices.\n",
        "# El índice es la posición en el vector de documento.\n",
        "tfidfvect.vocabulary_['car']"
      ]
    },
    {
      "cell_type": "code",
      "execution_count": 183,
      "metadata": {
        "id": "xnTSZuvyrTcP"
      },
      "outputs": [],
      "source": [
        "# es muy útil tener el diccionario opuesto que va de índices a términos\n",
        "idx2word = {v: k for k,v in tfidfvect.vocabulary_.items()}"
      ]
    },
    {
      "cell_type": "code",
      "execution_count": 184,
      "metadata": {
        "colab": {
          "base_uri": "https://localhost:8080/"
        },
        "id": "swa-AgWrMSHM",
        "outputId": "93d09f31-4c42-4215-e750-a13c83ecf96a"
      },
      "outputs": [
        {
          "data": {
            "text/plain": [
              "array([ 7,  4,  4,  1, 14, 16, 13,  3,  2,  4])"
            ]
          },
          "execution_count": 184,
          "metadata": {},
          "output_type": "execute_result"
        }
      ],
      "source": [
        "# en `y_train` guardamos los targets que son enteros\n",
        "y_train = newsgroups_train.target\n",
        "y_train[:10]"
      ]
    },
    {
      "cell_type": "code",
      "execution_count": 185,
      "metadata": {
        "colab": {
          "base_uri": "https://localhost:8080/"
        },
        "id": "je5kxvQMDLvf",
        "outputId": "59799046-9799-406f-c4be-81c5765de58d"
      },
      "outputs": [
        {
          "name": "stdout",
          "output_type": "stream",
          "text": [
            "clases [ 0  1  2  3  4  5  6  7  8  9 10 11 12 13 14 15 16 17 18 19]\n"
          ]
        },
        {
          "data": {
            "text/plain": [
              "['alt.atheism',\n",
              " 'comp.graphics',\n",
              " 'comp.os.ms-windows.misc',\n",
              " 'comp.sys.ibm.pc.hardware',\n",
              " 'comp.sys.mac.hardware',\n",
              " 'comp.windows.x',\n",
              " 'misc.forsale',\n",
              " 'rec.autos',\n",
              " 'rec.motorcycles',\n",
              " 'rec.sport.baseball',\n",
              " 'rec.sport.hockey',\n",
              " 'sci.crypt',\n",
              " 'sci.electronics',\n",
              " 'sci.med',\n",
              " 'sci.space',\n",
              " 'soc.religion.christian',\n",
              " 'talk.politics.guns',\n",
              " 'talk.politics.mideast',\n",
              " 'talk.politics.misc',\n",
              " 'talk.religion.misc']"
            ]
          },
          "execution_count": 185,
          "metadata": {},
          "output_type": "execute_result"
        }
      ],
      "source": [
        "# hay 20 clases correspondientes a los 20 grupos de noticias\n",
        "print(f'clases {np.unique(newsgroups_test.target)}')\n",
        "newsgroups_test.target_names"
      ]
    },
    {
      "cell_type": "markdown",
      "metadata": {
        "id": "SXCICFSd_y90"
      },
      "source": [
        "## Similaridad de documentos"
      ]
    },
    {
      "cell_type": "code",
      "execution_count": 186,
      "metadata": {
        "colab": {
          "base_uri": "https://localhost:8080/"
        },
        "id": "_pki_olShnyE",
        "outputId": "b2bd8485-40c7-4923-c8a9-4ad6b735576e"
      },
      "outputs": [
        {
          "name": "stdout",
          "output_type": "stream",
          "text": [
            "THE WHITE HOUSE\n",
            "\n",
            "                  Office of the Press Secretary\n",
            "                   (Pittsburgh, Pennslyvania)\n",
            "______________________________________________________________\n",
            "For Immediate Release                         April 17, 1993     \n",
            "\n",
            "             \n",
            "                  RADIO ADDRESS TO THE NATION \n",
            "                        BY THE PRESIDENT\n",
            "             \n",
            "                Pittsburgh International Airport\n",
            "                    Pittsburgh, Pennsylvania\n",
            "             \n",
            "             \n",
            "10:06 A.M. EDT\n",
            "             \n",
            "             \n",
            "             THE PRESIDENT:  Good morning.  My voice is coming to\n",
            "you this morning through the facilities of the oldest radio\n",
            "station in America, KDKA in Pittsburgh.  I'm visiting the city to\n",
            "meet personally with citizens here to discuss my plans for jobs,\n",
            "health care and the economy.  But I wanted first to do my weekly\n",
            "broadcast with the American people. \n",
            "             \n",
            "             I'm told this station first broadcast in 1920 when\n",
            "it reported that year's presidential elections.  Over the past\n",
            "seven decades presidents have found ways to keep in touch with\n",
            "the people, from whistle-stop tours to fire-side chats to the bus\n",
            "tour that I adopted, along with Vice President Gore, in last\n",
            "year's campaign.\n",
            "             \n",
            "             Every Saturday morning I take this time to talk with\n",
            "you, my fellow Americans, about the problems on your minds and\n",
            "what I'm doing to try and solve them.  It's my way of reporting\n",
            "to you and of giving you a way to hold me accountable.\n",
            "             \n",
            "             You sent me to Washington to get our government and\n",
            "economy moving after years of paralysis and policy and a bad\n",
            "experiment with trickle-down economics.  You know how important\n",
            "it is for us to make bold, comprehensive changes in the way we do\n",
            "business.  \n",
            "             \n",
            "             We live in a competitive global economy.  Nations\n",
            "rise and fall on the skills of their workers, the competitiveness\n",
            "of their companies, the imagination of their industries, and the\n",
            "cooperative experience and spirit that exists between business,\n",
            "labor and government.  Although many of the economies of the\n",
            "industrialized world are now suffering from slow growth, they've\n",
            "made many of the smart investments and the tough choices which\n",
            "our government has for too long ignored.  That's why many of them\n",
            "have been moving ahead and too many of our people have been\n",
            "falling behind.\n",
            "             \n",
            "             We have an economy today that even when it grows is\n",
            "not producing new jobs.  We've increased the debt of our nation\n",
            "by four times over the last 12 years, and we don't have much to\n",
            "show for it.  We know that wages of most working people have\n",
            "stopped rising, that most people are working longer work weeks\n",
            "and that too many families can no longer afford the escalating\n",
            "cost of health care.\n",
            "             \n",
            "             But we also know that, given the right tools, the\n",
            "right incentives and the right encouragement, our workers and\n",
            "businesses can make the kinds of products and profits our economy\n",
            "needs to expand opportunity and to make our communities better\n",
            "places to live.\n",
            "             \n",
            "             In many critical products today Americans are the\n",
            "low cost, high quality producers.  Our task is to make sure that\n",
            "we create more of those kinds of jobs.\n",
            "             \n",
            "             Just two months ago I gave Congress my plan for\n",
            "long-term jobs and economic growth.  It changes the old\n",
            "priorities in Washington and puts our emphasis where it needs to\n",
            "be -- on people's real needs, on increasing investments and jobs\n",
            "and education, on cutting the federal deficit, on stopping the\n",
            "waste which pays no dividends, and redirecting our precious\n",
            "resources toward investment that creates jobs now and lays the\n",
            "groundwork for robust economic growth in the future.\n",
            "             \n",
            "             These new directions passed the Congress in record\n",
            "time and created a new sense of hope and opportunity in our\n",
            "country.  Then the jobs plan I presented to Congress, which would\n",
            "create hundreds of thousands of jobs, most of them in the private\n",
            "sector in 1993 and 1994, passed the House of Representatives.  It\n",
            "now has the support of a majority of the United States Senate. \n",
            "But it's been held up by a filibuster of a minority in the\n",
            "Senate, just 43 senators.  They blocked a vote that they know\n",
            "would result in the passage of our bill and the creation of jobs.\n",
            "             \n",
            "             The issue isn't politics; the issue is people. \n",
            "Millions of Americans are waiting for this legislation and\n",
            "counting on it, counting on us in Washington.  But the jobs bill\n",
            "has been grounded by gridlock.  \n",
            "             \n",
            "             I know the American people are tired of business as\n",
            "usual and politics as usual.  I know they don't want us to spin\n",
            "or wheels.  They want the recovery to get moving.  So I have\n",
            "taken a first step to break this gridlock and gone the extra\n",
            "mile.  Yesterday I offered to cut the size of this plan by 25\n",
            "percent -- from $16 billion to $12 billion.  \n",
            "             \n",
            "             It's not what I'd hoped for.  With 16 million\n",
            "Americans looking for full-time work, I simply can't let the bill\n",
            "languish when I know that even a compromise bill will mean\n",
            "hundreds of thousands of jobs for our people.  The mandate is to\n",
            "act to achieve change and move the country forward.  By taking\n",
            "this initiative in the face of an unrelenting Senate talkathon, I\n",
            "think we can respond to your mandate and achieve a significant\n",
            "portion of our original goals.\n",
            "             \n",
            "             First, we want to keep the programs as much as\n",
            "possible that are needed to generate jobs and meet human needs,\n",
            "including highway and road construction, summer jobs for young\n",
            "people, immunization for children, construction of waste water\n",
            "sites, and aid to small businesses.  We also want to keep funding\n",
            "for extended unemployment compensation benefits, for people who\n",
            "have been unemployed for a long time because the economy isn't\n",
            "creating jobs.\n",
            "             \n",
            "             Second, I've recommended that all the other programs\n",
            "in the bill be cut across-the-board by a little more than 40\n",
            "percent.\n",
            "             \n",
            "             And third, I've recommended a new element in this\n",
            "program to help us immediately start our attempt to fight against\n",
            "crime by providing $200 million for cities and towns to rehire\n",
            "police officers who lost their jobs during the recession and put\n",
            "them back to work protecting our people.  I'm also going to fight\n",
            "for a tough crime bill because the people of this country need it\n",
            "and deserve it.\n",
            "             \n",
            "             Now, the people who are filibustering this bill --\n",
            "the Republican senators -- say they won't vote for it because it\n",
            "increases deficit spending, because there's extra spending this\n",
            "year that hasn't already been approved.  That sounds reasonable,\n",
            "doesn't it?  Here's what they don't say.  This program is more\n",
            "than paid for by budget cuts over my five-year budget, and this\n",
            "budget is well within the spending limits already approved by the\n",
            "Congress this year.\n",
            "             \n",
            "             It's amazing to me that many of these same senators\n",
            "who are filibustering the bill voted during the previous\n",
            "administration for billions of dollars of the same kind of\n",
            "emergency spending, and much of it was not designed to put the\n",
            "American people to work.  \n",
            "             \n",
            "             This is not about deficit spending.  We have offered\n",
            "a plan to cut the deficit.  This is about where your priorities\n",
            "are -- on people or on politics.  \n",
            "             \n",
            "             Keep in mind that our jobs bill is paid for dollar\n",
            "for dollar.  It is paid for by budget cuts.  And it's the\n",
            "soundest investment we can now make for ourselves and our\n",
            "children.  I urge all Americans to take another look at this jobs\n",
            "and investment program; to consider again the benefits for all of\n",
            "us when we've helped make more American partners working to\n",
            "ensure the future of our nation and the strength of our economy.\n",
            "             \n",
            "             You know, if every American who wanted a job had\n",
            "one, we wouldn't have a lot of the other problems we have in this\n",
            "country today.  This bill is not a miracle, it's a modest first\n",
            "step to try to set off a job creation explosion in this country\n",
            "again.  But it's a step we ought to take.  And it is fully paid\n",
            "for over the life of our budget.\n",
            "             \n",
            "             Tell your lawmakers what you think.  Tell them how\n",
            "important the bill is.  If it passes, we'll all be winners.\n",
            "             \n",
            "             Good morning, and thank you for listening.\n"
          ]
        }
      ],
      "source": [
        "# Veamos similaridad de documentos. Tomemos algún documento\n",
        "idx = 4811\n",
        "print(newsgroups_train.data[idx])"
      ]
    },
    {
      "cell_type": "code",
      "execution_count": 187,
      "metadata": {
        "id": "Ssa9bqJ-hA_v"
      },
      "outputs": [],
      "source": [
        "# midamos la similaridad coseno con todos los documentos de train\n",
        "cossim = cosine_similarity(X_train[idx], X_train)[0]"
      ]
    },
    {
      "cell_type": "code",
      "execution_count": 188,
      "metadata": {
        "colab": {
          "base_uri": "https://localhost:8080/"
        },
        "id": "p_mDA7p3AzcQ",
        "outputId": "747a3923-4b1c-4e2b-921d-4ebf2b271b00"
      },
      "outputs": [
        {
          "data": {
            "text/plain": [
              "array([1.        , 0.70930477, 0.67474953, ..., 0.        , 0.        ,\n",
              "       0.        ])"
            ]
          },
          "execution_count": 188,
          "metadata": {},
          "output_type": "execute_result"
        }
      ],
      "source": [
        "# podemos ver los valores de similaridad ordenados de mayor a menos\n",
        "np.sort(cossim)[::-1]"
      ]
    },
    {
      "cell_type": "code",
      "execution_count": 189,
      "metadata": {
        "colab": {
          "base_uri": "https://localhost:8080/"
        },
        "id": "0OIhDA1jAryX",
        "outputId": "04ddf3ca-0741-42d7-8bbb-00bb395f7834"
      },
      "outputs": [
        {
          "data": {
            "text/plain": [
              "array([ 4811,  6635,  4253, ...,  1534, 10055,  4750], dtype=int64)"
            ]
          },
          "execution_count": 189,
          "metadata": {},
          "output_type": "execute_result"
        }
      ],
      "source": [
        "# y a qué documentos corresponden\n",
        "np.argsort(cossim)[::-1]"
      ]
    },
    {
      "cell_type": "code",
      "execution_count": 190,
      "metadata": {
        "id": "hP7qLS4ZBLps"
      },
      "outputs": [],
      "source": [
        "# los 5 documentos más similares:\n",
        "mostsim = np.argsort(cossim)[::-1][1:6]"
      ]
    },
    {
      "cell_type": "code",
      "execution_count": 191,
      "metadata": {
        "colab": {
          "base_uri": "https://localhost:8080/",
          "height": 35
        },
        "id": "QdJLHPJACvaj",
        "outputId": "926186cf-7d4c-4bd3-927b-ad00bf7f24f9"
      },
      "outputs": [
        {
          "data": {
            "text/plain": [
              "'talk.politics.misc'"
            ]
          },
          "execution_count": 191,
          "metadata": {},
          "output_type": "execute_result"
        }
      ],
      "source": [
        "# el documento original pertenece a la clase:\n",
        "newsgroups_train.target_names[y_train[idx]]"
      ]
    },
    {
      "cell_type": "code",
      "execution_count": 192,
      "metadata": {
        "colab": {
          "base_uri": "https://localhost:8080/"
        },
        "id": "RWy_73epCbFG",
        "outputId": "daf534e5-b2a8-43d4-d05a-9c52b816cf69"
      },
      "outputs": [
        {
          "name": "stdout",
          "output_type": "stream",
          "text": [
            "talk.politics.misc\n",
            "talk.politics.misc\n",
            "talk.politics.misc\n",
            "talk.politics.misc\n",
            "talk.politics.misc\n"
          ]
        }
      ],
      "source": [
        "# y los 5 más similares son de las clases:\n",
        "for i in mostsim:\n",
        "  print(newsgroups_train.target_names[y_train[i]])"
      ]
    },
    {
      "cell_type": "markdown",
      "metadata": {
        "id": "zRoNnKwhBqzq"
      },
      "source": [
        "### Modelo de clasificación Naïve Bayes"
      ]
    },
    {
      "cell_type": "code",
      "execution_count": 193,
      "metadata": {
        "colab": {
          "base_uri": "https://localhost:8080/",
          "height": 74
        },
        "id": "TPM0thDaLk0R",
        "outputId": "bc7fdc3e-d912-4e0c-9d9e-33efc97b46fc"
      },
      "outputs": [
        {
          "data": {
            "text/html": [
              "<style>#sk-container-id-5 {\n",
              "  /* Definition of color scheme common for light and dark mode */\n",
              "  --sklearn-color-text: black;\n",
              "  --sklearn-color-line: gray;\n",
              "  /* Definition of color scheme for unfitted estimators */\n",
              "  --sklearn-color-unfitted-level-0: #fff5e6;\n",
              "  --sklearn-color-unfitted-level-1: #f6e4d2;\n",
              "  --sklearn-color-unfitted-level-2: #ffe0b3;\n",
              "  --sklearn-color-unfitted-level-3: chocolate;\n",
              "  /* Definition of color scheme for fitted estimators */\n",
              "  --sklearn-color-fitted-level-0: #f0f8ff;\n",
              "  --sklearn-color-fitted-level-1: #d4ebff;\n",
              "  --sklearn-color-fitted-level-2: #b3dbfd;\n",
              "  --sklearn-color-fitted-level-3: cornflowerblue;\n",
              "\n",
              "  /* Specific color for light theme */\n",
              "  --sklearn-color-text-on-default-background: var(--sg-text-color, var(--theme-code-foreground, var(--jp-content-font-color1, black)));\n",
              "  --sklearn-color-background: var(--sg-background-color, var(--theme-background, var(--jp-layout-color0, white)));\n",
              "  --sklearn-color-border-box: var(--sg-text-color, var(--theme-code-foreground, var(--jp-content-font-color1, black)));\n",
              "  --sklearn-color-icon: #696969;\n",
              "\n",
              "  @media (prefers-color-scheme: dark) {\n",
              "    /* Redefinition of color scheme for dark theme */\n",
              "    --sklearn-color-text-on-default-background: var(--sg-text-color, var(--theme-code-foreground, var(--jp-content-font-color1, white)));\n",
              "    --sklearn-color-background: var(--sg-background-color, var(--theme-background, var(--jp-layout-color0, #111)));\n",
              "    --sklearn-color-border-box: var(--sg-text-color, var(--theme-code-foreground, var(--jp-content-font-color1, white)));\n",
              "    --sklearn-color-icon: #878787;\n",
              "  }\n",
              "}\n",
              "\n",
              "#sk-container-id-5 {\n",
              "  color: var(--sklearn-color-text);\n",
              "}\n",
              "\n",
              "#sk-container-id-5 pre {\n",
              "  padding: 0;\n",
              "}\n",
              "\n",
              "#sk-container-id-5 input.sk-hidden--visually {\n",
              "  border: 0;\n",
              "  clip: rect(1px 1px 1px 1px);\n",
              "  clip: rect(1px, 1px, 1px, 1px);\n",
              "  height: 1px;\n",
              "  margin: -1px;\n",
              "  overflow: hidden;\n",
              "  padding: 0;\n",
              "  position: absolute;\n",
              "  width: 1px;\n",
              "}\n",
              "\n",
              "#sk-container-id-5 div.sk-dashed-wrapped {\n",
              "  border: 1px dashed var(--sklearn-color-line);\n",
              "  margin: 0 0.4em 0.5em 0.4em;\n",
              "  box-sizing: border-box;\n",
              "  padding-bottom: 0.4em;\n",
              "  background-color: var(--sklearn-color-background);\n",
              "}\n",
              "\n",
              "#sk-container-id-5 div.sk-container {\n",
              "  /* jupyter's `normalize.less` sets `[hidden] { display: none; }`\n",
              "     but bootstrap.min.css set `[hidden] { display: none !important; }`\n",
              "     so we also need the `!important` here to be able to override the\n",
              "     default hidden behavior on the sphinx rendered scikit-learn.org.\n",
              "     See: https://github.com/scikit-learn/scikit-learn/issues/21755 */\n",
              "  display: inline-block !important;\n",
              "  position: relative;\n",
              "}\n",
              "\n",
              "#sk-container-id-5 div.sk-text-repr-fallback {\n",
              "  display: none;\n",
              "}\n",
              "\n",
              "div.sk-parallel-item,\n",
              "div.sk-serial,\n",
              "div.sk-item {\n",
              "  /* draw centered vertical line to link estimators */\n",
              "  background-image: linear-gradient(var(--sklearn-color-text-on-default-background), var(--sklearn-color-text-on-default-background));\n",
              "  background-size: 2px 100%;\n",
              "  background-repeat: no-repeat;\n",
              "  background-position: center center;\n",
              "}\n",
              "\n",
              "/* Parallel-specific style estimator block */\n",
              "\n",
              "#sk-container-id-5 div.sk-parallel-item::after {\n",
              "  content: \"\";\n",
              "  width: 100%;\n",
              "  border-bottom: 2px solid var(--sklearn-color-text-on-default-background);\n",
              "  flex-grow: 1;\n",
              "}\n",
              "\n",
              "#sk-container-id-5 div.sk-parallel {\n",
              "  display: flex;\n",
              "  align-items: stretch;\n",
              "  justify-content: center;\n",
              "  background-color: var(--sklearn-color-background);\n",
              "  position: relative;\n",
              "}\n",
              "\n",
              "#sk-container-id-5 div.sk-parallel-item {\n",
              "  display: flex;\n",
              "  flex-direction: column;\n",
              "}\n",
              "\n",
              "#sk-container-id-5 div.sk-parallel-item:first-child::after {\n",
              "  align-self: flex-end;\n",
              "  width: 50%;\n",
              "}\n",
              "\n",
              "#sk-container-id-5 div.sk-parallel-item:last-child::after {\n",
              "  align-self: flex-start;\n",
              "  width: 50%;\n",
              "}\n",
              "\n",
              "#sk-container-id-5 div.sk-parallel-item:only-child::after {\n",
              "  width: 0;\n",
              "}\n",
              "\n",
              "/* Serial-specific style estimator block */\n",
              "\n",
              "#sk-container-id-5 div.sk-serial {\n",
              "  display: flex;\n",
              "  flex-direction: column;\n",
              "  align-items: center;\n",
              "  background-color: var(--sklearn-color-background);\n",
              "  padding-right: 1em;\n",
              "  padding-left: 1em;\n",
              "}\n",
              "\n",
              "\n",
              "/* Toggleable style: style used for estimator/Pipeline/ColumnTransformer box that is\n",
              "clickable and can be expanded/collapsed.\n",
              "- Pipeline and ColumnTransformer use this feature and define the default style\n",
              "- Estimators will overwrite some part of the style using the `sk-estimator` class\n",
              "*/\n",
              "\n",
              "/* Pipeline and ColumnTransformer style (default) */\n",
              "\n",
              "#sk-container-id-5 div.sk-toggleable {\n",
              "  /* Default theme specific background. It is overwritten whether we have a\n",
              "  specific estimator or a Pipeline/ColumnTransformer */\n",
              "  background-color: var(--sklearn-color-background);\n",
              "}\n",
              "\n",
              "/* Toggleable label */\n",
              "#sk-container-id-5 label.sk-toggleable__label {\n",
              "  cursor: pointer;\n",
              "  display: block;\n",
              "  width: 100%;\n",
              "  margin-bottom: 0;\n",
              "  padding: 0.5em;\n",
              "  box-sizing: border-box;\n",
              "  text-align: center;\n",
              "}\n",
              "\n",
              "#sk-container-id-5 label.sk-toggleable__label-arrow:before {\n",
              "  /* Arrow on the left of the label */\n",
              "  content: \"▸\";\n",
              "  float: left;\n",
              "  margin-right: 0.25em;\n",
              "  color: var(--sklearn-color-icon);\n",
              "}\n",
              "\n",
              "#sk-container-id-5 label.sk-toggleable__label-arrow:hover:before {\n",
              "  color: var(--sklearn-color-text);\n",
              "}\n",
              "\n",
              "/* Toggleable content - dropdown */\n",
              "\n",
              "#sk-container-id-5 div.sk-toggleable__content {\n",
              "  max-height: 0;\n",
              "  max-width: 0;\n",
              "  overflow: hidden;\n",
              "  text-align: left;\n",
              "  /* unfitted */\n",
              "  background-color: var(--sklearn-color-unfitted-level-0);\n",
              "}\n",
              "\n",
              "#sk-container-id-5 div.sk-toggleable__content.fitted {\n",
              "  /* fitted */\n",
              "  background-color: var(--sklearn-color-fitted-level-0);\n",
              "}\n",
              "\n",
              "#sk-container-id-5 div.sk-toggleable__content pre {\n",
              "  margin: 0.2em;\n",
              "  border-radius: 0.25em;\n",
              "  color: var(--sklearn-color-text);\n",
              "  /* unfitted */\n",
              "  background-color: var(--sklearn-color-unfitted-level-0);\n",
              "}\n",
              "\n",
              "#sk-container-id-5 div.sk-toggleable__content.fitted pre {\n",
              "  /* unfitted */\n",
              "  background-color: var(--sklearn-color-fitted-level-0);\n",
              "}\n",
              "\n",
              "#sk-container-id-5 input.sk-toggleable__control:checked~div.sk-toggleable__content {\n",
              "  /* Expand drop-down */\n",
              "  max-height: 200px;\n",
              "  max-width: 100%;\n",
              "  overflow: auto;\n",
              "}\n",
              "\n",
              "#sk-container-id-5 input.sk-toggleable__control:checked~label.sk-toggleable__label-arrow:before {\n",
              "  content: \"▾\";\n",
              "}\n",
              "\n",
              "/* Pipeline/ColumnTransformer-specific style */\n",
              "\n",
              "#sk-container-id-5 div.sk-label input.sk-toggleable__control:checked~label.sk-toggleable__label {\n",
              "  color: var(--sklearn-color-text);\n",
              "  background-color: var(--sklearn-color-unfitted-level-2);\n",
              "}\n",
              "\n",
              "#sk-container-id-5 div.sk-label.fitted input.sk-toggleable__control:checked~label.sk-toggleable__label {\n",
              "  background-color: var(--sklearn-color-fitted-level-2);\n",
              "}\n",
              "\n",
              "/* Estimator-specific style */\n",
              "\n",
              "/* Colorize estimator box */\n",
              "#sk-container-id-5 div.sk-estimator input.sk-toggleable__control:checked~label.sk-toggleable__label {\n",
              "  /* unfitted */\n",
              "  background-color: var(--sklearn-color-unfitted-level-2);\n",
              "}\n",
              "\n",
              "#sk-container-id-5 div.sk-estimator.fitted input.sk-toggleable__control:checked~label.sk-toggleable__label {\n",
              "  /* fitted */\n",
              "  background-color: var(--sklearn-color-fitted-level-2);\n",
              "}\n",
              "\n",
              "#sk-container-id-5 div.sk-label label.sk-toggleable__label,\n",
              "#sk-container-id-5 div.sk-label label {\n",
              "  /* The background is the default theme color */\n",
              "  color: var(--sklearn-color-text-on-default-background);\n",
              "}\n",
              "\n",
              "/* On hover, darken the color of the background */\n",
              "#sk-container-id-5 div.sk-label:hover label.sk-toggleable__label {\n",
              "  color: var(--sklearn-color-text);\n",
              "  background-color: var(--sklearn-color-unfitted-level-2);\n",
              "}\n",
              "\n",
              "/* Label box, darken color on hover, fitted */\n",
              "#sk-container-id-5 div.sk-label.fitted:hover label.sk-toggleable__label.fitted {\n",
              "  color: var(--sklearn-color-text);\n",
              "  background-color: var(--sklearn-color-fitted-level-2);\n",
              "}\n",
              "\n",
              "/* Estimator label */\n",
              "\n",
              "#sk-container-id-5 div.sk-label label {\n",
              "  font-family: monospace;\n",
              "  font-weight: bold;\n",
              "  display: inline-block;\n",
              "  line-height: 1.2em;\n",
              "}\n",
              "\n",
              "#sk-container-id-5 div.sk-label-container {\n",
              "  text-align: center;\n",
              "}\n",
              "\n",
              "/* Estimator-specific */\n",
              "#sk-container-id-5 div.sk-estimator {\n",
              "  font-family: monospace;\n",
              "  border: 1px dotted var(--sklearn-color-border-box);\n",
              "  border-radius: 0.25em;\n",
              "  box-sizing: border-box;\n",
              "  margin-bottom: 0.5em;\n",
              "  /* unfitted */\n",
              "  background-color: var(--sklearn-color-unfitted-level-0);\n",
              "}\n",
              "\n",
              "#sk-container-id-5 div.sk-estimator.fitted {\n",
              "  /* fitted */\n",
              "  background-color: var(--sklearn-color-fitted-level-0);\n",
              "}\n",
              "\n",
              "/* on hover */\n",
              "#sk-container-id-5 div.sk-estimator:hover {\n",
              "  /* unfitted */\n",
              "  background-color: var(--sklearn-color-unfitted-level-2);\n",
              "}\n",
              "\n",
              "#sk-container-id-5 div.sk-estimator.fitted:hover {\n",
              "  /* fitted */\n",
              "  background-color: var(--sklearn-color-fitted-level-2);\n",
              "}\n",
              "\n",
              "/* Specification for estimator info (e.g. \"i\" and \"?\") */\n",
              "\n",
              "/* Common style for \"i\" and \"?\" */\n",
              "\n",
              ".sk-estimator-doc-link,\n",
              "a:link.sk-estimator-doc-link,\n",
              "a:visited.sk-estimator-doc-link {\n",
              "  float: right;\n",
              "  font-size: smaller;\n",
              "  line-height: 1em;\n",
              "  font-family: monospace;\n",
              "  background-color: var(--sklearn-color-background);\n",
              "  border-radius: 1em;\n",
              "  height: 1em;\n",
              "  width: 1em;\n",
              "  text-decoration: none !important;\n",
              "  margin-left: 1ex;\n",
              "  /* unfitted */\n",
              "  border: var(--sklearn-color-unfitted-level-1) 1pt solid;\n",
              "  color: var(--sklearn-color-unfitted-level-1);\n",
              "}\n",
              "\n",
              ".sk-estimator-doc-link.fitted,\n",
              "a:link.sk-estimator-doc-link.fitted,\n",
              "a:visited.sk-estimator-doc-link.fitted {\n",
              "  /* fitted */\n",
              "  border: var(--sklearn-color-fitted-level-1) 1pt solid;\n",
              "  color: var(--sklearn-color-fitted-level-1);\n",
              "}\n",
              "\n",
              "/* On hover */\n",
              "div.sk-estimator:hover .sk-estimator-doc-link:hover,\n",
              ".sk-estimator-doc-link:hover,\n",
              "div.sk-label-container:hover .sk-estimator-doc-link:hover,\n",
              ".sk-estimator-doc-link:hover {\n",
              "  /* unfitted */\n",
              "  background-color: var(--sklearn-color-unfitted-level-3);\n",
              "  color: var(--sklearn-color-background);\n",
              "  text-decoration: none;\n",
              "}\n",
              "\n",
              "div.sk-estimator.fitted:hover .sk-estimator-doc-link.fitted:hover,\n",
              ".sk-estimator-doc-link.fitted:hover,\n",
              "div.sk-label-container:hover .sk-estimator-doc-link.fitted:hover,\n",
              ".sk-estimator-doc-link.fitted:hover {\n",
              "  /* fitted */\n",
              "  background-color: var(--sklearn-color-fitted-level-3);\n",
              "  color: var(--sklearn-color-background);\n",
              "  text-decoration: none;\n",
              "}\n",
              "\n",
              "/* Span, style for the box shown on hovering the info icon */\n",
              ".sk-estimator-doc-link span {\n",
              "  display: none;\n",
              "  z-index: 9999;\n",
              "  position: relative;\n",
              "  font-weight: normal;\n",
              "  right: .2ex;\n",
              "  padding: .5ex;\n",
              "  margin: .5ex;\n",
              "  width: min-content;\n",
              "  min-width: 20ex;\n",
              "  max-width: 50ex;\n",
              "  color: var(--sklearn-color-text);\n",
              "  box-shadow: 2pt 2pt 4pt #999;\n",
              "  /* unfitted */\n",
              "  background: var(--sklearn-color-unfitted-level-0);\n",
              "  border: .5pt solid var(--sklearn-color-unfitted-level-3);\n",
              "}\n",
              "\n",
              ".sk-estimator-doc-link.fitted span {\n",
              "  /* fitted */\n",
              "  background: var(--sklearn-color-fitted-level-0);\n",
              "  border: var(--sklearn-color-fitted-level-3);\n",
              "}\n",
              "\n",
              ".sk-estimator-doc-link:hover span {\n",
              "  display: block;\n",
              "}\n",
              "\n",
              "/* \"?\"-specific style due to the `<a>` HTML tag */\n",
              "\n",
              "#sk-container-id-5 a.estimator_doc_link {\n",
              "  float: right;\n",
              "  font-size: 1rem;\n",
              "  line-height: 1em;\n",
              "  font-family: monospace;\n",
              "  background-color: var(--sklearn-color-background);\n",
              "  border-radius: 1rem;\n",
              "  height: 1rem;\n",
              "  width: 1rem;\n",
              "  text-decoration: none;\n",
              "  /* unfitted */\n",
              "  color: var(--sklearn-color-unfitted-level-1);\n",
              "  border: var(--sklearn-color-unfitted-level-1) 1pt solid;\n",
              "}\n",
              "\n",
              "#sk-container-id-5 a.estimator_doc_link.fitted {\n",
              "  /* fitted */\n",
              "  border: var(--sklearn-color-fitted-level-1) 1pt solid;\n",
              "  color: var(--sklearn-color-fitted-level-1);\n",
              "}\n",
              "\n",
              "/* On hover */\n",
              "#sk-container-id-5 a.estimator_doc_link:hover {\n",
              "  /* unfitted */\n",
              "  background-color: var(--sklearn-color-unfitted-level-3);\n",
              "  color: var(--sklearn-color-background);\n",
              "  text-decoration: none;\n",
              "}\n",
              "\n",
              "#sk-container-id-5 a.estimator_doc_link.fitted:hover {\n",
              "  /* fitted */\n",
              "  background-color: var(--sklearn-color-fitted-level-3);\n",
              "}\n",
              "</style><div id=\"sk-container-id-5\" class=\"sk-top-container\"><div class=\"sk-text-repr-fallback\"><pre>MultinomialNB()</pre><b>In a Jupyter environment, please rerun this cell to show the HTML representation or trust the notebook. <br />On GitHub, the HTML representation is unable to render, please try loading this page with nbviewer.org.</b></div><div class=\"sk-container\" hidden><div class=\"sk-item\"><div class=\"sk-estimator fitted sk-toggleable\"><input class=\"sk-toggleable__control sk-hidden--visually\" id=\"sk-estimator-id-5\" type=\"checkbox\" checked><label for=\"sk-estimator-id-5\" class=\"sk-toggleable__label fitted sk-toggleable__label-arrow fitted\">&nbsp;&nbsp;MultinomialNB<a class=\"sk-estimator-doc-link fitted\" rel=\"noreferrer\" target=\"_blank\" href=\"https://scikit-learn.org/1.4/modules/generated/sklearn.naive_bayes.MultinomialNB.html\">?<span>Documentation for MultinomialNB</span></a><span class=\"sk-estimator-doc-link fitted\">i<span>Fitted</span></span></label><div class=\"sk-toggleable__content fitted\"><pre>MultinomialNB()</pre></div> </div></div></div></div>"
            ],
            "text/plain": [
              "MultinomialNB()"
            ]
          },
          "execution_count": 193,
          "metadata": {},
          "output_type": "execute_result"
        }
      ],
      "source": [
        "# es muy fácil instanciar un modelo de clasificación Naïve Bayes y entrenarlo con sklearn\n",
        "clf = MultinomialNB()\n",
        "clf.fit(X_train, y_train)"
      ]
    },
    {
      "cell_type": "code",
      "execution_count": 194,
      "metadata": {
        "id": "NrQjzM48Mu4T"
      },
      "outputs": [],
      "source": [
        "# con nuestro vectorizador ya fiteado en train, vectorizamos los textos\n",
        "# del conjunto de test\n",
        "X_test = tfidfvect.transform(newsgroups_test.data)\n",
        "y_test = newsgroups_test.target\n",
        "y_pred =  clf.predict(X_test)"
      ]
    },
    {
      "cell_type": "code",
      "execution_count": 195,
      "metadata": {
        "colab": {
          "base_uri": "https://localhost:8080/"
        },
        "id": "UkGJhetEPdA4",
        "outputId": "232ee2ce-e904-466e-be57-babc1f319029"
      },
      "outputs": [
        {
          "data": {
            "text/plain": [
              "0.5854345727938506"
            ]
          },
          "execution_count": 195,
          "metadata": {},
          "output_type": "execute_result"
        }
      ],
      "source": [
        "# el F1-score es una metrica adecuada para reportar desempeño de modelos de claificación\n",
        "# es robusta al desbalance de clases. El promediado 'macro' es el promedio de los\n",
        "# F1-score de cada clase. El promedio 'micro' es equivalente a la accuracy que no\n",
        "# es una buena métrica cuando los datasets son desbalanceados\n",
        "f1_score(y_test, y_pred, average='macro')"
      ]
    },
    {
      "cell_type": "markdown",
      "metadata": {
        "id": "McArD4rSDR2K"
      },
      "source": [
        "### Consigna del desafío 1"
      ]
    },
    {
      "cell_type": "markdown",
      "metadata": {
        "id": "lJgf6GQIIEH1"
      },
      "source": [
        "**1**. Vectorizar documentos. Tomar 5 documentos al azar y medir similaridad con el resto de los documentos.\n",
        "Estudiar los 5 documentos más similares de cada uno analizar si tiene sentido\n",
        "la similaridad según el contenido del texto y la etiqueta de clasificación.\n",
        "\n",
        "**2**. Entrenar modelos de clasificación Naïve Bayes para maximizar el desempeño de clasificación\n",
        "(f1-score macro) en el conjunto de datos de test. Considerar cambiar parámteros\n",
        "de instanciación del vectorizador y los modelos y probar modelos de Naïve Bayes Multinomial\n",
        "y ComplementNB.\n",
        "\n",
        "**3**. Transponer la matriz documento-término. De esa manera se obtiene una matriz\n",
        "término-documento que puede ser interpretada como una colección de vectorización de palabras.\n",
        "Estudiar ahora similaridad entre palabras tomando 5 palabras y estudiando sus 5 más similares.\n"
      ]
    },
    {
      "cell_type": "markdown",
      "metadata": {},
      "source": [
        "# Resolución\n",
        "### Importar librerías"
      ]
    },
    {
      "cell_type": "code",
      "execution_count": 196,
      "metadata": {},
      "outputs": [],
      "source": [
        "import random\n",
        "from sklearn.model_selection import GridSearchCV"
      ]
    },
    {
      "cell_type": "markdown",
      "metadata": {},
      "source": [
        "### Ejercicio 1 - Vectorización"
      ]
    },
    {
      "cell_type": "code",
      "execution_count": 197,
      "metadata": {},
      "outputs": [
        {
          "name": "stdout",
          "output_type": "stream",
          "text": [
            "Texto numero 1: \"       As perhaps some insight into how this sort of thing works, thelocal college newspaper had a big crusade to have the U.T. policerelease crime stats.  (The school claimed ...\"\n",
            "Tipo de documento: talk.politics.guns\n",
            "Documento similar numero 1: \"Accounts of Anti-Armenian Human Right Violations in Azerbaijan #008 Part B                 Prelude to Current Events in Nagorno-Karabakh\t\t\t\t(Part B of #008)      +------------...\"\n",
            "Tipo de documento: talk.politics.mideast\n",
            "Similaridad : 0.2512904561529162\n",
            "\n",
            "Documento similar numero 2: \"Hello, my friends and I are running the Homewood Fantasy BaseballLeague (pure fantasy baseball teams). Unfortunely, we are running the leagueusing Earl Weaver Baseball II with th...\"\n",
            "Tipo de documento: rec.sport.baseball\n",
            "Similaridad : 0.25059195814637086\n",
            "\n",
            "Documento similar numero 3: \"Does anybody else think that WS stats should become part ofa player's career stats?   Why not? ...\"\n",
            "Tipo de documento: rec.sport.baseball\n",
            "Similaridad : 0.2463388757321029\n",
            "\n",
            "Documento similar numero 4: \"Here is a press release from the White House. President Clinton's Remarks On Waco With Q/A To: National Desk Contact: White House Office of the Press Secretary, 202-456-2100 ...\"\n",
            "Tipo de documento: talk.politics.guns\n",
            "Similaridad : 0.24502168289128587\n",
            "\n",
            "Documento similar numero 5: \"Accounts of Anti-Armenian Human Rights Violations in Azerbaijan #007                 Prelude to Current Events in Nagorno-Karabakh +--------------------------------------------...\"\n",
            "Tipo de documento: talk.politics.mideast\n",
            "Similaridad : 0.24415857281277945\n",
            "\n",
            "-----------------------\n",
            "\n",
            "Texto numero 2: \"Ahhh go back to alt.autotheism where you belong!...\"\n",
            "Tipo de documento: alt.atheism\n",
            "Documento similar numero 1: \"...Another April 1 posting.  Ahhh....\"\n",
            "Tipo de documento: sci.electronics\n",
            "Similaridad : 0.3732992750549876\n",
            "\n",
            "Documento similar numero 2: \"Do you mean the icons _of_ the program groups, or the icons of theindividual programs _in_ the program groups?  I assume you mean thelatter, and the answer is: sure you can.  Ju...\"\n",
            "Tipo de documento: comp.os.ms-windows.misc\n",
            "Similaridad : 0.14026422906496458\n",
            "\n",
            "Documento similar numero 3: \"Archive-name: atheism/overviewAlt-atheism-archive-name: overviewLast-modified: 5 April 1993Version: 1.2                                   OverviewWelcome to alt.atheism and ...\"\n",
            "Tipo de documento: alt.atheism\n",
            "Similaridad : 0.12655960477978756\n",
            "\n",
            "Documento similar numero 4: \"Make that 20%.  Where did I see that poll recently about thevery religious and adultery?  Was it this newsgroup or alt.atheismor some other place?...\"\n",
            "Tipo de documento: talk.religion.misc\n",
            "Similaridad : 0.1201229408428323\n",
            "\n",
            "Documento similar numero 5: \" (Deletion) Since this drivel is also crossposted to alt.atheism, how about readingthe alt.atheism FAQ? The Josephus quote is concidered to be a fake evenby Christian historia...\"\n",
            "Tipo de documento: talk.religion.misc\n",
            "Similaridad : 0.1165729402654681\n",
            "\n",
            "-----------------------\n",
            "\n",
            "Texto numero 3: \"  A remark I heard the other day is beginning to take on increasinglyfrightening significance.  The comment was made that \"In other partsof the world the Democrats [note...\"\n",
            "Tipo de documento: sci.crypt\n",
            "Documento similar numero 1: \"[...]  Who makes them forget and destroy all copies of the key once they'vedecided you're not a criminal today?  Just curious.------- Any views expressed are those of myself a...\"\n",
            "Tipo de documento: sci.crypt\n",
            "Similaridad : 0.7358715678888902\n",
            "\n",
            "Documento similar numero 2: \"A few days ago there was a posting in this group by Andrea Winklertitled \"X and Security / X Technical Conference\".  I was one of theinstructors of that tutorial.  Unfortunately,...\"\n",
            "Tipo de documento: comp.windows.x\n",
            "Similaridad : 0.24523229787896347\n",
            "\n",
            "Documento similar numero 3: \"Here is a press release from the White House. President Clinton's Remarks On Waco With Q/A To: National Desk Contact: White House Office of the Press Secretary, 202-456-2100 ...\"\n",
            "Tipo de documento: talk.politics.guns\n",
            "Similaridad : 0.19399815414144278\n",
            "\n",
            "Documento similar numero 4: \"Thanks for posting this and making it available. This post will be LONG, I willcomment on most of it, and am reluctantly leaving all of the original in placeto provide context....\"\n",
            "Tipo de documento: sci.crypt\n",
            "Similaridad : 0.18957322209750502\n",
            "\n",
            "Documento similar numero 5: \"The recent rise of nostalgia in this group, combined with the  incredible level of utter bullshit, has prompted me to comb  through my archives and pull out some of \"The Best of ...\"\n",
            "Tipo de documento: alt.atheism\n",
            "Similaridad : 0.18227635394635655\n",
            "\n",
            "-----------------------\n",
            "\n",
            "Texto numero 4: \"So what you're saying is that your mind is made up, and you'll just explainaway any differences at being statistically insignificant?So you'll just explain away any inconsista...\"\n",
            "Tipo de documento: alt.atheism\n",
            "Documento similar numero 1: \"Well, I've provided examples to show that the trend was general, and you(or others) have provided some counterexamples, mostly ones surroundingmating practices, etc.  I don't t...\"\n",
            "Tipo de documento: alt.atheism\n",
            "Similaridad : 0.30347396455781356\n",
            "\n",
            "Documento similar numero 2: \"[In looking through my files this weekend, I ran across some lyrics fromvarious rock groups that have content.  Here are two from Black Sabbath's\"Master of Reality\".  I'll say th...\"\n",
            "Tipo de documento: soc.religion.christian\n",
            "Similaridad : 0.2965753044426228\n",
            "\n",
            "Documento similar numero 3: \"First off, let me congratulate you for not posting a flame about \"You sickperverts, you are immoral, you are all going to hell.\", which seems to be theusual \"religious\" post fou...\"\n",
            "Tipo de documento: talk.religion.misc\n",
            "Similaridad : 0.2886877590908171\n",
            "\n",
            "Documento similar numero 4: \"Center for Policy Research writes...    Your comparison with the Warsaw Ghetto uprising is insulting,    and racist beyond belief.  The attempts to quiet any violence    in t...\"\n",
            "Tipo de documento: talk.politics.mideast\n",
            "Similaridad : 0.2814398015784576\n",
            "\n",
            "Documento similar numero 5: \"To answer your irrelevant question, yes a person of color is human,but I still don't know what you mean by human being and you havemerely begged the question without responding....\"\n",
            "Tipo de documento: talk.politics.misc\n",
            "Similaridad : 0.2760142635239848\n",
            "\n",
            "-----------------------\n",
            "\n",
            "Texto numero 5: \":    I hate to admit this, and I'm still mentally kicking myself for it.: I rode the brand new K75RT home last Friday night.  100 miles in rain: and darkness.  No problems.  Got ...\"\n",
            "Tipo de documento: rec.motorcycles\n",
            "Documento similar numero 1: \"Accounts of Anti-Armenian Human Right Violations in Azerbaijan #012                 Prelude to Current Events in Nagorno-Karabakh        +---------------------------------------...\"\n",
            "Tipo de documento: talk.politics.mideast\n",
            "Similaridad : 0.3366447560086381\n",
            "\n",
            "Documento similar numero 2: \"Accounts of Anti-Armenian Human Right Violations in Azerbaijan #008 Part B                 Prelude to Current Events in Nagorno-Karabakh\t\t\t\t(Part B of #008)      +------------...\"\n",
            "Tipo de documento: talk.politics.mideast\n",
            "Similaridad : 0.3271799045531526\n",
            "\n",
            "Documento similar numero 3: \"Accounts of Anti-Armenian Human Right Violations in Azerbaijan #008 Part A                 Prelude to Current Events in Nagorno-Karabakh\t\t\t\t\t(Part A of #008)      +-----------...\"\n",
            "Tipo de documento: talk.politics.mideast\n",
            "Similaridad : 0.32289410537399504\n",
            "\n",
            "Documento similar numero 4: \"DEPOSITION of VITALY NIKOLAYEVICH DANIELIAN [1]          Born 1972          Attended 9th Grade          Middle School No. 17          Resident at Building 4/2, Apartment 25...\"\n",
            "Tipo de documento: talk.politics.mideast\n",
            "Similaridad : 0.3152721161707506\n",
            "\n",
            "Documento similar numero 5: \"A listmember (D Andrew Killie, I think) wrote, in response to thesuggestion that genocide may sometimes be the will of God: > Any God who works that way is indescribably evil, ...\"\n",
            "Tipo de documento: soc.religion.christian\n",
            "Similaridad : 0.3115302015590787\n",
            "\n",
            "-----------------------\n",
            "\n"
          ]
        }
      ],
      "source": [
        "# Configurar semilla y longitud de texto a imprimir\n",
        "random.seed(49)\n",
        "TXT_LEN = 180\n",
        "ELLIPSIS = \"...\"\n",
        "\n",
        "# Obtener 5 documentos aleatorios\n",
        "random_idx = random.sample(range(X_train.shape[0]), 5)\n",
        "X_train_subset = X_train[random_idx]\n",
        "\n",
        "# Calcular array de similaridades\n",
        "cos_sim_arr = cosine_similarity(X_train_subset, X_train)\n",
        "\n",
        "# Recorremos la lista de documentos para obtener los otros cinco mas similares\n",
        "for i, j in enumerate(random_idx):\n",
        "    # Motramos un fragmento de texto y su tipo\n",
        "    sample_text = newsgroups_train.data[j][:TXT_LEN].replace(\"\\n\", \"\") + ELLIPSIS\n",
        "    sample_class = newsgroups_train.target_names[y_train[j]]\n",
        "    print(f'Texto numero {i+1}: \"{sample_text}\"')\n",
        "    print(f\"Tipo de documento: {sample_class}\")\n",
        "\n",
        "    # Obtenemos los indices de los documentos más similares (sin contarse a él mismo)\n",
        "    # Ordenamos, invertimos el orden (mayor a menor) y obtenemos los 5 primeros indices saltandose el primero (mismo documento)\n",
        "    cos_sim = cos_sim_arr[i]\n",
        "    sim_indexes = cos_sim.argsort()[::-1][1:6]\n",
        "\n",
        "    # Mostramos los documentos más similares\n",
        "    for k,l in enumerate(sim_indexes):\n",
        "        sim_text = newsgroups_train.data[l][:TXT_LEN].replace(\"\\n\", \"\") + ELLIPSIS\n",
        "        sim_class = newsgroups_train.target_names[y_train[l]]\n",
        "        cos_value = cos_sim[l]\n",
        "        print(f'Documento similar numero {k+1}: \"{sim_text}\"')\n",
        "        print(f\"Tipo de documento: {sim_class}\")\n",
        "        print(f\"Similaridad : {cos_value}\\n\")\n",
        "    print(\"-----------------------\\n\")"
      ]
    },
    {
      "cell_type": "markdown",
      "metadata": {},
      "source": [
        "#### Comentario:\n",
        "Podemos observar que para los 5 documentos seleccionados aleatoriamente los documentos más similares suelen compartir el mismo tipo de documento, comparando el contenido del texto podemos encontrar coincidencias en las palabras que usan.\n",
        "\n",
        "Curiosamente, en el primer ejemplo nos encontramos con un fragmento de texto muy breve como tercer documento más similar. Esto seguramente se debe a que la mayoría de palabras de dicho documento también forman parte del \"original\". Curiosamente se cuelan dos documentos de deportes-baseball como documentos similares a uno de política-armas, posiblemente debido a que en todos ellos hablan de estadísticas (aunque el tema sea completamente distinto). \n",
        "\n",
        "### Ejercicio 2 - Entrenamiento\n",
        "#### Mejorar el modelo multinomial\n",
        "\n",
        "Vamos a experimentar con el vectorizador para ver si se pueden mejorar la métrica 0.5854345727938506.\n",
        "\n",
        "Tras probar con varias combinaciones (variando la frecuencia máxima de aparicion en documentos entre un 65% y 85%, el mínimo de apariciones en documentos entre 2 y 10, manteniendo unigramas y digramas en todos los intentos) se obtuvo un vectorizador que mejoró el score en 0.006. Un valor muy mediocre. Sin embargo, al configurar las Stopwords al idioma inglés se consiguió una mejora de más del 6%:"
      ]
    },
    {
      "cell_type": "code",
      "execution_count": 198,
      "metadata": {},
      "outputs": [
        {
          "data": {
            "text/plain": [
              "0.6503941723196313"
            ]
          },
          "execution_count": 198,
          "metadata": {},
          "output_type": "execute_result"
        }
      ],
      "source": [
        "# instanciamos un nuevo vectorizador\n",
        "new_vect = TfidfVectorizer(max_df=0.85, min_df=2, ngram_range=(1, 2), stop_words='english')\n",
        "new_X_train = new_vect.fit_transform(newsgroups_train.data)\n",
        "\n",
        "# Intanciar el modelo multinomial de prueba, se hace fit\n",
        "test_clf = MultinomialNB()\n",
        "test_clf.fit(new_X_train, y_train)\n",
        "\n",
        "# vectorizamos set de prueba y se aplica el predict del modelo de prueba\n",
        "new_X_test = new_vect.transform(newsgroups_test.data)\n",
        "y_pred =  test_clf.predict(new_X_test)\n",
        "\n",
        "f1_score(y_test, y_pred, average='macro')\n",
        "\n"
      ]
    },
    {
      "cell_type": "markdown",
      "metadata": {},
      "source": [
        "Con el vectorizador mejorado, ahora vamos a utilizar gridsearch para encontrar la mejor configuración del modelo multinomial."
      ]
    },
    {
      "cell_type": "code",
      "execution_count": 199,
      "metadata": {},
      "outputs": [
        {
          "name": "stdout",
          "output_type": "stream",
          "text": [
            "Valor de alpha más efectivo: 0.01\n"
          ]
        },
        {
          "data": {
            "text/plain": [
              "0.6861834299321644"
            ]
          },
          "execution_count": 199,
          "metadata": {},
          "output_type": "execute_result"
        }
      ],
      "source": [
        "# Instanciar modelo\n",
        "new_clf = MultinomialNB()\n",
        "\n",
        "# Definición del conjunto de hiperparámetros\n",
        "param_grid = {'alpha': np.arange(0.01, 1, 0.05)}\n",
        "\n",
        "# Instanciamos y ejecutamos gridSearch\n",
        "grid_search = GridSearchCV(new_clf, param_grid, cv=5, scoring='f1_macro')\n",
        "grid_search.fit(new_X_train, y_train)\n",
        "\n",
        "# Obtenemos el mejor hiperparámetro y reentrenamos el modelo\n",
        "alpha = grid_search.best_params_['alpha']\n",
        "print(\"Valor de alpha más efectivo:\", alpha)\n",
        "\n",
        "new_clf = MultinomialNB(alpha=alpha)\n",
        "new_clf.fit(new_X_train, y_train)\n",
        "\n",
        "# Recalculamos el score\n",
        "y_pred = new_clf.predict(new_X_test)\n",
        "f1_score(y_test, y_pred, average='macro')\n"
      ]
    },
    {
      "cell_type": "markdown",
      "metadata": {},
      "source": [
        "Con los cambios realizados, se obtiene un multinomial con un score superior al original de más de un 10%\n",
        "#### Comparar con el modelo ComplementNB\n",
        "\n",
        "Para este apartado se vuelve a hacer uso de GridSearch para obtener los mejores hiperparámetros posibles:"
      ]
    },
    {
      "cell_type": "code",
      "execution_count": 200,
      "metadata": {},
      "outputs": [
        {
          "name": "stdout",
          "output_type": "stream",
          "text": [
            "Hierparámetros más efectivos: {'alpha': 0.16000000000000003, 'fit_prior': True, 'norm': True}\n"
          ]
        },
        {
          "data": {
            "text/plain": [
              "0.7090320040742759"
            ]
          },
          "execution_count": 200,
          "metadata": {},
          "output_type": "execute_result"
        }
      ],
      "source": [
        "# Instanciar modelo\n",
        "com_naive_bayes_clf = ComplementNB()\n",
        "\n",
        "# Definición del conjunto de hiperparámetros\n",
        "param_grid = {\n",
        "    'alpha': np.arange(0.01, 1, 0.05),\n",
        "    'norm': [True, False],\n",
        "    'fit_prior': [True, False]\n",
        "    }\n",
        "\n",
        "# Instanciamos y ejecutamos gridSearch\n",
        "grid_search = GridSearchCV(com_naive_bayes_clf, param_grid, cv=5, scoring='f1_macro')\n",
        "grid_search.fit(new_X_train, y_train)\n",
        "\n",
        "# Obtenemos el mejor hiperparámetro y reentrenamos el modelo\n",
        "best_params = grid_search.best_params_\n",
        "print(\"Hierparámetros más efectivos:\", best_params)\n",
        "\n",
        "com_naive_bayes_clf = ComplementNB(**best_params)\n",
        "com_naive_bayes_clf.fit(new_X_train, y_train)\n",
        "\n",
        "# Recalculamos el score\n",
        "y_pred = com_naive_bayes_clf.predict(new_X_test)\n",
        "f1_score(y_test, y_pred, average='macro')"
      ]
    },
    {
      "cell_type": "markdown",
      "metadata": {},
      "source": [
        "Se puede observar que el modelo ComplementNB supone una mejoría de un 2.3% en comparación al modelo multinomial\n",
        "\n",
        "### Ejercicio 3 - Transposicion y similaridad entre palabras"
      ]
    },
    {
      "cell_type": "code",
      "execution_count": 201,
      "metadata": {},
      "outputs": [
        {
          "name": "stdout",
          "output_type": "stream",
          "text": [
            "Índices seleccionados: [98793, 127084, 127746, 79184, 62909]\n",
            "Palabras seleccionadas: ['persuasive', 'supreme', 'symmetry', 'lithium battery', 'headache']\n",
            "Termino numero 1: \"persuasive\"\n",
            "Termino similar numero 1: \"spurn\"\n",
            "Similaridad : 0.5572896227087307\n",
            "\n",
            "Termino similar numero 2: \"negates\"\n",
            "Similaridad : 0.5397104736765972\n",
            "\n",
            "Termino similar numero 3: \"yes agree\"\n",
            "Similaridad : 0.5347139357541766\n",
            "\n",
            "Termino similar numero 4: \"god reveal\"\n",
            "Similaridad : 0.48597447049215803\n",
            "\n",
            "Termino similar numero 5: \"think conflict\"\n",
            "Similaridad : 0.482322046480582\n",
            "\n",
            "-----------------------\n",
            "\n",
            "Termino numero 2: \"supreme\"\n",
            "Termino similar numero 1: \"supreme court\"\n",
            "Similaridad : 0.7374191586418898\n",
            "\n",
            "Termino similar numero 2: \"supreme power\"\n",
            "Similaridad : 0.4404715164654267\n",
            "\n",
            "Termino similar numero 3: \"court\"\n",
            "Similaridad : 0.35537108325758643\n",
            "\n",
            "Termino similar numero 4: \"eyed\"\n",
            "Similaridad : 0.3517748212863505\n",
            "\n",
            "Termino similar numero 5: \"ruler\"\n",
            "Similaridad : 0.3409303784607524\n",
            "\n",
            "-----------------------\n",
            "\n",
            "Termino numero 3: \"symmetry\"\n",
            "Termino similar numero 1: \"ribbons\"\n",
            "Similaridad : 0.6609736928562473\n",
            "\n",
            "Termino similar numero 2: \"start program\"\n",
            "Similaridad : 0.6573675818111295\n",
            "\n",
            "Termino similar numero 3: \"program thanks\"\n",
            "Similaridad : 0.6287940207884639\n",
            "\n",
            "Termino similar numero 4: \"1967 borders\"\n",
            "Similaridad : 0.5133546474110477\n",
            "\n",
            "Termino similar numero 5: \"haifa\"\n",
            "Similaridad : 0.44342781568019835\n",
            "\n",
            "-----------------------\n",
            "\n",
            "Termino numero 4: \"lithium battery\"\n",
            "Termino similar numero 1: \"lithium\"\n",
            "Similaridad : 0.8978956818002022\n",
            "\n",
            "Termino similar numero 2: \"transfer ownership\"\n",
            "Similaridad : 0.7019420702258873\n",
            "\n",
            "Termino similar numero 3: \"left powered\"\n",
            "Similaridad : 0.6913882341052303\n",
            "\n",
            "Termino similar numero 4: \"guesstimate\"\n",
            "Similaridad : 0.623453621594741\n",
            "\n",
            "Termino similar numero 5: \"battery backup\"\n",
            "Similaridad : 0.6105944194844396\n",
            "\n",
            "-----------------------\n",
            "\n",
            "Termino numero 5: \"headache\"\n",
            "Termino similar numero 1: \"tension type\"\n",
            "Similaridad : 0.6103916582458722\n",
            "\n",
            "Termino similar numero 2: \"migranous\"\n",
            "Similaridad : 0.5427890474087098\n",
            "\n",
            "Termino similar numero 3: \"treat headache\"\n",
            "Similaridad : 0.5013630540940985\n",
            "\n",
            "Termino similar numero 4: \"migraine tension\"\n",
            "Similaridad : 0.46945012184893736\n",
            "\n",
            "Termino similar numero 5: \"differential diagnosis\"\n",
            "Similaridad : 0.46945012184893736\n",
            "\n",
            "-----------------------\n",
            "\n"
          ]
        }
      ],
      "source": [
        "# Transposicion termino-documento + vocabulario\n",
        "X_train_transposed = new_X_train.T\n",
        "vocabulary = new_vect.get_feature_names_out()\n",
        "\n",
        "# Elección de 5 palabras de forma no aleatoria:\n",
        "# (primero las obtenemos de forma aleatoria para comprobar si son interesantes)\n",
        "# 98793 -> persuasive\n",
        "# 127084 -> supreme\n",
        "# 127746 -> symmetry\n",
        "# 79184 -> lithium battery\n",
        "# 62909 -> headache\n",
        "# ids = random.sample(range(0, X_train_transposed.shape[0]), 5)\n",
        "ids = [98793, 127084, 127746, 79184, 62909]\n",
        "selected_words = [vocabulary[i] for i in ids]\n",
        "print(\"Índices seleccionados:\", ids)\n",
        "print(\"Palabras seleccionadas:\", selected_words)\n",
        "\n",
        "# Calcular array de similaridades\n",
        "cos_sim_arr = cosine_similarity(X_train_transposed[ids], X_train_transposed)\n",
        "\n",
        "# Recorremos la lista de terminos para obtener los otros cinco mas similares\n",
        "for i, j in enumerate(ids):\n",
        "    # Motramos la palabra:\n",
        "    print(f'Termino numero {i+1}: \"{selected_words[i]}\"')\n",
        "\n",
        "    # Obtenemos los indices de los terminos más similares (sin contarse a él mismo)\n",
        "    # Ordenamos, invertimos el orden (mayor a menor) y obtenemos los 5 primeros indices saltandose el primero (mismo término)\n",
        "    cos_sim = cos_sim_arr[i]\n",
        "    sim_indexes = cos_sim.argsort()[::-1][1:6]\n",
        "\n",
        "    # Mostramos los terminos más similares\n",
        "    for k,l in enumerate(sim_indexes):\n",
        "        cos_value = cos_sim[l]\n",
        "        print(f'Termino similar numero {k+1}: \"{vocabulary[l]}\"')\n",
        "        print(f\"Similaridad : {cos_value}\\n\")\n",
        "    print(\"-----------------------\\n\")"
      ]
    },
    {
      "cell_type": "markdown",
      "metadata": {},
      "source": [
        "Aunque en algunos casos los términos no guardan demasiada similaridad, podemos observar como se relacionan con palabras similares o com composiciones de la misma palabra (Ya que estoy utilizando el vectorizador mejorado, el cual utiliza unigramas y digramas)."
      ]
    }
  ],
  "metadata": {
    "colab": {
      "provenance": []
    },
    "kernelspec": {
      "display_name": "Python 3",
      "name": "python3"
    },
    "language_info": {
      "codemirror_mode": {
        "name": "ipython",
        "version": 3
      },
      "file_extension": ".py",
      "mimetype": "text/x-python",
      "name": "python",
      "nbconvert_exporter": "python",
      "pygments_lexer": "ipython3",
      "version": "3.10.0"
    }
  },
  "nbformat": 4,
  "nbformat_minor": 0
}
