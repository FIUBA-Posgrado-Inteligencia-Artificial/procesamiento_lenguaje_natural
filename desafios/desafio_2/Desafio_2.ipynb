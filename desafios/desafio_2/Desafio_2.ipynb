{
 "cells": [
  {
   "cell_type": "markdown",
   "metadata": {
    "id": "sZd5yLnnHOK0"
   },
   "source": [
    "<img src=\"https://github.com/hernancontigiani/ceia_memorias_especializacion/raw/master/Figures/logoFIUBA.jpg\" width=\"500\" align=\"center\">\n",
    "\n",
    "\n",
    "# Procesamiento de lenguaje natural\n",
    "## Custom embedddings con Gensim\n",
    "\n"
   ]
  },
  {
   "cell_type": "markdown",
   "metadata": {
    "id": "vA7nqkumo9z9"
   },
   "source": [
    "### Objetivo\n",
    "El objetivo es utilizar documentos / corpus para crear embeddings de palabras basado en ese contexto. Se utilizará canciones de bandas para generar los embeddings, es decir, que los vectores tendrán la forma en función de como esa banda haya utilizado las palabras en sus canciones."
   ]
  },
  {
   "cell_type": "code",
   "execution_count": 57,
   "metadata": {
    "id": "lFToQs5FK5uZ"
   },
   "outputs": [],
   "source": [
    "import pandas as pd\n",
    "import matplotlib.pyplot as plt\n",
    "import seaborn as sns\n",
    "\n",
    "import multiprocessing\n",
    "from gensim.models import Word2Vec"
   ]
  },
  {
   "cell_type": "markdown",
   "metadata": {
    "id": "g07zJxG7H9vG"
   },
   "source": [
    "### Datos\n",
    "Utilizaremos como dataset canciones de bandas de habla inglesa."
   ]
  },
  {
   "cell_type": "code",
   "execution_count": 58,
   "metadata": {
    "id": "l7z4CSBfpR3X"
   },
   "outputs": [
    {
     "name": "stdout",
     "output_type": "stream",
     "text": [
      "El dataset ya se encuentra descargado\n"
     ]
    }
   ],
   "source": [
    "# Descargar la carpeta de dataset\n",
    "import os\n",
    "import platform\n",
    "if os.access('./songs_dataset', os.F_OK) is False:\n",
    "    if os.access('songs_dataset.zip', os.F_OK) is False:\n",
    "        if platform.system() == 'Windows':\n",
    "            !curl https://raw.githubusercontent.com/FIUBA-Posgrado-Inteligencia-Artificial/procesamiento_lenguaje_natural/main/datasets/songs_dataset.zip -o songs_dataset.zip\n",
    "        else:\n",
    "            !wget songs_dataset.zip https://github.com/FIUBA-Posgrado-Inteligencia-Artificial/procesamiento_lenguaje_natural/raw/main/datasets/songs_dataset.zip\n",
    "    !unzip -q songs_dataset.zip   \n",
    "else:\n",
    "    print(\"El dataset ya se encuentra descargado\")"
   ]
  },
  {
   "cell_type": "code",
   "execution_count": 59,
   "metadata": {
    "id": "mysGrIw9ljC2"
   },
   "outputs": [
    {
     "data": {
      "text/plain": [
       "['adele.txt',\n",
       " 'al-green.txt',\n",
       " 'alicia-keys.txt',\n",
       " 'amy-winehouse.txt',\n",
       " 'beatles.txt',\n",
       " 'bieber.txt',\n",
       " 'bjork.txt',\n",
       " 'blink-182.txt',\n",
       " 'bob-dylan.txt',\n",
       " 'bob-marley.txt',\n",
       " 'britney-spears.txt',\n",
       " 'bruce-springsteen.txt',\n",
       " 'bruno-mars.txt',\n",
       " 'cake.txt',\n",
       " 'dickinson.txt',\n",
       " 'disney.txt',\n",
       " 'dj-khaled.txt',\n",
       " 'dolly-parton.txt',\n",
       " 'dr-seuss.txt',\n",
       " 'drake.txt',\n",
       " 'eminem.txt',\n",
       " 'janisjoplin.txt',\n",
       " 'jimi-hendrix.txt',\n",
       " 'johnny-cash.txt',\n",
       " 'joni-mitchell.txt',\n",
       " 'kanye-west.txt',\n",
       " 'kanye.txt',\n",
       " 'Kanye_West.txt',\n",
       " 'lady-gaga.txt',\n",
       " 'leonard-cohen.txt',\n",
       " 'lil-wayne.txt',\n",
       " 'Lil_Wayne.txt',\n",
       " 'lin-manuel-miranda.txt',\n",
       " 'lorde.txt',\n",
       " 'ludacris.txt',\n",
       " 'michael-jackson.txt',\n",
       " 'missy-elliott.txt',\n",
       " 'nickelback.txt',\n",
       " 'nicki-minaj.txt',\n",
       " 'nirvana.txt',\n",
       " 'notorious-big.txt',\n",
       " 'notorious_big.txt',\n",
       " 'nursery_rhymes.txt',\n",
       " 'patti-smith.txt',\n",
       " 'paul-simon.txt',\n",
       " 'prince.txt',\n",
       " 'r-kelly.txt',\n",
       " 'radiohead.txt',\n",
       " 'rihanna.txt']"
      ]
     },
     "execution_count": 59,
     "metadata": {},
     "output_type": "execute_result"
    }
   ],
   "source": [
    "# Posibles bandas\n",
    "os.listdir(\"./songs_dataset/\")"
   ]
  },
  {
   "cell_type": "code",
   "execution_count": 60,
   "metadata": {
    "id": "ticoqYD1Z3I7"
   },
   "outputs": [
    {
     "name": "stderr",
     "output_type": "stream",
     "text": [
      "C:\\Users\\Lorda\\AppData\\Local\\Temp\\ipykernel_29540\\3849064916.py:2: ParserWarning:\n",
      "\n",
      "Falling back to the 'python' engine because the 'c' engine does not support regex separators (separators > 1 char and different from '\\s+' are interpreted as regex); you can avoid this warning by specifying engine='python'.\n",
      "\n"
     ]
    },
    {
     "data": {
      "text/html": [
       "<div>\n",
       "<style scoped>\n",
       "    .dataframe tbody tr th:only-of-type {\n",
       "        vertical-align: middle;\n",
       "    }\n",
       "\n",
       "    .dataframe tbody tr th {\n",
       "        vertical-align: top;\n",
       "    }\n",
       "\n",
       "    .dataframe thead th {\n",
       "        text-align: right;\n",
       "    }\n",
       "</style>\n",
       "<table border=\"1\" class=\"dataframe\">\n",
       "  <thead>\n",
       "    <tr style=\"text-align: right;\">\n",
       "      <th></th>\n",
       "      <th>0</th>\n",
       "    </tr>\n",
       "  </thead>\n",
       "  <tbody>\n",
       "    <tr>\n",
       "      <th>0</th>\n",
       "      <td>Yesterday, all my troubles seemed so far away</td>\n",
       "    </tr>\n",
       "    <tr>\n",
       "      <th>1</th>\n",
       "      <td>Now it looks as though they're here to stay</td>\n",
       "    </tr>\n",
       "    <tr>\n",
       "      <th>2</th>\n",
       "      <td>Oh, I believe in yesterday Suddenly, I'm not h...</td>\n",
       "    </tr>\n",
       "    <tr>\n",
       "      <th>3</th>\n",
       "      <td>There's a shadow hanging over me.</td>\n",
       "    </tr>\n",
       "    <tr>\n",
       "      <th>4</th>\n",
       "      <td>Oh, yesterday came suddenly Why she had to go ...</td>\n",
       "    </tr>\n",
       "  </tbody>\n",
       "</table>\n",
       "</div>"
      ],
      "text/plain": [
       "                                                   0\n",
       "0      Yesterday, all my troubles seemed so far away\n",
       "1        Now it looks as though they're here to stay\n",
       "2  Oh, I believe in yesterday Suddenly, I'm not h...\n",
       "3                  There's a shadow hanging over me.\n",
       "4  Oh, yesterday came suddenly Why she had to go ..."
      ]
     },
     "execution_count": 60,
     "metadata": {},
     "output_type": "execute_result"
    }
   ],
   "source": [
    "# Armar el dataset utilizando salto de línea para separar las oraciones/docs\n",
    "df = pd.read_csv('songs_dataset/beatles.txt', sep='/n', header=None)\n",
    "df.head()"
   ]
  },
  {
   "cell_type": "code",
   "execution_count": 61,
   "metadata": {
    "id": "LEpKubK9XzXN"
   },
   "outputs": [
    {
     "name": "stdout",
     "output_type": "stream",
     "text": [
      "Cantidad de documentos: 1846\n"
     ]
    }
   ],
   "source": [
    "print(\"Cantidad de documentos:\", df.shape[0])"
   ]
  },
  {
   "cell_type": "markdown",
   "metadata": {
    "id": "ab94qaFlrA1G"
   },
   "source": [
    "### 1 - Preprocesamiento"
   ]
  },
  {
   "cell_type": "code",
   "execution_count": 62,
   "metadata": {
    "id": "rIsmMWmjrDHd"
   },
   "outputs": [],
   "source": [
    "from keras_preprocessing.text import text_to_word_sequence\n",
    "\n",
    "sentence_tokens = []\n",
    "# Recorrer todas las filas y transformar las oraciones\n",
    "# en una secuencia de palabras (esto podría realizarse con NLTK o spaCy también)\n",
    "for _, row in df[:None].iterrows():\n",
    "    sentence_tokens.append(text_to_word_sequence(row[0]))"
   ]
  },
  {
   "cell_type": "code",
   "execution_count": 63,
   "metadata": {
    "id": "CHepi_DGrbhq"
   },
   "outputs": [
    {
     "data": {
      "text/plain": [
       "[['yesterday', 'all', 'my', 'troubles', 'seemed', 'so', 'far', 'away'],\n",
       " ['now', 'it', 'looks', 'as', 'though', \"they're\", 'here', 'to', 'stay']]"
      ]
     },
     "execution_count": 63,
     "metadata": {},
     "output_type": "execute_result"
    }
   ],
   "source": [
    "# Demos un vistazo\n",
    "sentence_tokens[:2]"
   ]
  },
  {
   "cell_type": "markdown",
   "metadata": {
    "id": "BaXV6nlHr5Aa"
   },
   "source": [
    "### 2 - Crear los vectores (word2vec)"
   ]
  },
  {
   "cell_type": "code",
   "execution_count": 64,
   "metadata": {
    "id": "OSb0v7h8r7hK"
   },
   "outputs": [],
   "source": [
    "from gensim.models.callbacks import CallbackAny2Vec\n",
    "# Durante el entrenamiento gensim por defecto no informa el \"loss\" en cada época\n",
    "# Sobrecargamos el callback para poder tener esta información\n",
    "class callback(CallbackAny2Vec):\n",
    "    \"\"\"\n",
    "    Callback to print loss after each epoch\n",
    "    \"\"\"\n",
    "    def __init__(self):\n",
    "        self.epoch = 0\n",
    "\n",
    "    def on_epoch_end(self, model):\n",
    "        loss = model.get_latest_training_loss()\n",
    "        if self.epoch == 0:\n",
    "            print('Loss after epoch {}: {}'.format(self.epoch, loss))\n",
    "        else:\n",
    "            print('Loss after epoch {}: {}'.format(self.epoch, loss- self.loss_previous_step))\n",
    "        self.epoch += 1\n",
    "        self.loss_previous_step = loss"
   ]
  },
  {
   "cell_type": "code",
   "execution_count": 65,
   "metadata": {
    "id": "i0wnDdv9sJ47"
   },
   "outputs": [],
   "source": [
    "# Crearmos el modelo generador de vectores\n",
    "# En este caso utilizaremos la estructura modelo Skipgram\n",
    "w2v_model = Word2Vec(min_count=5,    # frecuencia mínima de palabra para incluirla en el vocabulario\n",
    "                     window=2,       # cant de palabras antes y desp de la predicha\n",
    "                     vector_size=300,       # dimensionalidad de los vectores \n",
    "                     negative=20,    # cantidad de negative samples... 0 es no se usa\n",
    "                     workers=1,      # si tienen más cores pueden cambiar este valor\n",
    "                     sg=1)           # modelo 0:CBOW  1:skipgram"
   ]
  },
  {
   "cell_type": "code",
   "execution_count": 66,
   "metadata": {
    "id": "5lTt8wErsf17"
   },
   "outputs": [],
   "source": [
    "# Obtener el vocabulario con los tokens\n",
    "w2v_model.build_vocab(sentence_tokens)"
   ]
  },
  {
   "cell_type": "code",
   "execution_count": 67,
   "metadata": {
    "id": "TNc9qt4os5AT"
   },
   "outputs": [
    {
     "name": "stdout",
     "output_type": "stream",
     "text": [
      "Cantidad de docs en el corpus: 1846\n"
     ]
    }
   ],
   "source": [
    "# Cantidad de filas/docs encontradas en el corpus\n",
    "print(\"Cantidad de docs en el corpus:\", w2v_model.corpus_count)"
   ]
  },
  {
   "cell_type": "code",
   "execution_count": 68,
   "metadata": {
    "id": "idw9cHF3tSMl"
   },
   "outputs": [
    {
     "name": "stdout",
     "output_type": "stream",
     "text": [
      "Cantidad de words distintas en el corpus: 445\n"
     ]
    }
   ],
   "source": [
    "# Cantidad de words encontradas en el corpus\n",
    "print(\"Cantidad de words distintas en el corpus:\", len(w2v_model.wv.index_to_key))"
   ]
  },
  {
   "cell_type": "markdown",
   "metadata": {
    "id": "fC9mZ8DPk-UC"
   },
   "source": [
    "### 3 - Entrenar embeddings"
   ]
  },
  {
   "cell_type": "code",
   "execution_count": 69,
   "metadata": {
    "id": "QSp-x0PAsq56"
   },
   "outputs": [
    {
     "name": "stdout",
     "output_type": "stream",
     "text": [
      "Loss after epoch 0: 113208.15625\n",
      "Loss after epoch 1: 65953.953125\n",
      "Loss after epoch 2: 65934.265625\n",
      "Loss after epoch 3: 65711.96875\n",
      "Loss after epoch 4: 63872.5\n",
      "Loss after epoch 5: 64142.46875\n",
      "Loss after epoch 6: 64058.8125\n",
      "Loss after epoch 7: 64755.4375\n",
      "Loss after epoch 8: 62585.5625\n",
      "Loss after epoch 9: 60415.25\n",
      "Loss after epoch 10: 59823.625\n",
      "Loss after epoch 11: 58930.1875\n",
      "Loss after epoch 12: 57726.4375\n",
      "Loss after epoch 13: 56493.125\n",
      "Loss after epoch 14: 55842.5625\n",
      "Loss after epoch 15: 55862.5\n",
      "Loss after epoch 16: 51695.8125\n",
      "Loss after epoch 17: 49815.5\n",
      "Loss after epoch 18: 49568.125\n",
      "Loss after epoch 19: 48959.75\n"
     ]
    },
    {
     "data": {
      "text/plain": [
       "(156986, 287740)"
      ]
     },
     "execution_count": 69,
     "metadata": {},
     "output_type": "execute_result"
    }
   ],
   "source": [
    "# Entrenamos el modelo generador de vectores\n",
    "# Utilizamos nuestro callback\n",
    "w2v_model.train(sentence_tokens,\n",
    "                 total_examples=w2v_model.corpus_count,\n",
    "                 epochs=20,\n",
    "                 compute_loss = True,\n",
    "                 callbacks=[callback()]\n",
    "                 )"
   ]
  },
  {
   "cell_type": "markdown",
   "metadata": {
    "id": "ddT9NVuNlCAe"
   },
   "source": [
    "### 4 - Ensayar"
   ]
  },
  {
   "cell_type": "code",
   "execution_count": 70,
   "metadata": {
    "id": "6cHN9xGLuPEm"
   },
   "outputs": [
    {
     "data": {
      "text/plain": [
       "[('pretty', 0.9087147116661072),\n",
       " ('sleep', 0.8649678230285645),\n",
       " ('help', 0.8594305515289307),\n",
       " ('try', 0.8456019759178162),\n",
       " ('cry', 0.8387227654457092),\n",
       " ('little', 0.8273633718490601),\n",
       " ('not', 0.8181102871894836),\n",
       " ('seems', 0.8175203204154968),\n",
       " ('twist', 0.8154979348182678),\n",
       " ('peace', 0.812263011932373)]"
      ]
     },
     "execution_count": 70,
     "metadata": {},
     "output_type": "execute_result"
    }
   ],
   "source": [
    "# Palabras que MÁS se relacionan con...:\n",
    "w2v_model.wv.most_similar(positive=[\"darling\"], topn=10)"
   ]
  },
  {
   "cell_type": "code",
   "execution_count": 71,
   "metadata": {
    "id": "47HiU5gdkdMq"
   },
   "outputs": [
    {
     "data": {
      "text/plain": [
       "[('shake', -0.21786975860595703),\n",
       " ('our', -0.24495810270309448),\n",
       " ('come', -0.2613270878791809),\n",
       " ('on', -0.26722386479377747),\n",
       " ('bang', -0.27329546213150024),\n",
       " ('five', -0.2741836607456207),\n",
       " ('six', -0.2774038314819336),\n",
       " ('baby', -0.2776353061199188),\n",
       " ('work', -0.2790372967720032),\n",
       " ('four', -0.2792743146419525)]"
      ]
     },
     "execution_count": 71,
     "metadata": {},
     "output_type": "execute_result"
    }
   ],
   "source": [
    "# Palabras que MENOS se relacionan con...:\n",
    "w2v_model.wv.most_similar(negative=[\"love\"], topn=10)"
   ]
  },
  {
   "cell_type": "code",
   "execution_count": 72,
   "metadata": {
    "id": "DT4Rvno2mD65"
   },
   "outputs": [
    {
     "data": {
      "text/plain": [
       "[('five', 0.9786694049835205),\n",
       " ('three', 0.9761051535606384),\n",
       " ('six', 0.966891348361969),\n",
       " ('two', 0.9565720558166504),\n",
       " ('seven', 0.954232931137085),\n",
       " ('sixty', 0.9003373980522156),\n",
       " ('one', 0.816501259803772),\n",
       " ('us', 0.7762899398803711),\n",
       " ('crying', 0.772737979888916),\n",
       " ('strawberry', 0.7672452330589294)]"
      ]
     },
     "execution_count": 72,
     "metadata": {},
     "output_type": "execute_result"
    }
   ],
   "source": [
    "# Palabras que MÁS se relacionan con...:\n",
    "w2v_model.wv.most_similar(positive=[\"four\"], topn=10)"
   ]
  },
  {
   "cell_type": "code",
   "execution_count": 73,
   "metadata": {
    "id": "XPLDPgzBmQXt"
   },
   "outputs": [
    {
     "data": {
      "text/plain": [
       "[(\"can't\", 0.9409592747688293),\n",
       " ('buy', 0.9399508237838745),\n",
       " ('much', 0.8996850848197937),\n",
       " ('hide', 0.8465201258659363),\n",
       " ('just', 0.8415144085884094)]"
      ]
     },
     "execution_count": 73,
     "metadata": {},
     "output_type": "execute_result"
    }
   ],
   "source": [
    "# Palabras que MÁS se relacionan con...:\n",
    "w2v_model.wv.most_similar(positive=[\"money\"], topn=5)"
   ]
  },
  {
   "cell_type": "code",
   "execution_count": 74,
   "metadata": {
    "id": "L_UvHPMMklOr"
   },
   "outputs": [
    {
     "name": "stdout",
     "output_type": "stream",
     "text": [
      "termino no encontrado, como se esperaba: -> \"Key 'diedaa' not present in vocabulary\"\n"
     ]
    }
   ],
   "source": [
    "try:\n",
    "    # Ensayar con una palabra que no está en el vocabulario:\n",
    "    w2v_model.wv.most_similar(negative=[\"diedaa\"])\n",
    "    # Si no falla, lanzar una excepción manualmente (opcional)\n",
    "    raise Exception(\"Este código debería haber fallado, pero no lo hizo.\")\n",
    "except KeyError as e:\n",
    "    print(f\"termino no encontrado, como se esperaba: -> {e}\")\n"
   ]
  },
  {
   "cell_type": "code",
   "execution_count": 75,
   "metadata": {},
   "outputs": [
    {
     "name": "stdout",
     "output_type": "stream",
     "text": [
      "[ 0.17736822  0.21460655 -0.05408018  0.06707036  0.13059464 -0.25713933\n",
      "  0.00711611  0.26743424 -0.03100746  0.259963    0.21179457 -0.08465387\n",
      " -0.26272097  0.308386   -0.07934437 -0.13357355  0.2994755   0.18062147\n",
      " -0.13111673 -0.11857472  0.03468326  0.1125607   0.08478875  0.08090881\n",
      " -0.17622267  0.03122034 -0.08725598  0.23746666 -0.11507358 -0.29119617\n",
      " -0.03650665 -0.3322312   0.23262788  0.10366543 -0.18365337  0.08299578\n",
      "  0.14315338 -0.19761457 -0.00757894  0.1119568  -0.10421463 -0.13083619\n",
      " -0.03264419 -0.04687435  0.11330808  0.10231452 -0.16202034 -0.10347028\n",
      "  0.03659901 -0.08524423 -0.34872082 -0.02154255  0.25938764  0.16540806\n",
      "  0.0310861   0.09505633  0.24452917 -0.09859891  0.18298703  0.0645447\n",
      "  0.016967   -0.3259168  -0.04774074 -0.05418535 -0.04338397 -0.09137302\n",
      "  0.00889874  0.11636022 -0.25662988  0.05426472  0.08915784  0.04541444\n",
      "  0.20835714 -0.19101828  0.32210803  0.19337991  0.09080223 -0.00362429\n",
      " -0.18664253 -0.07053486 -0.1213743  -0.03477469 -0.15798187  0.39070287\n",
      " -0.06144987  0.11083187 -0.16213974 -0.24604863  0.15004653  0.41447446\n",
      " -0.02289782 -0.17896852 -0.07827526 -0.22193784  0.02855509  0.48533952\n",
      "  0.04447097  0.12464199 -0.04169935  0.1982593  -0.15919553 -0.08606501\n",
      "  0.1320642   0.07071835  0.30667147  0.08809892 -0.19750106  0.23502588\n",
      " -0.07388738  0.04295443 -0.24779157 -0.28854167 -0.4401632   0.00458563\n",
      " -0.07824975  0.18824083  0.05077408 -0.05739668  0.15620743 -0.48762608\n",
      "  0.1922928   0.08314091  0.04989756  0.02644576 -0.06825414  0.35304525\n",
      "  0.17191295 -0.16261117 -0.2936474   0.29585826  0.34883434  0.13242614\n",
      "  0.20136862 -0.45008007  0.10677742  0.29548344  0.05580255 -0.10513617\n",
      " -0.18692017 -0.00885901  0.01701376 -0.16563897 -0.11337513  0.06720471\n",
      "  0.15243004 -0.00960089 -0.0473961  -0.08677159 -0.07125839  0.16441917\n",
      "  0.00310922 -0.36776385  0.08532935  0.06346983 -0.02668795  0.22113207\n",
      " -0.2441667   0.02439994 -0.00925008  0.23633759 -0.10890642  0.11366176\n",
      " -0.0994612   0.21860765  0.01365219  0.01017555 -0.1882097   0.25845018\n",
      "  0.30251107  0.03778573  0.206645    0.22037302  0.16829754  0.04512674\n",
      "  0.01971447 -0.36934844  0.0328729  -0.20335236  0.12939689  0.04162559\n",
      "  0.02085797 -0.10500363 -0.17457162 -0.28335714 -0.08274048 -0.04555536\n",
      " -0.11861075 -0.03437103  0.0255297  -0.2554016   0.17146216  0.05093628\n",
      "  0.0917547  -0.06427904 -0.16107002  0.19086204 -0.10930005 -0.18050742\n",
      " -0.06337117  0.01224837 -0.09302392  0.22475737  0.30700293 -0.26619977\n",
      "  0.2305236   0.00149169  0.13293476  0.02429233  0.07883647 -0.09135374\n",
      " -0.17123872 -0.3664065   0.3834617  -0.21642369  0.30520016 -0.05142065\n",
      " -0.36278993 -0.23481902  0.05347933 -0.33067894 -0.01501467  0.07849759\n",
      "  0.01582254 -0.111112    0.25853142 -0.1510902   0.07833586  0.03887907\n",
      "  0.06565052 -0.10252414 -0.02964626 -0.17363134  0.01443172  0.14266178\n",
      " -0.2042187   0.03214323 -0.1629491   0.23105827 -0.08103111 -0.07967328\n",
      "  0.13010906 -0.15625998  0.0689413  -0.03020397 -0.04729844 -0.24360013\n",
      "  0.2185359  -0.0347794   0.05899534  0.17103592  0.02150829  0.2957355\n",
      "  0.11162414 -0.16905093 -0.18563178 -0.19697626  0.3415001   0.18426846\n",
      " -0.20898484 -0.06920402  0.02646237 -0.33699226  0.0361828  -0.02290664\n",
      " -0.04528077 -0.02644458  0.27353263  0.2873995  -0.03061444  0.13751149\n",
      "  0.05503082  0.02680384  0.05629698  0.03125441  0.27008575  0.18144625\n",
      "  0.04076385  0.18558657 -0.10238926 -0.05794458  0.04535891 -0.09978388\n",
      " -0.17145762 -0.15288326  0.09159966  0.05247529  0.00280528  0.00947132\n",
      "  0.23113796  0.0304687   0.11368281  0.35986233  0.15569495 -0.02521801\n",
      "  0.35871565  0.3222857   0.00839845  0.1805266   0.1312731  -0.31311095]\n"
     ]
    }
   ],
   "source": [
    "# el método `get_vector` permite obtener los vectores:\n",
    "vector_love = w2v_model.wv.get_vector(\"love\")\n",
    "print(vector_love)"
   ]
  },
  {
   "cell_type": "code",
   "execution_count": 76,
   "metadata": {},
   "outputs": [
    {
     "data": {
      "text/plain": [
       "[('love', 1.0),\n",
       " ('babe', 0.9132986068725586),\n",
       " ('someone', 0.8914992809295654),\n",
       " ('nothing', 0.8811879754066467),\n",
       " ('need', 0.8758756518363953),\n",
       " (\"didn't\", 0.8689683079719543),\n",
       " (\"there's\", 0.8557919859886169),\n",
       " ('you', 0.8447725772857666),\n",
       " ('feed', 0.8422104716300964),\n",
       " ('somebody', 0.8385539054870605)]"
      ]
     },
     "execution_count": 76,
     "metadata": {},
     "output_type": "execute_result"
    }
   ],
   "source": [
    "# el método `most_similar` también permite comparar a partir de vectores\n",
    "w2v_model.wv.most_similar(vector_love)"
   ]
  },
  {
   "cell_type": "code",
   "execution_count": 77,
   "metadata": {},
   "outputs": [
    {
     "data": {
      "text/plain": [
       "[('babe', 0.9132986068725586),\n",
       " ('someone', 0.8914992809295654),\n",
       " ('nothing', 0.8811879754066467),\n",
       " ('need', 0.8758756518363953),\n",
       " (\"didn't\", 0.8689682483673096),\n",
       " (\"there's\", 0.8557919859886169),\n",
       " ('you', 0.8447725772857666),\n",
       " ('feed', 0.8422104716300964),\n",
       " ('somebody', 0.8385538458824158),\n",
       " ('hope', 0.8361446261405945)]"
      ]
     },
     "execution_count": 77,
     "metadata": {},
     "output_type": "execute_result"
    }
   ],
   "source": [
    "# Palabras que MÁS se relacionan con...:\n",
    "w2v_model.wv.most_similar(positive=[\"love\"], topn=10)"
   ]
  },
  {
   "cell_type": "markdown",
   "metadata": {
    "id": "_g8UVWe6lFmh"
   },
   "source": [
    "### 5 - Visualizar agrupación de vectores"
   ]
  },
  {
   "cell_type": "code",
   "execution_count": 78,
   "metadata": {
    "id": "pDxEVXAivjr9"
   },
   "outputs": [],
   "source": [
    "from sklearn.decomposition import IncrementalPCA    \n",
    "from sklearn.manifold import TSNE                   \n",
    "import numpy as np                                  \n",
    "\n",
    "def reduce_dimensions(model, num_dimensions = 2 ):\n",
    "     \n",
    "    vectors = np.asarray(model.wv.vectors)\n",
    "    labels = np.asarray(model.wv.index_to_key)  \n",
    "\n",
    "    tsne = TSNE(n_components=num_dimensions, random_state=0)\n",
    "    vectors = tsne.fit_transform(vectors)\n",
    "\n",
    "    return vectors, labels"
   ]
  },
  {
   "cell_type": "code",
   "execution_count": 79,
   "metadata": {
    "id": "NCCXtDpcugmd"
   },
   "outputs": [
    {
     "data": {
      "application/vnd.plotly.v1+json": {
       "config": {
        "plotlyServerURL": "https://plot.ly"
       },
       "data": [
        {
         "hovertemplate": "x=%{x}<br>y=%{y}<br>text=%{text}<extra></extra>",
         "legendgroup": "",
         "marker": {
          "color": "#636efa",
          "symbol": "circle"
         },
         "mode": "markers+text",
         "name": "",
         "orientation": "v",
         "showlegend": false,
         "text": [
          "you",
          "i",
          "the",
          "to",
          "and",
          "love",
          "a",
          "me",
          "in",
          "all",
          "nah",
          "my",
          "it",
          "know",
          "that",
          "be",
          "on",
          "of",
          "she",
          "is",
          "say",
          "now",
          "oh",
          "your",
          "yeah",
          "get",
          "don't",
          "back",
          "with",
          "let",
          "her",
          "can",
          "it's",
          "do",
          "when",
          "come",
          "i'm",
          "will",
          "he",
          "but",
          "for",
          "so",
          "there",
          "need",
          "like",
          "together",
          "no",
          "i'll",
          "see",
          "we",
          "was",
          "never",
          "down",
          "if",
          "way",
          "want",
          "hey",
          "out",
          "one",
          "got",
          "can't",
          "girl",
          "well",
          "good",
          "go",
          "sun",
          "his",
          "hello",
          "home",
          "they",
          "day",
          "are",
          "ah",
          "right",
          "from",
          "little",
          "at",
          "man",
          "help",
          "here",
          "have",
          "gonna",
          "not",
          "world",
          "what",
          "going",
          "how",
          "please",
          "still",
          "too",
          "just",
          "you're",
          "time",
          "as",
          "make",
          "long",
          "yes",
          "yellow",
          "life",
          "once",
          "sky",
          "been",
          "think",
          "tell",
          "why",
          "only",
          "where",
          "people",
          "she's",
          "eyes",
          "jude",
          "take",
          "submarine",
          "up",
          "hold",
          "goodbye",
          "give",
          "nowhere",
          "sing",
          "look",
          "friends",
          "always",
          "hand",
          "boy",
          "we're",
          "am",
          "away",
          "darling",
          "goo",
          "nothing",
          "should",
          "lonely",
          "could",
          "feel",
          "some",
          "night",
          "comes",
          "had",
          "would",
          "better",
          "head",
          "them",
          "four",
          "buy",
          "more",
          "i've",
          "la",
          "mind",
          "two",
          "this",
          "everything",
          "carry",
          "by",
          "our",
          "sunshine",
          "weight",
          "change",
          "us",
          "lucy",
          "birthday",
          "an",
          "true",
          "you'll",
          "every",
          "pretty",
          "three",
          "diamonds",
          "before",
          "believe",
          "these",
          "i'd",
          "words",
          "mm",
          "work",
          "dear",
          "leave",
          "were",
          "mine",
          "there's",
          "nobody",
          "told",
          "money",
          "bom",
          "said",
          "forever",
          "round",
          "children",
          "'cause",
          "something",
          "about",
          "waiting",
          "standing",
          "who",
          "didn't",
          "try",
          "loves",
          "then",
          "hide",
          "saw",
          "prudence"
         ],
         "type": "scatter",
         "x": [
          -20.098031997680664,
          -23.241252899169922,
          10.599369049072266,
          -4.141310691833496,
          1.535334587097168,
          -19.511505126953125,
          14.54468059539795,
          -15.259233474731445,
          12.740609169006348,
          4.595391750335693,
          -20.67905044555664,
          4.950980186462402,
          -8.791030883789062,
          -22.075225830078125,
          -4.504542827606201,
          -12.044578552246094,
          -4.585930824279785,
          15.101913452148438,
          -8.445834159851074,
          6.916409969329834,
          -24.24263572692871,
          4.7081708908081055,
          -22.66837501525879,
          -24.2126522064209,
          -9.60860824584961,
          -1.070272445678711,
          -22.061372756958008,
          -0.6972007155418396,
          13.97060489654541,
          -13.1260347366333,
          -9.865823745727539,
          -15.469243049621582,
          -11.165509223937988,
          -21.739002227783203,
          -20.764854431152344,
          -4.702123165130615,
          13.863381385803223,
          -16.88241958618164,
          -9.080286979675293,
          -13.86025333404541,
          -2.5704314708709717,
          -19.11312484741211,
          1.3754922151565552,
          -18.465791702270508,
          -12.95720100402832,
          4.909547328948975,
          -21.17572593688965,
          -17.6959171295166,
          -15.531892776489258,
          22.941234588623047,
          1.2141672372817993,
          -19.306884765625,
          -12.71072769165039,
          -17.306413650512695,
          2.0868630409240723,
          -23.14772605895996,
          -19.927215576171875,
          -6.471672534942627,
          21.21146011352539,
          -15.608968734741211,
          -18.623205184936523,
          12.202789306640625,
          -6.235633850097656,
          11.894232749938965,
          9.031259536743164,
          19.32733154296875,
          13.385213851928711,
          -25.552827835083008,
          -0.1111128106713295,
          0.6057385802268982,
          12.446290969848633,
          0.05407266318798065,
          5.509104251861572,
          4.218850612640381,
          10.245737075805664,
          10.844969749450684,
          6.744581699371338,
          15.850030899047852,
          9.908499717712402,
          19.319074630737305,
          1.0834569931030273,
          -1.6562137603759766,
          -10.731147766113281,
          -0.12692128121852875,
          -21.593883514404297,
          11.660299301147461,
          -12.445858001708984,
          -13.363637924194336,
          -17.477001190185547,
          -5.9864020347595215,
          -14.547588348388672,
          -2.7495386600494385,
          -4.3810882568359375,
          0.9739589691162109,
          -15.750589370727539,
          -3.396291494369507,
          -11.874670028686523,
          23.6202392578125,
          7.676021575927734,
          0.3613610863685608,
          15.054370880126953,
          6.812648296356201,
          -20.44826316833496,
          -18.46597671508789,
          -23.8455867767334,
          6.342366695404053,
          0.19443945586681366,
          18.650554656982422,
          12.561453819274902,
          12.593424797058105,
          -19.85283088684082,
          -11.516471862792969,
          23.621957778930664,
          12.730164527893066,
          -23.229244232177734,
          -25.324459075927734,
          -16.726991653442383,
          16.519649505615234,
          -16.555919647216797,
          6.583200454711914,
          9.908554077148438,
          -11.064772605895996,
          -23.98306655883789,
          -2.9661223888397217,
          7.923530101776123,
          -11.362548828125,
          -8.236896514892578,
          6.603123188018799,
          21.202903747558594,
          -19.030338287353516,
          -19.93023109436035,
          19.17557716369629,
          -20.095067977905273,
          -16.615482330322266,
          2.7513375282287598,
          9.92837142944336,
          19.328102111816406,
          0.53589928150177,
          -15.64484977722168,
          -16.281661987304688,
          12.527002334594727,
          2.630828619003296,
          19.221208572387695,
          -18.649394989013672,
          -17.42373275756836,
          -12.738662719726562,
          2.9118268489837646,
          6.543145656585693,
          20.317073822021484,
          6.7564167976379395,
          -14.43742847442627,
          -2.73427152633667,
          13.769132614135742,
          2.946756601333618,
          12.236583709716797,
          -3.0138914585113525,
          -0.8344027996063232,
          10.885174751281738,
          14.485780715942383,
          -11.908881187438965,
          -8.373292922973633,
          -11.028192520141602,
          -18.487672805786133,
          10.707005500793457,
          5.84440279006958,
          19.808202743530273,
          14.371532440185547,
          -4.140927791595459,
          -19.405466079711914,
          5.897326469421387,
          -6.399306297302246,
          -9.144805908203125,
          0.8708595037460327,
          -6.572348594665527,
          5.449624538421631,
          -11.994267463684082,
          1.5028237104415894,
          1.5868054628372192,
          -14.618226051330566,
          -3.196709156036377,
          -19.58802604675293,
          -18.41842269897461,
          19.9103946685791,
          -0.494225412607193,
          9.812559127807617,
          4.216379165649414,
          9.832243919372559,
          13.362858772277832,
          -0.7293468117713928,
          -5.316551685333252,
          7.334109306335449,
          9.140494346618652,
          15.882675170898438,
          -17.677398681640625,
          4.084456443786621,
          -9.191449165344238,
          -1.2553505897521973,
          -15.304944038391113,
          -9.914794921875,
          5.51270866394043
         ],
         "xaxis": "x",
         "y": [
          -7.979539394378662,
          -1.1025832891464233,
          -9.405733108520508,
          10.891836166381836,
          1.4511048793792725,
          -9.904731750488281,
          -5.575183868408203,
          -8.959246635437012,
          -11.4971284866333,
          -19.81577491760254,
          10.021918296813965,
          -14.956489562988281,
          15.250765800476074,
          1.631832242012024,
          -11.04734992980957,
          11.50277328491211,
          17.516347885131836,
          -8.169983863830566,
          -8.078691482543945,
          -10.806902885437012,
          0.7318602800369263,
          -19.957401275634766,
          -3.700021266937256,
          -10.431509971618652,
          -9.02854061126709,
          20.79775047302246,
          2.5466623306274414,
          20.990022659301758,
          -13.714768409729004,
          10.538986206054688,
          4.078627109527588,
          -1.4648083448410034,
          -5.267138957977295,
          -5.043247222900391,
          -6.496139049530029,
          17.523557662963867,
          12.68328857421875,
          -10.30513858795166,
          0.5523874163627625,
          0.17803162336349487,
          -11.429170608520508,
          -4.646899700164795,
          24.29407501220703,
          -10.336112976074219,
          -8.600811958312988,
          -20.80152702331543,
          -2.747715950012207,
          -1.4029295444488525,
          -4.007735729217529,
          -4.059896469116211,
          23.869216918945312,
          -1.932061791419983,
          9.769942283630371,
          -4.763154983520508,
          21.09721565246582,
          -9.973394393920898,
          9.424589157104492,
          16.214683532714844,
          13.152938842773438,
          4.837341785430908,
          -14.80166244506836,
          -0.7613058686256409,
          7.750172138214111,
          21.003978729248047,
          20.658536911010742,
          19.760086059570312,
          -8.402947425842285,
          1.1383938789367676,
          20.414323806762695,
          5.602933883666992,
          21.052358627319336,
          -4.639257431030273,
          13.116364479064941,
          -20.86834716796875,
          -16.896377563476562,
          -16.783130645751953,
          13.181828498840332,
          0.39068683981895447,
          -17.71661376953125,
          19.76238441467285,
          -5.350039958953857,
          -15.310956001281738,
          -11.826875686645508,
          -16.4191951751709,
          -1.4230822324752808,
          14.506895065307617,
          -0.4894569516181946,
          -9.843426704406738,
          -10.340545654296875,
          -11.65954875946045,
          3.947385549545288,
          -16.378366470336914,
          -11.881830215454102,
          -3.024841547012329,
          8.99476146697998,
          -12.917333602905273,
          -16.294410705566406,
          -5.793867588043213,
          -13.711387634277344,
          22.940473556518555,
          -13.459707260131836,
          -0.8085051774978638,
          -1.7103644609451294,
          -6.972315311431885,
          1.4995979070663452,
          2.0117383003234863,
          22.079744338989258,
          -5.734673023223877,
          0.483615517616272,
          -10.277212142944336,
          9.418573379516602,
          8.558547019958496,
          -5.788735866546631,
          -6.7058844566345215,
          -11.090048789978027,
          1.1249558925628662,
          3.43595814704895,
          -1.4296536445617676,
          13.877514839172363,
          13.176064491271973,
          -17.10895538330078,
          13.164484977722168,
          -10.445382118225098,
          -16.530698776245117,
          8.405000686645508,
          -16.375774383544922,
          2.3953850269317627,
          17.198570251464844,
          6.900873184204102,
          -8.337940216064453,
          2.3158178329467773,
          -5.8400726318359375,
          0.033891841769218445,
          0.8714679479598999,
          -5.487584590911865,
          -1.6913549900054932,
          19.757301330566406,
          10.019041061401367,
          -2.2478179931640625,
          8.994843482971191,
          -9.002882957458496,
          2.5938992500305176,
          13.265645980834961,
          -14.747565269470215,
          5.6912055015563965,
          3.525653600692749,
          11.464210510253906,
          -14.194188117980957,
          13.045074462890625,
          1.4641098976135254,
          2.5137033462524414,
          -15.037650108337402,
          -4.769598007202148,
          20.992870330810547,
          21.034320831298828,
          -14.42972183227539,
          -16.347318649291992,
          1.3705627918243408,
          -13.245816230773926,
          -3.974806547164917,
          12.148082733154297,
          12.642794609069824,
          0.7762358784675598,
          3.2385175228118896,
          17.053163528442383,
          13.030845642089844,
          -13.510054588317871,
          -10.12458610534668,
          -5.183753967285156,
          -6.6262054443359375,
          1.9389400482177734,
          10.700637817382812,
          12.29992961883545,
          16.18086051940918,
          9.5662841796875,
          6.571670055389404,
          -7.435757160186768,
          7.638157844543457,
          -6.758256435394287,
          0.33577725291252136,
          -5.9677276611328125,
          -15.053271293640137,
          1.7419641017913818,
          -3.6891183853149414,
          12.917702674865723,
          -11.730501174926758,
          20.653366088867188,
          13.499886512756348,
          -0.21507205069065094,
          3.209735155105591,
          1.0957646369934082,
          0.289065420627594,
          -0.6422668099403381,
          -7.396584987640381,
          15.962505340576172,
          -8.678145408630371,
          8.548011779785156,
          3.8004064559936523,
          2.3862574100494385,
          9.800058364868164
         ],
         "yaxis": "y"
        }
       ],
       "layout": {
        "legend": {
         "tracegroupgap": 0
        },
        "margin": {
         "t": 60
        },
        "template": {
         "data": {
          "bar": [
           {
            "error_x": {
             "color": "#2a3f5f"
            },
            "error_y": {
             "color": "#2a3f5f"
            },
            "marker": {
             "line": {
              "color": "#E5ECF6",
              "width": 0.5
             },
             "pattern": {
              "fillmode": "overlay",
              "size": 10,
              "solidity": 0.2
             }
            },
            "type": "bar"
           }
          ],
          "barpolar": [
           {
            "marker": {
             "line": {
              "color": "#E5ECF6",
              "width": 0.5
             },
             "pattern": {
              "fillmode": "overlay",
              "size": 10,
              "solidity": 0.2
             }
            },
            "type": "barpolar"
           }
          ],
          "carpet": [
           {
            "aaxis": {
             "endlinecolor": "#2a3f5f",
             "gridcolor": "white",
             "linecolor": "white",
             "minorgridcolor": "white",
             "startlinecolor": "#2a3f5f"
            },
            "baxis": {
             "endlinecolor": "#2a3f5f",
             "gridcolor": "white",
             "linecolor": "white",
             "minorgridcolor": "white",
             "startlinecolor": "#2a3f5f"
            },
            "type": "carpet"
           }
          ],
          "choropleth": [
           {
            "colorbar": {
             "outlinewidth": 0,
             "ticks": ""
            },
            "type": "choropleth"
           }
          ],
          "contour": [
           {
            "colorbar": {
             "outlinewidth": 0,
             "ticks": ""
            },
            "colorscale": [
             [
              0,
              "#0d0887"
             ],
             [
              0.1111111111111111,
              "#46039f"
             ],
             [
              0.2222222222222222,
              "#7201a8"
             ],
             [
              0.3333333333333333,
              "#9c179e"
             ],
             [
              0.4444444444444444,
              "#bd3786"
             ],
             [
              0.5555555555555556,
              "#d8576b"
             ],
             [
              0.6666666666666666,
              "#ed7953"
             ],
             [
              0.7777777777777778,
              "#fb9f3a"
             ],
             [
              0.8888888888888888,
              "#fdca26"
             ],
             [
              1,
              "#f0f921"
             ]
            ],
            "type": "contour"
           }
          ],
          "contourcarpet": [
           {
            "colorbar": {
             "outlinewidth": 0,
             "ticks": ""
            },
            "type": "contourcarpet"
           }
          ],
          "heatmap": [
           {
            "colorbar": {
             "outlinewidth": 0,
             "ticks": ""
            },
            "colorscale": [
             [
              0,
              "#0d0887"
             ],
             [
              0.1111111111111111,
              "#46039f"
             ],
             [
              0.2222222222222222,
              "#7201a8"
             ],
             [
              0.3333333333333333,
              "#9c179e"
             ],
             [
              0.4444444444444444,
              "#bd3786"
             ],
             [
              0.5555555555555556,
              "#d8576b"
             ],
             [
              0.6666666666666666,
              "#ed7953"
             ],
             [
              0.7777777777777778,
              "#fb9f3a"
             ],
             [
              0.8888888888888888,
              "#fdca26"
             ],
             [
              1,
              "#f0f921"
             ]
            ],
            "type": "heatmap"
           }
          ],
          "heatmapgl": [
           {
            "colorbar": {
             "outlinewidth": 0,
             "ticks": ""
            },
            "colorscale": [
             [
              0,
              "#0d0887"
             ],
             [
              0.1111111111111111,
              "#46039f"
             ],
             [
              0.2222222222222222,
              "#7201a8"
             ],
             [
              0.3333333333333333,
              "#9c179e"
             ],
             [
              0.4444444444444444,
              "#bd3786"
             ],
             [
              0.5555555555555556,
              "#d8576b"
             ],
             [
              0.6666666666666666,
              "#ed7953"
             ],
             [
              0.7777777777777778,
              "#fb9f3a"
             ],
             [
              0.8888888888888888,
              "#fdca26"
             ],
             [
              1,
              "#f0f921"
             ]
            ],
            "type": "heatmapgl"
           }
          ],
          "histogram": [
           {
            "marker": {
             "pattern": {
              "fillmode": "overlay",
              "size": 10,
              "solidity": 0.2
             }
            },
            "type": "histogram"
           }
          ],
          "histogram2d": [
           {
            "colorbar": {
             "outlinewidth": 0,
             "ticks": ""
            },
            "colorscale": [
             [
              0,
              "#0d0887"
             ],
             [
              0.1111111111111111,
              "#46039f"
             ],
             [
              0.2222222222222222,
              "#7201a8"
             ],
             [
              0.3333333333333333,
              "#9c179e"
             ],
             [
              0.4444444444444444,
              "#bd3786"
             ],
             [
              0.5555555555555556,
              "#d8576b"
             ],
             [
              0.6666666666666666,
              "#ed7953"
             ],
             [
              0.7777777777777778,
              "#fb9f3a"
             ],
             [
              0.8888888888888888,
              "#fdca26"
             ],
             [
              1,
              "#f0f921"
             ]
            ],
            "type": "histogram2d"
           }
          ],
          "histogram2dcontour": [
           {
            "colorbar": {
             "outlinewidth": 0,
             "ticks": ""
            },
            "colorscale": [
             [
              0,
              "#0d0887"
             ],
             [
              0.1111111111111111,
              "#46039f"
             ],
             [
              0.2222222222222222,
              "#7201a8"
             ],
             [
              0.3333333333333333,
              "#9c179e"
             ],
             [
              0.4444444444444444,
              "#bd3786"
             ],
             [
              0.5555555555555556,
              "#d8576b"
             ],
             [
              0.6666666666666666,
              "#ed7953"
             ],
             [
              0.7777777777777778,
              "#fb9f3a"
             ],
             [
              0.8888888888888888,
              "#fdca26"
             ],
             [
              1,
              "#f0f921"
             ]
            ],
            "type": "histogram2dcontour"
           }
          ],
          "mesh3d": [
           {
            "colorbar": {
             "outlinewidth": 0,
             "ticks": ""
            },
            "type": "mesh3d"
           }
          ],
          "parcoords": [
           {
            "line": {
             "colorbar": {
              "outlinewidth": 0,
              "ticks": ""
             }
            },
            "type": "parcoords"
           }
          ],
          "pie": [
           {
            "automargin": true,
            "type": "pie"
           }
          ],
          "scatter": [
           {
            "fillpattern": {
             "fillmode": "overlay",
             "size": 10,
             "solidity": 0.2
            },
            "type": "scatter"
           }
          ],
          "scatter3d": [
           {
            "line": {
             "colorbar": {
              "outlinewidth": 0,
              "ticks": ""
             }
            },
            "marker": {
             "colorbar": {
              "outlinewidth": 0,
              "ticks": ""
             }
            },
            "type": "scatter3d"
           }
          ],
          "scattercarpet": [
           {
            "marker": {
             "colorbar": {
              "outlinewidth": 0,
              "ticks": ""
             }
            },
            "type": "scattercarpet"
           }
          ],
          "scattergeo": [
           {
            "marker": {
             "colorbar": {
              "outlinewidth": 0,
              "ticks": ""
             }
            },
            "type": "scattergeo"
           }
          ],
          "scattergl": [
           {
            "marker": {
             "colorbar": {
              "outlinewidth": 0,
              "ticks": ""
             }
            },
            "type": "scattergl"
           }
          ],
          "scattermapbox": [
           {
            "marker": {
             "colorbar": {
              "outlinewidth": 0,
              "ticks": ""
             }
            },
            "type": "scattermapbox"
           }
          ],
          "scatterpolar": [
           {
            "marker": {
             "colorbar": {
              "outlinewidth": 0,
              "ticks": ""
             }
            },
            "type": "scatterpolar"
           }
          ],
          "scatterpolargl": [
           {
            "marker": {
             "colorbar": {
              "outlinewidth": 0,
              "ticks": ""
             }
            },
            "type": "scatterpolargl"
           }
          ],
          "scatterternary": [
           {
            "marker": {
             "colorbar": {
              "outlinewidth": 0,
              "ticks": ""
             }
            },
            "type": "scatterternary"
           }
          ],
          "surface": [
           {
            "colorbar": {
             "outlinewidth": 0,
             "ticks": ""
            },
            "colorscale": [
             [
              0,
              "#0d0887"
             ],
             [
              0.1111111111111111,
              "#46039f"
             ],
             [
              0.2222222222222222,
              "#7201a8"
             ],
             [
              0.3333333333333333,
              "#9c179e"
             ],
             [
              0.4444444444444444,
              "#bd3786"
             ],
             [
              0.5555555555555556,
              "#d8576b"
             ],
             [
              0.6666666666666666,
              "#ed7953"
             ],
             [
              0.7777777777777778,
              "#fb9f3a"
             ],
             [
              0.8888888888888888,
              "#fdca26"
             ],
             [
              1,
              "#f0f921"
             ]
            ],
            "type": "surface"
           }
          ],
          "table": [
           {
            "cells": {
             "fill": {
              "color": "#EBF0F8"
             },
             "line": {
              "color": "white"
             }
            },
            "header": {
             "fill": {
              "color": "#C8D4E3"
             },
             "line": {
              "color": "white"
             }
            },
            "type": "table"
           }
          ]
         },
         "layout": {
          "annotationdefaults": {
           "arrowcolor": "#2a3f5f",
           "arrowhead": 0,
           "arrowwidth": 1
          },
          "autotypenumbers": "strict",
          "coloraxis": {
           "colorbar": {
            "outlinewidth": 0,
            "ticks": ""
           }
          },
          "colorscale": {
           "diverging": [
            [
             0,
             "#8e0152"
            ],
            [
             0.1,
             "#c51b7d"
            ],
            [
             0.2,
             "#de77ae"
            ],
            [
             0.3,
             "#f1b6da"
            ],
            [
             0.4,
             "#fde0ef"
            ],
            [
             0.5,
             "#f7f7f7"
            ],
            [
             0.6,
             "#e6f5d0"
            ],
            [
             0.7,
             "#b8e186"
            ],
            [
             0.8,
             "#7fbc41"
            ],
            [
             0.9,
             "#4d9221"
            ],
            [
             1,
             "#276419"
            ]
           ],
           "sequential": [
            [
             0,
             "#0d0887"
            ],
            [
             0.1111111111111111,
             "#46039f"
            ],
            [
             0.2222222222222222,
             "#7201a8"
            ],
            [
             0.3333333333333333,
             "#9c179e"
            ],
            [
             0.4444444444444444,
             "#bd3786"
            ],
            [
             0.5555555555555556,
             "#d8576b"
            ],
            [
             0.6666666666666666,
             "#ed7953"
            ],
            [
             0.7777777777777778,
             "#fb9f3a"
            ],
            [
             0.8888888888888888,
             "#fdca26"
            ],
            [
             1,
             "#f0f921"
            ]
           ],
           "sequentialminus": [
            [
             0,
             "#0d0887"
            ],
            [
             0.1111111111111111,
             "#46039f"
            ],
            [
             0.2222222222222222,
             "#7201a8"
            ],
            [
             0.3333333333333333,
             "#9c179e"
            ],
            [
             0.4444444444444444,
             "#bd3786"
            ],
            [
             0.5555555555555556,
             "#d8576b"
            ],
            [
             0.6666666666666666,
             "#ed7953"
            ],
            [
             0.7777777777777778,
             "#fb9f3a"
            ],
            [
             0.8888888888888888,
             "#fdca26"
            ],
            [
             1,
             "#f0f921"
            ]
           ]
          },
          "colorway": [
           "#636efa",
           "#EF553B",
           "#00cc96",
           "#ab63fa",
           "#FFA15A",
           "#19d3f3",
           "#FF6692",
           "#B6E880",
           "#FF97FF",
           "#FECB52"
          ],
          "font": {
           "color": "#2a3f5f"
          },
          "geo": {
           "bgcolor": "white",
           "lakecolor": "white",
           "landcolor": "#E5ECF6",
           "showlakes": true,
           "showland": true,
           "subunitcolor": "white"
          },
          "hoverlabel": {
           "align": "left"
          },
          "hovermode": "closest",
          "mapbox": {
           "style": "light"
          },
          "paper_bgcolor": "white",
          "plot_bgcolor": "#E5ECF6",
          "polar": {
           "angularaxis": {
            "gridcolor": "white",
            "linecolor": "white",
            "ticks": ""
           },
           "bgcolor": "#E5ECF6",
           "radialaxis": {
            "gridcolor": "white",
            "linecolor": "white",
            "ticks": ""
           }
          },
          "scene": {
           "xaxis": {
            "backgroundcolor": "#E5ECF6",
            "gridcolor": "white",
            "gridwidth": 2,
            "linecolor": "white",
            "showbackground": true,
            "ticks": "",
            "zerolinecolor": "white"
           },
           "yaxis": {
            "backgroundcolor": "#E5ECF6",
            "gridcolor": "white",
            "gridwidth": 2,
            "linecolor": "white",
            "showbackground": true,
            "ticks": "",
            "zerolinecolor": "white"
           },
           "zaxis": {
            "backgroundcolor": "#E5ECF6",
            "gridcolor": "white",
            "gridwidth": 2,
            "linecolor": "white",
            "showbackground": true,
            "ticks": "",
            "zerolinecolor": "white"
           }
          },
          "shapedefaults": {
           "line": {
            "color": "#2a3f5f"
           }
          },
          "ternary": {
           "aaxis": {
            "gridcolor": "white",
            "linecolor": "white",
            "ticks": ""
           },
           "baxis": {
            "gridcolor": "white",
            "linecolor": "white",
            "ticks": ""
           },
           "bgcolor": "#E5ECF6",
           "caxis": {
            "gridcolor": "white",
            "linecolor": "white",
            "ticks": ""
           }
          },
          "title": {
           "x": 0.05
          },
          "xaxis": {
           "automargin": true,
           "gridcolor": "white",
           "linecolor": "white",
           "ticks": "",
           "title": {
            "standoff": 15
           },
           "zerolinecolor": "white",
           "zerolinewidth": 2
          },
          "yaxis": {
           "automargin": true,
           "gridcolor": "white",
           "linecolor": "white",
           "ticks": "",
           "title": {
            "standoff": 15
           },
           "zerolinecolor": "white",
           "zerolinewidth": 2
          }
         }
        },
        "xaxis": {
         "anchor": "y",
         "domain": [
          0,
          1
         ],
         "title": {
          "text": "x"
         }
        },
        "yaxis": {
         "anchor": "x",
         "domain": [
          0,
          1
         ],
         "title": {
          "text": "y"
         }
        }
       }
      }
     },
     "metadata": {},
     "output_type": "display_data"
    }
   ],
   "source": [
    "# Graficar los embedddings en 2D\n",
    "import plotly.graph_objects as go\n",
    "import plotly.express as px\n",
    "\n",
    "vecs, labels = reduce_dimensions(w2v_model)\n",
    "\n",
    "MAX_WORDS=200\n",
    "fig = px.scatter(x=vecs[:MAX_WORDS,0], y=vecs[:MAX_WORDS,1], text=labels[:MAX_WORDS])\n",
    "fig.show() # esto para plotly en colab"
   ]
  },
  {
   "cell_type": "code",
   "execution_count": 80,
   "metadata": {},
   "outputs": [
    {
     "data": {
      "application/vnd.plotly.v1+json": {
       "config": {
        "plotlyServerURL": "https://plot.ly"
       },
       "data": [
        {
         "hovertemplate": "x=%{x}<br>y=%{y}<br>z=%{z}<br>text=%{text}<extra></extra>",
         "legendgroup": "",
         "marker": {
          "color": "#636efa",
          "size": 2,
          "symbol": "circle"
         },
         "mode": "markers+text",
         "name": "",
         "scene": "scene",
         "showlegend": false,
         "text": [
          "you",
          "i",
          "the",
          "to",
          "and",
          "love",
          "a",
          "me",
          "in",
          "all",
          "nah",
          "my",
          "it",
          "know",
          "that",
          "be",
          "on",
          "of",
          "she",
          "is",
          "say",
          "now",
          "oh",
          "your",
          "yeah",
          "get",
          "don't",
          "back",
          "with",
          "let",
          "her",
          "can",
          "it's",
          "do",
          "when",
          "come",
          "i'm",
          "will",
          "he",
          "but",
          "for",
          "so",
          "there",
          "need",
          "like",
          "together",
          "no",
          "i'll",
          "see",
          "we",
          "was",
          "never",
          "down",
          "if",
          "way",
          "want",
          "hey",
          "out",
          "one",
          "got",
          "can't",
          "girl",
          "well",
          "good",
          "go",
          "sun",
          "his",
          "hello",
          "home",
          "they",
          "day",
          "are",
          "ah",
          "right",
          "from",
          "little",
          "at",
          "man",
          "help",
          "here",
          "have",
          "gonna",
          "not",
          "world",
          "what",
          "going",
          "how",
          "please",
          "still",
          "too",
          "just",
          "you're",
          "time",
          "as",
          "make",
          "long",
          "yes",
          "yellow",
          "life",
          "once",
          "sky",
          "been",
          "think",
          "tell",
          "why",
          "only",
          "where",
          "people",
          "she's",
          "eyes",
          "jude",
          "take",
          "submarine",
          "up",
          "hold",
          "goodbye",
          "give",
          "nowhere",
          "sing",
          "look",
          "friends",
          "always",
          "hand",
          "boy",
          "we're",
          "am",
          "away",
          "darling",
          "goo",
          "nothing",
          "should",
          "lonely",
          "could",
          "feel",
          "some",
          "night",
          "comes",
          "had",
          "would",
          "better",
          "head",
          "them",
          "four",
          "buy",
          "more",
          "i've",
          "la",
          "mind",
          "two",
          "this",
          "everything",
          "carry",
          "by",
          "our",
          "sunshine",
          "weight",
          "change",
          "us",
          "lucy",
          "birthday",
          "an",
          "true",
          "you'll",
          "every",
          "pretty",
          "three",
          "diamonds",
          "before",
          "believe",
          "these",
          "i'd",
          "words",
          "mm",
          "work",
          "dear",
          "leave",
          "were",
          "mine",
          "there's",
          "nobody",
          "told",
          "money",
          "bom",
          "said",
          "forever",
          "round",
          "children",
          "'cause",
          "something",
          "about",
          "waiting",
          "standing",
          "who",
          "didn't",
          "try",
          "loves",
          "then",
          "hide",
          "saw",
          "prudence"
         ],
         "type": "scatter3d",
         "x": [
          5.662445545196533,
          -11.514633178710938,
          -17.543460845947266,
          -0.23341064155101776,
          17.155590057373047,
          7.070538520812988,
          0.2407391518354416,
          18.775951385498047,
          -25.47231674194336,
          -30.081035614013672,
          -8.279797554016113,
          -17.474895477294922,
          34.50248336791992,
          -2.2912936210632324,
          -10.000001907348633,
          35.815643310546875,
          24.435218811035156,
          -13.48843765258789,
          0.910366415977478,
          -24.91599464416504,
          -11.23673152923584,
          -32.08454513549805,
          -5.044595241546631,
          27.956422805786133,
          7.709224224090576,
          0.16743268072605133,
          -0.7198064923286438,
          -0.34138980507850647,
          -28.74916648864746,
          36.22608184814453,
          19.193103790283203,
          17.075462341308594,
          15.394438743591309,
          1.0050994157791138,
          11.190295219421387,
          27.2298641204834,
          16.539817810058594,
          18.684860229492188,
          1.6057820320129395,
          -7.0071234703063965,
          -3.1674489974975586,
          8.676116943359375,
          -11.466078758239746,
          12.385164260864258,
          16.205392837524414,
          -32.21515655517578,
          -6.29958438873291,
          28.200275421142578,
          17.73224449157715,
          -18.867706298828125,
          -7.8702239990234375,
          -0.17153078317642212,
          31.74480628967285,
          3.630542039871216,
          0.8427928686141968,
          23.08717155456543,
          -11.023149490356445,
          26.42983055114746,
          -31.792476654052734,
          -9.442655563354492,
          6.862124919891357,
          1.7522016763687134,
          19.651100158691406,
          -19.64301300048828,
          -11.850017547607422,
          23.977842330932617,
          -15.817989349365234,
          -15.180665969848633,
          3.738051176071167,
          -18.9401912689209,
          -17.257400512695312,
          -12.271851539611816,
          -25.166730880737305,
          -29.245920181274414,
          -5.756354808807373,
          -1.8536661863327026,
          -26.690988540649414,
          -7.526418685913086,
          -1.096323013305664,
          23.469196319580078,
          -9.88347339630127,
          -16.959001541137695,
          17.976152420043945,
          -13.951343536376953,
          -0.4053184688091278,
          11.642244338989258,
          10.966471672058105,
          23.074636459350586,
          15.903402328491211,
          -5.52810525894165,
          -3.1917243003845215,
          -18.600114822387695,
          -5.608833312988281,
          3.0359432697296143,
          1.2099108695983887,
          -5.472412586212158,
          -19.897808074951172,
          -14.862695693969727,
          -15.373308181762695,
          -7.92659854888916,
          -27.494152069091797,
          8.984959602355957,
          -4.498529434204102,
          14.418889045715332,
          -7.95836877822876,
          17.93475341796875,
          -6.014379024505615,
          -14.46059799194336,
          5.012829303741455,
          -20.84558868408203,
          -7.055838108062744,
          25.870275497436523,
          -18.500370025634766,
          14.157495498657227,
          27.167884826660156,
          -13.810932159423828,
          -14.118965148925781,
          -9.023630142211914,
          13.257575035095215,
          -26.30348777770996,
          -5.042379379272461,
          31.433366775512695,
          27.05672836303711,
          -16.985139846801758,
          16.964536666870117,
          -20.533981323242188,
          10.653704643249512,
          7.074917316436768,
          7.612152576446533,
          1.8156875371932983,
          3.137876510620117,
          -11.992840766906738,
          -4.29888391494751,
          -0.4600376784801483,
          -7.708350658416748,
          1.3079832792282104,
          21.25126075744629,
          6.424471855163574,
          12.821471214294434,
          -1.3010451793670654,
          -15.703603744506836,
          -18.97960090637207,
          -38.53143310546875,
          5.295975208282471,
          -17.675649642944336,
          -13.926782608032227,
          -21.781707763671875,
          -12.403806686401367,
          -33.67616271972656,
          14.322004318237305,
          -9.927581787109375,
          -13.839495658874512,
          3.410620927810669,
          3.5441014766693115,
          -17.91218376159668,
          -9.69408893585205,
          -15.559412956237793,
          -16.87481117248535,
          -28.674623489379883,
          6.274250507354736,
          25.723115921020508,
          30.17405891418457,
          3.686765670776367,
          -11.961421012878418,
          6.135200023651123,
          -34.44130325317383,
          -31.577497482299805,
          -5.148279666900635,
          6.285129547119141,
          -4.029051303863525,
          5.655666351318359,
          28.315153121948242,
          22.833877563476562,
          30.205642700195312,
          22.292287826538086,
          21.136783599853516,
          -3.268490791320801,
          5.131778240203857,
          0.08052632957696915,
          3.1717183589935303,
          8.484321594238281,
          4.42206335067749,
          15.656847953796387,
          -7.566366195678711,
          23.154247283935547,
          -15.6444091796875,
          -14.637197494506836,
          12.0596342086792,
          -0.09309292584657669,
          -6.32004976272583,
          12.441622734069824,
          21.018287658691406,
          -6.937309265136719,
          10.617694854736328,
          7.883336544036865,
          4.097166061401367,
          7.790596008300781,
          -7.119757175445557,
          15.212584495544434,
          24.28050994873047
         ],
         "y": [
          -33.72060775756836,
          -31.688053131103516,
          24.93454933166504,
          0.11298132687807083,
          2.521193504333496,
          -27.097078323364258,
          29.184188842773438,
          -24.10743522644043,
          24.01288604736328,
          -4.664534091949463,
          -20.725666046142578,
          9.24033260345459,
          1.344833493232727,
          -38.211917877197266,
          -14.046331405639648,
          -7.555668830871582,
          12.3967924118042,
          23.00203514099121,
          -12.655464172363281,
          10.122830390930176,
          -35.8878059387207,
          -4.349514961242676,
          -32.92022705078125,
          -22.276243209838867,
          -17.55480194091797,
          16.036123275756836,
          -43.134700775146484,
          20.832284927368164,
          29.022336959838867,
          -8.376126289367676,
          -11.890771865844727,
          -27.605571746826172,
          -36.60303497314453,
          -39.1570930480957,
          -39.367454528808594,
          15.927306175231934,
          -7.479348659515381,
          -34.49300003051758,
          -13.549215316772461,
          -19.674549102783203,
          -7.282161712646484,
          -35.230350494384766,
          21.589996337890625,
          -29.506906509399414,
          -18.864591598510742,
          -8.511165618896484,
          -37.57312774658203,
          -16.08404541015625,
          -21.29254913330078,
          28.424842834472656,
          20.776897430419922,
          -38.96450424194336,
          -10.687382698059082,
          -26.186382293701172,
          19.300594329833984,
          -28.85447883605957,
          -22.17470359802246,
          7.848843097686768,
          -4.260922431945801,
          -19.82381248474121,
          -16.775415420532227,
          31.076496124267578,
          -10.061001777648926,
          5.632167339324951,
          0.9124963879585266,
          28.360736846923828,
          32.06450653076172,
          -40.714813232421875,
          18.346710205078125,
          -15.077119827270508,
          6.751730442047119,
          -0.3516979217529297,
          8.629796981811523,
          -9.979232788085938,
          19.32644271850586,
          20.797222137451172,
          12.776362419128418,
          27.342086791992188,
          15.584561347961426,
          24.937313079833984,
          -2.9419867992401123,
          -5.041116714477539,
          -23.350406646728516,
          1.773916244506836,
          -37.988975524902344,
          1.3974016904830933,
          -28.160995483398438,
          -21.039228439331055,
          -33.0790901184082,
          -19.648466110229492,
          -21.45725440979004,
          -8.269678115844727,
          -14.473489761352539,
          16.85520362854004,
          -28.80303955078125,
          -10.166935920715332,
          -24.210346221923828,
          36.63143539428711,
          18.969539642333984,
          20.85004997253418,
          25.437339782714844,
          18.729379653930664,
          -29.41846466064453,
          -30.73110580444336,
          -40.022029876708984,
          29.07560157775879,
          15.49965763092041,
          37.56206130981445,
          28.055545806884766,
          27.206890106201172,
          -21.019393920898438,
          -12.134617805480957,
          36.97858810424805,
          23.092931747436523,
          -26.74123764038086,
          -40.69517135620117,
          -24.44147491455078,
          32.15736770629883,
          -6.950828552246094,
          11.578958511352539,
          15.281447410583496,
          -8.649616241455078,
          -25.848426818847656,
          -9.393349647521973,
          15.262467384338379,
          -20.127805709838867,
          -12.990199089050293,
          18.928625106811523,
          40.78630447387695,
          -28.935436248779297,
          -36.79959487915039,
          36.486351013183594,
          -27.452735900878906,
          -28.201196670532227,
          3.1703054904937744,
          20.138694763183594,
          28.534770965576172,
          -2.1406521797180176,
          -25.989187240600586,
          -26.97162628173828,
          26.914125442504883,
          -3.5307013988494873,
          -3.5463483333587646,
          -20.173669815063477,
          -18.02406883239746,
          -16.031452178955078,
          1.6180330514907837,
          13.567415237426758,
          -4.9278740882873535,
          26.782960891723633,
          -20.87577247619629,
          -8.961286544799805,
          25.009199142456055,
          21.290918350219727,
          9.333573341369629,
          -7.488955020904541,
          -0.1255982220172882,
          18.483034133911133,
          23.53426742553711,
          -24.031307220458984,
          -2.093142032623291,
          -9.100186347961426,
          -32.535377502441406,
          12.093005180358887,
          23.363248825073242,
          -0.6905590891838074,
          26.417970657348633,
          -12.361856460571289,
          -32.89272689819336,
          15.074605941772461,
          -7.438021183013916,
          0.08351312577724457,
          13.984822273254395,
          7.758644104003906,
          9.484374046325684,
          -16.418659210205078,
          3.603588819503784,
          7.250884056091309,
          -22.708894729614258,
          -3.7511022090911865,
          -34.35228729248047,
          -15.974467277526855,
          24.058027267456055,
          -3.368817090988159,
          2.375074625015259,
          4.065619468688965,
          3.2506279945373535,
          -4.5334792137146,
          -1.2215901613235474,
          -12.938897132873535,
          27.35713768005371,
          17.87464141845703,
          27.242809295654297,
          -29.10972785949707,
          24.73776626586914,
          -15.090242385864258,
          3.4440653324127197,
          -24.772918701171875,
          -12.186470985412598,
          12.47646713256836
         ],
         "z": [
          -19.622154235839844,
          -2.6828958988189697,
          -11.817339897155762,
          37.503318786621094,
          -16.648883819580078,
          -24.849655151367188,
          -16.817453384399414,
          -18.196739196777344,
          -4.263355731964111,
          -13.436405181884766,
          33.485958099365234,
          -26.621583938598633,
          -4.3723578453063965,
          5.943187713623047,
          -22.444562911987305,
          2.2338342666625977,
          -17.546491622924805,
          2.755521059036255,
          25.870079040527344,
          -13.200544357299805,
          5.322379112243652,
          -10.136977195739746,
          -13.743064880371094,
          -8.035910606384277,
          29.667184829711914,
          41.433616638183594,
          6.703607559204102,
          39.48303985595703,
          -9.5977144241333,
          -4.271915912628174,
          -14.952079772949219,
          -1.5625687837600708,
          3.114908218383789,
          -14.010458946228027,
          -12.82333755493164,
          -16.888757705688477,
          27.633827209472656,
          -20.00547981262207,
          7.913674354553223,
          2.8080620765686035,
          -25.24699592590332,
          -5.891754150390625,
          28.83342933654785,
          -25.025299072265625,
          -21.605571746826172,
          -7.563574314117432,
          -6.6926374435424805,
          7.021814823150635,
          -9.079181671142578,
          12.905675888061523,
          30.940536499023438,
          -5.574044704437256,
          -5.460232257843018,
          -9.78443717956543,
          30.892845153808594,
          -9.871451377868652,
          28.66135597229004,
          -10.955389022827148,
          5.5525407791137695,
          17.861228942871094,
          -31.804006576538086,
          7.470754146575928,
          10.74897289276123,
          29.478891372680664,
          36.35079574584961,
          -0.8531417846679688,
          -0.5539615154266357,
          2.0396299362182617,
          37.239707946777344,
          -10.613554000854492,
          24.980627059936523,
          -0.7892575263977051,
          15.478311538696289,
          -11.625652313232422,
          -28.708465576171875,
          -26.436838150024414,
          7.946197509765625,
          9.014341354370117,
          -30.203115463256836,
          -3.7196567058563232,
          -6.486523628234863,
          -34.523738861083984,
          14.642666816711426,
          -26.896482467651367,
          0.011087334714829922,
          30.772823333740234,
          5.390391826629639,
          -24.13640022277832,
          -23.663393020629883,
          -23.002262115478516,
          16.550418853759766,
          -28.252254486083984,
          -26.18677520751953,
          15.778719902038574,
          21.340118408203125,
          -29.993728637695312,
          2.499692916870117,
          9.976462364196777,
          -22.320287704467773,
          36.773860931396484,
          -14.872644424438477,
          9.163629531860352,
          -5.945046901702881,
          -12.050090789794922,
          6.728932857513428,
          10.09370231628418,
          38.06939697265625,
          -12.288093566894531,
          13.542753219604492,
          -4.568170547485352,
          27.933237075805664,
          -3.3451011180877686,
          8.633827209472656,
          -9.412239074707031,
          -13.962641716003418,
          5.826210975646973,
          13.993104934692383,
          2.3887407779693604,
          -24.37070655822754,
          11.407058715820312,
          -27.485198974609375,
          10.750473022460938,
          -8.816205024719238,
          -24.651893615722656,
          -17.469615936279297,
          -0.6577668786048889,
          -13.836118698120117,
          -29.25370216369629,
          10.896488189697266,
          -21.01573944091797,
          9.421920776367188,
          -16.57058334350586,
          1.023555040359497,
          11.065555572509766,
          -6.602039337158203,
          7.549552917480469,
          -4.258917331695557,
          16.54014778137207,
          -4.507256984710693,
          24.686199188232422,
          -2.881532669067383,
          3.9338479042053223,
          12.834433555603027,
          -30.05059051513672,
          18.021034240722656,
          11.063227653503418,
          15.153444290161133,
          -25.037954330444336,
          9.924849510192871,
          7.441488742828369,
          10.665450096130371,
          -31.335498809814453,
          -19.675634384155273,
          27.598567962646484,
          28.214187622070312,
          -31.73164939880371,
          -30.84647560119629,
          15.517338752746582,
          -10.324362754821777,
          -3.2148420810699463,
          -3.92293643951416,
          6.7159743309021,
          2.625577211380005,
          20.719491958618164,
          -27.472450256347656,
          11.73575496673584,
          -11.998612403869629,
          -20.555667877197266,
          -9.460272789001465,
          -15.227783203125,
          -13.995338439941406,
          4.629031181335449,
          17.33478546142578,
          -11.768804550170898,
          -2.4305715560913086,
          -3.111928701400757,
          -20.154319763183594,
          14.606287956237793,
          -16.11343765258789,
          8.898592948913574,
          -13.321377754211426,
          -27.94482421875,
          23.541303634643555,
          -0.6562082767486572,
          23.23406982421875,
          -17.51232147216797,
          32.35075378417969,
          26.76814842224121,
          -6.730418682098389,
          8.280434608459473,
          2.6211998462677,
          5.1080427169799805,
          3.8238179683685303,
          -15.71140193939209,
          -20.519943237304688,
          28.560768127441406,
          -26.259075164794922,
          16.6209774017334,
          -7.02932596206665,
          -4.730202674865723
         ]
        }
       ],
       "layout": {
        "legend": {
         "tracegroupgap": 0
        },
        "margin": {
         "t": 60
        },
        "scene": {
         "domain": {
          "x": [
           0,
           1
          ],
          "y": [
           0,
           1
          ]
         },
         "xaxis": {
          "title": {
           "text": "x"
          }
         },
         "yaxis": {
          "title": {
           "text": "y"
          }
         },
         "zaxis": {
          "title": {
           "text": "z"
          }
         }
        },
        "template": {
         "data": {
          "bar": [
           {
            "error_x": {
             "color": "#2a3f5f"
            },
            "error_y": {
             "color": "#2a3f5f"
            },
            "marker": {
             "line": {
              "color": "#E5ECF6",
              "width": 0.5
             },
             "pattern": {
              "fillmode": "overlay",
              "size": 10,
              "solidity": 0.2
             }
            },
            "type": "bar"
           }
          ],
          "barpolar": [
           {
            "marker": {
             "line": {
              "color": "#E5ECF6",
              "width": 0.5
             },
             "pattern": {
              "fillmode": "overlay",
              "size": 10,
              "solidity": 0.2
             }
            },
            "type": "barpolar"
           }
          ],
          "carpet": [
           {
            "aaxis": {
             "endlinecolor": "#2a3f5f",
             "gridcolor": "white",
             "linecolor": "white",
             "minorgridcolor": "white",
             "startlinecolor": "#2a3f5f"
            },
            "baxis": {
             "endlinecolor": "#2a3f5f",
             "gridcolor": "white",
             "linecolor": "white",
             "minorgridcolor": "white",
             "startlinecolor": "#2a3f5f"
            },
            "type": "carpet"
           }
          ],
          "choropleth": [
           {
            "colorbar": {
             "outlinewidth": 0,
             "ticks": ""
            },
            "type": "choropleth"
           }
          ],
          "contour": [
           {
            "colorbar": {
             "outlinewidth": 0,
             "ticks": ""
            },
            "colorscale": [
             [
              0,
              "#0d0887"
             ],
             [
              0.1111111111111111,
              "#46039f"
             ],
             [
              0.2222222222222222,
              "#7201a8"
             ],
             [
              0.3333333333333333,
              "#9c179e"
             ],
             [
              0.4444444444444444,
              "#bd3786"
             ],
             [
              0.5555555555555556,
              "#d8576b"
             ],
             [
              0.6666666666666666,
              "#ed7953"
             ],
             [
              0.7777777777777778,
              "#fb9f3a"
             ],
             [
              0.8888888888888888,
              "#fdca26"
             ],
             [
              1,
              "#f0f921"
             ]
            ],
            "type": "contour"
           }
          ],
          "contourcarpet": [
           {
            "colorbar": {
             "outlinewidth": 0,
             "ticks": ""
            },
            "type": "contourcarpet"
           }
          ],
          "heatmap": [
           {
            "colorbar": {
             "outlinewidth": 0,
             "ticks": ""
            },
            "colorscale": [
             [
              0,
              "#0d0887"
             ],
             [
              0.1111111111111111,
              "#46039f"
             ],
             [
              0.2222222222222222,
              "#7201a8"
             ],
             [
              0.3333333333333333,
              "#9c179e"
             ],
             [
              0.4444444444444444,
              "#bd3786"
             ],
             [
              0.5555555555555556,
              "#d8576b"
             ],
             [
              0.6666666666666666,
              "#ed7953"
             ],
             [
              0.7777777777777778,
              "#fb9f3a"
             ],
             [
              0.8888888888888888,
              "#fdca26"
             ],
             [
              1,
              "#f0f921"
             ]
            ],
            "type": "heatmap"
           }
          ],
          "heatmapgl": [
           {
            "colorbar": {
             "outlinewidth": 0,
             "ticks": ""
            },
            "colorscale": [
             [
              0,
              "#0d0887"
             ],
             [
              0.1111111111111111,
              "#46039f"
             ],
             [
              0.2222222222222222,
              "#7201a8"
             ],
             [
              0.3333333333333333,
              "#9c179e"
             ],
             [
              0.4444444444444444,
              "#bd3786"
             ],
             [
              0.5555555555555556,
              "#d8576b"
             ],
             [
              0.6666666666666666,
              "#ed7953"
             ],
             [
              0.7777777777777778,
              "#fb9f3a"
             ],
             [
              0.8888888888888888,
              "#fdca26"
             ],
             [
              1,
              "#f0f921"
             ]
            ],
            "type": "heatmapgl"
           }
          ],
          "histogram": [
           {
            "marker": {
             "pattern": {
              "fillmode": "overlay",
              "size": 10,
              "solidity": 0.2
             }
            },
            "type": "histogram"
           }
          ],
          "histogram2d": [
           {
            "colorbar": {
             "outlinewidth": 0,
             "ticks": ""
            },
            "colorscale": [
             [
              0,
              "#0d0887"
             ],
             [
              0.1111111111111111,
              "#46039f"
             ],
             [
              0.2222222222222222,
              "#7201a8"
             ],
             [
              0.3333333333333333,
              "#9c179e"
             ],
             [
              0.4444444444444444,
              "#bd3786"
             ],
             [
              0.5555555555555556,
              "#d8576b"
             ],
             [
              0.6666666666666666,
              "#ed7953"
             ],
             [
              0.7777777777777778,
              "#fb9f3a"
             ],
             [
              0.8888888888888888,
              "#fdca26"
             ],
             [
              1,
              "#f0f921"
             ]
            ],
            "type": "histogram2d"
           }
          ],
          "histogram2dcontour": [
           {
            "colorbar": {
             "outlinewidth": 0,
             "ticks": ""
            },
            "colorscale": [
             [
              0,
              "#0d0887"
             ],
             [
              0.1111111111111111,
              "#46039f"
             ],
             [
              0.2222222222222222,
              "#7201a8"
             ],
             [
              0.3333333333333333,
              "#9c179e"
             ],
             [
              0.4444444444444444,
              "#bd3786"
             ],
             [
              0.5555555555555556,
              "#d8576b"
             ],
             [
              0.6666666666666666,
              "#ed7953"
             ],
             [
              0.7777777777777778,
              "#fb9f3a"
             ],
             [
              0.8888888888888888,
              "#fdca26"
             ],
             [
              1,
              "#f0f921"
             ]
            ],
            "type": "histogram2dcontour"
           }
          ],
          "mesh3d": [
           {
            "colorbar": {
             "outlinewidth": 0,
             "ticks": ""
            },
            "type": "mesh3d"
           }
          ],
          "parcoords": [
           {
            "line": {
             "colorbar": {
              "outlinewidth": 0,
              "ticks": ""
             }
            },
            "type": "parcoords"
           }
          ],
          "pie": [
           {
            "automargin": true,
            "type": "pie"
           }
          ],
          "scatter": [
           {
            "fillpattern": {
             "fillmode": "overlay",
             "size": 10,
             "solidity": 0.2
            },
            "type": "scatter"
           }
          ],
          "scatter3d": [
           {
            "line": {
             "colorbar": {
              "outlinewidth": 0,
              "ticks": ""
             }
            },
            "marker": {
             "colorbar": {
              "outlinewidth": 0,
              "ticks": ""
             }
            },
            "type": "scatter3d"
           }
          ],
          "scattercarpet": [
           {
            "marker": {
             "colorbar": {
              "outlinewidth": 0,
              "ticks": ""
             }
            },
            "type": "scattercarpet"
           }
          ],
          "scattergeo": [
           {
            "marker": {
             "colorbar": {
              "outlinewidth": 0,
              "ticks": ""
             }
            },
            "type": "scattergeo"
           }
          ],
          "scattergl": [
           {
            "marker": {
             "colorbar": {
              "outlinewidth": 0,
              "ticks": ""
             }
            },
            "type": "scattergl"
           }
          ],
          "scattermapbox": [
           {
            "marker": {
             "colorbar": {
              "outlinewidth": 0,
              "ticks": ""
             }
            },
            "type": "scattermapbox"
           }
          ],
          "scatterpolar": [
           {
            "marker": {
             "colorbar": {
              "outlinewidth": 0,
              "ticks": ""
             }
            },
            "type": "scatterpolar"
           }
          ],
          "scatterpolargl": [
           {
            "marker": {
             "colorbar": {
              "outlinewidth": 0,
              "ticks": ""
             }
            },
            "type": "scatterpolargl"
           }
          ],
          "scatterternary": [
           {
            "marker": {
             "colorbar": {
              "outlinewidth": 0,
              "ticks": ""
             }
            },
            "type": "scatterternary"
           }
          ],
          "surface": [
           {
            "colorbar": {
             "outlinewidth": 0,
             "ticks": ""
            },
            "colorscale": [
             [
              0,
              "#0d0887"
             ],
             [
              0.1111111111111111,
              "#46039f"
             ],
             [
              0.2222222222222222,
              "#7201a8"
             ],
             [
              0.3333333333333333,
              "#9c179e"
             ],
             [
              0.4444444444444444,
              "#bd3786"
             ],
             [
              0.5555555555555556,
              "#d8576b"
             ],
             [
              0.6666666666666666,
              "#ed7953"
             ],
             [
              0.7777777777777778,
              "#fb9f3a"
             ],
             [
              0.8888888888888888,
              "#fdca26"
             ],
             [
              1,
              "#f0f921"
             ]
            ],
            "type": "surface"
           }
          ],
          "table": [
           {
            "cells": {
             "fill": {
              "color": "#EBF0F8"
             },
             "line": {
              "color": "white"
             }
            },
            "header": {
             "fill": {
              "color": "#C8D4E3"
             },
             "line": {
              "color": "white"
             }
            },
            "type": "table"
           }
          ]
         },
         "layout": {
          "annotationdefaults": {
           "arrowcolor": "#2a3f5f",
           "arrowhead": 0,
           "arrowwidth": 1
          },
          "autotypenumbers": "strict",
          "coloraxis": {
           "colorbar": {
            "outlinewidth": 0,
            "ticks": ""
           }
          },
          "colorscale": {
           "diverging": [
            [
             0,
             "#8e0152"
            ],
            [
             0.1,
             "#c51b7d"
            ],
            [
             0.2,
             "#de77ae"
            ],
            [
             0.3,
             "#f1b6da"
            ],
            [
             0.4,
             "#fde0ef"
            ],
            [
             0.5,
             "#f7f7f7"
            ],
            [
             0.6,
             "#e6f5d0"
            ],
            [
             0.7,
             "#b8e186"
            ],
            [
             0.8,
             "#7fbc41"
            ],
            [
             0.9,
             "#4d9221"
            ],
            [
             1,
             "#276419"
            ]
           ],
           "sequential": [
            [
             0,
             "#0d0887"
            ],
            [
             0.1111111111111111,
             "#46039f"
            ],
            [
             0.2222222222222222,
             "#7201a8"
            ],
            [
             0.3333333333333333,
             "#9c179e"
            ],
            [
             0.4444444444444444,
             "#bd3786"
            ],
            [
             0.5555555555555556,
             "#d8576b"
            ],
            [
             0.6666666666666666,
             "#ed7953"
            ],
            [
             0.7777777777777778,
             "#fb9f3a"
            ],
            [
             0.8888888888888888,
             "#fdca26"
            ],
            [
             1,
             "#f0f921"
            ]
           ],
           "sequentialminus": [
            [
             0,
             "#0d0887"
            ],
            [
             0.1111111111111111,
             "#46039f"
            ],
            [
             0.2222222222222222,
             "#7201a8"
            ],
            [
             0.3333333333333333,
             "#9c179e"
            ],
            [
             0.4444444444444444,
             "#bd3786"
            ],
            [
             0.5555555555555556,
             "#d8576b"
            ],
            [
             0.6666666666666666,
             "#ed7953"
            ],
            [
             0.7777777777777778,
             "#fb9f3a"
            ],
            [
             0.8888888888888888,
             "#fdca26"
            ],
            [
             1,
             "#f0f921"
            ]
           ]
          },
          "colorway": [
           "#636efa",
           "#EF553B",
           "#00cc96",
           "#ab63fa",
           "#FFA15A",
           "#19d3f3",
           "#FF6692",
           "#B6E880",
           "#FF97FF",
           "#FECB52"
          ],
          "font": {
           "color": "#2a3f5f"
          },
          "geo": {
           "bgcolor": "white",
           "lakecolor": "white",
           "landcolor": "#E5ECF6",
           "showlakes": true,
           "showland": true,
           "subunitcolor": "white"
          },
          "hoverlabel": {
           "align": "left"
          },
          "hovermode": "closest",
          "mapbox": {
           "style": "light"
          },
          "paper_bgcolor": "white",
          "plot_bgcolor": "#E5ECF6",
          "polar": {
           "angularaxis": {
            "gridcolor": "white",
            "linecolor": "white",
            "ticks": ""
           },
           "bgcolor": "#E5ECF6",
           "radialaxis": {
            "gridcolor": "white",
            "linecolor": "white",
            "ticks": ""
           }
          },
          "scene": {
           "xaxis": {
            "backgroundcolor": "#E5ECF6",
            "gridcolor": "white",
            "gridwidth": 2,
            "linecolor": "white",
            "showbackground": true,
            "ticks": "",
            "zerolinecolor": "white"
           },
           "yaxis": {
            "backgroundcolor": "#E5ECF6",
            "gridcolor": "white",
            "gridwidth": 2,
            "linecolor": "white",
            "showbackground": true,
            "ticks": "",
            "zerolinecolor": "white"
           },
           "zaxis": {
            "backgroundcolor": "#E5ECF6",
            "gridcolor": "white",
            "gridwidth": 2,
            "linecolor": "white",
            "showbackground": true,
            "ticks": "",
            "zerolinecolor": "white"
           }
          },
          "shapedefaults": {
           "line": {
            "color": "#2a3f5f"
           }
          },
          "ternary": {
           "aaxis": {
            "gridcolor": "white",
            "linecolor": "white",
            "ticks": ""
           },
           "baxis": {
            "gridcolor": "white",
            "linecolor": "white",
            "ticks": ""
           },
           "bgcolor": "#E5ECF6",
           "caxis": {
            "gridcolor": "white",
            "linecolor": "white",
            "ticks": ""
           }
          },
          "title": {
           "x": 0.05
          },
          "xaxis": {
           "automargin": true,
           "gridcolor": "white",
           "linecolor": "white",
           "ticks": "",
           "title": {
            "standoff": 15
           },
           "zerolinecolor": "white",
           "zerolinewidth": 2
          },
          "yaxis": {
           "automargin": true,
           "gridcolor": "white",
           "linecolor": "white",
           "ticks": "",
           "title": {
            "standoff": 15
           },
           "zerolinecolor": "white",
           "zerolinewidth": 2
          }
         }
        }
       }
      }
     },
     "metadata": {},
     "output_type": "display_data"
    }
   ],
   "source": [
    "# Graficar los embedddings en 3D\n",
    "\n",
    "vecs, labels = reduce_dimensions(w2v_model,3)\n",
    "\n",
    "fig = px.scatter_3d(x=vecs[:MAX_WORDS,0], y=vecs[:MAX_WORDS,1], z=vecs[:MAX_WORDS,2],text=labels[:MAX_WORDS])\n",
    "fig.update_traces(marker_size = 2)\n",
    "fig.show() # esto para plotly en colab"
   ]
  },
  {
   "cell_type": "code",
   "execution_count": 81,
   "metadata": {},
   "outputs": [],
   "source": [
    "# También se pueden guardar los vectores y labels como tsv para graficar en\n",
    "# http://projector.tensorflow.org/\n",
    "\n",
    "\n",
    "vectors = np.asarray(w2v_model.wv.vectors)\n",
    "labels = list(w2v_model.wv.index_to_key)\n",
    "\n",
    "np.savetxt(\"vectors.tsv\", vectors, delimiter=\"\\t\")\n",
    "\n",
    "with open(\"labels.tsv\", \"w\") as fp:\n",
    "    for item in labels:\n",
    "        fp.write(\"%s\\n\" % item)"
   ]
  },
  {
   "cell_type": "markdown",
   "metadata": {
    "id": "yMM_SHSaZ9N-"
   },
   "source": [
    "### Alumno"
   ]
  },
  {
   "cell_type": "markdown",
   "metadata": {
    "id": "WivQZ3ZCZ9N_"
   },
   "source": [
    "- Crear sus propios vectores con Gensim basado en lo visto en clase con otro dataset.\n",
    "- Probar términos de interés y explicar similitudes en el espacio de embeddings (sacar conclusiones entre palabras similitudes y diferencias).\n",
    "- Graficarlos.\n",
    "- Obtener conclusiones."
   ]
  },
  {
   "cell_type": "markdown",
   "metadata": {},
   "source": [
    "He decidido emplear un dataset de tweets durante la época del coronavirus.\n",
    "\n",
    "El dataset puede ser encontrado en el siguiente link: https://www.kaggle.com/datasets/datatattle/covid-19-nlp-text-classification\n",
    "#### Importacion de librerías"
   ]
  },
  {
   "cell_type": "code",
   "execution_count": 9,
   "metadata": {},
   "outputs": [],
   "source": [
    "from keras_preprocessing.text import text_to_word_sequence\n",
    "from gensim.models.callbacks import CallbackAny2Vec\n",
    "from sklearn.decomposition import IncrementalPCA    \n",
    "from sklearn.manifold import TSNE                   \n",
    "import numpy as np   \n",
    "import plotly.graph_objects as go\n",
    "import plotly.express as px\n",
    "import pandas as pd\n",
    "from gensim.models import Word2Vec"
   ]
  },
  {
   "cell_type": "markdown",
   "metadata": {},
   "source": [
    "Primero descomprimimos el fichero y leemos los datos"
   ]
  },
  {
   "cell_type": "code",
   "execution_count": 82,
   "metadata": {},
   "outputs": [
    {
     "name": "stderr",
     "output_type": "stream",
     "text": [
      "\"unzip\" no se reconoce como un comando interno o externo,\n",
      "programa o archivo por lotes ejecutable.\n"
     ]
    }
   ],
   "source": [
    "!unzip -q covid-tweet-dataset.zip"
   ]
  },
  {
   "cell_type": "code",
   "execution_count": 10,
   "metadata": {},
   "outputs": [
    {
     "data": {
      "text/html": [
       "<div>\n",
       "<style scoped>\n",
       "    .dataframe tbody tr th:only-of-type {\n",
       "        vertical-align: middle;\n",
       "    }\n",
       "\n",
       "    .dataframe tbody tr th {\n",
       "        vertical-align: top;\n",
       "    }\n",
       "\n",
       "    .dataframe thead th {\n",
       "        text-align: right;\n",
       "    }\n",
       "</style>\n",
       "<table border=\"1\" class=\"dataframe\">\n",
       "  <thead>\n",
       "    <tr style=\"text-align: right;\">\n",
       "      <th></th>\n",
       "      <th>UserName</th>\n",
       "      <th>ScreenName</th>\n",
       "      <th>Location</th>\n",
       "      <th>TweetAt</th>\n",
       "      <th>OriginalTweet</th>\n",
       "      <th>Sentiment</th>\n",
       "    </tr>\n",
       "  </thead>\n",
       "  <tbody>\n",
       "    <tr>\n",
       "      <th>0</th>\n",
       "      <td>3799</td>\n",
       "      <td>48751</td>\n",
       "      <td>London</td>\n",
       "      <td>16-03-2020</td>\n",
       "      <td>@MeNyrbie @Phil_Gahan @Chrisitv https://t.co/i...</td>\n",
       "      <td>Neutral</td>\n",
       "    </tr>\n",
       "    <tr>\n",
       "      <th>1</th>\n",
       "      <td>3800</td>\n",
       "      <td>48752</td>\n",
       "      <td>UK</td>\n",
       "      <td>16-03-2020</td>\n",
       "      <td>advice Talk to your neighbours family to excha...</td>\n",
       "      <td>Positive</td>\n",
       "    </tr>\n",
       "    <tr>\n",
       "      <th>2</th>\n",
       "      <td>3801</td>\n",
       "      <td>48753</td>\n",
       "      <td>Vagabonds</td>\n",
       "      <td>16-03-2020</td>\n",
       "      <td>Coronavirus Australia: Woolworths to give elde...</td>\n",
       "      <td>Positive</td>\n",
       "    </tr>\n",
       "    <tr>\n",
       "      <th>3</th>\n",
       "      <td>3802</td>\n",
       "      <td>48754</td>\n",
       "      <td>NaN</td>\n",
       "      <td>16-03-2020</td>\n",
       "      <td>My food stock is not the only one which is emp...</td>\n",
       "      <td>Positive</td>\n",
       "    </tr>\n",
       "    <tr>\n",
       "      <th>4</th>\n",
       "      <td>3803</td>\n",
       "      <td>48755</td>\n",
       "      <td>NaN</td>\n",
       "      <td>16-03-2020</td>\n",
       "      <td>Me, ready to go at supermarket during the #COV...</td>\n",
       "      <td>Extremely Negative</td>\n",
       "    </tr>\n",
       "    <tr>\n",
       "      <th>...</th>\n",
       "      <td>...</td>\n",
       "      <td>...</td>\n",
       "      <td>...</td>\n",
       "      <td>...</td>\n",
       "      <td>...</td>\n",
       "      <td>...</td>\n",
       "    </tr>\n",
       "    <tr>\n",
       "      <th>295</th>\n",
       "      <td>4094</td>\n",
       "      <td>49046</td>\n",
       "      <td>Portland, Ore.</td>\n",
       "      <td>16-03-2020</td>\n",
       "      <td>Oregon Gov. Kate Brown on Monday afternoon ord...</td>\n",
       "      <td>Negative</td>\n",
       "    </tr>\n",
       "    <tr>\n",
       "      <th>296</th>\n",
       "      <td>4095</td>\n",
       "      <td>49047</td>\n",
       "      <td>Belgium</td>\n",
       "      <td>16-03-2020</td>\n",
       "      <td>#Coronavirus - #Europe calls for calm as food ...</td>\n",
       "      <td>Negative</td>\n",
       "    </tr>\n",
       "    <tr>\n",
       "      <th>297</th>\n",
       "      <td>4096</td>\n",
       "      <td>49048</td>\n",
       "      <td>Yorkshire</td>\n",
       "      <td>16-03-2020</td>\n",
       "      <td>When even Amazon is struggling to deliver food...</td>\n",
       "      <td>Extremely Negative</td>\n",
       "    </tr>\n",
       "    <tr>\n",
       "      <th>298</th>\n",
       "      <td>4097</td>\n",
       "      <td>49049</td>\n",
       "      <td>Washington, D.C.</td>\n",
       "      <td>16-03-2020</td>\n",
       "      <td>Anthony Fauci said that while some people may ...</td>\n",
       "      <td>Negative</td>\n",
       "    </tr>\n",
       "    <tr>\n",
       "      <th>299</th>\n",
       "      <td>4098</td>\n",
       "      <td>49050</td>\n",
       "      <td>Washington, D.C.</td>\n",
       "      <td>16-03-2020</td>\n",
       "      <td>BREAKING: The Centers for Disease Control reco...</td>\n",
       "      <td>Negative</td>\n",
       "    </tr>\n",
       "  </tbody>\n",
       "</table>\n",
       "<p>300 rows × 6 columns</p>\n",
       "</div>"
      ],
      "text/plain": [
       "     UserName  ScreenName          Location     TweetAt  \\\n",
       "0        3799       48751            London  16-03-2020   \n",
       "1        3800       48752                UK  16-03-2020   \n",
       "2        3801       48753         Vagabonds  16-03-2020   \n",
       "3        3802       48754               NaN  16-03-2020   \n",
       "4        3803       48755               NaN  16-03-2020   \n",
       "..        ...         ...               ...         ...   \n",
       "295      4094       49046    Portland, Ore.  16-03-2020   \n",
       "296      4095       49047           Belgium  16-03-2020   \n",
       "297      4096       49048         Yorkshire  16-03-2020   \n",
       "298      4097       49049  Washington, D.C.  16-03-2020   \n",
       "299      4098       49050  Washington, D.C.  16-03-2020   \n",
       "\n",
       "                                         OriginalTweet           Sentiment  \n",
       "0    @MeNyrbie @Phil_Gahan @Chrisitv https://t.co/i...             Neutral  \n",
       "1    advice Talk to your neighbours family to excha...            Positive  \n",
       "2    Coronavirus Australia: Woolworths to give elde...            Positive  \n",
       "3    My food stock is not the only one which is emp...            Positive  \n",
       "4    Me, ready to go at supermarket during the #COV...  Extremely Negative  \n",
       "..                                                 ...                 ...  \n",
       "295  Oregon Gov. Kate Brown on Monday afternoon ord...            Negative  \n",
       "296  #Coronavirus - #Europe calls for calm as food ...            Negative  \n",
       "297  When even Amazon is struggling to deliver food...  Extremely Negative  \n",
       "298  Anthony Fauci said that while some people may ...            Negative  \n",
       "299  BREAKING: The Centers for Disease Control reco...            Negative  \n",
       "\n",
       "[300 rows x 6 columns]"
      ]
     },
     "execution_count": 10,
     "metadata": {},
     "output_type": "execute_result"
    }
   ],
   "source": [
    "dataframe_tweets_train = pd.read_csv(\"Corona_NLP_train.csv\", encoding='latin-1')\n",
    "dataframe_tweets_test = pd.read_csv(\"Corona_NLP_test.csv\", encoding='latin-1')\n",
    "dataframe_tweets = pd.concat([dataframe_tweets_train, dataframe_tweets_test], ignore_index=True)\n",
    "# Reemplazar '\\r' por un string vacío en todas las columnas\n",
    "dataframe_tweets = dataframe_tweets.replace('\\r', '', regex=True)\n",
    "dataframe_tweets.head(300)"
   ]
  },
  {
   "cell_type": "markdown",
   "metadata": {},
   "source": [
    "Obtenemos el texto de interés. En este caso, el contenido de los tweets."
   ]
  },
  {
   "cell_type": "code",
   "execution_count": 11,
   "metadata": {},
   "outputs": [
    {
     "data": {
      "text/html": [
       "<div>\n",
       "<style scoped>\n",
       "    .dataframe tbody tr th:only-of-type {\n",
       "        vertical-align: middle;\n",
       "    }\n",
       "\n",
       "    .dataframe tbody tr th {\n",
       "        vertical-align: top;\n",
       "    }\n",
       "\n",
       "    .dataframe thead th {\n",
       "        text-align: right;\n",
       "    }\n",
       "</style>\n",
       "<table border=\"1\" class=\"dataframe\">\n",
       "  <thead>\n",
       "    <tr style=\"text-align: right;\">\n",
       "      <th></th>\n",
       "      <th>Text</th>\n",
       "    </tr>\n",
       "  </thead>\n",
       "  <tbody>\n",
       "    <tr>\n",
       "      <th>0</th>\n",
       "      <td>@MeNyrbie @Phil_Gahan @Chrisitv https://t.co/i...</td>\n",
       "    </tr>\n",
       "    <tr>\n",
       "      <th>1</th>\n",
       "      <td>advice Talk to your neighbours family to excha...</td>\n",
       "    </tr>\n",
       "    <tr>\n",
       "      <th>2</th>\n",
       "      <td>Coronavirus Australia: Woolworths to give elde...</td>\n",
       "    </tr>\n",
       "    <tr>\n",
       "      <th>3</th>\n",
       "      <td>My food stock is not the only one which is emp...</td>\n",
       "    </tr>\n",
       "    <tr>\n",
       "      <th>4</th>\n",
       "      <td>Me, ready to go at supermarket during the #COV...</td>\n",
       "    </tr>\n",
       "    <tr>\n",
       "      <th>...</th>\n",
       "      <td>...</td>\n",
       "    </tr>\n",
       "    <tr>\n",
       "      <th>295</th>\n",
       "      <td>Oregon Gov. Kate Brown on Monday afternoon ord...</td>\n",
       "    </tr>\n",
       "    <tr>\n",
       "      <th>296</th>\n",
       "      <td>#Coronavirus - #Europe calls for calm as food ...</td>\n",
       "    </tr>\n",
       "    <tr>\n",
       "      <th>297</th>\n",
       "      <td>When even Amazon is struggling to deliver food...</td>\n",
       "    </tr>\n",
       "    <tr>\n",
       "      <th>298</th>\n",
       "      <td>Anthony Fauci said that while some people may ...</td>\n",
       "    </tr>\n",
       "    <tr>\n",
       "      <th>299</th>\n",
       "      <td>BREAKING: The Centers for Disease Control reco...</td>\n",
       "    </tr>\n",
       "  </tbody>\n",
       "</table>\n",
       "<p>300 rows × 1 columns</p>\n",
       "</div>"
      ],
      "text/plain": [
       "                                                  Text\n",
       "0    @MeNyrbie @Phil_Gahan @Chrisitv https://t.co/i...\n",
       "1    advice Talk to your neighbours family to excha...\n",
       "2    Coronavirus Australia: Woolworths to give elde...\n",
       "3    My food stock is not the only one which is emp...\n",
       "4    Me, ready to go at supermarket during the #COV...\n",
       "..                                                 ...\n",
       "295  Oregon Gov. Kate Brown on Monday afternoon ord...\n",
       "296  #Coronavirus - #Europe calls for calm as food ...\n",
       "297  When even Amazon is struggling to deliver food...\n",
       "298  Anthony Fauci said that while some people may ...\n",
       "299  BREAKING: The Centers for Disease Control reco...\n",
       "\n",
       "[300 rows x 1 columns]"
      ]
     },
     "execution_count": 11,
     "metadata": {},
     "output_type": "execute_result"
    }
   ],
   "source": [
    "dataframe_tweets = pd.DataFrame({'Text': dataframe_tweets[\"OriginalTweet\"]})\n",
    "dataframe_tweets.head(300)"
   ]
  },
  {
   "cell_type": "markdown",
   "metadata": {},
   "source": [
    "### 1 - Preprocesamiento"
   ]
  },
  {
   "cell_type": "code",
   "execution_count": 12,
   "metadata": {},
   "outputs": [
    {
     "name": "stderr",
     "output_type": "stream",
     "text": [
      "C:\\Users\\Lorda\\AppData\\Local\\Temp\\ipykernel_18148\\4071598931.py:5: FutureWarning: Series.__getitem__ treating keys as positions is deprecated. In a future version, integer keys will always be treated as labels (consistent with DataFrame behavior). To access a value by position, use `ser.iloc[pos]`\n",
      "  sentence_tokens.append(text_to_word_sequence(row[0]))\n"
     ]
    },
    {
     "data": {
      "text/plain": [
       "[['menyrbie',\n",
       "  'phil',\n",
       "  'gahan',\n",
       "  'chrisitv',\n",
       "  'https',\n",
       "  't',\n",
       "  'co',\n",
       "  'ifz9fan2pa',\n",
       "  'and',\n",
       "  'https',\n",
       "  't',\n",
       "  'co',\n",
       "  'xx6ghgfzcc',\n",
       "  'and',\n",
       "  'https',\n",
       "  't',\n",
       "  'co',\n",
       "  'i2nlzdxno8'],\n",
       " ['advice',\n",
       "  'talk',\n",
       "  'to',\n",
       "  'your',\n",
       "  'neighbours',\n",
       "  'family',\n",
       "  'to',\n",
       "  'exchange',\n",
       "  'phone',\n",
       "  'numbers',\n",
       "  'create',\n",
       "  'contact',\n",
       "  'list',\n",
       "  'with',\n",
       "  'phone',\n",
       "  'numbers',\n",
       "  'of',\n",
       "  'neighbours',\n",
       "  'schools',\n",
       "  'employer',\n",
       "  'chemist',\n",
       "  'gp',\n",
       "  'set',\n",
       "  'up',\n",
       "  'online',\n",
       "  'shopping',\n",
       "  'accounts',\n",
       "  'if',\n",
       "  'poss',\n",
       "  'adequate',\n",
       "  'supplies',\n",
       "  'of',\n",
       "  'regular',\n",
       "  'meds',\n",
       "  'but',\n",
       "  'not',\n",
       "  'over',\n",
       "  'order']]"
      ]
     },
     "execution_count": 12,
     "metadata": {},
     "output_type": "execute_result"
    }
   ],
   "source": [
    "sentence_tokens = []\n",
    "# Recorrer todas las filas y transformar las oraciones\n",
    "# en una secuencia de palabras (esto podría realizarse con NLTK o spaCy también)\n",
    "for _, row in dataframe_tweets[:None].iterrows():\n",
    "    sentence_tokens.append(text_to_word_sequence(row[0]))\n",
    "\n",
    "# Demos un vistazo\n",
    "sentence_tokens[:2]"
   ]
  },
  {
   "cell_type": "markdown",
   "metadata": {},
   "source": [
    "### 2 - Crear los vectores (word2vec)"
   ]
  },
  {
   "cell_type": "code",
   "execution_count": 13,
   "metadata": {},
   "outputs": [],
   "source": [
    "# Se repite la definicion del callback en el caso de que solo se quieran ejecutar las celdas de resolucion del alumno\n",
    "# Durante el entrenamiento gensim por defecto no informa el \"loss\" en cada época\n",
    "# Sobrecargamos el callback para poder tener esta información\n",
    "class callback(CallbackAny2Vec):\n",
    "    \"\"\"\n",
    "    Callback to print loss after each epoch\n",
    "    \"\"\"\n",
    "    def __init__(self):\n",
    "        self.epoch = 0\n",
    "\n",
    "    def on_epoch_end(self, model):\n",
    "        loss = model.get_latest_training_loss()\n",
    "        if self.epoch == 0:\n",
    "            print('Loss after epoch {}: {}'.format(self.epoch, loss))\n",
    "        else:\n",
    "            print('Loss after epoch {}: {}'.format(self.epoch, loss- self.loss_previous_step))\n",
    "        self.epoch += 1\n",
    "        self.loss_previous_step = loss"
   ]
  },
  {
   "cell_type": "code",
   "execution_count": 14,
   "metadata": {},
   "outputs": [
    {
     "name": "stdout",
     "output_type": "stream",
     "text": [
      "Cantidad de docs en el corpus: 44955\n",
      "Cantidad de words distintas en el corpus: 12072\n"
     ]
    }
   ],
   "source": [
    "# Crearmos el modelo generador de vectores\n",
    "# En este caso utilizaremos la estructura modelo Skipgram\n",
    "w2v_model = Word2Vec(min_count=5,    # frecuencia mínima de palabra para incluirla en el vocabulario\n",
    "                     window=2,       # cant de palabras antes y desp de la predicha\n",
    "                     vector_size=300,       # dimensionalidad de los vectores \n",
    "                     negative=20,    # cantidad de negative samples... 0 es no se usa\n",
    "                     workers=1,      # si tienen más cores pueden cambiar este valor\n",
    "                     sg=1)           # modelo 0:CBOW  1:skipgram\n",
    "\n",
    "# Obtener el vocabulario con los tokens\n",
    "w2v_model.build_vocab(sentence_tokens)\n",
    "\n",
    "# Cantidad de filas/docs encontradas en el corpus\n",
    "print(\"Cantidad de docs en el corpus:\", w2v_model.corpus_count)\n",
    "\n",
    "# Cantidad de words encontradas en el corpus\n",
    "print(\"Cantidad de words distintas en el corpus:\", len(w2v_model.wv.index_to_key))"
   ]
  },
  {
   "cell_type": "markdown",
   "metadata": {},
   "source": [
    "### 3 - Entrenar embeddings"
   ]
  },
  {
   "cell_type": "code",
   "execution_count": 15,
   "metadata": {},
   "outputs": [
    {
     "name": "stdout",
     "output_type": "stream",
     "text": [
      "Loss after epoch 0: 9617147.0\n",
      "Loss after epoch 1: 7747927.0\n",
      "Loss after epoch 2: 7388836.0\n",
      "Loss after epoch 3: 7236748.0\n",
      "Loss after epoch 4: 7437562.0\n",
      "Loss after epoch 5: 7358632.0\n",
      "Loss after epoch 6: 7189584.0\n",
      "Loss after epoch 7: 7049552.0\n",
      "Loss after epoch 8: 6293212.0\n",
      "Loss after epoch 9: 1651328.0\n",
      "Loss after epoch 10: 1616440.0\n",
      "Loss after epoch 11: 1572840.0\n",
      "Loss after epoch 12: 1530560.0\n",
      "Loss after epoch 13: 1490056.0\n",
      "Loss after epoch 14: 1451904.0\n",
      "Loss after epoch 15: 1407536.0\n",
      "Loss after epoch 16: 1368184.0\n",
      "Loss after epoch 17: 1326576.0\n",
      "Loss after epoch 18: 1292016.0\n",
      "Loss after epoch 19: 1269240.0\n"
     ]
    },
    {
     "data": {
      "text/plain": [
       "(21047777, 29517160)"
      ]
     },
     "execution_count": 15,
     "metadata": {},
     "output_type": "execute_result"
    }
   ],
   "source": [
    "# Entrenamos el modelo generador de vectores\n",
    "# Utilizamos nuestro callback\n",
    "w2v_model.train(sentence_tokens,\n",
    "                 total_examples=w2v_model.corpus_count,\n",
    "                 epochs=20,\n",
    "                 compute_loss = True,\n",
    "                 callbacks=[callback()]\n",
    "                 )"
   ]
  },
  {
   "cell_type": "markdown",
   "metadata": {},
   "source": [
    "### 4 - Ensayar"
   ]
  },
  {
   "cell_type": "code",
   "execution_count": 16,
   "metadata": {},
   "outputs": [
    {
     "data": {
      "text/plain": [
       "[('19', 0.6262304782867432),\n",
       " ('cyprus', 0.5430576205253601),\n",
       " ('cornavirusoutbreak', 0.5391762852668762),\n",
       " ('bedevils', 0.5248953700065613),\n",
       " ('pandemic2020', 0.5238670706748962),\n",
       " ('19ph', 0.5175456404685974),\n",
       " ('subside', 0.5174241662025452),\n",
       " ('staythefuckhome', 0.5157158374786377),\n",
       " ('ctv', 0.5146151781082153),\n",
       " ('covidbc', 0.5142259001731873)]"
      ]
     },
     "execution_count": 16,
     "metadata": {},
     "output_type": "execute_result"
    }
   ],
   "source": [
    "# Palabras que MÁS se relacionan con...:\n",
    "w2v_model.wv.most_similar(positive=[\"covid\"], topn=10)"
   ]
  },
  {
   "cell_type": "markdown",
   "metadata": {},
   "source": [
    "Podemos apreciar con claridad la cantidad de sinónimos, continuaciones o terminos que coinciden en contexto con el termino covid. Sospecho que varios de estos terminos irían acompañados de 'hashtag'(#), sobre todo aquellos que son varias palabras concatenadas. El único término extraño en la lista es 'bedevils', el cual solo puedo especular que tiene algo que ver con la rama negacionista de la pandemia."
   ]
  },
  {
   "cell_type": "code",
   "execution_count": 17,
   "metadata": {},
   "outputs": [
    {
     "data": {
      "text/plain": [
       "[('largest', 0.05206666886806488),\n",
       " ('accused', 0.041621968150138855),\n",
       " ('delay', 0.04105822369456291),\n",
       " ('washington', 0.03790722042322159),\n",
       " ('points', 0.03690763935446739),\n",
       " ('shift', 0.03120720572769642),\n",
       " ('petrol', 0.02896859496831894),\n",
       " ('inflate', 0.027529465034604073),\n",
       " ('usage', 0.025413915514945984),\n",
       " ('platform', 0.025325028225779533)]"
      ]
     },
     "execution_count": 17,
     "metadata": {},
     "output_type": "execute_result"
    }
   ],
   "source": [
    "# Palabras que MENOS se relacionan con...:\n",
    "w2v_model.wv.most_similar(negative=[\"healthy\"], topn=10)"
   ]
  },
  {
   "cell_type": "markdown",
   "metadata": {},
   "source": [
    "Las palabras que menos se relacionan con saludable parecen aleatorias. Esto es lo esperable: No ser capaces de unir ambas palabras en una frase que tenga sentido. Tardé un poco en comprenderlo del todo porque esperaba que apareciera alguno de los antónimos de la palabra, pero esos términos guardan mucha más relacion con ella que cualquier otra que no tenga un contexto en común"
   ]
  },
  {
   "cell_type": "code",
   "execution_count": 18,
   "metadata": {},
   "outputs": [
    {
     "data": {
      "text/plain": [
       "[(\"doctor's\", 0.48108863830566406),\n",
       " ('nursery', 0.45239660143852234),\n",
       " ('emt', 0.45165005326271057),\n",
       " ('paramedics', 0.45159590244293213),\n",
       " ('emts', 0.44991549849510193),\n",
       " ('newyorkcity', 0.4455753266811371),\n",
       " ('er', 0.444820761680603),\n",
       " ('porters', 0.44025781750679016),\n",
       " ('bodega', 0.4343589246273041),\n",
       " ('techs', 0.4333254098892212)]"
      ]
     },
     "execution_count": 18,
     "metadata": {},
     "output_type": "execute_result"
    }
   ],
   "source": [
    "# Palabras que MÁS se relacionan con...:\n",
    "w2v_model.wv.most_similar(positive=[\"hospital\"], topn=10)"
   ]
  },
  {
   "cell_type": "markdown",
   "metadata": {},
   "source": [
    "Hospital guarda relacion con nombres de ciudades, tambien con tecnicismos como emt (emergency medical technicians) y oficios relacionados con los servicios públicos (policias, conserjes, enfermeros, doctores...). El témino extraño es ER, el cual es una serie de televisión relacionada con un hospital https://en.wikipedia.org/wiki/ER_(TV_series)"
   ]
  },
  {
   "cell_type": "code",
   "execution_count": 19,
   "metadata": {},
   "outputs": [
    {
     "data": {
      "text/plain": [
       "[('toilet', 0.7060685753822327),\n",
       " ('towels', 0.5793225765228271),\n",
       " ('napkins', 0.5328953266143799),\n",
       " ('towel', 0.5128803253173828),\n",
       " ('tp', 0.50861656665802),\n",
       " ('elusive', 0.4916432499885559),\n",
       " ('roll', 0.48424217104911804),\n",
       " ('papertowels', 0.47417959570884705),\n",
       " ('charmin', 0.4730319380760193),\n",
       " ('bottled', 0.4727112948894501)]"
      ]
     },
     "execution_count": 19,
     "metadata": {},
     "output_type": "execute_result"
    }
   ],
   "source": [
    "# Palabras que MÁS se relacionan con...:\n",
    "w2v_model.wv.most_similar(positive=[\"paper\"], topn=10)"
   ]
  },
  {
   "cell_type": "markdown",
   "metadata": {},
   "source": [
    "De nuevo, terminos relacionados con el papel higiénico. Esperaba encontrar términos relacionados con el desabastecimiento durante la locura colectiva al comienzo de la pandemia, pero supongo que no tuvo suficiente impacto como para influenciar tanto al embedding."
   ]
  },
  {
   "cell_type": "code",
   "execution_count": 20,
   "metadata": {},
   "outputs": [
    {
     "data": {
      "text/plain": [
       "[('simultaneous', 0.44074511528015137),\n",
       " ('deforestation', 0.44040003418922424),\n",
       " ('coronaapocalypse', 0.4383789598941803),\n",
       " ('outbreak', 0.4376335144042969),\n",
       " ('coronaviruscrisis', 0.43504559993743896),\n",
       " ('wreaks', 0.43199801445007324),\n",
       " ('foodinsecurity', 0.4319835603237152),\n",
       " ('nm', 0.4292699098587036),\n",
       " ('mapoli', 0.4292248785495758),\n",
       " ('fixturescloseup', 0.4199630916118622)]"
      ]
     },
     "execution_count": 20,
     "metadata": {},
     "output_type": "execute_result"
    }
   ],
   "source": [
    "# Palabras que MÁS se relacionan con...:\n",
    "w2v_model.wv.most_similar(positive=[\"pandemic\"], topn=10)"
   ]
  },
  {
   "cell_type": "markdown",
   "metadata": {},
   "source": [
    "Este término tiene una gran cantidad de hashtags y continuaciones esperables de la palabra (outbreak, crisis). Hay otros términos más difusos"
   ]
  },
  {
   "cell_type": "code",
   "execution_count": 21,
   "metadata": {},
   "outputs": [
    {
     "name": "stdout",
     "output_type": "stream",
     "text": [
      "termino no encontrado, como se esperaba: -> \"Key 'halberd' not present in vocabulary\"\n"
     ]
    }
   ],
   "source": [
    "try:\n",
    "    # Ensayar con una palabra que no está en el vocabulario:\n",
    "    w2v_model.wv.most_similar(negative=[\"halberd\"])\n",
    "    # Si no falla, lanzar una excepción manualmente (opcional)\n",
    "    raise Exception(\"Este código debería haber fallado, pero no lo hizo.\")\n",
    "except KeyError as e:\n",
    "    print(f\"termino no encontrado, como se esperaba: -> {e}\")"
   ]
  },
  {
   "cell_type": "code",
   "execution_count": 22,
   "metadata": {},
   "outputs": [
    {
     "name": "stdout",
     "output_type": "stream",
     "text": [
      "[-0.04078294  0.19822592  0.1632768  -0.02819409  0.09986134 -0.47223222\n",
      "  0.34094355  0.38048753 -0.10183523 -0.19937275 -0.13838853 -0.0725431\n",
      " -0.0397372   0.00455932 -0.45309165 -0.23051317 -0.02019536 -0.01401536\n",
      "  0.43203315  0.02644113 -0.17541759 -0.23279579  0.21667442  0.2664663\n",
      "  0.27195948 -0.22395894 -0.22244625  0.07093975 -0.28635994  0.03699851\n",
      " -0.02996452 -0.10161694 -0.18854542  0.08377816 -0.28425294  0.01532153\n",
      " -0.43537718 -0.2347473  -0.1494438   0.16406463 -0.45976532 -0.12616242\n",
      " -0.3078208  -0.0476362   0.32304844 -0.0506929  -0.00558319  0.25035626\n",
      "  0.2906951   0.05586935 -0.20313525 -0.05723209 -0.16456245 -0.15003099\n",
      " -0.1254802   0.17300421  0.1898833  -0.11201511  0.11730833  0.21636352\n",
      " -0.04960198 -0.16128355  0.111275   -0.01530833 -0.13047588  0.31417856\n",
      "  0.06178514  0.21920103  0.16365881 -0.21051337 -0.12755269 -0.22786112\n",
      " -0.29998687  0.02848707  0.16013739 -0.02691453 -0.54313505 -0.43270123\n",
      "  0.07014553  0.08740792  0.08967377 -0.09468219  0.45886713  0.08618803\n",
      "  0.25964895 -0.20227237 -0.0925343  -0.16612417  0.25754154 -0.01519276\n",
      " -0.01447349 -0.37625977  0.1400373  -0.2624044  -0.00787567  0.41341394\n",
      "  0.19905803 -0.14643505 -0.02110261  0.2738858   0.25274652 -0.11721347\n",
      "  0.01926147  0.11024784  0.04302643 -0.1987424  -0.06153642  0.06665824\n",
      " -0.16407938 -0.04216071 -0.16434486 -0.3280053   0.2309493   0.06865602\n",
      " -0.07658895  0.21647942  0.03508567  0.22477175  0.03160903 -0.37157455\n",
      "  0.27884826  0.10795157  0.21050967 -0.09868594 -0.09866212  0.03310812\n",
      " -0.12996157 -0.22828825 -0.5952909   0.13931282  0.17059429  0.24230166\n",
      "  0.313414   -0.49379355  0.03062822  0.29696006 -0.03236541  0.21121144\n",
      "  0.02443398 -0.2528904   0.1355229  -0.12138249 -0.01311648  0.05277463\n",
      "  0.26599532  0.0131402  -0.22786605 -0.35600507  0.294757    0.04635752\n",
      " -0.12398627 -0.03506964 -0.0255485  -0.29750708  0.12169299  0.24747914\n",
      " -0.1885794   0.13043389  0.16147625  0.20103827  0.16831872 -0.1024397\n",
      " -0.18565187  0.10260658 -0.16076186  0.24481899 -0.04613484  0.14679818\n",
      " -0.01408766  0.25543153  0.13161013  0.05051808 -0.01243947  0.06863357\n",
      "  0.05419012  0.31255725 -0.12199642 -0.2012071   0.02726938  0.08049244\n",
      " -0.05542282  0.14266683 -0.17988454  0.0203649  -0.05687033  0.15367201\n",
      "  0.18469201  0.01065988 -0.18250825  0.01419044  0.09824809  0.12084804\n",
      " -0.04507703 -0.12977766 -0.18595876  0.01916454  0.02602476 -0.12366916\n",
      "  0.25213408 -0.17554082  0.01807028 -0.01021645  0.05355025 -0.14503254\n",
      " -0.09667627 -0.17928253  0.09284019  0.04106722 -0.366144    0.00175545\n",
      " -0.14708087  0.08583242  0.1558012   0.01474852  0.0836089  -0.2225099\n",
      "  0.14490567 -0.24474804 -0.03229676 -0.0263449   0.03759008  0.00161409\n",
      "  0.04391532 -0.0250129  -0.20720026 -0.00184808  0.17962225  0.01542418\n",
      " -0.02791062  0.57704073 -0.05649512 -0.19929098 -0.17664638 -0.03473987\n",
      "  0.3004957   0.12611215  0.09643701 -0.1447027   0.03299875 -0.27163428\n",
      "  0.02587235 -0.41598213 -0.11835174  0.38352865  0.21256047 -0.04159146\n",
      "  0.2255733  -0.08008451  0.01326841 -0.19256502 -0.03255188 -0.01587612\n",
      "  0.1938834  -0.09098892 -0.10771748 -0.33575603 -0.00879288  0.14039584\n",
      " -0.39282     0.03965929 -0.31236532  0.10140866 -0.04212292 -0.20140563\n",
      " -0.10947521 -0.24651691 -0.08194195  0.04100064 -0.23656048  0.01155068\n",
      " -0.15236369  0.401461    0.12666158  0.14817464  0.15514761  0.35195214\n",
      "  0.12881622  0.0604903  -0.2183573   0.16567111 -0.2961884  -0.07425028\n",
      " -0.19521365  0.06308866 -0.05294394  0.06216297 -0.29371437  0.05357349\n",
      "  0.2569636   0.17804451  0.00446838  0.14397435  0.17902854  0.034883\n",
      " -0.14442296  0.0431784   0.2897836  -0.0069692  -0.14504044 -0.26942927]\n"
     ]
    }
   ],
   "source": [
    "# el método `get_vector` permite obtener los vectores:\n",
    "vector_love = w2v_model.wv.get_vector(\"covid\")\n",
    "print(vector_love)"
   ]
  },
  {
   "cell_type": "markdown",
   "metadata": {},
   "source": [
    "### 5 - Visualizar agrupación de vectores"
   ]
  },
  {
   "cell_type": "code",
   "execution_count": 23,
   "metadata": {},
   "outputs": [],
   "source": [
    "# Se vuelve a definir la funcion por si se quiere ejecutar solo las celdas de resolucion de alumno\n",
    "def reduce_dimensions(model, num_dimensions = 2 ):\n",
    "     \n",
    "    vectors = np.asarray(model.wv.vectors)\n",
    "    labels = np.asarray(model.wv.index_to_key)  \n",
    "\n",
    "    tsne = TSNE(n_components=num_dimensions, random_state=0)\n",
    "    vectors = tsne.fit_transform(vectors)\n",
    "\n",
    "    return vectors, labels"
   ]
  },
  {
   "cell_type": "code",
   "execution_count": 24,
   "metadata": {},
   "outputs": [
    {
     "data": {
      "application/vnd.plotly.v1+json": {
       "config": {
        "plotlyServerURL": "https://plot.ly"
       },
       "data": [
        {
         "hovertemplate": "x=%{x}<br>y=%{y}<br>text=%{text}<extra></extra>",
         "legendgroup": "",
         "marker": {
          "color": "#636efa",
          "symbol": "circle"
         },
         "mode": "markers+text",
         "name": "",
         "orientation": "v",
         "showlegend": false,
         "text": [
          "the",
          "to",
          "t",
          "and",
          "co",
          "https",
          "of",
          "a",
          "in",
          "coronavirus",
          "19",
          "covid",
          "for",
          "is",
          "are",
          "on",
          "you",
          "i",
          "this",
          "at",
          "food",
          "prices",
          "store",
          "supermarket",
          "with",
          "grocery",
          "that",
          "have",
          "we",
          "as",
          "be",
          "people",
          "it",
          "amp",
          "from",
          "all",
          "covid19",
          "your",
          "not",
          "will",
          "consumer",
          "my",
          "up",
          "our",
          "out",
          "or",
          "they",
          "shopping",
          "can",
          "has",
          "if",
          "more",
          "by",
          "online",
          "but",
          "how",
          "their",
          "so",
          "no",
          "now",
          "during",
          "pandemic",
          "about",
          "get",
          "panic",
          "need",
          "who",
          "what",
          "just",
          "stock",
          "like",
          "do",
          "workers",
          "us",
          "time",
          "was",
          "home",
          "go",
          "an",
          "when",
          "sanitizer",
          "demand",
          "some",
          "help",
          "there",
          "s",
          "hand",
          "going",
          "me",
          "one",
          "buying",
          "due",
          "been",
          "please",
          "toilet",
          "covid2019",
          "oil",
          "work",
          "paper",
          "new",
          "2",
          "here",
          "retail",
          "because",
          "them",
          "crisis",
          "other",
          "toiletpaper",
          "only",
          "local",
          "after",
          "over",
          "these",
          "than",
          "should",
          "stay",
          "buy",
          "stores",
          "today",
          "1",
          "shelves",
          "keep",
          "many",
          "still",
          "being",
          "make",
          "via",
          "down",
          "delivery",
          "see",
          "those",
          "know",
          "day",
          "virus",
          "take",
          "why",
          "would",
          "everyone",
          "supply",
          "lockdown",
          "into",
          "stop",
          "health",
          "even",
          "its",
          "any",
          "outbreak",
          "3",
          "had",
          "staff",
          "social",
          "while",
          "also",
          "could",
          "working",
          "price",
          "masks",
          "business",
          "think",
          "week",
          "good",
          "market",
          "it's",
          "shop",
          "don't",
          "world",
          "spread",
          "most",
          "use",
          "safe",
          "essential",
          "were",
          "amid",
          "way",
          "supplies",
          "customers",
          "right",
          "off",
          "thank",
          "items",
          "every",
          "socialdistancing",
          "employees",
          "much",
          "may",
          "products",
          "back",
          "doing",
          "government",
          "which",
          "before",
          "first",
          "impact",
          "news",
          "he",
          "last",
          "times",
          "corona",
          "free",
          "itâs"
         ],
         "type": "scatter",
         "x": [
          5.417380332946777,
          -9.81721305847168,
          -22.17938232421875,
          0.6226774454116821,
          -22.174028396606445,
          -22.174060821533203,
          1.8528900146484375,
          6.240522384643555,
          -11.244159698486328,
          -16.66143226623535,
          -16.261341094970703,
          -16.060924530029297,
          -11.13072395324707,
          8.064123153686523,
          0.9608659744262695,
          2.4671967029571533,
          14.021178245544434,
          15.908921241760254,
          10.8191556930542,
          15.355670928955078,
          -7.7298102378845215,
          -27.082950592041016,
          13.200501441955566,
          12.014487266540527,
          -8.878622055053711,
          12.956106185913086,
          14.363687515258789,
          34.20307540893555,
          14.829867362976074,
          -18.837160110473633,
          14.192916870117188,
          30.78586196899414,
          13.915903091430664,
          0.6787125468254089,
          11.867179870605469,
          2.4895215034484863,
          -15.963539123535156,
          -12.933629989624023,
          14.17933177947998,
          -7.735335350036621,
          -27.568687438964844,
          29.732101440429688,
          2.358426570892334,
          -12.972356796264648,
          3.6930313110351562,
          -2.7894253730773926,
          12.066241264343262,
          5.975168704986572,
          11.293024063110352,
          35.97057342529297,
          11.957605361938477,
          -28.56400489807129,
          -13.338630676269531,
          -23.851070404052734,
          14.058475494384766,
          6.382352352142334,
          -11.899425506591797,
          23.816776275634766,
          13.508672714233398,
          9.404549598693848,
          -12.508635520935059,
          -14.856062889099121,
          -1.51066255569458,
          12.35572338104248,
          35.17570877075195,
          6.390538215637207,
          3.0263888835906982,
          9.003634452819824,
          3.5915396213531494,
          13.6049165725708,
          26.09014320373535,
          8.425311088562012,
          37.343570709228516,
          2.7056283950805664,
          -1.0629950761795044,
          29.6910343170166,
          11.164006233215332,
          27.828319549560547,
          4.787147521972656,
          30.491554260253906,
          29.026756286621094,
          -24.630910873413086,
          6.851985931396484,
          -7.95932149887085,
          12.342968940734863,
          -22.372617721557617,
          28.80862045288086,
          27.468379974365234,
          29.449399948120117,
          8.170149803161621,
          34.77316665649414,
          -18.052078247070312,
          2.725092649459839,
          -3.180643320083618,
          36.242088317871094,
          -18.192668914794922,
          -28.16253089904785,
          9.105896949768066,
          36.2512092590332,
          17.75937271118164,
          23.06768798828125,
          -24.435644149780273,
          -25.89068603515625,
          22.787790298461914,
          10.137022018432617,
          -19.297893524169922,
          -28.521747589111328,
          -17.172513961791992,
          18.68254852294922,
          9.354533195495605,
          36.20984649658203,
          15.505212783813477,
          5.642371654510498,
          6.114857196807861,
          11.630196571350098,
          3.404557228088379,
          9.992419242858887,
          -0.7010615468025208,
          14.024863243103027,
          24.038097381591797,
          37.7169075012207,
          12.49515151977539,
          1.7087141275405884,
          9.775594711303711,
          30.12665557861328,
          -11.37481689453125,
          -20.464942932128906,
          -37.30663299560547,
          -22.95842170715332,
          12.404258728027344,
          5.173208713531494,
          17.526060104370117,
          -4.112759590148926,
          -8.713420867919922,
          5.856307506561279,
          16.695375442504883,
          32.1221809387207,
          27.788829803466797,
          -18.565444946289062,
          -13.546112060546875,
          15.220746994018555,
          9.786694526672363,
          4.3712897300720215,
          7.30154275894165,
          -12.15812873840332,
          -40.482749938964844,
          -16.440519332885742,
          24.427183151245117,
          34.06251907348633,
          37.68095779418945,
          -3.4561495780944824,
          5.3519487380981445,
          12.928505897521973,
          11.463910102844238,
          31.79043960571289,
          -37.693939208984375,
          -38.24311447143555,
          -27.176559448242188,
          16.83269500732422,
          17.412263870239258,
          27.819549560546875,
          -28.319143295288086,
          28.99090003967285,
          10.614969253540039,
          14.493131637573242,
          8.070587158203125,
          -17.963882446289062,
          30.021638870239258,
          10.687614440917969,
          -2.8271827697753906,
          -4.092266082763672,
          39.11015701293945,
          -18.577024459838867,
          4.032273769378662,
          -5.5940423011779785,
          -4.090390205383301,
          23.207172393798828,
          10.10749626159668,
          2.9832794666290283,
          38.907676696777344,
          22.470165252685547,
          -18.686670303344727,
          4.7048492431640625,
          25.357898712158203,
          12.048360824584961,
          32.03752136230469,
          2.6815128326416016,
          13.51994800567627,
          -6.916835308074951,
          -9.96733570098877,
          11.105429649353027,
          15.14811897277832,
          -24.130168914794922,
          -18.431175231933594,
          26.601055145263672,
          15.04337215423584,
          33.3458137512207,
          -12.374808311462402,
          -19.745473861694336,
          30.471189498901367
         ],
         "xaxis": "x",
         "y": [
          5.132205486297607,
          19.905153274536133,
          -27.46100616455078,
          0.5603642463684082,
          -27.45937728881836,
          -27.461061477661133,
          30.67732810974121,
          10.387529373168945,
          -4.237544536590576,
          -32.45410919189453,
          -30.255634307861328,
          -30.072647094726562,
          17.029537200927734,
          10.711752891540527,
          6.56403923034668,
          -1.1943773031234741,
          22.716842651367188,
          23.682680130004883,
          12.2617826461792,
          -4.483387470245361,
          17.12489128112793,
          -13.190230369567871,
          -6.062230110168457,
          -3.24515438079834,
          18.128299713134766,
          -6.170383930206299,
          20.353322982788086,
          29.49514389038086,
          17.28917121887207,
          -3.25323486328125,
          20.666534423828125,
          38.14349365234375,
          22.45849609375,
          0.4889383912086487,
          5.160111427307129,
          30.440902709960938,
          -37.5799560546875,
          21.827693939208984,
          19.167177200317383,
          26.349210739135742,
          10.54418659210205,
          0.6631399393081665,
          12.754707336425781,
          21.703563690185547,
          13.093954086303711,
          20.042804718017578,
          20.715482711791992,
          19.01253890991211,
          25.941633224487305,
          29.221712112426758,
          17.176652908325195,
          20.595123291015625,
          1.2767596244812012,
          28.1181583404541,
          18.967031478881836,
          16.750009536743164,
          21.79880142211914,
          17.14198875427246,
          7.749334335327148,
          5.769648551940918,
          18.274381637573242,
          -27.044946670532227,
          20.00628662109375,
          22.179689407348633,
          15.709249496459961,
          21.487125396728516,
          25.928701400756836,
          14.849907875061035,
          11.27978515625,
          28.9168701171875,
          23.085153579711914,
          29.401273727416992,
          -27.07119369506836,
          11.241758346557617,
          17.218509674072266,
          7.844831943511963,
          18.36081886291504,
          32.31931686401367,
          0.3748752474784851,
          24.913850784301758,
          -18.773561477661133,
          -4.377673149108887,
          18.563085556030273,
          23.5609130859375,
          9.389400482177734,
          17.81646156311035,
          -18.85376739501953,
          30.946800231933594,
          12.918424606323242,
          41.89655685424805,
          16.939599990844727,
          2.368187427520752,
          3.1127219200134277,
          27.47478485107422,
          -15.923894882202148,
          -40.78452682495117,
          -6.8809919357299805,
          24.27761459350586,
          -15.929408073425293,
          -6.095152378082275,
          -21.35624122619629,
          33.16409683227539,
          -25.90313720703125,
          13.22600269317627,
          25.81521987915039,
          0.47711342573165894,
          20.99911880493164,
          -44.96528625488281,
          0.962830126285553,
          -8.436347007751465,
          3.728804111480713,
          7.676031589508057,
          37.17912292480469,
          8.206775665283203,
          25.65247917175293,
          24.478023529052734,
          29.340984344482422,
          -5.938852310180664,
          -1.908552885055542,
          -25.665924072265625,
          11.798017501831055,
          38.62895965576172,
          27.496700286865234,
          22.922348022460938,
          16.515005111694336,
          41.081031799316406,
          -25.79803466796875,
          -15.888936042785645,
          29.054973602294922,
          21.546602249145508,
          37.61632537841797,
          19.107213973999023,
          13.32751750946045,
          38.523258209228516,
          27.833560943603516,
          17.442312240600586,
          29.547969818115234,
          13.939155578613281,
          -1.0742312669754028,
          -28.75240707397461,
          27.3713321685791,
          29.3380184173584,
          -7.489260196685791,
          30.730064392089844,
          0.8906934261322021,
          8.612890243530273,
          -29.28204917907715,
          -25.0767879486084,
          30.029001235961914,
          -25.714357376098633,
          37.36094284057617,
          25.441986083984375,
          18.829593658447266,
          25.729393005371094,
          9.168327331542969,
          -12.490262985229492,
          -24.56245994567871,
          5.510801792144775,
          19.351638793945312,
          -3.737260341644287,
          23.673189163208008,
          -12.659788131713867,
          22.3206787109375,
          21.73921012878418,
          25.49844741821289,
          9.890632629394531,
          5.585864067077637,
          16.983869552612305,
          33.96072006225586,
          35.83855438232422,
          9.188769340515137,
          23.154420852661133,
          2.412688970565796,
          8.98685359954834,
          -0.14279907941818237,
          26.742902755737305,
          16.065900802612305,
          21.800861358642578,
          34.449459075927734,
          14.988825798034668,
          9.73026180267334,
          -37.77693176269531,
          38.82534408569336,
          16.536449432373047,
          24.145139694213867,
          -18.229480743408203,
          12.699370384216309,
          24.21681785583496,
          -10.269660949707031,
          5.845824718475342,
          17.135536193847656,
          -34.65046310424805,
          4.28165864944458,
          -26.27776336669922,
          7.765132427215576,
          -19.788379669189453,
          24.96519660949707,
          -38.96902847290039,
          25.02239227294922,
          26.082548141479492
         ],
         "yaxis": "y"
        }
       ],
       "layout": {
        "legend": {
         "tracegroupgap": 0
        },
        "margin": {
         "t": 60
        },
        "template": {
         "data": {
          "bar": [
           {
            "error_x": {
             "color": "#2a3f5f"
            },
            "error_y": {
             "color": "#2a3f5f"
            },
            "marker": {
             "line": {
              "color": "#E5ECF6",
              "width": 0.5
             },
             "pattern": {
              "fillmode": "overlay",
              "size": 10,
              "solidity": 0.2
             }
            },
            "type": "bar"
           }
          ],
          "barpolar": [
           {
            "marker": {
             "line": {
              "color": "#E5ECF6",
              "width": 0.5
             },
             "pattern": {
              "fillmode": "overlay",
              "size": 10,
              "solidity": 0.2
             }
            },
            "type": "barpolar"
           }
          ],
          "carpet": [
           {
            "aaxis": {
             "endlinecolor": "#2a3f5f",
             "gridcolor": "white",
             "linecolor": "white",
             "minorgridcolor": "white",
             "startlinecolor": "#2a3f5f"
            },
            "baxis": {
             "endlinecolor": "#2a3f5f",
             "gridcolor": "white",
             "linecolor": "white",
             "minorgridcolor": "white",
             "startlinecolor": "#2a3f5f"
            },
            "type": "carpet"
           }
          ],
          "choropleth": [
           {
            "colorbar": {
             "outlinewidth": 0,
             "ticks": ""
            },
            "type": "choropleth"
           }
          ],
          "contour": [
           {
            "colorbar": {
             "outlinewidth": 0,
             "ticks": ""
            },
            "colorscale": [
             [
              0,
              "#0d0887"
             ],
             [
              0.1111111111111111,
              "#46039f"
             ],
             [
              0.2222222222222222,
              "#7201a8"
             ],
             [
              0.3333333333333333,
              "#9c179e"
             ],
             [
              0.4444444444444444,
              "#bd3786"
             ],
             [
              0.5555555555555556,
              "#d8576b"
             ],
             [
              0.6666666666666666,
              "#ed7953"
             ],
             [
              0.7777777777777778,
              "#fb9f3a"
             ],
             [
              0.8888888888888888,
              "#fdca26"
             ],
             [
              1,
              "#f0f921"
             ]
            ],
            "type": "contour"
           }
          ],
          "contourcarpet": [
           {
            "colorbar": {
             "outlinewidth": 0,
             "ticks": ""
            },
            "type": "contourcarpet"
           }
          ],
          "heatmap": [
           {
            "colorbar": {
             "outlinewidth": 0,
             "ticks": ""
            },
            "colorscale": [
             [
              0,
              "#0d0887"
             ],
             [
              0.1111111111111111,
              "#46039f"
             ],
             [
              0.2222222222222222,
              "#7201a8"
             ],
             [
              0.3333333333333333,
              "#9c179e"
             ],
             [
              0.4444444444444444,
              "#bd3786"
             ],
             [
              0.5555555555555556,
              "#d8576b"
             ],
             [
              0.6666666666666666,
              "#ed7953"
             ],
             [
              0.7777777777777778,
              "#fb9f3a"
             ],
             [
              0.8888888888888888,
              "#fdca26"
             ],
             [
              1,
              "#f0f921"
             ]
            ],
            "type": "heatmap"
           }
          ],
          "heatmapgl": [
           {
            "colorbar": {
             "outlinewidth": 0,
             "ticks": ""
            },
            "colorscale": [
             [
              0,
              "#0d0887"
             ],
             [
              0.1111111111111111,
              "#46039f"
             ],
             [
              0.2222222222222222,
              "#7201a8"
             ],
             [
              0.3333333333333333,
              "#9c179e"
             ],
             [
              0.4444444444444444,
              "#bd3786"
             ],
             [
              0.5555555555555556,
              "#d8576b"
             ],
             [
              0.6666666666666666,
              "#ed7953"
             ],
             [
              0.7777777777777778,
              "#fb9f3a"
             ],
             [
              0.8888888888888888,
              "#fdca26"
             ],
             [
              1,
              "#f0f921"
             ]
            ],
            "type": "heatmapgl"
           }
          ],
          "histogram": [
           {
            "marker": {
             "pattern": {
              "fillmode": "overlay",
              "size": 10,
              "solidity": 0.2
             }
            },
            "type": "histogram"
           }
          ],
          "histogram2d": [
           {
            "colorbar": {
             "outlinewidth": 0,
             "ticks": ""
            },
            "colorscale": [
             [
              0,
              "#0d0887"
             ],
             [
              0.1111111111111111,
              "#46039f"
             ],
             [
              0.2222222222222222,
              "#7201a8"
             ],
             [
              0.3333333333333333,
              "#9c179e"
             ],
             [
              0.4444444444444444,
              "#bd3786"
             ],
             [
              0.5555555555555556,
              "#d8576b"
             ],
             [
              0.6666666666666666,
              "#ed7953"
             ],
             [
              0.7777777777777778,
              "#fb9f3a"
             ],
             [
              0.8888888888888888,
              "#fdca26"
             ],
             [
              1,
              "#f0f921"
             ]
            ],
            "type": "histogram2d"
           }
          ],
          "histogram2dcontour": [
           {
            "colorbar": {
             "outlinewidth": 0,
             "ticks": ""
            },
            "colorscale": [
             [
              0,
              "#0d0887"
             ],
             [
              0.1111111111111111,
              "#46039f"
             ],
             [
              0.2222222222222222,
              "#7201a8"
             ],
             [
              0.3333333333333333,
              "#9c179e"
             ],
             [
              0.4444444444444444,
              "#bd3786"
             ],
             [
              0.5555555555555556,
              "#d8576b"
             ],
             [
              0.6666666666666666,
              "#ed7953"
             ],
             [
              0.7777777777777778,
              "#fb9f3a"
             ],
             [
              0.8888888888888888,
              "#fdca26"
             ],
             [
              1,
              "#f0f921"
             ]
            ],
            "type": "histogram2dcontour"
           }
          ],
          "mesh3d": [
           {
            "colorbar": {
             "outlinewidth": 0,
             "ticks": ""
            },
            "type": "mesh3d"
           }
          ],
          "parcoords": [
           {
            "line": {
             "colorbar": {
              "outlinewidth": 0,
              "ticks": ""
             }
            },
            "type": "parcoords"
           }
          ],
          "pie": [
           {
            "automargin": true,
            "type": "pie"
           }
          ],
          "scatter": [
           {
            "fillpattern": {
             "fillmode": "overlay",
             "size": 10,
             "solidity": 0.2
            },
            "type": "scatter"
           }
          ],
          "scatter3d": [
           {
            "line": {
             "colorbar": {
              "outlinewidth": 0,
              "ticks": ""
             }
            },
            "marker": {
             "colorbar": {
              "outlinewidth": 0,
              "ticks": ""
             }
            },
            "type": "scatter3d"
           }
          ],
          "scattercarpet": [
           {
            "marker": {
             "colorbar": {
              "outlinewidth": 0,
              "ticks": ""
             }
            },
            "type": "scattercarpet"
           }
          ],
          "scattergeo": [
           {
            "marker": {
             "colorbar": {
              "outlinewidth": 0,
              "ticks": ""
             }
            },
            "type": "scattergeo"
           }
          ],
          "scattergl": [
           {
            "marker": {
             "colorbar": {
              "outlinewidth": 0,
              "ticks": ""
             }
            },
            "type": "scattergl"
           }
          ],
          "scattermapbox": [
           {
            "marker": {
             "colorbar": {
              "outlinewidth": 0,
              "ticks": ""
             }
            },
            "type": "scattermapbox"
           }
          ],
          "scatterpolar": [
           {
            "marker": {
             "colorbar": {
              "outlinewidth": 0,
              "ticks": ""
             }
            },
            "type": "scatterpolar"
           }
          ],
          "scatterpolargl": [
           {
            "marker": {
             "colorbar": {
              "outlinewidth": 0,
              "ticks": ""
             }
            },
            "type": "scatterpolargl"
           }
          ],
          "scatterternary": [
           {
            "marker": {
             "colorbar": {
              "outlinewidth": 0,
              "ticks": ""
             }
            },
            "type": "scatterternary"
           }
          ],
          "surface": [
           {
            "colorbar": {
             "outlinewidth": 0,
             "ticks": ""
            },
            "colorscale": [
             [
              0,
              "#0d0887"
             ],
             [
              0.1111111111111111,
              "#46039f"
             ],
             [
              0.2222222222222222,
              "#7201a8"
             ],
             [
              0.3333333333333333,
              "#9c179e"
             ],
             [
              0.4444444444444444,
              "#bd3786"
             ],
             [
              0.5555555555555556,
              "#d8576b"
             ],
             [
              0.6666666666666666,
              "#ed7953"
             ],
             [
              0.7777777777777778,
              "#fb9f3a"
             ],
             [
              0.8888888888888888,
              "#fdca26"
             ],
             [
              1,
              "#f0f921"
             ]
            ],
            "type": "surface"
           }
          ],
          "table": [
           {
            "cells": {
             "fill": {
              "color": "#EBF0F8"
             },
             "line": {
              "color": "white"
             }
            },
            "header": {
             "fill": {
              "color": "#C8D4E3"
             },
             "line": {
              "color": "white"
             }
            },
            "type": "table"
           }
          ]
         },
         "layout": {
          "annotationdefaults": {
           "arrowcolor": "#2a3f5f",
           "arrowhead": 0,
           "arrowwidth": 1
          },
          "autotypenumbers": "strict",
          "coloraxis": {
           "colorbar": {
            "outlinewidth": 0,
            "ticks": ""
           }
          },
          "colorscale": {
           "diverging": [
            [
             0,
             "#8e0152"
            ],
            [
             0.1,
             "#c51b7d"
            ],
            [
             0.2,
             "#de77ae"
            ],
            [
             0.3,
             "#f1b6da"
            ],
            [
             0.4,
             "#fde0ef"
            ],
            [
             0.5,
             "#f7f7f7"
            ],
            [
             0.6,
             "#e6f5d0"
            ],
            [
             0.7,
             "#b8e186"
            ],
            [
             0.8,
             "#7fbc41"
            ],
            [
             0.9,
             "#4d9221"
            ],
            [
             1,
             "#276419"
            ]
           ],
           "sequential": [
            [
             0,
             "#0d0887"
            ],
            [
             0.1111111111111111,
             "#46039f"
            ],
            [
             0.2222222222222222,
             "#7201a8"
            ],
            [
             0.3333333333333333,
             "#9c179e"
            ],
            [
             0.4444444444444444,
             "#bd3786"
            ],
            [
             0.5555555555555556,
             "#d8576b"
            ],
            [
             0.6666666666666666,
             "#ed7953"
            ],
            [
             0.7777777777777778,
             "#fb9f3a"
            ],
            [
             0.8888888888888888,
             "#fdca26"
            ],
            [
             1,
             "#f0f921"
            ]
           ],
           "sequentialminus": [
            [
             0,
             "#0d0887"
            ],
            [
             0.1111111111111111,
             "#46039f"
            ],
            [
             0.2222222222222222,
             "#7201a8"
            ],
            [
             0.3333333333333333,
             "#9c179e"
            ],
            [
             0.4444444444444444,
             "#bd3786"
            ],
            [
             0.5555555555555556,
             "#d8576b"
            ],
            [
             0.6666666666666666,
             "#ed7953"
            ],
            [
             0.7777777777777778,
             "#fb9f3a"
            ],
            [
             0.8888888888888888,
             "#fdca26"
            ],
            [
             1,
             "#f0f921"
            ]
           ]
          },
          "colorway": [
           "#636efa",
           "#EF553B",
           "#00cc96",
           "#ab63fa",
           "#FFA15A",
           "#19d3f3",
           "#FF6692",
           "#B6E880",
           "#FF97FF",
           "#FECB52"
          ],
          "font": {
           "color": "#2a3f5f"
          },
          "geo": {
           "bgcolor": "white",
           "lakecolor": "white",
           "landcolor": "#E5ECF6",
           "showlakes": true,
           "showland": true,
           "subunitcolor": "white"
          },
          "hoverlabel": {
           "align": "left"
          },
          "hovermode": "closest",
          "mapbox": {
           "style": "light"
          },
          "paper_bgcolor": "white",
          "plot_bgcolor": "#E5ECF6",
          "polar": {
           "angularaxis": {
            "gridcolor": "white",
            "linecolor": "white",
            "ticks": ""
           },
           "bgcolor": "#E5ECF6",
           "radialaxis": {
            "gridcolor": "white",
            "linecolor": "white",
            "ticks": ""
           }
          },
          "scene": {
           "xaxis": {
            "backgroundcolor": "#E5ECF6",
            "gridcolor": "white",
            "gridwidth": 2,
            "linecolor": "white",
            "showbackground": true,
            "ticks": "",
            "zerolinecolor": "white"
           },
           "yaxis": {
            "backgroundcolor": "#E5ECF6",
            "gridcolor": "white",
            "gridwidth": 2,
            "linecolor": "white",
            "showbackground": true,
            "ticks": "",
            "zerolinecolor": "white"
           },
           "zaxis": {
            "backgroundcolor": "#E5ECF6",
            "gridcolor": "white",
            "gridwidth": 2,
            "linecolor": "white",
            "showbackground": true,
            "ticks": "",
            "zerolinecolor": "white"
           }
          },
          "shapedefaults": {
           "line": {
            "color": "#2a3f5f"
           }
          },
          "ternary": {
           "aaxis": {
            "gridcolor": "white",
            "linecolor": "white",
            "ticks": ""
           },
           "baxis": {
            "gridcolor": "white",
            "linecolor": "white",
            "ticks": ""
           },
           "bgcolor": "#E5ECF6",
           "caxis": {
            "gridcolor": "white",
            "linecolor": "white",
            "ticks": ""
           }
          },
          "title": {
           "x": 0.05
          },
          "xaxis": {
           "automargin": true,
           "gridcolor": "white",
           "linecolor": "white",
           "ticks": "",
           "title": {
            "standoff": 15
           },
           "zerolinecolor": "white",
           "zerolinewidth": 2
          },
          "yaxis": {
           "automargin": true,
           "gridcolor": "white",
           "linecolor": "white",
           "ticks": "",
           "title": {
            "standoff": 15
           },
           "zerolinecolor": "white",
           "zerolinewidth": 2
          }
         }
        },
        "xaxis": {
         "anchor": "y",
         "domain": [
          0,
          1
         ],
         "title": {
          "text": "x"
         }
        },
        "yaxis": {
         "anchor": "x",
         "domain": [
          0,
          1
         ],
         "title": {
          "text": "y"
         }
        }
       }
      }
     },
     "metadata": {},
     "output_type": "display_data"
    }
   ],
   "source": [
    "# Graficar los embedddings en 2D\n",
    "vecs, labels = reduce_dimensions(w2v_model)\n",
    "\n",
    "MAX_WORDS=200\n",
    "fig = px.scatter(x=vecs[:MAX_WORDS,0], y=vecs[:MAX_WORDS,1], text=labels[:MAX_WORDS])\n",
    "fig.show() # esto para plotly en colab"
   ]
  },
  {
   "cell_type": "code",
   "execution_count": 25,
   "metadata": {},
   "outputs": [
    {
     "data": {
      "application/vnd.plotly.v1+json": {
       "config": {
        "plotlyServerURL": "https://plot.ly"
       },
       "data": [
        {
         "hovertemplate": "x=%{x}<br>y=%{y}<br>z=%{z}<br>text=%{text}<extra></extra>",
         "legendgroup": "",
         "marker": {
          "color": "#636efa",
          "size": 2,
          "symbol": "circle"
         },
         "mode": "markers+text",
         "name": "",
         "scene": "scene",
         "showlegend": false,
         "text": [
          "the",
          "to",
          "t",
          "and",
          "co",
          "https",
          "of",
          "a",
          "in",
          "coronavirus",
          "19",
          "covid",
          "for",
          "is",
          "are",
          "on",
          "you",
          "i",
          "this",
          "at",
          "food",
          "prices",
          "store",
          "supermarket",
          "with",
          "grocery",
          "that",
          "have",
          "we",
          "as",
          "be",
          "people",
          "it",
          "amp",
          "from",
          "all",
          "covid19",
          "your",
          "not",
          "will",
          "consumer",
          "my",
          "up",
          "our",
          "out",
          "or",
          "they",
          "shopping",
          "can",
          "has",
          "if",
          "more",
          "by",
          "online",
          "but",
          "how",
          "their",
          "so",
          "no",
          "now",
          "during",
          "pandemic",
          "about",
          "get",
          "panic",
          "need",
          "who",
          "what",
          "just",
          "stock",
          "like",
          "do",
          "workers",
          "us",
          "time",
          "was",
          "home",
          "go",
          "an",
          "when",
          "sanitizer",
          "demand",
          "some",
          "help",
          "there",
          "s",
          "hand",
          "going",
          "me",
          "one",
          "buying",
          "due",
          "been",
          "please",
          "toilet",
          "covid2019",
          "oil",
          "work",
          "paper",
          "new",
          "2",
          "here",
          "retail",
          "because",
          "them",
          "crisis",
          "other",
          "toiletpaper",
          "only",
          "local",
          "after",
          "over",
          "these",
          "than",
          "should",
          "stay",
          "buy",
          "stores",
          "today",
          "1",
          "shelves",
          "keep",
          "many",
          "still",
          "being",
          "make",
          "via",
          "down",
          "delivery",
          "see",
          "those",
          "know",
          "day",
          "virus",
          "take",
          "why",
          "would",
          "everyone",
          "supply",
          "lockdown",
          "into",
          "stop",
          "health",
          "even",
          "its",
          "any",
          "outbreak",
          "3",
          "had",
          "staff",
          "social",
          "while",
          "also",
          "could",
          "working",
          "price",
          "masks",
          "business",
          "think",
          "week",
          "good",
          "market",
          "it's",
          "shop",
          "don't",
          "world",
          "spread",
          "most",
          "use",
          "safe",
          "essential",
          "were",
          "amid",
          "way",
          "supplies",
          "customers",
          "right",
          "off",
          "thank",
          "items",
          "every",
          "socialdistancing",
          "employees",
          "much",
          "may",
          "products",
          "back",
          "doing",
          "government",
          "which",
          "before",
          "first",
          "impact",
          "news",
          "he",
          "last",
          "times",
          "corona",
          "free",
          "itâs"
         ],
         "type": "scatter3d",
         "x": [
          2.0111145973205566,
          -5.649166584014893,
          3.975600242614746,
          -8.386013984680176,
          2.6301631927490234,
          2.828842878341675,
          -22.051420211791992,
          10.916481971740723,
          -22.92364501953125,
          13.030513763427734,
          10.977096557617188,
          9.91272258758545,
          -9.627798080444336,
          10.12924575805664,
          4.152367115020752,
          2.0443625450134277,
          20.626968383789062,
          52.525848388671875,
          28.47601890563965,
          32.38274383544922,
          -6.011610507965088,
          -44.46410369873047,
          20.224353790283203,
          23.524459838867188,
          -8.868965148925781,
          17.867481231689453,
          15.139602661132812,
          47.41677474975586,
          32.88677978515625,
          -39.038795471191406,
          14.467382431030273,
          17.02252197265625,
          20.97431182861328,
          -8.295517921447754,
          16.37994956970215,
          1.8860799074172974,
          21.081966400146484,
          -0.7107939720153809,
          51.2576904296875,
          13.17632007598877,
          -21.764184951782227,
          24.33643341064453,
          -4.523627281188965,
          -3.6257259845733643,
          9.663247108459473,
          3.9135262966156006,
          32.82674789428711,
          25.34335708618164,
          23.930601119995117,
          51.024688720703125,
          40.914512634277344,
          -11.038369178771973,
          -37.499290466308594,
          -12.060734748840332,
          51.90219497680664,
          20.0332088470459,
          -1.8269065618515015,
          30.272748947143555,
          14.948689460754395,
          -46.64354705810547,
          8.48563289642334,
          5.778984069824219,
          5.522699356079102,
          19.143138885498047,
          39.201416015625,
          14.4721097946167,
          11.517350196838379,
          38.8306999206543,
          5.360428810119629,
          3.755948066711426,
          37.31493377685547,
          6.169020175933838,
          12.929147720336914,
          1.9038742780685425,
          -8.23242473602295,
          32.17988204956055,
          36.828102111816406,
          21.842796325683594,
          0.41342705488204956,
          0.9613577127456665,
          -12.139512062072754,
          -37.686832427978516,
          8.427495956420898,
          0.7097467184066772,
          19.235933303833008,
          -21.81847381591797,
          -14.191466331481934,
          19.811283111572266,
          31.73221206665039,
          13.261813163757324,
          27.068635940551758,
          -36.834678649902344,
          9.029534339904785,
          23.756431579589844,
          -23.764493942260742,
          27.44295310974121,
          -32.513954162597656,
          18.139057159423828,
          -24.534944534301758,
          6.3357462882995605,
          -57.791595458984375,
          -7.807330131530762,
          -8.064002990722656,
          47.515174865722656,
          19.420791625976562,
          -20.06391716003418,
          -12.417444229125977,
          32.34271240234375,
          23.004262924194336,
          19.320154190063477,
          38.858890533447266,
          6.445984363555908,
          -0.7978528738021851,
          -4.562825679779053,
          20.97036361694336,
          0.4314029812812805,
          38.51058578491211,
          -11.94040298461914,
          6.833343982696533,
          -52.6995735168457,
          41.2955322265625,
          6.523645877838135,
          -6.443969249725342,
          27.373798370361328,
          0.7863278388977051,
          -12.139969825744629,
          5.33964729309082,
          -10.87151050567627,
          -9.704400062561035,
          43.359458923339844,
          7.516298294067383,
          34.04160690307617,
          -8.859258651733398,
          10.183369636535645,
          16.208114624023438,
          46.993228912353516,
          52.39832305908203,
          47.88520050048828,
          -19.467409133911133,
          10.403571128845215,
          23.23996353149414,
          35.712066650390625,
          6.793377876281738,
          30.562936782836914,
          -30.51325798034668,
          -9.908960342407227,
          7.811088562011719,
          -57.98494338989258,
          46.834014892578125,
          8.916025161743164,
          34.948238372802734,
          -1.5867668390274048,
          8.354233741760254,
          21.33098793029785,
          27.284114837646484,
          -5.236293792724609,
          -25.976667404174805,
          -15.323928833007812,
          43.11298370361328,
          7.917308807373047,
          22.8160343170166,
          -44.10300064086914,
          20.176233291625977,
          29.739091873168945,
          47.02667999267578,
          19.09473419189453,
          -21.4339599609375,
          0.02292748913168907,
          15.367547035217285,
          21.209993362426758,
          -15.408163070678711,
          47.8535041809082,
          -33.15852355957031,
          -0.2059091478586197,
          -9.225723266601562,
          -7.449331283569336,
          47.61613082885742,
          25.151744842529297,
          26.178281784057617,
          36.760066986083984,
          32.93476104736328,
          26.182662963867188,
          10.636384963989258,
          28.077478408813477,
          17.85704231262207,
          -18.369741439819336,
          8.460007667541504,
          -10.177972793579102,
          -7.189120292663574,
          -15.832686424255371,
          20.255970001220703,
          -44.202335357666016,
          -22.891929626464844,
          2.74202823638916,
          19.266016006469727,
          -32.18562698364258,
          3.0459415912628174,
          24.240781784057617,
          2.4887633323669434,
          19.14711570739746
         ],
         "y": [
          -6.245948314666748,
          0.3713625967502594,
          41.359718322753906,
          -26.472251892089844,
          41.38167190551758,
          42.389183044433594,
          -35.93689727783203,
          -15.528624534606934,
          -17.160417556762695,
          21.809194564819336,
          23.211641311645508,
          22.33085823059082,
          -11.669135093688965,
          13.49039363861084,
          -32.07256317138672,
          -22.529712677001953,
          -0.7237460017204285,
          2.8720850944519043,
          20.037275314331055,
          -9.183159828186035,
          17.780677795410156,
          20.561193466186523,
          -30.39773941040039,
          -29.222902297973633,
          -18.168529510498047,
          -32.071327209472656,
          -9.1691312789917,
          -12.840975761413574,
          2.2797868251800537,
          1.6558549404144287,
          -9.927472114562988,
          -29.71012306213379,
          1.8438258171081543,
          -25.872920989990234,
          8.802045822143555,
          -34.86427688598633,
          35.740848541259766,
          -32.99047088623047,
          -0.599155604839325,
          1.3570055961608887,
          17.200611114501953,
          -19.62438201904297,
          -18.327098846435547,
          -33.451927185058594,
          -5.471994876861572,
          -11.612933158874512,
          -1.1486856937408447,
          36.01221466064453,
          0.440585732460022,
          -15.030388832092285,
          11.636274337768555,
          30.83645248413086,
          -15.655742645263672,
          -51.20583724975586,
          7.661186218261719,
          -15.301224708557129,
          -36.03868103027344,
          -6.231666088104248,
          19.872060775756836,
          -28.50023651123047,
          49.37417984008789,
          28.691709518432617,
          17.669761657714844,
          -3.213486671447754,
          7.911993503570557,
          12.164115905761719,
          -40.772247314453125,
          -11.76443862915039,
          -23.627626419067383,
          -20.477561950683594,
          -4.824057579040527,
          9.3860445022583,
          -52.72494125366211,
          -21.245574951171875,
          3.934659957885742,
          -25.612964630126953,
          -0.03894903510808945,
          -32.58395004272461,
          -6.205667495727539,
          -12.993524551391602,
          42.16914749145508,
          1.7175323963165283,
          21.627342224121094,
          6.246344089508057,
          18.06694221496582,
          21.677074432373047,
          41.36313247680664,
          -35.58106994628906,
          -19.849594116210938,
          35.00634002685547,
          20.706701278686523,
          19.180126190185547,
          -29.069355010986328,
          19.812227249145508,
          30.91172218322754,
          30.86403465270996,
          21.48641586303711,
          -42.82490158081055,
          31.27869415283203,
          -15.649552345275879,
          -8.33625316619873,
          26.477874755859375,
          41.90718078613281,
          3.612295389175415,
          -25.375877380371094,
          24.766138076782227,
          -18.480192184448242,
          30.93690299987793,
          -17.48666000366211,
          -14.984929084777832,
          -35.85365295410156,
          11.227608680725098,
          -10.00588607788086,
          -10.219280242919922,
          -0.6244087219238281,
          -18.724931716918945,
          6.128321647644043,
          -38.787620544433594,
          -18.208290100097656,
          -4.863449573516846,
          3.8816115856170654,
          -0.4298937916755676,
          -39.1092414855957,
          -17.70438575744629,
          -39.005680084228516,
          -5.047975063323975,
          32.0354118347168,
          -38.62855529785156,
          -48.22807693481445,
          27.257991790771484,
          -46.76708221435547,
          -5.9551100730896,
          -9.37751579284668,
          19.864736557006836,
          1.0439534187316895,
          -1.7795536518096924,
          -4.787592887878418,
          -22.36568832397461,
          12.453585624694824,
          22.067384719848633,
          -23.216245651245117,
          3.584160566329956,
          -52.71950912475586,
          3.4897689819335938,
          -13.289847373962402,
          -25.939006805419922,
          28.931814193725586,
          -3.8956708908081055,
          -11.866482734680176,
          -46.05487823486328,
          20.98013687133789,
          -14.406505584716797,
          -12.637773513793945,
          2.0740370750427246,
          -36.668392181396484,
          31.851497650146484,
          34.249427795410156,
          -7.804485321044922,
          -7.3652544021606445,
          54.64430618286133,
          0.3719397783279419,
          30.6793212890625,
          -0.3550975024700165,
          -17.59483528137207,
          15.169544219970703,
          25.966419219970703,
          15.02942943572998,
          -36.44529342651367,
          -2.104717493057251,
          21.64706802368164,
          -36.774227142333984,
          -11.527517318725586,
          18.93613624572754,
          -9.501171112060547,
          9.387825965881348,
          -44.90632629394531,
          -4.759119033813477,
          -17.30460548400879,
          -41.868751525878906,
          13.457941055297852,
          3.094494104385376,
          25.808345794677734,
          -45.17737579345703,
          -9.922187805175781,
          -5.173985481262207,
          29.20941925048828,
          -21.00590705871582,
          -57.03386306762695,
          -22.74054718017578,
          -10.18889045715332,
          -18.699451446533203,
          -2.390986919403076,
          20.09515380859375,
          27.99149513244629,
          -14.25713062286377,
          -28.287534713745117,
          -59.52267074584961,
          48.06560134887695,
          -0.15158867835998535,
          -2.0935251712799072
         ],
         "z": [
          -0.1668565273284912,
          9.55679702758789,
          -26.93694496154785,
          5.971372127532959,
          -27.65119171142578,
          -27.3720645904541,
          36.09538269042969,
          26.254684448242188,
          18.7154598236084,
          -11.182531356811523,
          -7.44885778427124,
          -6.091633319854736,
          15.25749397277832,
          22.090898513793945,
          21.986406326293945,
          -21.373226165771484,
          10.46034049987793,
          4.036717891693115,
          45.918460845947266,
          -23.219562530517578,
          46.77484130859375,
          -15.974662780761719,
          -10.839945793151855,
          -3.5224967002868652,
          43.67201614379883,
          -10.276348114013672,
          19.123720169067383,
          0.9647316336631775,
          20.055818557739258,
          31.594104766845703,
          23.755918502807617,
          24.977462768554688,
          12.681917190551758,
          4.492656230926514,
          1.5238584280014038,
          7.462029457092285,
          -16.77830696105957,
          -1.2023378610610962,
          20.613080978393555,
          14.734063148498535,
          -25.57619285583496,
          -27.245716094970703,
          48.80691146850586,
          0.2909134030342102,
          25.580524444580078,
          19.147390365600586,
          19.67109489440918,
          16.401103973388672,
          15.623922348022461,
          -4.136054992675781,
          6.5978851318359375,
          -2.1814658641815186,
          12.379509925842285,
          10.535572052001953,
          26.58399772644043,
          -28.23002052307129,
          2.952821969985962,
          26.189626693725586,
          32.025386810302734,
          -21.00211524963379,
          2.733534097671509,
          -7.205183506011963,
          20.702341079711914,
          7.772669315338135,
          31.665752410888672,
          32.670692443847656,
          11.48674201965332,
          41.85923767089844,
          19.615541458129883,
          44.66088104248047,
          28.94907569885254,
          12.909111976623535,
          -10.087810516357422,
          20.477127075195312,
          16.11847686767578,
          -2.165088176727295,
          47.602176666259766,
          30.02797508239746,
          -16.858747482299805,
          39.28523254394531,
          16.30524253845215,
          16.35478973388672,
          44.2420768737793,
          9.978899002075195,
          26.817659378051758,
          -40.137813568115234,
          17.00091552734375,
          26.574254989624023,
          3.2708394527435303,
          31.759063720703125,
          28.183292388916016,
          22.11090850830078,
          -30.45826530456543,
          -45.427635192871094,
          30.76883888244629,
          -22.193706512451172,
          -0.4430813491344452,
          1.438093662261963,
          30.65729331970215,
          -3.867389440536499,
          -16.585800170898438,
          -28.434850692749023,
          -9.629698753356934,
          14.5314359664917,
          26.3187198638916,
          16.27098846435547,
          -5.967339038848877,
          1.2355128526687622,
          -2.274582624435425,
          -12.9347505569458,
          -5.9979987144470215,
          39.94282531738281,
          47.45713424682617,
          37.67494201660156,
          16.32469367980957,
          -14.366177558898926,
          37.95613479614258,
          -7.424663543701172,
          -12.604646682739258,
          -18.145038604736328,
          28.176830291748047,
          7.063375949859619,
          17.988502502441406,
          31.189144134521484,
          30.70939826965332,
          -18.579572677612305,
          -25.11969757080078,
          -28.709810256958008,
          10.581360816955566,
          25.787485122680664,
          7.756709575653076,
          14.50712776184082,
          41.16651153564453,
          14.930381774902344,
          6.257923603057861,
          -0.18047305941581726,
          3.4662489891052246,
          -2.9427404403686523,
          -0.16884452104568481,
          0.626408040523529,
          5.667346000671387,
          36.520023345947266,
          -15.85291862487793,
          9.91730785369873,
          9.917374610900879,
          -16.648893356323242,
          -10.16621208190918,
          -11.322107315063477,
          -1.9227550029754639,
          -5.058987140655518,
          42.82149124145508,
          37.19224166870117,
          33.37898254394531,
          18.017183303833008,
          7.303676128387451,
          11.401327133178711,
          13.311458587646484,
          2.309577703475952,
          23.762500762939453,
          14.109811782836914,
          33.06268310546875,
          2.4759721755981445,
          39.040103912353516,
          6.402804851531982,
          4.596653461456299,
          18.232498168945312,
          21.363630294799805,
          26.696428298950195,
          13.470240592956543,
          4.953968048095703,
          10.427366256713867,
          30.013477325439453,
          22.21840476989746,
          27.72129249572754,
          52.16225051879883,
          -19.124279022216797,
          -17.770647048950195,
          12.744914054870605,
          -23.34711265563965,
          36.8465576171875,
          -5.428133964538574,
          0.18519903719425201,
          0.5467574000358582,
          32.779624938964844,
          18.385963439941406,
          19.041887283325195,
          -1.8346806764602661,
          -8.25672721862793,
          -34.244911193847656,
          18.619739532470703,
          20.95634651184082,
          21.34537124633789,
          2.448246717453003,
          -26.885757446289062,
          -35.96510314941406,
          36.28044128417969,
          -14.066489219665527,
          -6.548539161682129,
          44.5163688659668,
          35.373287200927734
         ]
        }
       ],
       "layout": {
        "legend": {
         "tracegroupgap": 0
        },
        "margin": {
         "t": 60
        },
        "scene": {
         "domain": {
          "x": [
           0,
           1
          ],
          "y": [
           0,
           1
          ]
         },
         "xaxis": {
          "title": {
           "text": "x"
          }
         },
         "yaxis": {
          "title": {
           "text": "y"
          }
         },
         "zaxis": {
          "title": {
           "text": "z"
          }
         }
        },
        "template": {
         "data": {
          "bar": [
           {
            "error_x": {
             "color": "#2a3f5f"
            },
            "error_y": {
             "color": "#2a3f5f"
            },
            "marker": {
             "line": {
              "color": "#E5ECF6",
              "width": 0.5
             },
             "pattern": {
              "fillmode": "overlay",
              "size": 10,
              "solidity": 0.2
             }
            },
            "type": "bar"
           }
          ],
          "barpolar": [
           {
            "marker": {
             "line": {
              "color": "#E5ECF6",
              "width": 0.5
             },
             "pattern": {
              "fillmode": "overlay",
              "size": 10,
              "solidity": 0.2
             }
            },
            "type": "barpolar"
           }
          ],
          "carpet": [
           {
            "aaxis": {
             "endlinecolor": "#2a3f5f",
             "gridcolor": "white",
             "linecolor": "white",
             "minorgridcolor": "white",
             "startlinecolor": "#2a3f5f"
            },
            "baxis": {
             "endlinecolor": "#2a3f5f",
             "gridcolor": "white",
             "linecolor": "white",
             "minorgridcolor": "white",
             "startlinecolor": "#2a3f5f"
            },
            "type": "carpet"
           }
          ],
          "choropleth": [
           {
            "colorbar": {
             "outlinewidth": 0,
             "ticks": ""
            },
            "type": "choropleth"
           }
          ],
          "contour": [
           {
            "colorbar": {
             "outlinewidth": 0,
             "ticks": ""
            },
            "colorscale": [
             [
              0,
              "#0d0887"
             ],
             [
              0.1111111111111111,
              "#46039f"
             ],
             [
              0.2222222222222222,
              "#7201a8"
             ],
             [
              0.3333333333333333,
              "#9c179e"
             ],
             [
              0.4444444444444444,
              "#bd3786"
             ],
             [
              0.5555555555555556,
              "#d8576b"
             ],
             [
              0.6666666666666666,
              "#ed7953"
             ],
             [
              0.7777777777777778,
              "#fb9f3a"
             ],
             [
              0.8888888888888888,
              "#fdca26"
             ],
             [
              1,
              "#f0f921"
             ]
            ],
            "type": "contour"
           }
          ],
          "contourcarpet": [
           {
            "colorbar": {
             "outlinewidth": 0,
             "ticks": ""
            },
            "type": "contourcarpet"
           }
          ],
          "heatmap": [
           {
            "colorbar": {
             "outlinewidth": 0,
             "ticks": ""
            },
            "colorscale": [
             [
              0,
              "#0d0887"
             ],
             [
              0.1111111111111111,
              "#46039f"
             ],
             [
              0.2222222222222222,
              "#7201a8"
             ],
             [
              0.3333333333333333,
              "#9c179e"
             ],
             [
              0.4444444444444444,
              "#bd3786"
             ],
             [
              0.5555555555555556,
              "#d8576b"
             ],
             [
              0.6666666666666666,
              "#ed7953"
             ],
             [
              0.7777777777777778,
              "#fb9f3a"
             ],
             [
              0.8888888888888888,
              "#fdca26"
             ],
             [
              1,
              "#f0f921"
             ]
            ],
            "type": "heatmap"
           }
          ],
          "heatmapgl": [
           {
            "colorbar": {
             "outlinewidth": 0,
             "ticks": ""
            },
            "colorscale": [
             [
              0,
              "#0d0887"
             ],
             [
              0.1111111111111111,
              "#46039f"
             ],
             [
              0.2222222222222222,
              "#7201a8"
             ],
             [
              0.3333333333333333,
              "#9c179e"
             ],
             [
              0.4444444444444444,
              "#bd3786"
             ],
             [
              0.5555555555555556,
              "#d8576b"
             ],
             [
              0.6666666666666666,
              "#ed7953"
             ],
             [
              0.7777777777777778,
              "#fb9f3a"
             ],
             [
              0.8888888888888888,
              "#fdca26"
             ],
             [
              1,
              "#f0f921"
             ]
            ],
            "type": "heatmapgl"
           }
          ],
          "histogram": [
           {
            "marker": {
             "pattern": {
              "fillmode": "overlay",
              "size": 10,
              "solidity": 0.2
             }
            },
            "type": "histogram"
           }
          ],
          "histogram2d": [
           {
            "colorbar": {
             "outlinewidth": 0,
             "ticks": ""
            },
            "colorscale": [
             [
              0,
              "#0d0887"
             ],
             [
              0.1111111111111111,
              "#46039f"
             ],
             [
              0.2222222222222222,
              "#7201a8"
             ],
             [
              0.3333333333333333,
              "#9c179e"
             ],
             [
              0.4444444444444444,
              "#bd3786"
             ],
             [
              0.5555555555555556,
              "#d8576b"
             ],
             [
              0.6666666666666666,
              "#ed7953"
             ],
             [
              0.7777777777777778,
              "#fb9f3a"
             ],
             [
              0.8888888888888888,
              "#fdca26"
             ],
             [
              1,
              "#f0f921"
             ]
            ],
            "type": "histogram2d"
           }
          ],
          "histogram2dcontour": [
           {
            "colorbar": {
             "outlinewidth": 0,
             "ticks": ""
            },
            "colorscale": [
             [
              0,
              "#0d0887"
             ],
             [
              0.1111111111111111,
              "#46039f"
             ],
             [
              0.2222222222222222,
              "#7201a8"
             ],
             [
              0.3333333333333333,
              "#9c179e"
             ],
             [
              0.4444444444444444,
              "#bd3786"
             ],
             [
              0.5555555555555556,
              "#d8576b"
             ],
             [
              0.6666666666666666,
              "#ed7953"
             ],
             [
              0.7777777777777778,
              "#fb9f3a"
             ],
             [
              0.8888888888888888,
              "#fdca26"
             ],
             [
              1,
              "#f0f921"
             ]
            ],
            "type": "histogram2dcontour"
           }
          ],
          "mesh3d": [
           {
            "colorbar": {
             "outlinewidth": 0,
             "ticks": ""
            },
            "type": "mesh3d"
           }
          ],
          "parcoords": [
           {
            "line": {
             "colorbar": {
              "outlinewidth": 0,
              "ticks": ""
             }
            },
            "type": "parcoords"
           }
          ],
          "pie": [
           {
            "automargin": true,
            "type": "pie"
           }
          ],
          "scatter": [
           {
            "fillpattern": {
             "fillmode": "overlay",
             "size": 10,
             "solidity": 0.2
            },
            "type": "scatter"
           }
          ],
          "scatter3d": [
           {
            "line": {
             "colorbar": {
              "outlinewidth": 0,
              "ticks": ""
             }
            },
            "marker": {
             "colorbar": {
              "outlinewidth": 0,
              "ticks": ""
             }
            },
            "type": "scatter3d"
           }
          ],
          "scattercarpet": [
           {
            "marker": {
             "colorbar": {
              "outlinewidth": 0,
              "ticks": ""
             }
            },
            "type": "scattercarpet"
           }
          ],
          "scattergeo": [
           {
            "marker": {
             "colorbar": {
              "outlinewidth": 0,
              "ticks": ""
             }
            },
            "type": "scattergeo"
           }
          ],
          "scattergl": [
           {
            "marker": {
             "colorbar": {
              "outlinewidth": 0,
              "ticks": ""
             }
            },
            "type": "scattergl"
           }
          ],
          "scattermapbox": [
           {
            "marker": {
             "colorbar": {
              "outlinewidth": 0,
              "ticks": ""
             }
            },
            "type": "scattermapbox"
           }
          ],
          "scatterpolar": [
           {
            "marker": {
             "colorbar": {
              "outlinewidth": 0,
              "ticks": ""
             }
            },
            "type": "scatterpolar"
           }
          ],
          "scatterpolargl": [
           {
            "marker": {
             "colorbar": {
              "outlinewidth": 0,
              "ticks": ""
             }
            },
            "type": "scatterpolargl"
           }
          ],
          "scatterternary": [
           {
            "marker": {
             "colorbar": {
              "outlinewidth": 0,
              "ticks": ""
             }
            },
            "type": "scatterternary"
           }
          ],
          "surface": [
           {
            "colorbar": {
             "outlinewidth": 0,
             "ticks": ""
            },
            "colorscale": [
             [
              0,
              "#0d0887"
             ],
             [
              0.1111111111111111,
              "#46039f"
             ],
             [
              0.2222222222222222,
              "#7201a8"
             ],
             [
              0.3333333333333333,
              "#9c179e"
             ],
             [
              0.4444444444444444,
              "#bd3786"
             ],
             [
              0.5555555555555556,
              "#d8576b"
             ],
             [
              0.6666666666666666,
              "#ed7953"
             ],
             [
              0.7777777777777778,
              "#fb9f3a"
             ],
             [
              0.8888888888888888,
              "#fdca26"
             ],
             [
              1,
              "#f0f921"
             ]
            ],
            "type": "surface"
           }
          ],
          "table": [
           {
            "cells": {
             "fill": {
              "color": "#EBF0F8"
             },
             "line": {
              "color": "white"
             }
            },
            "header": {
             "fill": {
              "color": "#C8D4E3"
             },
             "line": {
              "color": "white"
             }
            },
            "type": "table"
           }
          ]
         },
         "layout": {
          "annotationdefaults": {
           "arrowcolor": "#2a3f5f",
           "arrowhead": 0,
           "arrowwidth": 1
          },
          "autotypenumbers": "strict",
          "coloraxis": {
           "colorbar": {
            "outlinewidth": 0,
            "ticks": ""
           }
          },
          "colorscale": {
           "diverging": [
            [
             0,
             "#8e0152"
            ],
            [
             0.1,
             "#c51b7d"
            ],
            [
             0.2,
             "#de77ae"
            ],
            [
             0.3,
             "#f1b6da"
            ],
            [
             0.4,
             "#fde0ef"
            ],
            [
             0.5,
             "#f7f7f7"
            ],
            [
             0.6,
             "#e6f5d0"
            ],
            [
             0.7,
             "#b8e186"
            ],
            [
             0.8,
             "#7fbc41"
            ],
            [
             0.9,
             "#4d9221"
            ],
            [
             1,
             "#276419"
            ]
           ],
           "sequential": [
            [
             0,
             "#0d0887"
            ],
            [
             0.1111111111111111,
             "#46039f"
            ],
            [
             0.2222222222222222,
             "#7201a8"
            ],
            [
             0.3333333333333333,
             "#9c179e"
            ],
            [
             0.4444444444444444,
             "#bd3786"
            ],
            [
             0.5555555555555556,
             "#d8576b"
            ],
            [
             0.6666666666666666,
             "#ed7953"
            ],
            [
             0.7777777777777778,
             "#fb9f3a"
            ],
            [
             0.8888888888888888,
             "#fdca26"
            ],
            [
             1,
             "#f0f921"
            ]
           ],
           "sequentialminus": [
            [
             0,
             "#0d0887"
            ],
            [
             0.1111111111111111,
             "#46039f"
            ],
            [
             0.2222222222222222,
             "#7201a8"
            ],
            [
             0.3333333333333333,
             "#9c179e"
            ],
            [
             0.4444444444444444,
             "#bd3786"
            ],
            [
             0.5555555555555556,
             "#d8576b"
            ],
            [
             0.6666666666666666,
             "#ed7953"
            ],
            [
             0.7777777777777778,
             "#fb9f3a"
            ],
            [
             0.8888888888888888,
             "#fdca26"
            ],
            [
             1,
             "#f0f921"
            ]
           ]
          },
          "colorway": [
           "#636efa",
           "#EF553B",
           "#00cc96",
           "#ab63fa",
           "#FFA15A",
           "#19d3f3",
           "#FF6692",
           "#B6E880",
           "#FF97FF",
           "#FECB52"
          ],
          "font": {
           "color": "#2a3f5f"
          },
          "geo": {
           "bgcolor": "white",
           "lakecolor": "white",
           "landcolor": "#E5ECF6",
           "showlakes": true,
           "showland": true,
           "subunitcolor": "white"
          },
          "hoverlabel": {
           "align": "left"
          },
          "hovermode": "closest",
          "mapbox": {
           "style": "light"
          },
          "paper_bgcolor": "white",
          "plot_bgcolor": "#E5ECF6",
          "polar": {
           "angularaxis": {
            "gridcolor": "white",
            "linecolor": "white",
            "ticks": ""
           },
           "bgcolor": "#E5ECF6",
           "radialaxis": {
            "gridcolor": "white",
            "linecolor": "white",
            "ticks": ""
           }
          },
          "scene": {
           "xaxis": {
            "backgroundcolor": "#E5ECF6",
            "gridcolor": "white",
            "gridwidth": 2,
            "linecolor": "white",
            "showbackground": true,
            "ticks": "",
            "zerolinecolor": "white"
           },
           "yaxis": {
            "backgroundcolor": "#E5ECF6",
            "gridcolor": "white",
            "gridwidth": 2,
            "linecolor": "white",
            "showbackground": true,
            "ticks": "",
            "zerolinecolor": "white"
           },
           "zaxis": {
            "backgroundcolor": "#E5ECF6",
            "gridcolor": "white",
            "gridwidth": 2,
            "linecolor": "white",
            "showbackground": true,
            "ticks": "",
            "zerolinecolor": "white"
           }
          },
          "shapedefaults": {
           "line": {
            "color": "#2a3f5f"
           }
          },
          "ternary": {
           "aaxis": {
            "gridcolor": "white",
            "linecolor": "white",
            "ticks": ""
           },
           "baxis": {
            "gridcolor": "white",
            "linecolor": "white",
            "ticks": ""
           },
           "bgcolor": "#E5ECF6",
           "caxis": {
            "gridcolor": "white",
            "linecolor": "white",
            "ticks": ""
           }
          },
          "title": {
           "x": 0.05
          },
          "xaxis": {
           "automargin": true,
           "gridcolor": "white",
           "linecolor": "white",
           "ticks": "",
           "title": {
            "standoff": 15
           },
           "zerolinecolor": "white",
           "zerolinewidth": 2
          },
          "yaxis": {
           "automargin": true,
           "gridcolor": "white",
           "linecolor": "white",
           "ticks": "",
           "title": {
            "standoff": 15
           },
           "zerolinecolor": "white",
           "zerolinewidth": 2
          }
         }
        }
       }
      }
     },
     "metadata": {},
     "output_type": "display_data"
    }
   ],
   "source": [
    "# Graficar los embedddings en 3D\n",
    "\n",
    "vecs, labels = reduce_dimensions(w2v_model,3)\n",
    "\n",
    "fig = px.scatter_3d(x=vecs[:MAX_WORDS,0], y=vecs[:MAX_WORDS,1], z=vecs[:MAX_WORDS,2],text=labels[:MAX_WORDS])\n",
    "fig.update_traces(marker_size = 2)\n",
    "fig.show() # esto para plotly en colab"
   ]
  },
  {
   "cell_type": "markdown",
   "metadata": {},
   "source": [
    "### 6 - Análisis gráfico\n",
    "Procedemos a analizar algunas de las imágenes que nos proporcionan las palabras vectorizadas en 2D y 3D:"
   ]
  },
  {
   "cell_type": "markdown",
   "metadata": {},
   "source": [
    "![alt text](image-1.png)"
   ]
  },
  {
   "cell_type": "markdown",
   "metadata": {},
   "source": [
    "En esta imagen podemos apreciar todas las palabras relacionadas con el covid guardando una cercanía notable. Curiosamente #toiletpaper esta muy lejana a las palabras toilet y paper. \n",
    "\n",
    "Es importante destacar que las gráficas son una simplificación de 200 puntos y que no cubren la totalidad del embedding utilizado. Quedan pendientes de realizar observaciones interesantes, como la representacion de los puntos que guardan menos relacion con uno dado, para apreciar las distancias entre ellos y otra algoritmia capaz de representar con mayor impacto clusters de puntos. Todo esto podría hacerse haciendo una selección de los puntos a graficar.\n",
    "\n",
    "Otra nota: estas operaciones de reducción de dimensiones e impresion de graficas han supuesto un tiempo y esfuerzo considerables para la CPU de mi computadora.\n",
    "\n",
    "### Conclusiones\n",
    "Este notebook aporta unas algoritmia muy sencilla para el análisis exploratorio de un set de datos de texto con el uso de embeddings. La representacion de relaciones semanticas entre palabras, tanto de forma textual como a través de un 'mapa' vectorizado de las palabras, supone una herramienta muy poderosa a la hora de comprender la estructura de un corpus."
   ]
  }
 ],
 "metadata": {
  "colab": {
   "collapsed_sections": [],
   "provenance": []
  },
  "kernelspec": {
   "display_name": "Python 3 (ipykernel)",
   "language": "python",
   "name": "python3"
  },
  "language_info": {
   "codemirror_mode": {
    "name": "ipython",
    "version": 3
   },
   "file_extension": ".py",
   "mimetype": "text/x-python",
   "name": "python",
   "nbconvert_exporter": "python",
   "pygments_lexer": "ipython3",
   "version": "3.10.0"
  }
 },
 "nbformat": 4,
 "nbformat_minor": 4
}
