{
 "cells": [
  {
   "cell_type": "markdown",
   "metadata": {
    "id": "sZd5yLnnHOK0"
   },
   "source": [
    "<img src=\"https://github.com/hernancontigiani/ceia_memorias_especializacion/raw/master/Figures/logoFIUBA.jpg\" width=\"500\" align=\"center\">\n",
    "\n",
    "\n",
    "# Procesamiento de lenguaje natural\n",
    "## Custom embedddings con Gensim\n",
    "\n"
   ]
  },
  {
   "cell_type": "markdown",
   "metadata": {
    "id": "vA7nqkumo9z9"
   },
   "source": [
    "### Objetivo\n",
    "El objetivo es utilizar documentos / corpus para crear embeddings de palabras basado en ese contexto. Se utilizará canciones de bandas para generar los embeddings, es decir, que los vectores tendrán la forma en función de como esa banda haya utilizado las palabras en sus canciones."
   ]
  },
  {
   "cell_type": "code",
   "execution_count": 20,
   "metadata": {
    "id": "lFToQs5FK5uZ"
   },
   "outputs": [],
   "source": [
    "import pandas as pd\n",
    "import matplotlib.pyplot as plt\n",
    "import seaborn as sns\n",
    "\n",
    "import multiprocessing\n",
    "from gensim.models import Word2Vec"
   ]
  },
  {
   "cell_type": "markdown",
   "metadata": {
    "id": "g07zJxG7H9vG"
   },
   "source": [
    "### Datos\n",
    "Utilizaremos como dataset canciones de bandas de habla inglesa."
   ]
  },
  {
   "cell_type": "code",
   "execution_count": 21,
   "metadata": {
    "id": "l7z4CSBfpR3X"
   },
   "outputs": [
    {
     "name": "stdout",
     "output_type": "stream",
     "text": [
      "El dataset ya se encuentra descargado\n"
     ]
    }
   ],
   "source": [
    "# Descargar la carpeta de dataset\n",
    "import os\n",
    "import platform\n",
    "if os.access('./songs_dataset', os.F_OK) is False:\n",
    "    if os.access('songs_dataset.zip', os.F_OK) is False:\n",
    "        if platform.system() == 'Windows':\n",
    "            !curl https://raw.githubusercontent.com/FIUBA-Posgrado-Inteligencia-Artificial/procesamiento_lenguaje_natural/main/datasets/songs_dataset.zip -o songs_dataset.zip\n",
    "        else:\n",
    "            !wget songs_dataset.zip https://github.com/FIUBA-Posgrado-Inteligencia-Artificial/procesamiento_lenguaje_natural/raw/main/datasets/songs_dataset.zip\n",
    "    !unzip -q songs_dataset.zip   \n",
    "else:\n",
    "    print(\"El dataset ya se encuentra descargado\")"
   ]
  },
  {
   "cell_type": "code",
   "execution_count": 22,
   "metadata": {
    "id": "mysGrIw9ljC2"
   },
   "outputs": [
    {
     "data": {
      "text/plain": [
       "['adele.txt',\n",
       " 'al-green.txt',\n",
       " 'alicia-keys.txt',\n",
       " 'amy-winehouse.txt',\n",
       " 'beatles.txt',\n",
       " 'bieber.txt',\n",
       " 'bjork.txt',\n",
       " 'blink-182.txt',\n",
       " 'bob-dylan.txt',\n",
       " 'bob-marley.txt',\n",
       " 'britney-spears.txt',\n",
       " 'bruce-springsteen.txt',\n",
       " 'bruno-mars.txt',\n",
       " 'cake.txt',\n",
       " 'dickinson.txt',\n",
       " 'disney.txt',\n",
       " 'dj-khaled.txt',\n",
       " 'dolly-parton.txt',\n",
       " 'dr-seuss.txt',\n",
       " 'drake.txt',\n",
       " 'eminem.txt',\n",
       " 'janisjoplin.txt',\n",
       " 'jimi-hendrix.txt',\n",
       " 'johnny-cash.txt',\n",
       " 'joni-mitchell.txt',\n",
       " 'kanye-west.txt',\n",
       " 'kanye.txt',\n",
       " 'Kanye_West.txt',\n",
       " 'lady-gaga.txt',\n",
       " 'leonard-cohen.txt',\n",
       " 'lil-wayne.txt',\n",
       " 'Lil_Wayne.txt',\n",
       " 'lin-manuel-miranda.txt',\n",
       " 'lorde.txt',\n",
       " 'ludacris.txt',\n",
       " 'michael-jackson.txt',\n",
       " 'missy-elliott.txt',\n",
       " 'nickelback.txt',\n",
       " 'nicki-minaj.txt',\n",
       " 'nirvana.txt',\n",
       " 'notorious-big.txt',\n",
       " 'notorious_big.txt',\n",
       " 'nursery_rhymes.txt',\n",
       " 'patti-smith.txt',\n",
       " 'paul-simon.txt',\n",
       " 'prince.txt',\n",
       " 'r-kelly.txt',\n",
       " 'radiohead.txt',\n",
       " 'rihanna.txt']"
      ]
     },
     "execution_count": 22,
     "metadata": {},
     "output_type": "execute_result"
    }
   ],
   "source": [
    "# Posibles bandas\n",
    "os.listdir(\"./songs_dataset/\")"
   ]
  },
  {
   "cell_type": "code",
   "execution_count": 23,
   "metadata": {
    "id": "ticoqYD1Z3I7"
   },
   "outputs": [
    {
     "name": "stderr",
     "output_type": "stream",
     "text": [
      "C:\\Users\\Lorda\\AppData\\Local\\Temp\\ipykernel_29540\\3849064916.py:2: ParserWarning: Falling back to the 'python' engine because the 'c' engine does not support regex separators (separators > 1 char and different from '\\s+' are interpreted as regex); you can avoid this warning by specifying engine='python'.\n",
      "  df = pd.read_csv('songs_dataset/beatles.txt', sep='/n', header=None)\n"
     ]
    },
    {
     "data": {
      "text/html": [
       "<div>\n",
       "<style scoped>\n",
       "    .dataframe tbody tr th:only-of-type {\n",
       "        vertical-align: middle;\n",
       "    }\n",
       "\n",
       "    .dataframe tbody tr th {\n",
       "        vertical-align: top;\n",
       "    }\n",
       "\n",
       "    .dataframe thead th {\n",
       "        text-align: right;\n",
       "    }\n",
       "</style>\n",
       "<table border=\"1\" class=\"dataframe\">\n",
       "  <thead>\n",
       "    <tr style=\"text-align: right;\">\n",
       "      <th></th>\n",
       "      <th>0</th>\n",
       "    </tr>\n",
       "  </thead>\n",
       "  <tbody>\n",
       "    <tr>\n",
       "      <th>0</th>\n",
       "      <td>Yesterday, all my troubles seemed so far away</td>\n",
       "    </tr>\n",
       "    <tr>\n",
       "      <th>1</th>\n",
       "      <td>Now it looks as though they're here to stay</td>\n",
       "    </tr>\n",
       "    <tr>\n",
       "      <th>2</th>\n",
       "      <td>Oh, I believe in yesterday Suddenly, I'm not h...</td>\n",
       "    </tr>\n",
       "    <tr>\n",
       "      <th>3</th>\n",
       "      <td>There's a shadow hanging over me.</td>\n",
       "    </tr>\n",
       "    <tr>\n",
       "      <th>4</th>\n",
       "      <td>Oh, yesterday came suddenly Why she had to go ...</td>\n",
       "    </tr>\n",
       "  </tbody>\n",
       "</table>\n",
       "</div>"
      ],
      "text/plain": [
       "                                                   0\n",
       "0      Yesterday, all my troubles seemed so far away\n",
       "1        Now it looks as though they're here to stay\n",
       "2  Oh, I believe in yesterday Suddenly, I'm not h...\n",
       "3                  There's a shadow hanging over me.\n",
       "4  Oh, yesterday came suddenly Why she had to go ..."
      ]
     },
     "execution_count": 23,
     "metadata": {},
     "output_type": "execute_result"
    }
   ],
   "source": [
    "# Armar el dataset utilizando salto de línea para separar las oraciones/docs\n",
    "df = pd.read_csv('songs_dataset/beatles.txt', sep='/n', header=None)\n",
    "df.head()"
   ]
  },
  {
   "cell_type": "code",
   "execution_count": 24,
   "metadata": {
    "id": "LEpKubK9XzXN"
   },
   "outputs": [
    {
     "name": "stdout",
     "output_type": "stream",
     "text": [
      "Cantidad de documentos: 1846\n"
     ]
    }
   ],
   "source": [
    "print(\"Cantidad de documentos:\", df.shape[0])"
   ]
  },
  {
   "cell_type": "markdown",
   "metadata": {
    "id": "ab94qaFlrA1G"
   },
   "source": [
    "### 1 - Preprocesamiento"
   ]
  },
  {
   "cell_type": "code",
   "execution_count": 25,
   "metadata": {
    "id": "rIsmMWmjrDHd"
   },
   "outputs": [],
   "source": [
    "from keras_preprocessing.text import text_to_word_sequence\n",
    "\n",
    "sentence_tokens = []\n",
    "# Recorrer todas las filas y transformar las oraciones\n",
    "# en una secuencia de palabras (esto podría realizarse con NLTK o spaCy también)\n",
    "for _, row in df[:None].iterrows():\n",
    "    sentence_tokens.append(text_to_word_sequence(row[0]))"
   ]
  },
  {
   "cell_type": "code",
   "execution_count": 26,
   "metadata": {
    "id": "CHepi_DGrbhq"
   },
   "outputs": [
    {
     "data": {
      "text/plain": [
       "[['yesterday', 'all', 'my', 'troubles', 'seemed', 'so', 'far', 'away'],\n",
       " ['now', 'it', 'looks', 'as', 'though', \"they're\", 'here', 'to', 'stay']]"
      ]
     },
     "execution_count": 26,
     "metadata": {},
     "output_type": "execute_result"
    }
   ],
   "source": [
    "# Demos un vistazo\n",
    "sentence_tokens[:2]"
   ]
  },
  {
   "cell_type": "markdown",
   "metadata": {
    "id": "BaXV6nlHr5Aa"
   },
   "source": [
    "### 2 - Crear los vectores (word2vec)"
   ]
  },
  {
   "cell_type": "code",
   "execution_count": 27,
   "metadata": {
    "id": "OSb0v7h8r7hK"
   },
   "outputs": [],
   "source": [
    "from gensim.models.callbacks import CallbackAny2Vec\n",
    "# Durante el entrenamiento gensim por defecto no informa el \"loss\" en cada época\n",
    "# Sobrecargamos el callback para poder tener esta información\n",
    "class callback(CallbackAny2Vec):\n",
    "    \"\"\"\n",
    "    Callback to print loss after each epoch\n",
    "    \"\"\"\n",
    "    def __init__(self):\n",
    "        self.epoch = 0\n",
    "\n",
    "    def on_epoch_end(self, model):\n",
    "        loss = model.get_latest_training_loss()\n",
    "        if self.epoch == 0:\n",
    "            print('Loss after epoch {}: {}'.format(self.epoch, loss))\n",
    "        else:\n",
    "            print('Loss after epoch {}: {}'.format(self.epoch, loss- self.loss_previous_step))\n",
    "        self.epoch += 1\n",
    "        self.loss_previous_step = loss"
   ]
  },
  {
   "cell_type": "code",
   "execution_count": 28,
   "metadata": {
    "id": "i0wnDdv9sJ47"
   },
   "outputs": [],
   "source": [
    "# Crearmos el modelo generador de vectores\n",
    "# En este caso utilizaremos la estructura modelo Skipgram\n",
    "w2v_model = Word2Vec(min_count=5,    # frecuencia mínima de palabra para incluirla en el vocabulario\n",
    "                     window=2,       # cant de palabras antes y desp de la predicha\n",
    "                     vector_size=300,       # dimensionalidad de los vectores \n",
    "                     negative=20,    # cantidad de negative samples... 0 es no se usa\n",
    "                     workers=1,      # si tienen más cores pueden cambiar este valor\n",
    "                     sg=1)           # modelo 0:CBOW  1:skipgram"
   ]
  },
  {
   "cell_type": "code",
   "execution_count": 29,
   "metadata": {
    "id": "5lTt8wErsf17"
   },
   "outputs": [],
   "source": [
    "# Obtener el vocabulario con los tokens\n",
    "w2v_model.build_vocab(sentence_tokens)"
   ]
  },
  {
   "cell_type": "code",
   "execution_count": 30,
   "metadata": {
    "id": "TNc9qt4os5AT"
   },
   "outputs": [
    {
     "name": "stdout",
     "output_type": "stream",
     "text": [
      "Cantidad de docs en el corpus: 1846\n"
     ]
    }
   ],
   "source": [
    "# Cantidad de filas/docs encontradas en el corpus\n",
    "print(\"Cantidad de docs en el corpus:\", w2v_model.corpus_count)"
   ]
  },
  {
   "cell_type": "code",
   "execution_count": 31,
   "metadata": {
    "id": "idw9cHF3tSMl"
   },
   "outputs": [
    {
     "name": "stdout",
     "output_type": "stream",
     "text": [
      "Cantidad de words distintas en el corpus: 445\n"
     ]
    }
   ],
   "source": [
    "# Cantidad de words encontradas en el corpus\n",
    "print(\"Cantidad de words distintas en el corpus:\", len(w2v_model.wv.index_to_key))"
   ]
  },
  {
   "cell_type": "markdown",
   "metadata": {
    "id": "fC9mZ8DPk-UC"
   },
   "source": [
    "### 3 - Entrenar embeddings"
   ]
  },
  {
   "cell_type": "code",
   "execution_count": 32,
   "metadata": {
    "id": "QSp-x0PAsq56"
   },
   "outputs": [
    {
     "name": "stdout",
     "output_type": "stream",
     "text": [
      "Loss after epoch 0: 113208.15625\n",
      "Loss after epoch 1: 65953.953125\n",
      "Loss after epoch 2: 65934.265625\n",
      "Loss after epoch 3: 65711.96875\n",
      "Loss after epoch 4: 63872.5\n",
      "Loss after epoch 5: 64142.46875\n",
      "Loss after epoch 6: 64058.8125\n",
      "Loss after epoch 7: 64755.4375\n",
      "Loss after epoch 8: 62585.5625\n",
      "Loss after epoch 9: 60415.25\n",
      "Loss after epoch 10: 59823.625\n",
      "Loss after epoch 11: 58930.1875\n",
      "Loss after epoch 12: 57726.4375\n",
      "Loss after epoch 13: 56493.125\n",
      "Loss after epoch 14: 55842.5625\n",
      "Loss after epoch 15: 55862.5\n",
      "Loss after epoch 16: 51695.8125\n",
      "Loss after epoch 17: 49815.5\n",
      "Loss after epoch 18: 49568.125\n",
      "Loss after epoch 19: 48959.75\n"
     ]
    },
    {
     "data": {
      "text/plain": [
       "(156986, 287740)"
      ]
     },
     "execution_count": 32,
     "metadata": {},
     "output_type": "execute_result"
    }
   ],
   "source": [
    "# Entrenamos el modelo generador de vectores\n",
    "# Utilizamos nuestro callback\n",
    "w2v_model.train(sentence_tokens,\n",
    "                 total_examples=w2v_model.corpus_count,\n",
    "                 epochs=20,\n",
    "                 compute_loss = True,\n",
    "                 callbacks=[callback()]\n",
    "                 )"
   ]
  },
  {
   "cell_type": "markdown",
   "metadata": {
    "id": "ddT9NVuNlCAe"
   },
   "source": [
    "### 4 - Ensayar"
   ]
  },
  {
   "cell_type": "code",
   "execution_count": 33,
   "metadata": {
    "id": "6cHN9xGLuPEm"
   },
   "outputs": [
    {
     "data": {
      "text/plain": [
       "[('pretty', 0.9087147116661072),\n",
       " ('sleep', 0.8649678230285645),\n",
       " ('help', 0.8594305515289307),\n",
       " ('try', 0.8456019759178162),\n",
       " ('cry', 0.8387227654457092),\n",
       " ('little', 0.8273633718490601),\n",
       " ('not', 0.8181102871894836),\n",
       " ('seems', 0.8175203204154968),\n",
       " ('twist', 0.8154979348182678),\n",
       " ('peace', 0.812263011932373)]"
      ]
     },
     "execution_count": 33,
     "metadata": {},
     "output_type": "execute_result"
    }
   ],
   "source": [
    "# Palabras que MÁS se relacionan con...:\n",
    "w2v_model.wv.most_similar(positive=[\"darling\"], topn=10)"
   ]
  },
  {
   "cell_type": "code",
   "execution_count": 34,
   "metadata": {
    "id": "47HiU5gdkdMq"
   },
   "outputs": [
    {
     "data": {
      "text/plain": [
       "[('shake', -0.21786975860595703),\n",
       " ('our', -0.24495810270309448),\n",
       " ('come', -0.2613270878791809),\n",
       " ('on', -0.26722386479377747),\n",
       " ('bang', -0.27329546213150024),\n",
       " ('five', -0.2741836607456207),\n",
       " ('six', -0.2774038314819336),\n",
       " ('baby', -0.2776353061199188),\n",
       " ('work', -0.2790372967720032),\n",
       " ('four', -0.2792743146419525)]"
      ]
     },
     "execution_count": 34,
     "metadata": {},
     "output_type": "execute_result"
    }
   ],
   "source": [
    "# Palabras que MENOS se relacionan con...:\n",
    "w2v_model.wv.most_similar(negative=[\"love\"], topn=10)"
   ]
  },
  {
   "cell_type": "code",
   "execution_count": 35,
   "metadata": {
    "id": "DT4Rvno2mD65"
   },
   "outputs": [
    {
     "data": {
      "text/plain": [
       "[('five', 0.9786694049835205),\n",
       " ('three', 0.9761051535606384),\n",
       " ('six', 0.966891348361969),\n",
       " ('two', 0.9565720558166504),\n",
       " ('seven', 0.954232931137085),\n",
       " ('sixty', 0.9003373980522156),\n",
       " ('one', 0.816501259803772),\n",
       " ('us', 0.7762899398803711),\n",
       " ('crying', 0.772737979888916),\n",
       " ('strawberry', 0.7672452330589294)]"
      ]
     },
     "execution_count": 35,
     "metadata": {},
     "output_type": "execute_result"
    }
   ],
   "source": [
    "# Palabras que MÁS se relacionan con...:\n",
    "w2v_model.wv.most_similar(positive=[\"four\"], topn=10)"
   ]
  },
  {
   "cell_type": "code",
   "execution_count": 36,
   "metadata": {
    "id": "XPLDPgzBmQXt"
   },
   "outputs": [
    {
     "data": {
      "text/plain": [
       "[(\"can't\", 0.9409592747688293),\n",
       " ('buy', 0.9399508237838745),\n",
       " ('much', 0.8996850848197937),\n",
       " ('hide', 0.8465201258659363),\n",
       " ('just', 0.8415144085884094)]"
      ]
     },
     "execution_count": 36,
     "metadata": {},
     "output_type": "execute_result"
    }
   ],
   "source": [
    "# Palabras que MÁS se relacionan con...:\n",
    "w2v_model.wv.most_similar(positive=[\"money\"], topn=5)"
   ]
  },
  {
   "cell_type": "code",
   "execution_count": 37,
   "metadata": {
    "id": "L_UvHPMMklOr"
   },
   "outputs": [
    {
     "name": "stdout",
     "output_type": "stream",
     "text": [
      "termino no encontrado, como se esperaba: -> \"Key 'diedaa' not present in vocabulary\"\n"
     ]
    }
   ],
   "source": [
    "try:\n",
    "    # Ensayar con una palabra que no está en el vocabulario:\n",
    "    w2v_model.wv.most_similar(negative=[\"diedaa\"])\n",
    "    # Si no falla, lanzar una excepción manualmente (opcional)\n",
    "    raise Exception(\"Este código debería haber fallado, pero no lo hizo.\")\n",
    "except KeyError as e:\n",
    "    print(f\"termino no encontrado, como se esperaba: -> {e}\")\n"
   ]
  },
  {
   "cell_type": "code",
   "execution_count": 38,
   "metadata": {},
   "outputs": [
    {
     "name": "stdout",
     "output_type": "stream",
     "text": [
      "[ 0.17736822  0.21460655 -0.05408018  0.06707036  0.13059464 -0.25713933\n",
      "  0.00711611  0.26743424 -0.03100746  0.259963    0.21179457 -0.08465387\n",
      " -0.26272097  0.308386   -0.07934437 -0.13357355  0.2994755   0.18062147\n",
      " -0.13111673 -0.11857472  0.03468326  0.1125607   0.08478875  0.08090881\n",
      " -0.17622267  0.03122034 -0.08725598  0.23746666 -0.11507358 -0.29119617\n",
      " -0.03650665 -0.3322312   0.23262788  0.10366543 -0.18365337  0.08299578\n",
      "  0.14315338 -0.19761457 -0.00757894  0.1119568  -0.10421463 -0.13083619\n",
      " -0.03264419 -0.04687435  0.11330808  0.10231452 -0.16202034 -0.10347028\n",
      "  0.03659901 -0.08524423 -0.34872082 -0.02154255  0.25938764  0.16540806\n",
      "  0.0310861   0.09505633  0.24452917 -0.09859891  0.18298703  0.0645447\n",
      "  0.016967   -0.3259168  -0.04774074 -0.05418535 -0.04338397 -0.09137302\n",
      "  0.00889874  0.11636022 -0.25662988  0.05426472  0.08915784  0.04541444\n",
      "  0.20835714 -0.19101828  0.32210803  0.19337991  0.09080223 -0.00362429\n",
      " -0.18664253 -0.07053486 -0.1213743  -0.03477469 -0.15798187  0.39070287\n",
      " -0.06144987  0.11083187 -0.16213974 -0.24604863  0.15004653  0.41447446\n",
      " -0.02289782 -0.17896852 -0.07827526 -0.22193784  0.02855509  0.48533952\n",
      "  0.04447097  0.12464199 -0.04169935  0.1982593  -0.15919553 -0.08606501\n",
      "  0.1320642   0.07071835  0.30667147  0.08809892 -0.19750106  0.23502588\n",
      " -0.07388738  0.04295443 -0.24779157 -0.28854167 -0.4401632   0.00458563\n",
      " -0.07824975  0.18824083  0.05077408 -0.05739668  0.15620743 -0.48762608\n",
      "  0.1922928   0.08314091  0.04989756  0.02644576 -0.06825414  0.35304525\n",
      "  0.17191295 -0.16261117 -0.2936474   0.29585826  0.34883434  0.13242614\n",
      "  0.20136862 -0.45008007  0.10677742  0.29548344  0.05580255 -0.10513617\n",
      " -0.18692017 -0.00885901  0.01701376 -0.16563897 -0.11337513  0.06720471\n",
      "  0.15243004 -0.00960089 -0.0473961  -0.08677159 -0.07125839  0.16441917\n",
      "  0.00310922 -0.36776385  0.08532935  0.06346983 -0.02668795  0.22113207\n",
      " -0.2441667   0.02439994 -0.00925008  0.23633759 -0.10890642  0.11366176\n",
      " -0.0994612   0.21860765  0.01365219  0.01017555 -0.1882097   0.25845018\n",
      "  0.30251107  0.03778573  0.206645    0.22037302  0.16829754  0.04512674\n",
      "  0.01971447 -0.36934844  0.0328729  -0.20335236  0.12939689  0.04162559\n",
      "  0.02085797 -0.10500363 -0.17457162 -0.28335714 -0.08274048 -0.04555536\n",
      " -0.11861075 -0.03437103  0.0255297  -0.2554016   0.17146216  0.05093628\n",
      "  0.0917547  -0.06427904 -0.16107002  0.19086204 -0.10930005 -0.18050742\n",
      " -0.06337117  0.01224837 -0.09302392  0.22475737  0.30700293 -0.26619977\n",
      "  0.2305236   0.00149169  0.13293476  0.02429233  0.07883647 -0.09135374\n",
      " -0.17123872 -0.3664065   0.3834617  -0.21642369  0.30520016 -0.05142065\n",
      " -0.36278993 -0.23481902  0.05347933 -0.33067894 -0.01501467  0.07849759\n",
      "  0.01582254 -0.111112    0.25853142 -0.1510902   0.07833586  0.03887907\n",
      "  0.06565052 -0.10252414 -0.02964626 -0.17363134  0.01443172  0.14266178\n",
      " -0.2042187   0.03214323 -0.1629491   0.23105827 -0.08103111 -0.07967328\n",
      "  0.13010906 -0.15625998  0.0689413  -0.03020397 -0.04729844 -0.24360013\n",
      "  0.2185359  -0.0347794   0.05899534  0.17103592  0.02150829  0.2957355\n",
      "  0.11162414 -0.16905093 -0.18563178 -0.19697626  0.3415001   0.18426846\n",
      " -0.20898484 -0.06920402  0.02646237 -0.33699226  0.0361828  -0.02290664\n",
      " -0.04528077 -0.02644458  0.27353263  0.2873995  -0.03061444  0.13751149\n",
      "  0.05503082  0.02680384  0.05629698  0.03125441  0.27008575  0.18144625\n",
      "  0.04076385  0.18558657 -0.10238926 -0.05794458  0.04535891 -0.09978388\n",
      " -0.17145762 -0.15288326  0.09159966  0.05247529  0.00280528  0.00947132\n",
      "  0.23113796  0.0304687   0.11368281  0.35986233  0.15569495 -0.02521801\n",
      "  0.35871565  0.3222857   0.00839845  0.1805266   0.1312731  -0.31311095]\n"
     ]
    }
   ],
   "source": [
    "# el método `get_vector` permite obtener los vectores:\n",
    "vector_love = w2v_model.wv.get_vector(\"love\")\n",
    "print(vector_love)"
   ]
  },
  {
   "cell_type": "code",
   "execution_count": 39,
   "metadata": {},
   "outputs": [
    {
     "data": {
      "text/plain": [
       "[('love', 1.0),\n",
       " ('babe', 0.9132986068725586),\n",
       " ('someone', 0.8914992809295654),\n",
       " ('nothing', 0.8811879754066467),\n",
       " ('need', 0.8758756518363953),\n",
       " (\"didn't\", 0.8689683079719543),\n",
       " (\"there's\", 0.8557919859886169),\n",
       " ('you', 0.8447725772857666),\n",
       " ('feed', 0.8422104716300964),\n",
       " ('somebody', 0.8385539054870605)]"
      ]
     },
     "execution_count": 39,
     "metadata": {},
     "output_type": "execute_result"
    }
   ],
   "source": [
    "# el método `most_similar` también permite comparar a partir de vectores\n",
    "w2v_model.wv.most_similar(vector_love)"
   ]
  },
  {
   "cell_type": "code",
   "execution_count": 40,
   "metadata": {},
   "outputs": [
    {
     "data": {
      "text/plain": [
       "[('babe', 0.9132986068725586),\n",
       " ('someone', 0.8914992809295654),\n",
       " ('nothing', 0.8811879754066467),\n",
       " ('need', 0.8758756518363953),\n",
       " (\"didn't\", 0.8689682483673096),\n",
       " (\"there's\", 0.8557919859886169),\n",
       " ('you', 0.8447725772857666),\n",
       " ('feed', 0.8422104716300964),\n",
       " ('somebody', 0.8385538458824158),\n",
       " ('hope', 0.8361446261405945)]"
      ]
     },
     "execution_count": 40,
     "metadata": {},
     "output_type": "execute_result"
    }
   ],
   "source": [
    "# Palabras que MÁS se relacionan con...:\n",
    "w2v_model.wv.most_similar(positive=[\"love\"], topn=10)"
   ]
  },
  {
   "cell_type": "markdown",
   "metadata": {
    "id": "_g8UVWe6lFmh"
   },
   "source": [
    "### 5 - Visualizar agrupación de vectores"
   ]
  },
  {
   "cell_type": "code",
   "execution_count": 41,
   "metadata": {
    "id": "pDxEVXAivjr9"
   },
   "outputs": [],
   "source": [
    "from sklearn.decomposition import IncrementalPCA    \n",
    "from sklearn.manifold import TSNE                   \n",
    "import numpy as np                                  \n",
    "\n",
    "def reduce_dimensions(model, num_dimensions = 2 ):\n",
    "     \n",
    "    vectors = np.asarray(model.wv.vectors)\n",
    "    labels = np.asarray(model.wv.index_to_key)  \n",
    "\n",
    "    tsne = TSNE(n_components=num_dimensions, random_state=0)\n",
    "    vectors = tsne.fit_transform(vectors)\n",
    "\n",
    "    return vectors, labels"
   ]
  },
  {
   "cell_type": "code",
   "execution_count": 42,
   "metadata": {
    "id": "NCCXtDpcugmd"
   },
   "outputs": [
    {
     "data": {
      "application/vnd.plotly.v1+json": {
       "config": {
        "plotlyServerURL": "https://plot.ly"
       },
       "data": [
        {
         "hovertemplate": "x=%{x}<br>y=%{y}<br>text=%{text}<extra></extra>",
         "legendgroup": "",
         "marker": {
          "color": "#636efa",
          "symbol": "circle"
         },
         "mode": "markers+text",
         "name": "",
         "orientation": "v",
         "showlegend": false,
         "text": [
          "you",
          "i",
          "the",
          "to",
          "and",
          "love",
          "a",
          "me",
          "in",
          "all",
          "nah",
          "my",
          "it",
          "know",
          "that",
          "be",
          "on",
          "of",
          "she",
          "is",
          "say",
          "now",
          "oh",
          "your",
          "yeah",
          "get",
          "don't",
          "back",
          "with",
          "let",
          "her",
          "can",
          "it's",
          "do",
          "when",
          "come",
          "i'm",
          "will",
          "he",
          "but",
          "for",
          "so",
          "there",
          "need",
          "like",
          "together",
          "no",
          "i'll",
          "see",
          "we",
          "was",
          "never",
          "down",
          "if",
          "way",
          "want",
          "hey",
          "out",
          "one",
          "got",
          "can't",
          "girl",
          "well",
          "good",
          "go",
          "sun",
          "his",
          "hello",
          "home",
          "they",
          "day",
          "are",
          "ah",
          "right",
          "from",
          "little",
          "at",
          "man",
          "help",
          "here",
          "have",
          "gonna",
          "not",
          "world",
          "what",
          "going",
          "how",
          "please",
          "still",
          "too",
          "just",
          "you're",
          "time",
          "as",
          "make",
          "long",
          "yes",
          "yellow",
          "life",
          "once",
          "sky",
          "been",
          "think",
          "tell",
          "why",
          "only",
          "where",
          "people",
          "she's",
          "eyes",
          "jude",
          "take",
          "submarine",
          "up",
          "hold",
          "goodbye",
          "give",
          "nowhere",
          "sing",
          "look",
          "friends",
          "always",
          "hand",
          "boy",
          "we're",
          "am",
          "away",
          "darling",
          "goo",
          "nothing",
          "should",
          "lonely",
          "could",
          "feel",
          "some",
          "night",
          "comes",
          "had",
          "would",
          "better",
          "head",
          "them",
          "four",
          "buy",
          "more",
          "i've",
          "la",
          "mind",
          "two",
          "this",
          "everything",
          "carry",
          "by",
          "our",
          "sunshine",
          "weight",
          "change",
          "us",
          "lucy",
          "birthday",
          "an",
          "true",
          "you'll",
          "every",
          "pretty",
          "three",
          "diamonds",
          "before",
          "believe",
          "these",
          "i'd",
          "words",
          "mm",
          "work",
          "dear",
          "leave",
          "were",
          "mine",
          "there's",
          "nobody",
          "told",
          "money",
          "bom",
          "said",
          "forever",
          "round",
          "children",
          "'cause",
          "something",
          "about",
          "waiting",
          "standing",
          "who",
          "didn't",
          "try",
          "loves",
          "then",
          "hide",
          "saw",
          "prudence"
         ],
         "type": "scatter",
         "x": [
          -20.098031997680664,
          -23.241252899169922,
          10.599369049072266,
          -4.141310691833496,
          1.535334587097168,
          -19.511505126953125,
          14.54468059539795,
          -15.259233474731445,
          12.740609169006348,
          4.595391750335693,
          -20.67905044555664,
          4.950980186462402,
          -8.791030883789062,
          -22.075225830078125,
          -4.504542827606201,
          -12.044578552246094,
          -4.585930824279785,
          15.101913452148438,
          -8.445834159851074,
          6.916409969329834,
          -24.24263572692871,
          4.7081708908081055,
          -22.66837501525879,
          -24.2126522064209,
          -9.60860824584961,
          -1.070272445678711,
          -22.061372756958008,
          -0.6972007155418396,
          13.97060489654541,
          -13.1260347366333,
          -9.865823745727539,
          -15.469243049621582,
          -11.165509223937988,
          -21.739002227783203,
          -20.764854431152344,
          -4.702123165130615,
          13.863381385803223,
          -16.88241958618164,
          -9.080286979675293,
          -13.86025333404541,
          -2.5704314708709717,
          -19.11312484741211,
          1.3754922151565552,
          -18.465791702270508,
          -12.95720100402832,
          4.909547328948975,
          -21.17572593688965,
          -17.6959171295166,
          -15.531892776489258,
          22.941234588623047,
          1.2141672372817993,
          -19.306884765625,
          -12.71072769165039,
          -17.306413650512695,
          2.0868630409240723,
          -23.14772605895996,
          -19.927215576171875,
          -6.471672534942627,
          21.21146011352539,
          -15.608968734741211,
          -18.623205184936523,
          12.202789306640625,
          -6.235633850097656,
          11.894232749938965,
          9.031259536743164,
          19.32733154296875,
          13.385213851928711,
          -25.552827835083008,
          -0.1111128106713295,
          0.6057385802268982,
          12.446290969848633,
          0.05407266318798065,
          5.509104251861572,
          4.218850612640381,
          10.245737075805664,
          10.844969749450684,
          6.744581699371338,
          15.850030899047852,
          9.908499717712402,
          19.319074630737305,
          1.0834569931030273,
          -1.6562137603759766,
          -10.731147766113281,
          -0.12692128121852875,
          -21.593883514404297,
          11.660299301147461,
          -12.445858001708984,
          -13.363637924194336,
          -17.477001190185547,
          -5.9864020347595215,
          -14.547588348388672,
          -2.7495386600494385,
          -4.3810882568359375,
          0.9739589691162109,
          -15.750589370727539,
          -3.396291494369507,
          -11.874670028686523,
          23.6202392578125,
          7.676021575927734,
          0.3613610863685608,
          15.054370880126953,
          6.812648296356201,
          -20.44826316833496,
          -18.46597671508789,
          -23.8455867767334,
          6.342366695404053,
          0.19443945586681366,
          18.650554656982422,
          12.561453819274902,
          12.593424797058105,
          -19.85283088684082,
          -11.516471862792969,
          23.621957778930664,
          12.730164527893066,
          -23.229244232177734,
          -25.324459075927734,
          -16.726991653442383,
          16.519649505615234,
          -16.555919647216797,
          6.583200454711914,
          9.908554077148438,
          -11.064772605895996,
          -23.98306655883789,
          -2.9661223888397217,
          7.923530101776123,
          -11.362548828125,
          -8.236896514892578,
          6.603123188018799,
          21.202903747558594,
          -19.030338287353516,
          -19.93023109436035,
          19.17557716369629,
          -20.095067977905273,
          -16.615482330322266,
          2.7513375282287598,
          9.92837142944336,
          19.328102111816406,
          0.53589928150177,
          -15.64484977722168,
          -16.281661987304688,
          12.527002334594727,
          2.630828619003296,
          19.221208572387695,
          -18.649394989013672,
          -17.42373275756836,
          -12.738662719726562,
          2.9118268489837646,
          6.543145656585693,
          20.317073822021484,
          6.7564167976379395,
          -14.43742847442627,
          -2.73427152633667,
          13.769132614135742,
          2.946756601333618,
          12.236583709716797,
          -3.0138914585113525,
          -0.8344027996063232,
          10.885174751281738,
          14.485780715942383,
          -11.908881187438965,
          -8.373292922973633,
          -11.028192520141602,
          -18.487672805786133,
          10.707005500793457,
          5.84440279006958,
          19.808202743530273,
          14.371532440185547,
          -4.140927791595459,
          -19.405466079711914,
          5.897326469421387,
          -6.399306297302246,
          -9.144805908203125,
          0.8708595037460327,
          -6.572348594665527,
          5.449624538421631,
          -11.994267463684082,
          1.5028237104415894,
          1.5868054628372192,
          -14.618226051330566,
          -3.196709156036377,
          -19.58802604675293,
          -18.41842269897461,
          19.9103946685791,
          -0.494225412607193,
          9.812559127807617,
          4.216379165649414,
          9.832243919372559,
          13.362858772277832,
          -0.7293468117713928,
          -5.316551685333252,
          7.334109306335449,
          9.140494346618652,
          15.882675170898438,
          -17.677398681640625,
          4.084456443786621,
          -9.191449165344238,
          -1.2553505897521973,
          -15.304944038391113,
          -9.914794921875,
          5.51270866394043
         ],
         "xaxis": "x",
         "y": [
          -7.979539394378662,
          -1.1025832891464233,
          -9.405733108520508,
          10.891836166381836,
          1.4511048793792725,
          -9.904731750488281,
          -5.575183868408203,
          -8.959246635437012,
          -11.4971284866333,
          -19.81577491760254,
          10.021918296813965,
          -14.956489562988281,
          15.250765800476074,
          1.631832242012024,
          -11.04734992980957,
          11.50277328491211,
          17.516347885131836,
          -8.169983863830566,
          -8.078691482543945,
          -10.806902885437012,
          0.7318602800369263,
          -19.957401275634766,
          -3.700021266937256,
          -10.431509971618652,
          -9.02854061126709,
          20.79775047302246,
          2.5466623306274414,
          20.990022659301758,
          -13.714768409729004,
          10.538986206054688,
          4.078627109527588,
          -1.4648083448410034,
          -5.267138957977295,
          -5.043247222900391,
          -6.496139049530029,
          17.523557662963867,
          12.68328857421875,
          -10.30513858795166,
          0.5523874163627625,
          0.17803162336349487,
          -11.429170608520508,
          -4.646899700164795,
          24.29407501220703,
          -10.336112976074219,
          -8.600811958312988,
          -20.80152702331543,
          -2.747715950012207,
          -1.4029295444488525,
          -4.007735729217529,
          -4.059896469116211,
          23.869216918945312,
          -1.932061791419983,
          9.769942283630371,
          -4.763154983520508,
          21.09721565246582,
          -9.973394393920898,
          9.424589157104492,
          16.214683532714844,
          13.152938842773438,
          4.837341785430908,
          -14.80166244506836,
          -0.7613058686256409,
          7.750172138214111,
          21.003978729248047,
          20.658536911010742,
          19.760086059570312,
          -8.402947425842285,
          1.1383938789367676,
          20.414323806762695,
          5.602933883666992,
          21.052358627319336,
          -4.639257431030273,
          13.116364479064941,
          -20.86834716796875,
          -16.896377563476562,
          -16.783130645751953,
          13.181828498840332,
          0.39068683981895447,
          -17.71661376953125,
          19.76238441467285,
          -5.350039958953857,
          -15.310956001281738,
          -11.826875686645508,
          -16.4191951751709,
          -1.4230822324752808,
          14.506895065307617,
          -0.4894569516181946,
          -9.843426704406738,
          -10.340545654296875,
          -11.65954875946045,
          3.947385549545288,
          -16.378366470336914,
          -11.881830215454102,
          -3.024841547012329,
          8.99476146697998,
          -12.917333602905273,
          -16.294410705566406,
          -5.793867588043213,
          -13.711387634277344,
          22.940473556518555,
          -13.459707260131836,
          -0.8085051774978638,
          -1.7103644609451294,
          -6.972315311431885,
          1.4995979070663452,
          2.0117383003234863,
          22.079744338989258,
          -5.734673023223877,
          0.483615517616272,
          -10.277212142944336,
          9.418573379516602,
          8.558547019958496,
          -5.788735866546631,
          -6.7058844566345215,
          -11.090048789978027,
          1.1249558925628662,
          3.43595814704895,
          -1.4296536445617676,
          13.877514839172363,
          13.176064491271973,
          -17.10895538330078,
          13.164484977722168,
          -10.445382118225098,
          -16.530698776245117,
          8.405000686645508,
          -16.375774383544922,
          2.3953850269317627,
          17.198570251464844,
          6.900873184204102,
          -8.337940216064453,
          2.3158178329467773,
          -5.8400726318359375,
          0.033891841769218445,
          0.8714679479598999,
          -5.487584590911865,
          -1.6913549900054932,
          19.757301330566406,
          10.019041061401367,
          -2.2478179931640625,
          8.994843482971191,
          -9.002882957458496,
          2.5938992500305176,
          13.265645980834961,
          -14.747565269470215,
          5.6912055015563965,
          3.525653600692749,
          11.464210510253906,
          -14.194188117980957,
          13.045074462890625,
          1.4641098976135254,
          2.5137033462524414,
          -15.037650108337402,
          -4.769598007202148,
          20.992870330810547,
          21.034320831298828,
          -14.42972183227539,
          -16.347318649291992,
          1.3705627918243408,
          -13.245816230773926,
          -3.974806547164917,
          12.148082733154297,
          12.642794609069824,
          0.7762358784675598,
          3.2385175228118896,
          17.053163528442383,
          13.030845642089844,
          -13.510054588317871,
          -10.12458610534668,
          -5.183753967285156,
          -6.6262054443359375,
          1.9389400482177734,
          10.700637817382812,
          12.29992961883545,
          16.18086051940918,
          9.5662841796875,
          6.571670055389404,
          -7.435757160186768,
          7.638157844543457,
          -6.758256435394287,
          0.33577725291252136,
          -5.9677276611328125,
          -15.053271293640137,
          1.7419641017913818,
          -3.6891183853149414,
          12.917702674865723,
          -11.730501174926758,
          20.653366088867188,
          13.499886512756348,
          -0.21507205069065094,
          3.209735155105591,
          1.0957646369934082,
          0.289065420627594,
          -0.6422668099403381,
          -7.396584987640381,
          15.962505340576172,
          -8.678145408630371,
          8.548011779785156,
          3.8004064559936523,
          2.3862574100494385,
          9.800058364868164
         ],
         "yaxis": "y"
        }
       ],
       "layout": {
        "legend": {
         "tracegroupgap": 0
        },
        "margin": {
         "t": 60
        },
        "template": {
         "data": {
          "bar": [
           {
            "error_x": {
             "color": "#2a3f5f"
            },
            "error_y": {
             "color": "#2a3f5f"
            },
            "marker": {
             "line": {
              "color": "#E5ECF6",
              "width": 0.5
             },
             "pattern": {
              "fillmode": "overlay",
              "size": 10,
              "solidity": 0.2
             }
            },
            "type": "bar"
           }
          ],
          "barpolar": [
           {
            "marker": {
             "line": {
              "color": "#E5ECF6",
              "width": 0.5
             },
             "pattern": {
              "fillmode": "overlay",
              "size": 10,
              "solidity": 0.2
             }
            },
            "type": "barpolar"
           }
          ],
          "carpet": [
           {
            "aaxis": {
             "endlinecolor": "#2a3f5f",
             "gridcolor": "white",
             "linecolor": "white",
             "minorgridcolor": "white",
             "startlinecolor": "#2a3f5f"
            },
            "baxis": {
             "endlinecolor": "#2a3f5f",
             "gridcolor": "white",
             "linecolor": "white",
             "minorgridcolor": "white",
             "startlinecolor": "#2a3f5f"
            },
            "type": "carpet"
           }
          ],
          "choropleth": [
           {
            "colorbar": {
             "outlinewidth": 0,
             "ticks": ""
            },
            "type": "choropleth"
           }
          ],
          "contour": [
           {
            "colorbar": {
             "outlinewidth": 0,
             "ticks": ""
            },
            "colorscale": [
             [
              0,
              "#0d0887"
             ],
             [
              0.1111111111111111,
              "#46039f"
             ],
             [
              0.2222222222222222,
              "#7201a8"
             ],
             [
              0.3333333333333333,
              "#9c179e"
             ],
             [
              0.4444444444444444,
              "#bd3786"
             ],
             [
              0.5555555555555556,
              "#d8576b"
             ],
             [
              0.6666666666666666,
              "#ed7953"
             ],
             [
              0.7777777777777778,
              "#fb9f3a"
             ],
             [
              0.8888888888888888,
              "#fdca26"
             ],
             [
              1,
              "#f0f921"
             ]
            ],
            "type": "contour"
           }
          ],
          "contourcarpet": [
           {
            "colorbar": {
             "outlinewidth": 0,
             "ticks": ""
            },
            "type": "contourcarpet"
           }
          ],
          "heatmap": [
           {
            "colorbar": {
             "outlinewidth": 0,
             "ticks": ""
            },
            "colorscale": [
             [
              0,
              "#0d0887"
             ],
             [
              0.1111111111111111,
              "#46039f"
             ],
             [
              0.2222222222222222,
              "#7201a8"
             ],
             [
              0.3333333333333333,
              "#9c179e"
             ],
             [
              0.4444444444444444,
              "#bd3786"
             ],
             [
              0.5555555555555556,
              "#d8576b"
             ],
             [
              0.6666666666666666,
              "#ed7953"
             ],
             [
              0.7777777777777778,
              "#fb9f3a"
             ],
             [
              0.8888888888888888,
              "#fdca26"
             ],
             [
              1,
              "#f0f921"
             ]
            ],
            "type": "heatmap"
           }
          ],
          "heatmapgl": [
           {
            "colorbar": {
             "outlinewidth": 0,
             "ticks": ""
            },
            "colorscale": [
             [
              0,
              "#0d0887"
             ],
             [
              0.1111111111111111,
              "#46039f"
             ],
             [
              0.2222222222222222,
              "#7201a8"
             ],
             [
              0.3333333333333333,
              "#9c179e"
             ],
             [
              0.4444444444444444,
              "#bd3786"
             ],
             [
              0.5555555555555556,
              "#d8576b"
             ],
             [
              0.6666666666666666,
              "#ed7953"
             ],
             [
              0.7777777777777778,
              "#fb9f3a"
             ],
             [
              0.8888888888888888,
              "#fdca26"
             ],
             [
              1,
              "#f0f921"
             ]
            ],
            "type": "heatmapgl"
           }
          ],
          "histogram": [
           {
            "marker": {
             "pattern": {
              "fillmode": "overlay",
              "size": 10,
              "solidity": 0.2
             }
            },
            "type": "histogram"
           }
          ],
          "histogram2d": [
           {
            "colorbar": {
             "outlinewidth": 0,
             "ticks": ""
            },
            "colorscale": [
             [
              0,
              "#0d0887"
             ],
             [
              0.1111111111111111,
              "#46039f"
             ],
             [
              0.2222222222222222,
              "#7201a8"
             ],
             [
              0.3333333333333333,
              "#9c179e"
             ],
             [
              0.4444444444444444,
              "#bd3786"
             ],
             [
              0.5555555555555556,
              "#d8576b"
             ],
             [
              0.6666666666666666,
              "#ed7953"
             ],
             [
              0.7777777777777778,
              "#fb9f3a"
             ],
             [
              0.8888888888888888,
              "#fdca26"
             ],
             [
              1,
              "#f0f921"
             ]
            ],
            "type": "histogram2d"
           }
          ],
          "histogram2dcontour": [
           {
            "colorbar": {
             "outlinewidth": 0,
             "ticks": ""
            },
            "colorscale": [
             [
              0,
              "#0d0887"
             ],
             [
              0.1111111111111111,
              "#46039f"
             ],
             [
              0.2222222222222222,
              "#7201a8"
             ],
             [
              0.3333333333333333,
              "#9c179e"
             ],
             [
              0.4444444444444444,
              "#bd3786"
             ],
             [
              0.5555555555555556,
              "#d8576b"
             ],
             [
              0.6666666666666666,
              "#ed7953"
             ],
             [
              0.7777777777777778,
              "#fb9f3a"
             ],
             [
              0.8888888888888888,
              "#fdca26"
             ],
             [
              1,
              "#f0f921"
             ]
            ],
            "type": "histogram2dcontour"
           }
          ],
          "mesh3d": [
           {
            "colorbar": {
             "outlinewidth": 0,
             "ticks": ""
            },
            "type": "mesh3d"
           }
          ],
          "parcoords": [
           {
            "line": {
             "colorbar": {
              "outlinewidth": 0,
              "ticks": ""
             }
            },
            "type": "parcoords"
           }
          ],
          "pie": [
           {
            "automargin": true,
            "type": "pie"
           }
          ],
          "scatter": [
           {
            "fillpattern": {
             "fillmode": "overlay",
             "size": 10,
             "solidity": 0.2
            },
            "type": "scatter"
           }
          ],
          "scatter3d": [
           {
            "line": {
             "colorbar": {
              "outlinewidth": 0,
              "ticks": ""
             }
            },
            "marker": {
             "colorbar": {
              "outlinewidth": 0,
              "ticks": ""
             }
            },
            "type": "scatter3d"
           }
          ],
          "scattercarpet": [
           {
            "marker": {
             "colorbar": {
              "outlinewidth": 0,
              "ticks": ""
             }
            },
            "type": "scattercarpet"
           }
          ],
          "scattergeo": [
           {
            "marker": {
             "colorbar": {
              "outlinewidth": 0,
              "ticks": ""
             }
            },
            "type": "scattergeo"
           }
          ],
          "scattergl": [
           {
            "marker": {
             "colorbar": {
              "outlinewidth": 0,
              "ticks": ""
             }
            },
            "type": "scattergl"
           }
          ],
          "scattermapbox": [
           {
            "marker": {
             "colorbar": {
              "outlinewidth": 0,
              "ticks": ""
             }
            },
            "type": "scattermapbox"
           }
          ],
          "scatterpolar": [
           {
            "marker": {
             "colorbar": {
              "outlinewidth": 0,
              "ticks": ""
             }
            },
            "type": "scatterpolar"
           }
          ],
          "scatterpolargl": [
           {
            "marker": {
             "colorbar": {
              "outlinewidth": 0,
              "ticks": ""
             }
            },
            "type": "scatterpolargl"
           }
          ],
          "scatterternary": [
           {
            "marker": {
             "colorbar": {
              "outlinewidth": 0,
              "ticks": ""
             }
            },
            "type": "scatterternary"
           }
          ],
          "surface": [
           {
            "colorbar": {
             "outlinewidth": 0,
             "ticks": ""
            },
            "colorscale": [
             [
              0,
              "#0d0887"
             ],
             [
              0.1111111111111111,
              "#46039f"
             ],
             [
              0.2222222222222222,
              "#7201a8"
             ],
             [
              0.3333333333333333,
              "#9c179e"
             ],
             [
              0.4444444444444444,
              "#bd3786"
             ],
             [
              0.5555555555555556,
              "#d8576b"
             ],
             [
              0.6666666666666666,
              "#ed7953"
             ],
             [
              0.7777777777777778,
              "#fb9f3a"
             ],
             [
              0.8888888888888888,
              "#fdca26"
             ],
             [
              1,
              "#f0f921"
             ]
            ],
            "type": "surface"
           }
          ],
          "table": [
           {
            "cells": {
             "fill": {
              "color": "#EBF0F8"
             },
             "line": {
              "color": "white"
             }
            },
            "header": {
             "fill": {
              "color": "#C8D4E3"
             },
             "line": {
              "color": "white"
             }
            },
            "type": "table"
           }
          ]
         },
         "layout": {
          "annotationdefaults": {
           "arrowcolor": "#2a3f5f",
           "arrowhead": 0,
           "arrowwidth": 1
          },
          "autotypenumbers": "strict",
          "coloraxis": {
           "colorbar": {
            "outlinewidth": 0,
            "ticks": ""
           }
          },
          "colorscale": {
           "diverging": [
            [
             0,
             "#8e0152"
            ],
            [
             0.1,
             "#c51b7d"
            ],
            [
             0.2,
             "#de77ae"
            ],
            [
             0.3,
             "#f1b6da"
            ],
            [
             0.4,
             "#fde0ef"
            ],
            [
             0.5,
             "#f7f7f7"
            ],
            [
             0.6,
             "#e6f5d0"
            ],
            [
             0.7,
             "#b8e186"
            ],
            [
             0.8,
             "#7fbc41"
            ],
            [
             0.9,
             "#4d9221"
            ],
            [
             1,
             "#276419"
            ]
           ],
           "sequential": [
            [
             0,
             "#0d0887"
            ],
            [
             0.1111111111111111,
             "#46039f"
            ],
            [
             0.2222222222222222,
             "#7201a8"
            ],
            [
             0.3333333333333333,
             "#9c179e"
            ],
            [
             0.4444444444444444,
             "#bd3786"
            ],
            [
             0.5555555555555556,
             "#d8576b"
            ],
            [
             0.6666666666666666,
             "#ed7953"
            ],
            [
             0.7777777777777778,
             "#fb9f3a"
            ],
            [
             0.8888888888888888,
             "#fdca26"
            ],
            [
             1,
             "#f0f921"
            ]
           ],
           "sequentialminus": [
            [
             0,
             "#0d0887"
            ],
            [
             0.1111111111111111,
             "#46039f"
            ],
            [
             0.2222222222222222,
             "#7201a8"
            ],
            [
             0.3333333333333333,
             "#9c179e"
            ],
            [
             0.4444444444444444,
             "#bd3786"
            ],
            [
             0.5555555555555556,
             "#d8576b"
            ],
            [
             0.6666666666666666,
             "#ed7953"
            ],
            [
             0.7777777777777778,
             "#fb9f3a"
            ],
            [
             0.8888888888888888,
             "#fdca26"
            ],
            [
             1,
             "#f0f921"
            ]
           ]
          },
          "colorway": [
           "#636efa",
           "#EF553B",
           "#00cc96",
           "#ab63fa",
           "#FFA15A",
           "#19d3f3",
           "#FF6692",
           "#B6E880",
           "#FF97FF",
           "#FECB52"
          ],
          "font": {
           "color": "#2a3f5f"
          },
          "geo": {
           "bgcolor": "white",
           "lakecolor": "white",
           "landcolor": "#E5ECF6",
           "showlakes": true,
           "showland": true,
           "subunitcolor": "white"
          },
          "hoverlabel": {
           "align": "left"
          },
          "hovermode": "closest",
          "mapbox": {
           "style": "light"
          },
          "paper_bgcolor": "white",
          "plot_bgcolor": "#E5ECF6",
          "polar": {
           "angularaxis": {
            "gridcolor": "white",
            "linecolor": "white",
            "ticks": ""
           },
           "bgcolor": "#E5ECF6",
           "radialaxis": {
            "gridcolor": "white",
            "linecolor": "white",
            "ticks": ""
           }
          },
          "scene": {
           "xaxis": {
            "backgroundcolor": "#E5ECF6",
            "gridcolor": "white",
            "gridwidth": 2,
            "linecolor": "white",
            "showbackground": true,
            "ticks": "",
            "zerolinecolor": "white"
           },
           "yaxis": {
            "backgroundcolor": "#E5ECF6",
            "gridcolor": "white",
            "gridwidth": 2,
            "linecolor": "white",
            "showbackground": true,
            "ticks": "",
            "zerolinecolor": "white"
           },
           "zaxis": {
            "backgroundcolor": "#E5ECF6",
            "gridcolor": "white",
            "gridwidth": 2,
            "linecolor": "white",
            "showbackground": true,
            "ticks": "",
            "zerolinecolor": "white"
           }
          },
          "shapedefaults": {
           "line": {
            "color": "#2a3f5f"
           }
          },
          "ternary": {
           "aaxis": {
            "gridcolor": "white",
            "linecolor": "white",
            "ticks": ""
           },
           "baxis": {
            "gridcolor": "white",
            "linecolor": "white",
            "ticks": ""
           },
           "bgcolor": "#E5ECF6",
           "caxis": {
            "gridcolor": "white",
            "linecolor": "white",
            "ticks": ""
           }
          },
          "title": {
           "x": 0.05
          },
          "xaxis": {
           "automargin": true,
           "gridcolor": "white",
           "linecolor": "white",
           "ticks": "",
           "title": {
            "standoff": 15
           },
           "zerolinecolor": "white",
           "zerolinewidth": 2
          },
          "yaxis": {
           "automargin": true,
           "gridcolor": "white",
           "linecolor": "white",
           "ticks": "",
           "title": {
            "standoff": 15
           },
           "zerolinecolor": "white",
           "zerolinewidth": 2
          }
         }
        },
        "xaxis": {
         "anchor": "y",
         "domain": [
          0,
          1
         ],
         "title": {
          "text": "x"
         }
        },
        "yaxis": {
         "anchor": "x",
         "domain": [
          0,
          1
         ],
         "title": {
          "text": "y"
         }
        }
       }
      }
     },
     "metadata": {},
     "output_type": "display_data"
    }
   ],
   "source": [
    "# Graficar los embedddings en 2D\n",
    "import plotly.graph_objects as go\n",
    "import plotly.express as px\n",
    "\n",
    "vecs, labels = reduce_dimensions(w2v_model)\n",
    "\n",
    "MAX_WORDS=200\n",
    "fig = px.scatter(x=vecs[:MAX_WORDS,0], y=vecs[:MAX_WORDS,1], text=labels[:MAX_WORDS])\n",
    "fig.show() # esto para plotly en colab"
   ]
  },
  {
   "cell_type": "code",
   "execution_count": 43,
   "metadata": {},
   "outputs": [
    {
     "data": {
      "application/vnd.plotly.v1+json": {
       "config": {
        "plotlyServerURL": "https://plot.ly"
       },
       "data": [
        {
         "hovertemplate": "x=%{x}<br>y=%{y}<br>z=%{z}<br>text=%{text}<extra></extra>",
         "legendgroup": "",
         "marker": {
          "color": "#636efa",
          "size": 2,
          "symbol": "circle"
         },
         "mode": "markers+text",
         "name": "",
         "scene": "scene",
         "showlegend": false,
         "text": [
          "you",
          "i",
          "the",
          "to",
          "and",
          "love",
          "a",
          "me",
          "in",
          "all",
          "nah",
          "my",
          "it",
          "know",
          "that",
          "be",
          "on",
          "of",
          "she",
          "is",
          "say",
          "now",
          "oh",
          "your",
          "yeah",
          "get",
          "don't",
          "back",
          "with",
          "let",
          "her",
          "can",
          "it's",
          "do",
          "when",
          "come",
          "i'm",
          "will",
          "he",
          "but",
          "for",
          "so",
          "there",
          "need",
          "like",
          "together",
          "no",
          "i'll",
          "see",
          "we",
          "was",
          "never",
          "down",
          "if",
          "way",
          "want",
          "hey",
          "out",
          "one",
          "got",
          "can't",
          "girl",
          "well",
          "good",
          "go",
          "sun",
          "his",
          "hello",
          "home",
          "they",
          "day",
          "are",
          "ah",
          "right",
          "from",
          "little",
          "at",
          "man",
          "help",
          "here",
          "have",
          "gonna",
          "not",
          "world",
          "what",
          "going",
          "how",
          "please",
          "still",
          "too",
          "just",
          "you're",
          "time",
          "as",
          "make",
          "long",
          "yes",
          "yellow",
          "life",
          "once",
          "sky",
          "been",
          "think",
          "tell",
          "why",
          "only",
          "where",
          "people",
          "she's",
          "eyes",
          "jude",
          "take",
          "submarine",
          "up",
          "hold",
          "goodbye",
          "give",
          "nowhere",
          "sing",
          "look",
          "friends",
          "always",
          "hand",
          "boy",
          "we're",
          "am",
          "away",
          "darling",
          "goo",
          "nothing",
          "should",
          "lonely",
          "could",
          "feel",
          "some",
          "night",
          "comes",
          "had",
          "would",
          "better",
          "head",
          "them",
          "four",
          "buy",
          "more",
          "i've",
          "la",
          "mind",
          "two",
          "this",
          "everything",
          "carry",
          "by",
          "our",
          "sunshine",
          "weight",
          "change",
          "us",
          "lucy",
          "birthday",
          "an",
          "true",
          "you'll",
          "every",
          "pretty",
          "three",
          "diamonds",
          "before",
          "believe",
          "these",
          "i'd",
          "words",
          "mm",
          "work",
          "dear",
          "leave",
          "were",
          "mine",
          "there's",
          "nobody",
          "told",
          "money",
          "bom",
          "said",
          "forever",
          "round",
          "children",
          "'cause",
          "something",
          "about",
          "waiting",
          "standing",
          "who",
          "didn't",
          "try",
          "loves",
          "then",
          "hide",
          "saw",
          "prudence"
         ],
         "type": "scatter3d",
         "x": [
          5.662445545196533,
          -11.514633178710938,
          -17.543460845947266,
          -0.23341064155101776,
          17.155590057373047,
          7.070538520812988,
          0.2407391518354416,
          18.775951385498047,
          -25.47231674194336,
          -30.081035614013672,
          -8.279797554016113,
          -17.474895477294922,
          34.50248336791992,
          -2.2912936210632324,
          -10.000001907348633,
          35.815643310546875,
          24.435218811035156,
          -13.48843765258789,
          0.910366415977478,
          -24.91599464416504,
          -11.23673152923584,
          -32.08454513549805,
          -5.044595241546631,
          27.956422805786133,
          7.709224224090576,
          0.16743268072605133,
          -0.7198064923286438,
          -0.34138980507850647,
          -28.74916648864746,
          36.22608184814453,
          19.193103790283203,
          17.075462341308594,
          15.394438743591309,
          1.0050994157791138,
          11.190295219421387,
          27.2298641204834,
          16.539817810058594,
          18.684860229492188,
          1.6057820320129395,
          -7.0071234703063965,
          -3.1674489974975586,
          8.676116943359375,
          -11.466078758239746,
          12.385164260864258,
          16.205392837524414,
          -32.21515655517578,
          -6.29958438873291,
          28.200275421142578,
          17.73224449157715,
          -18.867706298828125,
          -7.8702239990234375,
          -0.17153078317642212,
          31.74480628967285,
          3.630542039871216,
          0.8427928686141968,
          23.08717155456543,
          -11.023149490356445,
          26.42983055114746,
          -31.792476654052734,
          -9.442655563354492,
          6.862124919891357,
          1.7522016763687134,
          19.651100158691406,
          -19.64301300048828,
          -11.850017547607422,
          23.977842330932617,
          -15.817989349365234,
          -15.180665969848633,
          3.738051176071167,
          -18.9401912689209,
          -17.257400512695312,
          -12.271851539611816,
          -25.166730880737305,
          -29.245920181274414,
          -5.756354808807373,
          -1.8536661863327026,
          -26.690988540649414,
          -7.526418685913086,
          -1.096323013305664,
          23.469196319580078,
          -9.88347339630127,
          -16.959001541137695,
          17.976152420043945,
          -13.951343536376953,
          -0.4053184688091278,
          11.642244338989258,
          10.966471672058105,
          23.074636459350586,
          15.903402328491211,
          -5.52810525894165,
          -3.1917243003845215,
          -18.600114822387695,
          -5.608833312988281,
          3.0359432697296143,
          1.2099108695983887,
          -5.472412586212158,
          -19.897808074951172,
          -14.862695693969727,
          -15.373308181762695,
          -7.92659854888916,
          -27.494152069091797,
          8.984959602355957,
          -4.498529434204102,
          14.418889045715332,
          -7.95836877822876,
          17.93475341796875,
          -6.014379024505615,
          -14.46059799194336,
          5.012829303741455,
          -20.84558868408203,
          -7.055838108062744,
          25.870275497436523,
          -18.500370025634766,
          14.157495498657227,
          27.167884826660156,
          -13.810932159423828,
          -14.118965148925781,
          -9.023630142211914,
          13.257575035095215,
          -26.30348777770996,
          -5.042379379272461,
          31.433366775512695,
          27.05672836303711,
          -16.985139846801758,
          16.964536666870117,
          -20.533981323242188,
          10.653704643249512,
          7.074917316436768,
          7.612152576446533,
          1.8156875371932983,
          3.137876510620117,
          -11.992840766906738,
          -4.29888391494751,
          -0.4600376784801483,
          -7.708350658416748,
          1.3079832792282104,
          21.25126075744629,
          6.424471855163574,
          12.821471214294434,
          -1.3010451793670654,
          -15.703603744506836,
          -18.97960090637207,
          -38.53143310546875,
          5.295975208282471,
          -17.675649642944336,
          -13.926782608032227,
          -21.781707763671875,
          -12.403806686401367,
          -33.67616271972656,
          14.322004318237305,
          -9.927581787109375,
          -13.839495658874512,
          3.410620927810669,
          3.5441014766693115,
          -17.91218376159668,
          -9.69408893585205,
          -15.559412956237793,
          -16.87481117248535,
          -28.674623489379883,
          6.274250507354736,
          25.723115921020508,
          30.17405891418457,
          3.686765670776367,
          -11.961421012878418,
          6.135200023651123,
          -34.44130325317383,
          -31.577497482299805,
          -5.148279666900635,
          6.285129547119141,
          -4.029051303863525,
          5.655666351318359,
          28.315153121948242,
          22.833877563476562,
          30.205642700195312,
          22.292287826538086,
          21.136783599853516,
          -3.268490791320801,
          5.131778240203857,
          0.08052632957696915,
          3.1717183589935303,
          8.484321594238281,
          4.42206335067749,
          15.656847953796387,
          -7.566366195678711,
          23.154247283935547,
          -15.6444091796875,
          -14.637197494506836,
          12.0596342086792,
          -0.09309292584657669,
          -6.32004976272583,
          12.441622734069824,
          21.018287658691406,
          -6.937309265136719,
          10.617694854736328,
          7.883336544036865,
          4.097166061401367,
          7.790596008300781,
          -7.119757175445557,
          15.212584495544434,
          24.28050994873047
         ],
         "y": [
          -33.72060775756836,
          -31.688053131103516,
          24.93454933166504,
          0.11298132687807083,
          2.521193504333496,
          -27.097078323364258,
          29.184188842773438,
          -24.10743522644043,
          24.01288604736328,
          -4.664534091949463,
          -20.725666046142578,
          9.24033260345459,
          1.344833493232727,
          -38.211917877197266,
          -14.046331405639648,
          -7.555668830871582,
          12.3967924118042,
          23.00203514099121,
          -12.655464172363281,
          10.122830390930176,
          -35.8878059387207,
          -4.349514961242676,
          -32.92022705078125,
          -22.276243209838867,
          -17.55480194091797,
          16.036123275756836,
          -43.134700775146484,
          20.832284927368164,
          29.022336959838867,
          -8.376126289367676,
          -11.890771865844727,
          -27.605571746826172,
          -36.60303497314453,
          -39.1570930480957,
          -39.367454528808594,
          15.927306175231934,
          -7.479348659515381,
          -34.49300003051758,
          -13.549215316772461,
          -19.674549102783203,
          -7.282161712646484,
          -35.230350494384766,
          21.589996337890625,
          -29.506906509399414,
          -18.864591598510742,
          -8.511165618896484,
          -37.57312774658203,
          -16.08404541015625,
          -21.29254913330078,
          28.424842834472656,
          20.776897430419922,
          -38.96450424194336,
          -10.687382698059082,
          -26.186382293701172,
          19.300594329833984,
          -28.85447883605957,
          -22.17470359802246,
          7.848843097686768,
          -4.260922431945801,
          -19.82381248474121,
          -16.775415420532227,
          31.076496124267578,
          -10.061001777648926,
          5.632167339324951,
          0.9124963879585266,
          28.360736846923828,
          32.06450653076172,
          -40.714813232421875,
          18.346710205078125,
          -15.077119827270508,
          6.751730442047119,
          -0.3516979217529297,
          8.629796981811523,
          -9.979232788085938,
          19.32644271850586,
          20.797222137451172,
          12.776362419128418,
          27.342086791992188,
          15.584561347961426,
          24.937313079833984,
          -2.9419867992401123,
          -5.041116714477539,
          -23.350406646728516,
          1.773916244506836,
          -37.988975524902344,
          1.3974016904830933,
          -28.160995483398438,
          -21.039228439331055,
          -33.0790901184082,
          -19.648466110229492,
          -21.45725440979004,
          -8.269678115844727,
          -14.473489761352539,
          16.85520362854004,
          -28.80303955078125,
          -10.166935920715332,
          -24.210346221923828,
          36.63143539428711,
          18.969539642333984,
          20.85004997253418,
          25.437339782714844,
          18.729379653930664,
          -29.41846466064453,
          -30.73110580444336,
          -40.022029876708984,
          29.07560157775879,
          15.49965763092041,
          37.56206130981445,
          28.055545806884766,
          27.206890106201172,
          -21.019393920898438,
          -12.134617805480957,
          36.97858810424805,
          23.092931747436523,
          -26.74123764038086,
          -40.69517135620117,
          -24.44147491455078,
          32.15736770629883,
          -6.950828552246094,
          11.578958511352539,
          15.281447410583496,
          -8.649616241455078,
          -25.848426818847656,
          -9.393349647521973,
          15.262467384338379,
          -20.127805709838867,
          -12.990199089050293,
          18.928625106811523,
          40.78630447387695,
          -28.935436248779297,
          -36.79959487915039,
          36.486351013183594,
          -27.452735900878906,
          -28.201196670532227,
          3.1703054904937744,
          20.138694763183594,
          28.534770965576172,
          -2.1406521797180176,
          -25.989187240600586,
          -26.97162628173828,
          26.914125442504883,
          -3.5307013988494873,
          -3.5463483333587646,
          -20.173669815063477,
          -18.02406883239746,
          -16.031452178955078,
          1.6180330514907837,
          13.567415237426758,
          -4.9278740882873535,
          26.782960891723633,
          -20.87577247619629,
          -8.961286544799805,
          25.009199142456055,
          21.290918350219727,
          9.333573341369629,
          -7.488955020904541,
          -0.1255982220172882,
          18.483034133911133,
          23.53426742553711,
          -24.031307220458984,
          -2.093142032623291,
          -9.100186347961426,
          -32.535377502441406,
          12.093005180358887,
          23.363248825073242,
          -0.6905590891838074,
          26.417970657348633,
          -12.361856460571289,
          -32.89272689819336,
          15.074605941772461,
          -7.438021183013916,
          0.08351312577724457,
          13.984822273254395,
          7.758644104003906,
          9.484374046325684,
          -16.418659210205078,
          3.603588819503784,
          7.250884056091309,
          -22.708894729614258,
          -3.7511022090911865,
          -34.35228729248047,
          -15.974467277526855,
          24.058027267456055,
          -3.368817090988159,
          2.375074625015259,
          4.065619468688965,
          3.2506279945373535,
          -4.5334792137146,
          -1.2215901613235474,
          -12.938897132873535,
          27.35713768005371,
          17.87464141845703,
          27.242809295654297,
          -29.10972785949707,
          24.73776626586914,
          -15.090242385864258,
          3.4440653324127197,
          -24.772918701171875,
          -12.186470985412598,
          12.47646713256836
         ],
         "z": [
          -19.622154235839844,
          -2.6828958988189697,
          -11.817339897155762,
          37.503318786621094,
          -16.648883819580078,
          -24.849655151367188,
          -16.817453384399414,
          -18.196739196777344,
          -4.263355731964111,
          -13.436405181884766,
          33.485958099365234,
          -26.621583938598633,
          -4.3723578453063965,
          5.943187713623047,
          -22.444562911987305,
          2.2338342666625977,
          -17.546491622924805,
          2.755521059036255,
          25.870079040527344,
          -13.200544357299805,
          5.322379112243652,
          -10.136977195739746,
          -13.743064880371094,
          -8.035910606384277,
          29.667184829711914,
          41.433616638183594,
          6.703607559204102,
          39.48303985595703,
          -9.5977144241333,
          -4.271915912628174,
          -14.952079772949219,
          -1.5625687837600708,
          3.114908218383789,
          -14.010458946228027,
          -12.82333755493164,
          -16.888757705688477,
          27.633827209472656,
          -20.00547981262207,
          7.913674354553223,
          2.8080620765686035,
          -25.24699592590332,
          -5.891754150390625,
          28.83342933654785,
          -25.025299072265625,
          -21.605571746826172,
          -7.563574314117432,
          -6.6926374435424805,
          7.021814823150635,
          -9.079181671142578,
          12.905675888061523,
          30.940536499023438,
          -5.574044704437256,
          -5.460232257843018,
          -9.78443717956543,
          30.892845153808594,
          -9.871451377868652,
          28.66135597229004,
          -10.955389022827148,
          5.5525407791137695,
          17.861228942871094,
          -31.804006576538086,
          7.470754146575928,
          10.74897289276123,
          29.478891372680664,
          36.35079574584961,
          -0.8531417846679688,
          -0.5539615154266357,
          2.0396299362182617,
          37.239707946777344,
          -10.613554000854492,
          24.980627059936523,
          -0.7892575263977051,
          15.478311538696289,
          -11.625652313232422,
          -28.708465576171875,
          -26.436838150024414,
          7.946197509765625,
          9.014341354370117,
          -30.203115463256836,
          -3.7196567058563232,
          -6.486523628234863,
          -34.523738861083984,
          14.642666816711426,
          -26.896482467651367,
          0.011087334714829922,
          30.772823333740234,
          5.390391826629639,
          -24.13640022277832,
          -23.663393020629883,
          -23.002262115478516,
          16.550418853759766,
          -28.252254486083984,
          -26.18677520751953,
          15.778719902038574,
          21.340118408203125,
          -29.993728637695312,
          2.499692916870117,
          9.976462364196777,
          -22.320287704467773,
          36.773860931396484,
          -14.872644424438477,
          9.163629531860352,
          -5.945046901702881,
          -12.050090789794922,
          6.728932857513428,
          10.09370231628418,
          38.06939697265625,
          -12.288093566894531,
          13.542753219604492,
          -4.568170547485352,
          27.933237075805664,
          -3.3451011180877686,
          8.633827209472656,
          -9.412239074707031,
          -13.962641716003418,
          5.826210975646973,
          13.993104934692383,
          2.3887407779693604,
          -24.37070655822754,
          11.407058715820312,
          -27.485198974609375,
          10.750473022460938,
          -8.816205024719238,
          -24.651893615722656,
          -17.469615936279297,
          -0.6577668786048889,
          -13.836118698120117,
          -29.25370216369629,
          10.896488189697266,
          -21.01573944091797,
          9.421920776367188,
          -16.57058334350586,
          1.023555040359497,
          11.065555572509766,
          -6.602039337158203,
          7.549552917480469,
          -4.258917331695557,
          16.54014778137207,
          -4.507256984710693,
          24.686199188232422,
          -2.881532669067383,
          3.9338479042053223,
          12.834433555603027,
          -30.05059051513672,
          18.021034240722656,
          11.063227653503418,
          15.153444290161133,
          -25.037954330444336,
          9.924849510192871,
          7.441488742828369,
          10.665450096130371,
          -31.335498809814453,
          -19.675634384155273,
          27.598567962646484,
          28.214187622070312,
          -31.73164939880371,
          -30.84647560119629,
          15.517338752746582,
          -10.324362754821777,
          -3.2148420810699463,
          -3.92293643951416,
          6.7159743309021,
          2.625577211380005,
          20.719491958618164,
          -27.472450256347656,
          11.73575496673584,
          -11.998612403869629,
          -20.555667877197266,
          -9.460272789001465,
          -15.227783203125,
          -13.995338439941406,
          4.629031181335449,
          17.33478546142578,
          -11.768804550170898,
          -2.4305715560913086,
          -3.111928701400757,
          -20.154319763183594,
          14.606287956237793,
          -16.11343765258789,
          8.898592948913574,
          -13.321377754211426,
          -27.94482421875,
          23.541303634643555,
          -0.6562082767486572,
          23.23406982421875,
          -17.51232147216797,
          32.35075378417969,
          26.76814842224121,
          -6.730418682098389,
          8.280434608459473,
          2.6211998462677,
          5.1080427169799805,
          3.8238179683685303,
          -15.71140193939209,
          -20.519943237304688,
          28.560768127441406,
          -26.259075164794922,
          16.6209774017334,
          -7.02932596206665,
          -4.730202674865723
         ]
        }
       ],
       "layout": {
        "legend": {
         "tracegroupgap": 0
        },
        "margin": {
         "t": 60
        },
        "scene": {
         "domain": {
          "x": [
           0,
           1
          ],
          "y": [
           0,
           1
          ]
         },
         "xaxis": {
          "title": {
           "text": "x"
          }
         },
         "yaxis": {
          "title": {
           "text": "y"
          }
         },
         "zaxis": {
          "title": {
           "text": "z"
          }
         }
        },
        "template": {
         "data": {
          "bar": [
           {
            "error_x": {
             "color": "#2a3f5f"
            },
            "error_y": {
             "color": "#2a3f5f"
            },
            "marker": {
             "line": {
              "color": "#E5ECF6",
              "width": 0.5
             },
             "pattern": {
              "fillmode": "overlay",
              "size": 10,
              "solidity": 0.2
             }
            },
            "type": "bar"
           }
          ],
          "barpolar": [
           {
            "marker": {
             "line": {
              "color": "#E5ECF6",
              "width": 0.5
             },
             "pattern": {
              "fillmode": "overlay",
              "size": 10,
              "solidity": 0.2
             }
            },
            "type": "barpolar"
           }
          ],
          "carpet": [
           {
            "aaxis": {
             "endlinecolor": "#2a3f5f",
             "gridcolor": "white",
             "linecolor": "white",
             "minorgridcolor": "white",
             "startlinecolor": "#2a3f5f"
            },
            "baxis": {
             "endlinecolor": "#2a3f5f",
             "gridcolor": "white",
             "linecolor": "white",
             "minorgridcolor": "white",
             "startlinecolor": "#2a3f5f"
            },
            "type": "carpet"
           }
          ],
          "choropleth": [
           {
            "colorbar": {
             "outlinewidth": 0,
             "ticks": ""
            },
            "type": "choropleth"
           }
          ],
          "contour": [
           {
            "colorbar": {
             "outlinewidth": 0,
             "ticks": ""
            },
            "colorscale": [
             [
              0,
              "#0d0887"
             ],
             [
              0.1111111111111111,
              "#46039f"
             ],
             [
              0.2222222222222222,
              "#7201a8"
             ],
             [
              0.3333333333333333,
              "#9c179e"
             ],
             [
              0.4444444444444444,
              "#bd3786"
             ],
             [
              0.5555555555555556,
              "#d8576b"
             ],
             [
              0.6666666666666666,
              "#ed7953"
             ],
             [
              0.7777777777777778,
              "#fb9f3a"
             ],
             [
              0.8888888888888888,
              "#fdca26"
             ],
             [
              1,
              "#f0f921"
             ]
            ],
            "type": "contour"
           }
          ],
          "contourcarpet": [
           {
            "colorbar": {
             "outlinewidth": 0,
             "ticks": ""
            },
            "type": "contourcarpet"
           }
          ],
          "heatmap": [
           {
            "colorbar": {
             "outlinewidth": 0,
             "ticks": ""
            },
            "colorscale": [
             [
              0,
              "#0d0887"
             ],
             [
              0.1111111111111111,
              "#46039f"
             ],
             [
              0.2222222222222222,
              "#7201a8"
             ],
             [
              0.3333333333333333,
              "#9c179e"
             ],
             [
              0.4444444444444444,
              "#bd3786"
             ],
             [
              0.5555555555555556,
              "#d8576b"
             ],
             [
              0.6666666666666666,
              "#ed7953"
             ],
             [
              0.7777777777777778,
              "#fb9f3a"
             ],
             [
              0.8888888888888888,
              "#fdca26"
             ],
             [
              1,
              "#f0f921"
             ]
            ],
            "type": "heatmap"
           }
          ],
          "heatmapgl": [
           {
            "colorbar": {
             "outlinewidth": 0,
             "ticks": ""
            },
            "colorscale": [
             [
              0,
              "#0d0887"
             ],
             [
              0.1111111111111111,
              "#46039f"
             ],
             [
              0.2222222222222222,
              "#7201a8"
             ],
             [
              0.3333333333333333,
              "#9c179e"
             ],
             [
              0.4444444444444444,
              "#bd3786"
             ],
             [
              0.5555555555555556,
              "#d8576b"
             ],
             [
              0.6666666666666666,
              "#ed7953"
             ],
             [
              0.7777777777777778,
              "#fb9f3a"
             ],
             [
              0.8888888888888888,
              "#fdca26"
             ],
             [
              1,
              "#f0f921"
             ]
            ],
            "type": "heatmapgl"
           }
          ],
          "histogram": [
           {
            "marker": {
             "pattern": {
              "fillmode": "overlay",
              "size": 10,
              "solidity": 0.2
             }
            },
            "type": "histogram"
           }
          ],
          "histogram2d": [
           {
            "colorbar": {
             "outlinewidth": 0,
             "ticks": ""
            },
            "colorscale": [
             [
              0,
              "#0d0887"
             ],
             [
              0.1111111111111111,
              "#46039f"
             ],
             [
              0.2222222222222222,
              "#7201a8"
             ],
             [
              0.3333333333333333,
              "#9c179e"
             ],
             [
              0.4444444444444444,
              "#bd3786"
             ],
             [
              0.5555555555555556,
              "#d8576b"
             ],
             [
              0.6666666666666666,
              "#ed7953"
             ],
             [
              0.7777777777777778,
              "#fb9f3a"
             ],
             [
              0.8888888888888888,
              "#fdca26"
             ],
             [
              1,
              "#f0f921"
             ]
            ],
            "type": "histogram2d"
           }
          ],
          "histogram2dcontour": [
           {
            "colorbar": {
             "outlinewidth": 0,
             "ticks": ""
            },
            "colorscale": [
             [
              0,
              "#0d0887"
             ],
             [
              0.1111111111111111,
              "#46039f"
             ],
             [
              0.2222222222222222,
              "#7201a8"
             ],
             [
              0.3333333333333333,
              "#9c179e"
             ],
             [
              0.4444444444444444,
              "#bd3786"
             ],
             [
              0.5555555555555556,
              "#d8576b"
             ],
             [
              0.6666666666666666,
              "#ed7953"
             ],
             [
              0.7777777777777778,
              "#fb9f3a"
             ],
             [
              0.8888888888888888,
              "#fdca26"
             ],
             [
              1,
              "#f0f921"
             ]
            ],
            "type": "histogram2dcontour"
           }
          ],
          "mesh3d": [
           {
            "colorbar": {
             "outlinewidth": 0,
             "ticks": ""
            },
            "type": "mesh3d"
           }
          ],
          "parcoords": [
           {
            "line": {
             "colorbar": {
              "outlinewidth": 0,
              "ticks": ""
             }
            },
            "type": "parcoords"
           }
          ],
          "pie": [
           {
            "automargin": true,
            "type": "pie"
           }
          ],
          "scatter": [
           {
            "fillpattern": {
             "fillmode": "overlay",
             "size": 10,
             "solidity": 0.2
            },
            "type": "scatter"
           }
          ],
          "scatter3d": [
           {
            "line": {
             "colorbar": {
              "outlinewidth": 0,
              "ticks": ""
             }
            },
            "marker": {
             "colorbar": {
              "outlinewidth": 0,
              "ticks": ""
             }
            },
            "type": "scatter3d"
           }
          ],
          "scattercarpet": [
           {
            "marker": {
             "colorbar": {
              "outlinewidth": 0,
              "ticks": ""
             }
            },
            "type": "scattercarpet"
           }
          ],
          "scattergeo": [
           {
            "marker": {
             "colorbar": {
              "outlinewidth": 0,
              "ticks": ""
             }
            },
            "type": "scattergeo"
           }
          ],
          "scattergl": [
           {
            "marker": {
             "colorbar": {
              "outlinewidth": 0,
              "ticks": ""
             }
            },
            "type": "scattergl"
           }
          ],
          "scattermapbox": [
           {
            "marker": {
             "colorbar": {
              "outlinewidth": 0,
              "ticks": ""
             }
            },
            "type": "scattermapbox"
           }
          ],
          "scatterpolar": [
           {
            "marker": {
             "colorbar": {
              "outlinewidth": 0,
              "ticks": ""
             }
            },
            "type": "scatterpolar"
           }
          ],
          "scatterpolargl": [
           {
            "marker": {
             "colorbar": {
              "outlinewidth": 0,
              "ticks": ""
             }
            },
            "type": "scatterpolargl"
           }
          ],
          "scatterternary": [
           {
            "marker": {
             "colorbar": {
              "outlinewidth": 0,
              "ticks": ""
             }
            },
            "type": "scatterternary"
           }
          ],
          "surface": [
           {
            "colorbar": {
             "outlinewidth": 0,
             "ticks": ""
            },
            "colorscale": [
             [
              0,
              "#0d0887"
             ],
             [
              0.1111111111111111,
              "#46039f"
             ],
             [
              0.2222222222222222,
              "#7201a8"
             ],
             [
              0.3333333333333333,
              "#9c179e"
             ],
             [
              0.4444444444444444,
              "#bd3786"
             ],
             [
              0.5555555555555556,
              "#d8576b"
             ],
             [
              0.6666666666666666,
              "#ed7953"
             ],
             [
              0.7777777777777778,
              "#fb9f3a"
             ],
             [
              0.8888888888888888,
              "#fdca26"
             ],
             [
              1,
              "#f0f921"
             ]
            ],
            "type": "surface"
           }
          ],
          "table": [
           {
            "cells": {
             "fill": {
              "color": "#EBF0F8"
             },
             "line": {
              "color": "white"
             }
            },
            "header": {
             "fill": {
              "color": "#C8D4E3"
             },
             "line": {
              "color": "white"
             }
            },
            "type": "table"
           }
          ]
         },
         "layout": {
          "annotationdefaults": {
           "arrowcolor": "#2a3f5f",
           "arrowhead": 0,
           "arrowwidth": 1
          },
          "autotypenumbers": "strict",
          "coloraxis": {
           "colorbar": {
            "outlinewidth": 0,
            "ticks": ""
           }
          },
          "colorscale": {
           "diverging": [
            [
             0,
             "#8e0152"
            ],
            [
             0.1,
             "#c51b7d"
            ],
            [
             0.2,
             "#de77ae"
            ],
            [
             0.3,
             "#f1b6da"
            ],
            [
             0.4,
             "#fde0ef"
            ],
            [
             0.5,
             "#f7f7f7"
            ],
            [
             0.6,
             "#e6f5d0"
            ],
            [
             0.7,
             "#b8e186"
            ],
            [
             0.8,
             "#7fbc41"
            ],
            [
             0.9,
             "#4d9221"
            ],
            [
             1,
             "#276419"
            ]
           ],
           "sequential": [
            [
             0,
             "#0d0887"
            ],
            [
             0.1111111111111111,
             "#46039f"
            ],
            [
             0.2222222222222222,
             "#7201a8"
            ],
            [
             0.3333333333333333,
             "#9c179e"
            ],
            [
             0.4444444444444444,
             "#bd3786"
            ],
            [
             0.5555555555555556,
             "#d8576b"
            ],
            [
             0.6666666666666666,
             "#ed7953"
            ],
            [
             0.7777777777777778,
             "#fb9f3a"
            ],
            [
             0.8888888888888888,
             "#fdca26"
            ],
            [
             1,
             "#f0f921"
            ]
           ],
           "sequentialminus": [
            [
             0,
             "#0d0887"
            ],
            [
             0.1111111111111111,
             "#46039f"
            ],
            [
             0.2222222222222222,
             "#7201a8"
            ],
            [
             0.3333333333333333,
             "#9c179e"
            ],
            [
             0.4444444444444444,
             "#bd3786"
            ],
            [
             0.5555555555555556,
             "#d8576b"
            ],
            [
             0.6666666666666666,
             "#ed7953"
            ],
            [
             0.7777777777777778,
             "#fb9f3a"
            ],
            [
             0.8888888888888888,
             "#fdca26"
            ],
            [
             1,
             "#f0f921"
            ]
           ]
          },
          "colorway": [
           "#636efa",
           "#EF553B",
           "#00cc96",
           "#ab63fa",
           "#FFA15A",
           "#19d3f3",
           "#FF6692",
           "#B6E880",
           "#FF97FF",
           "#FECB52"
          ],
          "font": {
           "color": "#2a3f5f"
          },
          "geo": {
           "bgcolor": "white",
           "lakecolor": "white",
           "landcolor": "#E5ECF6",
           "showlakes": true,
           "showland": true,
           "subunitcolor": "white"
          },
          "hoverlabel": {
           "align": "left"
          },
          "hovermode": "closest",
          "mapbox": {
           "style": "light"
          },
          "paper_bgcolor": "white",
          "plot_bgcolor": "#E5ECF6",
          "polar": {
           "angularaxis": {
            "gridcolor": "white",
            "linecolor": "white",
            "ticks": ""
           },
           "bgcolor": "#E5ECF6",
           "radialaxis": {
            "gridcolor": "white",
            "linecolor": "white",
            "ticks": ""
           }
          },
          "scene": {
           "xaxis": {
            "backgroundcolor": "#E5ECF6",
            "gridcolor": "white",
            "gridwidth": 2,
            "linecolor": "white",
            "showbackground": true,
            "ticks": "",
            "zerolinecolor": "white"
           },
           "yaxis": {
            "backgroundcolor": "#E5ECF6",
            "gridcolor": "white",
            "gridwidth": 2,
            "linecolor": "white",
            "showbackground": true,
            "ticks": "",
            "zerolinecolor": "white"
           },
           "zaxis": {
            "backgroundcolor": "#E5ECF6",
            "gridcolor": "white",
            "gridwidth": 2,
            "linecolor": "white",
            "showbackground": true,
            "ticks": "",
            "zerolinecolor": "white"
           }
          },
          "shapedefaults": {
           "line": {
            "color": "#2a3f5f"
           }
          },
          "ternary": {
           "aaxis": {
            "gridcolor": "white",
            "linecolor": "white",
            "ticks": ""
           },
           "baxis": {
            "gridcolor": "white",
            "linecolor": "white",
            "ticks": ""
           },
           "bgcolor": "#E5ECF6",
           "caxis": {
            "gridcolor": "white",
            "linecolor": "white",
            "ticks": ""
           }
          },
          "title": {
           "x": 0.05
          },
          "xaxis": {
           "automargin": true,
           "gridcolor": "white",
           "linecolor": "white",
           "ticks": "",
           "title": {
            "standoff": 15
           },
           "zerolinecolor": "white",
           "zerolinewidth": 2
          },
          "yaxis": {
           "automargin": true,
           "gridcolor": "white",
           "linecolor": "white",
           "ticks": "",
           "title": {
            "standoff": 15
           },
           "zerolinecolor": "white",
           "zerolinewidth": 2
          }
         }
        }
       }
      }
     },
     "metadata": {},
     "output_type": "display_data"
    }
   ],
   "source": [
    "# Graficar los embedddings en 3D\n",
    "\n",
    "vecs, labels = reduce_dimensions(w2v_model,3)\n",
    "\n",
    "fig = px.scatter_3d(x=vecs[:MAX_WORDS,0], y=vecs[:MAX_WORDS,1], z=vecs[:MAX_WORDS,2],text=labels[:MAX_WORDS])\n",
    "fig.update_traces(marker_size = 2)\n",
    "fig.show() # esto para plotly en colab"
   ]
  },
  {
   "cell_type": "code",
   "execution_count": 44,
   "metadata": {},
   "outputs": [],
   "source": [
    "# También se pueden guardar los vectores y labels como tsv para graficar en\n",
    "# http://projector.tensorflow.org/\n",
    "\n",
    "\n",
    "vectors = np.asarray(w2v_model.wv.vectors)\n",
    "labels = list(w2v_model.wv.index_to_key)\n",
    "\n",
    "np.savetxt(\"vectors.tsv\", vectors, delimiter=\"\\t\")\n",
    "\n",
    "with open(\"labels.tsv\", \"w\") as fp:\n",
    "    for item in labels:\n",
    "        fp.write(\"%s\\n\" % item)"
   ]
  },
  {
   "cell_type": "markdown",
   "metadata": {
    "id": "yMM_SHSaZ9N-"
   },
   "source": [
    "### Alumno"
   ]
  },
  {
   "cell_type": "markdown",
   "metadata": {
    "id": "WivQZ3ZCZ9N_"
   },
   "source": [
    "- Crear sus propios vectores con Gensim basado en lo visto en clase con otro dataset.\n",
    "- Probar términos de interés y explicar similitudes en el espacio de embeddings (sacar conclusiones entre palabras similitudes y diferencias).\n",
    "- Graficarlos.\n",
    "- Obtener conclusiones."
   ]
  }
 ],
 "metadata": {
  "colab": {
   "collapsed_sections": [],
   "provenance": []
  },
  "kernelspec": {
   "display_name": "Python 3 (ipykernel)",
   "language": "python",
   "name": "python3"
  },
  "language_info": {
   "codemirror_mode": {
    "name": "ipython",
    "version": 3
   },
   "file_extension": ".py",
   "mimetype": "text/x-python",
   "name": "python",
   "nbconvert_exporter": "python",
   "pygments_lexer": "ipython3",
   "version": "3.10.0"
  }
 },
 "nbformat": 4,
 "nbformat_minor": 4
}
