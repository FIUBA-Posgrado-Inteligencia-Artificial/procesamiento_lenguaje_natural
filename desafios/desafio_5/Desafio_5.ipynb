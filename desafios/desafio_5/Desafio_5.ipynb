{
 "cells": [
  {
   "cell_type": "markdown",
   "metadata": {
    "id": "G63Jpt-wYcJ3"
   },
   "source": [
    "<img src=\"https://github.com/hernancontigiani/ceia_memorias_especializacion/raw/master/Figures/logoFIUBA.jpg\" width=\"500\" align=\"center\">\n",
    "\n",
    "\n",
    "# Procesamiento de lenguaje natural\n",
    "## Bert Sentiment Analysis"
   ]
  },
  {
   "cell_type": "code",
   "execution_count": 1,
   "metadata": {},
   "outputs": [
    {
     "name": "stdout",
     "output_type": "stream",
     "text": [
      "WARNING:tensorflow:From c:\\Users\\Lorda\\Source\\Repos\\CEIA\\len-nat\\.env\\lib\\site-packages\\tf_keras\\src\\losses.py:2976: The name tf.losses.sparse_softmax_cross_entropy is deprecated. Please use tf.compat.v1.losses.sparse_softmax_cross_entropy instead.\n",
      "\n"
     ]
    }
   ],
   "source": [
    "import tensorflow\n",
    "from transformers import TFBertModel"
   ]
  },
  {
   "cell_type": "markdown",
   "metadata": {},
   "source": [
    "### Definiendo modelo"
   ]
  },
  {
   "cell_type": "code",
   "execution_count": 2,
   "metadata": {},
   "outputs": [
    {
     "name": "stdout",
     "output_type": "stream",
     "text": [
      "WARNING:tensorflow:From c:\\Users\\Lorda\\Source\\Repos\\CEIA\\len-nat\\.env\\lib\\site-packages\\tf_keras\\src\\backend.py:873: The name tf.get_default_graph is deprecated. Please use tf.compat.v1.get_default_graph instead.\n",
      "\n"
     ]
    },
    {
     "name": "stderr",
     "output_type": "stream",
     "text": [
      "Some weights of the PyTorch model were not used when initializing the TF 2.0 model TFBertModel: ['cls.predictions.bias', 'cls.predictions.transform.LayerNorm.bias', 'cls.predictions.transform.LayerNorm.weight', 'cls.predictions.transform.dense.weight', 'cls.seq_relationship.bias', 'cls.predictions.transform.dense.bias', 'cls.seq_relationship.weight']\n",
      "- This IS expected if you are initializing TFBertModel from a PyTorch model trained on another task or with another architecture (e.g. initializing a TFBertForSequenceClassification model from a BertForPreTraining model).\n",
      "- This IS NOT expected if you are initializing TFBertModel from a PyTorch model that you expect to be exactly identical (e.g. initializing a TFBertForSequenceClassification model from a BertForSequenceClassification model).\n",
      "All the weights of TFBertModel were initialized from the PyTorch model.\n",
      "If your task is similar to the task the model of the checkpoint was trained on, you can already use TFBertModel for predictions without further training.\n"
     ]
    }
   ],
   "source": [
    "bert_model = TFBertModel.from_pretrained(\"bert-base-uncased\")"
   ]
  },
  {
   "cell_type": "code",
   "execution_count": 3,
   "metadata": {},
   "outputs": [],
   "source": [
    "max_length = 140\n",
    "output_shape = 3"
   ]
  },
  {
   "cell_type": "code",
   "execution_count": 4,
   "metadata": {},
   "outputs": [
    {
     "name": "stdout",
     "output_type": "stream",
     "text": [
      "WARNING:tensorflow:From c:\\Users\\Lorda\\Source\\Repos\\CEIA\\len-nat\\.env\\lib\\site-packages\\tf_keras\\src\\optimizers\\__init__.py:317: The name tf.train.Optimizer is deprecated. Please use tf.compat.v1.train.Optimizer instead.\n",
      "\n"
     ]
    }
   ],
   "source": [
    "bert_model.bert.trainable = False\n",
    "\n",
    "input_ids = tensorflow.keras.layers.Input(shape=(max_length,), dtype=tensorflow.int32, name='input_ids')\n",
    "attention_mask = tensorflow.keras.layers.Input(shape=(max_length,), dtype=tensorflow.int32, name='attention_mask')\n",
    "\n",
    "outputs = bert_model(input_ids, attention_mask=attention_mask)\n",
    "\n",
    "pooled_output = outputs.pooler_output\n",
    "\n",
    "x = tensorflow.keras.layers.Dropout(0.2)(pooled_output)\n",
    "output = tensorflow.keras.layers.Dense(output_shape, activation='softmax')(x)\n",
    "\n",
    "model = tensorflow.keras.Model(inputs=[input_ids, attention_mask], outputs=output)\n",
    "\n",
    "model.compile(optimizer='adam',\n",
    "              loss='categorical_crossentropy',\n",
    "              metrics=['accuracy',tensorflow.keras.metrics.F1Score(average='macro')])"
   ]
  },
  {
   "cell_type": "markdown",
   "metadata": {},
   "source": [
    "### Importamos resto de librerías"
   ]
  },
  {
   "cell_type": "code",
   "execution_count": 50,
   "metadata": {},
   "outputs": [],
   "source": [
    "import os\n",
    "\n",
    "import gdown\n",
    "import matplotlib.pyplot as plt\n",
    "import numpy as np\n",
    "import pandas as pd\n",
    "import seaborn as sns\n",
    "from sklearn.model_selection import train_test_split\n",
    "from tensorflow.keras.utils import to_categorical\n",
    "from transformers import BertTokenizer  # Métodos para transformar el dataset\n",
    "from transformers import InputExample, InputFeatures\n",
    "from tf_keras.optimizers import Adam"
   ]
  },
  {
   "cell_type": "code",
   "execution_count": 6,
   "metadata": {},
   "outputs": [
    {
     "name": "stdout",
     "output_type": "stream",
     "text": [
      "Model: \"model\"\n",
      "__________________________________________________________________________________________________\n",
      " Layer (type)                Output Shape                 Param #   Connected to                  \n",
      "==================================================================================================\n",
      " input_ids (InputLayer)      [(None, 140)]                0         []                            \n",
      "                                                                                                  \n",
      " attention_mask (InputLayer  [(None, 140)]                0         []                            \n",
      " )                                                                                                \n",
      "                                                                                                  \n",
      " tf_bert_model (TFBertModel  TFBaseModelOutputWithPooli   1094822   ['input_ids[0][0]',           \n",
      " )                           ngAndCrossAttentions(last_   40         'attention_mask[0][0]']      \n",
      "                             hidden_state=(None, 140, 7                                           \n",
      "                             68),                                                                 \n",
      "                              pooler_output=(None, 768)                                           \n",
      "                             , past_key_values=None, hi                                           \n",
      "                             dden_states=None, attentio                                           \n",
      "                             ns=None, cross_attentions=                                           \n",
      "                             None)                                                                \n",
      "                                                                                                  \n",
      " dropout_37 (Dropout)        (None, 768)                  0         ['tf_bert_model[0][1]']       \n",
      "                                                                                                  \n",
      " dense (Dense)               (None, 3)                    2307      ['dropout_37[0][0]']          \n",
      "                                                                                                  \n",
      "==================================================================================================\n",
      "Total params: 109484547 (417.65 MB)\n",
      "Trainable params: 2307 (9.01 KB)\n",
      "Non-trainable params: 109482240 (417.64 MB)\n",
      "__________________________________________________________________________________________________\n"
     ]
    }
   ],
   "source": [
    "model.summary()"
   ]
  },
  {
   "cell_type": "code",
   "execution_count": 7,
   "metadata": {
    "id": "cjQ7q6N7CL_J"
   },
   "outputs": [],
   "source": [
    "def plot_train_metrics(history):\n",
    "    epoch_count = range(1, len(history.history['accuracy']) + 1)\n",
    "    sns.lineplot(x=epoch_count,  y=history.history['accuracy'], label='train')\n",
    "    sns.lineplot(x=epoch_count,  y=history.history['val_accuracy'], label='valid')\n",
    "    plt.show()"
   ]
  },
  {
   "cell_type": "markdown",
   "metadata": {
    "id": "hU2-H3K1YzJ8"
   },
   "source": [
    "### Datos\n",
    "Utilizaremos como dataset críticas de Google Apps en formato csv."
   ]
  },
  {
   "cell_type": "code",
   "execution_count": 8,
   "metadata": {
    "colab": {
     "base_uri": "https://localhost:8080/"
    },
    "id": "QBjUqdvpvLUG",
    "outputId": "c75a83f5-669b-4f3f-fb2c-5eb507d36e40"
   },
   "outputs": [
    {
     "name": "stdout",
     "output_type": "stream",
     "text": [
      "apps.csv ya se encuentra descargado\n",
      "reviews.csv ya se encuentra descargado\n"
     ]
    }
   ],
   "source": [
    "# Descargar la carpeta de dataset\n",
    "if os.access(\"apps.csv\", os.F_OK) is False:\n",
    "    url = \"https://drive.google.com/u/0/uc?id=1S6qMioqPJjyBLpLVz4gmRTnJHnjitnuV&export=download\"\n",
    "    output = \"apps.csv\"\n",
    "    gdown.download(url, output, quiet=False)\n",
    "else:\n",
    "    print(\"apps.csv ya se encuentra descargado\")\n",
    "if os.access(\"reviews.csv\", os.F_OK) is False:\n",
    "    url = \"https://drive.google.com/u/0/uc?id=1zdmewp7ayS4js4VtrJEHzAheSW-5NBZv&export=download\"\n",
    "    output = \"reviews.csv\"\n",
    "    gdown.download(url, output, quiet=False)\n",
    "else:\n",
    "    print(\"reviews.csv ya se encuentra descargado\")"
   ]
  },
  {
   "cell_type": "code",
   "execution_count": 9,
   "metadata": {
    "colab": {
     "base_uri": "https://localhost:8080/",
     "height": 687
    },
    "id": "KPlBX0wV8gv9",
    "outputId": "c144beec-9c58-4b6d-9b85-bc46de6d383e"
   },
   "outputs": [
    {
     "data": {
      "text/html": [
       "<div>\n",
       "<style scoped>\n",
       "    .dataframe tbody tr th:only-of-type {\n",
       "        vertical-align: middle;\n",
       "    }\n",
       "\n",
       "    .dataframe tbody tr th {\n",
       "        vertical-align: top;\n",
       "    }\n",
       "\n",
       "    .dataframe thead th {\n",
       "        text-align: right;\n",
       "    }\n",
       "</style>\n",
       "<table border=\"1\" class=\"dataframe\">\n",
       "  <thead>\n",
       "    <tr style=\"text-align: right;\">\n",
       "      <th></th>\n",
       "      <th>userName</th>\n",
       "      <th>userImage</th>\n",
       "      <th>content</th>\n",
       "      <th>score</th>\n",
       "      <th>thumbsUpCount</th>\n",
       "      <th>reviewCreatedVersion</th>\n",
       "      <th>at</th>\n",
       "      <th>replyContent</th>\n",
       "      <th>repliedAt</th>\n",
       "      <th>sortOrder</th>\n",
       "      <th>appId</th>\n",
       "    </tr>\n",
       "  </thead>\n",
       "  <tbody>\n",
       "    <tr>\n",
       "      <th>0</th>\n",
       "      <td>Andrew Thomas</td>\n",
       "      <td>https://lh3.googleusercontent.com/a-/AOh14GiHd...</td>\n",
       "      <td>Update: After getting a response from the deve...</td>\n",
       "      <td>1</td>\n",
       "      <td>21</td>\n",
       "      <td>4.17.0.3</td>\n",
       "      <td>2020-04-05 22:25:57</td>\n",
       "      <td>According to our TOS, and the term you have ag...</td>\n",
       "      <td>2020-04-05 15:10:24</td>\n",
       "      <td>most_relevant</td>\n",
       "      <td>com.anydo</td>\n",
       "    </tr>\n",
       "    <tr>\n",
       "      <th>1</th>\n",
       "      <td>Craig Haines</td>\n",
       "      <td>https://lh3.googleusercontent.com/-hoe0kwSJgPQ...</td>\n",
       "      <td>Used it for a fair amount of time without any ...</td>\n",
       "      <td>1</td>\n",
       "      <td>11</td>\n",
       "      <td>4.17.0.3</td>\n",
       "      <td>2020-04-04 13:40:01</td>\n",
       "      <td>It sounds like you logged in with a different ...</td>\n",
       "      <td>2020-04-05 15:11:35</td>\n",
       "      <td>most_relevant</td>\n",
       "      <td>com.anydo</td>\n",
       "    </tr>\n",
       "    <tr>\n",
       "      <th>2</th>\n",
       "      <td>steven adkins</td>\n",
       "      <td>https://lh3.googleusercontent.com/a-/AOh14GiXw...</td>\n",
       "      <td>Your app sucks now!!!!! Used to be good but no...</td>\n",
       "      <td>1</td>\n",
       "      <td>17</td>\n",
       "      <td>4.17.0.3</td>\n",
       "      <td>2020-04-01 16:18:13</td>\n",
       "      <td>This sounds odd! We are not aware of any issue...</td>\n",
       "      <td>2020-04-02 16:05:56</td>\n",
       "      <td>most_relevant</td>\n",
       "      <td>com.anydo</td>\n",
       "    </tr>\n",
       "    <tr>\n",
       "      <th>3</th>\n",
       "      <td>Lars Panzerbjørn</td>\n",
       "      <td>https://lh3.googleusercontent.com/a-/AOh14Gg-h...</td>\n",
       "      <td>It seems OK, but very basic. Recurring tasks n...</td>\n",
       "      <td>1</td>\n",
       "      <td>192</td>\n",
       "      <td>4.17.0.2</td>\n",
       "      <td>2020-03-12 08:17:34</td>\n",
       "      <td>We do offer this option as part of the Advance...</td>\n",
       "      <td>2020-03-15 06:20:13</td>\n",
       "      <td>most_relevant</td>\n",
       "      <td>com.anydo</td>\n",
       "    </tr>\n",
       "    <tr>\n",
       "      <th>4</th>\n",
       "      <td>Scott Prewitt</td>\n",
       "      <td>https://lh3.googleusercontent.com/-K-X1-YsVd6U...</td>\n",
       "      <td>Absolutely worthless. This app runs a prohibit...</td>\n",
       "      <td>1</td>\n",
       "      <td>42</td>\n",
       "      <td>4.17.0.2</td>\n",
       "      <td>2020-03-14 17:41:01</td>\n",
       "      <td>We're sorry you feel this way! 90% of the app ...</td>\n",
       "      <td>2020-03-15 23:45:51</td>\n",
       "      <td>most_relevant</td>\n",
       "      <td>com.anydo</td>\n",
       "    </tr>\n",
       "  </tbody>\n",
       "</table>\n",
       "</div>"
      ],
      "text/plain": [
       "           userName                                          userImage  \\\n",
       "0     Andrew Thomas  https://lh3.googleusercontent.com/a-/AOh14GiHd...   \n",
       "1      Craig Haines  https://lh3.googleusercontent.com/-hoe0kwSJgPQ...   \n",
       "2     steven adkins  https://lh3.googleusercontent.com/a-/AOh14GiXw...   \n",
       "3  Lars Panzerbjørn  https://lh3.googleusercontent.com/a-/AOh14Gg-h...   \n",
       "4     Scott Prewitt  https://lh3.googleusercontent.com/-K-X1-YsVd6U...   \n",
       "\n",
       "                                             content  score  thumbsUpCount  \\\n",
       "0  Update: After getting a response from the deve...      1             21   \n",
       "1  Used it for a fair amount of time without any ...      1             11   \n",
       "2  Your app sucks now!!!!! Used to be good but no...      1             17   \n",
       "3  It seems OK, but very basic. Recurring tasks n...      1            192   \n",
       "4  Absolutely worthless. This app runs a prohibit...      1             42   \n",
       "\n",
       "  reviewCreatedVersion                   at  \\\n",
       "0             4.17.0.3  2020-04-05 22:25:57   \n",
       "1             4.17.0.3  2020-04-04 13:40:01   \n",
       "2             4.17.0.3  2020-04-01 16:18:13   \n",
       "3             4.17.0.2  2020-03-12 08:17:34   \n",
       "4             4.17.0.2  2020-03-14 17:41:01   \n",
       "\n",
       "                                        replyContent            repliedAt  \\\n",
       "0  According to our TOS, and the term you have ag...  2020-04-05 15:10:24   \n",
       "1  It sounds like you logged in with a different ...  2020-04-05 15:11:35   \n",
       "2  This sounds odd! We are not aware of any issue...  2020-04-02 16:05:56   \n",
       "3  We do offer this option as part of the Advance...  2020-03-15 06:20:13   \n",
       "4  We're sorry you feel this way! 90% of the app ...  2020-03-15 23:45:51   \n",
       "\n",
       "       sortOrder      appId  \n",
       "0  most_relevant  com.anydo  \n",
       "1  most_relevant  com.anydo  \n",
       "2  most_relevant  com.anydo  \n",
       "3  most_relevant  com.anydo  \n",
       "4  most_relevant  com.anydo  "
      ]
     },
     "execution_count": 9,
     "metadata": {},
     "output_type": "execute_result"
    }
   ],
   "source": [
    "# Armar el dataset\n",
    "df = pd.read_csv('reviews.csv')\n",
    "df.head()"
   ]
  },
  {
   "cell_type": "code",
   "execution_count": 10,
   "metadata": {
    "colab": {
     "base_uri": "https://localhost:8080/"
    },
    "id": "loFa9OgIROfi",
    "outputId": "2f1e4089-4956-40ad-a9b7-a126df74d0f0"
   },
   "outputs": [
    {
     "name": "stdout",
     "output_type": "stream",
     "text": [
      "Cantidad de críticas: 15746\n"
     ]
    }
   ],
   "source": [
    "print(\"Cantidad de críticas:\", len(df))"
   ]
  },
  {
   "cell_type": "code",
   "execution_count": 11,
   "metadata": {
    "colab": {
     "base_uri": "https://localhost:8080/",
     "height": 354
    },
    "id": "fpwgmwN4W549",
    "outputId": "00d06044-a31b-461b-c00a-b0efec18071b"
   },
   "outputs": [
    {
     "data": {
      "text/plain": [
       "<Axes: xlabel='score', ylabel='count'>"
      ]
     },
     "execution_count": 11,
     "metadata": {},
     "output_type": "execute_result"
    },
    {
     "data": {
      "image/png": "[encoded data removed]",
      "text/plain": [
       "<Figure size 640x480 with 1 Axes>"
      ]
     },
     "metadata": {},
     "output_type": "display_data"
    }
   ],
   "source": [
    "# ¿Cómo están balanceados los datos?\n",
    "sns.countplot(x=df.score)"
   ]
  },
  {
   "cell_type": "markdown",
   "metadata": {
    "id": "BCO209z59D7C"
   },
   "source": [
    "## Limpieza de datos"
   ]
  },
  {
   "cell_type": "code",
   "execution_count": 12,
   "metadata": {
    "id": "dE572tLfXKCX"
   },
   "outputs": [],
   "source": [
    "# Balancear los datos\n",
    "df['sentiment'] = df.score.apply(lambda x: 0 if x <=2 else 1 if x == 3 else 2)\n",
    "class_names = ['negative', 'neutral', 'positive']"
   ]
  },
  {
   "cell_type": "code",
   "execution_count": 13,
   "metadata": {
    "colab": {
     "base_uri": "https://localhost:8080/",
     "height": 335
    },
    "id": "gpz0sNGnXahV",
    "outputId": "42ef0edd-1115-405f-c3cf-c043b9203bfd"
   },
   "outputs": [
    {
     "name": "stderr",
     "output_type": "stream",
     "text": [
      "C:\\Users\\Lorda\\AppData\\Local\\Temp\\ipykernel_8016\\4258480849.py:3: UserWarning: set_ticklabels() should only be used with a fixed number of ticks, i.e. after set_ticks() or using a FixedLocator.\n",
      "  ax.set_xticklabels(class_names)\n"
     ]
    },
    {
     "data": {
      "text/plain": [
       "[Text(0, 0, 'negative'), Text(1, 0, 'neutral'), Text(2, 0, 'positive')]"
      ]
     },
     "execution_count": 13,
     "metadata": {},
     "output_type": "execute_result"
    },
    {
     "data": {
      "image/png": "[encoded data removed]",
      "text/plain": [
       "<Figure size 640x480 with 1 Axes>"
      ]
     },
     "metadata": {},
     "output_type": "display_data"
    }
   ],
   "source": [
    "ax = sns.countplot(x=df.sentiment)\n",
    "plt.xlabel('review sentiment')\n",
    "ax.set_xticklabels(class_names)"
   ]
  },
  {
   "cell_type": "code",
   "execution_count": 14,
   "metadata": {
    "colab": {
     "base_uri": "https://localhost:8080/"
    },
    "id": "KaRGx3pW9fyx",
    "outputId": "961089db-9571-438c-f45c-e9bba1bde6e7"
   },
   "outputs": [
    {
     "name": "stdout",
     "output_type": "stream",
     "text": [
      "sentences shape: (15746,)\n"
     ]
    },
    {
     "data": {
      "text/plain": [
       "array([\"Update: After getting a response from the developer I would change my rating to 0 stars if possible. These guys hide behind confusing and opaque terms and refuse to budge at all. I'm so annoyed that my money has been lost to them! Really terrible customer experience. Original: Be very careful when signing up for a free trial of this app. If you happen to go over they automatically charge you for a full years subscription and refuse to refund. Terrible customer experience and the app is just OK.\",\n",
       "       'Used it for a fair amount of time without any problems. Suddenly then asked me to create an account or log using Google or FB. I used my Google one only to discover everything was gone!',\n",
       "       \"Your app sucks now!!!!! Used to be good but now doesn't update until I physically open it up and then close it then scroll and then it finally shows what I want to put on the list!!!!!! And I FRIGGEN paid for this garbage!!!!!!!\"],\n",
       "      dtype=object)"
      ]
     },
     "execution_count": 14,
     "metadata": {},
     "output_type": "execute_result"
    }
   ],
   "source": [
    "sentences = df['content'].values\n",
    "print(\"sentences shape:\", sentences.shape)\n",
    "sentences[:3]"
   ]
  },
  {
   "cell_type": "code",
   "execution_count": 15,
   "metadata": {
    "colab": {
     "base_uri": "https://localhost:8080/",
     "height": 358
    },
    "id": "PXdyAh6NYpSx",
    "outputId": "a1d56be2-18f5-4754-b78b-3ee9f873b36e"
   },
   "outputs": [
    {
     "name": "stdout",
     "output_type": "stream",
     "text": [
      "Median: 139.0\n"
     ]
    },
    {
     "data": {
      "text/plain": [
       "<seaborn.axisgrid.FacetGrid at 0x121d730dcf0>"
      ]
     },
     "execution_count": 15,
     "metadata": {},
     "output_type": "execute_result"
    },
    {
     "data": {
      "image/png": "[encoded data removed]",
      "text/plain": [
       "<Figure size 500x500 with 1 Axes>"
      ]
     },
     "metadata": {},
     "output_type": "display_data"
    }
   ],
   "source": [
    "sentence_lens = []\n",
    "\n",
    "for sentence in sentences:\n",
    "  sentence_lens.append(len(sentence))\n",
    "\n",
    "print(\"Median:\", np.median(sentence_lens))\n",
    "sns.displot(sentence_lens)"
   ]
  },
  {
   "cell_type": "code",
   "execution_count": 16,
   "metadata": {
    "colab": {
     "base_uri": "https://localhost:8080/"
    },
    "id": "c26zJ7qUAV4F",
    "outputId": "f1f9eadd-430e-407a-99c2-ae079f21708a"
   },
   "outputs": [
    {
     "name": "stdout",
     "output_type": "stream",
     "text": [
      "y shape: (15746,)\n",
      "[[1. 0. 0.]\n",
      " [1. 0. 0.]\n",
      " [1. 0. 0.]]\n",
      "output shape: 3\n"
     ]
    }
   ],
   "source": [
    "y = df['sentiment'].values\n",
    "print(\"y shape:\", y.shape)\n",
    "y = to_categorical(y)\n",
    "print(y[:3])\n",
    "output_shape = y.shape[1]\n",
    "print(\"output shape:\", output_shape)"
   ]
  },
  {
   "cell_type": "markdown",
   "metadata": {
    "id": "qvoZ8YlK0vOQ"
   },
   "source": [
    "## 1 - Data generator\n"
   ]
  },
  {
   "cell_type": "code",
   "execution_count": 17,
   "metadata": {},
   "outputs": [
    {
     "name": "stderr",
     "output_type": "stream",
     "text": [
      "c:\\Users\\Lorda\\Source\\Repos\\CEIA\\len-nat\\.env\\lib\\site-packages\\transformers\\tokenization_utils_base.py:1601: FutureWarning: `clean_up_tokenization_spaces` was not set. It will be set to `True` by default. This behavior will be depracted in transformers v4.45, and will be then set to `False` by default. For more details check this issue: https://github.com/huggingface/transformers/issues/31884\n",
      "  warnings.warn(\n"
     ]
    }
   ],
   "source": [
    "# Muy importante que para tensorflow los modelos Bert deben empezar con \"TF\"\n",
    "# de lo contrario estaremos utilizando un modelo para pytorch\n",
    "\n",
    "# Descargamos el modelo base de BERT más liviano y su correspondiente tokenizer\n",
    "bert_tokenizer = BertTokenizer.from_pretrained(\"bert-base-uncased\")"
   ]
  },
  {
   "cell_type": "code",
   "execution_count": 18,
   "metadata": {
    "id": "rYnD8msegnSI"
   },
   "outputs": [],
   "source": [
    "# Del dataset original accederemos a los datos por índices (idx)\n",
    "# mezclados aleatoriamente\n",
    "max_length = 140 # BERT soporta máximo 512\n",
    "indices = np.arange(len(sentences))\n",
    "idx_train_val, idx_test = train_test_split(indices, test_size=0.2, random_state=42)\n",
    "idx_train, idx_val = train_test_split(idx_train_val, test_size=0.2, random_state=42)"
   ]
  },
  {
   "cell_type": "code",
   "execution_count": 19,
   "metadata": {
    "colab": {
     "base_uri": "https://localhost:8080/"
    },
    "id": "5Hm0jGD-j32e",
    "outputId": "82f903b1-90cd-447b-ffe0-9fa65248bbe6"
   },
   "outputs": [
    {
     "name": "stdout",
     "output_type": "stream",
     "text": [
      "10076 2520 3150\n"
     ]
    }
   ],
   "source": [
    "print(idx_train.shape[0], idx_val.shape[0], idx_test.shape[0])"
   ]
  },
  {
   "cell_type": "code",
   "execution_count": 20,
   "metadata": {
    "id": "MMfyhfKqfs6G"
   },
   "outputs": [],
   "source": [
    "\n",
    "def convert_data_to_examples(text, labels, idx_train, idx_val):\n",
    "    # Armamos un \"InputExample\" para los datos de entrenamiento y validación\n",
    "    train_InputExamples = [InputExample(guid=None, # Globally unique ID for bookkeeping, unused in this case\n",
    "                                                          text_a = text[i], \n",
    "                                                          text_b = None,\n",
    "                                                          label = labels[i]) for i in idx_train]\n",
    "\n",
    "    validation_InputExamples = [InputExample(guid=None, # Globally unique ID for bookkeeping, unused in this case\n",
    "                                                          text_a = text[i],\n",
    "                                                          text_b = None,\n",
    "                                                          label = labels[i]) for i in idx_val]\n",
    "  \n",
    "    return train_InputExamples, validation_InputExamples\n",
    "\n",
    " \n",
    "def convert_examples_to_tf_dataset(examples, bert_tokenizer, max_length=512):\n",
    "    # Transformamos los datos de entrada en tensorres de:\n",
    "    # input_ids --> token id\n",
    "    # attention_mask\n",
    "    # token type\n",
    "    features = []\n",
    "\n",
    "    for e in examples:\n",
    "        # Documentation is really strong for this method, so please take a look at it\n",
    "        input_dict = bert_tokenizer.encode_plus(\n",
    "            e.text_a,\n",
    "            add_special_tokens=True,\n",
    "            max_length=max_length, # truncates if len(s) > max_length\n",
    "            return_token_type_ids=False,\n",
    "            return_attention_mask=True,\n",
    "            padding='max_length', # pads to the right by default # CHECK THIS for pad_to_max_length\n",
    "            truncation=True\n",
    "        )\n",
    "\n",
    "        input_ids, attention_mask = (input_dict[\"input_ids\"], input_dict['attention_mask'])\n",
    "\n",
    "        features.append(\n",
    "            InputFeatures(\n",
    "                input_ids=input_ids, attention_mask=attention_mask, label=e.label\n",
    "            )\n",
    "        )\n",
    "\n",
    "    def gen():\n",
    "    # Función generadora para no levantar todos los datos en un instante\n",
    "        for f in features:\n",
    "            yield (\n",
    "                {\n",
    "                    \"input_ids\": f.input_ids,\n",
    "                    \"attention_mask\": f.attention_mask,\n",
    "                },\n",
    "                f.label,\n",
    "            )\n",
    "\n",
    "    return tensorflow.data.Dataset.from_generator(\n",
    "        # Tensorflow dataset generator (basado en el generador y en el esquema de datos definido)\n",
    "        gen,\n",
    "        ({\"input_ids\": tensorflow.int32, \"attention_mask\": tensorflow.int32}, tensorflow.float32),\n",
    "        (\n",
    "            {\n",
    "                \"input_ids\": tensorflow.TensorShape([None]),\n",
    "                \"attention_mask\": tensorflow.TensorShape([None]),\n",
    "            },\n",
    "            tensorflow.TensorShape([output_shape]),\n",
    "        ),\n",
    "    )"
   ]
  },
  {
   "cell_type": "code",
   "execution_count": 21,
   "metadata": {
    "colab": {
     "base_uri": "https://localhost:8080/"
    },
    "id": "VXrlV-xPiebq",
    "outputId": "224c55dc-5ddb-4c01-c804-0b4ebe4eb8c4"
   },
   "outputs": [],
   "source": [
    "train_InputExamples, validation_InputExamples = convert_data_to_examples(sentences, y, idx_train, idx_val)\n",
    "\n",
    "train_data = convert_examples_to_tf_dataset(list(train_InputExamples), bert_tokenizer, max_length=max_length)\n",
    "# shuffle 100 --> mezcla los datos y los lee a de 100 unidades\n",
    "# batch 32 --> ejecuta una epoca de entrenamiento de a 32 unidades\n",
    "train_data = train_data.shuffle(100).batch(32)\n",
    "\n",
    "validation_data = convert_examples_to_tf_dataset(list(validation_InputExamples), bert_tokenizer, max_length=max_length)\n",
    "validation_data = validation_data.batch(32)"
   ]
  },
  {
   "cell_type": "code",
   "execution_count": 22,
   "metadata": {
    "colab": {
     "base_uri": "https://localhost:8080/"
    },
    "id": "aQV1WrdKFJnF",
    "outputId": "eccbd408-606b-4b67-aeba-36d5c42825f4"
   },
   "outputs": [],
   "source": [
    "pred_sentences = [sentences[i] for i in idx_test]\n",
    "tf_batch = bert_tokenizer(pred_sentences, max_length=max_length, padding=True, truncation=True, return_tensors='tf')"
   ]
  },
  {
   "cell_type": "code",
   "execution_count": 23,
   "metadata": {
    "id": "ZUBLlpH0GAVE"
   },
   "outputs": [],
   "source": [
    "X_test = [tf_batch['input_ids'],  \n",
    "          tf_batch['attention_mask']]"
   ]
  },
  {
   "cell_type": "code",
   "execution_count": 24,
   "metadata": {
    "id": "3E-z51xls0lH"
   },
   "outputs": [],
   "source": [
    "y_test = y[idx_test]"
   ]
  },
  {
   "cell_type": "markdown",
   "metadata": {
    "id": "kNinUuS6nqRJ"
   },
   "source": [
    "## 2 - BERT multiclass classification"
   ]
  },
  {
   "cell_type": "code",
   "execution_count": 25,
   "metadata": {
    "colab": {
     "base_uri": "https://localhost:8080/"
    },
    "id": "aQKTqv20j5kA",
    "outputId": "c513e516-0a71-4920-f17b-8fcc9a449627"
   },
   "outputs": [
    {
     "name": "stdout",
     "output_type": "stream",
     "text": [
      "Epoch 1/5\n",
      "WARNING:tensorflow:From c:\\Users\\Lorda\\Source\\Repos\\CEIA\\len-nat\\.env\\lib\\site-packages\\tf_keras\\src\\utils\\tf_utils.py:492: The name tf.ragged.RaggedTensorValue is deprecated. Please use tf.compat.v1.ragged.RaggedTensorValue instead.\n",
      "\n",
      "WARNING:tensorflow:From c:\\Users\\Lorda\\Source\\Repos\\CEIA\\len-nat\\.env\\lib\\site-packages\\tf_keras\\src\\engine\\base_layer_utils.py:384: The name tf.executing_eagerly_outside_functions is deprecated. Please use tf.compat.v1.executing_eagerly_outside_functions instead.\n",
      "\n",
      "315/315 [==============================] - 639s 2s/step - loss: 1.1254 - accuracy: 0.3842 - f1_score: 0.3790 - val_loss: 1.0296 - val_accuracy: 0.4381 - val_f1_score: 0.3518\n",
      "Epoch 2/5\n",
      "315/315 [==============================] - 621s 2s/step - loss: 1.0342 - accuracy: 0.4592 - f1_score: 0.4507 - val_loss: 0.9949 - val_accuracy: 0.5385 - val_f1_score: 0.4348\n",
      "Epoch 3/5\n",
      "315/315 [==============================] - 618s 2s/step - loss: 0.9980 - accuracy: 0.5046 - f1_score: 0.4945 - val_loss: 0.9322 - val_accuracy: 0.5599 - val_f1_score: 0.5070\n",
      "Epoch 4/5\n",
      "315/315 [==============================] - 626s 2s/step - loss: 0.9754 - accuracy: 0.5194 - f1_score: 0.5081 - val_loss: 0.9488 - val_accuracy: 0.5306 - val_f1_score: 0.4462\n",
      "Epoch 5/5\n",
      "315/315 [==============================] - 621s 2s/step - loss: 0.9585 - accuracy: 0.5278 - f1_score: 0.5171 - val_loss: 0.9103 - val_accuracy: 0.5587 - val_f1_score: 0.4923\n"
     ]
    }
   ],
   "source": [
    "history1 = model.fit(train_data, epochs=5, validation_data=validation_data)"
   ]
  },
  {
   "cell_type": "code",
   "execution_count": 26,
   "metadata": {
    "colab": {
     "base_uri": "https://localhost:8080/",
     "height": 265
    },
    "id": "qj2dAl-tnxY-",
    "outputId": "b7975840-720c-44e6-ba18-736088540703"
   },
   "outputs": [
    {
     "data": {
      "image/png": "[encoded data removed]",
      "text/plain": [
       "<Figure size 640x480 with 1 Axes>"
      ]
     },
     "metadata": {},
     "output_type": "display_data"
    }
   ],
   "source": [
    "plot_train_metrics(history1)"
   ]
  },
  {
   "cell_type": "markdown",
   "metadata": {},
   "source": [
    "Guardamos el progreso del entrenamiento"
   ]
  },
  {
   "cell_type": "code",
   "execution_count": null,
   "metadata": {},
   "outputs": [],
   "source": [
    "model.save_weights('original_weights.h5')"
   ]
  },
  {
   "cell_type": "markdown",
   "metadata": {},
   "source": [
    "Probamos el modelo cargandolo desde el fichero"
   ]
  },
  {
   "cell_type": "code",
   "execution_count": 43,
   "metadata": {},
   "outputs": [],
   "source": [
    "model2 = model\n",
    "model2.load_weights('original_weights.h5')"
   ]
  },
  {
   "cell_type": "code",
   "execution_count": 44,
   "metadata": {
    "colab": {
     "base_uri": "https://localhost:8080/"
    },
    "id": "HILK90qzn-kL",
    "outputId": "34985136-0e6f-4693-dcc4-c52c5ea77f4a"
   },
   "outputs": [
    {
     "name": "stdout",
     "output_type": "stream",
     "text": [
      "99/99 [==============================] - 148s 1s/step\n"
     ]
    },
    {
     "data": {
      "text/plain": [
       "array([[0.48378402, 0.30236214, 0.2138538 ],\n",
       "       [0.44360206, 0.24428768, 0.31211028],\n",
       "       [0.2277794 , 0.30079833, 0.47142228]], dtype=float32)"
      ]
     },
     "execution_count": 44,
     "metadata": {},
     "output_type": "execute_result"
    }
   ],
   "source": [
    "y_hat_prob = model2.predict(X_test)\n",
    "y_hat_prob[:3]"
   ]
  },
  {
   "cell_type": "code",
   "execution_count": 45,
   "metadata": {
    "id": "kwSvM4-koOdz"
   },
   "outputs": [],
   "source": [
    "y_hat = np.argmax(y_hat_prob, axis=1)"
   ]
  },
  {
   "cell_type": "code",
   "execution_count": 52,
   "metadata": {
    "colab": {
     "base_uri": "https://localhost:8080/"
    },
    "id": "tSNbyLNYwdqQ",
    "outputId": "a432dc0b-96ae-43af-da62-2a739a20761a"
   },
   "outputs": [
    {
     "name": "stdout",
     "output_type": "stream",
     "text": [
      "99/99 [==============================] - 164s 2s/step - loss: 0.9089 - accuracy: 0.5679\n"
     ]
    },
    {
     "data": {
      "text/plain": [
       "0.5679364800453186"
      ]
     },
     "execution_count": 52,
     "metadata": {},
     "output_type": "execute_result"
    }
   ],
   "source": [
    "# Calcular la exactitud (accuracy)\n",
    "scores = model2.evaluate(X_test, y_test)\n",
    "scores[1]"
   ]
  },
  {
   "cell_type": "code",
   "execution_count": 53,
   "metadata": {
    "colab": {
     "base_uri": "https://localhost:8080/",
     "height": 279
    },
    "id": "mGzdpPfcwlRL",
    "outputId": "4eaa89a1-c601-4a3b-cb0c-6e1cb940d8b5"
   },
   "outputs": [
    {
     "data": {
      "image/png": "[encoded data removed]",
      "text/plain": [
       "<Figure size 640x480 with 2 Axes>"
      ]
     },
     "metadata": {},
     "output_type": "display_data"
    }
   ],
   "source": [
    "from sklearn.metrics import confusion_matrix, ConfusionMatrixDisplay\n",
    "cm = confusion_matrix(y_test.argmax(axis=1), y_hat)\n",
    "cmd = ConfusionMatrixDisplay(cm, display_labels=list(range(3)))\n",
    "cmd.plot(cmap=plt.cm.Blues)\n",
    "plt.show()"
   ]
  },
  {
   "cell_type": "markdown",
   "metadata": {
    "id": "0ugxcD9s9o8l"
   },
   "source": [
    "## 3 - BERT Fine tuning"
   ]
  },
  {
   "cell_type": "code",
   "execution_count": 51,
   "metadata": {
    "colab": {
     "base_uri": "https://localhost:8080/"
    },
    "id": "5SyRhGOAsTM5",
    "outputId": "edd930c3-f817-4e43-9f1e-9ed932239d1e"
   },
   "outputs": [
    {
     "name": "stdout",
     "output_type": "stream",
     "text": [
      "Model: \"model\"\n",
      "__________________________________________________________________________________________________\n",
      " Layer (type)                Output Shape                 Param #   Connected to                  \n",
      "==================================================================================================\n",
      " input_ids (InputLayer)      [(None, 140)]                0         []                            \n",
      "                                                                                                  \n",
      " attention_mask (InputLayer  [(None, 140)]                0         []                            \n",
      " )                                                                                                \n",
      "                                                                                                  \n"
     ]
    },
    {
     "name": "stdout",
     "output_type": "stream",
     "text": [
      " tf_bert_model (TFBertModel  TFBaseModelOutputWithPooli   1094822   ['input_ids[0][0]',           \n",
      " )                           ngAndCrossAttentions(last_   40         'attention_mask[0][0]']      \n",
      "                             hidden_state=(None, 140, 7                                           \n",
      "                             68),                                                                 \n",
      "                              pooler_output=(None, 768)                                           \n",
      "                             , past_key_values=None, hi                                           \n",
      "                             dden_states=None, attentio                                           \n",
      "                             ns=None, cross_attentions=                                           \n",
      "                             None)                                                                \n",
      "                                                                                                  \n",
      " dropout_37 (Dropout)        (None, 768)                  0         ['tf_bert_model[0][1]']       \n",
      "                                                                                                  \n",
      " dense (Dense)               (None, 3)                    2307      ['dropout_37[0][0]']          \n",
      "                                                                                                  \n",
      "==================================================================================================\n",
      "Total params: 109484547 (417.65 MB)\n",
      "Trainable params: 109484547 (417.65 MB)\n",
      "Non-trainable params: 0 (0.00 Byte)\n",
      "__________________________________________________________________________________________________\n"
     ]
    }
   ],
   "source": [
    "# Colocar todas las layers como entrenables\n",
    "for layer in model2.layers:\n",
    "  layer.trainable = True\n",
    "\n",
    "# Como es fine tunning se recomiendo utiliza al menos un learning rate 100 veces\n",
    "# menor\n",
    "optimizer = Adam(learning_rate=0.00001)\n",
    "model2.compile(optimizer=optimizer,\n",
    "              loss='categorical_crossentropy',\n",
    "              metrics=['accuracy'])\n",
    "\n",
    "model2.summary()"
   ]
  },
  {
   "cell_type": "code",
   "execution_count": 54,
   "metadata": {
    "colab": {
     "base_uri": "https://localhost:8080/"
    },
    "id": "-TDb4gKKtW1r",
    "outputId": "132c1ab7-3fb7-4cbd-b1cc-d75fbd5015bf"
   },
   "outputs": [
    {
     "name": "stdout",
     "output_type": "stream",
     "text": [
      "Epoch 1/5\n",
      "315/315 [==============================] - 1603s 5s/step - loss: 0.7527 - accuracy: 0.6498 - val_loss: 0.6727 - val_accuracy: 0.6988\n",
      "Epoch 2/5\n",
      "315/315 [==============================] - 1575s 5s/step - loss: 0.6121 - accuracy: 0.7283 - val_loss: 0.6136 - val_accuracy: 0.7385\n",
      "Epoch 3/5\n",
      "315/315 [==============================] - 1578s 5s/step - loss: 0.4745 - accuracy: 0.8006 - val_loss: 0.6429 - val_accuracy: 0.7595\n",
      "Epoch 4/5\n",
      "315/315 [==============================] - 1575s 5s/step - loss: 0.3314 - accuracy: 0.8722 - val_loss: 0.6635 - val_accuracy: 0.7976\n",
      "Epoch 5/5\n",
      "315/315 [==============================] - 1583s 5s/step - loss: 0.2157 - accuracy: 0.9163 - val_loss: 0.7394 - val_accuracy: 0.8107\n"
     ]
    }
   ],
   "source": [
    "history2 = model2.fit(train_data, epochs=5, validation_data=validation_data)"
   ]
  },
  {
   "cell_type": "code",
   "execution_count": 55,
   "metadata": {
    "colab": {
     "base_uri": "https://localhost:8080/",
     "height": 265
    },
    "id": "vpwwEaxgyI34",
    "outputId": "c84c3c8d-fc0a-4ff6-b543-d05d442731d2"
   },
   "outputs": [
    {
     "data": {
      "image/png": "[encoded data removed]",
      "text/plain": [
       "<Figure size 640x480 with 1 Axes>"
      ]
     },
     "metadata": {},
     "output_type": "display_data"
    }
   ],
   "source": [
    "plot_train_metrics(history2)"
   ]
  },
  {
   "cell_type": "code",
   "execution_count": 57,
   "metadata": {
    "colab": {
     "base_uri": "https://localhost:8080/"
    },
    "id": "tNooXBNxyN04",
    "outputId": "29e48463-8f00-4fb2-a835-144da613dd31"
   },
   "outputs": [
    {
     "name": "stdout",
     "output_type": "stream",
     "text": [
      "99/99 [==============================] - 148s 1s/step\n"
     ]
    },
    {
     "data": {
      "text/plain": [
       "array([[0.10362445, 0.74735576, 0.14901973],\n",
       "       [0.9021155 , 0.09484612, 0.00303832],\n",
       "       [0.06821482, 0.7048218 , 0.22696339]], dtype=float32)"
      ]
     },
     "execution_count": 57,
     "metadata": {},
     "output_type": "execute_result"
    }
   ],
   "source": [
    "y_hat_prob2 = model2.predict(X_test)\n",
    "y_hat_prob2[:3]"
   ]
  },
  {
   "cell_type": "code",
   "execution_count": 58,
   "metadata": {
    "id": "f43_zEHZyRV2"
   },
   "outputs": [],
   "source": [
    "y_hat2 = np.argmax(y_hat_prob2, axis=1)"
   ]
  },
  {
   "cell_type": "code",
   "execution_count": 59,
   "metadata": {
    "colab": {
     "base_uri": "https://localhost:8080/"
    },
    "id": "pN-fE34KyYlp",
    "outputId": "923f30cf-76ba-4455-b722-e968e0756c92"
   },
   "outputs": [
    {
     "name": "stdout",
     "output_type": "stream",
     "text": [
      "99/99 [==============================] - 145s 1s/step - loss: 0.7183 - accuracy: 0.8130\n"
     ]
    },
    {
     "data": {
      "text/plain": [
       "0.813015878200531"
      ]
     },
     "execution_count": 59,
     "metadata": {},
     "output_type": "execute_result"
    }
   ],
   "source": [
    "# Calcular la exactitud (accuracy)\n",
    "scores = model2.evaluate(X_test, y_test)\n",
    "scores[1]"
   ]
  },
  {
   "cell_type": "code",
   "execution_count": 61,
   "metadata": {
    "colab": {
     "base_uri": "https://localhost:8080/",
     "height": 279
    },
    "id": "drV-U5LOyZuB",
    "outputId": "2cacadcc-e3fb-4042-f50c-51752ae58b0b"
   },
   "outputs": [
    {
     "data": {
      "image/png": "[encoded data removed]",
      "text/plain": [
       "<Figure size 640x480 with 2 Axes>"
      ]
     },
     "metadata": {},
     "output_type": "display_data"
    }
   ],
   "source": [
    "from sklearn.metrics import confusion_matrix, ConfusionMatrixDisplay\n",
    "cm = confusion_matrix(y_test.argmax(axis=1), y_hat2)\n",
    "cmd = ConfusionMatrixDisplay(cm, display_labels=list(range(3)))\n",
    "cmd.plot(cmap=plt.cm.Blues)\n",
    "plt.show()"
   ]
  },
  {
   "cell_type": "markdown",
   "metadata": {
    "id": "P9oKmUU7z1HN"
   },
   "source": [
    "## Salvar el modelo"
   ]
  },
  {
   "cell_type": "code",
   "execution_count": 62,
   "metadata": {
    "id": "GdL89sAc0FaN"
   },
   "outputs": [],
   "source": [
    "model2.save_weights('bert_weights.h5')"
   ]
  },
  {
   "cell_type": "code",
   "execution_count": 63,
   "metadata": {
    "colab": {
     "base_uri": "https://localhost:8080/",
     "height": 17
    },
    "id": "Lk4S4D-H188y",
    "outputId": "b373fd93-9847-4ddc-c22e-2c5a5ce5ea2e"
   },
   "outputs": [],
   "source": [
    "# # Descargar los pesos a nuestra PC\n",
    "# # Solo es necesario si se desea repetir el uso de este modelo en el futuro\n",
    "# from google.colab import files\n",
    "# files.download('bert_weights.h5')"
   ]
  },
  {
   "cell_type": "markdown",
   "metadata": {
    "id": "JEweoQu6AXT1"
   },
   "source": [
    "## Levantar el modelo"
   ]
  },
  {
   "cell_type": "code",
   "execution_count": null,
   "metadata": {
    "colab": {
     "base_uri": "https://localhost:8080/"
    },
    "id": "qEyo5kAx-1yx",
    "outputId": "4d891763-0b9f-46fb-b7a9-95cca42643fd"
   },
   "outputs": [],
   "source": [
    "bert_model3 = TFBertModel.from_pretrained(\"bert-base-uncased\")\n",
    "\n",
    "input_ids = tensorflow.keras.layers.Input(shape=(max_length,), dtype=tensorflow.int32, name='input_ids')\n",
    "\n",
    "# attention_mask - is a binary mask which tells BERT which tokens to attend and which not to attend.\n",
    "# Encoder will add the 0 tokens to the some sequence which smaller than MAX_SEQUENCE_LENGTH, \n",
    "# and attention_mask, in this case, tells BERT where is the token from the original data and where is 0 pad token:\n",
    "attention_mask = tensorflow.keras.layers.Input((max_length,), dtype=tensorflow.int32, name='attention_mask')\n",
    "\n",
    "# Get the pooled_output (embedding que representa toda la entrada)\n",
    "output = bert_model3([input_ids, attention_mask])[1] \n",
    "\n",
    "# We can also add dropout as regularization technique:\n",
    "output = tensorflow.keras.layers.Dropout(rate=0.2)(output)\n",
    "\n",
    "# Se puede agregar más capas Densas en el medio si se desea\n",
    "\n",
    "# Provide number of classes to the final layer:\n",
    "output = tensorflow.keras.layers.Dense(output_shape, activation='softmax')(output)\n",
    "\n",
    "# Final model:\n",
    "model3 = tensorflow.keras.models.Model(inputs=[input_ids, attention_mask], outputs=output)"
   ]
  },
  {
   "cell_type": "code",
   "execution_count": null,
   "metadata": {
    "id": "RIoUIPR8-rwB"
   },
   "outputs": [],
   "source": [
    "model3.load_weights('bert_weights.h5')"
   ]
  },
  {
   "cell_type": "markdown",
   "metadata": {
    "id": "OYN9aJGYA-d2"
   },
   "source": [
    "## Ensayo"
   ]
  },
  {
   "cell_type": "code",
   "execution_count": null,
   "metadata": {
    "colab": {
     "base_uri": "https://localhost:8080/"
    },
    "id": "9ML7P5X8BAJe",
    "outputId": "530aa003-98a0-458e-c4c1-16d602a44003"
   },
   "outputs": [],
   "source": [
    "text = \"I love this app!\"\n",
    "\n",
    "#tf_batch = bert_tokenizer(text, max_length=max_length, padding=True, truncation=True, return_tensors='tf')\n",
    "\n",
    "tf_batch = bert_tokenizer.encode_plus(\n",
    "    text,\n",
    "    add_special_tokens=True,\n",
    "    max_length=max_length, # truncates if len(s) > max_length\n",
    "    return_token_type_ids=False,\n",
    "    return_attention_mask=True,\n",
    "    pad_to_max_length=True, # pads to the right by default # CHECK THIS for pad_to_max_length\n",
    "    truncation=True,\n",
    "    return_tensors='tf'\n",
    ")\n",
    "\n",
    "print(\"Inputs ids:\", tf_batch['input_ids'])\n",
    "print(\"Attention mask:\", tf_batch['attention_mask'])"
   ]
  },
  {
   "cell_type": "code",
   "execution_count": null,
   "metadata": {
    "id": "VVOTfMhHBURv"
   },
   "outputs": [],
   "source": [
    "X_ensayo = [tf_batch['input_ids'],  \n",
    "          tf_batch['attention_mask']]"
   ]
  },
  {
   "cell_type": "code",
   "execution_count": null,
   "metadata": {
    "colab": {
     "base_uri": "https://localhost:8080/"
    },
    "id": "HWFX-xFcBDRV",
    "outputId": "0abc67f6-62b5-4199-d73b-5c1efd3a94ae"
   },
   "outputs": [],
   "source": [
    "y_prob_ensayo = model3.predict(X_ensayo)\n",
    "y_prob = np.argmax(y_prob_ensayo, axis=1)\n",
    "print(\"Clasificación:\", class_names[int(y_prob)])"
   ]
  },
  {
   "cell_type": "markdown",
   "metadata": {
    "id": "IXu1W7-5LkPL"
   },
   "source": [
    "## Conclusiones"
   ]
  },
  {
   "cell_type": "markdown",
   "metadata": {
    "id": "3NuAxjtcPhoa"
   },
   "source": [
    "Se puede apreciar que luego de realizar el fine tuning el modelo se ajusta mucho mejor al problema. Existen diferentes formas de llevar a cabo este proceso, es importante que el learning rate sea mucho menor.\\\n",
    "Existen optimizadores pensados para fine tuning que realizan el ajuste de learning rate adaptativo a medida que se va entrenando capas más profundas del modelo."
   ]
  }
 ],
 "metadata": {
  "accelerator": "GPU",
  "colab": {
   "provenance": []
  },
  "kernelspec": {
   "display_name": "Python 3 (ipykernel)",
   "language": "python",
   "name": "python3"
  },
  "language_info": {
   "codemirror_mode": {
    "name": "ipython",
    "version": 3
   },
   "file_extension": ".py",
   "mimetype": "text/x-python",
   "name": "python",
   "nbconvert_exporter": "python",
   "pygments_lexer": "ipython3",
   "version": "3.10.0"
  }
 },
 "nbformat": 4,
 "nbformat_minor": 4
}
